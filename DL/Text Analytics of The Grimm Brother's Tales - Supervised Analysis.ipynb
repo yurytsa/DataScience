{
 "cells": [
  {
   "cell_type": "markdown",
   "metadata": {},
   "source": [
    "# Text Analytics of The Grimm Brother's Tales\n",
    " \n",
    "## Supervised Analysis"
   ]
  },
  {
   "cell_type": "code",
   "execution_count": 1,
   "metadata": {},
   "outputs": [],
   "source": [
    "import pandas as pd\n",
    "from scipy.cluster.hierarchy import dendrogram, linkage\n",
    "from matplotlib import pyplot as plt"
   ]
  },
  {
   "cell_type": "code",
   "execution_count": 5,
   "metadata": {},
   "outputs": [
    {
     "data": {
      "text/plain": [
       "(44, 3779)"
      ]
     },
     "execution_count": 5,
     "metadata": {},
     "output_type": "execute_result"
    }
   ],
   "source": [
    "text_ff = pd.read_pickle(\"..\\data\\grimm_tales_ff.pckl\")\n",
    "text_ff.shape"
   ]
  },
  {
   "cell_type": "code",
   "execution_count": 6,
   "metadata": {},
   "outputs": [],
   "source": [
    "from sklearn.model_selection import train_test_split"
   ]
  },
  {
   "cell_type": "code",
   "execution_count": 7,
   "metadata": {},
   "outputs": [],
   "source": [
    "train, test = train_test_split(text_ff, test_size=0.30, random_state=4, shuffle=False)"
   ]
  },
  {
   "cell_type": "code",
   "execution_count": 8,
   "metadata": {},
   "outputs": [
    {
     "name": "stdout",
     "output_type": "stream",
     "text": [
      "(30, 3779)\n",
      "(14, 3779)\n"
     ]
    }
   ],
   "source": [
    "print(train.shape)\n",
    "print(test.shape)"
   ]
  },
  {
   "cell_type": "code",
   "execution_count": 16,
   "metadata": {},
   "outputs": [
    {
     "data": {
      "text/plain": [
       "label\n",
       "Animal Tales      11\n",
       "Tales of Magic    19\n",
       "Name: certain, dtype: int64"
      ]
     },
     "execution_count": 16,
     "metadata": {},
     "output_type": "execute_result"
    }
   ],
   "source": [
    "\n",
    "train.groupby(train['label']).count()['certain']"
   ]
  },
  {
   "cell_type": "code",
   "execution_count": 17,
   "metadata": {},
   "outputs": [
    {
     "data": {
      "text/plain": [
       "label\n",
       "Animal Tales      7\n",
       "Tales of Magic    7\n",
       "Name: certain, dtype: int64"
      ]
     },
     "execution_count": 17,
     "metadata": {},
     "output_type": "execute_result"
    }
   ],
   "source": [
    "test.groupby(test['label']).count()['certain']"
   ]
  },
  {
   "cell_type": "code",
   "execution_count": 18,
   "metadata": {},
   "outputs": [],
   "source": [
    "X_train = train.iloc[:,0:(train.shape[1]-1)]\n",
    "X_test = test.iloc[:,0:(test.shape[1]-1)]"
   ]
  },
  {
   "cell_type": "code",
   "execution_count": 19,
   "metadata": {},
   "outputs": [
    {
     "name": "stderr",
     "output_type": "stream",
     "text": [
      "C:\\ProgramData\\Anaconda3\\lib\\site-packages\\ipykernel_launcher.py:1: SettingWithCopyWarning: \n",
      "A value is trying to be set on a copy of a slice from a DataFrame.\n",
      "Try using .loc[row_indexer,col_indexer] = value instead\n",
      "\n",
      "See the caveats in the documentation: https://pandas.pydata.org/pandas-docs/stable/user_guide/indexing.html#returning-a-view-versus-a-copy\n",
      "  \"\"\"Entry point for launching an IPython kernel.\n",
      "C:\\ProgramData\\Anaconda3\\lib\\site-packages\\ipykernel_launcher.py:4: SettingWithCopyWarning: \n",
      "A value is trying to be set on a copy of a slice from a DataFrame.\n",
      "Try using .loc[row_indexer,col_indexer] = value instead\n",
      "\n",
      "See the caveats in the documentation: https://pandas.pydata.org/pandas-docs/stable/user_guide/indexing.html#returning-a-view-versus-a-copy\n",
      "  after removing the cwd from sys.path.\n"
     ]
    }
   ],
   "source": [
    "train['label'] = pd.Categorical(train['label'])\n",
    "y_train = train['label'].cat.codes\n",
    "\n",
    "test['label'] = pd.Categorical(test['label'])\n",
    "y_test = test['label'].cat.codes"
   ]
  },
  {
   "cell_type": "markdown",
   "metadata": {},
   "source": [
    "## Logistic Regression"
   ]
  },
  {
   "cell_type": "code",
   "execution_count": 20,
   "metadata": {},
   "outputs": [],
   "source": [
    "from sklearn.linear_model import LogisticRegression\n",
    "from sklearn.metrics import roc_auc_score"
   ]
  },
  {
   "cell_type": "code",
   "execution_count": 21,
   "metadata": {},
   "outputs": [
    {
     "name": "stdout",
     "output_type": "stream",
     "text": [
      "Train\n",
      "col_0   0   1\n",
      "row_0        \n",
      "0      11   0\n",
      "1       0  19\n",
      "---------------------------------\n",
      "Test\n",
      "col_0  0  1\n",
      "row_0      \n",
      "0      6  1\n",
      "1      1  6\n",
      "\n",
      "\n",
      "Accuracy - train: 1.000000\n",
      "Accuracy - test: 0.857143\n",
      "AUC - train: 1.000000\n",
      "AUC - test: 0.857143\n"
     ]
    }
   ],
   "source": [
    "mod1 = LogisticRegression(max_iter=10000)\n",
    "mod1.fit(X_train,y_train)\n",
    "\n",
    "yhat1 = mod1.predict(X_train)\n",
    "#yprob1 = mod1.predict_proba(X_train)\n",
    "print(\"Train\")\n",
    "print(pd.crosstab(y_train,yhat1))\n",
    "print(\"---------------------------------\")\n",
    "yhat2 = mod1.predict(X_test)\n",
    "print(\"Test\")\n",
    "print(pd.crosstab(y_test,yhat2))\n",
    "\n",
    "print(\"\\n\")\n",
    "### Accuracy:\n",
    "print(\"Accuracy - train: %f\" % mod1.score(X_train,y_train))\n",
    "print(\"Accuracy - test: %f\" % mod1.score(X_test,y_test))\n",
    "\n",
    "### AUC\n",
    "print(\"AUC - train: %f\" % roc_auc_score(y_train, yhat1))\n",
    "print(\"AUC - test: %f\" % roc_auc_score(y_test, yhat2))"
   ]
  },
  {
   "cell_type": "code",
   "execution_count": 22,
   "metadata": {},
   "outputs": [],
   "source": [
    "res = {1:{'model':'Logistic Regression - base model',\n",
    "           'accuracy-Train':mod1.score(X_train,y_train),\n",
    "           'accuracy-Test':mod1.score(X_test,y_test),\n",
    "           'AUC-train':roc_auc_score(y_train, yhat1),\n",
    "           'AUC-test':roc_auc_score(y_test, yhat2)\n",
    "      }}"
   ]
  },
  {
   "cell_type": "code",
   "execution_count": 23,
   "metadata": {},
   "outputs": [
    {
     "name": "stdout",
     "output_type": "stream",
     "text": [
      "Train\n",
      "col_0   0   1\n",
      "row_0        \n",
      "0      11   0\n",
      "1       0  19\n",
      "---------------------------------\n",
      "Test\n",
      "col_0  0  1\n",
      "row_0      \n",
      "0      2  5\n",
      "1      0  7\n",
      "\n",
      "\n",
      "Accuracy - train: 1.000000\n",
      "Accuracy - test: 0.642857\n",
      "AUC - train: 1.000000\n",
      "AUC - test: 0.642857\n"
     ]
    }
   ],
   "source": [
    "from sklearn.tree import DecisionTreeClassifier\n",
    "\n",
    "mod1 = DecisionTreeClassifier()\n",
    "mod1.fit(X_train,y_train)\n",
    "\n",
    "yhat1 = mod1.predict(X_train)\n",
    "#yprob1 = mod1.predict_proba(X_train)\n",
    "print(\"Train\")\n",
    "print(pd.crosstab(y_train,yhat1))\n",
    "print(\"---------------------------------\")\n",
    "yhat2 = mod1.predict(X_test)\n",
    "print(\"Test\")\n",
    "print(pd.crosstab(y_test,yhat2))\n",
    "\n",
    "print(\"\\n\")\n",
    "### Accuracy:\n",
    "print(\"Accuracy - train: %f\" % mod1.score(X_train,y_train))\n",
    "print(\"Accuracy - test: %f\" % mod1.score(X_test,y_test))\n",
    "\n",
    "### AUC\n",
    "print(\"AUC - train: %f\" % roc_auc_score(y_train, yhat1))\n",
    "print(\"AUC - test: %f\" % roc_auc_score(y_test, yhat2))"
   ]
  },
  {
   "cell_type": "code",
   "execution_count": 24,
   "metadata": {},
   "outputs": [],
   "source": [
    "res[2] = {'model':'Logistic DecisionTreeClassifier - base model',\n",
    "           'accuracy-Train':mod1.score(X_train,y_train),\n",
    "           'accuracy-Test':mod1.score(X_test,y_test),\n",
    "           'AUC-train':roc_auc_score(y_train, yhat1),\n",
    "           'AUC-test':roc_auc_score(y_test, yhat2)\n",
    "      }"
   ]
  },
  {
   "cell_type": "code",
   "execution_count": 25,
   "metadata": {},
   "outputs": [
    {
     "name": "stdout",
     "output_type": "stream",
     "text": [
      "Train\n",
      "col_0   0   1\n",
      "row_0        \n",
      "0      11   0\n",
      "1       0  19\n",
      "---------------------------------\n",
      "Test\n",
      "col_0  0  1\n",
      "row_0      \n",
      "0      7  0\n",
      "1      0  7\n",
      "\n",
      "\n",
      "Accuracy - train: 1.000000\n",
      "Accuracy - test: 1.000000\n",
      "AUC - train: 1.000000\n",
      "AUC - test: 1.000000\n"
     ]
    }
   ],
   "source": [
    "from sklearn.ensemble import RandomForestClassifier\n",
    "\n",
    "mod1 = RandomForestClassifier()\n",
    "mod1.fit(X_train,y_train)\n",
    "\n",
    "yhat1 = mod1.predict(X_train)\n",
    "#yprob1 = mod1.predict_proba(X_train)\n",
    "print(\"Train\")\n",
    "print(pd.crosstab(y_train,yhat1))\n",
    "print(\"---------------------------------\")\n",
    "yhat2 = mod1.predict(X_test)\n",
    "print(\"Test\")\n",
    "print(pd.crosstab(y_test,yhat2))\n",
    "\n",
    "print(\"\\n\")\n",
    "### Accuracy:\n",
    "print(\"Accuracy - train: %f\" % mod1.score(X_train,y_train))\n",
    "print(\"Accuracy - test: %f\" % mod1.score(X_test,y_test))\n",
    "\n",
    "### AUC\n",
    "print(\"AUC - train: %f\" % roc_auc_score(y_train, yhat1))\n",
    "print(\"AUC - test: %f\" % roc_auc_score(y_test, yhat2))"
   ]
  },
  {
   "cell_type": "code",
   "execution_count": 26,
   "metadata": {},
   "outputs": [],
   "source": [
    "res[3] = {'model':'RandomForestClassifier - base model',\n",
    "           'accuracy-Train':mod1.score(X_train,y_train),\n",
    "           'accuracy-Test':mod1.score(X_test,y_test),\n",
    "           'AUC-train':roc_auc_score(y_train, yhat1),\n",
    "           'AUC-test':roc_auc_score(y_test, yhat2)\n",
    "      }"
   ]
  },
  {
   "cell_type": "code",
   "execution_count": 27,
   "metadata": {},
   "outputs": [
    {
     "name": "stdout",
     "output_type": "stream",
     "text": [
      "Train\n",
      "col_0   0   1\n",
      "row_0        \n",
      "0      11   0\n",
      "1       0  19\n",
      "---------------------------------\n",
      "Test\n",
      "col_0  0  1\n",
      "row_0      \n",
      "0      2  5\n",
      "1      0  7\n",
      "\n",
      "\n",
      "Accuracy - train: 1.000000\n",
      "Accuracy - test: 0.642857\n",
      "AUC - train: 1.000000\n",
      "AUC - test: 0.642857\n"
     ]
    }
   ],
   "source": [
    "from sklearn.ensemble import AdaBoostClassifier\n",
    "\n",
    "mod1 = AdaBoostClassifier()\n",
    "mod1.fit(X_train,y_train)\n",
    "\n",
    "yhat1 = mod1.predict(X_train)\n",
    "#yprob1 = mod1.predict_proba(X_train)\n",
    "print(\"Train\")\n",
    "print(pd.crosstab(y_train,yhat1))\n",
    "print(\"---------------------------------\")\n",
    "yhat2 = mod1.predict(X_test)\n",
    "print(\"Test\")\n",
    "print(pd.crosstab(y_test,yhat2))\n",
    "\n",
    "print(\"\\n\")\n",
    "### Accuracy:\n",
    "print(\"Accuracy - train: %f\" % mod1.score(X_train,y_train))\n",
    "print(\"Accuracy - test: %f\" % mod1.score(X_test,y_test))\n",
    "\n",
    "### AUC\n",
    "print(\"AUC - train: %f\" % roc_auc_score(y_train, yhat1))\n",
    "print(\"AUC - test: %f\" % roc_auc_score(y_test, yhat2))\n",
    "\n",
    "res[4] = {'model':'AdaBoostClassifier - base model',\n",
    "           'accuracy-Train':mod1.score(X_train,y_train),\n",
    "           'accuracy-Test':mod1.score(X_test,y_test),\n",
    "           'AUC-train':roc_auc_score(y_train, yhat1),\n",
    "           'AUC-test':roc_auc_score(y_test, yhat2)\n",
    "      }"
   ]
  },
  {
   "cell_type": "code",
   "execution_count": 28,
   "metadata": {},
   "outputs": [
    {
     "name": "stdout",
     "output_type": "stream",
     "text": [
      "Train\n",
      "col_0   0   1\n",
      "row_0        \n",
      "0      11   0\n",
      "1       0  19\n",
      "---------------------------------\n",
      "Test\n",
      "col_0  0  1\n",
      "row_0      \n",
      "0      2  5\n",
      "1      0  7\n",
      "\n",
      "\n",
      "Accuracy - train: 1.000000\n",
      "Accuracy - test: 0.642857\n",
      "AUC - train: 1.000000\n",
      "AUC - test: 0.642857\n"
     ]
    }
   ],
   "source": [
    "from sklearn.ensemble import GradientBoostingClassifier\n",
    "\n",
    "mod1 = GradientBoostingClassifier()\n",
    "mod1.fit(X_train,y_train)\n",
    "\n",
    "yhat1 = mod1.predict(X_train)\n",
    "#yprob1 = mod1.predict_proba(X_train)\n",
    "print(\"Train\")\n",
    "print(pd.crosstab(y_train,yhat1))\n",
    "print(\"---------------------------------\")\n",
    "yhat2 = mod1.predict(X_test)\n",
    "print(\"Test\")\n",
    "print(pd.crosstab(y_test,yhat2))\n",
    "\n",
    "print(\"\\n\")\n",
    "### Accuracy:\n",
    "print(\"Accuracy - train: %f\" % mod1.score(X_train,y_train))\n",
    "print(\"Accuracy - test: %f\" % mod1.score(X_test,y_test))\n",
    "\n",
    "### AUC\n",
    "print(\"AUC - train: %f\" % roc_auc_score(y_train, yhat1))\n",
    "print(\"AUC - test: %f\" % roc_auc_score(y_test, yhat2))\n",
    "\n",
    "res[5] = {'model':'GradientBoostingClassifier - base model',\n",
    "           'accuracy-Train':mod1.score(X_train,y_train),\n",
    "           'accuracy-Test':mod1.score(X_test,y_test),\n",
    "           'AUC-train':roc_auc_score(y_train, yhat1),\n",
    "           'AUC-test':roc_auc_score(y_test, yhat2)\n",
    "      }"
   ]
  },
  {
   "cell_type": "code",
   "execution_count": 29,
   "metadata": {},
   "outputs": [
    {
     "name": "stdout",
     "output_type": "stream",
     "text": [
      "Train\n",
      "col_0   0   1\n",
      "row_0        \n",
      "0      11   0\n",
      "1       1  18\n",
      "---------------------------------\n",
      "Test\n",
      "col_0  0  1\n",
      "row_0      \n",
      "0      6  1\n",
      "1      2  5\n",
      "\n",
      "\n",
      "Accuracy - train: 0.966667\n",
      "Accuracy - test: 0.785714\n",
      "AUC - train: 0.973684\n",
      "AUC - test: 0.785714\n"
     ]
    }
   ],
   "source": [
    "from sklearn.svm import SVC\n",
    "\n",
    "mod1 = SVC()\n",
    "mod1.fit(X_train,y_train)\n",
    "\n",
    "yhat1 = mod1.predict(X_train)\n",
    "#yprob1 = mod1.predict_proba(X_train)\n",
    "print(\"Train\")\n",
    "print(pd.crosstab(y_train,yhat1))\n",
    "print(\"---------------------------------\")\n",
    "yhat2 = mod1.predict(X_test)\n",
    "print(\"Test\")\n",
    "print(pd.crosstab(y_test,yhat2))\n",
    "\n",
    "print(\"\\n\")\n",
    "### Accuracy:\n",
    "print(\"Accuracy - train: %f\" % mod1.score(X_train,y_train))\n",
    "print(\"Accuracy - test: %f\" % mod1.score(X_test,y_test))\n",
    "\n",
    "### AUC\n",
    "print(\"AUC - train: %f\" % roc_auc_score(y_train, yhat1))\n",
    "print(\"AUC - test: %f\" % roc_auc_score(y_test, yhat2))\n",
    "\n",
    "res[6] = {'model':'SVM - base model',\n",
    "           'accuracy-Train':mod1.score(X_train,y_train),\n",
    "           'accuracy-Test':mod1.score(X_test,y_test),\n",
    "           'AUC-train':roc_auc_score(y_train, yhat1),\n",
    "           'AUC-test':roc_auc_score(y_test, yhat2)\n",
    "      }"
   ]
  },
  {
   "cell_type": "code",
   "execution_count": 30,
   "metadata": {},
   "outputs": [
    {
     "name": "stdout",
     "output_type": "stream",
     "text": [
      "Train\n",
      "col_0  0   1\n",
      "row_0       \n",
      "0      2   9\n",
      "1      0  19\n",
      "---------------------------------\n",
      "Test\n",
      "col_0  0  1\n",
      "row_0      \n",
      "0      2  5\n",
      "1      0  7\n",
      "\n",
      "\n",
      "Accuracy - train: 0.700000\n",
      "Accuracy - test: 0.642857\n",
      "AUC - train: 0.590909\n",
      "AUC - test: 0.642857\n"
     ]
    }
   ],
   "source": [
    "from sklearn.neighbors import KNeighborsClassifier\n",
    "\n",
    "mod1 = KNeighborsClassifier(metric='cosine')\n",
    "mod1.fit(X_train,y_train)\n",
    "\n",
    "yhat1 = mod1.predict(X_train)\n",
    "#yprob1 = mod1.predict_proba(X_train)\n",
    "print(\"Train\")\n",
    "print(pd.crosstab(y_train,yhat1))\n",
    "print(\"---------------------------------\")\n",
    "yhat2 = mod1.predict(X_test)\n",
    "print(\"Test\")\n",
    "print(pd.crosstab(y_test,yhat2))\n",
    "\n",
    "print(\"\\n\")\n",
    "### Accuracy:\n",
    "print(\"Accuracy - train: %f\" % mod1.score(X_train,y_train))\n",
    "print(\"Accuracy - test: %f\" % mod1.score(X_test,y_test))\n",
    "\n",
    "### AUC\n",
    "print(\"AUC - train: %f\" % roc_auc_score(y_train, yhat1))\n",
    "print(\"AUC - test: %f\" % roc_auc_score(y_test, yhat2))\n",
    "\n",
    "res[7] = {'model':'KNeighborsClassifier - base model',\n",
    "           'accuracy-Train':mod1.score(X_train,y_train),\n",
    "           'accuracy-Test':mod1.score(X_test,y_test),\n",
    "           'AUC-train':roc_auc_score(y_train, yhat1),\n",
    "           'AUC-test':roc_auc_score(y_test, yhat2)\n",
    "      }"
   ]
  },
  {
   "cell_type": "code",
   "execution_count": 31,
   "metadata": {},
   "outputs": [
    {
     "data": {
      "text/plain": [
       "{1: {'model': 'Logistic Regression - base model',\n",
       "  'accuracy-Train': 1.0,\n",
       "  'accuracy-Test': 0.8571428571428571,\n",
       "  'AUC-train': 1.0,\n",
       "  'AUC-test': 0.8571428571428572},\n",
       " 2: {'model': 'Logistic DecisionTreeClassifier - base model',\n",
       "  'accuracy-Train': 1.0,\n",
       "  'accuracy-Test': 0.6428571428571429,\n",
       "  'AUC-train': 1.0,\n",
       "  'AUC-test': 0.6428571428571428},\n",
       " 3: {'model': 'RandomForestClassifier - base model',\n",
       "  'accuracy-Train': 1.0,\n",
       "  'accuracy-Test': 1.0,\n",
       "  'AUC-train': 1.0,\n",
       "  'AUC-test': 1.0},\n",
       " 4: {'model': 'AdaBoostClassifier - base model',\n",
       "  'accuracy-Train': 1.0,\n",
       "  'accuracy-Test': 0.6428571428571429,\n",
       "  'AUC-train': 1.0,\n",
       "  'AUC-test': 0.6428571428571428},\n",
       " 5: {'model': 'GradientBoostingClassifier - base model',\n",
       "  'accuracy-Train': 1.0,\n",
       "  'accuracy-Test': 0.6428571428571429,\n",
       "  'AUC-train': 1.0,\n",
       "  'AUC-test': 0.6428571428571428},\n",
       " 6: {'model': 'SVM - base model',\n",
       "  'accuracy-Train': 0.9666666666666667,\n",
       "  'accuracy-Test': 0.7857142857142857,\n",
       "  'AUC-train': 0.9736842105263157,\n",
       "  'AUC-test': 0.7857142857142858},\n",
       " 7: {'model': 'KNeighborsClassifier - base model',\n",
       "  'accuracy-Train': 0.7,\n",
       "  'accuracy-Test': 0.6428571428571429,\n",
       "  'AUC-train': 0.5909090909090908,\n",
       "  'AUC-test': 0.6428571428571428}}"
      ]
     },
     "execution_count": 31,
     "metadata": {},
     "output_type": "execute_result"
    }
   ],
   "source": [
    "res"
   ]
  },
  {
   "cell_type": "code",
   "execution_count": 32,
   "metadata": {},
   "outputs": [
    {
     "data": {
      "text/html": [
       "<div>\n",
       "<style scoped>\n",
       "    .dataframe tbody tr th:only-of-type {\n",
       "        vertical-align: middle;\n",
       "    }\n",
       "\n",
       "    .dataframe tbody tr th {\n",
       "        vertical-align: top;\n",
       "    }\n",
       "\n",
       "    .dataframe thead th {\n",
       "        text-align: right;\n",
       "    }\n",
       "</style>\n",
       "<table border=\"1\" class=\"dataframe\">\n",
       "  <thead>\n",
       "    <tr style=\"text-align: right;\">\n",
       "      <th></th>\n",
       "      <th>1</th>\n",
       "      <th>2</th>\n",
       "      <th>3</th>\n",
       "      <th>4</th>\n",
       "      <th>5</th>\n",
       "      <th>6</th>\n",
       "      <th>7</th>\n",
       "    </tr>\n",
       "  </thead>\n",
       "  <tbody>\n",
       "    <tr>\n",
       "      <th>model</th>\n",
       "      <td>Logistic Regression - base model</td>\n",
       "      <td>Logistic DecisionTreeClassifier - base model</td>\n",
       "      <td>RandomForestClassifier - base model</td>\n",
       "      <td>AdaBoostClassifier - base model</td>\n",
       "      <td>GradientBoostingClassifier - base model</td>\n",
       "      <td>SVM - base model</td>\n",
       "      <td>KNeighborsClassifier - base model</td>\n",
       "    </tr>\n",
       "    <tr>\n",
       "      <th>accuracy-Train</th>\n",
       "      <td>1</td>\n",
       "      <td>1</td>\n",
       "      <td>1</td>\n",
       "      <td>1</td>\n",
       "      <td>1</td>\n",
       "      <td>0.966667</td>\n",
       "      <td>0.7</td>\n",
       "    </tr>\n",
       "    <tr>\n",
       "      <th>accuracy-Test</th>\n",
       "      <td>0.857143</td>\n",
       "      <td>0.642857</td>\n",
       "      <td>1</td>\n",
       "      <td>0.642857</td>\n",
       "      <td>0.642857</td>\n",
       "      <td>0.785714</td>\n",
       "      <td>0.642857</td>\n",
       "    </tr>\n",
       "    <tr>\n",
       "      <th>AUC-train</th>\n",
       "      <td>1</td>\n",
       "      <td>1</td>\n",
       "      <td>1</td>\n",
       "      <td>1</td>\n",
       "      <td>1</td>\n",
       "      <td>0.973684</td>\n",
       "      <td>0.590909</td>\n",
       "    </tr>\n",
       "    <tr>\n",
       "      <th>AUC-test</th>\n",
       "      <td>0.857143</td>\n",
       "      <td>0.642857</td>\n",
       "      <td>1</td>\n",
       "      <td>0.642857</td>\n",
       "      <td>0.642857</td>\n",
       "      <td>0.785714</td>\n",
       "      <td>0.642857</td>\n",
       "    </tr>\n",
       "  </tbody>\n",
       "</table>\n",
       "</div>"
      ],
      "text/plain": [
       "                                               1  \\\n",
       "model           Logistic Regression - base model   \n",
       "accuracy-Train                                 1   \n",
       "accuracy-Test                           0.857143   \n",
       "AUC-train                                      1   \n",
       "AUC-test                                0.857143   \n",
       "\n",
       "                                                           2  \\\n",
       "model           Logistic DecisionTreeClassifier - base model   \n",
       "accuracy-Train                                             1   \n",
       "accuracy-Test                                       0.642857   \n",
       "AUC-train                                                  1   \n",
       "AUC-test                                            0.642857   \n",
       "\n",
       "                                                  3  \\\n",
       "model           RandomForestClassifier - base model   \n",
       "accuracy-Train                                    1   \n",
       "accuracy-Test                                     1   \n",
       "AUC-train                                         1   \n",
       "AUC-test                                          1   \n",
       "\n",
       "                                              4  \\\n",
       "model           AdaBoostClassifier - base model   \n",
       "accuracy-Train                                1   \n",
       "accuracy-Test                          0.642857   \n",
       "AUC-train                                     1   \n",
       "AUC-test                               0.642857   \n",
       "\n",
       "                                                      5                 6  \\\n",
       "model           GradientBoostingClassifier - base model  SVM - base model   \n",
       "accuracy-Train                                        1          0.966667   \n",
       "accuracy-Test                                  0.642857          0.785714   \n",
       "AUC-train                                             1          0.973684   \n",
       "AUC-test                                       0.642857          0.785714   \n",
       "\n",
       "                                                7  \n",
       "model           KNeighborsClassifier - base model  \n",
       "accuracy-Train                                0.7  \n",
       "accuracy-Test                            0.642857  \n",
       "AUC-train                                0.590909  \n",
       "AUC-test                                 0.642857  "
      ]
     },
     "execution_count": 32,
     "metadata": {},
     "output_type": "execute_result"
    }
   ],
   "source": [
    "res2 = pd.DataFrame(res)\n",
    "res2"
   ]
  },
  {
   "cell_type": "code",
   "execution_count": 33,
   "metadata": {},
   "outputs": [
    {
     "data": {
      "text/html": [
       "<div>\n",
       "<style scoped>\n",
       "    .dataframe tbody tr th:only-of-type {\n",
       "        vertical-align: middle;\n",
       "    }\n",
       "\n",
       "    .dataframe tbody tr th {\n",
       "        vertical-align: top;\n",
       "    }\n",
       "\n",
       "    .dataframe thead th {\n",
       "        text-align: right;\n",
       "    }\n",
       "</style>\n",
       "<table border=\"1\" class=\"dataframe\">\n",
       "  <thead>\n",
       "    <tr style=\"text-align: right;\">\n",
       "      <th></th>\n",
       "      <th>model</th>\n",
       "      <th>accuracy-Train</th>\n",
       "      <th>accuracy-Test</th>\n",
       "      <th>AUC-train</th>\n",
       "      <th>AUC-test</th>\n",
       "    </tr>\n",
       "  </thead>\n",
       "  <tbody>\n",
       "    <tr>\n",
       "      <th>1</th>\n",
       "      <td>Logistic Regression - base model</td>\n",
       "      <td>1</td>\n",
       "      <td>0.857143</td>\n",
       "      <td>1</td>\n",
       "      <td>0.857143</td>\n",
       "    </tr>\n",
       "    <tr>\n",
       "      <th>2</th>\n",
       "      <td>Logistic DecisionTreeClassifier - base model</td>\n",
       "      <td>1</td>\n",
       "      <td>0.642857</td>\n",
       "      <td>1</td>\n",
       "      <td>0.642857</td>\n",
       "    </tr>\n",
       "    <tr>\n",
       "      <th>3</th>\n",
       "      <td>RandomForestClassifier - base model</td>\n",
       "      <td>1</td>\n",
       "      <td>1</td>\n",
       "      <td>1</td>\n",
       "      <td>1</td>\n",
       "    </tr>\n",
       "    <tr>\n",
       "      <th>4</th>\n",
       "      <td>AdaBoostClassifier - base model</td>\n",
       "      <td>1</td>\n",
       "      <td>0.642857</td>\n",
       "      <td>1</td>\n",
       "      <td>0.642857</td>\n",
       "    </tr>\n",
       "    <tr>\n",
       "      <th>5</th>\n",
       "      <td>GradientBoostingClassifier - base model</td>\n",
       "      <td>1</td>\n",
       "      <td>0.642857</td>\n",
       "      <td>1</td>\n",
       "      <td>0.642857</td>\n",
       "    </tr>\n",
       "    <tr>\n",
       "      <th>6</th>\n",
       "      <td>SVM - base model</td>\n",
       "      <td>0.966667</td>\n",
       "      <td>0.785714</td>\n",
       "      <td>0.973684</td>\n",
       "      <td>0.785714</td>\n",
       "    </tr>\n",
       "    <tr>\n",
       "      <th>7</th>\n",
       "      <td>KNeighborsClassifier - base model</td>\n",
       "      <td>0.7</td>\n",
       "      <td>0.642857</td>\n",
       "      <td>0.590909</td>\n",
       "      <td>0.642857</td>\n",
       "    </tr>\n",
       "  </tbody>\n",
       "</table>\n",
       "</div>"
      ],
      "text/plain": [
       "                                          model accuracy-Train accuracy-Test  \\\n",
       "1              Logistic Regression - base model              1      0.857143   \n",
       "2  Logistic DecisionTreeClassifier - base model              1      0.642857   \n",
       "3           RandomForestClassifier - base model              1             1   \n",
       "4               AdaBoostClassifier - base model              1      0.642857   \n",
       "5       GradientBoostingClassifier - base model              1      0.642857   \n",
       "6                              SVM - base model       0.966667      0.785714   \n",
       "7             KNeighborsClassifier - base model            0.7      0.642857   \n",
       "\n",
       "  AUC-train  AUC-test  \n",
       "1         1  0.857143  \n",
       "2         1  0.642857  \n",
       "3         1         1  \n",
       "4         1  0.642857  \n",
       "5         1  0.642857  \n",
       "6  0.973684  0.785714  \n",
       "7  0.590909  0.642857  "
      ]
     },
     "execution_count": 33,
     "metadata": {},
     "output_type": "execute_result"
    }
   ],
   "source": [
    "res2.transpose()"
   ]
  },
  {
   "cell_type": "code",
   "execution_count": null,
   "metadata": {},
   "outputs": [],
   "source": []
  }
 ],
 "metadata": {
  "kernelspec": {
   "display_name": "Python 3",
   "language": "python",
   "name": "python3"
  },
  "language_info": {
   "codemirror_mode": {
    "name": "ipython",
    "version": 3
   },
   "file_extension": ".py",
   "mimetype": "text/x-python",
   "name": "python",
   "nbconvert_exporter": "python",
   "pygments_lexer": "ipython3",
   "version": "3.7.6"
  }
 },
 "nbformat": 4,
 "nbformat_minor": 4
}
