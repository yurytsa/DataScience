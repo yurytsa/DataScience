{
 "cells": [
  {
   "cell_type": "code",
   "execution_count": 2,
   "metadata": {},
   "outputs": [],
   "source": [
    "lev <- read.csv(file=\"../data/heart_failure_clinical_records_dataset.csv\")"
   ]
  },
  {
   "cell_type": "code",
   "execution_count": 3,
   "metadata": {},
   "outputs": [
    {
     "data": {
      "text/html": [
       "13"
      ],
      "text/latex": [
       "13"
      ],
      "text/markdown": [
       "13"
      ],
      "text/plain": [
       "[1] 13"
      ]
     },
     "metadata": {},
     "output_type": "display_data"
    }
   ],
   "source": [
    "ncol(lev)"
   ]
  },
  {
   "cell_type": "code",
   "execution_count": 4,
   "metadata": {},
   "outputs": [
    {
     "data": {
      "text/plain": [
       "      age           anaemia       creatinine_phosphokinase    diabetes     \n",
       " Min.   :40.00   Min.   :0.0000   Min.   :  23.0           Min.   :0.0000  \n",
       " 1st Qu.:51.00   1st Qu.:0.0000   1st Qu.: 116.5           1st Qu.:0.0000  \n",
       " Median :60.00   Median :0.0000   Median : 250.0           Median :0.0000  \n",
       " Mean   :60.83   Mean   :0.4314   Mean   : 581.8           Mean   :0.4181  \n",
       " 3rd Qu.:70.00   3rd Qu.:1.0000   3rd Qu.: 582.0           3rd Qu.:1.0000  \n",
       " Max.   :95.00   Max.   :1.0000   Max.   :7861.0           Max.   :1.0000  \n",
       " ejection_fraction high_blood_pressure   platelets      serum_creatinine\n",
       " Min.   :14.00     Min.   :0.0000      Min.   : 25100   Min.   :0.500   \n",
       " 1st Qu.:30.00     1st Qu.:0.0000      1st Qu.:212500   1st Qu.:0.900   \n",
       " Median :38.00     Median :0.0000      Median :262000   Median :1.100   \n",
       " Mean   :38.08     Mean   :0.3512      Mean   :263358   Mean   :1.394   \n",
       " 3rd Qu.:45.00     3rd Qu.:1.0000      3rd Qu.:303500   3rd Qu.:1.400   \n",
       " Max.   :80.00     Max.   :1.0000      Max.   :850000   Max.   :9.400   \n",
       "  serum_sodium        sex            smoking            time      \n",
       " Min.   :113.0   Min.   :0.0000   Min.   :0.0000   Min.   :  4.0  \n",
       " 1st Qu.:134.0   1st Qu.:0.0000   1st Qu.:0.0000   1st Qu.: 73.0  \n",
       " Median :137.0   Median :1.0000   Median :0.0000   Median :115.0  \n",
       " Mean   :136.6   Mean   :0.6488   Mean   :0.3211   Mean   :130.3  \n",
       " 3rd Qu.:140.0   3rd Qu.:1.0000   3rd Qu.:1.0000   3rd Qu.:203.0  \n",
       " Max.   :148.0   Max.   :1.0000   Max.   :1.0000   Max.   :285.0  \n",
       "  DEATH_EVENT    \n",
       " Min.   :0.0000  \n",
       " 1st Qu.:0.0000  \n",
       " Median :0.0000  \n",
       " Mean   :0.3211  \n",
       " 3rd Qu.:1.0000  \n",
       " Max.   :1.0000  "
      ]
     },
     "metadata": {},
     "output_type": "display_data"
    }
   ],
   "source": [
    "summary(lev)"
   ]
  },
  {
   "cell_type": "code",
   "execution_count": 5,
   "metadata": {},
   "outputs": [],
   "source": [
    "library(tree)\n",
    "lev2 <- lev\n",
    "lev2$DEATH_EVENT <- factor(lev2$DEATH_EVENT)"
   ]
  },
  {
   "cell_type": "code",
   "execution_count": 6,
   "metadata": {},
   "outputs": [],
   "source": [
    "mod1 <- tree(DEATH_EVENT ~., data=lev2)"
   ]
  },
  {
   "cell_type": "code",
   "execution_count": 7,
   "metadata": {},
   "outputs": [
    {
     "data": {
      "text/plain": [
       "node), split, n, deviance, yval, (yprob)\n",
       "      * denotes terminal node\n",
       "\n",
       "  1) root 299 375.300 0 ( 0.67893 0.32107 )  \n",
       "    2) time < 73.5 76  69.550 1 ( 0.17105 0.82895 )  \n",
       "      4) serum_sodium < 136.5 39  15.780 1 ( 0.05128 0.94872 )  \n",
       "        8) ejection_fraction < 47.5 32   0.000 1 ( 0.00000 1.00000 ) *\n",
       "        9) ejection_fraction > 47.5 7   8.376 1 ( 0.28571 0.71429 ) *\n",
       "      5) serum_sodium > 136.5 37  45.030 1 ( 0.29730 0.70270 )  \n",
       "       10) serum_sodium < 139.5 22  30.320 1 ( 0.45455 0.54545 )  \n",
       "         20) time < 11.5 5   0.000 1 ( 0.00000 1.00000 ) *\n",
       "         21) time > 11.5 17  23.030 0 ( 0.58824 0.41176 )  \n",
       "           42) high_blood_pressure < 0.5 9   6.279 0 ( 0.88889 0.11111 ) *\n",
       "           43) high_blood_pressure > 0.5 8   8.997 1 ( 0.25000 0.75000 ) *\n",
       "       11) serum_sodium > 139.5 15   7.348 1 ( 0.06667 0.93333 ) *\n",
       "    3) time > 73.5 223 187.000 0 ( 0.85202 0.14798 )  \n",
       "      6) serum_creatinine < 1.45 178  93.060 0 ( 0.92697 0.07303 )  \n",
       "       12) ejection_fraction < 27.5 20  24.430 0 ( 0.70000 0.30000 )  \n",
       "         24) age < 52.5 5   0.000 0 ( 1.00000 0.00000 ) *\n",
       "         25) age > 52.5 15  20.190 0 ( 0.60000 0.40000 ) *\n",
       "       13) ejection_fraction > 27.5 158  57.320 0 ( 0.95570 0.04430 )  \n",
       "         26) age < 79 151  36.940 0 ( 0.97351 0.02649 )  \n",
       "           52) creatinine_phosphokinase < 2307.5 143  21.050 0 ( 0.98601 0.01399 )  \n",
       "            104) ejection_fraction < 47.5 105   0.000 0 ( 1.00000 0.00000 ) *\n",
       "            105) ejection_fraction > 47.5 38  15.670 0 ( 0.94737 0.05263 ) *\n",
       "           53) creatinine_phosphokinase > 2307.5 8   8.997 0 ( 0.75000 0.25000 ) *\n",
       "         27) age > 79 7   9.561 0 ( 0.57143 0.42857 ) *\n",
       "      7) serum_creatinine > 1.45 45  61.830 0 ( 0.55556 0.44444 )  \n",
       "       14) ejection_fraction < 22.5 5   0.000 1 ( 0.00000 1.00000 ) *\n",
       "       15) ejection_fraction > 22.5 40  52.930 0 ( 0.62500 0.37500 )  \n",
       "         30) time < 210 31  42.940 0 ( 0.51613 0.48387 )  \n",
       "           60) creatinine_phosphokinase < 72.5 6   0.000 0 ( 1.00000 0.00000 ) *\n",
       "           61) creatinine_phosphokinase > 72.5 25  33.650 1 ( 0.40000 0.60000 )  \n",
       "            122) sex < 0.5 9   6.279 1 ( 0.11111 0.88889 ) *\n",
       "            123) sex > 0.5 16  21.930 0 ( 0.56250 0.43750 )  \n",
       "              246) diabetes < 0.5 8   8.997 1 ( 0.25000 0.75000 ) *\n",
       "              247) diabetes > 0.5 8   6.028 0 ( 0.87500 0.12500 ) *\n",
       "         31) time > 210 9   0.000 0 ( 1.00000 0.00000 ) *"
      ]
     },
     "metadata": {},
     "output_type": "display_data"
    }
   ],
   "source": [
    "mod1"
   ]
  },
  {
   "cell_type": "code",
   "execution_count": 8,
   "metadata": {},
   "outputs": [
    {
     "data": {
      "image/png": "[encoded data removed]",
      "text/plain": [
       "plot without title"
      ]
     },
     "metadata": {
      "image/png": {
       "height": 420,
       "width": 420
      }
     },
     "output_type": "display_data"
    }
   ],
   "source": [
    "plot(mod1)\n",
    "text(mod1, cex=0.5)"
   ]
  },
  {
   "cell_type": "code",
   "execution_count": 9,
   "metadata": {},
   "outputs": [
    {
     "data": {
      "text/plain": [
       "   yhat\n",
       "y     0   1\n",
       "  0 195   8\n",
       "  1  15  81"
      ]
     },
     "metadata": {},
     "output_type": "display_data"
    }
   ],
   "source": [
    "pred1 <- predict(mod1,newdata = lev,type=\"class\")\n",
    "table(y=lev$DEATH_EVENT,yhat=pred1 )"
   ]
  },
  {
   "cell_type": "code",
   "execution_count": 10,
   "metadata": {},
   "outputs": [
    {
     "name": "stderr",
     "output_type": "stream",
     "text": [
      "randomForest 4.6-14\n",
      "\n",
      "Type rfNews() to see new features/changes/bug fixes.\n",
      "\n"
     ]
    }
   ],
   "source": [
    "library(randomForest)\n"
   ]
  },
  {
   "cell_type": "code",
   "execution_count": 13,
   "metadata": {},
   "outputs": [],
   "source": [
    "mod2 <- randomForest(DEATH_EVENT ~., data=lev2)\n",
    "#mod2 label = y"
   ]
  },
  {
   "cell_type": "code",
   "execution_count": 14,
   "metadata": {},
   "outputs": [
    {
     "name": "stderr",
     "output_type": "stream",
     "text": [
      "\n",
      "Attaching package: 'ranger'\n",
      "\n",
      "\n",
      "The following object is masked from 'package:randomForest':\n",
      "\n",
      "    importance\n",
      "\n",
      "\n"
     ]
    }
   ],
   "source": [
    "library(ranger)"
   ]
  },
  {
   "cell_type": "code",
   "execution_count": 15,
   "metadata": {},
   "outputs": [
    {
     "data": {
      "text/plain": [
       "Ranger result\n",
       "\n",
       "Call:\n",
       " ranger(DEATH_EVENT ~ ., data = lev2) \n",
       "\n",
       "Type:                             Classification \n",
       "Number of trees:                  500 \n",
       "Sample size:                      299 \n",
       "Number of independent variables:  12 \n",
       "Mtry:                             3 \n",
       "Target node size:                 1 \n",
       "Variable importance mode:         none \n",
       "Splitrule:                        gini \n",
       "OOB prediction error:             15.05 % "
      ]
     },
     "metadata": {},
     "output_type": "display_data"
    }
   ],
   "source": [
    "mod2a <- ranger(DEATH_EVENT ~., data=lev2)\n",
    "mod2a"
   ]
  },
  {
   "cell_type": "code",
   "execution_count": 16,
   "metadata": {},
   "outputs": [
    {
     "data": {
      "text/plain": [
       "Ranger prediction\n",
       "\n",
       "Type:                             Classification \n",
       "Sample size:                      299 \n",
       "Number of independent variables:  12 "
      ]
     },
     "metadata": {},
     "output_type": "display_data"
    }
   ],
   "source": [
    "pred2a <- predict(mod2a, data = lev2, type=\"response\")\n",
    "pred2a"
   ]
  },
  {
   "cell_type": "code",
   "execution_count": 17,
   "metadata": {},
   "outputs": [
    {
     "data": {
      "text/plain": [
       "   yhat\n",
       "y     0   1\n",
       "  0 203   0\n",
       "  1   0  96"
      ]
     },
     "metadata": {},
     "output_type": "display_data"
    }
   ],
   "source": [
    "table(y=lev2$DEATH_EVENT,yhat=pred2a$predictions)"
   ]
  },
  {
   "cell_type": "code",
   "execution_count": 20,
   "metadata": {},
   "outputs": [],
   "source": [
    "#install.packages(\"fastAdaboost\")\n",
    "library(fastAdaboost)"
   ]
  },
  {
   "cell_type": "code",
   "execution_count": 21,
   "metadata": {},
   "outputs": [
    {
     "data": {
      "text/plain": [
       "adaboost(formula = DEATH_EVENT ~ ., data = lev, nIter = 10)\n",
       "DEATH_EVENT ~ .\n",
       "Dependent Variable: DEATH_EVENT\n",
       "No of trees:10\n",
       "The weights of the trees are:0.97871330.83644860.76249070.75952930.85913350.75503650.83450650.80396230.67521790.731618"
      ]
     },
     "metadata": {},
     "output_type": "display_data"
    }
   ],
   "source": [
    "mod3 <- adaboost(DEATH_EVENT ~., data=lev,nIter=10)\n",
    "mod3"
   ]
  },
  {
   "cell_type": "code",
   "execution_count": 22,
   "metadata": {},
   "outputs": [
    {
     "data": {
      "text/plain": [
       "   yhat\n",
       "y     0   1\n",
       "  0 203   0\n",
       "  1   0  96"
      ]
     },
     "metadata": {},
     "output_type": "display_data"
    }
   ],
   "source": [
    "pred3 <- predict(mod3, newdata = lev2, type=\"class\")\n",
    "table(y=lev2$DEATH_EVENT,yhat=pred3$class)"
   ]
  },
  {
   "cell_type": "code",
   "execution_count": 24,
   "metadata": {},
   "outputs": [],
   "source": [
    "#install.packages(\"xgboost\")\n",
    "library(xgboost)"
   ]
  },
  {
   "cell_type": "code",
   "execution_count": 25,
   "metadata": {},
   "outputs": [],
   "source": [
    "X <- lev[,1:12]\n",
    "y <- lev$DEATH_EVENT"
   ]
  },
  {
   "cell_type": "code",
   "execution_count": 26,
   "metadata": {},
   "outputs": [],
   "source": [
    "X <- as.matrix(X)"
   ]
  },
  {
   "cell_type": "code",
   "execution_count": 28,
   "metadata": {},
   "outputs": [
    {
     "name": "stdout",
     "output_type": "stream",
     "text": [
      "[1]\ttrain-error:0.103679 \n",
      "[4]\ttrain-error:0.040134 \n",
      "[7]\ttrain-error:0.010033 \n",
      "[10]\ttrain-error:0.003344 \n",
      "[13]\ttrain-error:0.000000 \n",
      "[16]\ttrain-error:0.000000 \n",
      "[19]\ttrain-error:0.000000 \n",
      "[22]\ttrain-error:0.000000 \n",
      "[25]\ttrain-error:0.000000 \n",
      "[28]\ttrain-error:0.000000 \n",
      "[31]\ttrain-error:0.000000 \n",
      "[34]\ttrain-error:0.000000 \n",
      "[37]\ttrain-error:0.000000 \n",
      "[40]\ttrain-error:0.000000 \n",
      "[43]\ttrain-error:0.000000 \n",
      "[46]\ttrain-error:0.000000 \n",
      "[49]\ttrain-error:0.000000 \n",
      "[52]\ttrain-error:0.000000 \n",
      "[55]\ttrain-error:0.000000 \n",
      "[58]\ttrain-error:0.000000 \n",
      "[61]\ttrain-error:0.000000 \n",
      "[64]\ttrain-error:0.000000 \n",
      "[67]\ttrain-error:0.000000 \n",
      "[70]\ttrain-error:0.000000 \n",
      "[73]\ttrain-error:0.000000 \n",
      "[76]\ttrain-error:0.000000 \n",
      "[79]\ttrain-error:0.000000 \n",
      "[82]\ttrain-error:0.000000 \n",
      "[85]\ttrain-error:0.000000 \n",
      "[88]\ttrain-error:0.000000 \n",
      "[91]\ttrain-error:0.000000 \n",
      "[94]\ttrain-error:0.000000 \n",
      "[97]\ttrain-error:0.000000 \n",
      "[100]\ttrain-error:0.000000 \n"
     ]
    }
   ],
   "source": [
    "set.seed(1)\n",
    "mod4 <- xgboost(data = X, label = y, max_depth = 4, eta=1,nrounds=100, objective=\"binary:logistic\",\n",
    "                print_every_n =3 )"
   ]
  },
  {
   "cell_type": "code",
   "execution_count": 29,
   "metadata": {},
   "outputs": [],
   "source": [
    "pred4 <- predict(mod4, newdata = X)\n",
    "#pred4"
   ]
  },
  {
   "cell_type": "code",
   "execution_count": 30,
   "metadata": {},
   "outputs": [
    {
     "data": {
      "text/plain": [
       "   yhat\n",
       "y     0   1\n",
       "  0 203   0\n",
       "  1   0  96"
      ]
     },
     "metadata": {},
     "output_type": "display_data"
    }
   ],
   "source": [
    "pred4cat <- ifelse(pred4 >= 0.5,1,0)\n",
    "table(y=lev$DEATH_EVENT,yhat=pred4cat)"
   ]
  },
  {
   "cell_type": "code",
   "execution_count": 31,
   "metadata": {},
   "outputs": [
    {
     "data": {
      "text/plain": [
       "   yhat\n",
       "y     0   1\n",
       "  0 203   0\n",
       "  1   0  96"
      ]
     },
     "metadata": {},
     "output_type": "display_data"
    }
   ],
   "source": [
    "pred4cat <- ifelse(pred4 >= 0.5,1,0)\n",
    "table(y=lev$DEATH_EVENT,yhat=pred4cat)"
   ]
  },
  {
   "cell_type": "code",
   "execution_count": null,
   "metadata": {},
   "outputs": [],
   "source": []
  }
 ],
 "metadata": {
  "kernelspec": {
   "display_name": "R",
   "language": "R",
   "name": "ir"
  },
  "language_info": {
   "codemirror_mode": "r",
   "file_extension": ".r",
   "mimetype": "text/x-r-source",
   "name": "R",
   "pygments_lexer": "r",
   "version": "4.0.2"
  }
 },
 "nbformat": 4,
 "nbformat_minor": 2
}
