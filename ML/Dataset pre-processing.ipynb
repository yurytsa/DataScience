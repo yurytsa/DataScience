{
 "cells": [
  {
   "cell_type": "markdown",
   "metadata": {},
   "source": [
    "# Preparing the data for modeling"
   ]
  },
  {
   "cell_type": "markdown",
   "metadata": {},
   "source": [
    "## Subsetting the dataset\n",
    " \n",
    "When our flat-file is ready for modeling we have to procede to generate the partitions that we will use for modeling. No matter which method we will use for training our data, we have to generate first a test dataset. This test dataset has to be set on hold aside and only used at the end of the whole process of training and selecting the best model.\n",
    " \n",
    "After we selected the test dataset we proceed to use the rest of the data for training the models. There are three main strategies for that:\n",
    " \n",
    "* Dividing into train and dev\n",
    "* Using Cross-validation\n",
    "* Using Bootstrapping\n",
    "\n",
    "\n",
    "## Test dataset"
   ]
  },
  {
   "cell_type": "code",
   "execution_count": 97,
   "metadata": {},
   "outputs": [],
   "source": [
    "data <- read.table(unz(\"BlackFriday.csv.zip\", \"BlackFriday.csv\"), header=T, quote=\"\\\"\", sep=\",\")"
   ]
  },
  {
   "cell_type": "code",
   "execution_count": 98,
   "metadata": {},
   "outputs": [
    {
     "data": {
      "text/html": [
       "<table>\n",
       "<caption>A data.frame: 6 × 12</caption>\n",
       "<thead>\n",
       "\t<tr><th></th><th scope=col>User_ID</th><th scope=col>Product_ID</th><th scope=col>Gender</th><th scope=col>Age</th><th scope=col>Occupation</th><th scope=col>City_Category</th><th scope=col>Stay_In_Current_City_Years</th><th scope=col>Marital_Status</th><th scope=col>Product_Category_1</th><th scope=col>Product_Category_2</th><th scope=col>Product_Category_3</th><th scope=col>Purchase</th></tr>\n",
       "\t<tr><th></th><th scope=col>&lt;int&gt;</th><th scope=col>&lt;chr&gt;</th><th scope=col>&lt;chr&gt;</th><th scope=col>&lt;chr&gt;</th><th scope=col>&lt;int&gt;</th><th scope=col>&lt;chr&gt;</th><th scope=col>&lt;chr&gt;</th><th scope=col>&lt;int&gt;</th><th scope=col>&lt;int&gt;</th><th scope=col>&lt;int&gt;</th><th scope=col>&lt;int&gt;</th><th scope=col>&lt;int&gt;</th></tr>\n",
       "</thead>\n",
       "<tbody>\n",
       "\t<tr><th scope=row>1</th><td>1000001</td><td>P00069042</td><td>F</td><td>0-17 </td><td>10</td><td>A</td><td>2 </td><td>0</td><td> 3</td><td>NA</td><td>NA</td><td> 8370</td></tr>\n",
       "\t<tr><th scope=row>2</th><td>1000001</td><td>P00248942</td><td>F</td><td>0-17 </td><td>10</td><td>A</td><td>2 </td><td>0</td><td> 1</td><td> 6</td><td>14</td><td>15200</td></tr>\n",
       "\t<tr><th scope=row>3</th><td>1000001</td><td>P00087842</td><td>F</td><td>0-17 </td><td>10</td><td>A</td><td>2 </td><td>0</td><td>12</td><td>NA</td><td>NA</td><td> 1422</td></tr>\n",
       "\t<tr><th scope=row>4</th><td>1000001</td><td>P00085442</td><td>F</td><td>0-17 </td><td>10</td><td>A</td><td>2 </td><td>0</td><td>12</td><td>14</td><td>NA</td><td> 1057</td></tr>\n",
       "\t<tr><th scope=row>5</th><td>1000002</td><td>P00285442</td><td>M</td><td>55+  </td><td>16</td><td>C</td><td>4+</td><td>0</td><td> 8</td><td>NA</td><td>NA</td><td> 7969</td></tr>\n",
       "\t<tr><th scope=row>6</th><td>1000003</td><td>P00193542</td><td>M</td><td>26-35</td><td>15</td><td>A</td><td>3 </td><td>0</td><td> 1</td><td> 2</td><td>NA</td><td>15227</td></tr>\n",
       "</tbody>\n",
       "</table>\n"
      ],
      "text/latex": [
       "A data.frame: 6 × 12\n",
       "\\begin{tabular}{r|llllllllllll}\n",
       "  & User\\_ID & Product\\_ID & Gender & Age & Occupation & City\\_Category & Stay\\_In\\_Current\\_City\\_Years & Marital\\_Status & Product\\_Category\\_1 & Product\\_Category\\_2 & Product\\_Category\\_3 & Purchase\\\\\n",
       "  & <int> & <chr> & <chr> & <chr> & <int> & <chr> & <chr> & <int> & <int> & <int> & <int> & <int>\\\\\n",
       "\\hline\n",
       "\t1 & 1000001 & P00069042 & F & 0-17  & 10 & A & 2  & 0 &  3 & NA & NA &  8370\\\\\n",
       "\t2 & 1000001 & P00248942 & F & 0-17  & 10 & A & 2  & 0 &  1 &  6 & 14 & 15200\\\\\n",
       "\t3 & 1000001 & P00087842 & F & 0-17  & 10 & A & 2  & 0 & 12 & NA & NA &  1422\\\\\n",
       "\t4 & 1000001 & P00085442 & F & 0-17  & 10 & A & 2  & 0 & 12 & 14 & NA &  1057\\\\\n",
       "\t5 & 1000002 & P00285442 & M & 55+   & 16 & C & 4+ & 0 &  8 & NA & NA &  7969\\\\\n",
       "\t6 & 1000003 & P00193542 & M & 26-35 & 15 & A & 3  & 0 &  1 &  2 & NA & 15227\\\\\n",
       "\\end{tabular}\n"
      ],
      "text/markdown": [
       "\n",
       "A data.frame: 6 × 12\n",
       "\n",
       "| <!--/--> | User_ID &lt;int&gt; | Product_ID &lt;chr&gt; | Gender &lt;chr&gt; | Age &lt;chr&gt; | Occupation &lt;int&gt; | City_Category &lt;chr&gt; | Stay_In_Current_City_Years &lt;chr&gt; | Marital_Status &lt;int&gt; | Product_Category_1 &lt;int&gt; | Product_Category_2 &lt;int&gt; | Product_Category_3 &lt;int&gt; | Purchase &lt;int&gt; |\n",
       "|---|---|---|---|---|---|---|---|---|---|---|---|---|\n",
       "| 1 | 1000001 | P00069042 | F | 0-17  | 10 | A | 2  | 0 |  3 | NA | NA |  8370 |\n",
       "| 2 | 1000001 | P00248942 | F | 0-17  | 10 | A | 2  | 0 |  1 |  6 | 14 | 15200 |\n",
       "| 3 | 1000001 | P00087842 | F | 0-17  | 10 | A | 2  | 0 | 12 | NA | NA |  1422 |\n",
       "| 4 | 1000001 | P00085442 | F | 0-17  | 10 | A | 2  | 0 | 12 | 14 | NA |  1057 |\n",
       "| 5 | 1000002 | P00285442 | M | 55+   | 16 | C | 4+ | 0 |  8 | NA | NA |  7969 |\n",
       "| 6 | 1000003 | P00193542 | M | 26-35 | 15 | A | 3  | 0 |  1 |  2 | NA | 15227 |\n",
       "\n"
      ],
      "text/plain": [
       "  User_ID Product_ID Gender Age   Occupation City_Category\n",
       "1 1000001 P00069042  F      0-17  10         A            \n",
       "2 1000001 P00248942  F      0-17  10         A            \n",
       "3 1000001 P00087842  F      0-17  10         A            \n",
       "4 1000001 P00085442  F      0-17  10         A            \n",
       "5 1000002 P00285442  M      55+   16         C            \n",
       "6 1000003 P00193542  M      26-35 15         A            \n",
       "  Stay_In_Current_City_Years Marital_Status Product_Category_1\n",
       "1 2                          0               3                \n",
       "2 2                          0               1                \n",
       "3 2                          0              12                \n",
       "4 2                          0              12                \n",
       "5 4+                         0               8                \n",
       "6 3                          0               1                \n",
       "  Product_Category_2 Product_Category_3 Purchase\n",
       "1 NA                 NA                  8370   \n",
       "2  6                 14                 15200   \n",
       "3 NA                 NA                  1422   \n",
       "4 14                 NA                  1057   \n",
       "5 NA                 NA                  7969   \n",
       "6  2                 NA                 15227   "
      ]
     },
     "metadata": {},
     "output_type": "display_data"
    }
   ],
   "source": [
    "head(data)"
   ]
  },
  {
   "cell_type": "code",
   "execution_count": 99,
   "metadata": {},
   "outputs": [
    {
     "data": {
      "text/html": [
       "<style>\n",
       ".list-inline {list-style: none; margin:0; padding: 0}\n",
       ".list-inline>li {display: inline-block}\n",
       ".list-inline>li:not(:last-child)::after {content: \"\\00b7\"; padding: 0 .5ex}\n",
       "</style>\n",
       "<ol class=list-inline><li>537577</li><li>12</li></ol>\n"
      ],
      "text/latex": [
       "\\begin{enumerate*}\n",
       "\\item 537577\n",
       "\\item 12\n",
       "\\end{enumerate*}\n"
      ],
      "text/markdown": [
       "1. 537577\n",
       "2. 12\n",
       "\n",
       "\n"
      ],
      "text/plain": [
       "[1] 537577     12"
      ]
     },
     "metadata": {},
     "output_type": "display_data"
    }
   ],
   "source": [
    "dim(data)"
   ]
  },
  {
   "cell_type": "code",
   "execution_count": 100,
   "metadata": {},
   "outputs": [],
   "source": [
    "data$Age <- factor(data$Age)\n",
    "data$Gender <- factor(data$Gender)\n",
    "data$Occupation <- factor(data$Occupation)\n",
    "data$City_Category <- factor(data$City_Category)\n",
    "data$Stay_In_Current_City_Years <- factor(data$Stay_In_Current_City_Years)\n",
    "data$Marital_Status <- factor(data$Marital_Status)\n",
    "data$Product_Category_1 <- factor(data$Product_Category_1)\n",
    "data$Product_Category_2 <- factor(ifelse(is.na(data$Product_Category_2),0,data$Product_Category_2))\n",
    "data$Product_Category_3 <- factor(ifelse(is.na(data$Product_Category_3),0,data$Product_Category_3))\n"
   ]
  },
  {
   "cell_type": "code",
   "execution_count": 101,
   "metadata": {},
   "outputs": [
    {
     "data": {
      "text/plain": [
       "\n",
       "     0      1      2      3     4+ \n",
       " 72725 189192  99459  93312  82889 "
      ]
     },
     "metadata": {},
     "output_type": "display_data"
    }
   ],
   "source": [
    "table(data$Stay_In_Current_City_Years)"
   ]
  },
  {
   "cell_type": "code",
   "execution_count": 102,
   "metadata": {},
   "outputs": [
    {
     "data": {
      "text/plain": [
       "    User_ID         Product_ID        Gender        Age        \n",
       " Min.   :1000001   Length:537577      F:132197   0-17 : 14707  \n",
       " 1st Qu.:1001495   Class :character   M:405380   18-25: 97634  \n",
       " Median :1003031   Mode  :character              26-35:214690  \n",
       " Mean   :1002992                                 36-45:107499  \n",
       " 3rd Qu.:1004417                                 46-50: 44526  \n",
       " Max.   :1006040                                 51-55: 37618  \n",
       "                                                 55+  : 20903  \n",
       "   Occupation     City_Category Stay_In_Current_City_Years Marital_Status\n",
       " 4      : 70862   A:144638      0 : 72725                  0:317817      \n",
       " 0      : 68120   B:226493      1 :189192                  1:219760      \n",
       " 7      : 57806   C:166446      2 : 99459                                \n",
       " 1      : 45971                 3 : 93312                                \n",
       " 17     : 39090                 4+: 82889                                \n",
       " 20     : 32910                                                          \n",
       " (Other):222818                                                          \n",
       " Product_Category_1 Product_Category_2 Product_Category_3    Purchase    \n",
       " 5      :148592     0      :166986     0      :373299     Min.   :  185  \n",
       " 1      :138353     8      : 63058     16     : 32148     1st Qu.: 5866  \n",
       " 8      :112132     14     : 54158     15     : 27611     Median : 8062  \n",
       " 11     : 23960     2      : 48481     14     : 18121     Mean   : 9334  \n",
       " 2      : 23499     16     : 42602     17     : 16449     3rd Qu.:12073  \n",
       " 6      : 20164     15     : 37317     5      : 16380     Max.   :23961  \n",
       " (Other): 70877     (Other):124975     (Other): 53569                    "
      ]
     },
     "metadata": {},
     "output_type": "display_data"
    }
   ],
   "source": [
    "summary(data)"
   ]
  },
  {
   "cell_type": "code",
   "execution_count": 103,
   "metadata": {},
   "outputs": [],
   "source": [
    "vn <- setdiff(names(data),c(\"Product_ID\",\"User_ID\"))"
   ]
  },
  {
   "cell_type": "code",
   "execution_count": 104,
   "metadata": {},
   "outputs": [
    {
     "name": "stderr",
     "output_type": "stream",
     "text": [
      "Loading required package: mechkar\n",
      "\n"
     ]
    }
   ],
   "source": [
    "#library(devtools)\n",
    "#install_github(\"karpatit/mechkar\")\n",
    "require(mechkar)"
   ]
  },
  {
   "cell_type": "code",
   "execution_count": 18,
   "metadata": {},
   "outputs": [
    {
     "name": "stderr",
     "output_type": "stream",
     "text": [
      "Warning message in Table1(data = data, x = vn, y = \"City_Category\"):\n",
      "\"The following variables have unique values and will not be included in the analysis: \"\n"
     ]
    },
    {
     "name": "stdout",
     "output_type": "stream",
     "text": [
      "  |======================================================================| 100%"
     ]
    },
    {
     "name": "stderr",
     "output_type": "stream",
     "text": [
      "Warning message:\n",
      "\"The `x` argument of `as_tibble.matrix()` must have column names if `.name_repair` is omitted as of tibble 2.0.0.\n",
      "Using compatibility `.name_repair`.\n",
      "\u001b[90mThis warning is displayed once every 8 hours.\u001b[39m\n",
      "\u001b[90mCall `lifecycle::last_warnings()` to see where this warning was generated.\u001b[39m\"\n"
     ]
    },
    {
     "name": "stdout",
     "output_type": "stream",
     "text": [
      "  |===============================================================       |  90%"
     ]
    },
    {
     "data": {
      "text/html": [
       "<table>\n",
       "<caption>A tibble: 94 × 7</caption>\n",
       "<thead>\n",
       "\t<tr><th scope=col>V1</th><th scope=col>V2</th><th scope=col>Pop</th><th scope=col>A</th><th scope=col>B</th><th scope=col>C</th><th scope=col>pval</th></tr>\n",
       "\t<tr><th scope=col>&lt;chr&gt;</th><th scope=col>&lt;chr&gt;</th><th scope=col>&lt;chr&gt;</th><th scope=col>&lt;chr&gt;</th><th scope=col>&lt;chr&gt;</th><th scope=col>&lt;chr&gt;</th><th scope=col>&lt;chr&gt;</th></tr>\n",
       "</thead>\n",
       "<tbody>\n",
       "\t<tr><td>Individuals</td><td>n    </td><td>537577         </td><td>144638         </td><td>226493         </td><td>166446         </td><td>NA</td></tr>\n",
       "\t<tr><td>Gender     </td><td>F    </td><td>132,197 (24.6%)</td><td>34,807 (24.1%) </td><td>56,494 (24.9%) </td><td>40,896 (24.6%) </td><td>NA</td></tr>\n",
       "\t<tr><td>Gender     </td><td>M    </td><td>405,380 (75.4%)</td><td>109,831 (75.9%)</td><td>169,999 (75.1%)</td><td>125,550 (75.4%)</td><td>0 </td></tr>\n",
       "\t<tr><td>Age        </td><td>0-17 </td><td>14,707 (2.7%)  </td><td>2,497 (1.7%)   </td><td>5,288 (2.3%)   </td><td>6,922 (4.2%)   </td><td>NA</td></tr>\n",
       "\t<tr><td>Age        </td><td>18-25</td><td>97,634 (18.2%) </td><td>27,025 (18.7%) </td><td>42,470 (18.8%) </td><td>28,139 (16.9%) </td><td>0 </td></tr>\n",
       "\t<tr><td>Age        </td><td>26-35</td><td>214,690 (39.9%)</td><td>72,048 (49.8%) </td><td>89,767 (39.6%) </td><td>52,875 (31.8%) </td><td>NA</td></tr>\n",
       "\t<tr><td>Age        </td><td>36-45</td><td>107,499 (20.0%)</td><td>26,142 (18.1%) </td><td>46,605 (20.6%) </td><td>34,752 (20.9%) </td><td>NA</td></tr>\n",
       "\t<tr><td>Age        </td><td>46-50</td><td>44,526 (8.3%)  </td><td>7,467 (5.2%)   </td><td>19,900 (8.8%)  </td><td>17,159 (10.3%) </td><td>NA</td></tr>\n",
       "\t<tr><td>Age        </td><td>51-55</td><td>37,618 (7.0%)  </td><td>5,969 (4.1%)   </td><td>17,435 (7.7%)  </td><td>14,214 (8.5%)  </td><td>NA</td></tr>\n",
       "\t<tr><td>Age        </td><td>55+  </td><td>20,903 (3.9%)  </td><td>3,490 (2.4%)   </td><td>5,028 (2.2%)   </td><td>12,385 (7.4%)  </td><td>NA</td></tr>\n",
       "\t<tr><td>Occupation </td><td>0    </td><td>68,120 (12.7%) </td><td>18,396 (12.7%) </td><td>29,356 (13.0%) </td><td>20,368 (12.2%) </td><td>NA</td></tr>\n",
       "\t<tr><td>Occupation </td><td>1    </td><td>45,971 (8.6%)  </td><td>12,395 (8.6%)  </td><td>19,305 (8.5%)  </td><td>14,271 (8.6%)  </td><td>NA</td></tr>\n",
       "\t<tr><td>Occupation </td><td>2    </td><td>25,845 (4.8%)  </td><td>8,899 (6.2%)   </td><td>11,097 (4.9%)  </td><td>5,849 (3.5%)   </td><td>NA</td></tr>\n",
       "\t<tr><td>Occupation </td><td>3    </td><td>17,366 (3.2%)  </td><td>5,556 (3.8%)   </td><td>6,851 (3.0%)   </td><td>4,959 (3.0%)   </td><td>NA</td></tr>\n",
       "\t<tr><td>Occupation </td><td>4    </td><td>70,862 (13.2%) </td><td>23,862 (16.5%) </td><td>29,301 (12.9%) </td><td>17,699 (10.6%) </td><td>NA</td></tr>\n",
       "\t<tr><td>Occupation </td><td>5    </td><td>11,985 (2.2%)  </td><td>2,346 (1.6%)   </td><td>6,523 (2.9%)   </td><td>3,116 (1.9%)   </td><td>NA</td></tr>\n",
       "\t<tr><td>Occupation </td><td>6    </td><td>19,822 (3.7%)  </td><td>3,672 (2.5%)   </td><td>10,681 (4.7%)  </td><td>5,469 (3.3%)   </td><td>NA</td></tr>\n",
       "\t<tr><td>Occupation </td><td>7    </td><td>57,806 (10.8%) </td><td>15,802 (10.9%) </td><td>22,606 (10.0%) </td><td>19,398 (11.7%) </td><td>NA</td></tr>\n",
       "\t<tr><td>Occupation </td><td>8    </td><td>1,524 (0.3%)   </td><td>100 (0.1%)     </td><td>827 (0.4%)     </td><td>597 (0.4%)     </td><td>NA</td></tr>\n",
       "\t<tr><td>Occupation </td><td>9    </td><td>6,153 (1.1%)   </td><td>701 (0.5%)     </td><td>3,179 (1.4%)   </td><td>2,273 (1.4%)   </td><td>NA</td></tr>\n",
       "\t<tr><td>Occupation </td><td>10   </td><td>12,623 (2.3%)  </td><td>2,187 (1.5%)   </td><td>4,130 (1.8%)   </td><td>6,306 (3.8%)   </td><td>NA</td></tr>\n",
       "\t<tr><td>Occupation </td><td>11   </td><td>11,338 (2.1%)  </td><td>2,403 (1.7%)   </td><td>5,487 (2.4%)   </td><td>3,448 (2.1%)   </td><td>NA</td></tr>\n",
       "\t<tr><td>Occupation </td><td>12   </td><td>30,423 (5.7%)  </td><td>6,922 (4.8%)   </td><td>12,869 (5.7%)  </td><td>10,632 (6.4%)  </td><td>NA</td></tr>\n",
       "\t<tr><td>Occupation </td><td>13   </td><td>7,548 (1.4%)   </td><td>384 (0.3%)     </td><td>2,332 (1.0%)   </td><td>4,832 (2.9%)   </td><td>NA</td></tr>\n",
       "\t<tr><td>Occupation </td><td>14   </td><td>26,712 (5.0%)  </td><td>7,621 (5.3%)   </td><td>11,048 (4.9%)  </td><td>8,043 (4.8%)   </td><td>NA</td></tr>\n",
       "\t<tr><td>Occupation </td><td>15   </td><td>11,812 (2.2%)  </td><td>3,000 (2.1%)   </td><td>5,074 (2.2%)   </td><td>3,738 (2.2%)   </td><td>NA</td></tr>\n",
       "\t<tr><td>Occupation </td><td>16   </td><td>24,790 (4.6%)  </td><td>5,917 (4.1%)   </td><td>10,661 (4.7%)  </td><td>8,212 (4.9%)   </td><td>NA</td></tr>\n",
       "\t<tr><td>Occupation </td><td>17   </td><td>39,090 (7.3%)  </td><td>8,052 (5.6%)   </td><td>15,688 (6.9%)  </td><td>15,350 (9.2%)  </td><td>NA</td></tr>\n",
       "\t<tr><td>Occupation </td><td>18   </td><td>6,525 (1.2%)   </td><td>1,593 (1.1%)   </td><td>2,095 (0.9%)   </td><td>2,837 (1.7%)   </td><td>NA</td></tr>\n",
       "\t<tr><td>Occupation </td><td>19   </td><td>8,352 (1.6%)   </td><td>2,212 (1.5%)   </td><td>3,367 (1.5%)   </td><td>2,773 (1.7%)   </td><td>NA</td></tr>\n",
       "\t<tr><td>...</td><td>...</td><td>...</td><td>...</td><td>...</td><td>...</td><td>...</td></tr>\n",
       "\t<tr><td>Product_Category_2</td><td>7           </td><td>615 (0.1%)                </td><td>178 (0.1%)                </td><td>259 (0.1%)                </td><td>178 (0.1%)                </td><td>NA</td></tr>\n",
       "\t<tr><td>Product_Category_2</td><td>8           </td><td>63,058 (11.7%)            </td><td>17,073 (11.8%)            </td><td>26,290 (11.6%)            </td><td>19,695 (11.8%)            </td><td>NA</td></tr>\n",
       "\t<tr><td>Product_Category_2</td><td>9           </td><td>5,591 (1.0%)              </td><td>1,453 (1.0%)              </td><td>2,432 (1.1%)              </td><td>1,706 (1.0%)              </td><td>NA</td></tr>\n",
       "\t<tr><td>Product_Category_2</td><td>10          </td><td>2,991 (0.6%)              </td><td>766 (0.5%)                </td><td>1,190 (0.5%)              </td><td>1,035 (0.6%)              </td><td>NA</td></tr>\n",
       "\t<tr><td>Product_Category_2</td><td>11          </td><td>13,945 (2.6%)             </td><td>3,614 (2.5%)              </td><td>5,896 (2.6%)              </td><td>4,435 (2.7%)              </td><td>NA</td></tr>\n",
       "\t<tr><td>Product_Category_2</td><td>12          </td><td>5,419 (1.0%)              </td><td>1,557 (1.1%)              </td><td>2,447 (1.1%)              </td><td>1,415 (0.9%)              </td><td>NA</td></tr>\n",
       "\t<tr><td>Product_Category_2</td><td>13          </td><td>10,369 (1.9%)             </td><td>2,812 (1.9%)              </td><td>4,218 (1.9%)              </td><td>3,339 (2.0%)              </td><td>NA</td></tr>\n",
       "\t<tr><td>Product_Category_2</td><td>14          </td><td>54,158 (10.1%)            </td><td>15,008 (10.4%)            </td><td>22,682 (10.0%)            </td><td>16,468 (9.9%)             </td><td>NA</td></tr>\n",
       "\t<tr><td>Product_Category_2</td><td>15          </td><td>37,317 (6.9%)             </td><td>9,216 (6.4%)              </td><td>15,338 (6.8%)             </td><td>12,763 (7.7%)             </td><td>NA</td></tr>\n",
       "\t<tr><td>Product_Category_2</td><td>16          </td><td>42,602 (7.9%)             </td><td>11,367 (7.9%)             </td><td>17,742 (7.8%)             </td><td>13,493 (8.1%)             </td><td>NA</td></tr>\n",
       "\t<tr><td>Product_Category_2</td><td>17          </td><td>13,130 (2.4%)             </td><td>3,287 (2.3%)              </td><td>5,526 (2.4%)              </td><td>4,317 (2.6%)              </td><td>NA</td></tr>\n",
       "\t<tr><td>Product_Category_2</td><td>18          </td><td>2,730 (0.5%)              </td><td>698 (0.5%)                </td><td>1,155 (0.5%)              </td><td>877 (0.5%)                </td><td>NA</td></tr>\n",
       "\t<tr><td>Product_Category_3</td><td>0           </td><td>373,299 (69.4%)           </td><td>103,790 (71.8%)           </td><td>158,308 (69.9%)           </td><td>111,201 (66.8%)           </td><td>NA</td></tr>\n",
       "\t<tr><td>Product_Category_3</td><td>3           </td><td>600 (0.1%)                </td><td>150 (0.1%)                </td><td>263 (0.1%)                </td><td>187 (0.1%)                </td><td>NA</td></tr>\n",
       "\t<tr><td>Product_Category_3</td><td>4           </td><td>1,840 (0.3%)              </td><td>465 (0.3%)                </td><td>784 (0.3%)                </td><td>591 (0.4%)                </td><td>NA</td></tr>\n",
       "\t<tr><td>Product_Category_3</td><td>5           </td><td>16,380 (3.0%)             </td><td>3,989 (2.8%)              </td><td>6,683 (3.0%)              </td><td>5,708 (3.4%)              </td><td>NA</td></tr>\n",
       "\t<tr><td>Product_Category_3</td><td>6           </td><td>4,818 (0.9%)              </td><td>1,249 (0.9%)              </td><td>2,028 (0.9%)              </td><td>1,541 (0.9%)              </td><td>NA</td></tr>\n",
       "\t<tr><td>Product_Category_3</td><td>8           </td><td>12,384 (2.3%)             </td><td>3,032 (2.1%)              </td><td>5,044 (2.2%)              </td><td>4,308 (2.6%)              </td><td>NA</td></tr>\n",
       "\t<tr><td>Product_Category_3</td><td>9           </td><td>11,414 (2.1%)             </td><td>2,659 (1.8%)              </td><td>4,719 (2.1%)              </td><td>4,036 (2.4%)              </td><td>NA</td></tr>\n",
       "\t<tr><td>Product_Category_3</td><td>10          </td><td>1,698 (0.3%)              </td><td>418 (0.3%)                </td><td>681 (0.3%)                </td><td>599 (0.4%)                </td><td>NA</td></tr>\n",
       "\t<tr><td>Product_Category_3</td><td>11          </td><td>1,773 (0.3%)              </td><td>447 (0.3%)                </td><td>753 (0.3%)                </td><td>573 (0.3%)                </td><td>NA</td></tr>\n",
       "\t<tr><td>Product_Category_3</td><td>12          </td><td>9,094 (1.7%)              </td><td>2,303 (1.6%)              </td><td>4,009 (1.8%)              </td><td>2,782 (1.7%)              </td><td>NA</td></tr>\n",
       "\t<tr><td>Product_Category_3</td><td>13          </td><td>5,385 (1.0%)              </td><td>1,420 (1.0%)              </td><td>2,192 (1.0%)              </td><td>1,773 (1.1%)              </td><td>NA</td></tr>\n",
       "\t<tr><td>Product_Category_3</td><td>14          </td><td>18,121 (3.4%)             </td><td>4,930 (3.4%)              </td><td>7,638 (3.4%)              </td><td>5,553 (3.3%)              </td><td>NA</td></tr>\n",
       "\t<tr><td>Product_Category_3</td><td>15          </td><td>27,611 (5.1%)             </td><td>6,690 (4.6%)              </td><td>11,453 (5.1%)             </td><td>9,468 (5.7%)              </td><td>NA</td></tr>\n",
       "\t<tr><td>Product_Category_3</td><td>16          </td><td>32,148 (6.0%)             </td><td>8,204 (5.7%)              </td><td>13,387 (5.9%)             </td><td>10,557 (6.3%)             </td><td>NA</td></tr>\n",
       "\t<tr><td>Product_Category_3</td><td>17          </td><td>16,449 (3.1%)             </td><td>3,763 (2.6%)              </td><td>6,633 (2.9%)              </td><td>6,053 (3.6%)              </td><td>NA</td></tr>\n",
       "\t<tr><td>Product_Category_3</td><td>18          </td><td>4,563 (0.8%)              </td><td>1,129 (0.8%)              </td><td>1,918 (0.8%)              </td><td>1,516 (0.9%)              </td><td>NA</td></tr>\n",
       "\t<tr><td>Purchase          </td><td>Mean (SD)   </td><td>9,333.9 (4,981.0)         </td><td>8,958.0 (4,866.9)         </td><td>9,198.7 (4,927.1)         </td><td>9,844.4 (5,109.5)         </td><td>NA</td></tr>\n",
       "\t<tr><td>Purchase          </td><td>Median (IQR)</td><td>8,062.0 (5,866.0-12,073.0)</td><td>7,941.0 (5,419.0-11,801.8)</td><td>8,015.0 (5,477.0-12,000.0)</td><td>8,618.0 (6,094.0-13,268.0)</td><td>0 </td></tr>\n",
       "</tbody>\n",
       "</table>\n"
      ],
      "text/latex": [
       "A tibble: 94 × 7\n",
       "\\begin{tabular}{lllllll}\n",
       " V1 & V2 & Pop & A & B & C & pval\\\\\n",
       " <chr> & <chr> & <chr> & <chr> & <chr> & <chr> & <chr>\\\\\n",
       "\\hline\n",
       "\t Individuals & n     & 537577          & 144638          & 226493          & 166446          & NA\\\\\n",
       "\t Gender      & F     & 132,197 (24.6\\%) & 34,807 (24.1\\%)  & 56,494 (24.9\\%)  & 40,896 (24.6\\%)  & NA\\\\\n",
       "\t Gender      & M     & 405,380 (75.4\\%) & 109,831 (75.9\\%) & 169,999 (75.1\\%) & 125,550 (75.4\\%) & 0 \\\\\n",
       "\t Age         & 0-17  & 14,707 (2.7\\%)   & 2,497 (1.7\\%)    & 5,288 (2.3\\%)    & 6,922 (4.2\\%)    & NA\\\\\n",
       "\t Age         & 18-25 & 97,634 (18.2\\%)  & 27,025 (18.7\\%)  & 42,470 (18.8\\%)  & 28,139 (16.9\\%)  & 0 \\\\\n",
       "\t Age         & 26-35 & 214,690 (39.9\\%) & 72,048 (49.8\\%)  & 89,767 (39.6\\%)  & 52,875 (31.8\\%)  & NA\\\\\n",
       "\t Age         & 36-45 & 107,499 (20.0\\%) & 26,142 (18.1\\%)  & 46,605 (20.6\\%)  & 34,752 (20.9\\%)  & NA\\\\\n",
       "\t Age         & 46-50 & 44,526 (8.3\\%)   & 7,467 (5.2\\%)    & 19,900 (8.8\\%)   & 17,159 (10.3\\%)  & NA\\\\\n",
       "\t Age         & 51-55 & 37,618 (7.0\\%)   & 5,969 (4.1\\%)    & 17,435 (7.7\\%)   & 14,214 (8.5\\%)   & NA\\\\\n",
       "\t Age         & 55+   & 20,903 (3.9\\%)   & 3,490 (2.4\\%)    & 5,028 (2.2\\%)    & 12,385 (7.4\\%)   & NA\\\\\n",
       "\t Occupation  & 0     & 68,120 (12.7\\%)  & 18,396 (12.7\\%)  & 29,356 (13.0\\%)  & 20,368 (12.2\\%)  & NA\\\\\n",
       "\t Occupation  & 1     & 45,971 (8.6\\%)   & 12,395 (8.6\\%)   & 19,305 (8.5\\%)   & 14,271 (8.6\\%)   & NA\\\\\n",
       "\t Occupation  & 2     & 25,845 (4.8\\%)   & 8,899 (6.2\\%)    & 11,097 (4.9\\%)   & 5,849 (3.5\\%)    & NA\\\\\n",
       "\t Occupation  & 3     & 17,366 (3.2\\%)   & 5,556 (3.8\\%)    & 6,851 (3.0\\%)    & 4,959 (3.0\\%)    & NA\\\\\n",
       "\t Occupation  & 4     & 70,862 (13.2\\%)  & 23,862 (16.5\\%)  & 29,301 (12.9\\%)  & 17,699 (10.6\\%)  & NA\\\\\n",
       "\t Occupation  & 5     & 11,985 (2.2\\%)   & 2,346 (1.6\\%)    & 6,523 (2.9\\%)    & 3,116 (1.9\\%)    & NA\\\\\n",
       "\t Occupation  & 6     & 19,822 (3.7\\%)   & 3,672 (2.5\\%)    & 10,681 (4.7\\%)   & 5,469 (3.3\\%)    & NA\\\\\n",
       "\t Occupation  & 7     & 57,806 (10.8\\%)  & 15,802 (10.9\\%)  & 22,606 (10.0\\%)  & 19,398 (11.7\\%)  & NA\\\\\n",
       "\t Occupation  & 8     & 1,524 (0.3\\%)    & 100 (0.1\\%)      & 827 (0.4\\%)      & 597 (0.4\\%)      & NA\\\\\n",
       "\t Occupation  & 9     & 6,153 (1.1\\%)    & 701 (0.5\\%)      & 3,179 (1.4\\%)    & 2,273 (1.4\\%)    & NA\\\\\n",
       "\t Occupation  & 10    & 12,623 (2.3\\%)   & 2,187 (1.5\\%)    & 4,130 (1.8\\%)    & 6,306 (3.8\\%)    & NA\\\\\n",
       "\t Occupation  & 11    & 11,338 (2.1\\%)   & 2,403 (1.7\\%)    & 5,487 (2.4\\%)    & 3,448 (2.1\\%)    & NA\\\\\n",
       "\t Occupation  & 12    & 30,423 (5.7\\%)   & 6,922 (4.8\\%)    & 12,869 (5.7\\%)   & 10,632 (6.4\\%)   & NA\\\\\n",
       "\t Occupation  & 13    & 7,548 (1.4\\%)    & 384 (0.3\\%)      & 2,332 (1.0\\%)    & 4,832 (2.9\\%)    & NA\\\\\n",
       "\t Occupation  & 14    & 26,712 (5.0\\%)   & 7,621 (5.3\\%)    & 11,048 (4.9\\%)   & 8,043 (4.8\\%)    & NA\\\\\n",
       "\t Occupation  & 15    & 11,812 (2.2\\%)   & 3,000 (2.1\\%)    & 5,074 (2.2\\%)    & 3,738 (2.2\\%)    & NA\\\\\n",
       "\t Occupation  & 16    & 24,790 (4.6\\%)   & 5,917 (4.1\\%)    & 10,661 (4.7\\%)   & 8,212 (4.9\\%)    & NA\\\\\n",
       "\t Occupation  & 17    & 39,090 (7.3\\%)   & 8,052 (5.6\\%)    & 15,688 (6.9\\%)   & 15,350 (9.2\\%)   & NA\\\\\n",
       "\t Occupation  & 18    & 6,525 (1.2\\%)    & 1,593 (1.1\\%)    & 2,095 (0.9\\%)    & 2,837 (1.7\\%)    & NA\\\\\n",
       "\t Occupation  & 19    & 8,352 (1.6\\%)    & 2,212 (1.5\\%)    & 3,367 (1.5\\%)    & 2,773 (1.7\\%)    & NA\\\\\n",
       "\t ... & ... & ... & ... & ... & ... & ...\\\\\n",
       "\t Product\\_Category\\_2 & 7            & 615 (0.1\\%)                 & 178 (0.1\\%)                 & 259 (0.1\\%)                 & 178 (0.1\\%)                 & NA\\\\\n",
       "\t Product\\_Category\\_2 & 8            & 63,058 (11.7\\%)             & 17,073 (11.8\\%)             & 26,290 (11.6\\%)             & 19,695 (11.8\\%)             & NA\\\\\n",
       "\t Product\\_Category\\_2 & 9            & 5,591 (1.0\\%)               & 1,453 (1.0\\%)               & 2,432 (1.1\\%)               & 1,706 (1.0\\%)               & NA\\\\\n",
       "\t Product\\_Category\\_2 & 10           & 2,991 (0.6\\%)               & 766 (0.5\\%)                 & 1,190 (0.5\\%)               & 1,035 (0.6\\%)               & NA\\\\\n",
       "\t Product\\_Category\\_2 & 11           & 13,945 (2.6\\%)              & 3,614 (2.5\\%)               & 5,896 (2.6\\%)               & 4,435 (2.7\\%)               & NA\\\\\n",
       "\t Product\\_Category\\_2 & 12           & 5,419 (1.0\\%)               & 1,557 (1.1\\%)               & 2,447 (1.1\\%)               & 1,415 (0.9\\%)               & NA\\\\\n",
       "\t Product\\_Category\\_2 & 13           & 10,369 (1.9\\%)              & 2,812 (1.9\\%)               & 4,218 (1.9\\%)               & 3,339 (2.0\\%)               & NA\\\\\n",
       "\t Product\\_Category\\_2 & 14           & 54,158 (10.1\\%)             & 15,008 (10.4\\%)             & 22,682 (10.0\\%)             & 16,468 (9.9\\%)              & NA\\\\\n",
       "\t Product\\_Category\\_2 & 15           & 37,317 (6.9\\%)              & 9,216 (6.4\\%)               & 15,338 (6.8\\%)              & 12,763 (7.7\\%)              & NA\\\\\n",
       "\t Product\\_Category\\_2 & 16           & 42,602 (7.9\\%)              & 11,367 (7.9\\%)              & 17,742 (7.8\\%)              & 13,493 (8.1\\%)              & NA\\\\\n",
       "\t Product\\_Category\\_2 & 17           & 13,130 (2.4\\%)              & 3,287 (2.3\\%)               & 5,526 (2.4\\%)               & 4,317 (2.6\\%)               & NA\\\\\n",
       "\t Product\\_Category\\_2 & 18           & 2,730 (0.5\\%)               & 698 (0.5\\%)                 & 1,155 (0.5\\%)               & 877 (0.5\\%)                 & NA\\\\\n",
       "\t Product\\_Category\\_3 & 0            & 373,299 (69.4\\%)            & 103,790 (71.8\\%)            & 158,308 (69.9\\%)            & 111,201 (66.8\\%)            & NA\\\\\n",
       "\t Product\\_Category\\_3 & 3            & 600 (0.1\\%)                 & 150 (0.1\\%)                 & 263 (0.1\\%)                 & 187 (0.1\\%)                 & NA\\\\\n",
       "\t Product\\_Category\\_3 & 4            & 1,840 (0.3\\%)               & 465 (0.3\\%)                 & 784 (0.3\\%)                 & 591 (0.4\\%)                 & NA\\\\\n",
       "\t Product\\_Category\\_3 & 5            & 16,380 (3.0\\%)              & 3,989 (2.8\\%)               & 6,683 (3.0\\%)               & 5,708 (3.4\\%)               & NA\\\\\n",
       "\t Product\\_Category\\_3 & 6            & 4,818 (0.9\\%)               & 1,249 (0.9\\%)               & 2,028 (0.9\\%)               & 1,541 (0.9\\%)               & NA\\\\\n",
       "\t Product\\_Category\\_3 & 8            & 12,384 (2.3\\%)              & 3,032 (2.1\\%)               & 5,044 (2.2\\%)               & 4,308 (2.6\\%)               & NA\\\\\n",
       "\t Product\\_Category\\_3 & 9            & 11,414 (2.1\\%)              & 2,659 (1.8\\%)               & 4,719 (2.1\\%)               & 4,036 (2.4\\%)               & NA\\\\\n",
       "\t Product\\_Category\\_3 & 10           & 1,698 (0.3\\%)               & 418 (0.3\\%)                 & 681 (0.3\\%)                 & 599 (0.4\\%)                 & NA\\\\\n",
       "\t Product\\_Category\\_3 & 11           & 1,773 (0.3\\%)               & 447 (0.3\\%)                 & 753 (0.3\\%)                 & 573 (0.3\\%)                 & NA\\\\\n",
       "\t Product\\_Category\\_3 & 12           & 9,094 (1.7\\%)               & 2,303 (1.6\\%)               & 4,009 (1.8\\%)               & 2,782 (1.7\\%)               & NA\\\\\n",
       "\t Product\\_Category\\_3 & 13           & 5,385 (1.0\\%)               & 1,420 (1.0\\%)               & 2,192 (1.0\\%)               & 1,773 (1.1\\%)               & NA\\\\\n",
       "\t Product\\_Category\\_3 & 14           & 18,121 (3.4\\%)              & 4,930 (3.4\\%)               & 7,638 (3.4\\%)               & 5,553 (3.3\\%)               & NA\\\\\n",
       "\t Product\\_Category\\_3 & 15           & 27,611 (5.1\\%)              & 6,690 (4.6\\%)               & 11,453 (5.1\\%)              & 9,468 (5.7\\%)               & NA\\\\\n",
       "\t Product\\_Category\\_3 & 16           & 32,148 (6.0\\%)              & 8,204 (5.7\\%)               & 13,387 (5.9\\%)              & 10,557 (6.3\\%)              & NA\\\\\n",
       "\t Product\\_Category\\_3 & 17           & 16,449 (3.1\\%)              & 3,763 (2.6\\%)               & 6,633 (2.9\\%)               & 6,053 (3.6\\%)               & NA\\\\\n",
       "\t Product\\_Category\\_3 & 18           & 4,563 (0.8\\%)               & 1,129 (0.8\\%)               & 1,918 (0.8\\%)               & 1,516 (0.9\\%)               & NA\\\\\n",
       "\t Purchase           & Mean (SD)    & 9,333.9 (4,981.0)          & 8,958.0 (4,866.9)          & 9,198.7 (4,927.1)          & 9,844.4 (5,109.5)          & NA\\\\\n",
       "\t Purchase           & Median (IQR) & 8,062.0 (5,866.0-12,073.0) & 7,941.0 (5,419.0-11,801.8) & 8,015.0 (5,477.0-12,000.0) & 8,618.0 (6,094.0-13,268.0) & 0 \\\\\n",
       "\\end{tabular}\n"
      ],
      "text/markdown": [
       "\n",
       "A tibble: 94 × 7\n",
       "\n",
       "| V1 &lt;chr&gt; | V2 &lt;chr&gt; | Pop &lt;chr&gt; | A &lt;chr&gt; | B &lt;chr&gt; | C &lt;chr&gt; | pval &lt;chr&gt; |\n",
       "|---|---|---|---|---|---|---|\n",
       "| Individuals | n     | 537577          | 144638          | 226493          | 166446          | NA |\n",
       "| Gender      | F     | 132,197 (24.6%) | 34,807 (24.1%)  | 56,494 (24.9%)  | 40,896 (24.6%)  | NA |\n",
       "| Gender      | M     | 405,380 (75.4%) | 109,831 (75.9%) | 169,999 (75.1%) | 125,550 (75.4%) | 0  |\n",
       "| Age         | 0-17  | 14,707 (2.7%)   | 2,497 (1.7%)    | 5,288 (2.3%)    | 6,922 (4.2%)    | NA |\n",
       "| Age         | 18-25 | 97,634 (18.2%)  | 27,025 (18.7%)  | 42,470 (18.8%)  | 28,139 (16.9%)  | 0  |\n",
       "| Age         | 26-35 | 214,690 (39.9%) | 72,048 (49.8%)  | 89,767 (39.6%)  | 52,875 (31.8%)  | NA |\n",
       "| Age         | 36-45 | 107,499 (20.0%) | 26,142 (18.1%)  | 46,605 (20.6%)  | 34,752 (20.9%)  | NA |\n",
       "| Age         | 46-50 | 44,526 (8.3%)   | 7,467 (5.2%)    | 19,900 (8.8%)   | 17,159 (10.3%)  | NA |\n",
       "| Age         | 51-55 | 37,618 (7.0%)   | 5,969 (4.1%)    | 17,435 (7.7%)   | 14,214 (8.5%)   | NA |\n",
       "| Age         | 55+   | 20,903 (3.9%)   | 3,490 (2.4%)    | 5,028 (2.2%)    | 12,385 (7.4%)   | NA |\n",
       "| Occupation  | 0     | 68,120 (12.7%)  | 18,396 (12.7%)  | 29,356 (13.0%)  | 20,368 (12.2%)  | NA |\n",
       "| Occupation  | 1     | 45,971 (8.6%)   | 12,395 (8.6%)   | 19,305 (8.5%)   | 14,271 (8.6%)   | NA |\n",
       "| Occupation  | 2     | 25,845 (4.8%)   | 8,899 (6.2%)    | 11,097 (4.9%)   | 5,849 (3.5%)    | NA |\n",
       "| Occupation  | 3     | 17,366 (3.2%)   | 5,556 (3.8%)    | 6,851 (3.0%)    | 4,959 (3.0%)    | NA |\n",
       "| Occupation  | 4     | 70,862 (13.2%)  | 23,862 (16.5%)  | 29,301 (12.9%)  | 17,699 (10.6%)  | NA |\n",
       "| Occupation  | 5     | 11,985 (2.2%)   | 2,346 (1.6%)    | 6,523 (2.9%)    | 3,116 (1.9%)    | NA |\n",
       "| Occupation  | 6     | 19,822 (3.7%)   | 3,672 (2.5%)    | 10,681 (4.7%)   | 5,469 (3.3%)    | NA |\n",
       "| Occupation  | 7     | 57,806 (10.8%)  | 15,802 (10.9%)  | 22,606 (10.0%)  | 19,398 (11.7%)  | NA |\n",
       "| Occupation  | 8     | 1,524 (0.3%)    | 100 (0.1%)      | 827 (0.4%)      | 597 (0.4%)      | NA |\n",
       "| Occupation  | 9     | 6,153 (1.1%)    | 701 (0.5%)      | 3,179 (1.4%)    | 2,273 (1.4%)    | NA |\n",
       "| Occupation  | 10    | 12,623 (2.3%)   | 2,187 (1.5%)    | 4,130 (1.8%)    | 6,306 (3.8%)    | NA |\n",
       "| Occupation  | 11    | 11,338 (2.1%)   | 2,403 (1.7%)    | 5,487 (2.4%)    | 3,448 (2.1%)    | NA |\n",
       "| Occupation  | 12    | 30,423 (5.7%)   | 6,922 (4.8%)    | 12,869 (5.7%)   | 10,632 (6.4%)   | NA |\n",
       "| Occupation  | 13    | 7,548 (1.4%)    | 384 (0.3%)      | 2,332 (1.0%)    | 4,832 (2.9%)    | NA |\n",
       "| Occupation  | 14    | 26,712 (5.0%)   | 7,621 (5.3%)    | 11,048 (4.9%)   | 8,043 (4.8%)    | NA |\n",
       "| Occupation  | 15    | 11,812 (2.2%)   | 3,000 (2.1%)    | 5,074 (2.2%)    | 3,738 (2.2%)    | NA |\n",
       "| Occupation  | 16    | 24,790 (4.6%)   | 5,917 (4.1%)    | 10,661 (4.7%)   | 8,212 (4.9%)    | NA |\n",
       "| Occupation  | 17    | 39,090 (7.3%)   | 8,052 (5.6%)    | 15,688 (6.9%)   | 15,350 (9.2%)   | NA |\n",
       "| Occupation  | 18    | 6,525 (1.2%)    | 1,593 (1.1%)    | 2,095 (0.9%)    | 2,837 (1.7%)    | NA |\n",
       "| Occupation  | 19    | 8,352 (1.6%)    | 2,212 (1.5%)    | 3,367 (1.5%)    | 2,773 (1.7%)    | NA |\n",
       "| ... | ... | ... | ... | ... | ... | ... |\n",
       "| Product_Category_2 | 7            | 615 (0.1%)                 | 178 (0.1%)                 | 259 (0.1%)                 | 178 (0.1%)                 | NA |\n",
       "| Product_Category_2 | 8            | 63,058 (11.7%)             | 17,073 (11.8%)             | 26,290 (11.6%)             | 19,695 (11.8%)             | NA |\n",
       "| Product_Category_2 | 9            | 5,591 (1.0%)               | 1,453 (1.0%)               | 2,432 (1.1%)               | 1,706 (1.0%)               | NA |\n",
       "| Product_Category_2 | 10           | 2,991 (0.6%)               | 766 (0.5%)                 | 1,190 (0.5%)               | 1,035 (0.6%)               | NA |\n",
       "| Product_Category_2 | 11           | 13,945 (2.6%)              | 3,614 (2.5%)               | 5,896 (2.6%)               | 4,435 (2.7%)               | NA |\n",
       "| Product_Category_2 | 12           | 5,419 (1.0%)               | 1,557 (1.1%)               | 2,447 (1.1%)               | 1,415 (0.9%)               | NA |\n",
       "| Product_Category_2 | 13           | 10,369 (1.9%)              | 2,812 (1.9%)               | 4,218 (1.9%)               | 3,339 (2.0%)               | NA |\n",
       "| Product_Category_2 | 14           | 54,158 (10.1%)             | 15,008 (10.4%)             | 22,682 (10.0%)             | 16,468 (9.9%)              | NA |\n",
       "| Product_Category_2 | 15           | 37,317 (6.9%)              | 9,216 (6.4%)               | 15,338 (6.8%)              | 12,763 (7.7%)              | NA |\n",
       "| Product_Category_2 | 16           | 42,602 (7.9%)              | 11,367 (7.9%)              | 17,742 (7.8%)              | 13,493 (8.1%)              | NA |\n",
       "| Product_Category_2 | 17           | 13,130 (2.4%)              | 3,287 (2.3%)               | 5,526 (2.4%)               | 4,317 (2.6%)               | NA |\n",
       "| Product_Category_2 | 18           | 2,730 (0.5%)               | 698 (0.5%)                 | 1,155 (0.5%)               | 877 (0.5%)                 | NA |\n",
       "| Product_Category_3 | 0            | 373,299 (69.4%)            | 103,790 (71.8%)            | 158,308 (69.9%)            | 111,201 (66.8%)            | NA |\n",
       "| Product_Category_3 | 3            | 600 (0.1%)                 | 150 (0.1%)                 | 263 (0.1%)                 | 187 (0.1%)                 | NA |\n",
       "| Product_Category_3 | 4            | 1,840 (0.3%)               | 465 (0.3%)                 | 784 (0.3%)                 | 591 (0.4%)                 | NA |\n",
       "| Product_Category_3 | 5            | 16,380 (3.0%)              | 3,989 (2.8%)               | 6,683 (3.0%)               | 5,708 (3.4%)               | NA |\n",
       "| Product_Category_3 | 6            | 4,818 (0.9%)               | 1,249 (0.9%)               | 2,028 (0.9%)               | 1,541 (0.9%)               | NA |\n",
       "| Product_Category_3 | 8            | 12,384 (2.3%)              | 3,032 (2.1%)               | 5,044 (2.2%)               | 4,308 (2.6%)               | NA |\n",
       "| Product_Category_3 | 9            | 11,414 (2.1%)              | 2,659 (1.8%)               | 4,719 (2.1%)               | 4,036 (2.4%)               | NA |\n",
       "| Product_Category_3 | 10           | 1,698 (0.3%)               | 418 (0.3%)                 | 681 (0.3%)                 | 599 (0.4%)                 | NA |\n",
       "| Product_Category_3 | 11           | 1,773 (0.3%)               | 447 (0.3%)                 | 753 (0.3%)                 | 573 (0.3%)                 | NA |\n",
       "| Product_Category_3 | 12           | 9,094 (1.7%)               | 2,303 (1.6%)               | 4,009 (1.8%)               | 2,782 (1.7%)               | NA |\n",
       "| Product_Category_3 | 13           | 5,385 (1.0%)               | 1,420 (1.0%)               | 2,192 (1.0%)               | 1,773 (1.1%)               | NA |\n",
       "| Product_Category_3 | 14           | 18,121 (3.4%)              | 4,930 (3.4%)               | 7,638 (3.4%)               | 5,553 (3.3%)               | NA |\n",
       "| Product_Category_3 | 15           | 27,611 (5.1%)              | 6,690 (4.6%)               | 11,453 (5.1%)              | 9,468 (5.7%)               | NA |\n",
       "| Product_Category_3 | 16           | 32,148 (6.0%)              | 8,204 (5.7%)               | 13,387 (5.9%)              | 10,557 (6.3%)              | NA |\n",
       "| Product_Category_3 | 17           | 16,449 (3.1%)              | 3,763 (2.6%)               | 6,633 (2.9%)               | 6,053 (3.6%)               | NA |\n",
       "| Product_Category_3 | 18           | 4,563 (0.8%)               | 1,129 (0.8%)               | 1,918 (0.8%)               | 1,516 (0.9%)               | NA |\n",
       "| Purchase           | Mean (SD)    | 9,333.9 (4,981.0)          | 8,958.0 (4,866.9)          | 9,198.7 (4,927.1)          | 9,844.4 (5,109.5)          | NA |\n",
       "| Purchase           | Median (IQR) | 8,062.0 (5,866.0-12,073.0) | 7,941.0 (5,419.0-11,801.8) | 8,015.0 (5,477.0-12,000.0) | 8,618.0 (6,094.0-13,268.0) | 0  |\n",
       "\n"
      ],
      "text/plain": [
       "    V1                 V2           Pop                       \n",
       "1   Individuals        n            537577                    \n",
       "2   Gender             F            132,197 (24.6%)           \n",
       "3   Gender             M            405,380 (75.4%)           \n",
       "4   Age                0-17         14,707 (2.7%)             \n",
       "5   Age                18-25        97,634 (18.2%)            \n",
       "6   Age                26-35        214,690 (39.9%)           \n",
       "7   Age                36-45        107,499 (20.0%)           \n",
       "8   Age                46-50        44,526 (8.3%)             \n",
       "9   Age                51-55        37,618 (7.0%)             \n",
       "10  Age                55+          20,903 (3.9%)             \n",
       "11  Occupation         0            68,120 (12.7%)            \n",
       "12  Occupation         1            45,971 (8.6%)             \n",
       "13  Occupation         2            25,845 (4.8%)             \n",
       "14  Occupation         3            17,366 (3.2%)             \n",
       "15  Occupation         4            70,862 (13.2%)            \n",
       "16  Occupation         5            11,985 (2.2%)             \n",
       "17  Occupation         6            19,822 (3.7%)             \n",
       "18  Occupation         7            57,806 (10.8%)            \n",
       "19  Occupation         8            1,524 (0.3%)              \n",
       "20  Occupation         9            6,153 (1.1%)              \n",
       "21  Occupation         10           12,623 (2.3%)             \n",
       "22  Occupation         11           11,338 (2.1%)             \n",
       "23  Occupation         12           30,423 (5.7%)             \n",
       "24  Occupation         13           7,548 (1.4%)              \n",
       "25  Occupation         14           26,712 (5.0%)             \n",
       "26  Occupation         15           11,812 (2.2%)             \n",
       "27  Occupation         16           24,790 (4.6%)             \n",
       "28  Occupation         17           39,090 (7.3%)             \n",
       "29  Occupation         18           6,525 (1.2%)              \n",
       "30  Occupation         19           8,352 (1.6%)              \n",
       "... ...                ...          ...                       \n",
       "65  Product_Category_2 7            615 (0.1%)                \n",
       "66  Product_Category_2 8            63,058 (11.7%)            \n",
       "67  Product_Category_2 9            5,591 (1.0%)              \n",
       "68  Product_Category_2 10           2,991 (0.6%)              \n",
       "69  Product_Category_2 11           13,945 (2.6%)             \n",
       "70  Product_Category_2 12           5,419 (1.0%)              \n",
       "71  Product_Category_2 13           10,369 (1.9%)             \n",
       "72  Product_Category_2 14           54,158 (10.1%)            \n",
       "73  Product_Category_2 15           37,317 (6.9%)             \n",
       "74  Product_Category_2 16           42,602 (7.9%)             \n",
       "75  Product_Category_2 17           13,130 (2.4%)             \n",
       "76  Product_Category_2 18           2,730 (0.5%)              \n",
       "77  Product_Category_3 0            373,299 (69.4%)           \n",
       "78  Product_Category_3 3            600 (0.1%)                \n",
       "79  Product_Category_3 4            1,840 (0.3%)              \n",
       "80  Product_Category_3 5            16,380 (3.0%)             \n",
       "81  Product_Category_3 6            4,818 (0.9%)              \n",
       "82  Product_Category_3 8            12,384 (2.3%)             \n",
       "83  Product_Category_3 9            11,414 (2.1%)             \n",
       "84  Product_Category_3 10           1,698 (0.3%)              \n",
       "85  Product_Category_3 11           1,773 (0.3%)              \n",
       "86  Product_Category_3 12           9,094 (1.7%)              \n",
       "87  Product_Category_3 13           5,385 (1.0%)              \n",
       "88  Product_Category_3 14           18,121 (3.4%)             \n",
       "89  Product_Category_3 15           27,611 (5.1%)             \n",
       "90  Product_Category_3 16           32,148 (6.0%)             \n",
       "91  Product_Category_3 17           16,449 (3.1%)             \n",
       "92  Product_Category_3 18           4,563 (0.8%)              \n",
       "93  Purchase           Mean (SD)    9,333.9 (4,981.0)         \n",
       "94  Purchase           Median (IQR) 8,062.0 (5,866.0-12,073.0)\n",
       "    A                          B                         \n",
       "1   144638                     226493                    \n",
       "2   34,807 (24.1%)             56,494 (24.9%)            \n",
       "3   109,831 (75.9%)            169,999 (75.1%)           \n",
       "4   2,497 (1.7%)               5,288 (2.3%)              \n",
       "5   27,025 (18.7%)             42,470 (18.8%)            \n",
       "6   72,048 (49.8%)             89,767 (39.6%)            \n",
       "7   26,142 (18.1%)             46,605 (20.6%)            \n",
       "8   7,467 (5.2%)               19,900 (8.8%)             \n",
       "9   5,969 (4.1%)               17,435 (7.7%)             \n",
       "10  3,490 (2.4%)               5,028 (2.2%)              \n",
       "11  18,396 (12.7%)             29,356 (13.0%)            \n",
       "12  12,395 (8.6%)              19,305 (8.5%)             \n",
       "13  8,899 (6.2%)               11,097 (4.9%)             \n",
       "14  5,556 (3.8%)               6,851 (3.0%)              \n",
       "15  23,862 (16.5%)             29,301 (12.9%)            \n",
       "16  2,346 (1.6%)               6,523 (2.9%)              \n",
       "17  3,672 (2.5%)               10,681 (4.7%)             \n",
       "18  15,802 (10.9%)             22,606 (10.0%)            \n",
       "19  100 (0.1%)                 827 (0.4%)                \n",
       "20  701 (0.5%)                 3,179 (1.4%)              \n",
       "21  2,187 (1.5%)               4,130 (1.8%)              \n",
       "22  2,403 (1.7%)               5,487 (2.4%)              \n",
       "23  6,922 (4.8%)               12,869 (5.7%)             \n",
       "24  384 (0.3%)                 2,332 (1.0%)              \n",
       "25  7,621 (5.3%)               11,048 (4.9%)             \n",
       "26  3,000 (2.1%)               5,074 (2.2%)              \n",
       "27  5,917 (4.1%)               10,661 (4.7%)             \n",
       "28  8,052 (5.6%)               15,688 (6.9%)             \n",
       "29  1,593 (1.1%)               2,095 (0.9%)              \n",
       "30  2,212 (1.5%)               3,367 (1.5%)              \n",
       "... ...                        ...                       \n",
       "65  178 (0.1%)                 259 (0.1%)                \n",
       "66  17,073 (11.8%)             26,290 (11.6%)            \n",
       "67  1,453 (1.0%)               2,432 (1.1%)              \n",
       "68  766 (0.5%)                 1,190 (0.5%)              \n",
       "69  3,614 (2.5%)               5,896 (2.6%)              \n",
       "70  1,557 (1.1%)               2,447 (1.1%)              \n",
       "71  2,812 (1.9%)               4,218 (1.9%)              \n",
       "72  15,008 (10.4%)             22,682 (10.0%)            \n",
       "73  9,216 (6.4%)               15,338 (6.8%)             \n",
       "74  11,367 (7.9%)              17,742 (7.8%)             \n",
       "75  3,287 (2.3%)               5,526 (2.4%)              \n",
       "76  698 (0.5%)                 1,155 (0.5%)              \n",
       "77  103,790 (71.8%)            158,308 (69.9%)           \n",
       "78  150 (0.1%)                 263 (0.1%)                \n",
       "79  465 (0.3%)                 784 (0.3%)                \n",
       "80  3,989 (2.8%)               6,683 (3.0%)              \n",
       "81  1,249 (0.9%)               2,028 (0.9%)              \n",
       "82  3,032 (2.1%)               5,044 (2.2%)              \n",
       "83  2,659 (1.8%)               4,719 (2.1%)              \n",
       "84  418 (0.3%)                 681 (0.3%)                \n",
       "85  447 (0.3%)                 753 (0.3%)                \n",
       "86  2,303 (1.6%)               4,009 (1.8%)              \n",
       "87  1,420 (1.0%)               2,192 (1.0%)              \n",
       "88  4,930 (3.4%)               7,638 (3.4%)              \n",
       "89  6,690 (4.6%)               11,453 (5.1%)             \n",
       "90  8,204 (5.7%)               13,387 (5.9%)             \n",
       "91  3,763 (2.6%)               6,633 (2.9%)              \n",
       "92  1,129 (0.8%)               1,918 (0.8%)              \n",
       "93  8,958.0 (4,866.9)          9,198.7 (4,927.1)         \n",
       "94  7,941.0 (5,419.0-11,801.8) 8,015.0 (5,477.0-12,000.0)\n",
       "    C                          pval\n",
       "1   166446                     NA  \n",
       "2   40,896 (24.6%)             NA  \n",
       "3   125,550 (75.4%)            0   \n",
       "4   6,922 (4.2%)               NA  \n",
       "5   28,139 (16.9%)             0   \n",
       "6   52,875 (31.8%)             NA  \n",
       "7   34,752 (20.9%)             NA  \n",
       "8   17,159 (10.3%)             NA  \n",
       "9   14,214 (8.5%)              NA  \n",
       "10  12,385 (7.4%)              NA  \n",
       "11  20,368 (12.2%)             NA  \n",
       "12  14,271 (8.6%)              NA  \n",
       "13  5,849 (3.5%)               NA  \n",
       "14  4,959 (3.0%)               NA  \n",
       "15  17,699 (10.6%)             NA  \n",
       "16  3,116 (1.9%)               NA  \n",
       "17  5,469 (3.3%)               NA  \n",
       "18  19,398 (11.7%)             NA  \n",
       "19  597 (0.4%)                 NA  \n",
       "20  2,273 (1.4%)               NA  \n",
       "21  6,306 (3.8%)               NA  \n",
       "22  3,448 (2.1%)               NA  \n",
       "23  10,632 (6.4%)              NA  \n",
       "24  4,832 (2.9%)               NA  \n",
       "25  8,043 (4.8%)               NA  \n",
       "26  3,738 (2.2%)               NA  \n",
       "27  8,212 (4.9%)               NA  \n",
       "28  15,350 (9.2%)              NA  \n",
       "29  2,837 (1.7%)               NA  \n",
       "30  2,773 (1.7%)               NA  \n",
       "... ...                        ... \n",
       "65  178 (0.1%)                 NA  \n",
       "66  19,695 (11.8%)             NA  \n",
       "67  1,706 (1.0%)               NA  \n",
       "68  1,035 (0.6%)               NA  \n",
       "69  4,435 (2.7%)               NA  \n",
       "70  1,415 (0.9%)               NA  \n",
       "71  3,339 (2.0%)               NA  \n",
       "72  16,468 (9.9%)              NA  \n",
       "73  12,763 (7.7%)              NA  \n",
       "74  13,493 (8.1%)              NA  \n",
       "75  4,317 (2.6%)               NA  \n",
       "76  877 (0.5%)                 NA  \n",
       "77  111,201 (66.8%)            NA  \n",
       "78  187 (0.1%)                 NA  \n",
       "79  591 (0.4%)                 NA  \n",
       "80  5,708 (3.4%)               NA  \n",
       "81  1,541 (0.9%)               NA  \n",
       "82  4,308 (2.6%)               NA  \n",
       "83  4,036 (2.4%)               NA  \n",
       "84  599 (0.4%)                 NA  \n",
       "85  573 (0.3%)                 NA  \n",
       "86  2,782 (1.7%)               NA  \n",
       "87  1,773 (1.1%)               NA  \n",
       "88  5,553 (3.3%)               NA  \n",
       "89  9,468 (5.7%)               NA  \n",
       "90  10,557 (6.3%)              NA  \n",
       "91  6,053 (3.6%)               NA  \n",
       "92  1,516 (0.9%)               NA  \n",
       "93  9,844.4 (5,109.5)          NA  \n",
       "94  8,618.0 (6,094.0-13,268.0) 0   "
      ]
     },
     "metadata": {},
     "output_type": "display_data"
    }
   ],
   "source": [
    "Table1(data = data,x = vn,y = \"City_Category\")"
   ]
  },
  {
   "cell_type": "code",
   "execution_count": 105,
   "metadata": {},
   "outputs": [],
   "source": [
    "############### TRAIN_TEST #######################\n",
    "train_test <- function(data=NULL,train_name=NULL,test_name=NULL,prop=NULL,seed=123,tableone=False)\n",
    "{\n",
    "  checkTrainTest <- function(train=NULL,test=NULL) {\n",
    "     train[[\"traintest_ind_\"]] <- 1\n",
    "     test[[\"traintest_ind_\"]] <- 2\n",
    "     data <- rbind(train, test)\n",
    "     tab <- Table1(data=data, y=\"traintest_ind_\",x=names(train),messages = F)\n",
    "     vars <- subset(tab, pval < 0.05)$V1\n",
    "     if (length(vars)==1) {\n",
    "        message(\"You got a perfectly balanced training and test datasets\")\n",
    "        message(\" \")\n",
    "     } else {\n",
    "        message(\"WARNING: The following variables are not balanced between the training and test datasets:\")\n",
    "       for (v in vars) { message(paste(\"*\",v)) }\n",
    "          message(\"You can try to change the seed value until you get a balanced partition.\")\n",
    "          message(\"Alternatively, you can ommit this warning and exclude those variables from your model\")\n",
    "          message(\" \")\n",
    "       }\n",
    "       return(tab)\n",
    "  }\n",
    "  ## set the seed to make your partition reproductible\n",
    "  set.seed(seed)\n",
    "  smp_size <- floor(prop * nrow(data))\n",
    "  train_ind <- sample(seq_len(nrow(data)), size = smp_size)\n",
    "  assign(train_name, data[train_ind, ], envir=globalenv())\n",
    "  assign(test_name, data[-train_ind, ], envir=globalenv())\n",
    "  tab = checkTrainTest(get(train_name),get(test_name))\n",
    "  message(paste(\"Dataset partitioned into:\"))\n",
    "  message(paste(\" + Train dataset:\", train_name))\n",
    "  message(paste(\" + Test dataset:\", test_name))\n",
    "  if(tableone==TRUE) {\n",
    "     return(tab)\n",
    "  } \n",
    "}"
   ]
  },
  {
   "cell_type": "markdown",
   "metadata": {},
   "source": [
    "## Test dataset"
   ]
  },
  {
   "cell_type": "code",
   "execution_count": 106,
   "metadata": {},
   "outputs": [
    {
     "name": "stderr",
     "output_type": "stream",
     "text": [
      "Warning message in Table1(data = data, y = \"traintest_ind_\", x = names(train), messages = F):\n",
      "\"The following variables have unique values and will not be included in the analysis: \"\n"
     ]
    },
    {
     "name": "stdout",
     "output_type": "stream",
     "text": [
      "  |================================================================      |  91%"
     ]
    },
    {
     "name": "stderr",
     "output_type": "stream",
     "text": [
      "You got a perfectly balanced training and test datasets\n",
      "\n",
      " \n",
      "\n",
      "Dataset partitioned into:\n",
      "\n",
      " + Train dataset: temp\n",
      "\n",
      " + Test dataset: test\n",
      "\n"
     ]
    }
   ],
   "source": [
    "tab1 <- train_test(data = data[,vn], train_name = \"temp\", test_name = \"test\",prop = 0.8, seed = 123, tableone=T)"
   ]
  },
  {
   "cell_type": "code",
   "execution_count": 107,
   "metadata": {},
   "outputs": [
    {
     "data": {
      "text/html": [
       "<style>\n",
       ".list-inline {list-style: none; margin:0; padding: 0}\n",
       ".list-inline>li {display: inline-block}\n",
       ".list-inline>li:not(:last-child)::after {content: \"\\00b7\"; padding: 0 .5ex}\n",
       "</style>\n",
       "<ol class=list-inline><li>430061</li><li>10</li></ol>\n"
      ],
      "text/latex": [
       "\\begin{enumerate*}\n",
       "\\item 430061\n",
       "\\item 10\n",
       "\\end{enumerate*}\n"
      ],
      "text/markdown": [
       "1. 430061\n",
       "2. 10\n",
       "\n",
       "\n"
      ],
      "text/plain": [
       "[1] 430061     10"
      ]
     },
     "metadata": {},
     "output_type": "display_data"
    },
    {
     "data": {
      "text/html": [
       "<style>\n",
       ".list-inline {list-style: none; margin:0; padding: 0}\n",
       ".list-inline>li {display: inline-block}\n",
       ".list-inline>li:not(:last-child)::after {content: \"\\00b7\"; padding: 0 .5ex}\n",
       "</style>\n",
       "<ol class=list-inline><li>107516</li><li>10</li></ol>\n"
      ],
      "text/latex": [
       "\\begin{enumerate*}\n",
       "\\item 107516\n",
       "\\item 10\n",
       "\\end{enumerate*}\n"
      ],
      "text/markdown": [
       "1. 107516\n",
       "2. 10\n",
       "\n",
       "\n"
      ],
      "text/plain": [
       "[1] 107516     10"
      ]
     },
     "metadata": {},
     "output_type": "display_data"
    }
   ],
   "source": [
    "dim(temp)\n",
    "dim(test)"
   ]
  },
  {
   "cell_type": "code",
   "execution_count": 108,
   "metadata": {},
   "outputs": [
    {
     "data": {
      "text/html": [
       "<table>\n",
       "<caption>A tibble: 96 × 6</caption>\n",
       "<thead>\n",
       "\t<tr><th scope=col>V1</th><th scope=col>V2</th><th scope=col>Pop</th><th scope=col>1</th><th scope=col>2</th><th scope=col>pval</th></tr>\n",
       "\t<tr><th scope=col>&lt;chr&gt;</th><th scope=col>&lt;chr&gt;</th><th scope=col>&lt;chr&gt;</th><th scope=col>&lt;chr&gt;</th><th scope=col>&lt;chr&gt;</th><th scope=col>&lt;chr&gt;</th></tr>\n",
       "</thead>\n",
       "<tbody>\n",
       "\t<tr><td>Individuals</td><td>n    </td><td>537577         </td><td>430061         </td><td>107516        </td><td>NA   </td></tr>\n",
       "\t<tr><td>Gender     </td><td>F    </td><td>132,197 (24.6%)</td><td>105,924 (24.6%)</td><td>26,273 (24.4%)</td><td>NA   </td></tr>\n",
       "\t<tr><td>Gender     </td><td>M    </td><td>405,380 (75.4%)</td><td>324,137 (75.4%)</td><td>81,243 (75.6%)</td><td>0.189</td></tr>\n",
       "\t<tr><td>Age        </td><td>0-17 </td><td>14,707 (2.7%)  </td><td>11,768 (2.7%)  </td><td>2,939 (2.7%)  </td><td>NA   </td></tr>\n",
       "\t<tr><td>Age        </td><td>18-25</td><td>97,634 (18.2%) </td><td>78,137 (18.2%) </td><td>19,497 (18.1%)</td><td>0.747</td></tr>\n",
       "\t<tr><td>Age        </td><td>26-35</td><td>214,690 (39.9%)</td><td>171,860 (40.0%)</td><td>42,830 (39.8%)</td><td>NA   </td></tr>\n",
       "\t<tr><td>Age        </td><td>36-45</td><td>107,499 (20.0%)</td><td>86,039 (20.0%) </td><td>21,460 (20.0%)</td><td>NA   </td></tr>\n",
       "\t<tr><td>Age        </td><td>46-50</td><td>44,526 (8.3%)  </td><td>35,601 (8.3%)  </td><td>8,925 (8.3%)  </td><td>NA   </td></tr>\n",
       "\t<tr><td>Age        </td><td>51-55</td><td>37,618 (7.0%)  </td><td>30,010 (7.0%)  </td><td>7,608 (7.1%)  </td><td>NA   </td></tr>\n",
       "\t<tr><td>Age        </td><td>55+  </td><td>20,903 (3.9%)  </td><td>16,646 (3.9%)  </td><td>4,257 (4.0%)  </td><td>NA   </td></tr>\n",
       "\t<tr><td>Occupation </td><td>0    </td><td>68,120 (12.7%) </td><td>54,612 (12.7%) </td><td>13,508 (12.6%)</td><td>NA   </td></tr>\n",
       "\t<tr><td>Occupation </td><td>1    </td><td>45,971 (8.6%)  </td><td>36,740 (8.5%)  </td><td>9,231 (8.6%)  </td><td>NA   </td></tr>\n",
       "\t<tr><td>Occupation </td><td>2    </td><td>25,845 (4.8%)  </td><td>20,776 (4.8%)  </td><td>5,069 (4.7%)  </td><td>NA   </td></tr>\n",
       "\t<tr><td>Occupation </td><td>3    </td><td>17,366 (3.2%)  </td><td>13,830 (3.2%)  </td><td>3,536 (3.3%)  </td><td>NA   </td></tr>\n",
       "\t<tr><td>Occupation </td><td>4    </td><td>70,862 (13.2%) </td><td>56,612 (13.2%) </td><td>14,250 (13.3%)</td><td>NA   </td></tr>\n",
       "\t<tr><td>Occupation </td><td>5    </td><td>11,985 (2.2%)  </td><td>9,497 (2.2%)   </td><td>2,488 (2.3%)  </td><td>NA   </td></tr>\n",
       "\t<tr><td>Occupation </td><td>6    </td><td>19,822 (3.7%)  </td><td>15,903 (3.7%)  </td><td>3,919 (3.6%)  </td><td>NA   </td></tr>\n",
       "\t<tr><td>Occupation </td><td>7    </td><td>57,806 (10.8%) </td><td>46,119 (10.7%) </td><td>11,687 (10.9%)</td><td>NA   </td></tr>\n",
       "\t<tr><td>Occupation </td><td>8    </td><td>1,524 (0.3%)   </td><td>1,239 (0.3%)   </td><td>285 (0.3%)    </td><td>NA   </td></tr>\n",
       "\t<tr><td>Occupation </td><td>9    </td><td>6,153 (1.1%)   </td><td>4,947 (1.2%)   </td><td>1,206 (1.1%)  </td><td>NA   </td></tr>\n",
       "\t<tr><td>Occupation </td><td>10   </td><td>12,623 (2.3%)  </td><td>10,101 (2.3%)  </td><td>2,522 (2.3%)  </td><td>NA   </td></tr>\n",
       "\t<tr><td>Occupation </td><td>11   </td><td>11,338 (2.1%)  </td><td>9,100 (2.1%)   </td><td>2,238 (2.1%)  </td><td>NA   </td></tr>\n",
       "\t<tr><td>Occupation </td><td>12   </td><td>30,423 (5.7%)  </td><td>24,481 (5.7%)  </td><td>5,942 (5.5%)  </td><td>NA   </td></tr>\n",
       "\t<tr><td>Occupation </td><td>13   </td><td>7,548 (1.4%)   </td><td>5,923 (1.4%)   </td><td>1,625 (1.5%)  </td><td>NA   </td></tr>\n",
       "\t<tr><td>Occupation </td><td>14   </td><td>26,712 (5.0%)  </td><td>21,349 (5.0%)  </td><td>5,363 (5.0%)  </td><td>NA   </td></tr>\n",
       "\t<tr><td>Occupation </td><td>15   </td><td>11,812 (2.2%)  </td><td>9,526 (2.2%)   </td><td>2,286 (2.1%)  </td><td>NA   </td></tr>\n",
       "\t<tr><td>Occupation </td><td>16   </td><td>24,790 (4.6%)  </td><td>19,809 (4.6%)  </td><td>4,981 (4.6%)  </td><td>NA   </td></tr>\n",
       "\t<tr><td>Occupation </td><td>17   </td><td>39,090 (7.3%)  </td><td>31,129 (7.2%)  </td><td>7,961 (7.4%)  </td><td>NA   </td></tr>\n",
       "\t<tr><td>Occupation </td><td>18   </td><td>6,525 (1.2%)   </td><td>5,206 (1.2%)   </td><td>1,319 (1.2%)  </td><td>NA   </td></tr>\n",
       "\t<tr><td>Occupation </td><td>19   </td><td>8,352 (1.6%)   </td><td>6,731 (1.6%)   </td><td>1,621 (1.5%)  </td><td>NA   </td></tr>\n",
       "\t<tr><td>...</td><td>...</td><td>...</td><td>...</td><td>...</td><td>...</td></tr>\n",
       "\t<tr><td>Product_Category_2</td><td>9           </td><td>5,591 (1.0%)              </td><td>4,494 (1.0%)              </td><td>1,097 (1.0%)              </td><td>NA   </td></tr>\n",
       "\t<tr><td>Product_Category_2</td><td>10          </td><td>2,991 (0.6%)              </td><td>2,359 (0.5%)              </td><td>632 (0.6%)                </td><td>NA   </td></tr>\n",
       "\t<tr><td>Product_Category_2</td><td>11          </td><td>13,945 (2.6%)             </td><td>11,082 (2.6%)             </td><td>2,863 (2.7%)              </td><td>NA   </td></tr>\n",
       "\t<tr><td>Product_Category_2</td><td>12          </td><td>5,419 (1.0%)              </td><td>4,381 (1.0%)              </td><td>1,038 (1.0%)              </td><td>NA   </td></tr>\n",
       "\t<tr><td>Product_Category_2</td><td>13          </td><td>10,369 (1.9%)             </td><td>8,273 (1.9%)              </td><td>2,096 (1.9%)              </td><td>NA   </td></tr>\n",
       "\t<tr><td>Product_Category_2</td><td>14          </td><td>54,158 (10.1%)            </td><td>43,356 (10.1%)            </td><td>10,802 (10.0%)            </td><td>NA   </td></tr>\n",
       "\t<tr><td>Product_Category_2</td><td>15          </td><td>37,317 (6.9%)             </td><td>29,798 (6.9%)             </td><td>7,519 (7.0%)              </td><td>NA   </td></tr>\n",
       "\t<tr><td>Product_Category_2</td><td>16          </td><td>42,602 (7.9%)             </td><td>34,104 (7.9%)             </td><td>8,498 (7.9%)              </td><td>NA   </td></tr>\n",
       "\t<tr><td>Product_Category_2</td><td>17          </td><td>13,130 (2.4%)             </td><td>10,485 (2.4%)             </td><td>2,645 (2.5%)              </td><td>NA   </td></tr>\n",
       "\t<tr><td>Product_Category_2</td><td>18          </td><td>2,730 (0.5%)              </td><td>2,192 (0.5%)              </td><td>538 (0.5%)                </td><td>NA   </td></tr>\n",
       "\t<tr><td>Product_Category_3</td><td>0           </td><td>373,299 (69.4%)           </td><td>298,640 (69.4%)           </td><td>74,659 (69.4%)            </td><td>NA   </td></tr>\n",
       "\t<tr><td>Product_Category_3</td><td>3           </td><td>600 (0.1%)                </td><td>473 (0.1%)                </td><td>127 (0.1%)                </td><td>NA   </td></tr>\n",
       "\t<tr><td>Product_Category_3</td><td>4           </td><td>1,840 (0.3%)              </td><td>1,466 (0.3%)              </td><td>374 (0.3%)                </td><td>NA   </td></tr>\n",
       "\t<tr><td>Product_Category_3</td><td>5           </td><td>16,380 (3.0%)             </td><td>13,064 (3.0%)             </td><td>3,316 (3.1%)              </td><td>NA   </td></tr>\n",
       "\t<tr><td>Product_Category_3</td><td>6           </td><td>4,818 (0.9%)              </td><td>3,859 (0.9%)              </td><td>959 (0.9%)                </td><td>NA   </td></tr>\n",
       "\t<tr><td>Product_Category_3</td><td>8           </td><td>12,384 (2.3%)             </td><td>9,971 (2.3%)              </td><td>2,413 (2.2%)              </td><td>NA   </td></tr>\n",
       "\t<tr><td>Product_Category_3</td><td>9           </td><td>11,414 (2.1%)             </td><td>9,080 (2.1%)              </td><td>2,334 (2.2%)              </td><td>NA   </td></tr>\n",
       "\t<tr><td>Product_Category_3</td><td>10          </td><td>1,698 (0.3%)              </td><td>1,335 (0.3%)              </td><td>363 (0.3%)                </td><td>NA   </td></tr>\n",
       "\t<tr><td>Product_Category_3</td><td>11          </td><td>1,773 (0.3%)              </td><td>1,395 (0.3%)              </td><td>378 (0.4%)                </td><td>NA   </td></tr>\n",
       "\t<tr><td>Product_Category_3</td><td>12          </td><td>9,094 (1.7%)              </td><td>7,314 (1.7%)              </td><td>1,780 (1.7%)              </td><td>NA   </td></tr>\n",
       "\t<tr><td>Product_Category_3</td><td>13          </td><td>5,385 (1.0%)              </td><td>4,266 (1.0%)              </td><td>1,119 (1.0%)              </td><td>NA   </td></tr>\n",
       "\t<tr><td>Product_Category_3</td><td>14          </td><td>18,121 (3.4%)             </td><td>14,572 (3.4%)             </td><td>3,549 (3.3%)              </td><td>NA   </td></tr>\n",
       "\t<tr><td>Product_Category_3</td><td>15          </td><td>27,611 (5.1%)             </td><td>22,134 (5.1%)             </td><td>5,477 (5.1%)              </td><td>NA   </td></tr>\n",
       "\t<tr><td>Product_Category_3</td><td>16          </td><td>32,148 (6.0%)             </td><td>25,687 (6.0%)             </td><td>6,461 (6.0%)              </td><td>NA   </td></tr>\n",
       "\t<tr><td>Product_Category_3</td><td>17          </td><td>16,449 (3.1%)             </td><td>13,117 (3.1%)             </td><td>3,332 (3.1%)              </td><td>NA   </td></tr>\n",
       "\t<tr><td>Product_Category_3</td><td>18          </td><td>4,563 (0.8%)              </td><td>3,688 (0.9%)              </td><td>875 (0.8%)                </td><td>NA   </td></tr>\n",
       "\t<tr><td>Purchase          </td><td>Mean (SD)   </td><td>9,333.9 (4,981.0)         </td><td>9,332.5 (4,982.2)         </td><td>9,339.4 (4,976.2)         </td><td>NA   </td></tr>\n",
       "\t<tr><td>Purchase          </td><td>Median (IQR)</td><td>8,062.0 (5,866.0-12,073.0)</td><td>8,060.0 (5,866.0-12,070.0)</td><td>8,069.0 (5,868.0-12,083.0)</td><td>0.683</td></tr>\n",
       "\t<tr><td>traintest_ind_    </td><td>Mean (SD)   </td><td>1.2 (0.4)                 </td><td>NA                        </td><td>NA                        </td><td>NA   </td></tr>\n",
       "\t<tr><td>traintest_ind_    </td><td>Median (IQR)</td><td>1.0 (1.0-1.0)             </td><td>NA                        </td><td>NA                        </td><td>0    </td></tr>\n",
       "</tbody>\n",
       "</table>\n"
      ],
      "text/latex": [
       "A tibble: 96 × 6\n",
       "\\begin{tabular}{llllll}\n",
       " V1 & V2 & Pop & 1 & 2 & pval\\\\\n",
       " <chr> & <chr> & <chr> & <chr> & <chr> & <chr>\\\\\n",
       "\\hline\n",
       "\t Individuals & n     & 537577          & 430061          & 107516         & NA   \\\\\n",
       "\t Gender      & F     & 132,197 (24.6\\%) & 105,924 (24.6\\%) & 26,273 (24.4\\%) & NA   \\\\\n",
       "\t Gender      & M     & 405,380 (75.4\\%) & 324,137 (75.4\\%) & 81,243 (75.6\\%) & 0.189\\\\\n",
       "\t Age         & 0-17  & 14,707 (2.7\\%)   & 11,768 (2.7\\%)   & 2,939 (2.7\\%)   & NA   \\\\\n",
       "\t Age         & 18-25 & 97,634 (18.2\\%)  & 78,137 (18.2\\%)  & 19,497 (18.1\\%) & 0.747\\\\\n",
       "\t Age         & 26-35 & 214,690 (39.9\\%) & 171,860 (40.0\\%) & 42,830 (39.8\\%) & NA   \\\\\n",
       "\t Age         & 36-45 & 107,499 (20.0\\%) & 86,039 (20.0\\%)  & 21,460 (20.0\\%) & NA   \\\\\n",
       "\t Age         & 46-50 & 44,526 (8.3\\%)   & 35,601 (8.3\\%)   & 8,925 (8.3\\%)   & NA   \\\\\n",
       "\t Age         & 51-55 & 37,618 (7.0\\%)   & 30,010 (7.0\\%)   & 7,608 (7.1\\%)   & NA   \\\\\n",
       "\t Age         & 55+   & 20,903 (3.9\\%)   & 16,646 (3.9\\%)   & 4,257 (4.0\\%)   & NA   \\\\\n",
       "\t Occupation  & 0     & 68,120 (12.7\\%)  & 54,612 (12.7\\%)  & 13,508 (12.6\\%) & NA   \\\\\n",
       "\t Occupation  & 1     & 45,971 (8.6\\%)   & 36,740 (8.5\\%)   & 9,231 (8.6\\%)   & NA   \\\\\n",
       "\t Occupation  & 2     & 25,845 (4.8\\%)   & 20,776 (4.8\\%)   & 5,069 (4.7\\%)   & NA   \\\\\n",
       "\t Occupation  & 3     & 17,366 (3.2\\%)   & 13,830 (3.2\\%)   & 3,536 (3.3\\%)   & NA   \\\\\n",
       "\t Occupation  & 4     & 70,862 (13.2\\%)  & 56,612 (13.2\\%)  & 14,250 (13.3\\%) & NA   \\\\\n",
       "\t Occupation  & 5     & 11,985 (2.2\\%)   & 9,497 (2.2\\%)    & 2,488 (2.3\\%)   & NA   \\\\\n",
       "\t Occupation  & 6     & 19,822 (3.7\\%)   & 15,903 (3.7\\%)   & 3,919 (3.6\\%)   & NA   \\\\\n",
       "\t Occupation  & 7     & 57,806 (10.8\\%)  & 46,119 (10.7\\%)  & 11,687 (10.9\\%) & NA   \\\\\n",
       "\t Occupation  & 8     & 1,524 (0.3\\%)    & 1,239 (0.3\\%)    & 285 (0.3\\%)     & NA   \\\\\n",
       "\t Occupation  & 9     & 6,153 (1.1\\%)    & 4,947 (1.2\\%)    & 1,206 (1.1\\%)   & NA   \\\\\n",
       "\t Occupation  & 10    & 12,623 (2.3\\%)   & 10,101 (2.3\\%)   & 2,522 (2.3\\%)   & NA   \\\\\n",
       "\t Occupation  & 11    & 11,338 (2.1\\%)   & 9,100 (2.1\\%)    & 2,238 (2.1\\%)   & NA   \\\\\n",
       "\t Occupation  & 12    & 30,423 (5.7\\%)   & 24,481 (5.7\\%)   & 5,942 (5.5\\%)   & NA   \\\\\n",
       "\t Occupation  & 13    & 7,548 (1.4\\%)    & 5,923 (1.4\\%)    & 1,625 (1.5\\%)   & NA   \\\\\n",
       "\t Occupation  & 14    & 26,712 (5.0\\%)   & 21,349 (5.0\\%)   & 5,363 (5.0\\%)   & NA   \\\\\n",
       "\t Occupation  & 15    & 11,812 (2.2\\%)   & 9,526 (2.2\\%)    & 2,286 (2.1\\%)   & NA   \\\\\n",
       "\t Occupation  & 16    & 24,790 (4.6\\%)   & 19,809 (4.6\\%)   & 4,981 (4.6\\%)   & NA   \\\\\n",
       "\t Occupation  & 17    & 39,090 (7.3\\%)   & 31,129 (7.2\\%)   & 7,961 (7.4\\%)   & NA   \\\\\n",
       "\t Occupation  & 18    & 6,525 (1.2\\%)    & 5,206 (1.2\\%)    & 1,319 (1.2\\%)   & NA   \\\\\n",
       "\t Occupation  & 19    & 8,352 (1.6\\%)    & 6,731 (1.6\\%)    & 1,621 (1.5\\%)   & NA   \\\\\n",
       "\t ... & ... & ... & ... & ... & ...\\\\\n",
       "\t Product\\_Category\\_2 & 9            & 5,591 (1.0\\%)               & 4,494 (1.0\\%)               & 1,097 (1.0\\%)               & NA   \\\\\n",
       "\t Product\\_Category\\_2 & 10           & 2,991 (0.6\\%)               & 2,359 (0.5\\%)               & 632 (0.6\\%)                 & NA   \\\\\n",
       "\t Product\\_Category\\_2 & 11           & 13,945 (2.6\\%)              & 11,082 (2.6\\%)              & 2,863 (2.7\\%)               & NA   \\\\\n",
       "\t Product\\_Category\\_2 & 12           & 5,419 (1.0\\%)               & 4,381 (1.0\\%)               & 1,038 (1.0\\%)               & NA   \\\\\n",
       "\t Product\\_Category\\_2 & 13           & 10,369 (1.9\\%)              & 8,273 (1.9\\%)               & 2,096 (1.9\\%)               & NA   \\\\\n",
       "\t Product\\_Category\\_2 & 14           & 54,158 (10.1\\%)             & 43,356 (10.1\\%)             & 10,802 (10.0\\%)             & NA   \\\\\n",
       "\t Product\\_Category\\_2 & 15           & 37,317 (6.9\\%)              & 29,798 (6.9\\%)              & 7,519 (7.0\\%)               & NA   \\\\\n",
       "\t Product\\_Category\\_2 & 16           & 42,602 (7.9\\%)              & 34,104 (7.9\\%)              & 8,498 (7.9\\%)               & NA   \\\\\n",
       "\t Product\\_Category\\_2 & 17           & 13,130 (2.4\\%)              & 10,485 (2.4\\%)              & 2,645 (2.5\\%)               & NA   \\\\\n",
       "\t Product\\_Category\\_2 & 18           & 2,730 (0.5\\%)               & 2,192 (0.5\\%)               & 538 (0.5\\%)                 & NA   \\\\\n",
       "\t Product\\_Category\\_3 & 0            & 373,299 (69.4\\%)            & 298,640 (69.4\\%)            & 74,659 (69.4\\%)             & NA   \\\\\n",
       "\t Product\\_Category\\_3 & 3            & 600 (0.1\\%)                 & 473 (0.1\\%)                 & 127 (0.1\\%)                 & NA   \\\\\n",
       "\t Product\\_Category\\_3 & 4            & 1,840 (0.3\\%)               & 1,466 (0.3\\%)               & 374 (0.3\\%)                 & NA   \\\\\n",
       "\t Product\\_Category\\_3 & 5            & 16,380 (3.0\\%)              & 13,064 (3.0\\%)              & 3,316 (3.1\\%)               & NA   \\\\\n",
       "\t Product\\_Category\\_3 & 6            & 4,818 (0.9\\%)               & 3,859 (0.9\\%)               & 959 (0.9\\%)                 & NA   \\\\\n",
       "\t Product\\_Category\\_3 & 8            & 12,384 (2.3\\%)              & 9,971 (2.3\\%)               & 2,413 (2.2\\%)               & NA   \\\\\n",
       "\t Product\\_Category\\_3 & 9            & 11,414 (2.1\\%)              & 9,080 (2.1\\%)               & 2,334 (2.2\\%)               & NA   \\\\\n",
       "\t Product\\_Category\\_3 & 10           & 1,698 (0.3\\%)               & 1,335 (0.3\\%)               & 363 (0.3\\%)                 & NA   \\\\\n",
       "\t Product\\_Category\\_3 & 11           & 1,773 (0.3\\%)               & 1,395 (0.3\\%)               & 378 (0.4\\%)                 & NA   \\\\\n",
       "\t Product\\_Category\\_3 & 12           & 9,094 (1.7\\%)               & 7,314 (1.7\\%)               & 1,780 (1.7\\%)               & NA   \\\\\n",
       "\t Product\\_Category\\_3 & 13           & 5,385 (1.0\\%)               & 4,266 (1.0\\%)               & 1,119 (1.0\\%)               & NA   \\\\\n",
       "\t Product\\_Category\\_3 & 14           & 18,121 (3.4\\%)              & 14,572 (3.4\\%)              & 3,549 (3.3\\%)               & NA   \\\\\n",
       "\t Product\\_Category\\_3 & 15           & 27,611 (5.1\\%)              & 22,134 (5.1\\%)              & 5,477 (5.1\\%)               & NA   \\\\\n",
       "\t Product\\_Category\\_3 & 16           & 32,148 (6.0\\%)              & 25,687 (6.0\\%)              & 6,461 (6.0\\%)               & NA   \\\\\n",
       "\t Product\\_Category\\_3 & 17           & 16,449 (3.1\\%)              & 13,117 (3.1\\%)              & 3,332 (3.1\\%)               & NA   \\\\\n",
       "\t Product\\_Category\\_3 & 18           & 4,563 (0.8\\%)               & 3,688 (0.9\\%)               & 875 (0.8\\%)                 & NA   \\\\\n",
       "\t Purchase           & Mean (SD)    & 9,333.9 (4,981.0)          & 9,332.5 (4,982.2)          & 9,339.4 (4,976.2)          & NA   \\\\\n",
       "\t Purchase           & Median (IQR) & 8,062.0 (5,866.0-12,073.0) & 8,060.0 (5,866.0-12,070.0) & 8,069.0 (5,868.0-12,083.0) & 0.683\\\\\n",
       "\t traintest\\_ind\\_     & Mean (SD)    & 1.2 (0.4)                  & NA                         & NA                         & NA   \\\\\n",
       "\t traintest\\_ind\\_     & Median (IQR) & 1.0 (1.0-1.0)              & NA                         & NA                         & 0    \\\\\n",
       "\\end{tabular}\n"
      ],
      "text/markdown": [
       "\n",
       "A tibble: 96 × 6\n",
       "\n",
       "| V1 &lt;chr&gt; | V2 &lt;chr&gt; | Pop &lt;chr&gt; | 1 &lt;chr&gt; | 2 &lt;chr&gt; | pval &lt;chr&gt; |\n",
       "|---|---|---|---|---|---|\n",
       "| Individuals | n     | 537577          | 430061          | 107516         | NA    |\n",
       "| Gender      | F     | 132,197 (24.6%) | 105,924 (24.6%) | 26,273 (24.4%) | NA    |\n",
       "| Gender      | M     | 405,380 (75.4%) | 324,137 (75.4%) | 81,243 (75.6%) | 0.189 |\n",
       "| Age         | 0-17  | 14,707 (2.7%)   | 11,768 (2.7%)   | 2,939 (2.7%)   | NA    |\n",
       "| Age         | 18-25 | 97,634 (18.2%)  | 78,137 (18.2%)  | 19,497 (18.1%) | 0.747 |\n",
       "| Age         | 26-35 | 214,690 (39.9%) | 171,860 (40.0%) | 42,830 (39.8%) | NA    |\n",
       "| Age         | 36-45 | 107,499 (20.0%) | 86,039 (20.0%)  | 21,460 (20.0%) | NA    |\n",
       "| Age         | 46-50 | 44,526 (8.3%)   | 35,601 (8.3%)   | 8,925 (8.3%)   | NA    |\n",
       "| Age         | 51-55 | 37,618 (7.0%)   | 30,010 (7.0%)   | 7,608 (7.1%)   | NA    |\n",
       "| Age         | 55+   | 20,903 (3.9%)   | 16,646 (3.9%)   | 4,257 (4.0%)   | NA    |\n",
       "| Occupation  | 0     | 68,120 (12.7%)  | 54,612 (12.7%)  | 13,508 (12.6%) | NA    |\n",
       "| Occupation  | 1     | 45,971 (8.6%)   | 36,740 (8.5%)   | 9,231 (8.6%)   | NA    |\n",
       "| Occupation  | 2     | 25,845 (4.8%)   | 20,776 (4.8%)   | 5,069 (4.7%)   | NA    |\n",
       "| Occupation  | 3     | 17,366 (3.2%)   | 13,830 (3.2%)   | 3,536 (3.3%)   | NA    |\n",
       "| Occupation  | 4     | 70,862 (13.2%)  | 56,612 (13.2%)  | 14,250 (13.3%) | NA    |\n",
       "| Occupation  | 5     | 11,985 (2.2%)   | 9,497 (2.2%)    | 2,488 (2.3%)   | NA    |\n",
       "| Occupation  | 6     | 19,822 (3.7%)   | 15,903 (3.7%)   | 3,919 (3.6%)   | NA    |\n",
       "| Occupation  | 7     | 57,806 (10.8%)  | 46,119 (10.7%)  | 11,687 (10.9%) | NA    |\n",
       "| Occupation  | 8     | 1,524 (0.3%)    | 1,239 (0.3%)    | 285 (0.3%)     | NA    |\n",
       "| Occupation  | 9     | 6,153 (1.1%)    | 4,947 (1.2%)    | 1,206 (1.1%)   | NA    |\n",
       "| Occupation  | 10    | 12,623 (2.3%)   | 10,101 (2.3%)   | 2,522 (2.3%)   | NA    |\n",
       "| Occupation  | 11    | 11,338 (2.1%)   | 9,100 (2.1%)    | 2,238 (2.1%)   | NA    |\n",
       "| Occupation  | 12    | 30,423 (5.7%)   | 24,481 (5.7%)   | 5,942 (5.5%)   | NA    |\n",
       "| Occupation  | 13    | 7,548 (1.4%)    | 5,923 (1.4%)    | 1,625 (1.5%)   | NA    |\n",
       "| Occupation  | 14    | 26,712 (5.0%)   | 21,349 (5.0%)   | 5,363 (5.0%)   | NA    |\n",
       "| Occupation  | 15    | 11,812 (2.2%)   | 9,526 (2.2%)    | 2,286 (2.1%)   | NA    |\n",
       "| Occupation  | 16    | 24,790 (4.6%)   | 19,809 (4.6%)   | 4,981 (4.6%)   | NA    |\n",
       "| Occupation  | 17    | 39,090 (7.3%)   | 31,129 (7.2%)   | 7,961 (7.4%)   | NA    |\n",
       "| Occupation  | 18    | 6,525 (1.2%)    | 5,206 (1.2%)    | 1,319 (1.2%)   | NA    |\n",
       "| Occupation  | 19    | 8,352 (1.6%)    | 6,731 (1.6%)    | 1,621 (1.5%)   | NA    |\n",
       "| ... | ... | ... | ... | ... | ... |\n",
       "| Product_Category_2 | 9            | 5,591 (1.0%)               | 4,494 (1.0%)               | 1,097 (1.0%)               | NA    |\n",
       "| Product_Category_2 | 10           | 2,991 (0.6%)               | 2,359 (0.5%)               | 632 (0.6%)                 | NA    |\n",
       "| Product_Category_2 | 11           | 13,945 (2.6%)              | 11,082 (2.6%)              | 2,863 (2.7%)               | NA    |\n",
       "| Product_Category_2 | 12           | 5,419 (1.0%)               | 4,381 (1.0%)               | 1,038 (1.0%)               | NA    |\n",
       "| Product_Category_2 | 13           | 10,369 (1.9%)              | 8,273 (1.9%)               | 2,096 (1.9%)               | NA    |\n",
       "| Product_Category_2 | 14           | 54,158 (10.1%)             | 43,356 (10.1%)             | 10,802 (10.0%)             | NA    |\n",
       "| Product_Category_2 | 15           | 37,317 (6.9%)              | 29,798 (6.9%)              | 7,519 (7.0%)               | NA    |\n",
       "| Product_Category_2 | 16           | 42,602 (7.9%)              | 34,104 (7.9%)              | 8,498 (7.9%)               | NA    |\n",
       "| Product_Category_2 | 17           | 13,130 (2.4%)              | 10,485 (2.4%)              | 2,645 (2.5%)               | NA    |\n",
       "| Product_Category_2 | 18           | 2,730 (0.5%)               | 2,192 (0.5%)               | 538 (0.5%)                 | NA    |\n",
       "| Product_Category_3 | 0            | 373,299 (69.4%)            | 298,640 (69.4%)            | 74,659 (69.4%)             | NA    |\n",
       "| Product_Category_3 | 3            | 600 (0.1%)                 | 473 (0.1%)                 | 127 (0.1%)                 | NA    |\n",
       "| Product_Category_3 | 4            | 1,840 (0.3%)               | 1,466 (0.3%)               | 374 (0.3%)                 | NA    |\n",
       "| Product_Category_3 | 5            | 16,380 (3.0%)              | 13,064 (3.0%)              | 3,316 (3.1%)               | NA    |\n",
       "| Product_Category_3 | 6            | 4,818 (0.9%)               | 3,859 (0.9%)               | 959 (0.9%)                 | NA    |\n",
       "| Product_Category_3 | 8            | 12,384 (2.3%)              | 9,971 (2.3%)               | 2,413 (2.2%)               | NA    |\n",
       "| Product_Category_3 | 9            | 11,414 (2.1%)              | 9,080 (2.1%)               | 2,334 (2.2%)               | NA    |\n",
       "| Product_Category_3 | 10           | 1,698 (0.3%)               | 1,335 (0.3%)               | 363 (0.3%)                 | NA    |\n",
       "| Product_Category_3 | 11           | 1,773 (0.3%)               | 1,395 (0.3%)               | 378 (0.4%)                 | NA    |\n",
       "| Product_Category_3 | 12           | 9,094 (1.7%)               | 7,314 (1.7%)               | 1,780 (1.7%)               | NA    |\n",
       "| Product_Category_3 | 13           | 5,385 (1.0%)               | 4,266 (1.0%)               | 1,119 (1.0%)               | NA    |\n",
       "| Product_Category_3 | 14           | 18,121 (3.4%)              | 14,572 (3.4%)              | 3,549 (3.3%)               | NA    |\n",
       "| Product_Category_3 | 15           | 27,611 (5.1%)              | 22,134 (5.1%)              | 5,477 (5.1%)               | NA    |\n",
       "| Product_Category_3 | 16           | 32,148 (6.0%)              | 25,687 (6.0%)              | 6,461 (6.0%)               | NA    |\n",
       "| Product_Category_3 | 17           | 16,449 (3.1%)              | 13,117 (3.1%)              | 3,332 (3.1%)               | NA    |\n",
       "| Product_Category_3 | 18           | 4,563 (0.8%)               | 3,688 (0.9%)               | 875 (0.8%)                 | NA    |\n",
       "| Purchase           | Mean (SD)    | 9,333.9 (4,981.0)          | 9,332.5 (4,982.2)          | 9,339.4 (4,976.2)          | NA    |\n",
       "| Purchase           | Median (IQR) | 8,062.0 (5,866.0-12,073.0) | 8,060.0 (5,866.0-12,070.0) | 8,069.0 (5,868.0-12,083.0) | 0.683 |\n",
       "| traintest_ind_     | Mean (SD)    | 1.2 (0.4)                  | NA                         | NA                         | NA    |\n",
       "| traintest_ind_     | Median (IQR) | 1.0 (1.0-1.0)              | NA                         | NA                         | 0     |\n",
       "\n"
      ],
      "text/plain": [
       "    V1                 V2           Pop                       \n",
       "1   Individuals        n            537577                    \n",
       "2   Gender             F            132,197 (24.6%)           \n",
       "3   Gender             M            405,380 (75.4%)           \n",
       "4   Age                0-17         14,707 (2.7%)             \n",
       "5   Age                18-25        97,634 (18.2%)            \n",
       "6   Age                26-35        214,690 (39.9%)           \n",
       "7   Age                36-45        107,499 (20.0%)           \n",
       "8   Age                46-50        44,526 (8.3%)             \n",
       "9   Age                51-55        37,618 (7.0%)             \n",
       "10  Age                55+          20,903 (3.9%)             \n",
       "11  Occupation         0            68,120 (12.7%)            \n",
       "12  Occupation         1            45,971 (8.6%)             \n",
       "13  Occupation         2            25,845 (4.8%)             \n",
       "14  Occupation         3            17,366 (3.2%)             \n",
       "15  Occupation         4            70,862 (13.2%)            \n",
       "16  Occupation         5            11,985 (2.2%)             \n",
       "17  Occupation         6            19,822 (3.7%)             \n",
       "18  Occupation         7            57,806 (10.8%)            \n",
       "19  Occupation         8            1,524 (0.3%)              \n",
       "20  Occupation         9            6,153 (1.1%)              \n",
       "21  Occupation         10           12,623 (2.3%)             \n",
       "22  Occupation         11           11,338 (2.1%)             \n",
       "23  Occupation         12           30,423 (5.7%)             \n",
       "24  Occupation         13           7,548 (1.4%)              \n",
       "25  Occupation         14           26,712 (5.0%)             \n",
       "26  Occupation         15           11,812 (2.2%)             \n",
       "27  Occupation         16           24,790 (4.6%)             \n",
       "28  Occupation         17           39,090 (7.3%)             \n",
       "29  Occupation         18           6,525 (1.2%)              \n",
       "30  Occupation         19           8,352 (1.6%)              \n",
       "... ...                ...          ...                       \n",
       "67  Product_Category_2 9            5,591 (1.0%)              \n",
       "68  Product_Category_2 10           2,991 (0.6%)              \n",
       "69  Product_Category_2 11           13,945 (2.6%)             \n",
       "70  Product_Category_2 12           5,419 (1.0%)              \n",
       "71  Product_Category_2 13           10,369 (1.9%)             \n",
       "72  Product_Category_2 14           54,158 (10.1%)            \n",
       "73  Product_Category_2 15           37,317 (6.9%)             \n",
       "74  Product_Category_2 16           42,602 (7.9%)             \n",
       "75  Product_Category_2 17           13,130 (2.4%)             \n",
       "76  Product_Category_2 18           2,730 (0.5%)              \n",
       "77  Product_Category_3 0            373,299 (69.4%)           \n",
       "78  Product_Category_3 3            600 (0.1%)                \n",
       "79  Product_Category_3 4            1,840 (0.3%)              \n",
       "80  Product_Category_3 5            16,380 (3.0%)             \n",
       "81  Product_Category_3 6            4,818 (0.9%)              \n",
       "82  Product_Category_3 8            12,384 (2.3%)             \n",
       "83  Product_Category_3 9            11,414 (2.1%)             \n",
       "84  Product_Category_3 10           1,698 (0.3%)              \n",
       "85  Product_Category_3 11           1,773 (0.3%)              \n",
       "86  Product_Category_3 12           9,094 (1.7%)              \n",
       "87  Product_Category_3 13           5,385 (1.0%)              \n",
       "88  Product_Category_3 14           18,121 (3.4%)             \n",
       "89  Product_Category_3 15           27,611 (5.1%)             \n",
       "90  Product_Category_3 16           32,148 (6.0%)             \n",
       "91  Product_Category_3 17           16,449 (3.1%)             \n",
       "92  Product_Category_3 18           4,563 (0.8%)              \n",
       "93  Purchase           Mean (SD)    9,333.9 (4,981.0)         \n",
       "94  Purchase           Median (IQR) 8,062.0 (5,866.0-12,073.0)\n",
       "95  traintest_ind_     Mean (SD)    1.2 (0.4)                 \n",
       "96  traintest_ind_     Median (IQR) 1.0 (1.0-1.0)             \n",
       "    1                          2                          pval \n",
       "1   430061                     107516                     NA   \n",
       "2   105,924 (24.6%)            26,273 (24.4%)             NA   \n",
       "3   324,137 (75.4%)            81,243 (75.6%)             0.189\n",
       "4   11,768 (2.7%)              2,939 (2.7%)               NA   \n",
       "5   78,137 (18.2%)             19,497 (18.1%)             0.747\n",
       "6   171,860 (40.0%)            42,830 (39.8%)             NA   \n",
       "7   86,039 (20.0%)             21,460 (20.0%)             NA   \n",
       "8   35,601 (8.3%)              8,925 (8.3%)               NA   \n",
       "9   30,010 (7.0%)              7,608 (7.1%)               NA   \n",
       "10  16,646 (3.9%)              4,257 (4.0%)               NA   \n",
       "11  54,612 (12.7%)             13,508 (12.6%)             NA   \n",
       "12  36,740 (8.5%)              9,231 (8.6%)               NA   \n",
       "13  20,776 (4.8%)              5,069 (4.7%)               NA   \n",
       "14  13,830 (3.2%)              3,536 (3.3%)               NA   \n",
       "15  56,612 (13.2%)             14,250 (13.3%)             NA   \n",
       "16  9,497 (2.2%)               2,488 (2.3%)               NA   \n",
       "17  15,903 (3.7%)              3,919 (3.6%)               NA   \n",
       "18  46,119 (10.7%)             11,687 (10.9%)             NA   \n",
       "19  1,239 (0.3%)               285 (0.3%)                 NA   \n",
       "20  4,947 (1.2%)               1,206 (1.1%)               NA   \n",
       "21  10,101 (2.3%)              2,522 (2.3%)               NA   \n",
       "22  9,100 (2.1%)               2,238 (2.1%)               NA   \n",
       "23  24,481 (5.7%)              5,942 (5.5%)               NA   \n",
       "24  5,923 (1.4%)               1,625 (1.5%)               NA   \n",
       "25  21,349 (5.0%)              5,363 (5.0%)               NA   \n",
       "26  9,526 (2.2%)               2,286 (2.1%)               NA   \n",
       "27  19,809 (4.6%)              4,981 (4.6%)               NA   \n",
       "28  31,129 (7.2%)              7,961 (7.4%)               NA   \n",
       "29  5,206 (1.2%)               1,319 (1.2%)               NA   \n",
       "30  6,731 (1.6%)               1,621 (1.5%)               NA   \n",
       "... ...                        ...                        ...  \n",
       "67  4,494 (1.0%)               1,097 (1.0%)               NA   \n",
       "68  2,359 (0.5%)               632 (0.6%)                 NA   \n",
       "69  11,082 (2.6%)              2,863 (2.7%)               NA   \n",
       "70  4,381 (1.0%)               1,038 (1.0%)               NA   \n",
       "71  8,273 (1.9%)               2,096 (1.9%)               NA   \n",
       "72  43,356 (10.1%)             10,802 (10.0%)             NA   \n",
       "73  29,798 (6.9%)              7,519 (7.0%)               NA   \n",
       "74  34,104 (7.9%)              8,498 (7.9%)               NA   \n",
       "75  10,485 (2.4%)              2,645 (2.5%)               NA   \n",
       "76  2,192 (0.5%)               538 (0.5%)                 NA   \n",
       "77  298,640 (69.4%)            74,659 (69.4%)             NA   \n",
       "78  473 (0.1%)                 127 (0.1%)                 NA   \n",
       "79  1,466 (0.3%)               374 (0.3%)                 NA   \n",
       "80  13,064 (3.0%)              3,316 (3.1%)               NA   \n",
       "81  3,859 (0.9%)               959 (0.9%)                 NA   \n",
       "82  9,971 (2.3%)               2,413 (2.2%)               NA   \n",
       "83  9,080 (2.1%)               2,334 (2.2%)               NA   \n",
       "84  1,335 (0.3%)               363 (0.3%)                 NA   \n",
       "85  1,395 (0.3%)               378 (0.4%)                 NA   \n",
       "86  7,314 (1.7%)               1,780 (1.7%)               NA   \n",
       "87  4,266 (1.0%)               1,119 (1.0%)               NA   \n",
       "88  14,572 (3.4%)              3,549 (3.3%)               NA   \n",
       "89  22,134 (5.1%)              5,477 (5.1%)               NA   \n",
       "90  25,687 (6.0%)              6,461 (6.0%)               NA   \n",
       "91  13,117 (3.1%)              3,332 (3.1%)               NA   \n",
       "92  3,688 (0.9%)               875 (0.8%)                 NA   \n",
       "93  9,332.5 (4,982.2)          9,339.4 (4,976.2)          NA   \n",
       "94  8,060.0 (5,866.0-12,070.0) 8,069.0 (5,868.0-12,083.0) 0.683\n",
       "95  NA                         NA                         NA   \n",
       "96  NA                         NA                         0    "
      ]
     },
     "metadata": {},
     "output_type": "display_data"
    }
   ],
   "source": [
    "tab1"
   ]
  },
  {
   "cell_type": "code",
   "execution_count": 109,
   "metadata": {},
   "outputs": [
    {
     "data": {
      "text/html": [
       "<table>\n",
       "<caption>A tibble: 1 × 6</caption>\n",
       "<thead>\n",
       "\t<tr><th scope=col>V1</th><th scope=col>V2</th><th scope=col>Pop</th><th scope=col>1</th><th scope=col>2</th><th scope=col>pval</th></tr>\n",
       "\t<tr><th scope=col>&lt;chr&gt;</th><th scope=col>&lt;chr&gt;</th><th scope=col>&lt;chr&gt;</th><th scope=col>&lt;chr&gt;</th><th scope=col>&lt;chr&gt;</th><th scope=col>&lt;chr&gt;</th></tr>\n",
       "</thead>\n",
       "<tbody>\n",
       "\t<tr><td>traintest_ind_</td><td>Median (IQR)</td><td>1.0 (1.0-1.0)</td><td>NA</td><td>NA</td><td>0</td></tr>\n",
       "</tbody>\n",
       "</table>\n"
      ],
      "text/latex": [
       "A tibble: 1 × 6\n",
       "\\begin{tabular}{llllll}\n",
       " V1 & V2 & Pop & 1 & 2 & pval\\\\\n",
       " <chr> & <chr> & <chr> & <chr> & <chr> & <chr>\\\\\n",
       "\\hline\n",
       "\t traintest\\_ind\\_ & Median (IQR) & 1.0 (1.0-1.0) & NA & NA & 0\\\\\n",
       "\\end{tabular}\n"
      ],
      "text/markdown": [
       "\n",
       "A tibble: 1 × 6\n",
       "\n",
       "| V1 &lt;chr&gt; | V2 &lt;chr&gt; | Pop &lt;chr&gt; | 1 &lt;chr&gt; | 2 &lt;chr&gt; | pval &lt;chr&gt; |\n",
       "|---|---|---|---|---|---|\n",
       "| traintest_ind_ | Median (IQR) | 1.0 (1.0-1.0) | NA | NA | 0 |\n",
       "\n"
      ],
      "text/plain": [
       "  V1             V2           Pop           1  2  pval\n",
       "1 traintest_ind_ Median (IQR) 1.0 (1.0-1.0) NA NA 0   "
      ]
     },
     "metadata": {},
     "output_type": "display_data"
    }
   ],
   "source": [
    "tab1 %>% filter(pval < 0.05)"
   ]
  },
  {
   "cell_type": "markdown",
   "metadata": {},
   "source": [
    "## Train and Dev"
   ]
  },
  {
   "cell_type": "code",
   "execution_count": 110,
   "metadata": {},
   "outputs": [
    {
     "name": "stderr",
     "output_type": "stream",
     "text": [
      "Warning message in Table1(data = data, y = \"traintest_ind_\", x = names(train), messages = F):\n",
      "\"The following variables have unique values and will not be included in the analysis: \"\n"
     ]
    },
    {
     "name": "stdout",
     "output_type": "stream",
     "text": [
      "  |================================================================      |  91%"
     ]
    },
    {
     "name": "stderr",
     "output_type": "stream",
     "text": [
      "You got a perfectly balanced training and test datasets\n",
      "\n",
      " \n",
      "\n",
      "Dataset partitioned into:\n",
      "\n",
      " + Train dataset: train\n",
      "\n",
      " + Test dataset: dev\n",
      "\n"
     ]
    }
   ],
   "source": [
    "tab2 <- train_test(data = temp[,vn], train_name = \"train\", test_name = \"dev\",prop = 0.8, seed = 123, tableone=T)"
   ]
  },
  {
   "cell_type": "code",
   "execution_count": 111,
   "metadata": {},
   "outputs": [
    {
     "data": {
      "text/html": [
       "<style>\n",
       ".list-inline {list-style: none; margin:0; padding: 0}\n",
       ".list-inline>li {display: inline-block}\n",
       ".list-inline>li:not(:last-child)::after {content: \"\\00b7\"; padding: 0 .5ex}\n",
       "</style>\n",
       "<ol class=list-inline><li>344048</li><li>10</li></ol>\n"
      ],
      "text/latex": [
       "\\begin{enumerate*}\n",
       "\\item 344048\n",
       "\\item 10\n",
       "\\end{enumerate*}\n"
      ],
      "text/markdown": [
       "1. 344048\n",
       "2. 10\n",
       "\n",
       "\n"
      ],
      "text/plain": [
       "[1] 344048     10"
      ]
     },
     "metadata": {},
     "output_type": "display_data"
    },
    {
     "data": {
      "text/html": [
       "<style>\n",
       ".list-inline {list-style: none; margin:0; padding: 0}\n",
       ".list-inline>li {display: inline-block}\n",
       ".list-inline>li:not(:last-child)::after {content: \"\\00b7\"; padding: 0 .5ex}\n",
       "</style>\n",
       "<ol class=list-inline><li>86013</li><li>10</li></ol>\n"
      ],
      "text/latex": [
       "\\begin{enumerate*}\n",
       "\\item 86013\n",
       "\\item 10\n",
       "\\end{enumerate*}\n"
      ],
      "text/markdown": [
       "1. 86013\n",
       "2. 10\n",
       "\n",
       "\n"
      ],
      "text/plain": [
       "[1] 86013    10"
      ]
     },
     "metadata": {},
     "output_type": "display_data"
    }
   ],
   "source": [
    "dim(train)\n",
    "dim(dev)"
   ]
  },
  {
   "cell_type": "code",
   "execution_count": 112,
   "metadata": {},
   "outputs": [
    {
     "data": {
      "text/html": [
       "<table>\n",
       "<caption>A tibble: 96 × 6</caption>\n",
       "<thead>\n",
       "\t<tr><th scope=col>V1</th><th scope=col>V2</th><th scope=col>Pop</th><th scope=col>1</th><th scope=col>2</th><th scope=col>pval</th></tr>\n",
       "\t<tr><th scope=col>&lt;chr&gt;</th><th scope=col>&lt;chr&gt;</th><th scope=col>&lt;chr&gt;</th><th scope=col>&lt;chr&gt;</th><th scope=col>&lt;chr&gt;</th><th scope=col>&lt;chr&gt;</th></tr>\n",
       "</thead>\n",
       "<tbody>\n",
       "\t<tr><td>Individuals</td><td>n    </td><td>430061         </td><td>344048         </td><td>86013         </td><td>NA   </td></tr>\n",
       "\t<tr><td>Gender     </td><td>F    </td><td>105,924 (24.6%)</td><td>84,668 (24.6%) </td><td>21,256 (24.7%)</td><td>NA   </td></tr>\n",
       "\t<tr><td>Gender     </td><td>M    </td><td>324,137 (75.4%)</td><td>259,380 (75.4%)</td><td>64,757 (75.3%)</td><td>0.533</td></tr>\n",
       "\t<tr><td>Age        </td><td>0-17 </td><td>11,768 (2.7%)  </td><td>9,513 (2.8%)   </td><td>2,255 (2.6%)  </td><td>NA   </td></tr>\n",
       "\t<tr><td>Age        </td><td>18-25</td><td>78,137 (18.2%) </td><td>62,607 (18.2%) </td><td>15,530 (18.1%)</td><td>0.103</td></tr>\n",
       "\t<tr><td>Age        </td><td>26-35</td><td>171,860 (40.0%)</td><td>137,258 (39.9%)</td><td>34,602 (40.2%)</td><td>NA   </td></tr>\n",
       "\t<tr><td>Age        </td><td>36-45</td><td>86,039 (20.0%) </td><td>68,877 (20.0%) </td><td>17,162 (20.0%)</td><td>NA   </td></tr>\n",
       "\t<tr><td>Age        </td><td>46-50</td><td>35,601 (8.3%)  </td><td>28,494 (8.3%)  </td><td>7,107 (8.3%)  </td><td>NA   </td></tr>\n",
       "\t<tr><td>Age        </td><td>51-55</td><td>30,010 (7.0%)  </td><td>24,056 (7.0%)  </td><td>5,954 (6.9%)  </td><td>NA   </td></tr>\n",
       "\t<tr><td>Age        </td><td>55+  </td><td>16,646 (3.9%)  </td><td>13,243 (3.8%)  </td><td>3,403 (4.0%)  </td><td>NA   </td></tr>\n",
       "\t<tr><td>Occupation </td><td>0    </td><td>54,612 (12.7%) </td><td>43,800 (12.7%) </td><td>10,812 (12.6%)</td><td>NA   </td></tr>\n",
       "\t<tr><td>Occupation </td><td>1    </td><td>36,740 (8.5%)  </td><td>29,472 (8.6%)  </td><td>7,268 (8.4%)  </td><td>NA   </td></tr>\n",
       "\t<tr><td>Occupation </td><td>2    </td><td>20,776 (4.8%)  </td><td>16,604 (4.8%)  </td><td>4,172 (4.9%)  </td><td>NA   </td></tr>\n",
       "\t<tr><td>Occupation </td><td>3    </td><td>13,830 (3.2%)  </td><td>10,954 (3.2%)  </td><td>2,876 (3.3%)  </td><td>NA   </td></tr>\n",
       "\t<tr><td>Occupation </td><td>4    </td><td>56,612 (13.2%) </td><td>45,293 (13.2%) </td><td>11,319 (13.2%)</td><td>NA   </td></tr>\n",
       "\t<tr><td>Occupation </td><td>5    </td><td>9,497 (2.2%)   </td><td>7,576 (2.2%)   </td><td>1,921 (2.2%)  </td><td>NA   </td></tr>\n",
       "\t<tr><td>Occupation </td><td>6    </td><td>15,903 (3.7%)  </td><td>12,747 (3.7%)  </td><td>3,156 (3.7%)  </td><td>NA   </td></tr>\n",
       "\t<tr><td>Occupation </td><td>7    </td><td>46,119 (10.7%) </td><td>36,881 (10.7%) </td><td>9,238 (10.7%) </td><td>NA   </td></tr>\n",
       "\t<tr><td>Occupation </td><td>8    </td><td>1,239 (0.3%)   </td><td>971 (0.3%)     </td><td>268 (0.3%)    </td><td>NA   </td></tr>\n",
       "\t<tr><td>Occupation </td><td>9    </td><td>4,947 (1.2%)   </td><td>3,943 (1.1%)   </td><td>1,004 (1.2%)  </td><td>NA   </td></tr>\n",
       "\t<tr><td>Occupation </td><td>10   </td><td>10,101 (2.3%)  </td><td>8,132 (2.4%)   </td><td>1,969 (2.3%)  </td><td>NA   </td></tr>\n",
       "\t<tr><td>Occupation </td><td>11   </td><td>9,100 (2.1%)   </td><td>7,212 (2.1%)   </td><td>1,888 (2.2%)  </td><td>NA   </td></tr>\n",
       "\t<tr><td>Occupation </td><td>12   </td><td>24,481 (5.7%)  </td><td>19,657 (5.7%)  </td><td>4,824 (5.6%)  </td><td>NA   </td></tr>\n",
       "\t<tr><td>Occupation </td><td>13   </td><td>5,923 (1.4%)   </td><td>4,697 (1.4%)   </td><td>1,226 (1.4%)  </td><td>NA   </td></tr>\n",
       "\t<tr><td>Occupation </td><td>14   </td><td>21,349 (5.0%)  </td><td>17,041 (5.0%)  </td><td>4,308 (5.0%)  </td><td>NA   </td></tr>\n",
       "\t<tr><td>Occupation </td><td>15   </td><td>9,526 (2.2%)   </td><td>7,610 (2.2%)   </td><td>1,916 (2.2%)  </td><td>NA   </td></tr>\n",
       "\t<tr><td>Occupation </td><td>16   </td><td>19,809 (4.6%)  </td><td>15,822 (4.6%)  </td><td>3,987 (4.6%)  </td><td>NA   </td></tr>\n",
       "\t<tr><td>Occupation </td><td>17   </td><td>31,129 (7.2%)  </td><td>24,989 (7.3%)  </td><td>6,140 (7.1%)  </td><td>NA   </td></tr>\n",
       "\t<tr><td>Occupation </td><td>18   </td><td>5,206 (1.2%)   </td><td>4,166 (1.2%)   </td><td>1,040 (1.2%)  </td><td>NA   </td></tr>\n",
       "\t<tr><td>Occupation </td><td>19   </td><td>6,731 (1.6%)   </td><td>5,436 (1.6%)   </td><td>1,295 (1.5%)  </td><td>NA   </td></tr>\n",
       "\t<tr><td>...</td><td>...</td><td>...</td><td>...</td><td>...</td><td>...</td></tr>\n",
       "\t<tr><td>Product_Category_2</td><td>9           </td><td>4,494 (1.0%)              </td><td>3,620 (1.1%)              </td><td>874 (1.0%)                </td><td>NA   </td></tr>\n",
       "\t<tr><td>Product_Category_2</td><td>10          </td><td>2,359 (0.5%)              </td><td>1,919 (0.6%)              </td><td>440 (0.5%)                </td><td>NA   </td></tr>\n",
       "\t<tr><td>Product_Category_2</td><td>11          </td><td>11,082 (2.6%)             </td><td>8,832 (2.6%)              </td><td>2,250 (2.6%)              </td><td>NA   </td></tr>\n",
       "\t<tr><td>Product_Category_2</td><td>12          </td><td>4,381 (1.0%)              </td><td>3,494 (1.0%)              </td><td>887 (1.0%)                </td><td>NA   </td></tr>\n",
       "\t<tr><td>Product_Category_2</td><td>13          </td><td>8,273 (1.9%)              </td><td>6,617 (1.9%)              </td><td>1,656 (1.9%)              </td><td>NA   </td></tr>\n",
       "\t<tr><td>Product_Category_2</td><td>14          </td><td>43,356 (10.1%)            </td><td>34,690 (10.1%)            </td><td>8,666 (10.1%)             </td><td>NA   </td></tr>\n",
       "\t<tr><td>Product_Category_2</td><td>15          </td><td>29,798 (6.9%)             </td><td>23,869 (6.9%)             </td><td>5,929 (6.9%)              </td><td>NA   </td></tr>\n",
       "\t<tr><td>Product_Category_2</td><td>16          </td><td>34,104 (7.9%)             </td><td>27,238 (7.9%)             </td><td>6,866 (8.0%)              </td><td>NA   </td></tr>\n",
       "\t<tr><td>Product_Category_2</td><td>17          </td><td>10,485 (2.4%)             </td><td>8,354 (2.4%)              </td><td>2,131 (2.5%)              </td><td>NA   </td></tr>\n",
       "\t<tr><td>Product_Category_2</td><td>18          </td><td>2,192 (0.5%)              </td><td>1,727 (0.5%)              </td><td>465 (0.5%)                </td><td>NA   </td></tr>\n",
       "\t<tr><td>Product_Category_3</td><td>0           </td><td>298,640 (69.4%)           </td><td>239,007 (69.5%)           </td><td>59,633 (69.3%)            </td><td>NA   </td></tr>\n",
       "\t<tr><td>Product_Category_3</td><td>3           </td><td>473 (0.1%)                </td><td>378 (0.1%)                </td><td>95 (0.1%)                 </td><td>NA   </td></tr>\n",
       "\t<tr><td>Product_Category_3</td><td>4           </td><td>1,466 (0.3%)              </td><td>1,187 (0.3%)              </td><td>279 (0.3%)                </td><td>NA   </td></tr>\n",
       "\t<tr><td>Product_Category_3</td><td>5           </td><td>13,064 (3.0%)             </td><td>10,450 (3.0%)             </td><td>2,614 (3.0%)              </td><td>NA   </td></tr>\n",
       "\t<tr><td>Product_Category_3</td><td>6           </td><td>3,859 (0.9%)              </td><td>3,135 (0.9%)              </td><td>724 (0.8%)                </td><td>NA   </td></tr>\n",
       "\t<tr><td>Product_Category_3</td><td>8           </td><td>9,971 (2.3%)              </td><td>7,992 (2.3%)              </td><td>1,979 (2.3%)              </td><td>NA   </td></tr>\n",
       "\t<tr><td>Product_Category_3</td><td>9           </td><td>9,080 (2.1%)              </td><td>7,256 (2.1%)              </td><td>1,824 (2.1%)              </td><td>NA   </td></tr>\n",
       "\t<tr><td>Product_Category_3</td><td>10          </td><td>1,335 (0.3%)              </td><td>1,076 (0.3%)              </td><td>259 (0.3%)                </td><td>NA   </td></tr>\n",
       "\t<tr><td>Product_Category_3</td><td>11          </td><td>1,395 (0.3%)              </td><td>1,135 (0.3%)              </td><td>260 (0.3%)                </td><td>NA   </td></tr>\n",
       "\t<tr><td>Product_Category_3</td><td>12          </td><td>7,314 (1.7%)              </td><td>5,793 (1.7%)              </td><td>1,521 (1.8%)              </td><td>NA   </td></tr>\n",
       "\t<tr><td>Product_Category_3</td><td>13          </td><td>4,266 (1.0%)              </td><td>3,433 (1.0%)              </td><td>833 (1.0%)                </td><td>NA   </td></tr>\n",
       "\t<tr><td>Product_Category_3</td><td>14          </td><td>14,572 (3.4%)             </td><td>11,576 (3.4%)             </td><td>2,996 (3.5%)              </td><td>NA   </td></tr>\n",
       "\t<tr><td>Product_Category_3</td><td>15          </td><td>22,134 (5.1%)             </td><td>17,646 (5.1%)             </td><td>4,488 (5.2%)              </td><td>NA   </td></tr>\n",
       "\t<tr><td>Product_Category_3</td><td>16          </td><td>25,687 (6.0%)             </td><td>20,569 (6.0%)             </td><td>5,118 (6.0%)              </td><td>NA   </td></tr>\n",
       "\t<tr><td>Product_Category_3</td><td>17          </td><td>13,117 (3.1%)             </td><td>10,434 (3.0%)             </td><td>2,683 (3.1%)              </td><td>NA   </td></tr>\n",
       "\t<tr><td>Product_Category_3</td><td>18          </td><td>3,688 (0.9%)              </td><td>2,981 (0.9%)              </td><td>707 (0.8%)                </td><td>NA   </td></tr>\n",
       "\t<tr><td>Purchase          </td><td>Mean (SD)   </td><td>9,332.5 (4,982.2)         </td><td>9,329.4 (4,978.6)         </td><td>9,344.9 (4,996.7)         </td><td>NA   </td></tr>\n",
       "\t<tr><td>Purchase          </td><td>Median (IQR)</td><td>8,060.0 (5,866.0-12,070.0)</td><td>8,060.0 (5,864.0-12,067.0)</td><td>8,056.0 (5,871.0-12,084.0)</td><td>0.414</td></tr>\n",
       "\t<tr><td>traintest_ind_    </td><td>Mean (SD)   </td><td>1.2 (0.4)                 </td><td>NA                        </td><td>NA                        </td><td>NA   </td></tr>\n",
       "\t<tr><td>traintest_ind_    </td><td>Median (IQR)</td><td>1.0 (1.0-1.0)             </td><td>NA                        </td><td>NA                        </td><td>0    </td></tr>\n",
       "</tbody>\n",
       "</table>\n"
      ],
      "text/latex": [
       "A tibble: 96 × 6\n",
       "\\begin{tabular}{llllll}\n",
       " V1 & V2 & Pop & 1 & 2 & pval\\\\\n",
       " <chr> & <chr> & <chr> & <chr> & <chr> & <chr>\\\\\n",
       "\\hline\n",
       "\t Individuals & n     & 430061          & 344048          & 86013          & NA   \\\\\n",
       "\t Gender      & F     & 105,924 (24.6\\%) & 84,668 (24.6\\%)  & 21,256 (24.7\\%) & NA   \\\\\n",
       "\t Gender      & M     & 324,137 (75.4\\%) & 259,380 (75.4\\%) & 64,757 (75.3\\%) & 0.533\\\\\n",
       "\t Age         & 0-17  & 11,768 (2.7\\%)   & 9,513 (2.8\\%)    & 2,255 (2.6\\%)   & NA   \\\\\n",
       "\t Age         & 18-25 & 78,137 (18.2\\%)  & 62,607 (18.2\\%)  & 15,530 (18.1\\%) & 0.103\\\\\n",
       "\t Age         & 26-35 & 171,860 (40.0\\%) & 137,258 (39.9\\%) & 34,602 (40.2\\%) & NA   \\\\\n",
       "\t Age         & 36-45 & 86,039 (20.0\\%)  & 68,877 (20.0\\%)  & 17,162 (20.0\\%) & NA   \\\\\n",
       "\t Age         & 46-50 & 35,601 (8.3\\%)   & 28,494 (8.3\\%)   & 7,107 (8.3\\%)   & NA   \\\\\n",
       "\t Age         & 51-55 & 30,010 (7.0\\%)   & 24,056 (7.0\\%)   & 5,954 (6.9\\%)   & NA   \\\\\n",
       "\t Age         & 55+   & 16,646 (3.9\\%)   & 13,243 (3.8\\%)   & 3,403 (4.0\\%)   & NA   \\\\\n",
       "\t Occupation  & 0     & 54,612 (12.7\\%)  & 43,800 (12.7\\%)  & 10,812 (12.6\\%) & NA   \\\\\n",
       "\t Occupation  & 1     & 36,740 (8.5\\%)   & 29,472 (8.6\\%)   & 7,268 (8.4\\%)   & NA   \\\\\n",
       "\t Occupation  & 2     & 20,776 (4.8\\%)   & 16,604 (4.8\\%)   & 4,172 (4.9\\%)   & NA   \\\\\n",
       "\t Occupation  & 3     & 13,830 (3.2\\%)   & 10,954 (3.2\\%)   & 2,876 (3.3\\%)   & NA   \\\\\n",
       "\t Occupation  & 4     & 56,612 (13.2\\%)  & 45,293 (13.2\\%)  & 11,319 (13.2\\%) & NA   \\\\\n",
       "\t Occupation  & 5     & 9,497 (2.2\\%)    & 7,576 (2.2\\%)    & 1,921 (2.2\\%)   & NA   \\\\\n",
       "\t Occupation  & 6     & 15,903 (3.7\\%)   & 12,747 (3.7\\%)   & 3,156 (3.7\\%)   & NA   \\\\\n",
       "\t Occupation  & 7     & 46,119 (10.7\\%)  & 36,881 (10.7\\%)  & 9,238 (10.7\\%)  & NA   \\\\\n",
       "\t Occupation  & 8     & 1,239 (0.3\\%)    & 971 (0.3\\%)      & 268 (0.3\\%)     & NA   \\\\\n",
       "\t Occupation  & 9     & 4,947 (1.2\\%)    & 3,943 (1.1\\%)    & 1,004 (1.2\\%)   & NA   \\\\\n",
       "\t Occupation  & 10    & 10,101 (2.3\\%)   & 8,132 (2.4\\%)    & 1,969 (2.3\\%)   & NA   \\\\\n",
       "\t Occupation  & 11    & 9,100 (2.1\\%)    & 7,212 (2.1\\%)    & 1,888 (2.2\\%)   & NA   \\\\\n",
       "\t Occupation  & 12    & 24,481 (5.7\\%)   & 19,657 (5.7\\%)   & 4,824 (5.6\\%)   & NA   \\\\\n",
       "\t Occupation  & 13    & 5,923 (1.4\\%)    & 4,697 (1.4\\%)    & 1,226 (1.4\\%)   & NA   \\\\\n",
       "\t Occupation  & 14    & 21,349 (5.0\\%)   & 17,041 (5.0\\%)   & 4,308 (5.0\\%)   & NA   \\\\\n",
       "\t Occupation  & 15    & 9,526 (2.2\\%)    & 7,610 (2.2\\%)    & 1,916 (2.2\\%)   & NA   \\\\\n",
       "\t Occupation  & 16    & 19,809 (4.6\\%)   & 15,822 (4.6\\%)   & 3,987 (4.6\\%)   & NA   \\\\\n",
       "\t Occupation  & 17    & 31,129 (7.2\\%)   & 24,989 (7.3\\%)   & 6,140 (7.1\\%)   & NA   \\\\\n",
       "\t Occupation  & 18    & 5,206 (1.2\\%)    & 4,166 (1.2\\%)    & 1,040 (1.2\\%)   & NA   \\\\\n",
       "\t Occupation  & 19    & 6,731 (1.6\\%)    & 5,436 (1.6\\%)    & 1,295 (1.5\\%)   & NA   \\\\\n",
       "\t ... & ... & ... & ... & ... & ...\\\\\n",
       "\t Product\\_Category\\_2 & 9            & 4,494 (1.0\\%)               & 3,620 (1.1\\%)               & 874 (1.0\\%)                 & NA   \\\\\n",
       "\t Product\\_Category\\_2 & 10           & 2,359 (0.5\\%)               & 1,919 (0.6\\%)               & 440 (0.5\\%)                 & NA   \\\\\n",
       "\t Product\\_Category\\_2 & 11           & 11,082 (2.6\\%)              & 8,832 (2.6\\%)               & 2,250 (2.6\\%)               & NA   \\\\\n",
       "\t Product\\_Category\\_2 & 12           & 4,381 (1.0\\%)               & 3,494 (1.0\\%)               & 887 (1.0\\%)                 & NA   \\\\\n",
       "\t Product\\_Category\\_2 & 13           & 8,273 (1.9\\%)               & 6,617 (1.9\\%)               & 1,656 (1.9\\%)               & NA   \\\\\n",
       "\t Product\\_Category\\_2 & 14           & 43,356 (10.1\\%)             & 34,690 (10.1\\%)             & 8,666 (10.1\\%)              & NA   \\\\\n",
       "\t Product\\_Category\\_2 & 15           & 29,798 (6.9\\%)              & 23,869 (6.9\\%)              & 5,929 (6.9\\%)               & NA   \\\\\n",
       "\t Product\\_Category\\_2 & 16           & 34,104 (7.9\\%)              & 27,238 (7.9\\%)              & 6,866 (8.0\\%)               & NA   \\\\\n",
       "\t Product\\_Category\\_2 & 17           & 10,485 (2.4\\%)              & 8,354 (2.4\\%)               & 2,131 (2.5\\%)               & NA   \\\\\n",
       "\t Product\\_Category\\_2 & 18           & 2,192 (0.5\\%)               & 1,727 (0.5\\%)               & 465 (0.5\\%)                 & NA   \\\\\n",
       "\t Product\\_Category\\_3 & 0            & 298,640 (69.4\\%)            & 239,007 (69.5\\%)            & 59,633 (69.3\\%)             & NA   \\\\\n",
       "\t Product\\_Category\\_3 & 3            & 473 (0.1\\%)                 & 378 (0.1\\%)                 & 95 (0.1\\%)                  & NA   \\\\\n",
       "\t Product\\_Category\\_3 & 4            & 1,466 (0.3\\%)               & 1,187 (0.3\\%)               & 279 (0.3\\%)                 & NA   \\\\\n",
       "\t Product\\_Category\\_3 & 5            & 13,064 (3.0\\%)              & 10,450 (3.0\\%)              & 2,614 (3.0\\%)               & NA   \\\\\n",
       "\t Product\\_Category\\_3 & 6            & 3,859 (0.9\\%)               & 3,135 (0.9\\%)               & 724 (0.8\\%)                 & NA   \\\\\n",
       "\t Product\\_Category\\_3 & 8            & 9,971 (2.3\\%)               & 7,992 (2.3\\%)               & 1,979 (2.3\\%)               & NA   \\\\\n",
       "\t Product\\_Category\\_3 & 9            & 9,080 (2.1\\%)               & 7,256 (2.1\\%)               & 1,824 (2.1\\%)               & NA   \\\\\n",
       "\t Product\\_Category\\_3 & 10           & 1,335 (0.3\\%)               & 1,076 (0.3\\%)               & 259 (0.3\\%)                 & NA   \\\\\n",
       "\t Product\\_Category\\_3 & 11           & 1,395 (0.3\\%)               & 1,135 (0.3\\%)               & 260 (0.3\\%)                 & NA   \\\\\n",
       "\t Product\\_Category\\_3 & 12           & 7,314 (1.7\\%)               & 5,793 (1.7\\%)               & 1,521 (1.8\\%)               & NA   \\\\\n",
       "\t Product\\_Category\\_3 & 13           & 4,266 (1.0\\%)               & 3,433 (1.0\\%)               & 833 (1.0\\%)                 & NA   \\\\\n",
       "\t Product\\_Category\\_3 & 14           & 14,572 (3.4\\%)              & 11,576 (3.4\\%)              & 2,996 (3.5\\%)               & NA   \\\\\n",
       "\t Product\\_Category\\_3 & 15           & 22,134 (5.1\\%)              & 17,646 (5.1\\%)              & 4,488 (5.2\\%)               & NA   \\\\\n",
       "\t Product\\_Category\\_3 & 16           & 25,687 (6.0\\%)              & 20,569 (6.0\\%)              & 5,118 (6.0\\%)               & NA   \\\\\n",
       "\t Product\\_Category\\_3 & 17           & 13,117 (3.1\\%)              & 10,434 (3.0\\%)              & 2,683 (3.1\\%)               & NA   \\\\\n",
       "\t Product\\_Category\\_3 & 18           & 3,688 (0.9\\%)               & 2,981 (0.9\\%)               & 707 (0.8\\%)                 & NA   \\\\\n",
       "\t Purchase           & Mean (SD)    & 9,332.5 (4,982.2)          & 9,329.4 (4,978.6)          & 9,344.9 (4,996.7)          & NA   \\\\\n",
       "\t Purchase           & Median (IQR) & 8,060.0 (5,866.0-12,070.0) & 8,060.0 (5,864.0-12,067.0) & 8,056.0 (5,871.0-12,084.0) & 0.414\\\\\n",
       "\t traintest\\_ind\\_     & Mean (SD)    & 1.2 (0.4)                  & NA                         & NA                         & NA   \\\\\n",
       "\t traintest\\_ind\\_     & Median (IQR) & 1.0 (1.0-1.0)              & NA                         & NA                         & 0    \\\\\n",
       "\\end{tabular}\n"
      ],
      "text/markdown": [
       "\n",
       "A tibble: 96 × 6\n",
       "\n",
       "| V1 &lt;chr&gt; | V2 &lt;chr&gt; | Pop &lt;chr&gt; | 1 &lt;chr&gt; | 2 &lt;chr&gt; | pval &lt;chr&gt; |\n",
       "|---|---|---|---|---|---|\n",
       "| Individuals | n     | 430061          | 344048          | 86013          | NA    |\n",
       "| Gender      | F     | 105,924 (24.6%) | 84,668 (24.6%)  | 21,256 (24.7%) | NA    |\n",
       "| Gender      | M     | 324,137 (75.4%) | 259,380 (75.4%) | 64,757 (75.3%) | 0.533 |\n",
       "| Age         | 0-17  | 11,768 (2.7%)   | 9,513 (2.8%)    | 2,255 (2.6%)   | NA    |\n",
       "| Age         | 18-25 | 78,137 (18.2%)  | 62,607 (18.2%)  | 15,530 (18.1%) | 0.103 |\n",
       "| Age         | 26-35 | 171,860 (40.0%) | 137,258 (39.9%) | 34,602 (40.2%) | NA    |\n",
       "| Age         | 36-45 | 86,039 (20.0%)  | 68,877 (20.0%)  | 17,162 (20.0%) | NA    |\n",
       "| Age         | 46-50 | 35,601 (8.3%)   | 28,494 (8.3%)   | 7,107 (8.3%)   | NA    |\n",
       "| Age         | 51-55 | 30,010 (7.0%)   | 24,056 (7.0%)   | 5,954 (6.9%)   | NA    |\n",
       "| Age         | 55+   | 16,646 (3.9%)   | 13,243 (3.8%)   | 3,403 (4.0%)   | NA    |\n",
       "| Occupation  | 0     | 54,612 (12.7%)  | 43,800 (12.7%)  | 10,812 (12.6%) | NA    |\n",
       "| Occupation  | 1     | 36,740 (8.5%)   | 29,472 (8.6%)   | 7,268 (8.4%)   | NA    |\n",
       "| Occupation  | 2     | 20,776 (4.8%)   | 16,604 (4.8%)   | 4,172 (4.9%)   | NA    |\n",
       "| Occupation  | 3     | 13,830 (3.2%)   | 10,954 (3.2%)   | 2,876 (3.3%)   | NA    |\n",
       "| Occupation  | 4     | 56,612 (13.2%)  | 45,293 (13.2%)  | 11,319 (13.2%) | NA    |\n",
       "| Occupation  | 5     | 9,497 (2.2%)    | 7,576 (2.2%)    | 1,921 (2.2%)   | NA    |\n",
       "| Occupation  | 6     | 15,903 (3.7%)   | 12,747 (3.7%)   | 3,156 (3.7%)   | NA    |\n",
       "| Occupation  | 7     | 46,119 (10.7%)  | 36,881 (10.7%)  | 9,238 (10.7%)  | NA    |\n",
       "| Occupation  | 8     | 1,239 (0.3%)    | 971 (0.3%)      | 268 (0.3%)     | NA    |\n",
       "| Occupation  | 9     | 4,947 (1.2%)    | 3,943 (1.1%)    | 1,004 (1.2%)   | NA    |\n",
       "| Occupation  | 10    | 10,101 (2.3%)   | 8,132 (2.4%)    | 1,969 (2.3%)   | NA    |\n",
       "| Occupation  | 11    | 9,100 (2.1%)    | 7,212 (2.1%)    | 1,888 (2.2%)   | NA    |\n",
       "| Occupation  | 12    | 24,481 (5.7%)   | 19,657 (5.7%)   | 4,824 (5.6%)   | NA    |\n",
       "| Occupation  | 13    | 5,923 (1.4%)    | 4,697 (1.4%)    | 1,226 (1.4%)   | NA    |\n",
       "| Occupation  | 14    | 21,349 (5.0%)   | 17,041 (5.0%)   | 4,308 (5.0%)   | NA    |\n",
       "| Occupation  | 15    | 9,526 (2.2%)    | 7,610 (2.2%)    | 1,916 (2.2%)   | NA    |\n",
       "| Occupation  | 16    | 19,809 (4.6%)   | 15,822 (4.6%)   | 3,987 (4.6%)   | NA    |\n",
       "| Occupation  | 17    | 31,129 (7.2%)   | 24,989 (7.3%)   | 6,140 (7.1%)   | NA    |\n",
       "| Occupation  | 18    | 5,206 (1.2%)    | 4,166 (1.2%)    | 1,040 (1.2%)   | NA    |\n",
       "| Occupation  | 19    | 6,731 (1.6%)    | 5,436 (1.6%)    | 1,295 (1.5%)   | NA    |\n",
       "| ... | ... | ... | ... | ... | ... |\n",
       "| Product_Category_2 | 9            | 4,494 (1.0%)               | 3,620 (1.1%)               | 874 (1.0%)                 | NA    |\n",
       "| Product_Category_2 | 10           | 2,359 (0.5%)               | 1,919 (0.6%)               | 440 (0.5%)                 | NA    |\n",
       "| Product_Category_2 | 11           | 11,082 (2.6%)              | 8,832 (2.6%)               | 2,250 (2.6%)               | NA    |\n",
       "| Product_Category_2 | 12           | 4,381 (1.0%)               | 3,494 (1.0%)               | 887 (1.0%)                 | NA    |\n",
       "| Product_Category_2 | 13           | 8,273 (1.9%)               | 6,617 (1.9%)               | 1,656 (1.9%)               | NA    |\n",
       "| Product_Category_2 | 14           | 43,356 (10.1%)             | 34,690 (10.1%)             | 8,666 (10.1%)              | NA    |\n",
       "| Product_Category_2 | 15           | 29,798 (6.9%)              | 23,869 (6.9%)              | 5,929 (6.9%)               | NA    |\n",
       "| Product_Category_2 | 16           | 34,104 (7.9%)              | 27,238 (7.9%)              | 6,866 (8.0%)               | NA    |\n",
       "| Product_Category_2 | 17           | 10,485 (2.4%)              | 8,354 (2.4%)               | 2,131 (2.5%)               | NA    |\n",
       "| Product_Category_2 | 18           | 2,192 (0.5%)               | 1,727 (0.5%)               | 465 (0.5%)                 | NA    |\n",
       "| Product_Category_3 | 0            | 298,640 (69.4%)            | 239,007 (69.5%)            | 59,633 (69.3%)             | NA    |\n",
       "| Product_Category_3 | 3            | 473 (0.1%)                 | 378 (0.1%)                 | 95 (0.1%)                  | NA    |\n",
       "| Product_Category_3 | 4            | 1,466 (0.3%)               | 1,187 (0.3%)               | 279 (0.3%)                 | NA    |\n",
       "| Product_Category_3 | 5            | 13,064 (3.0%)              | 10,450 (3.0%)              | 2,614 (3.0%)               | NA    |\n",
       "| Product_Category_3 | 6            | 3,859 (0.9%)               | 3,135 (0.9%)               | 724 (0.8%)                 | NA    |\n",
       "| Product_Category_3 | 8            | 9,971 (2.3%)               | 7,992 (2.3%)               | 1,979 (2.3%)               | NA    |\n",
       "| Product_Category_3 | 9            | 9,080 (2.1%)               | 7,256 (2.1%)               | 1,824 (2.1%)               | NA    |\n",
       "| Product_Category_3 | 10           | 1,335 (0.3%)               | 1,076 (0.3%)               | 259 (0.3%)                 | NA    |\n",
       "| Product_Category_3 | 11           | 1,395 (0.3%)               | 1,135 (0.3%)               | 260 (0.3%)                 | NA    |\n",
       "| Product_Category_3 | 12           | 7,314 (1.7%)               | 5,793 (1.7%)               | 1,521 (1.8%)               | NA    |\n",
       "| Product_Category_3 | 13           | 4,266 (1.0%)               | 3,433 (1.0%)               | 833 (1.0%)                 | NA    |\n",
       "| Product_Category_3 | 14           | 14,572 (3.4%)              | 11,576 (3.4%)              | 2,996 (3.5%)               | NA    |\n",
       "| Product_Category_3 | 15           | 22,134 (5.1%)              | 17,646 (5.1%)              | 4,488 (5.2%)               | NA    |\n",
       "| Product_Category_3 | 16           | 25,687 (6.0%)              | 20,569 (6.0%)              | 5,118 (6.0%)               | NA    |\n",
       "| Product_Category_3 | 17           | 13,117 (3.1%)              | 10,434 (3.0%)              | 2,683 (3.1%)               | NA    |\n",
       "| Product_Category_3 | 18           | 3,688 (0.9%)               | 2,981 (0.9%)               | 707 (0.8%)                 | NA    |\n",
       "| Purchase           | Mean (SD)    | 9,332.5 (4,982.2)          | 9,329.4 (4,978.6)          | 9,344.9 (4,996.7)          | NA    |\n",
       "| Purchase           | Median (IQR) | 8,060.0 (5,866.0-12,070.0) | 8,060.0 (5,864.0-12,067.0) | 8,056.0 (5,871.0-12,084.0) | 0.414 |\n",
       "| traintest_ind_     | Mean (SD)    | 1.2 (0.4)                  | NA                         | NA                         | NA    |\n",
       "| traintest_ind_     | Median (IQR) | 1.0 (1.0-1.0)              | NA                         | NA                         | 0     |\n",
       "\n"
      ],
      "text/plain": [
       "    V1                 V2           Pop                       \n",
       "1   Individuals        n            430061                    \n",
       "2   Gender             F            105,924 (24.6%)           \n",
       "3   Gender             M            324,137 (75.4%)           \n",
       "4   Age                0-17         11,768 (2.7%)             \n",
       "5   Age                18-25        78,137 (18.2%)            \n",
       "6   Age                26-35        171,860 (40.0%)           \n",
       "7   Age                36-45        86,039 (20.0%)            \n",
       "8   Age                46-50        35,601 (8.3%)             \n",
       "9   Age                51-55        30,010 (7.0%)             \n",
       "10  Age                55+          16,646 (3.9%)             \n",
       "11  Occupation         0            54,612 (12.7%)            \n",
       "12  Occupation         1            36,740 (8.5%)             \n",
       "13  Occupation         2            20,776 (4.8%)             \n",
       "14  Occupation         3            13,830 (3.2%)             \n",
       "15  Occupation         4            56,612 (13.2%)            \n",
       "16  Occupation         5            9,497 (2.2%)              \n",
       "17  Occupation         6            15,903 (3.7%)             \n",
       "18  Occupation         7            46,119 (10.7%)            \n",
       "19  Occupation         8            1,239 (0.3%)              \n",
       "20  Occupation         9            4,947 (1.2%)              \n",
       "21  Occupation         10           10,101 (2.3%)             \n",
       "22  Occupation         11           9,100 (2.1%)              \n",
       "23  Occupation         12           24,481 (5.7%)             \n",
       "24  Occupation         13           5,923 (1.4%)              \n",
       "25  Occupation         14           21,349 (5.0%)             \n",
       "26  Occupation         15           9,526 (2.2%)              \n",
       "27  Occupation         16           19,809 (4.6%)             \n",
       "28  Occupation         17           31,129 (7.2%)             \n",
       "29  Occupation         18           5,206 (1.2%)              \n",
       "30  Occupation         19           6,731 (1.6%)              \n",
       "... ...                ...          ...                       \n",
       "67  Product_Category_2 9            4,494 (1.0%)              \n",
       "68  Product_Category_2 10           2,359 (0.5%)              \n",
       "69  Product_Category_2 11           11,082 (2.6%)             \n",
       "70  Product_Category_2 12           4,381 (1.0%)              \n",
       "71  Product_Category_2 13           8,273 (1.9%)              \n",
       "72  Product_Category_2 14           43,356 (10.1%)            \n",
       "73  Product_Category_2 15           29,798 (6.9%)             \n",
       "74  Product_Category_2 16           34,104 (7.9%)             \n",
       "75  Product_Category_2 17           10,485 (2.4%)             \n",
       "76  Product_Category_2 18           2,192 (0.5%)              \n",
       "77  Product_Category_3 0            298,640 (69.4%)           \n",
       "78  Product_Category_3 3            473 (0.1%)                \n",
       "79  Product_Category_3 4            1,466 (0.3%)              \n",
       "80  Product_Category_3 5            13,064 (3.0%)             \n",
       "81  Product_Category_3 6            3,859 (0.9%)              \n",
       "82  Product_Category_3 8            9,971 (2.3%)              \n",
       "83  Product_Category_3 9            9,080 (2.1%)              \n",
       "84  Product_Category_3 10           1,335 (0.3%)              \n",
       "85  Product_Category_3 11           1,395 (0.3%)              \n",
       "86  Product_Category_3 12           7,314 (1.7%)              \n",
       "87  Product_Category_3 13           4,266 (1.0%)              \n",
       "88  Product_Category_3 14           14,572 (3.4%)             \n",
       "89  Product_Category_3 15           22,134 (5.1%)             \n",
       "90  Product_Category_3 16           25,687 (6.0%)             \n",
       "91  Product_Category_3 17           13,117 (3.1%)             \n",
       "92  Product_Category_3 18           3,688 (0.9%)              \n",
       "93  Purchase           Mean (SD)    9,332.5 (4,982.2)         \n",
       "94  Purchase           Median (IQR) 8,060.0 (5,866.0-12,070.0)\n",
       "95  traintest_ind_     Mean (SD)    1.2 (0.4)                 \n",
       "96  traintest_ind_     Median (IQR) 1.0 (1.0-1.0)             \n",
       "    1                          2                          pval \n",
       "1   344048                     86013                      NA   \n",
       "2   84,668 (24.6%)             21,256 (24.7%)             NA   \n",
       "3   259,380 (75.4%)            64,757 (75.3%)             0.533\n",
       "4   9,513 (2.8%)               2,255 (2.6%)               NA   \n",
       "5   62,607 (18.2%)             15,530 (18.1%)             0.103\n",
       "6   137,258 (39.9%)            34,602 (40.2%)             NA   \n",
       "7   68,877 (20.0%)             17,162 (20.0%)             NA   \n",
       "8   28,494 (8.3%)              7,107 (8.3%)               NA   \n",
       "9   24,056 (7.0%)              5,954 (6.9%)               NA   \n",
       "10  13,243 (3.8%)              3,403 (4.0%)               NA   \n",
       "11  43,800 (12.7%)             10,812 (12.6%)             NA   \n",
       "12  29,472 (8.6%)              7,268 (8.4%)               NA   \n",
       "13  16,604 (4.8%)              4,172 (4.9%)               NA   \n",
       "14  10,954 (3.2%)              2,876 (3.3%)               NA   \n",
       "15  45,293 (13.2%)             11,319 (13.2%)             NA   \n",
       "16  7,576 (2.2%)               1,921 (2.2%)               NA   \n",
       "17  12,747 (3.7%)              3,156 (3.7%)               NA   \n",
       "18  36,881 (10.7%)             9,238 (10.7%)              NA   \n",
       "19  971 (0.3%)                 268 (0.3%)                 NA   \n",
       "20  3,943 (1.1%)               1,004 (1.2%)               NA   \n",
       "21  8,132 (2.4%)               1,969 (2.3%)               NA   \n",
       "22  7,212 (2.1%)               1,888 (2.2%)               NA   \n",
       "23  19,657 (5.7%)              4,824 (5.6%)               NA   \n",
       "24  4,697 (1.4%)               1,226 (1.4%)               NA   \n",
       "25  17,041 (5.0%)              4,308 (5.0%)               NA   \n",
       "26  7,610 (2.2%)               1,916 (2.2%)               NA   \n",
       "27  15,822 (4.6%)              3,987 (4.6%)               NA   \n",
       "28  24,989 (7.3%)              6,140 (7.1%)               NA   \n",
       "29  4,166 (1.2%)               1,040 (1.2%)               NA   \n",
       "30  5,436 (1.6%)               1,295 (1.5%)               NA   \n",
       "... ...                        ...                        ...  \n",
       "67  3,620 (1.1%)               874 (1.0%)                 NA   \n",
       "68  1,919 (0.6%)               440 (0.5%)                 NA   \n",
       "69  8,832 (2.6%)               2,250 (2.6%)               NA   \n",
       "70  3,494 (1.0%)               887 (1.0%)                 NA   \n",
       "71  6,617 (1.9%)               1,656 (1.9%)               NA   \n",
       "72  34,690 (10.1%)             8,666 (10.1%)              NA   \n",
       "73  23,869 (6.9%)              5,929 (6.9%)               NA   \n",
       "74  27,238 (7.9%)              6,866 (8.0%)               NA   \n",
       "75  8,354 (2.4%)               2,131 (2.5%)               NA   \n",
       "76  1,727 (0.5%)               465 (0.5%)                 NA   \n",
       "77  239,007 (69.5%)            59,633 (69.3%)             NA   \n",
       "78  378 (0.1%)                 95 (0.1%)                  NA   \n",
       "79  1,187 (0.3%)               279 (0.3%)                 NA   \n",
       "80  10,450 (3.0%)              2,614 (3.0%)               NA   \n",
       "81  3,135 (0.9%)               724 (0.8%)                 NA   \n",
       "82  7,992 (2.3%)               1,979 (2.3%)               NA   \n",
       "83  7,256 (2.1%)               1,824 (2.1%)               NA   \n",
       "84  1,076 (0.3%)               259 (0.3%)                 NA   \n",
       "85  1,135 (0.3%)               260 (0.3%)                 NA   \n",
       "86  5,793 (1.7%)               1,521 (1.8%)               NA   \n",
       "87  3,433 (1.0%)               833 (1.0%)                 NA   \n",
       "88  11,576 (3.4%)              2,996 (3.5%)               NA   \n",
       "89  17,646 (5.1%)              4,488 (5.2%)               NA   \n",
       "90  20,569 (6.0%)              5,118 (6.0%)               NA   \n",
       "91  10,434 (3.0%)              2,683 (3.1%)               NA   \n",
       "92  2,981 (0.9%)               707 (0.8%)                 NA   \n",
       "93  9,329.4 (4,978.6)          9,344.9 (4,996.7)          NA   \n",
       "94  8,060.0 (5,864.0-12,067.0) 8,056.0 (5,871.0-12,084.0) 0.414\n",
       "95  NA                         NA                         NA   \n",
       "96  NA                         NA                         0    "
      ]
     },
     "metadata": {},
     "output_type": "display_data"
    }
   ],
   "source": [
    "tab2"
   ]
  },
  {
   "cell_type": "code",
   "execution_count": 113,
   "metadata": {},
   "outputs": [
    {
     "data": {
      "text/html": [
       "<table>\n",
       "<caption>A tibble: 1 × 6</caption>\n",
       "<thead>\n",
       "\t<tr><th scope=col>V1</th><th scope=col>V2</th><th scope=col>Pop</th><th scope=col>1</th><th scope=col>2</th><th scope=col>pval</th></tr>\n",
       "\t<tr><th scope=col>&lt;chr&gt;</th><th scope=col>&lt;chr&gt;</th><th scope=col>&lt;chr&gt;</th><th scope=col>&lt;chr&gt;</th><th scope=col>&lt;chr&gt;</th><th scope=col>&lt;chr&gt;</th></tr>\n",
       "</thead>\n",
       "<tbody>\n",
       "\t<tr><td>traintest_ind_</td><td>Median (IQR)</td><td>1.0 (1.0-1.0)</td><td>NA</td><td>NA</td><td>0</td></tr>\n",
       "</tbody>\n",
       "</table>\n"
      ],
      "text/latex": [
       "A tibble: 1 × 6\n",
       "\\begin{tabular}{llllll}\n",
       " V1 & V2 & Pop & 1 & 2 & pval\\\\\n",
       " <chr> & <chr> & <chr> & <chr> & <chr> & <chr>\\\\\n",
       "\\hline\n",
       "\t traintest\\_ind\\_ & Median (IQR) & 1.0 (1.0-1.0) & NA & NA & 0\\\\\n",
       "\\end{tabular}\n"
      ],
      "text/markdown": [
       "\n",
       "A tibble: 1 × 6\n",
       "\n",
       "| V1 &lt;chr&gt; | V2 &lt;chr&gt; | Pop &lt;chr&gt; | 1 &lt;chr&gt; | 2 &lt;chr&gt; | pval &lt;chr&gt; |\n",
       "|---|---|---|---|---|---|\n",
       "| traintest_ind_ | Median (IQR) | 1.0 (1.0-1.0) | NA | NA | 0 |\n",
       "\n"
      ],
      "text/plain": [
       "  V1             V2           Pop           1  2  pval\n",
       "1 traintest_ind_ Median (IQR) 1.0 (1.0-1.0) NA NA 0   "
      ]
     },
     "metadata": {},
     "output_type": "display_data"
    }
   ],
   "source": [
    "tab2 %>% filter(pval < 0.05)"
   ]
  },
  {
   "cell_type": "code",
   "execution_count": 114,
   "metadata": {},
   "outputs": [],
   "source": [
    "### save memeory, remove the datasets that will not be used more...\n",
    "rm(temp,data)"
   ]
  },
  {
   "cell_type": "markdown",
   "metadata": {},
   "source": [
    "Checking the distribution of the outcome on the three subsets"
   ]
  },
  {
   "cell_type": "code",
   "execution_count": 115,
   "metadata": {},
   "outputs": [
    {
     "data": {
      "image/png": "[encoded data removed]",
      "text/plain": [
       "plot without title"
      ]
     },
     "metadata": {
      "image/png": {
       "height": 480,
       "width": 600
      }
     },
     "output_type": "display_data"
    }
   ],
   "source": [
    "require(ggplot2)\n",
    "\n",
    "options(repr.plot.width = 10, repr.plot.height = 8)\n",
    "\n",
    "ggplot() +\n",
    "    geom_density(aes(x=train$Purchase),color=\"red\",alpha=0.3) +\n",
    "    geom_density(aes(x=dev$Purchase),color=\"blue\",alpha=0.3) +\n",
    "    geom_density(aes(x=test$Purchase),color=\"green\",alpha=0.3)\n"
   ]
  },
  {
   "cell_type": "markdown",
   "metadata": {},
   "source": [
    "# Train-Dev"
   ]
  },
  {
   "cell_type": "code",
   "execution_count": 29,
   "metadata": {},
   "outputs": [
    {
     "name": "stderr",
     "output_type": "stream",
     "text": [
      "Warning message:\n",
      "\"package 'ranger' was built under R version 4.0.2\"\n"
     ]
    },
    {
     "name": "stdout",
     "output_type": "stream",
     "text": [
      "Growing trees.. Progress: 22%. Estimated remaining time: 1 minute, 49 seconds.\n",
      "Growing trees.. Progress: 45%. Estimated remaining time: 1 minute, 15 seconds.\n",
      "Growing trees.. Progress: 68%. Estimated remaining time: 43 seconds.\n",
      "Growing trees.. Progress: 91%. Estimated remaining time: 11 seconds.\n"
     ]
    }
   ],
   "source": [
    "library(ranger)\n",
    "\n",
    "mod1 <- ranger(Purchase ~., data=train)\n"
   ]
  },
  {
   "cell_type": "code",
   "execution_count": 30,
   "metadata": {},
   "outputs": [
    {
     "data": {
      "text/plain": [
       "Ranger result\n",
       "\n",
       "Call:\n",
       " ranger(Purchase ~ ., data = train) \n",
       "\n",
       "Type:                             Regression \n",
       "Number of trees:                  500 \n",
       "Sample size:                      344048 \n",
       "Number of independent variables:  9 \n",
       "Mtry:                             3 \n",
       "Target node size:                 5 \n",
       "Variable importance mode:         none \n",
       "Splitrule:                        variance \n",
       "OOB prediction error (MSE):       8550236 \n",
       "R squared (OOB):                  0.6550443 "
      ]
     },
     "metadata": {},
     "output_type": "display_data"
    }
   ],
   "source": [
    "mod1"
   ]
  },
  {
   "cell_type": "code",
   "execution_count": 32,
   "metadata": {},
   "outputs": [],
   "source": [
    "pred1 <- predict(mod1, data=test)\n"
   ]
  },
  {
   "cell_type": "code",
   "execution_count": 34,
   "metadata": {},
   "outputs": [
    {
     "data": {
      "image/png": "[encoded data removed]",
      "text/plain": [
       "plot without title"
      ]
     },
     "metadata": {
      "image/png": {
       "height": 480,
       "width": 600
      }
     },
     "output_type": "display_data"
    }
   ],
   "source": [
    "plot(pred1$predictions ~ test$Purchase)"
   ]
  },
  {
   "cell_type": "markdown",
   "metadata": {},
   "source": [
    "# Cross-Validation\n",
    "\n",
    "<img src=\"https://genome.tugraz.at/proclassify/help/pages/images/xv_folds.gif\"/>\n"
   ]
  },
  {
   "cell_type": "code",
   "execution_count": 1,
   "metadata": {},
   "outputs": [
    {
     "name": "stderr",
     "output_type": "stream",
     "text": [
      "Warning message:\n",
      "\"package 'caret' was built under R version 4.0.3\"\n",
      "Loading required package: lattice\n",
      "\n",
      "Loading required package: ggplot2\n",
      "\n",
      "Warning message:\n",
      "\"package 'ggplot2' was built under R version 4.0.2\"\n"
     ]
    }
   ],
   "source": [
    "library(caret)\n",
    "# load the iris dataset\n",
    "data(iris)"
   ]
  },
  {
   "cell_type": "code",
   "execution_count": 11,
   "metadata": {},
   "outputs": [],
   "source": [
    "set.seed(2)\n",
    "seeds <- vector(mode = \"list\", length = 51)\n",
    "for(i in 1:50) seeds[[i]] <- sample.int(1000, 22)\n",
    "\n",
    "## For the last model:\n",
    "seeds[[51]] <- sample.int(1000, 1)\n",
    "\n",
    "# define training control\n",
    "trControl <- caret::trainControl(method = \"repeatedcv\", repeats = 5, seeds = seeds)\n",
    "# train the model\n",
    "model <- train(Species~., data=iris, trControl=trControl, method=\"ctree\")"
   ]
  },
  {
   "cell_type": "code",
   "execution_count": 12,
   "metadata": {},
   "outputs": [
    {
     "name": "stdout",
     "output_type": "stream",
     "text": [
      "Conditional Inference Tree \n",
      "\n",
      "150 samples\n",
      "  4 predictor\n",
      "  3 classes: 'setosa', 'versicolor', 'virginica' \n",
      "\n",
      "No pre-processing\n",
      "Resampling: Cross-Validated (10 fold, repeated 5 times) \n",
      "Summary of sample sizes: 135, 135, 135, 135, 135, 135, ... \n",
      "Resampling results across tuning parameters:\n",
      "\n",
      "  mincriterion  Accuracy  Kappa\n",
      "  0.01          0.94      0.91 \n",
      "  0.50          0.94      0.91 \n",
      "  0.99          0.94      0.91 \n",
      "\n",
      "Accuracy was used to select the optimal model using the largest value.\n",
      "The final value used for the model was mincriterion = 0.99.\n"
     ]
    }
   ],
   "source": [
    "# summarize results\n",
    "print(model)"
   ]
  },
  {
   "cell_type": "markdown",
   "metadata": {},
   "source": [
    "# Leave-one-out Cross Validation"
   ]
  },
  {
   "cell_type": "code",
   "execution_count": 13,
   "metadata": {},
   "outputs": [],
   "source": [
    "# define training control\n",
    "train_control <- trainControl(method=\"LOOCV\")\n",
    "# train the model\n",
    "model <- train(Species~., data=iris, trControl=train_control, method=\"ctree\")"
   ]
  },
  {
   "cell_type": "code",
   "execution_count": 14,
   "metadata": {},
   "outputs": [
    {
     "name": "stdout",
     "output_type": "stream",
     "text": [
      "Conditional Inference Tree \n",
      "\n",
      "150 samples\n",
      "  4 predictor\n",
      "  3 classes: 'setosa', 'versicolor', 'virginica' \n",
      "\n",
      "No pre-processing\n",
      "Resampling: Leave-One-Out Cross-Validation \n",
      "Summary of sample sizes: 149, 149, 149, 149, 149, 149, ... \n",
      "Resampling results across tuning parameters:\n",
      "\n",
      "  mincriterion  Accuracy   Kappa\n",
      "  0.01          0.9333333  0.9  \n",
      "  0.50          0.9333333  0.9  \n",
      "  0.99          0.9333333  0.9  \n",
      "\n",
      "Accuracy was used to select the optimal model using the largest value.\n",
      "The final value used for the model was mincriterion = 0.99.\n"
     ]
    }
   ],
   "source": [
    "# summarize results\n",
    "print(model)"
   ]
  },
  {
   "cell_type": "code",
   "execution_count": 116,
   "metadata": {},
   "outputs": [],
   "source": [
    "?caret::trainControl"
   ]
  },
  {
   "cell_type": "code",
   "execution_count": 117,
   "metadata": {},
   "outputs": [
    {
     "ename": "ERROR",
     "evalue": "Error in find.package(if (is.null(package)) loadedNamespaces() else package, : there is no package called 'carer'\n",
     "output_type": "error",
     "traceback": [
      "Error in find.package(if (is.null(package)) loadedNamespaces() else package, : there is no package called 'carer'\nTraceback:\n",
      "1. `?`(carer::train)",
      "2. eval(substitute(help(TOPIC, package = PACKAGE), list(TOPIC = topic, \n .     PACKAGE = package)))",
      "3. eval(substitute(help(TOPIC, package = PACKAGE), list(TOPIC = topic, \n .     PACKAGE = package)))",
      "4. help(\"train\", package = \"carer\")",
      "5. index.search(topic, find.package(if (is.null(package)) loadedNamespaces() else package, \n .     lib.loc, verbose = verbose))",
      "6. find.package(if (is.null(package)) loadedNamespaces() else package, \n .     lib.loc, verbose = verbose)"
     ]
    }
   ],
   "source": [
    "?carer::train"
   ]
  },
  {
   "cell_type": "markdown",
   "metadata": {},
   "source": [
    "# Boostrapping\n",
    "\n"
   ]
  },
  {
   "cell_type": "code",
   "execution_count": 16,
   "metadata": {},
   "outputs": [],
   "source": [
    "# define training control\n",
    "train_control <- trainControl(method=\"boot\", number=100)\n",
    "# train the model\n",
    "model <- train(Species~., data=iris, trControl=train_control,method=\"ctree\")"
   ]
  },
  {
   "cell_type": "code",
   "execution_count": 17,
   "metadata": {},
   "outputs": [
    {
     "name": "stdout",
     "output_type": "stream",
     "text": [
      "Conditional Inference Tree \n",
      "\n",
      "150 samples\n",
      "  4 predictor\n",
      "  3 classes: 'setosa', 'versicolor', 'virginica' \n",
      "\n",
      "No pre-processing\n",
      "Resampling: Bootstrapped (100 reps) \n",
      "Summary of sample sizes: 150, 150, 150, 150, 150, 150, ... \n",
      "Resampling results across tuning parameters:\n",
      "\n",
      "  mincriterion  Accuracy   Kappa    \n",
      "  0.01          0.9393788  0.9080796\n",
      "  0.50          0.9393788  0.9080796\n",
      "  0.99          0.9393788  0.9080796\n",
      "\n",
      "Accuracy was used to select the optimal model using the largest value.\n",
      "The final value used for the model was mincriterion = 0.99.\n"
     ]
    }
   ],
   "source": [
    "# summarize results\n",
    "print(model)"
   ]
  },
  {
   "cell_type": "markdown",
   "metadata": {},
   "source": [
    "# Dataset Inbalance"
   ]
  },
  {
   "cell_type": "code",
   "execution_count": 18,
   "metadata": {},
   "outputs": [
    {
     "name": "stderr",
     "output_type": "stream",
     "text": [
      "Loading required package: imbalance\n",
      "\n",
      "Warning message in library(package, lib.loc = lib.loc, character.only = TRUE, logical.return = TRUE, :\n",
      "\"there is no package called 'imbalance'\"\n",
      "Installing package into 'C:/Users/Thomas/Documents/R/win-library/4.0'\n",
      "(as 'lib' is unspecified)\n",
      "\n",
      "also installing the dependencies 'Cubist', 'bnlearn', 'KernelKnn', 'smotefamily', 'FNN', 'C50'\n",
      "\n",
      "\n"
     ]
    },
    {
     "name": "stdout",
     "output_type": "stream",
     "text": [
      "package 'Cubist' successfully unpacked and MD5 sums checked\n",
      "package 'bnlearn' successfully unpacked and MD5 sums checked\n",
      "package 'KernelKnn' successfully unpacked and MD5 sums checked\n",
      "package 'smotefamily' successfully unpacked and MD5 sums checked\n",
      "package 'FNN' successfully unpacked and MD5 sums checked\n",
      "package 'C50' successfully unpacked and MD5 sums checked\n",
      "package 'imbalance' successfully unpacked and MD5 sums checked\n",
      "\n",
      "The downloaded binary packages are in\n",
      "\tC:\\Users\\Thomas\\AppData\\Local\\Temp\\Rtmp6RGjU7\\downloaded_packages\n"
     ]
    },
    {
     "name": "stderr",
     "output_type": "stream",
     "text": [
      "Loading required package: imbalance\n",
      "\n",
      "Warning message:\n",
      "\"package 'imbalance' was built under R version 4.0.3\"\n",
      "Loading required package: ROSE\n",
      "\n",
      "Loaded ROSE 0.0-3\n",
      "\n",
      "\n"
     ]
    }
   ],
   "source": [
    "if(!require(imbalance)){install.packages(\"imbalance\");require(imbalance)}\n",
    "### ROSE = Random Over-Sampling Examples\n",
    "if(!require(ROSE)){install.packages(\"ROSE\");require(ROSE)}\n"
   ]
  },
  {
   "cell_type": "code",
   "execution_count": 19,
   "metadata": {},
   "outputs": [
    {
     "data": {
      "text/html": [
       "<table>\n",
       "<caption>A data.frame: 6 × 6</caption>\n",
       "<thead>\n",
       "\t<tr><th></th><th scope=col>T3resin</th><th scope=col>Thyroxin</th><th scope=col>Triiodothyronine</th><th scope=col>Thyroidstimulating</th><th scope=col>TSH_value</th><th scope=col>Class</th></tr>\n",
       "\t<tr><th></th><th scope=col>&lt;int&gt;</th><th scope=col>&lt;dbl&gt;</th><th scope=col>&lt;dbl&gt;</th><th scope=col>&lt;dbl&gt;</th><th scope=col>&lt;dbl&gt;</th><th scope=col>&lt;fct&gt;</th></tr>\n",
       "</thead>\n",
       "<tbody>\n",
       "\t<tr><th scope=row>1</th><td>105</td><td> 7.3</td><td>1.5</td><td>1.5</td><td>-0.1</td><td>negative</td></tr>\n",
       "\t<tr><th scope=row>2</th><td> 67</td><td>23.3</td><td>7.4</td><td>1.8</td><td>-0.6</td><td>positive</td></tr>\n",
       "\t<tr><th scope=row>3</th><td>111</td><td> 8.4</td><td>1.5</td><td>0.8</td><td> 1.2</td><td>negative</td></tr>\n",
       "\t<tr><th scope=row>4</th><td> 89</td><td>14.3</td><td>4.1</td><td>0.5</td><td> 0.2</td><td>positive</td></tr>\n",
       "\t<tr><th scope=row>5</th><td>105</td><td> 9.5</td><td>1.8</td><td>1.6</td><td> 3.6</td><td>negative</td></tr>\n",
       "\t<tr><th scope=row>6</th><td>110</td><td>20.3</td><td>3.7</td><td>0.6</td><td> 0.2</td><td>positive</td></tr>\n",
       "</tbody>\n",
       "</table>\n"
      ],
      "text/latex": [
       "A data.frame: 6 × 6\n",
       "\\begin{tabular}{r|llllll}\n",
       "  & T3resin & Thyroxin & Triiodothyronine & Thyroidstimulating & TSH\\_value & Class\\\\\n",
       "  & <int> & <dbl> & <dbl> & <dbl> & <dbl> & <fct>\\\\\n",
       "\\hline\n",
       "\t1 & 105 &  7.3 & 1.5 & 1.5 & -0.1 & negative\\\\\n",
       "\t2 &  67 & 23.3 & 7.4 & 1.8 & -0.6 & positive\\\\\n",
       "\t3 & 111 &  8.4 & 1.5 & 0.8 &  1.2 & negative\\\\\n",
       "\t4 &  89 & 14.3 & 4.1 & 0.5 &  0.2 & positive\\\\\n",
       "\t5 & 105 &  9.5 & 1.8 & 1.6 &  3.6 & negative\\\\\n",
       "\t6 & 110 & 20.3 & 3.7 & 0.6 &  0.2 & positive\\\\\n",
       "\\end{tabular}\n"
      ],
      "text/markdown": [
       "\n",
       "A data.frame: 6 × 6\n",
       "\n",
       "| <!--/--> | T3resin &lt;int&gt; | Thyroxin &lt;dbl&gt; | Triiodothyronine &lt;dbl&gt; | Thyroidstimulating &lt;dbl&gt; | TSH_value &lt;dbl&gt; | Class &lt;fct&gt; |\n",
       "|---|---|---|---|---|---|---|\n",
       "| 1 | 105 |  7.3 | 1.5 | 1.5 | -0.1 | negative |\n",
       "| 2 |  67 | 23.3 | 7.4 | 1.8 | -0.6 | positive |\n",
       "| 3 | 111 |  8.4 | 1.5 | 0.8 |  1.2 | negative |\n",
       "| 4 |  89 | 14.3 | 4.1 | 0.5 |  0.2 | positive |\n",
       "| 5 | 105 |  9.5 | 1.8 | 1.6 |  3.6 | negative |\n",
       "| 6 | 110 | 20.3 | 3.7 | 0.6 |  0.2 | positive |\n",
       "\n"
      ],
      "text/plain": [
       "  T3resin Thyroxin Triiodothyronine Thyroidstimulating TSH_value Class   \n",
       "1 105      7.3     1.5              1.5                -0.1      negative\n",
       "2  67     23.3     7.4              1.8                -0.6      positive\n",
       "3 111      8.4     1.5              0.8                 1.2      negative\n",
       "4  89     14.3     4.1              0.5                 0.2      positive\n",
       "5 105      9.5     1.8              1.6                 3.6      negative\n",
       "6 110     20.3     3.7              0.6                 0.2      positive"
      ]
     },
     "metadata": {},
     "output_type": "display_data"
    }
   ],
   "source": [
    "data(newthyroid1)\n",
    "head(newthyroid1)"
   ]
  },
  {
   "cell_type": "code",
   "execution_count": 20,
   "metadata": {},
   "outputs": [
    {
     "data": {
      "text/plain": [
       "\n",
       "negative positive \n",
       "     180       35 "
      ]
     },
     "metadata": {},
     "output_type": "display_data"
    },
    {
     "data": {
      "text/plain": [
       "\n",
       "negative positive \n",
       "83.72093 16.27907 "
      ]
     },
     "metadata": {},
     "output_type": "display_data"
    }
   ],
   "source": [
    "table(newthyroid1$Class)\n",
    "table(newthyroid1$Class)/nrow(newthyroid1)*100"
   ]
  },
  {
   "cell_type": "code",
   "execution_count": 21,
   "metadata": {},
   "outputs": [
    {
     "data": {
      "text/html": [
       "<table>\n",
       "<caption>A matrix: 1 × 3 of type int</caption>\n",
       "<thead>\n",
       "\t<tr><th scope=col>numPositive</th><th scope=col>numNegative</th><th scope=col>nInstances</th></tr>\n",
       "</thead>\n",
       "<tbody>\n",
       "\t<tr><td>35</td><td>180</td><td>145</td></tr>\n",
       "</tbody>\n",
       "</table>\n"
      ],
      "text/latex": [
       "A matrix: 1 × 3 of type int\n",
       "\\begin{tabular}{lll}\n",
       " numPositive & numNegative & nInstances\\\\\n",
       "\\hline\n",
       "\t 35 & 180 & 145\\\\\n",
       "\\end{tabular}\n"
      ],
      "text/markdown": [
       "\n",
       "A matrix: 1 × 3 of type int\n",
       "\n",
       "| numPositive | numNegative | nInstances |\n",
       "|---|---|---|\n",
       "| 35 | 180 | 145 |\n",
       "\n"
      ],
      "text/plain": [
       "     numPositive numNegative nInstances\n",
       "[1,] 35          180         145       "
      ]
     },
     "metadata": {},
     "output_type": "display_data"
    }
   ],
   "source": [
    "numPositive <- length(which(newthyroid1$Class == \"positive\"))\n",
    "numNegative <- length(which(newthyroid1$Class == \"negative\"))\n",
    "nInstances <- numNegative - numPositive\n",
    "cbind(numPositive=numPositive,numNegative=numNegative,nInstances=nInstances)"
   ]
  },
  {
   "cell_type": "markdown",
   "metadata": {},
   "source": [
    "## Under Sampling\n",
    " \n",
    "This techniques uses all the rows containing the minority class and select randomly the same number of minority class for the rows with the mayority class "
   ]
  },
  {
   "cell_type": "code",
   "execution_count": 22,
   "metadata": {},
   "outputs": [
    {
     "data": {
      "text/plain": [
       "\n",
       "negative positive \n",
       "      35       35 "
      ]
     },
     "metadata": {},
     "output_type": "display_data"
    }
   ],
   "source": [
    "data_balanced_under <- ovun.sample(Class ~ ., data = newthyroid1, method = \"under\",N = numPositive*2)$data\n",
    "table(data_balanced_under$Class)"
   ]
  },
  {
   "cell_type": "markdown",
   "metadata": {},
   "source": [
    "## Over Sampling\n",
    " \n",
    "Over sampling takes the number of rows of the mayority class and repeat the rows of the minority class up to the same number of the mayority class. The repeated rows are selected randomly."
   ]
  },
  {
   "cell_type": "code",
   "execution_count": 23,
   "metadata": {},
   "outputs": [
    {
     "data": {
      "text/plain": [
       "\n",
       "negative positive \n",
       "     180      180 "
      ]
     },
     "metadata": {},
     "output_type": "display_data"
    }
   ],
   "source": [
    "#over sampling\n",
    "data_balanced_over <- ovun.sample(Class ~ ., data = newthyroid1, method = \"over\",N = numNegative*2)$data\n",
    "table(data_balanced_over$Class)"
   ]
  },
  {
   "cell_type": "markdown",
   "metadata": {},
   "source": [
    "## Over-Under Sampling\n",
    " \n",
    "In this technique we randomly select half of the majority class rows (under sampling) and increment the minority class rows by selecting them randomly.   "
   ]
  },
  {
   "cell_type": "code",
   "execution_count": 24,
   "metadata": {},
   "outputs": [
    {
     "data": {
      "text/plain": [
       "\n",
       "negative positive \n",
       "      90       90 "
      ]
     },
     "metadata": {},
     "output_type": "display_data"
    }
   ],
   "source": [
    "#over_under sampling\n",
    "data_balanced_both <- ovun.sample(Class ~ ., data = newthyroid1, method = \"both\", p=0.5,N = 180, seed = 1)$data\n",
    "table(data_balanced_both$Class)"
   ]
  },
  {
   "cell_type": "markdown",
   "metadata": {},
   "source": [
    "## ROSE (Random Over-Sampling Examples) \n",
    " \n",
    "Creates a sample of synthetic data by enlarging the features space of minority and majority class examples. ROSE selects an observation belonging to the class k and generates new examples in its neighbourhood"
   ]
  },
  {
   "cell_type": "code",
   "execution_count": 25,
   "metadata": {},
   "outputs": [
    {
     "data": {
      "text/plain": [
       "\n",
       "negative positive \n",
       "     105      110 "
      ]
     },
     "metadata": {},
     "output_type": "display_data"
    }
   ],
   "source": [
    "# Rose: \n",
    "data.rose <- ROSE(Class ~ ., data = newthyroid1, seed = 1)$data\n",
    "table(data.rose$Class)"
   ]
  },
  {
   "cell_type": "markdown",
   "metadata": {},
   "source": [
    "## Oversampling with Synthetic data\n",
    " \n",
    "Additionally to ROSE. The package 'inbalance' has the function pdfos. This function generates synthetic minority examples for a numerical dataset approximating a Gaussian multivariate distribution.\n"
   ]
  },
  {
   "cell_type": "code",
   "execution_count": 26,
   "metadata": {},
   "outputs": [
    {
     "data": {
      "text/plain": [
       "\n",
       "negative positive \n",
       "     180      180 "
      ]
     },
     "metadata": {},
     "output_type": "display_data"
    }
   ],
   "source": [
    "newSamples <- pdfos(dataset = newthyroid1, numInstances = nInstances,classAttr = \"Class\")\n",
    "newDataset <- rbind(newthyroid1, newSamples)\n",
    "table(newDataset$Class)"
   ]
  },
  {
   "cell_type": "markdown",
   "metadata": {},
   "source": [
    "# Clustering method "
   ]
  },
  {
   "cell_type": "code",
   "execution_count": 33,
   "metadata": {},
   "outputs": [
    {
     "name": "stderr",
     "output_type": "stream",
     "text": [
      "Warning message:\n",
      "\"package 'dplyr' was built under R version 4.0.2\"\n",
      "\n",
      "Attaching package: 'dplyr'\n",
      "\n",
      "\n",
      "The following objects are masked from 'package:stats':\n",
      "\n",
      "    filter, lag\n",
      "\n",
      "\n",
      "The following objects are masked from 'package:base':\n",
      "\n",
      "    intersect, setdiff, setequal, union\n",
      "\n",
      "\n"
     ]
    }
   ],
   "source": [
    "library(dplyr)"
   ]
  },
  {
   "cell_type": "code",
   "execution_count": 27,
   "metadata": {},
   "outputs": [],
   "source": [
    "df <- read.table(unz(\"creditcard.csv.zip\", \"creditcard.csv\"), header=T, quote=\"\\\"\", sep=\",\")"
   ]
  },
  {
   "cell_type": "code",
   "execution_count": 28,
   "metadata": {},
   "outputs": [
    {
     "data": {
      "text/plain": [
       "      Time              V1                  V2                  V3          \n",
       " Min.   :     0   Min.   :-56.40751   Min.   :-72.71573   Min.   :-48.3256  \n",
       " 1st Qu.: 54202   1st Qu.: -0.92037   1st Qu.: -0.59855   1st Qu.: -0.8904  \n",
       " Median : 84692   Median :  0.01811   Median :  0.06549   Median :  0.1799  \n",
       " Mean   : 94814   Mean   :  0.00000   Mean   :  0.00000   Mean   :  0.0000  \n",
       " 3rd Qu.:139321   3rd Qu.:  1.31564   3rd Qu.:  0.80372   3rd Qu.:  1.0272  \n",
       " Max.   :172792   Max.   :  2.45493   Max.   : 22.05773   Max.   :  9.3826  \n",
       "       V4                 V5                   V6                 V7          \n",
       " Min.   :-5.68317   Min.   :-113.74331   Min.   :-26.1605   Min.   :-43.5572  \n",
       " 1st Qu.:-0.84864   1st Qu.:  -0.69160   1st Qu.: -0.7683   1st Qu.: -0.5541  \n",
       " Median :-0.01985   Median :  -0.05434   Median : -0.2742   Median :  0.0401  \n",
       " Mean   : 0.00000   Mean   :   0.00000   Mean   :  0.0000   Mean   :  0.0000  \n",
       " 3rd Qu.: 0.74334   3rd Qu.:   0.61193   3rd Qu.:  0.3986   3rd Qu.:  0.5704  \n",
       " Max.   :16.87534   Max.   :  34.80167   Max.   : 73.3016   Max.   :120.5895  \n",
       "       V8                  V9                 V10                 V11          \n",
       " Min.   :-73.21672   Min.   :-13.43407   Min.   :-24.58826   Min.   :-4.79747  \n",
       " 1st Qu.: -0.20863   1st Qu.: -0.64310   1st Qu.: -0.53543   1st Qu.:-0.76249  \n",
       " Median :  0.02236   Median : -0.05143   Median : -0.09292   Median :-0.03276  \n",
       " Mean   :  0.00000   Mean   :  0.00000   Mean   :  0.00000   Mean   : 0.00000  \n",
       " 3rd Qu.:  0.32735   3rd Qu.:  0.59714   3rd Qu.:  0.45392   3rd Qu.: 0.73959  \n",
       " Max.   : 20.00721   Max.   : 15.59500   Max.   : 23.74514   Max.   :12.01891  \n",
       "      V12                V13                V14                V15          \n",
       " Min.   :-18.6837   Min.   :-5.79188   Min.   :-19.2143   Min.   :-4.49894  \n",
       " 1st Qu.: -0.4056   1st Qu.:-0.64854   1st Qu.: -0.4256   1st Qu.:-0.58288  \n",
       " Median :  0.1400   Median :-0.01357   Median :  0.0506   Median : 0.04807  \n",
       " Mean   :  0.0000   Mean   : 0.00000   Mean   :  0.0000   Mean   : 0.00000  \n",
       " 3rd Qu.:  0.6182   3rd Qu.: 0.66251   3rd Qu.:  0.4931   3rd Qu.: 0.64882  \n",
       " Max.   :  7.8484   Max.   : 7.12688   Max.   : 10.5268   Max.   : 8.87774  \n",
       "      V16                 V17                 V18           \n",
       " Min.   :-14.12985   Min.   :-25.16280   Min.   :-9.498746  \n",
       " 1st Qu.: -0.46804   1st Qu.: -0.48375   1st Qu.:-0.498850  \n",
       " Median :  0.06641   Median : -0.06568   Median :-0.003636  \n",
       " Mean   :  0.00000   Mean   :  0.00000   Mean   : 0.000000  \n",
       " 3rd Qu.:  0.52330   3rd Qu.:  0.39968   3rd Qu.: 0.500807  \n",
       " Max.   : 17.31511   Max.   :  9.25353   Max.   : 5.041069  \n",
       "      V19                 V20                 V21           \n",
       " Min.   :-7.213527   Min.   :-54.49772   Min.   :-34.83038  \n",
       " 1st Qu.:-0.456299   1st Qu.: -0.21172   1st Qu.: -0.22839  \n",
       " Median : 0.003735   Median : -0.06248   Median : -0.02945  \n",
       " Mean   : 0.000000   Mean   :  0.00000   Mean   :  0.00000  \n",
       " 3rd Qu.: 0.458949   3rd Qu.:  0.13304   3rd Qu.:  0.18638  \n",
       " Max.   : 5.591971   Max.   : 39.42090   Max.   : 27.20284  \n",
       "      V22                  V23                 V24          \n",
       " Min.   :-10.933144   Min.   :-44.80774   Min.   :-2.83663  \n",
       " 1st Qu.: -0.542350   1st Qu.: -0.16185   1st Qu.:-0.35459  \n",
       " Median :  0.006782   Median : -0.01119   Median : 0.04098  \n",
       " Mean   :  0.000000   Mean   :  0.00000   Mean   : 0.00000  \n",
       " 3rd Qu.:  0.528554   3rd Qu.:  0.14764   3rd Qu.: 0.43953  \n",
       " Max.   : 10.503090   Max.   : 22.52841   Max.   : 4.58455  \n",
       "      V25                 V26                V27            \n",
       " Min.   :-10.29540   Min.   :-2.60455   Min.   :-22.565679  \n",
       " 1st Qu.: -0.31715   1st Qu.:-0.32698   1st Qu.: -0.070840  \n",
       " Median :  0.01659   Median :-0.05214   Median :  0.001342  \n",
       " Mean   :  0.00000   Mean   : 0.00000   Mean   :  0.000000  \n",
       " 3rd Qu.:  0.35072   3rd Qu.: 0.24095   3rd Qu.:  0.091045  \n",
       " Max.   :  7.51959   Max.   : 3.51735   Max.   : 31.612198  \n",
       "      V28                Amount             Class         \n",
       " Min.   :-15.43008   Min.   :    0.00   Min.   :0.000000  \n",
       " 1st Qu.: -0.05296   1st Qu.:    5.60   1st Qu.:0.000000  \n",
       " Median :  0.01124   Median :   22.00   Median :0.000000  \n",
       " Mean   :  0.00000   Mean   :   88.35   Mean   :0.001728  \n",
       " 3rd Qu.:  0.07828   3rd Qu.:   77.17   3rd Qu.:0.000000  \n",
       " Max.   : 33.84781   Max.   :25691.16   Max.   :1.000000  "
      ]
     },
     "metadata": {},
     "output_type": "display_data"
    },
    {
     "data": {
      "text/plain": [
       "\n",
       "     0      1 \n",
       "284315    492 "
      ]
     },
     "metadata": {},
     "output_type": "display_data"
    }
   ],
   "source": [
    "summary(df)\n",
    "table(df$Class)"
   ]
  },
  {
   "cell_type": "code",
   "execution_count": 29,
   "metadata": {
    "scrolled": false
   },
   "outputs": [
    {
     "name": "stderr",
     "output_type": "stream",
     "text": [
      "Dataset partitioned into:\n",
      "\n",
      " + Train dataset: train\n",
      "\n",
      " + Test dataset: test\n",
      "\n",
      "Warning message in Table1(data = df, y = \"traintest_ind_\", messages = FALSE):\n",
      "\"The following variables have unique values and will not be included in the analysis: \"\n"
     ]
    },
    {
     "name": "stdout",
     "output_type": "stream",
     "text": [
      "  |======================================================================| 100%"
     ]
    },
    {
     "name": "stderr",
     "output_type": "stream",
     "text": [
      "Warning message:\n",
      "\"The `x` argument of `as_tibble.matrix()` must have column names if `.name_repair` is omitted as of tibble 2.0.0.\n",
      "Using compatibility `.name_repair`.\n",
      "\u001b[90mThis warning is displayed once every 8 hours.\u001b[39m\n",
      "\u001b[90mCall `lifecycle::last_warnings()` to see where this warning was generated.\u001b[39m\"\n"
     ]
    },
    {
     "name": "stdout",
     "output_type": "stream",
     "text": [
      "  |====================================================================  |  97%"
     ]
    },
    {
     "name": "stderr",
     "output_type": "stream",
     "text": [
      "WARNING: The following variables are not balanced between the training and test datasets:\n",
      "\n",
      "* V22\n",
      "\n",
      "You can try to change the seed value until you get a balanced partition.\n",
      "\n",
      "Alternatively, you can ommit this warning and exclude those variables from your model\n",
      "\n",
      " \n",
      "\n"
     ]
    },
    {
     "data": {
      "text/html": [
       "<table>\n",
       "<caption>A tibble: 65 × 6</caption>\n",
       "<thead>\n",
       "\t<tr><th scope=col>V1</th><th scope=col>V2</th><th scope=col>Pop</th><th scope=col>1</th><th scope=col>2</th><th scope=col>pval</th></tr>\n",
       "\t<tr><th scope=col>&lt;chr&gt;</th><th scope=col>&lt;chr&gt;</th><th scope=col>&lt;chr&gt;</th><th scope=col>&lt;chr&gt;</th><th scope=col>&lt;chr&gt;</th><th scope=col>&lt;chr&gt;</th></tr>\n",
       "</thead>\n",
       "<tbody>\n",
       "\t<tr><td>Individuals</td><td>n           </td><td>284807                       </td><td>199364                       </td><td>85443                        </td><td>NA   </td></tr>\n",
       "\t<tr><td>Time       </td><td>Mean (SD)   </td><td>94,813.9 (47,488.1)          </td><td>94,848.0 (47,454.6)          </td><td>94,734.2 (47,566.6)          </td><td>NA   </td></tr>\n",
       "\t<tr><td>Time       </td><td>Median (IQR)</td><td>84,692.0 (54,201.5-139,320.5)</td><td>84,703.5 (54,272.0-139,287.0)</td><td>84,672.0 (54,046.5-139,396.5)</td><td>0.558</td></tr>\n",
       "\t<tr><td>V1         </td><td>Mean (SD)   </td><td>0.0 (2.0)                    </td><td>0.0 (2.0)                    </td><td>0.0 (2.0)                    </td><td>NA   </td></tr>\n",
       "\t<tr><td>V1         </td><td>Median (IQR)</td><td>0.0 (-0.9-1.3)               </td><td>0.0 (-0.9-1.3)               </td><td>0.0 (-0.9-1.3)               </td><td>0.471</td></tr>\n",
       "\t<tr><td>V2         </td><td>Mean (SD)   </td><td>0.0 (1.7)                    </td><td>0.0 (1.6)                    </td><td>0.0 (1.7)                    </td><td>NA   </td></tr>\n",
       "\t<tr><td>V2         </td><td>Median (IQR)</td><td>0.1 (-0.6-0.8)               </td><td>0.1 (-0.6-0.8)               </td><td>0.1 (-0.6-0.8)               </td><td>0.926</td></tr>\n",
       "\t<tr><td>V3         </td><td>Mean (SD)   </td><td>0.0 (1.5)                    </td><td>0.0 (1.5)                    </td><td>0.0 (1.5)                    </td><td>NA   </td></tr>\n",
       "\t<tr><td>V3         </td><td>Median (IQR)</td><td>0.2 (-0.9-1.0)               </td><td>0.2 (-0.9-1.0)               </td><td>0.2 (-0.9-1.0)               </td><td>0.939</td></tr>\n",
       "\t<tr><td>V4         </td><td>Mean (SD)   </td><td>0.0 (1.4)                    </td><td>0.0 (1.4)                    </td><td>0.0 (1.4)                    </td><td>NA   </td></tr>\n",
       "\t<tr><td>V4         </td><td>Median (IQR)</td><td>0.0 (-0.8-0.7)               </td><td>0.0 (-0.8-0.7)               </td><td>0.0 (-0.9-0.7)               </td><td>0.05 </td></tr>\n",
       "\t<tr><td>V5         </td><td>Mean (SD)   </td><td>0.0 (1.4)                    </td><td>0.0 (1.4)                    </td><td>0.0 (1.4)                    </td><td>NA   </td></tr>\n",
       "\t<tr><td>V5         </td><td>Median (IQR)</td><td>-0.1 (-0.7-0.6)              </td><td>-0.1 (-0.7-0.6)              </td><td>-0.1 (-0.7-0.6)              </td><td>0.799</td></tr>\n",
       "\t<tr><td>V6         </td><td>Mean (SD)   </td><td>0.0 (1.3)                    </td><td>0.0 (1.3)                    </td><td>0.0 (1.3)                    </td><td>NA   </td></tr>\n",
       "\t<tr><td>V6         </td><td>Median (IQR)</td><td>-0.3 (-0.8-0.4)              </td><td>-0.3 (-0.8-0.4)              </td><td>-0.3 (-0.8-0.4)              </td><td>0.665</td></tr>\n",
       "\t<tr><td>V7         </td><td>Mean (SD)   </td><td>0.0 (1.2)                    </td><td>0.0 (1.2)                    </td><td>0.0 (1.2)                    </td><td>NA   </td></tr>\n",
       "\t<tr><td>V7         </td><td>Median (IQR)</td><td>0.0 (-0.6-0.6)               </td><td>0.0 (-0.6-0.6)               </td><td>0.0 (-0.6-0.6)               </td><td>0.98 </td></tr>\n",
       "\t<tr><td>V8         </td><td>Mean (SD)   </td><td>0.0 (1.2)                    </td><td>0.0 (1.2)                    </td><td>0.0 (1.2)                    </td><td>NA   </td></tr>\n",
       "\t<tr><td>V8         </td><td>Median (IQR)</td><td>0.0 (-0.2-0.3)               </td><td>0.0 (-0.2-0.3)               </td><td>0.0 (-0.2-0.3)               </td><td>0.56 </td></tr>\n",
       "\t<tr><td>V9         </td><td>Mean (SD)   </td><td>0.0 (1.1)                    </td><td>0.0 (1.1)                    </td><td>0.0 (1.1)                    </td><td>NA   </td></tr>\n",
       "\t<tr><td>V9         </td><td>Median (IQR)</td><td>-0.1 (-0.6-0.6)              </td><td>-0.1 (-0.6-0.6)              </td><td>0.0 (-0.6-0.6)               </td><td>0.314</td></tr>\n",
       "\t<tr><td>V10        </td><td>Mean (SD)   </td><td>0.0 (1.1)                    </td><td>0.0 (1.1)                    </td><td>0.0 (1.1)                    </td><td>NA   </td></tr>\n",
       "\t<tr><td>V10        </td><td>Median (IQR)</td><td>-0.1 (-0.5-0.5)              </td><td>-0.1 (-0.5-0.5)              </td><td>-0.1 (-0.5-0.5)              </td><td>0.813</td></tr>\n",
       "\t<tr><td>V11        </td><td>Mean (SD)   </td><td>0.0 (1.0)                    </td><td>0.0 (1.0)                    </td><td>0.0 (1.0)                    </td><td>NA   </td></tr>\n",
       "\t<tr><td>V11        </td><td>Median (IQR)</td><td>0.0 (-0.8-0.7)               </td><td>0.0 (-0.8-0.7)               </td><td>0.0 (-0.8-0.7)               </td><td>0.805</td></tr>\n",
       "\t<tr><td>V12        </td><td>Mean (SD)   </td><td>0.0 (1.0)                    </td><td>0.0 (1.0)                    </td><td>0.0 (1.0)                    </td><td>NA   </td></tr>\n",
       "\t<tr><td>V12        </td><td>Median (IQR)</td><td>0.1 (-0.4-0.6)               </td><td>0.1 (-0.4-0.6)               </td><td>0.1 (-0.4-0.6)               </td><td>0.873</td></tr>\n",
       "\t<tr><td>V13        </td><td>Mean (SD)   </td><td>0.0 (1.0)                    </td><td>0.0 (1.0)                    </td><td>0.0 (1.0)                    </td><td>NA   </td></tr>\n",
       "\t<tr><td>V13        </td><td>Median (IQR)</td><td>0.0 (-0.6-0.7)               </td><td>0.0 (-0.6-0.7)               </td><td>0.0 (-0.6-0.7)               </td><td>0.148</td></tr>\n",
       "\t<tr><td>V14        </td><td>Mean (SD)   </td><td>0.0 (1.0)                    </td><td>0.0 (1.0)                    </td><td>0.0 (1.0)                    </td><td>NA   </td></tr>\n",
       "\t<tr><td>...</td><td>...</td><td>...</td><td>...</td><td>...</td><td>...</td></tr>\n",
       "\t<tr><td>V17           </td><td>Mean (SD)   </td><td>0.0 (0.8)      </td><td>0.0 (0.9)      </td><td>0.0 (0.8)      </td><td>NA   </td></tr>\n",
       "\t<tr><td>V17           </td><td>Median (IQR)</td><td>-0.1 (-0.5-0.4)</td><td>-0.1 (-0.5-0.4)</td><td>-0.1 (-0.5-0.4)</td><td>0.751</td></tr>\n",
       "\t<tr><td>V18           </td><td>Mean (SD)   </td><td>0.0 (0.8)      </td><td>0.0 (0.8)      </td><td>0.0 (0.8)      </td><td>NA   </td></tr>\n",
       "\t<tr><td>V18           </td><td>Median (IQR)</td><td>0.0 (-0.5-0.5) </td><td>0.0 (-0.5-0.5) </td><td>0.0 (-0.5-0.5) </td><td>0.815</td></tr>\n",
       "\t<tr><td>V19           </td><td>Mean (SD)   </td><td>0.0 (0.8)      </td><td>0.0 (0.8)      </td><td>0.0 (0.8)      </td><td>NA   </td></tr>\n",
       "\t<tr><td>V19           </td><td>Median (IQR)</td><td>0.0 (-0.5-0.5) </td><td>0.0 (-0.5-0.5) </td><td>0.0 (-0.5-0.5) </td><td>0.8  </td></tr>\n",
       "\t<tr><td>V20           </td><td>Mean (SD)   </td><td>0.0 (0.8)      </td><td>0.0 (0.8)      </td><td>0.0 (0.8)      </td><td>NA   </td></tr>\n",
       "\t<tr><td>V20           </td><td>Median (IQR)</td><td>-0.1 (-0.2-0.1)</td><td>-0.1 (-0.2-0.1)</td><td>-0.1 (-0.2-0.1)</td><td>0.503</td></tr>\n",
       "\t<tr><td>V21           </td><td>Mean (SD)   </td><td>0.0 (0.7)      </td><td>0.0 (0.7)      </td><td>0.0 (0.7)      </td><td>NA   </td></tr>\n",
       "\t<tr><td>V21           </td><td>Median (IQR)</td><td>0.0 (-0.2-0.2) </td><td>0.0 (-0.2-0.2) </td><td>0.0 (-0.2-0.2) </td><td>0.958</td></tr>\n",
       "\t<tr><td>V22           </td><td>Mean (SD)   </td><td>0.0 (0.7)      </td><td>0.0 (0.7)      </td><td>0.0 (0.7)      </td><td>NA   </td></tr>\n",
       "\t<tr><td>V22           </td><td>Median (IQR)</td><td>0.0 (-0.5-0.5) </td><td>0.0 (-0.5-0.5) </td><td>0.0 (-0.5-0.5) </td><td>0.015</td></tr>\n",
       "\t<tr><td>V23           </td><td>Mean (SD)   </td><td>0.0 (0.6)      </td><td>0.0 (0.6)      </td><td>0.0 (0.6)      </td><td>NA   </td></tr>\n",
       "\t<tr><td>V23           </td><td>Median (IQR)</td><td>0.0 (-0.2-0.1) </td><td>0.0 (-0.2-0.1) </td><td>0.0 (-0.2-0.1) </td><td>0.089</td></tr>\n",
       "\t<tr><td>V24           </td><td>Mean (SD)   </td><td>0.0 (0.6)      </td><td>0.0 (0.6)      </td><td>0.0 (0.6)      </td><td>NA   </td></tr>\n",
       "\t<tr><td>V24           </td><td>Median (IQR)</td><td>0.0 (-0.4-0.4) </td><td>0.0 (-0.4-0.4) </td><td>0.0 (-0.4-0.4) </td><td>0.134</td></tr>\n",
       "\t<tr><td>V25           </td><td>Mean (SD)   </td><td>0.0 (0.5)      </td><td>0.0 (0.5)      </td><td>0.0 (0.5)      </td><td>NA   </td></tr>\n",
       "\t<tr><td>V25           </td><td>Median (IQR)</td><td>0.0 (-0.3-0.4) </td><td>0.0 (-0.3-0.4) </td><td>0.0 (-0.3-0.4) </td><td>0.969</td></tr>\n",
       "\t<tr><td>V26           </td><td>Mean (SD)   </td><td>0.0 (0.5)      </td><td>0.0 (0.5)      </td><td>0.0 (0.5)      </td><td>NA   </td></tr>\n",
       "\t<tr><td>V26           </td><td>Median (IQR)</td><td>-0.1 (-0.3-0.2)</td><td>-0.1 (-0.3-0.2)</td><td>-0.1 (-0.3-0.2)</td><td>0.937</td></tr>\n",
       "\t<tr><td>V27           </td><td>Mean (SD)   </td><td>0.0 (0.4)      </td><td>0.0 (0.4)      </td><td>0.0 (0.4)      </td><td>NA   </td></tr>\n",
       "\t<tr><td>V27           </td><td>Median (IQR)</td><td>0.0 (-0.1-0.1) </td><td>0.0 (-0.1-0.1) </td><td>0.0 (-0.1-0.1) </td><td>0.155</td></tr>\n",
       "\t<tr><td>V28           </td><td>Mean (SD)   </td><td>0.0 (0.3)      </td><td>0.0 (0.3)      </td><td>0.0 (0.4)      </td><td>NA   </td></tr>\n",
       "\t<tr><td>V28           </td><td>Median (IQR)</td><td>0.0 (-0.1-0.1) </td><td>0.0 (-0.1-0.1) </td><td>0.0 (-0.1-0.1) </td><td>0.991</td></tr>\n",
       "\t<tr><td>Amount        </td><td>Mean (SD)   </td><td>88.3 (250.1)   </td><td>88.3 (254.3)   </td><td>88.4 (240.0)   </td><td>NA   </td></tr>\n",
       "\t<tr><td>Amount        </td><td>Median (IQR)</td><td>22.0 (5.6-77.2)</td><td>22.0 (5.6-77.2)</td><td>22.0 (5.5-77.2)</td><td>0.917</td></tr>\n",
       "\t<tr><td>Class         </td><td>Mean (SD)   </td><td>0.0 (0.0)      </td><td>0.0 (0.0)      </td><td>0.0 (0.0)      </td><td>NA   </td></tr>\n",
       "\t<tr><td>Class         </td><td>Median (IQR)</td><td>0.0 (0.0-0.0)  </td><td>0.0 (0.0-0.0)  </td><td>0.0 (0.0-0.0)  </td><td>0.797</td></tr>\n",
       "\t<tr><td>traintest_ind_</td><td>Mean (SD)   </td><td>1.3 (0.5)      </td><td>NA             </td><td>NA             </td><td>NA   </td></tr>\n",
       "\t<tr><td>traintest_ind_</td><td>Median (IQR)</td><td>1.0 (1.0-2.0)  </td><td>NA             </td><td>NA             </td><td>0    </td></tr>\n",
       "</tbody>\n",
       "</table>\n"
      ],
      "text/latex": [
       "A tibble: 65 × 6\n",
       "\\begin{tabular}{llllll}\n",
       " V1 & V2 & Pop & 1 & 2 & pval\\\\\n",
       " <chr> & <chr> & <chr> & <chr> & <chr> & <chr>\\\\\n",
       "\\hline\n",
       "\t Individuals & n            & 284807                        & 199364                        & 85443                         & NA   \\\\\n",
       "\t Time        & Mean (SD)    & 94,813.9 (47,488.1)           & 94,848.0 (47,454.6)           & 94,734.2 (47,566.6)           & NA   \\\\\n",
       "\t Time        & Median (IQR) & 84,692.0 (54,201.5-139,320.5) & 84,703.5 (54,272.0-139,287.0) & 84,672.0 (54,046.5-139,396.5) & 0.558\\\\\n",
       "\t V1          & Mean (SD)    & 0.0 (2.0)                     & 0.0 (2.0)                     & 0.0 (2.0)                     & NA   \\\\\n",
       "\t V1          & Median (IQR) & 0.0 (-0.9-1.3)                & 0.0 (-0.9-1.3)                & 0.0 (-0.9-1.3)                & 0.471\\\\\n",
       "\t V2          & Mean (SD)    & 0.0 (1.7)                     & 0.0 (1.6)                     & 0.0 (1.7)                     & NA   \\\\\n",
       "\t V2          & Median (IQR) & 0.1 (-0.6-0.8)                & 0.1 (-0.6-0.8)                & 0.1 (-0.6-0.8)                & 0.926\\\\\n",
       "\t V3          & Mean (SD)    & 0.0 (1.5)                     & 0.0 (1.5)                     & 0.0 (1.5)                     & NA   \\\\\n",
       "\t V3          & Median (IQR) & 0.2 (-0.9-1.0)                & 0.2 (-0.9-1.0)                & 0.2 (-0.9-1.0)                & 0.939\\\\\n",
       "\t V4          & Mean (SD)    & 0.0 (1.4)                     & 0.0 (1.4)                     & 0.0 (1.4)                     & NA   \\\\\n",
       "\t V4          & Median (IQR) & 0.0 (-0.8-0.7)                & 0.0 (-0.8-0.7)                & 0.0 (-0.9-0.7)                & 0.05 \\\\\n",
       "\t V5          & Mean (SD)    & 0.0 (1.4)                     & 0.0 (1.4)                     & 0.0 (1.4)                     & NA   \\\\\n",
       "\t V5          & Median (IQR) & -0.1 (-0.7-0.6)               & -0.1 (-0.7-0.6)               & -0.1 (-0.7-0.6)               & 0.799\\\\\n",
       "\t V6          & Mean (SD)    & 0.0 (1.3)                     & 0.0 (1.3)                     & 0.0 (1.3)                     & NA   \\\\\n",
       "\t V6          & Median (IQR) & -0.3 (-0.8-0.4)               & -0.3 (-0.8-0.4)               & -0.3 (-0.8-0.4)               & 0.665\\\\\n",
       "\t V7          & Mean (SD)    & 0.0 (1.2)                     & 0.0 (1.2)                     & 0.0 (1.2)                     & NA   \\\\\n",
       "\t V7          & Median (IQR) & 0.0 (-0.6-0.6)                & 0.0 (-0.6-0.6)                & 0.0 (-0.6-0.6)                & 0.98 \\\\\n",
       "\t V8          & Mean (SD)    & 0.0 (1.2)                     & 0.0 (1.2)                     & 0.0 (1.2)                     & NA   \\\\\n",
       "\t V8          & Median (IQR) & 0.0 (-0.2-0.3)                & 0.0 (-0.2-0.3)                & 0.0 (-0.2-0.3)                & 0.56 \\\\\n",
       "\t V9          & Mean (SD)    & 0.0 (1.1)                     & 0.0 (1.1)                     & 0.0 (1.1)                     & NA   \\\\\n",
       "\t V9          & Median (IQR) & -0.1 (-0.6-0.6)               & -0.1 (-0.6-0.6)               & 0.0 (-0.6-0.6)                & 0.314\\\\\n",
       "\t V10         & Mean (SD)    & 0.0 (1.1)                     & 0.0 (1.1)                     & 0.0 (1.1)                     & NA   \\\\\n",
       "\t V10         & Median (IQR) & -0.1 (-0.5-0.5)               & -0.1 (-0.5-0.5)               & -0.1 (-0.5-0.5)               & 0.813\\\\\n",
       "\t V11         & Mean (SD)    & 0.0 (1.0)                     & 0.0 (1.0)                     & 0.0 (1.0)                     & NA   \\\\\n",
       "\t V11         & Median (IQR) & 0.0 (-0.8-0.7)                & 0.0 (-0.8-0.7)                & 0.0 (-0.8-0.7)                & 0.805\\\\\n",
       "\t V12         & Mean (SD)    & 0.0 (1.0)                     & 0.0 (1.0)                     & 0.0 (1.0)                     & NA   \\\\\n",
       "\t V12         & Median (IQR) & 0.1 (-0.4-0.6)                & 0.1 (-0.4-0.6)                & 0.1 (-0.4-0.6)                & 0.873\\\\\n",
       "\t V13         & Mean (SD)    & 0.0 (1.0)                     & 0.0 (1.0)                     & 0.0 (1.0)                     & NA   \\\\\n",
       "\t V13         & Median (IQR) & 0.0 (-0.6-0.7)                & 0.0 (-0.6-0.7)                & 0.0 (-0.6-0.7)                & 0.148\\\\\n",
       "\t V14         & Mean (SD)    & 0.0 (1.0)                     & 0.0 (1.0)                     & 0.0 (1.0)                     & NA   \\\\\n",
       "\t ... & ... & ... & ... & ... & ...\\\\\n",
       "\t V17            & Mean (SD)    & 0.0 (0.8)       & 0.0 (0.9)       & 0.0 (0.8)       & NA   \\\\\n",
       "\t V17            & Median (IQR) & -0.1 (-0.5-0.4) & -0.1 (-0.5-0.4) & -0.1 (-0.5-0.4) & 0.751\\\\\n",
       "\t V18            & Mean (SD)    & 0.0 (0.8)       & 0.0 (0.8)       & 0.0 (0.8)       & NA   \\\\\n",
       "\t V18            & Median (IQR) & 0.0 (-0.5-0.5)  & 0.0 (-0.5-0.5)  & 0.0 (-0.5-0.5)  & 0.815\\\\\n",
       "\t V19            & Mean (SD)    & 0.0 (0.8)       & 0.0 (0.8)       & 0.0 (0.8)       & NA   \\\\\n",
       "\t V19            & Median (IQR) & 0.0 (-0.5-0.5)  & 0.0 (-0.5-0.5)  & 0.0 (-0.5-0.5)  & 0.8  \\\\\n",
       "\t V20            & Mean (SD)    & 0.0 (0.8)       & 0.0 (0.8)       & 0.0 (0.8)       & NA   \\\\\n",
       "\t V20            & Median (IQR) & -0.1 (-0.2-0.1) & -0.1 (-0.2-0.1) & -0.1 (-0.2-0.1) & 0.503\\\\\n",
       "\t V21            & Mean (SD)    & 0.0 (0.7)       & 0.0 (0.7)       & 0.0 (0.7)       & NA   \\\\\n",
       "\t V21            & Median (IQR) & 0.0 (-0.2-0.2)  & 0.0 (-0.2-0.2)  & 0.0 (-0.2-0.2)  & 0.958\\\\\n",
       "\t V22            & Mean (SD)    & 0.0 (0.7)       & 0.0 (0.7)       & 0.0 (0.7)       & NA   \\\\\n",
       "\t V22            & Median (IQR) & 0.0 (-0.5-0.5)  & 0.0 (-0.5-0.5)  & 0.0 (-0.5-0.5)  & 0.015\\\\\n",
       "\t V23            & Mean (SD)    & 0.0 (0.6)       & 0.0 (0.6)       & 0.0 (0.6)       & NA   \\\\\n",
       "\t V23            & Median (IQR) & 0.0 (-0.2-0.1)  & 0.0 (-0.2-0.1)  & 0.0 (-0.2-0.1)  & 0.089\\\\\n",
       "\t V24            & Mean (SD)    & 0.0 (0.6)       & 0.0 (0.6)       & 0.0 (0.6)       & NA   \\\\\n",
       "\t V24            & Median (IQR) & 0.0 (-0.4-0.4)  & 0.0 (-0.4-0.4)  & 0.0 (-0.4-0.4)  & 0.134\\\\\n",
       "\t V25            & Mean (SD)    & 0.0 (0.5)       & 0.0 (0.5)       & 0.0 (0.5)       & NA   \\\\\n",
       "\t V25            & Median (IQR) & 0.0 (-0.3-0.4)  & 0.0 (-0.3-0.4)  & 0.0 (-0.3-0.4)  & 0.969\\\\\n",
       "\t V26            & Mean (SD)    & 0.0 (0.5)       & 0.0 (0.5)       & 0.0 (0.5)       & NA   \\\\\n",
       "\t V26            & Median (IQR) & -0.1 (-0.3-0.2) & -0.1 (-0.3-0.2) & -0.1 (-0.3-0.2) & 0.937\\\\\n",
       "\t V27            & Mean (SD)    & 0.0 (0.4)       & 0.0 (0.4)       & 0.0 (0.4)       & NA   \\\\\n",
       "\t V27            & Median (IQR) & 0.0 (-0.1-0.1)  & 0.0 (-0.1-0.1)  & 0.0 (-0.1-0.1)  & 0.155\\\\\n",
       "\t V28            & Mean (SD)    & 0.0 (0.3)       & 0.0 (0.3)       & 0.0 (0.4)       & NA   \\\\\n",
       "\t V28            & Median (IQR) & 0.0 (-0.1-0.1)  & 0.0 (-0.1-0.1)  & 0.0 (-0.1-0.1)  & 0.991\\\\\n",
       "\t Amount         & Mean (SD)    & 88.3 (250.1)    & 88.3 (254.3)    & 88.4 (240.0)    & NA   \\\\\n",
       "\t Amount         & Median (IQR) & 22.0 (5.6-77.2) & 22.0 (5.6-77.2) & 22.0 (5.5-77.2) & 0.917\\\\\n",
       "\t Class          & Mean (SD)    & 0.0 (0.0)       & 0.0 (0.0)       & 0.0 (0.0)       & NA   \\\\\n",
       "\t Class          & Median (IQR) & 0.0 (0.0-0.0)   & 0.0 (0.0-0.0)   & 0.0 (0.0-0.0)   & 0.797\\\\\n",
       "\t traintest\\_ind\\_ & Mean (SD)    & 1.3 (0.5)       & NA              & NA              & NA   \\\\\n",
       "\t traintest\\_ind\\_ & Median (IQR) & 1.0 (1.0-2.0)   & NA              & NA              & 0    \\\\\n",
       "\\end{tabular}\n"
      ],
      "text/markdown": [
       "\n",
       "A tibble: 65 × 6\n",
       "\n",
       "| V1 &lt;chr&gt; | V2 &lt;chr&gt; | Pop &lt;chr&gt; | 1 &lt;chr&gt; | 2 &lt;chr&gt; | pval &lt;chr&gt; |\n",
       "|---|---|---|---|---|---|\n",
       "| Individuals | n            | 284807                        | 199364                        | 85443                         | NA    |\n",
       "| Time        | Mean (SD)    | 94,813.9 (47,488.1)           | 94,848.0 (47,454.6)           | 94,734.2 (47,566.6)           | NA    |\n",
       "| Time        | Median (IQR) | 84,692.0 (54,201.5-139,320.5) | 84,703.5 (54,272.0-139,287.0) | 84,672.0 (54,046.5-139,396.5) | 0.558 |\n",
       "| V1          | Mean (SD)    | 0.0 (2.0)                     | 0.0 (2.0)                     | 0.0 (2.0)                     | NA    |\n",
       "| V1          | Median (IQR) | 0.0 (-0.9-1.3)                | 0.0 (-0.9-1.3)                | 0.0 (-0.9-1.3)                | 0.471 |\n",
       "| V2          | Mean (SD)    | 0.0 (1.7)                     | 0.0 (1.6)                     | 0.0 (1.7)                     | NA    |\n",
       "| V2          | Median (IQR) | 0.1 (-0.6-0.8)                | 0.1 (-0.6-0.8)                | 0.1 (-0.6-0.8)                | 0.926 |\n",
       "| V3          | Mean (SD)    | 0.0 (1.5)                     | 0.0 (1.5)                     | 0.0 (1.5)                     | NA    |\n",
       "| V3          | Median (IQR) | 0.2 (-0.9-1.0)                | 0.2 (-0.9-1.0)                | 0.2 (-0.9-1.0)                | 0.939 |\n",
       "| V4          | Mean (SD)    | 0.0 (1.4)                     | 0.0 (1.4)                     | 0.0 (1.4)                     | NA    |\n",
       "| V4          | Median (IQR) | 0.0 (-0.8-0.7)                | 0.0 (-0.8-0.7)                | 0.0 (-0.9-0.7)                | 0.05  |\n",
       "| V5          | Mean (SD)    | 0.0 (1.4)                     | 0.0 (1.4)                     | 0.0 (1.4)                     | NA    |\n",
       "| V5          | Median (IQR) | -0.1 (-0.7-0.6)               | -0.1 (-0.7-0.6)               | -0.1 (-0.7-0.6)               | 0.799 |\n",
       "| V6          | Mean (SD)    | 0.0 (1.3)                     | 0.0 (1.3)                     | 0.0 (1.3)                     | NA    |\n",
       "| V6          | Median (IQR) | -0.3 (-0.8-0.4)               | -0.3 (-0.8-0.4)               | -0.3 (-0.8-0.4)               | 0.665 |\n",
       "| V7          | Mean (SD)    | 0.0 (1.2)                     | 0.0 (1.2)                     | 0.0 (1.2)                     | NA    |\n",
       "| V7          | Median (IQR) | 0.0 (-0.6-0.6)                | 0.0 (-0.6-0.6)                | 0.0 (-0.6-0.6)                | 0.98  |\n",
       "| V8          | Mean (SD)    | 0.0 (1.2)                     | 0.0 (1.2)                     | 0.0 (1.2)                     | NA    |\n",
       "| V8          | Median (IQR) | 0.0 (-0.2-0.3)                | 0.0 (-0.2-0.3)                | 0.0 (-0.2-0.3)                | 0.56  |\n",
       "| V9          | Mean (SD)    | 0.0 (1.1)                     | 0.0 (1.1)                     | 0.0 (1.1)                     | NA    |\n",
       "| V9          | Median (IQR) | -0.1 (-0.6-0.6)               | -0.1 (-0.6-0.6)               | 0.0 (-0.6-0.6)                | 0.314 |\n",
       "| V10         | Mean (SD)    | 0.0 (1.1)                     | 0.0 (1.1)                     | 0.0 (1.1)                     | NA    |\n",
       "| V10         | Median (IQR) | -0.1 (-0.5-0.5)               | -0.1 (-0.5-0.5)               | -0.1 (-0.5-0.5)               | 0.813 |\n",
       "| V11         | Mean (SD)    | 0.0 (1.0)                     | 0.0 (1.0)                     | 0.0 (1.0)                     | NA    |\n",
       "| V11         | Median (IQR) | 0.0 (-0.8-0.7)                | 0.0 (-0.8-0.7)                | 0.0 (-0.8-0.7)                | 0.805 |\n",
       "| V12         | Mean (SD)    | 0.0 (1.0)                     | 0.0 (1.0)                     | 0.0 (1.0)                     | NA    |\n",
       "| V12         | Median (IQR) | 0.1 (-0.4-0.6)                | 0.1 (-0.4-0.6)                | 0.1 (-0.4-0.6)                | 0.873 |\n",
       "| V13         | Mean (SD)    | 0.0 (1.0)                     | 0.0 (1.0)                     | 0.0 (1.0)                     | NA    |\n",
       "| V13         | Median (IQR) | 0.0 (-0.6-0.7)                | 0.0 (-0.6-0.7)                | 0.0 (-0.6-0.7)                | 0.148 |\n",
       "| V14         | Mean (SD)    | 0.0 (1.0)                     | 0.0 (1.0)                     | 0.0 (1.0)                     | NA    |\n",
       "| ... | ... | ... | ... | ... | ... |\n",
       "| V17            | Mean (SD)    | 0.0 (0.8)       | 0.0 (0.9)       | 0.0 (0.8)       | NA    |\n",
       "| V17            | Median (IQR) | -0.1 (-0.5-0.4) | -0.1 (-0.5-0.4) | -0.1 (-0.5-0.4) | 0.751 |\n",
       "| V18            | Mean (SD)    | 0.0 (0.8)       | 0.0 (0.8)       | 0.0 (0.8)       | NA    |\n",
       "| V18            | Median (IQR) | 0.0 (-0.5-0.5)  | 0.0 (-0.5-0.5)  | 0.0 (-0.5-0.5)  | 0.815 |\n",
       "| V19            | Mean (SD)    | 0.0 (0.8)       | 0.0 (0.8)       | 0.0 (0.8)       | NA    |\n",
       "| V19            | Median (IQR) | 0.0 (-0.5-0.5)  | 0.0 (-0.5-0.5)  | 0.0 (-0.5-0.5)  | 0.8   |\n",
       "| V20            | Mean (SD)    | 0.0 (0.8)       | 0.0 (0.8)       | 0.0 (0.8)       | NA    |\n",
       "| V20            | Median (IQR) | -0.1 (-0.2-0.1) | -0.1 (-0.2-0.1) | -0.1 (-0.2-0.1) | 0.503 |\n",
       "| V21            | Mean (SD)    | 0.0 (0.7)       | 0.0 (0.7)       | 0.0 (0.7)       | NA    |\n",
       "| V21            | Median (IQR) | 0.0 (-0.2-0.2)  | 0.0 (-0.2-0.2)  | 0.0 (-0.2-0.2)  | 0.958 |\n",
       "| V22            | Mean (SD)    | 0.0 (0.7)       | 0.0 (0.7)       | 0.0 (0.7)       | NA    |\n",
       "| V22            | Median (IQR) | 0.0 (-0.5-0.5)  | 0.0 (-0.5-0.5)  | 0.0 (-0.5-0.5)  | 0.015 |\n",
       "| V23            | Mean (SD)    | 0.0 (0.6)       | 0.0 (0.6)       | 0.0 (0.6)       | NA    |\n",
       "| V23            | Median (IQR) | 0.0 (-0.2-0.1)  | 0.0 (-0.2-0.1)  | 0.0 (-0.2-0.1)  | 0.089 |\n",
       "| V24            | Mean (SD)    | 0.0 (0.6)       | 0.0 (0.6)       | 0.0 (0.6)       | NA    |\n",
       "| V24            | Median (IQR) | 0.0 (-0.4-0.4)  | 0.0 (-0.4-0.4)  | 0.0 (-0.4-0.4)  | 0.134 |\n",
       "| V25            | Mean (SD)    | 0.0 (0.5)       | 0.0 (0.5)       | 0.0 (0.5)       | NA    |\n",
       "| V25            | Median (IQR) | 0.0 (-0.3-0.4)  | 0.0 (-0.3-0.4)  | 0.0 (-0.3-0.4)  | 0.969 |\n",
       "| V26            | Mean (SD)    | 0.0 (0.5)       | 0.0 (0.5)       | 0.0 (0.5)       | NA    |\n",
       "| V26            | Median (IQR) | -0.1 (-0.3-0.2) | -0.1 (-0.3-0.2) | -0.1 (-0.3-0.2) | 0.937 |\n",
       "| V27            | Mean (SD)    | 0.0 (0.4)       | 0.0 (0.4)       | 0.0 (0.4)       | NA    |\n",
       "| V27            | Median (IQR) | 0.0 (-0.1-0.1)  | 0.0 (-0.1-0.1)  | 0.0 (-0.1-0.1)  | 0.155 |\n",
       "| V28            | Mean (SD)    | 0.0 (0.3)       | 0.0 (0.3)       | 0.0 (0.4)       | NA    |\n",
       "| V28            | Median (IQR) | 0.0 (-0.1-0.1)  | 0.0 (-0.1-0.1)  | 0.0 (-0.1-0.1)  | 0.991 |\n",
       "| Amount         | Mean (SD)    | 88.3 (250.1)    | 88.3 (254.3)    | 88.4 (240.0)    | NA    |\n",
       "| Amount         | Median (IQR) | 22.0 (5.6-77.2) | 22.0 (5.6-77.2) | 22.0 (5.5-77.2) | 0.917 |\n",
       "| Class          | Mean (SD)    | 0.0 (0.0)       | 0.0 (0.0)       | 0.0 (0.0)       | NA    |\n",
       "| Class          | Median (IQR) | 0.0 (0.0-0.0)   | 0.0 (0.0-0.0)   | 0.0 (0.0-0.0)   | 0.797 |\n",
       "| traintest_ind_ | Mean (SD)    | 1.3 (0.5)       | NA              | NA              | NA    |\n",
       "| traintest_ind_ | Median (IQR) | 1.0 (1.0-2.0)   | NA              | NA              | 0     |\n",
       "\n"
      ],
      "text/plain": [
       "    V1             V2           Pop                          \n",
       "1   Individuals    n            284807                       \n",
       "2   Time           Mean (SD)    94,813.9 (47,488.1)          \n",
       "3   Time           Median (IQR) 84,692.0 (54,201.5-139,320.5)\n",
       "4   V1             Mean (SD)    0.0 (2.0)                    \n",
       "5   V1             Median (IQR) 0.0 (-0.9-1.3)               \n",
       "6   V2             Mean (SD)    0.0 (1.7)                    \n",
       "7   V2             Median (IQR) 0.1 (-0.6-0.8)               \n",
       "8   V3             Mean (SD)    0.0 (1.5)                    \n",
       "9   V3             Median (IQR) 0.2 (-0.9-1.0)               \n",
       "10  V4             Mean (SD)    0.0 (1.4)                    \n",
       "11  V4             Median (IQR) 0.0 (-0.8-0.7)               \n",
       "12  V5             Mean (SD)    0.0 (1.4)                    \n",
       "13  V5             Median (IQR) -0.1 (-0.7-0.6)              \n",
       "14  V6             Mean (SD)    0.0 (1.3)                    \n",
       "15  V6             Median (IQR) -0.3 (-0.8-0.4)              \n",
       "16  V7             Mean (SD)    0.0 (1.2)                    \n",
       "17  V7             Median (IQR) 0.0 (-0.6-0.6)               \n",
       "18  V8             Mean (SD)    0.0 (1.2)                    \n",
       "19  V8             Median (IQR) 0.0 (-0.2-0.3)               \n",
       "20  V9             Mean (SD)    0.0 (1.1)                    \n",
       "21  V9             Median (IQR) -0.1 (-0.6-0.6)              \n",
       "22  V10            Mean (SD)    0.0 (1.1)                    \n",
       "23  V10            Median (IQR) -0.1 (-0.5-0.5)              \n",
       "24  V11            Mean (SD)    0.0 (1.0)                    \n",
       "25  V11            Median (IQR) 0.0 (-0.8-0.7)               \n",
       "26  V12            Mean (SD)    0.0 (1.0)                    \n",
       "27  V12            Median (IQR) 0.1 (-0.4-0.6)               \n",
       "28  V13            Mean (SD)    0.0 (1.0)                    \n",
       "29  V13            Median (IQR) 0.0 (-0.6-0.7)               \n",
       "30  V14            Mean (SD)    0.0 (1.0)                    \n",
       "... ...            ...          ...                          \n",
       "36  V17            Mean (SD)    0.0 (0.8)                    \n",
       "37  V17            Median (IQR) -0.1 (-0.5-0.4)              \n",
       "38  V18            Mean (SD)    0.0 (0.8)                    \n",
       "39  V18            Median (IQR) 0.0 (-0.5-0.5)               \n",
       "40  V19            Mean (SD)    0.0 (0.8)                    \n",
       "41  V19            Median (IQR) 0.0 (-0.5-0.5)               \n",
       "42  V20            Mean (SD)    0.0 (0.8)                    \n",
       "43  V20            Median (IQR) -0.1 (-0.2-0.1)              \n",
       "44  V21            Mean (SD)    0.0 (0.7)                    \n",
       "45  V21            Median (IQR) 0.0 (-0.2-0.2)               \n",
       "46  V22            Mean (SD)    0.0 (0.7)                    \n",
       "47  V22            Median (IQR) 0.0 (-0.5-0.5)               \n",
       "48  V23            Mean (SD)    0.0 (0.6)                    \n",
       "49  V23            Median (IQR) 0.0 (-0.2-0.1)               \n",
       "50  V24            Mean (SD)    0.0 (0.6)                    \n",
       "51  V24            Median (IQR) 0.0 (-0.4-0.4)               \n",
       "52  V25            Mean (SD)    0.0 (0.5)                    \n",
       "53  V25            Median (IQR) 0.0 (-0.3-0.4)               \n",
       "54  V26            Mean (SD)    0.0 (0.5)                    \n",
       "55  V26            Median (IQR) -0.1 (-0.3-0.2)              \n",
       "56  V27            Mean (SD)    0.0 (0.4)                    \n",
       "57  V27            Median (IQR) 0.0 (-0.1-0.1)               \n",
       "58  V28            Mean (SD)    0.0 (0.3)                    \n",
       "59  V28            Median (IQR) 0.0 (-0.1-0.1)               \n",
       "60  Amount         Mean (SD)    88.3 (250.1)                 \n",
       "61  Amount         Median (IQR) 22.0 (5.6-77.2)              \n",
       "62  Class          Mean (SD)    0.0 (0.0)                    \n",
       "63  Class          Median (IQR) 0.0 (0.0-0.0)                \n",
       "64  traintest_ind_ Mean (SD)    1.3 (0.5)                    \n",
       "65  traintest_ind_ Median (IQR) 1.0 (1.0-2.0)                \n",
       "    1                             2                             pval \n",
       "1   199364                        85443                         NA   \n",
       "2   94,848.0 (47,454.6)           94,734.2 (47,566.6)           NA   \n",
       "3   84,703.5 (54,272.0-139,287.0) 84,672.0 (54,046.5-139,396.5) 0.558\n",
       "4   0.0 (2.0)                     0.0 (2.0)                     NA   \n",
       "5   0.0 (-0.9-1.3)                0.0 (-0.9-1.3)                0.471\n",
       "6   0.0 (1.6)                     0.0 (1.7)                     NA   \n",
       "7   0.1 (-0.6-0.8)                0.1 (-0.6-0.8)                0.926\n",
       "8   0.0 (1.5)                     0.0 (1.5)                     NA   \n",
       "9   0.2 (-0.9-1.0)                0.2 (-0.9-1.0)                0.939\n",
       "10  0.0 (1.4)                     0.0 (1.4)                     NA   \n",
       "11  0.0 (-0.8-0.7)                0.0 (-0.9-0.7)                0.05 \n",
       "12  0.0 (1.4)                     0.0 (1.4)                     NA   \n",
       "13  -0.1 (-0.7-0.6)               -0.1 (-0.7-0.6)               0.799\n",
       "14  0.0 (1.3)                     0.0 (1.3)                     NA   \n",
       "15  -0.3 (-0.8-0.4)               -0.3 (-0.8-0.4)               0.665\n",
       "16  0.0 (1.2)                     0.0 (1.2)                     NA   \n",
       "17  0.0 (-0.6-0.6)                0.0 (-0.6-0.6)                0.98 \n",
       "18  0.0 (1.2)                     0.0 (1.2)                     NA   \n",
       "19  0.0 (-0.2-0.3)                0.0 (-0.2-0.3)                0.56 \n",
       "20  0.0 (1.1)                     0.0 (1.1)                     NA   \n",
       "21  -0.1 (-0.6-0.6)               0.0 (-0.6-0.6)                0.314\n",
       "22  0.0 (1.1)                     0.0 (1.1)                     NA   \n",
       "23  -0.1 (-0.5-0.5)               -0.1 (-0.5-0.5)               0.813\n",
       "24  0.0 (1.0)                     0.0 (1.0)                     NA   \n",
       "25  0.0 (-0.8-0.7)                0.0 (-0.8-0.7)                0.805\n",
       "26  0.0 (1.0)                     0.0 (1.0)                     NA   \n",
       "27  0.1 (-0.4-0.6)                0.1 (-0.4-0.6)                0.873\n",
       "28  0.0 (1.0)                     0.0 (1.0)                     NA   \n",
       "29  0.0 (-0.6-0.7)                0.0 (-0.6-0.7)                0.148\n",
       "30  0.0 (1.0)                     0.0 (1.0)                     NA   \n",
       "... ...                           ...                           ...  \n",
       "36  0.0 (0.9)                     0.0 (0.8)                     NA   \n",
       "37  -0.1 (-0.5-0.4)               -0.1 (-0.5-0.4)               0.751\n",
       "38  0.0 (0.8)                     0.0 (0.8)                     NA   \n",
       "39  0.0 (-0.5-0.5)                0.0 (-0.5-0.5)                0.815\n",
       "40  0.0 (0.8)                     0.0 (0.8)                     NA   \n",
       "41  0.0 (-0.5-0.5)                0.0 (-0.5-0.5)                0.8  \n",
       "42  0.0 (0.8)                     0.0 (0.8)                     NA   \n",
       "43  -0.1 (-0.2-0.1)               -0.1 (-0.2-0.1)               0.503\n",
       "44  0.0 (0.7)                     0.0 (0.7)                     NA   \n",
       "45  0.0 (-0.2-0.2)                0.0 (-0.2-0.2)                0.958\n",
       "46  0.0 (0.7)                     0.0 (0.7)                     NA   \n",
       "47  0.0 (-0.5-0.5)                0.0 (-0.5-0.5)                0.015\n",
       "48  0.0 (0.6)                     0.0 (0.6)                     NA   \n",
       "49  0.0 (-0.2-0.1)                0.0 (-0.2-0.1)                0.089\n",
       "50  0.0 (0.6)                     0.0 (0.6)                     NA   \n",
       "51  0.0 (-0.4-0.4)                0.0 (-0.4-0.4)                0.134\n",
       "52  0.0 (0.5)                     0.0 (0.5)                     NA   \n",
       "53  0.0 (-0.3-0.4)                0.0 (-0.3-0.4)                0.969\n",
       "54  0.0 (0.5)                     0.0 (0.5)                     NA   \n",
       "55  -0.1 (-0.3-0.2)               -0.1 (-0.3-0.2)               0.937\n",
       "56  0.0 (0.4)                     0.0 (0.4)                     NA   \n",
       "57  0.0 (-0.1-0.1)                0.0 (-0.1-0.1)                0.155\n",
       "58  0.0 (0.3)                     0.0 (0.4)                     NA   \n",
       "59  0.0 (-0.1-0.1)                0.0 (-0.1-0.1)                0.991\n",
       "60  88.3 (254.3)                  88.4 (240.0)                  NA   \n",
       "61  22.0 (5.6-77.2)               22.0 (5.5-77.2)               0.917\n",
       "62  0.0 (0.0)                     0.0 (0.0)                     NA   \n",
       "63  0.0 (0.0-0.0)                 0.0 (0.0-0.0)                 0.797\n",
       "64  NA                            NA                            NA   \n",
       "65  NA                            NA                            0    "
      ]
     },
     "metadata": {},
     "output_type": "display_data"
    }
   ],
   "source": [
    "### divide into train-test\n",
    "mechkar::train_test(data=df, train_name=\"train\", test_name=\"test\", prop=0.7, seed=2, tableone=T)"
   ]
  },
  {
   "cell_type": "code",
   "execution_count": 30,
   "metadata": {},
   "outputs": [
    {
     "data": {
      "text/plain": [
       "\n",
       "     0      1 \n",
       "199017    347 "
      ]
     },
     "metadata": {},
     "output_type": "display_data"
    },
    {
     "data": {
      "text/plain": [
       "\n",
       "          0           1 \n",
       "0.998259465 0.001740535 "
      ]
     },
     "metadata": {},
     "output_type": "display_data"
    },
    {
     "data": {
      "text/plain": [
       "\n",
       "    0     1 \n",
       "85298   145 "
      ]
     },
     "metadata": {},
     "output_type": "display_data"
    },
    {
     "data": {
      "text/plain": [
       "\n",
       "          0           1 \n",
       "0.998302962 0.001697038 "
      ]
     },
     "metadata": {},
     "output_type": "display_data"
    }
   ],
   "source": [
    "table(train$Class)\n",
    "table(train$Class)/nrow(train)\n",
    "\n",
    "table(test$Class)\n",
    "table(test$Class)/nrow(test)"
   ]
  },
  {
   "cell_type": "markdown",
   "metadata": {},
   "source": [
    "#### Base Models"
   ]
  },
  {
   "cell_type": "code",
   "execution_count": 57,
   "metadata": {},
   "outputs": [
    {
     "data": {
      "text/plain": [
       "\n",
       "Call:\n",
       "glm(formula = Class ~ ., family = \"binomial\", data = train2)\n",
       "\n",
       "Deviance Residuals: \n",
       "    Min       1Q   Median       3Q      Max  \n",
       "-5.0083  -0.0486  -0.0306  -0.0186   4.2068  \n",
       "\n",
       "Coefficients:\n",
       "              Estimate Std. Error z value Pr(>|z|)    \n",
       "(Intercept) -7.861e+00  3.547e-01 -22.164  < 2e-16 ***\n",
       "Time        -7.659e-09  2.964e-06  -0.003 0.997938    \n",
       "V1           1.116e-01  6.236e-02   1.789 0.073633 .  \n",
       "V2           2.031e-01  1.014e-01   2.003 0.045185 *  \n",
       "V3           2.517e-02  7.446e-02   0.338 0.735341    \n",
       "V4           6.539e-01  1.022e-01   6.399 1.56e-10 ***\n",
       "V5           1.671e-01  1.010e-01   1.655 0.097962 .  \n",
       "V6          -2.385e-01  1.089e-01  -2.190 0.028509 *  \n",
       "V7          -1.933e-01  1.052e-01  -1.838 0.066094 .  \n",
       "V8          -2.101e-01  4.961e-02  -4.236 2.28e-05 ***\n",
       "V9          -1.110e-01  1.527e-01  -0.727 0.467264    \n",
       "V10         -5.606e-01  1.419e-01  -3.951 7.77e-05 ***\n",
       "V11         -2.879e-02  1.107e-01  -0.260 0.794755    \n",
       "V12          8.830e-02  1.103e-01   0.800 0.423566    \n",
       "V13         -3.783e-01  1.059e-01  -3.571 0.000356 ***\n",
       "V14         -6.860e-01  8.628e-02  -7.951 1.86e-15 ***\n",
       "V15         -4.508e-02  1.171e-01  -0.385 0.700161    \n",
       "V16         -1.457e-01  1.735e-01  -0.840 0.401115    \n",
       "V17         -5.528e-02  9.317e-02  -0.593 0.552948    \n",
       "V18         -3.008e-02  1.743e-01  -0.173 0.863003    \n",
       "V19          2.776e-02  1.357e-01   0.205 0.837894    \n",
       "V20         -4.783e-01  1.387e-01  -3.449 0.000562 ***\n",
       "V21          2.557e-01  8.683e-02   2.945 0.003226 ** \n",
       "V22          6.499e-01  1.841e-01   3.529 0.000416 ***\n",
       "V23         -8.293e-02  9.753e-02  -0.850 0.395162    \n",
       "V24         -3.912e-02  2.037e-01  -0.192 0.847717    \n",
       "V25          3.198e-01  1.879e-01   1.702 0.088765 .  \n",
       "V26         -1.515e-01  2.541e-01  -0.596 0.550951    \n",
       "V27         -7.321e-01  1.987e-01  -3.685 0.000229 ***\n",
       "V28         -3.027e-01  1.812e-01  -1.671 0.094805 .  \n",
       "Amount       3.733e-03  8.478e-04   4.404 1.06e-05 ***\n",
       "---\n",
       "Signif. codes:  0 '***' 0.001 '**' 0.01 '*' 0.05 '.' 0.1 ' ' 1\n",
       "\n",
       "(Dispersion parameter for binomial family taken to be 1)\n",
       "\n",
       "    Null deviance: 4173.2  on 52360  degrees of freedom\n",
       "Residual deviance: 1054.1  on 52330  degrees of freedom\n",
       "AIC: 1116.1\n",
       "\n",
       "Number of Fisher Scoring iterations: 10\n"
      ]
     },
     "metadata": {},
     "output_type": "display_data"
    }
   ],
   "source": [
    "bm <- glm(Class ~., data=train2, family=\"binomial\")\n",
    "summary(bm)"
   ]
  },
  {
   "cell_type": "code",
   "execution_count": 58,
   "metadata": {},
   "outputs": [],
   "source": [
    "predbm <- predict(bm,newdata=test,type=\"response\")"
   ]
  },
  {
   "cell_type": "code",
   "execution_count": 59,
   "metadata": {},
   "outputs": [
    {
     "name": "stderr",
     "output_type": "stream",
     "text": [
      "Setting levels: control = 0, case = 1\n",
      "\n",
      "Setting direction: controls < cases\n",
      "\n"
     ]
    },
    {
     "data": {
      "text/plain": [
       "\n",
       "Call:\n",
       "roc.default(response = test$Class, predictor = predbm)\n",
       "\n",
       "Data: predbm in 85298 controls (test$Class 0) < 145 cases (test$Class 1).\n",
       "Area under the curve: 0.9783"
      ]
     },
     "metadata": {},
     "output_type": "display_data"
    }
   ],
   "source": [
    "### AUC\n",
    "roc0 <- pROC::roc(test$Class, predbm)\n",
    "roc0"
   ]
  },
  {
   "cell_type": "code",
   "execution_count": 61,
   "metadata": {},
   "outputs": [
    {
     "data": {
      "text/plain": [
       "   pred\n",
       "obs     0     1\n",
       "  0 85228    70\n",
       "  1    49    96"
      ]
     },
     "metadata": {},
     "output_type": "display_data"
    }
   ],
   "source": [
    "table(obs=test$Class, pred=ifelse(predbm>0.5,1,0))"
   ]
  },
  {
   "cell_type": "code",
   "execution_count": null,
   "metadata": {},
   "outputs": [],
   "source": []
  },
  {
   "cell_type": "code",
   "execution_count": 63,
   "metadata": {},
   "outputs": [
    {
     "data": {
      "text/plain": [
       "\n",
       "     0      1 \n",
       "199017    347 "
      ]
     },
     "metadata": {},
     "output_type": "display_data"
    }
   ],
   "source": [
    "table(train$Class)"
   ]
  },
  {
   "cell_type": "code",
   "execution_count": 65,
   "metadata": {},
   "outputs": [
    {
     "data": {
      "text/html": [
       "199017"
      ],
      "text/latex": [
       "199017"
      ],
      "text/markdown": [
       "199017"
      ],
      "text/plain": [
       "[1] 199017"
      ]
     },
     "metadata": {},
     "output_type": "display_data"
    }
   ],
   "source": [
    "tr1 <- train %>% filter(Class==0)\n",
    "nrow(tr1)"
   ]
  },
  {
   "cell_type": "code",
   "execution_count": 68,
   "metadata": {},
   "outputs": [
    {
     "name": "stderr",
     "output_type": "stream",
     "text": [
      "Warning message:\n",
      "\"Quick-TRANSfer stage steps exceeded maximum (= 9950850)\"\n"
     ]
    },
    {
     "data": {
      "text/plain": [
       "\n",
       "   1    2    3    4    5    6    7    8    9   10   11   12   13   14   15   16 \n",
       " 710  678  601  606  836  787  739  527  909 1498  622  586  815  750  483  575 \n",
       "  17   18   19   20   21   22   23   24   25   26   27   28   29   30   31   32 \n",
       "  16  646   21  531  745  405  722  621  774  753    5   19  757  788   26  661 \n",
       "  33   34   35   36   37   38   39   40   41   42   43   44   45   46   47   48 \n",
       " 763  786  507  722   49  343  635  716  539  549  754  614  421 1082  560  476 \n",
       "  49   50   51   52   53   54   55   56   57   58   59   60   61   62   63   64 \n",
       " 822  953  648  295  771  859  750  772   25  840  456  774  745   24   30  667 \n",
       "  65   66   67   68   69   70   71   72   73   74   75   76   77   78   79   80 \n",
       " 767  841  778  907  784  806  817  695  693  502  766  703  493  585  586  613 \n",
       "  81   82   83   84   85   86   87   88   89   90   91   92   93   94   95   96 \n",
       " 773  700  602  497  574  550   40   37    1  665  669  773  803  449  659  803 \n",
       "  97   98   99  100  101  102  103  104  105  106  107  108  109  110  111  112 \n",
       " 650  792  745  774   64  446  719  423  642  449  864  418  871   44  593   11 \n",
       " 113  114  115  116  117  118  119  120  121  122  123  124  125  126  127  128 \n",
       " 589  541 1048   54   64  553  437  905   39   49  399   46  897  752  693  609 \n",
       " 129  130  131  132  133  134  135  136  137  138  139  140  141  142  143  144 \n",
       " 442   46  769  770  545   66  562  764  567  748  637  455   71   18  703  750 \n",
       " 145  146  147  148  149  150  151  152  153  154  155  156  157  158  159  160 \n",
       "1177  470   77  498   68  661  684  295  691  764  916  887   33  799  630    9 \n",
       " 161  162  163  164  165  166  167  168  169  170  171  172  173  174  175  176 \n",
       "1098  936  535  415  590  864  477  886  852  902  688  592   50   60  526  392 \n",
       " 177  178  179  180  181  182  183  184  185  186  187  188  189  190  191  192 \n",
       " 591  458  691  821  777  824  704  742  374  718   61   21  580  516  699  727 \n",
       " 193  194  195  196  197  198  199  200  201  202  203  204  205  206  207  208 \n",
       " 427  750  596  727  685  608  826  841  576  483  546  824  663  673  413  597 \n",
       " 209  210  211  212  213  214  215  216  217  218  219  220  221  222  223  224 \n",
       " 435  684  622   20  479  589  810  698  728  448  642  443   15  728  702   57 \n",
       " 225  226  227  228  229  230  231  232  233  234  235  236  237  238  239  240 \n",
       " 624  692  614  858  873  775  938   70  922  765  390    2  583   31   38  649 \n",
       " 241  242  243  244  245  246  247  248  249  250  251  252  253  254  255  256 \n",
       " 590  666  717  444  593  815  842  508  640  379  704  896  653  393  910  458 \n",
       " 257  258  259  260  261  262  263  264  265  266  267  268  269  270  271  272 \n",
       " 455  795  861  627  590   30  589  630  642  740  636  617  638  679  805  754 \n",
       " 273  274  275  276  277  278  279  280  281  282  283  284  285  286  287  288 \n",
       " 799  639  632  428  637  595  392  602  673  632  874  546  659  800  464  612 \n",
       " 289  290  291  292  293  294  295  296  297  298  299  300  301  302  303  304 \n",
       " 311  670  510  629  585  878  637   20  637  775  798    8   80  760  458  800 \n",
       " 305  306  307  308  309  310  311  312  313  314  315  316  317  318  319  320 \n",
       "  34  833  572   66    6  605   15  677  712  463  693  474  725  726  676   47 \n",
       " 321  322  323  324  325  326  327  328  329  330  331  332  333  334  335  336 \n",
       " 561  579  803  552  651  735  427  544  638  755  966   16  471  562  756  440 \n",
       " 337  338  339  340  341  342  343  344  345  346  347 \n",
       " 609  719  765  560  798  637  501  691   49   32  872 "
      ]
     },
     "metadata": {},
     "output_type": "display_data"
    }
   ],
   "source": [
    "#### k-means with 347 clusters\n",
    "kmod <- kmeans(tr1[,1:31],centers = 347)\n",
    "table(kmod$cluster)"
   ]
  },
  {
   "cell_type": "code",
   "execution_count": 69,
   "metadata": {},
   "outputs": [
    {
     "data": {
      "text/html": [
       "<table>\n",
       "<caption>A matrix: 347 × 31 of type dbl</caption>\n",
       "<thead>\n",
       "\t<tr><th></th><th scope=col>Time</th><th scope=col>V1</th><th scope=col>V2</th><th scope=col>V3</th><th scope=col>V4</th><th scope=col>V5</th><th scope=col>V6</th><th scope=col>V7</th><th scope=col>V8</th><th scope=col>V9</th><th scope=col>...</th><th scope=col>V21</th><th scope=col>V22</th><th scope=col>V23</th><th scope=col>V24</th><th scope=col>V25</th><th scope=col>V26</th><th scope=col>V27</th><th scope=col>V28</th><th scope=col>Amount</th><th scope=col>Class</th></tr>\n",
       "</thead>\n",
       "<tbody>\n",
       "\t<tr><th scope=row>1</th><td> 77637.6901</td><td> -0.236517238</td><td>  0.117448283</td><td> 0.60966847</td><td> 0.01949442</td><td>-0.28753586</td><td> 0.066168735</td><td>-0.16501989</td><td> 0.106782319</td><td>-0.326791959</td><td>...</td><td>-0.059501748</td><td>-0.16732825</td><td>-0.0137635416</td><td> 0.0320380586</td><td> 0.10663606</td><td> 0.046318090</td><td>-0.015684815</td><td> 0.0072418942</td><td>  81.03093</td><td>0</td></tr>\n",
       "\t<tr><th scope=row>2</th><td> 78410.9617</td><td> -0.162780300</td><td>  0.166291363</td><td> 0.56610169</td><td> 0.12961958</td><td>-0.27335655</td><td> 0.017577652</td><td>-0.15730070</td><td> 0.026287336</td><td>-0.323617740</td><td>...</td><td>-0.075522926</td><td>-0.16287298</td><td>-0.0163609066</td><td>-0.0005596467</td><td> 0.11369379</td><td> 0.007112973</td><td>-0.029723011</td><td> 0.0226265953</td><td>  72.89885</td><td>0</td></tr>\n",
       "\t<tr><th scope=row>3</th><td> 46164.0383</td><td> -0.158558186</td><td> -0.026090872</td><td> 0.71109016</td><td> 0.05751390</td><td>-0.22180239</td><td>-0.003921966</td><td>-0.13997185</td><td> 0.091416742</td><td>-0.265037032</td><td>...</td><td>-0.052218433</td><td>-0.12149626</td><td>-0.0009858029</td><td>-0.0091315129</td><td> 0.15145502</td><td> 0.039771658</td><td> 0.006035123</td><td> 0.0070137727</td><td>  68.18015</td><td>0</td></tr>\n",
       "\t<tr><th scope=row>4</th><td>119827.5809</td><td>  0.300594931</td><td> -0.017840909</td><td>-0.52024792</td><td>-0.18526304</td><td> 0.45689769</td><td>-0.160972354</td><td> 0.13362395</td><td>-0.154256258</td><td> 0.054745988</td><td>...</td><td> 0.049971280</td><td> 0.11628178</td><td>-0.0102285823</td><td> 0.0158562644</td><td>-0.08507159</td><td>-0.038274118</td><td>-0.039153698</td><td>-0.0221504346</td><td>  56.64243</td><td>0</td></tr>\n",
       "\t<tr><th scope=row>5</th><td> 79543.8313</td><td> -0.047652450</td><td>  0.143221882</td><td> 0.72942683</td><td>-0.19838411</td><td>-0.31710104</td><td>-0.108330026</td><td>-0.19063721</td><td> 0.129539240</td><td> 0.190769835</td><td>...</td><td>-0.068256237</td><td>-0.10246968</td><td>-0.0473619053</td><td> 0.0319447798</td><td> 0.19849291</td><td>-0.130529481</td><td> 0.031607423</td><td> 0.0025151951</td><td>  45.81005</td><td>0</td></tr>\n",
       "\t<tr><th scope=row>6</th><td>154694.0127</td><td>  0.461378571</td><td> -0.038924046</td><td>-0.64817912</td><td>-0.13129236</td><td> 0.16229158</td><td>-0.220558397</td><td> 0.14278817</td><td>-0.026949588</td><td>-0.039779751</td><td>...</td><td> 0.017178906</td><td> 0.06872303</td><td> 0.0594231791</td><td> 0.0391859499</td><td>-0.14595946</td><td>-0.033269307</td><td> 0.009726104</td><td>-0.0129246608</td><td>  80.05560</td><td>0</td></tr>\n",
       "\t<tr><th scope=row>7</th><td>141725.9702</td><td>  0.161752470</td><td> -0.049224376</td><td>-0.75749057</td><td>-0.02949832</td><td> 0.36453152</td><td>-0.141898479</td><td> 0.16621002</td><td>-0.046166544</td><td>-0.055059457</td><td>...</td><td> 0.037691479</td><td> 0.11039135</td><td> 0.0738653177</td><td>-0.0221563955</td><td>-0.12150766</td><td>-0.048411232</td><td> 0.011891426</td><td>-0.0002115434</td><td>  81.98770</td><td>0</td></tr>\n",
       "\t<tr><th scope=row>8</th><td> 68490.5256</td><td> -0.178252174</td><td>  0.274962688</td><td> 0.70261007</td><td> 0.21453155</td><td>-0.14710503</td><td>-0.036770081</td><td>-0.12783565</td><td> 0.104479056</td><td>-0.219525295</td><td>...</td><td>-0.100815329</td><td>-0.12616060</td><td> 0.0140041041</td><td> 0.0187839829</td><td> 0.13029265</td><td> 0.048180588</td><td> 0.008142981</td><td>-0.0008370319</td><td>  42.93159</td><td>0</td></tr>\n",
       "\t<tr><th scope=row>9</th><td> 75335.6920</td><td> -0.130955543</td><td>  0.121212082</td><td> 0.58390997</td><td> 0.08399481</td><td>-0.22162388</td><td>-0.036709919</td><td>-0.12940573</td><td> 0.088645422</td><td>-0.251034312</td><td>...</td><td>-0.044160767</td><td>-0.14834706</td><td>-0.0110747434</td><td> 0.0100919874</td><td> 0.12691084</td><td> 0.070799256</td><td> 0.007714677</td><td> 0.0071003643</td><td>  67.86259</td><td>0</td></tr>\n",
       "\t<tr><th scope=row>10</th><td>   825.1949</td><td> -0.323928522</td><td>  0.297982741</td><td> 0.85023364</td><td> 0.12434559</td><td>-0.07712231</td><td> 0.012110587</td><td> 0.13038918</td><td>-0.046619106</td><td> 0.034203636</td><td>...</td><td>-0.009909199</td><td>-0.15220018</td><td>-0.0446174482</td><td> 0.0256135136</td><td> 0.10577981</td><td> 0.053779206</td><td> 0.032561401</td><td> 0.0008799941</td><td>  65.88212</td><td>0</td></tr>\n",
       "\t<tr><th scope=row>11</th><td> 63377.8601</td><td> -0.329512240</td><td> -0.148215135</td><td> 0.65014848</td><td> 0.14612552</td><td>-0.27050443</td><td> 0.093411254</td><td>-0.11415431</td><td> 0.091221002</td><td>-0.225283550</td><td>...</td><td>-0.038198552</td><td>-0.10812454</td><td> 0.0132734115</td><td> 0.0010685310</td><td> 0.12492135</td><td> 0.018604577</td><td> 0.028128013</td><td>-0.0202062603</td><td> 108.68455</td><td>0</td></tr>\n",
       "\t<tr><th scope=row>12</th><td>167782.7526</td><td>  0.208053094</td><td>  0.286753221</td><td>-0.83712210</td><td>-0.19755132</td><td> 0.29459102</td><td>-0.086323886</td><td> 0.11405358</td><td> 0.046164900</td><td> 0.015604821</td><td>...</td><td>-0.039998505</td><td> 0.08177571</td><td> 0.0713511161</td><td>-0.0177287921</td><td>-0.15772948</td><td> 0.012004476</td><td>-0.017894562</td><td>-0.0226394241</td><td>  63.38386</td><td>0</td></tr>\n",
       "\t<tr><th scope=row>13</th><td>165753.1534</td><td>  0.313887278</td><td>  0.241909366</td><td>-0.50240135</td><td>-0.20144761</td><td> 0.31735641</td><td>-0.121150632</td><td> 0.07061559</td><td> 0.047852883</td><td> 0.046308093</td><td>...</td><td>-0.005929281</td><td> 0.02765529</td><td> 0.0404721539</td><td>-0.1005239089</td><td>-0.11892421</td><td>-0.137674371</td><td> 0.019071323</td><td>-0.0134147284</td><td>  40.58674</td><td>0</td></tr>\n",
       "\t<tr><th scope=row>14</th><td> 14299.5973</td><td>  0.023876374</td><td>  0.262613713</td><td> 0.98241756</td><td> 0.62603466</td><td>-0.09071481</td><td> 0.255929493</td><td>-0.23329406</td><td> 0.067989614</td><td> 1.350344979</td><td>...</td><td>-0.080203032</td><td>-0.11743711</td><td> 0.0098477093</td><td>-0.0125400783</td><td> 0.09866456</td><td> 0.283184039</td><td>-0.018012907</td><td> 0.0072002205</td><td>  57.25072</td><td>0</td></tr>\n",
       "\t<tr><th scope=row>15</th><td>101046.6232</td><td>  0.811320682</td><td> -0.095313809</td><td>-0.02339636</td><td> 0.36160343</td><td> 0.04388977</td><td> 0.269971595</td><td>-0.31357206</td><td>-0.024079938</td><td> 1.767280167</td><td>...</td><td>-0.034222980</td><td> 0.04839151</td><td> 0.1220920957</td><td>-0.0948096654</td><td>-0.38525006</td><td> 0.201829177</td><td>-0.014878929</td><td>-0.0071717056</td><td>  69.69992</td><td>0</td></tr>\n",
       "\t<tr><th scope=row>16</th><td> 69621.1217</td><td> -0.140817519</td><td>  0.211324858</td><td> 0.66149549</td><td> 0.14274452</td><td>-0.22794838</td><td> 0.017466167</td><td>-0.11599040</td><td> 0.176471414</td><td>-0.225251296</td><td>...</td><td>-0.109790870</td><td>-0.16181991</td><td>-0.0345513440</td><td> 0.0263634508</td><td> 0.12635833</td><td>-0.002211854</td><td> 0.012833791</td><td>-0.0063212658</td><td>  54.58306</td><td>0</td></tr>\n",
       "\t<tr><th scope=row>17</th><td>127097.8125</td><td> -5.051012430</td><td>-10.682220838</td><td>-5.27726584</td><td> 1.42737065</td><td>-4.47334121</td><td> 2.369569246</td><td> 5.84671544</td><td>-1.146959713</td><td>-0.116781432</td><td>...</td><td> 1.915483224</td><td>-0.91422944</td><td>-0.7431670274</td><td>-0.1882136875</td><td>-0.99248272</td><td>-0.209896619</td><td>-0.217213224</td><td> 0.1927326623</td><td>3311.75250</td><td>0</td></tr>\n",
       "\t<tr><th scope=row>18</th><td>138726.0743</td><td>  0.251219761</td><td>  0.003729658</td><td>-0.66958976</td><td>-0.21177261</td><td> 0.37012506</td><td>-0.099736703</td><td> 0.07709498</td><td>-0.065054627</td><td>-0.020640832</td><td>...</td><td> 0.054767262</td><td> 0.17322353</td><td> 0.0464706533</td><td>-0.0120105207</td><td>-0.10950680</td><td>-0.042125649</td><td>-0.005400513</td><td>-0.0037793077</td><td>  62.55356</td><td>0</td></tr>\n",
       "\t<tr><th scope=row>19</th><td>163607.6190</td><td> -1.399534636</td><td> -4.069792280</td><td>-2.22269803</td><td> 1.07110126</td><td>-2.01077363</td><td> 0.746081053</td><td> 2.48312328</td><td>-0.308579897</td><td>-0.793926650</td><td>...</td><td> 0.624283077</td><td>-0.51060984</td><td> 0.1358188354</td><td> 0.0165378271</td><td>-0.22616187</td><td>-0.010398807</td><td>-0.222020858</td><td> 0.0731358511</td><td>1305.57143</td><td>0</td></tr>\n",
       "\t<tr><th scope=row>20</th><td>171400.7137</td><td> -0.006629629</td><td>  0.438182414</td><td>-0.80899535</td><td>-0.16660231</td><td> 0.28566777</td><td>-0.191404533</td><td> 0.08909878</td><td> 0.015847032</td><td>-0.006219464</td><td>...</td><td> 0.011201784</td><td> 0.10279786</td><td> 0.0309230220</td><td>-0.0012646997</td><td>-0.12731468</td><td> 0.005077026</td><td> 0.012311842</td><td>-0.0156181519</td><td>  56.61595</td><td>0</td></tr>\n",
       "\t<tr><th scope=row>21</th><td> 50368.6188</td><td> -0.350801378</td><td>  0.020654464</td><td> 0.66434770</td><td> 0.23274600</td><td>-0.25731843</td><td> 0.043961465</td><td>-0.11661607</td><td> 0.177300227</td><td>-0.154150813</td><td>...</td><td>-0.051638146</td><td>-0.12250156</td><td> 0.0067877956</td><td>-0.0038235754</td><td> 0.15007893</td><td> 0.014340807</td><td> 0.006077433</td><td>-0.0180932279</td><td>  82.13850</td><td>0</td></tr>\n",
       "\t<tr><th scope=row>22</th><td>132895.9926</td><td>  0.187958926</td><td>  0.111972070</td><td>-0.67287874</td><td>-0.33118559</td><td> 0.29033978</td><td>-0.129094789</td><td> 0.08478192</td><td>-0.078919057</td><td> 0.055643617</td><td>...</td><td> 0.007646110</td><td> 0.23150671</td><td> 0.0051774935</td><td>-0.0746215478</td><td>-0.12937635</td><td>-0.054621038</td><td>-0.016674836</td><td> 0.0118236184</td><td>  58.08662</td><td>0</td></tr>\n",
       "\t<tr><th scope=row>23</th><td>139971.5789</td><td>  0.089482095</td><td> -0.052589054</td><td>-0.74534544</td><td>-0.22932216</td><td> 0.42606544</td><td>-0.206326560</td><td> 0.06382737</td><td>-0.127051685</td><td>-0.045019894</td><td>...</td><td> 0.094475034</td><td> 0.12372044</td><td> 0.0654176751</td><td>-0.0503498453</td><td>-0.14921847</td><td>-0.010742045</td><td> 0.014942225</td><td>-0.0081802764</td><td>  71.06874</td><td>0</td></tr>\n",
       "\t<tr><th scope=row>24</th><td> 54623.9952</td><td> -0.354981705</td><td>  0.001704962</td><td> 0.70964442</td><td> 0.17364681</td><td>-0.23986006</td><td> 0.014816672</td><td>-0.14233639</td><td> 0.005798208</td><td>-0.123302638</td><td>...</td><td> 0.005870959</td><td>-0.08817623</td><td>-0.0340341339</td><td>-0.0223907355</td><td> 0.13555271</td><td> 0.066373264</td><td>-0.050831183</td><td> 0.0254334172</td><td>  73.57794</td><td>0</td></tr>\n",
       "\t<tr><th scope=row>25</th><td>143135.6770</td><td>  0.014453761</td><td> -0.042304191</td><td>-0.74242881</td><td>-0.14819430</td><td> 0.26395346</td><td>-0.048917569</td><td> 0.04777718</td><td> 0.008727466</td><td>-0.046085146</td><td>...</td><td> 0.059057553</td><td> 0.22503054</td><td> 0.0316828225</td><td> 0.0224536260</td><td>-0.09830785</td><td>-0.013754877</td><td>-0.041801994</td><td> 0.0065651263</td><td>  75.31550</td><td>0</td></tr>\n",
       "\t<tr><th scope=row>26</th><td>150566.2829</td><td>  0.573467209</td><td> -0.194241315</td><td>-0.72756421</td><td>-0.17637717</td><td> 0.20361129</td><td>-0.102124917</td><td> 0.02111489</td><td>-0.021705336</td><td> 0.010750263</td><td>...</td><td> 0.034709777</td><td> 0.12546646</td><td> 0.0612712225</td><td> 0.0019530055</td><td>-0.17596304</td><td>-0.050806845</td><td>-0.013396399</td><td>-0.0094852898</td><td>  87.01369</td><td>0</td></tr>\n",
       "\t<tr><th scope=row>27</th><td>150326.8000</td><td>-12.364356834</td><td>-21.836040128</td><td>-8.88467766</td><td> 6.18877103</td><td>-8.48432386</td><td> 5.622389278</td><td>12.65260693</td><td>-1.369953336</td><td>-1.570303567</td><td>...</td><td> 4.364976103</td><td>-1.98003149</td><td> 0.8278231063</td><td>-0.4336697971</td><td>-0.82991120</td><td>-0.480514662</td><td>-1.638382267</td><td> 0.8927110341</td><td>6791.67200</td><td>0</td></tr>\n",
       "\t<tr><th scope=row>28</th><td> 52556.4737</td><td> -6.058967269</td><td> -9.028264037</td><td>-4.48543047</td><td> 2.05219843</td><td>-8.82011053</td><td> 5.152312694</td><td> 9.06278891</td><td>-2.071080835</td><td>-0.411880092</td><td>...</td><td> 0.619457469</td><td>-0.89159763</td><td>-1.7431022245</td><td> 0.3508400347</td><td>-0.39060891</td><td>-0.042872919</td><td> 1.254171376</td><td>-0.4783289705</td><td>3723.44526</td><td>0</td></tr>\n",
       "\t<tr><th scope=row>29</th><td>142201.7728</td><td>  0.060609573</td><td> -0.123568092</td><td>-0.83009882</td><td>-0.26223151</td><td> 0.32069991</td><td>-0.130839106</td><td> 0.04031118</td><td> 0.014761251</td><td>-0.131497782</td><td>...</td><td> 0.054826352</td><td> 0.17942327</td><td>-0.0363878589</td><td>-0.0093656959</td><td>-0.09071078</td><td> 0.013204679</td><td>-0.027147684</td><td> 0.0088735985</td><td>  81.04450</td><td>0</td></tr>\n",
       "\t<tr><th scope=row>30</th><td>127654.7360</td><td>  0.416911966</td><td> -0.159775499</td><td>-0.73687875</td><td>-0.12064235</td><td> 0.39804415</td><td>-0.077058669</td><td> 0.15165424</td><td>-0.065342892</td><td>-0.081505347</td><td>...</td><td> 0.094352757</td><td> 0.17777339</td><td> 0.0385807758</td><td>-0.0022686372</td><td>-0.10269329</td><td>-0.051939589</td><td>-0.017246345</td><td>-0.0079898134</td><td>  90.55905</td><td>0</td></tr>\n",
       "\t<tr><th scope=row>...</th><td>...</td><td>...</td><td>...</td><td>...</td><td>...</td><td>...</td><td>...</td><td>...</td><td>...</td><td>...</td><td></td><td>...</td><td>...</td><td>...</td><td>...</td><td>...</td><td>...</td><td>...</td><td>...</td><td>...</td><td>...</td></tr>\n",
       "\t<tr><th scope=row>318</th><td>117261.55</td><td> 0.47739208</td><td>-0.09260449</td><td>-0.6610794</td><td>-0.28216773</td><td> 0.44604018</td><td>-0.052162888</td><td> 0.15808516</td><td>-0.100229983</td><td>-0.033621589</td><td>...</td><td> 0.059289271</td><td> 0.21626974</td><td> 0.031654439</td><td> 0.009518537</td><td>-0.08323443</td><td>-0.014060023</td><td>-0.002843679</td><td> 0.016002369</td><td>  65.57056</td><td>0</td></tr>\n",
       "\t<tr><th scope=row>319</th><td>121386.63</td><td> 0.47539893</td><td>-0.35190055</td><td>-0.7188761</td><td>-0.38498876</td><td> 0.26212322</td><td>-0.040507550</td><td>-0.04603687</td><td>-0.040197806</td><td>-0.002616042</td><td>...</td><td> 0.092711382</td><td> 0.23424545</td><td> 0.059549715</td><td>-0.031381359</td><td>-0.13559087</td><td>-0.002689413</td><td> 0.024028934</td><td>-0.006394744</td><td>  81.94068</td><td>0</td></tr>\n",
       "\t<tr><th scope=row>320</th><td> 46181.34</td><td>-1.89699429</td><td>-3.83247713</td><td>-0.9498142</td><td> 0.74025644</td><td>-3.02742376</td><td> 1.268755344</td><td> 2.37554030</td><td>-0.903767768</td><td> 0.087548946</td><td>...</td><td> 0.912169659</td><td>-0.59677917</td><td>-0.956204711</td><td> 0.103137586</td><td>-0.13710640</td><td>-0.035125398</td><td>-0.024117372</td><td> 0.107184729</td><td>1429.68532</td><td>0</td></tr>\n",
       "\t<tr><th scope=row>321</th><td>120235.17</td><td> 0.35767557</td><td>-0.15158425</td><td>-0.6550332</td><td>-0.18178321</td><td> 0.35328966</td><td>-0.129389348</td><td> 0.05690713</td><td>-0.069385346</td><td>-0.060541883</td><td>...</td><td> 0.104046242</td><td> 0.18287378</td><td> 0.053607894</td><td>-0.057276004</td><td>-0.12840719</td><td>-0.012079879</td><td> 0.024725505</td><td>-0.001182429</td><td>  69.97583</td><td>0</td></tr>\n",
       "\t<tr><th scope=row>322</th><td> 49032.90</td><td>-0.29155875</td><td> 0.12068057</td><td> 0.6786744</td><td> 0.09917645</td><td>-0.26632824</td><td> 0.087002453</td><td>-0.07897690</td><td> 0.132162469</td><td>-0.247024654</td><td>...</td><td>-0.062910833</td><td>-0.12119124</td><td>-0.057779023</td><td>-0.030955750</td><td> 0.11959402</td><td> 0.017538939</td><td>-0.014246193</td><td>-0.005364516</td><td>  79.88756</td><td>0</td></tr>\n",
       "\t<tr><th scope=row>323</th><td>125672.30</td><td> 0.48758361</td><td>-0.06733120</td><td>-0.7278282</td><td>-0.18415304</td><td> 0.47428944</td><td> 0.065961443</td><td> 0.08437532</td><td>-0.073085922</td><td>-0.044549441</td><td>...</td><td> 0.088655751</td><td> 0.18332287</td><td> 0.021144788</td><td>-0.039395958</td><td>-0.11091888</td><td>-0.032800258</td><td>-0.004952418</td><td>-0.001122084</td><td>  66.38031</td><td>0</td></tr>\n",
       "\t<tr><th scope=row>324</th><td> 24028.79</td><td>-0.35248628</td><td> 0.34722933</td><td> 0.6001270</td><td> 0.61722247</td><td>-0.07076425</td><td> 0.170485941</td><td>-0.20082570</td><td> 0.089411038</td><td> 1.204272443</td><td>...</td><td>-0.154283483</td><td>-0.27070559</td><td>-0.025189854</td><td>-0.038558384</td><td> 0.15398748</td><td> 0.005601048</td><td> 0.037415681</td><td> 0.016954453</td><td>  80.00438</td><td>0</td></tr>\n",
       "\t<tr><th scope=row>325</th><td> 50814.24</td><td>-0.22207026</td><td>-0.26474149</td><td> 0.7258931</td><td> 0.19598820</td><td>-0.37604080</td><td> 0.209976512</td><td>-0.16819847</td><td> 0.043264503</td><td>-0.261309582</td><td>...</td><td>-0.014227617</td><td>-0.11187930</td><td>-0.041292728</td><td>-0.005412527</td><td> 0.13486404</td><td> 0.068302942</td><td> 0.007257243</td><td> 0.006718240</td><td> 122.94101</td><td>0</td></tr>\n",
       "\t<tr><th scope=row>326</th><td>157951.47</td><td> 0.47925943</td><td> 0.03206945</td><td>-0.6552800</td><td>-0.16009728</td><td> 0.26893568</td><td>-0.130224342</td><td> 0.08203153</td><td>-0.025625511</td><td> 0.021145081</td><td>...</td><td> 0.054746477</td><td> 0.04482172</td><td> 0.041633366</td><td> 0.047504087</td><td>-0.14106275</td><td> 0.005632170</td><td> 0.001562276</td><td>-0.008511954</td><td>  64.66341</td><td>0</td></tr>\n",
       "\t<tr><th scope=row>327</th><td> 89465.33</td><td> 0.16215785</td><td> 0.20196633</td><td>-0.5483689</td><td> 0.15442199</td><td> 0.47407936</td><td> 0.058540761</td><td> 0.24237146</td><td>-0.037709041</td><td> 0.130762470</td><td>...</td><td> 0.077004323</td><td> 0.18625105</td><td> 0.037958048</td><td> 0.018045357</td><td>-0.13730570</td><td>-0.008917800</td><td> 0.016248320</td><td>-0.007732928</td><td>  71.79370</td><td>0</td></tr>\n",
       "\t<tr><th scope=row>328</th><td>169855.16</td><td> 0.09754062</td><td> 0.09454577</td><td>-0.7788624</td><td>-0.09875945</td><td> 0.30558656</td><td>-0.106772945</td><td> 0.23517191</td><td>-0.042162567</td><td>-0.108670879</td><td>...</td><td> 0.017738236</td><td> 0.08612626</td><td> 0.007536324</td><td> 0.002264408</td><td>-0.15902061</td><td>-0.009691585</td><td>-0.021973759</td><td>-0.001220598</td><td> 109.76776</td><td>0</td></tr>\n",
       "\t<tr><th scope=row>329</th><td>139557.49</td><td> 0.17744673</td><td> 0.03703085</td><td>-0.7302855</td><td>-0.22531223</td><td> 0.29764005</td><td>-0.092414271</td><td>-0.03426452</td><td>-0.123720240</td><td>-0.025311542</td><td>...</td><td> 0.093659039</td><td> 0.14445246</td><td> 0.068277976</td><td>-0.025245320</td><td>-0.09062361</td><td>-0.009259748</td><td>-0.015220423</td><td> 0.003717778</td><td>  58.52788</td><td>0</td></tr>\n",
       "\t<tr><th scope=row>330</th><td> 43251.32</td><td>-0.23688281</td><td>-0.08471540</td><td> 0.7082582</td><td> 0.04665910</td><td>-0.29822354</td><td> 0.166309640</td><td>-0.10074186</td><td> 0.128046064</td><td>-0.217513549</td><td>...</td><td>-0.025986033</td><td>-0.06975473</td><td>-0.021792672</td><td>-0.033626304</td><td> 0.14366826</td><td> 0.025896778</td><td>-0.023786119</td><td>-0.012650139</td><td>  97.47241</td><td>0</td></tr>\n",
       "\t<tr><th scope=row>331</th><td> 29182.29</td><td>-0.15310703</td><td> 0.02388538</td><td> 0.5794391</td><td> 0.17839222</td><td>-0.35796842</td><td> 0.085118702</td><td>-0.14080810</td><td> 0.042587450</td><td>-0.211073392</td><td>...</td><td> 0.036736771</td><td>-0.02096886</td><td>-0.055847557</td><td> 0.019714193</td><td> 0.13430120</td><td> 0.010518698</td><td> 0.005988559</td><td> 0.022428599</td><td> 100.25134</td><td>0</td></tr>\n",
       "\t<tr><th scope=row>332</th><td>157689.38</td><td>-2.62088541</td><td>-6.25367998</td><td>-3.9411234</td><td> 1.17908443</td><td>-3.83324019</td><td> 1.480611950</td><td> 4.38783925</td><td>-0.639060718</td><td>-1.258252647</td><td>...</td><td> 1.082818341</td><td>-0.38259352</td><td>-0.086928424</td><td> 0.185367188</td><td>-0.19728870</td><td> 0.184110254</td><td>-0.307879118</td><td> 0.041025001</td><td>2108.16687</td><td>0</td></tr>\n",
       "\t<tr><th scope=row>333</th><td>131356.71</td><td> 0.18957515</td><td>-0.03709707</td><td>-0.8044279</td><td>-0.29137268</td><td> 0.39324801</td><td>-0.069703671</td><td> 0.04926123</td><td>-0.022807309</td><td>-0.088769483</td><td>...</td><td> 0.059359176</td><td> 0.12964585</td><td> 0.043971925</td><td>-0.005065307</td><td>-0.15461828</td><td>-0.047388384</td><td> 0.021742450</td><td>-0.013463729</td><td>  72.32157</td><td>0</td></tr>\n",
       "\t<tr><th scope=row>334</th><td> 46558.31</td><td>-0.20531234</td><td> 0.08941231</td><td> 0.7497459</td><td> 0.06222951</td><td>-0.27181401</td><td> 0.060506283</td><td>-0.08819956</td><td> 0.144238389</td><td>-0.264220196</td><td>...</td><td>-0.021472709</td><td>-0.10231666</td><td>-0.025987628</td><td>-0.036966029</td><td> 0.12807189</td><td> 0.030647710</td><td>-0.006593754</td><td> 0.009963106</td><td>  78.17601</td><td>0</td></tr>\n",
       "\t<tr><th scope=row>335</th><td>156920.83</td><td> 0.25122372</td><td> 0.17218460</td><td>-0.7505344</td><td>-0.12806337</td><td> 0.18635162</td><td>-0.168571380</td><td> 0.09085249</td><td> 0.027016348</td><td>-0.074304350</td><td>...</td><td> 0.051465594</td><td> 0.13072866</td><td> 0.046600428</td><td> 0.018960636</td><td>-0.18591185</td><td> 0.007991653</td><td>-0.003967081</td><td>-0.001629134</td><td>  68.21828</td><td>0</td></tr>\n",
       "\t<tr><th scope=row>336</th><td> 88668.07</td><td> 0.35588050</td><td> 0.18508490</td><td>-0.5434128</td><td> 0.03547215</td><td> 0.46957024</td><td> 0.029826037</td><td> 0.27982230</td><td>-0.099304358</td><td> 0.123133756</td><td>...</td><td> 0.091913221</td><td> 0.20089164</td><td> 0.040984934</td><td> 0.007407462</td><td>-0.13706561</td><td>-0.005286710</td><td> 0.005309358</td><td>-0.018824895</td><td>  61.40991</td><td>0</td></tr>\n",
       "\t<tr><th scope=row>337</th><td>121016.88</td><td> 0.31978970</td><td>-0.27225353</td><td>-0.7455478</td><td>-0.36714442</td><td> 0.15872079</td><td>-0.032706473</td><td> 0.05586065</td><td>-0.050940870</td><td>-0.025713761</td><td>...</td><td> 0.060823103</td><td> 0.18502866</td><td>-0.014527303</td><td>-0.018595289</td><td>-0.14009557</td><td>-0.039680419</td><td> 0.012451119</td><td> 0.013500829</td><td> 102.30892</td><td>0</td></tr>\n",
       "\t<tr><th scope=row>338</th><td> 61576.52</td><td>-0.19070158</td><td> 0.06305303</td><td> 0.6442235</td><td> 0.11450829</td><td>-0.23694661</td><td> 0.063450863</td><td>-0.09577672</td><td> 0.125875519</td><td>-0.216197667</td><td>...</td><td>-0.077919652</td><td>-0.17262664</td><td>-0.001175909</td><td> 0.003998322</td><td> 0.12146574</td><td> 0.042994845</td><td> 0.005040750</td><td> 0.015924927</td><td>  80.03704</td><td>0</td></tr>\n",
       "\t<tr><th scope=row>339</th><td>160445.73</td><td> 0.48675601</td><td> 0.07331009</td><td>-0.7345968</td><td>-0.26885277</td><td> 0.23432166</td><td>-0.189779567</td><td> 0.08160638</td><td>-0.008572514</td><td>-0.021223669</td><td>...</td><td> 0.010406147</td><td> 0.01023775</td><td> 0.059986067</td><td> 0.004984653</td><td>-0.14472326</td><td> 0.005066230</td><td>-0.012934237</td><td>-0.010782226</td><td>  62.30689</td><td>0</td></tr>\n",
       "\t<tr><th scope=row>340</th><td> 58518.22</td><td>-0.37539109</td><td>-0.11993750</td><td> 0.7154328</td><td> 0.07331587</td><td>-0.26810622</td><td> 0.145492922</td><td>-0.11853426</td><td> 0.094557437</td><td>-0.155178359</td><td>...</td><td>-0.070888278</td><td>-0.09987927</td><td>-0.039799332</td><td> 0.042128920</td><td> 0.15292900</td><td> 0.014968745</td><td>-0.004514260</td><td>-0.016283901</td><td> 103.60289</td><td>0</td></tr>\n",
       "\t<tr><th scope=row>341</th><td>162598.96</td><td> 0.33625600</td><td> 0.10719823</td><td>-0.6732808</td><td>-0.20404169</td><td> 0.29611481</td><td>-0.105083326</td><td> 0.10483265</td><td>-0.103747751</td><td> 0.064100290</td><td>...</td><td> 0.006590035</td><td> 0.09555748</td><td> 0.059530423</td><td>-0.015767358</td><td>-0.14745163</td><td>-0.075952889</td><td> 0.012627663</td><td>-0.003563002</td><td>  66.38218</td><td>0</td></tr>\n",
       "\t<tr><th scope=row>342</th><td> 44126.83</td><td>-0.16672206</td><td>-0.27014621</td><td> 0.6725817</td><td> 0.08978313</td><td>-0.43918834</td><td> 0.208356372</td><td>-0.14312606</td><td> 0.047719262</td><td>-0.257531084</td><td>...</td><td>-0.058363732</td><td>-0.10225807</td><td>-0.027124762</td><td> 0.025320655</td><td> 0.15143882</td><td> 0.021060869</td><td> 0.025724077</td><td>-0.012349983</td><td> 122.04325</td><td>0</td></tr>\n",
       "\t<tr><th scope=row>343</th><td> 94124.04</td><td> 0.16699246</td><td> 0.39575530</td><td>-0.3585135</td><td> 0.53761350</td><td> 0.71563052</td><td>-0.128006749</td><td> 0.28153103</td><td>-0.327790155</td><td> 1.273688306</td><td>...</td><td> 0.068021233</td><td> 0.11175612</td><td>-0.030949343</td><td>-0.016002709</td><td>-0.04504290</td><td>-0.076274600</td><td>-0.011702749</td><td>-0.020600381</td><td>  60.10705</td><td>0</td></tr>\n",
       "\t<tr><th scope=row>344</th><td>125222.78</td><td> 0.37581155</td><td>-0.15598971</td><td>-0.6156948</td><td>-0.18523057</td><td> 0.30471885</td><td>-0.003537383</td><td> 0.09060004</td><td>-0.003703029</td><td>-0.076768295</td><td>...</td><td> 0.003202850</td><td> 0.13354706</td><td> 0.019150815</td><td>-0.008357970</td><td>-0.11184529</td><td> 0.011228281</td><td>-0.006323526</td><td>-0.014438125</td><td>  76.71155</td><td>0</td></tr>\n",
       "\t<tr><th scope=row>345</th><td> 54466.51</td><td>-2.53322505</td><td>-4.45786461</td><td>-1.0340172</td><td> 0.99478340</td><td>-3.36773664</td><td> 1.580555727</td><td> 2.92268176</td><td>-0.841809551</td><td>-0.656179265</td><td>...</td><td> 0.445586392</td><td>-0.35768696</td><td>-0.066642013</td><td> 0.091394338</td><td> 0.08546370</td><td>-0.022424223</td><td>-0.167107288</td><td> 0.231506112</td><td>1520.65673</td><td>0</td></tr>\n",
       "\t<tr><th scope=row>346</th><td>116872.00</td><td>-1.55483244</td><td>-4.81278078</td><td>-2.4613259</td><td> 0.54405173</td><td>-2.23022161</td><td> 1.547995342</td><td> 2.45699044</td><td>-0.511681951</td><td> 0.139986548</td><td>...</td><td> 0.627224343</td><td>-0.41428342</td><td>-0.763557803</td><td>-0.281952171</td><td>-0.50906364</td><td>-0.025178492</td><td>-0.113911947</td><td> 0.106088206</td><td>1559.32781</td><td>0</td></tr>\n",
       "\t<tr><th scope=row>347</th><td> 38213.96</td><td>-0.16726034</td><td>-0.21661393</td><td> 0.7498926</td><td> 0.10836915</td><td>-0.30341521</td><td> 0.108158411</td><td>-0.08626536</td><td> 0.084923015</td><td>-0.213858098</td><td>...</td><td> 0.016442603</td><td>-0.06223885</td><td>-0.033679292</td><td>-0.013711242</td><td> 0.15395080</td><td> 0.020765205</td><td> 0.002077548</td><td> 0.006657191</td><td> 106.73213</td><td>0</td></tr>\n",
       "</tbody>\n",
       "</table>\n"
      ],
      "text/latex": [
       "A matrix: 347 × 31 of type dbl\n",
       "\\begin{tabular}{r|lllllllllllllllllllll}\n",
       "  & Time & V1 & V2 & V3 & V4 & V5 & V6 & V7 & V8 & V9 & ... & V21 & V22 & V23 & V24 & V25 & V26 & V27 & V28 & Amount & Class\\\\\n",
       "\\hline\n",
       "\t1 &  77637.6901 &  -0.236517238 &   0.117448283 &  0.60966847 &  0.01949442 & -0.28753586 &  0.066168735 & -0.16501989 &  0.106782319 & -0.326791959 & ... & -0.059501748 & -0.16732825 & -0.0137635416 &  0.0320380586 &  0.10663606 &  0.046318090 & -0.015684815 &  0.0072418942 &   81.03093 & 0\\\\\n",
       "\t2 &  78410.9617 &  -0.162780300 &   0.166291363 &  0.56610169 &  0.12961958 & -0.27335655 &  0.017577652 & -0.15730070 &  0.026287336 & -0.323617740 & ... & -0.075522926 & -0.16287298 & -0.0163609066 & -0.0005596467 &  0.11369379 &  0.007112973 & -0.029723011 &  0.0226265953 &   72.89885 & 0\\\\\n",
       "\t3 &  46164.0383 &  -0.158558186 &  -0.026090872 &  0.71109016 &  0.05751390 & -0.22180239 & -0.003921966 & -0.13997185 &  0.091416742 & -0.265037032 & ... & -0.052218433 & -0.12149626 & -0.0009858029 & -0.0091315129 &  0.15145502 &  0.039771658 &  0.006035123 &  0.0070137727 &   68.18015 & 0\\\\\n",
       "\t4 & 119827.5809 &   0.300594931 &  -0.017840909 & -0.52024792 & -0.18526304 &  0.45689769 & -0.160972354 &  0.13362395 & -0.154256258 &  0.054745988 & ... &  0.049971280 &  0.11628178 & -0.0102285823 &  0.0158562644 & -0.08507159 & -0.038274118 & -0.039153698 & -0.0221504346 &   56.64243 & 0\\\\\n",
       "\t5 &  79543.8313 &  -0.047652450 &   0.143221882 &  0.72942683 & -0.19838411 & -0.31710104 & -0.108330026 & -0.19063721 &  0.129539240 &  0.190769835 & ... & -0.068256237 & -0.10246968 & -0.0473619053 &  0.0319447798 &  0.19849291 & -0.130529481 &  0.031607423 &  0.0025151951 &   45.81005 & 0\\\\\n",
       "\t6 & 154694.0127 &   0.461378571 &  -0.038924046 & -0.64817912 & -0.13129236 &  0.16229158 & -0.220558397 &  0.14278817 & -0.026949588 & -0.039779751 & ... &  0.017178906 &  0.06872303 &  0.0594231791 &  0.0391859499 & -0.14595946 & -0.033269307 &  0.009726104 & -0.0129246608 &   80.05560 & 0\\\\\n",
       "\t7 & 141725.9702 &   0.161752470 &  -0.049224376 & -0.75749057 & -0.02949832 &  0.36453152 & -0.141898479 &  0.16621002 & -0.046166544 & -0.055059457 & ... &  0.037691479 &  0.11039135 &  0.0738653177 & -0.0221563955 & -0.12150766 & -0.048411232 &  0.011891426 & -0.0002115434 &   81.98770 & 0\\\\\n",
       "\t8 &  68490.5256 &  -0.178252174 &   0.274962688 &  0.70261007 &  0.21453155 & -0.14710503 & -0.036770081 & -0.12783565 &  0.104479056 & -0.219525295 & ... & -0.100815329 & -0.12616060 &  0.0140041041 &  0.0187839829 &  0.13029265 &  0.048180588 &  0.008142981 & -0.0008370319 &   42.93159 & 0\\\\\n",
       "\t9 &  75335.6920 &  -0.130955543 &   0.121212082 &  0.58390997 &  0.08399481 & -0.22162388 & -0.036709919 & -0.12940573 &  0.088645422 & -0.251034312 & ... & -0.044160767 & -0.14834706 & -0.0110747434 &  0.0100919874 &  0.12691084 &  0.070799256 &  0.007714677 &  0.0071003643 &   67.86259 & 0\\\\\n",
       "\t10 &    825.1949 &  -0.323928522 &   0.297982741 &  0.85023364 &  0.12434559 & -0.07712231 &  0.012110587 &  0.13038918 & -0.046619106 &  0.034203636 & ... & -0.009909199 & -0.15220018 & -0.0446174482 &  0.0256135136 &  0.10577981 &  0.053779206 &  0.032561401 &  0.0008799941 &   65.88212 & 0\\\\\n",
       "\t11 &  63377.8601 &  -0.329512240 &  -0.148215135 &  0.65014848 &  0.14612552 & -0.27050443 &  0.093411254 & -0.11415431 &  0.091221002 & -0.225283550 & ... & -0.038198552 & -0.10812454 &  0.0132734115 &  0.0010685310 &  0.12492135 &  0.018604577 &  0.028128013 & -0.0202062603 &  108.68455 & 0\\\\\n",
       "\t12 & 167782.7526 &   0.208053094 &   0.286753221 & -0.83712210 & -0.19755132 &  0.29459102 & -0.086323886 &  0.11405358 &  0.046164900 &  0.015604821 & ... & -0.039998505 &  0.08177571 &  0.0713511161 & -0.0177287921 & -0.15772948 &  0.012004476 & -0.017894562 & -0.0226394241 &   63.38386 & 0\\\\\n",
       "\t13 & 165753.1534 &   0.313887278 &   0.241909366 & -0.50240135 & -0.20144761 &  0.31735641 & -0.121150632 &  0.07061559 &  0.047852883 &  0.046308093 & ... & -0.005929281 &  0.02765529 &  0.0404721539 & -0.1005239089 & -0.11892421 & -0.137674371 &  0.019071323 & -0.0134147284 &   40.58674 & 0\\\\\n",
       "\t14 &  14299.5973 &   0.023876374 &   0.262613713 &  0.98241756 &  0.62603466 & -0.09071481 &  0.255929493 & -0.23329406 &  0.067989614 &  1.350344979 & ... & -0.080203032 & -0.11743711 &  0.0098477093 & -0.0125400783 &  0.09866456 &  0.283184039 & -0.018012907 &  0.0072002205 &   57.25072 & 0\\\\\n",
       "\t15 & 101046.6232 &   0.811320682 &  -0.095313809 & -0.02339636 &  0.36160343 &  0.04388977 &  0.269971595 & -0.31357206 & -0.024079938 &  1.767280167 & ... & -0.034222980 &  0.04839151 &  0.1220920957 & -0.0948096654 & -0.38525006 &  0.201829177 & -0.014878929 & -0.0071717056 &   69.69992 & 0\\\\\n",
       "\t16 &  69621.1217 &  -0.140817519 &   0.211324858 &  0.66149549 &  0.14274452 & -0.22794838 &  0.017466167 & -0.11599040 &  0.176471414 & -0.225251296 & ... & -0.109790870 & -0.16181991 & -0.0345513440 &  0.0263634508 &  0.12635833 & -0.002211854 &  0.012833791 & -0.0063212658 &   54.58306 & 0\\\\\n",
       "\t17 & 127097.8125 &  -5.051012430 & -10.682220838 & -5.27726584 &  1.42737065 & -4.47334121 &  2.369569246 &  5.84671544 & -1.146959713 & -0.116781432 & ... &  1.915483224 & -0.91422944 & -0.7431670274 & -0.1882136875 & -0.99248272 & -0.209896619 & -0.217213224 &  0.1927326623 & 3311.75250 & 0\\\\\n",
       "\t18 & 138726.0743 &   0.251219761 &   0.003729658 & -0.66958976 & -0.21177261 &  0.37012506 & -0.099736703 &  0.07709498 & -0.065054627 & -0.020640832 & ... &  0.054767262 &  0.17322353 &  0.0464706533 & -0.0120105207 & -0.10950680 & -0.042125649 & -0.005400513 & -0.0037793077 &   62.55356 & 0\\\\\n",
       "\t19 & 163607.6190 &  -1.399534636 &  -4.069792280 & -2.22269803 &  1.07110126 & -2.01077363 &  0.746081053 &  2.48312328 & -0.308579897 & -0.793926650 & ... &  0.624283077 & -0.51060984 &  0.1358188354 &  0.0165378271 & -0.22616187 & -0.010398807 & -0.222020858 &  0.0731358511 & 1305.57143 & 0\\\\\n",
       "\t20 & 171400.7137 &  -0.006629629 &   0.438182414 & -0.80899535 & -0.16660231 &  0.28566777 & -0.191404533 &  0.08909878 &  0.015847032 & -0.006219464 & ... &  0.011201784 &  0.10279786 &  0.0309230220 & -0.0012646997 & -0.12731468 &  0.005077026 &  0.012311842 & -0.0156181519 &   56.61595 & 0\\\\\n",
       "\t21 &  50368.6188 &  -0.350801378 &   0.020654464 &  0.66434770 &  0.23274600 & -0.25731843 &  0.043961465 & -0.11661607 &  0.177300227 & -0.154150813 & ... & -0.051638146 & -0.12250156 &  0.0067877956 & -0.0038235754 &  0.15007893 &  0.014340807 &  0.006077433 & -0.0180932279 &   82.13850 & 0\\\\\n",
       "\t22 & 132895.9926 &   0.187958926 &   0.111972070 & -0.67287874 & -0.33118559 &  0.29033978 & -0.129094789 &  0.08478192 & -0.078919057 &  0.055643617 & ... &  0.007646110 &  0.23150671 &  0.0051774935 & -0.0746215478 & -0.12937635 & -0.054621038 & -0.016674836 &  0.0118236184 &   58.08662 & 0\\\\\n",
       "\t23 & 139971.5789 &   0.089482095 &  -0.052589054 & -0.74534544 & -0.22932216 &  0.42606544 & -0.206326560 &  0.06382737 & -0.127051685 & -0.045019894 & ... &  0.094475034 &  0.12372044 &  0.0654176751 & -0.0503498453 & -0.14921847 & -0.010742045 &  0.014942225 & -0.0081802764 &   71.06874 & 0\\\\\n",
       "\t24 &  54623.9952 &  -0.354981705 &   0.001704962 &  0.70964442 &  0.17364681 & -0.23986006 &  0.014816672 & -0.14233639 &  0.005798208 & -0.123302638 & ... &  0.005870959 & -0.08817623 & -0.0340341339 & -0.0223907355 &  0.13555271 &  0.066373264 & -0.050831183 &  0.0254334172 &   73.57794 & 0\\\\\n",
       "\t25 & 143135.6770 &   0.014453761 &  -0.042304191 & -0.74242881 & -0.14819430 &  0.26395346 & -0.048917569 &  0.04777718 &  0.008727466 & -0.046085146 & ... &  0.059057553 &  0.22503054 &  0.0316828225 &  0.0224536260 & -0.09830785 & -0.013754877 & -0.041801994 &  0.0065651263 &   75.31550 & 0\\\\\n",
       "\t26 & 150566.2829 &   0.573467209 &  -0.194241315 & -0.72756421 & -0.17637717 &  0.20361129 & -0.102124917 &  0.02111489 & -0.021705336 &  0.010750263 & ... &  0.034709777 &  0.12546646 &  0.0612712225 &  0.0019530055 & -0.17596304 & -0.050806845 & -0.013396399 & -0.0094852898 &   87.01369 & 0\\\\\n",
       "\t27 & 150326.8000 & -12.364356834 & -21.836040128 & -8.88467766 &  6.18877103 & -8.48432386 &  5.622389278 & 12.65260693 & -1.369953336 & -1.570303567 & ... &  4.364976103 & -1.98003149 &  0.8278231063 & -0.4336697971 & -0.82991120 & -0.480514662 & -1.638382267 &  0.8927110341 & 6791.67200 & 0\\\\\n",
       "\t28 &  52556.4737 &  -6.058967269 &  -9.028264037 & -4.48543047 &  2.05219843 & -8.82011053 &  5.152312694 &  9.06278891 & -2.071080835 & -0.411880092 & ... &  0.619457469 & -0.89159763 & -1.7431022245 &  0.3508400347 & -0.39060891 & -0.042872919 &  1.254171376 & -0.4783289705 & 3723.44526 & 0\\\\\n",
       "\t29 & 142201.7728 &   0.060609573 &  -0.123568092 & -0.83009882 & -0.26223151 &  0.32069991 & -0.130839106 &  0.04031118 &  0.014761251 & -0.131497782 & ... &  0.054826352 &  0.17942327 & -0.0363878589 & -0.0093656959 & -0.09071078 &  0.013204679 & -0.027147684 &  0.0088735985 &   81.04450 & 0\\\\\n",
       "\t30 & 127654.7360 &   0.416911966 &  -0.159775499 & -0.73687875 & -0.12064235 &  0.39804415 & -0.077058669 &  0.15165424 & -0.065342892 & -0.081505347 & ... &  0.094352757 &  0.17777339 &  0.0385807758 & -0.0022686372 & -0.10269329 & -0.051939589 & -0.017246345 & -0.0079898134 &   90.55905 & 0\\\\\n",
       "\t... & ... & ... & ... & ... & ... & ... & ... & ... & ... & ... &  & ... & ... & ... & ... & ... & ... & ... & ... & ... & ...\\\\\n",
       "\t318 & 117261.55 &  0.47739208 & -0.09260449 & -0.6610794 & -0.28216773 &  0.44604018 & -0.052162888 &  0.15808516 & -0.100229983 & -0.033621589 & ... &  0.059289271 &  0.21626974 &  0.031654439 &  0.009518537 & -0.08323443 & -0.014060023 & -0.002843679 &  0.016002369 &   65.57056 & 0\\\\\n",
       "\t319 & 121386.63 &  0.47539893 & -0.35190055 & -0.7188761 & -0.38498876 &  0.26212322 & -0.040507550 & -0.04603687 & -0.040197806 & -0.002616042 & ... &  0.092711382 &  0.23424545 &  0.059549715 & -0.031381359 & -0.13559087 & -0.002689413 &  0.024028934 & -0.006394744 &   81.94068 & 0\\\\\n",
       "\t320 &  46181.34 & -1.89699429 & -3.83247713 & -0.9498142 &  0.74025644 & -3.02742376 &  1.268755344 &  2.37554030 & -0.903767768 &  0.087548946 & ... &  0.912169659 & -0.59677917 & -0.956204711 &  0.103137586 & -0.13710640 & -0.035125398 & -0.024117372 &  0.107184729 & 1429.68532 & 0\\\\\n",
       "\t321 & 120235.17 &  0.35767557 & -0.15158425 & -0.6550332 & -0.18178321 &  0.35328966 & -0.129389348 &  0.05690713 & -0.069385346 & -0.060541883 & ... &  0.104046242 &  0.18287378 &  0.053607894 & -0.057276004 & -0.12840719 & -0.012079879 &  0.024725505 & -0.001182429 &   69.97583 & 0\\\\\n",
       "\t322 &  49032.90 & -0.29155875 &  0.12068057 &  0.6786744 &  0.09917645 & -0.26632824 &  0.087002453 & -0.07897690 &  0.132162469 & -0.247024654 & ... & -0.062910833 & -0.12119124 & -0.057779023 & -0.030955750 &  0.11959402 &  0.017538939 & -0.014246193 & -0.005364516 &   79.88756 & 0\\\\\n",
       "\t323 & 125672.30 &  0.48758361 & -0.06733120 & -0.7278282 & -0.18415304 &  0.47428944 &  0.065961443 &  0.08437532 & -0.073085922 & -0.044549441 & ... &  0.088655751 &  0.18332287 &  0.021144788 & -0.039395958 & -0.11091888 & -0.032800258 & -0.004952418 & -0.001122084 &   66.38031 & 0\\\\\n",
       "\t324 &  24028.79 & -0.35248628 &  0.34722933 &  0.6001270 &  0.61722247 & -0.07076425 &  0.170485941 & -0.20082570 &  0.089411038 &  1.204272443 & ... & -0.154283483 & -0.27070559 & -0.025189854 & -0.038558384 &  0.15398748 &  0.005601048 &  0.037415681 &  0.016954453 &   80.00438 & 0\\\\\n",
       "\t325 &  50814.24 & -0.22207026 & -0.26474149 &  0.7258931 &  0.19598820 & -0.37604080 &  0.209976512 & -0.16819847 &  0.043264503 & -0.261309582 & ... & -0.014227617 & -0.11187930 & -0.041292728 & -0.005412527 &  0.13486404 &  0.068302942 &  0.007257243 &  0.006718240 &  122.94101 & 0\\\\\n",
       "\t326 & 157951.47 &  0.47925943 &  0.03206945 & -0.6552800 & -0.16009728 &  0.26893568 & -0.130224342 &  0.08203153 & -0.025625511 &  0.021145081 & ... &  0.054746477 &  0.04482172 &  0.041633366 &  0.047504087 & -0.14106275 &  0.005632170 &  0.001562276 & -0.008511954 &   64.66341 & 0\\\\\n",
       "\t327 &  89465.33 &  0.16215785 &  0.20196633 & -0.5483689 &  0.15442199 &  0.47407936 &  0.058540761 &  0.24237146 & -0.037709041 &  0.130762470 & ... &  0.077004323 &  0.18625105 &  0.037958048 &  0.018045357 & -0.13730570 & -0.008917800 &  0.016248320 & -0.007732928 &   71.79370 & 0\\\\\n",
       "\t328 & 169855.16 &  0.09754062 &  0.09454577 & -0.7788624 & -0.09875945 &  0.30558656 & -0.106772945 &  0.23517191 & -0.042162567 & -0.108670879 & ... &  0.017738236 &  0.08612626 &  0.007536324 &  0.002264408 & -0.15902061 & -0.009691585 & -0.021973759 & -0.001220598 &  109.76776 & 0\\\\\n",
       "\t329 & 139557.49 &  0.17744673 &  0.03703085 & -0.7302855 & -0.22531223 &  0.29764005 & -0.092414271 & -0.03426452 & -0.123720240 & -0.025311542 & ... &  0.093659039 &  0.14445246 &  0.068277976 & -0.025245320 & -0.09062361 & -0.009259748 & -0.015220423 &  0.003717778 &   58.52788 & 0\\\\\n",
       "\t330 &  43251.32 & -0.23688281 & -0.08471540 &  0.7082582 &  0.04665910 & -0.29822354 &  0.166309640 & -0.10074186 &  0.128046064 & -0.217513549 & ... & -0.025986033 & -0.06975473 & -0.021792672 & -0.033626304 &  0.14366826 &  0.025896778 & -0.023786119 & -0.012650139 &   97.47241 & 0\\\\\n",
       "\t331 &  29182.29 & -0.15310703 &  0.02388538 &  0.5794391 &  0.17839222 & -0.35796842 &  0.085118702 & -0.14080810 &  0.042587450 & -0.211073392 & ... &  0.036736771 & -0.02096886 & -0.055847557 &  0.019714193 &  0.13430120 &  0.010518698 &  0.005988559 &  0.022428599 &  100.25134 & 0\\\\\n",
       "\t332 & 157689.38 & -2.62088541 & -6.25367998 & -3.9411234 &  1.17908443 & -3.83324019 &  1.480611950 &  4.38783925 & -0.639060718 & -1.258252647 & ... &  1.082818341 & -0.38259352 & -0.086928424 &  0.185367188 & -0.19728870 &  0.184110254 & -0.307879118 &  0.041025001 & 2108.16687 & 0\\\\\n",
       "\t333 & 131356.71 &  0.18957515 & -0.03709707 & -0.8044279 & -0.29137268 &  0.39324801 & -0.069703671 &  0.04926123 & -0.022807309 & -0.088769483 & ... &  0.059359176 &  0.12964585 &  0.043971925 & -0.005065307 & -0.15461828 & -0.047388384 &  0.021742450 & -0.013463729 &   72.32157 & 0\\\\\n",
       "\t334 &  46558.31 & -0.20531234 &  0.08941231 &  0.7497459 &  0.06222951 & -0.27181401 &  0.060506283 & -0.08819956 &  0.144238389 & -0.264220196 & ... & -0.021472709 & -0.10231666 & -0.025987628 & -0.036966029 &  0.12807189 &  0.030647710 & -0.006593754 &  0.009963106 &   78.17601 & 0\\\\\n",
       "\t335 & 156920.83 &  0.25122372 &  0.17218460 & -0.7505344 & -0.12806337 &  0.18635162 & -0.168571380 &  0.09085249 &  0.027016348 & -0.074304350 & ... &  0.051465594 &  0.13072866 &  0.046600428 &  0.018960636 & -0.18591185 &  0.007991653 & -0.003967081 & -0.001629134 &   68.21828 & 0\\\\\n",
       "\t336 &  88668.07 &  0.35588050 &  0.18508490 & -0.5434128 &  0.03547215 &  0.46957024 &  0.029826037 &  0.27982230 & -0.099304358 &  0.123133756 & ... &  0.091913221 &  0.20089164 &  0.040984934 &  0.007407462 & -0.13706561 & -0.005286710 &  0.005309358 & -0.018824895 &   61.40991 & 0\\\\\n",
       "\t337 & 121016.88 &  0.31978970 & -0.27225353 & -0.7455478 & -0.36714442 &  0.15872079 & -0.032706473 &  0.05586065 & -0.050940870 & -0.025713761 & ... &  0.060823103 &  0.18502866 & -0.014527303 & -0.018595289 & -0.14009557 & -0.039680419 &  0.012451119 &  0.013500829 &  102.30892 & 0\\\\\n",
       "\t338 &  61576.52 & -0.19070158 &  0.06305303 &  0.6442235 &  0.11450829 & -0.23694661 &  0.063450863 & -0.09577672 &  0.125875519 & -0.216197667 & ... & -0.077919652 & -0.17262664 & -0.001175909 &  0.003998322 &  0.12146574 &  0.042994845 &  0.005040750 &  0.015924927 &   80.03704 & 0\\\\\n",
       "\t339 & 160445.73 &  0.48675601 &  0.07331009 & -0.7345968 & -0.26885277 &  0.23432166 & -0.189779567 &  0.08160638 & -0.008572514 & -0.021223669 & ... &  0.010406147 &  0.01023775 &  0.059986067 &  0.004984653 & -0.14472326 &  0.005066230 & -0.012934237 & -0.010782226 &   62.30689 & 0\\\\\n",
       "\t340 &  58518.22 & -0.37539109 & -0.11993750 &  0.7154328 &  0.07331587 & -0.26810622 &  0.145492922 & -0.11853426 &  0.094557437 & -0.155178359 & ... & -0.070888278 & -0.09987927 & -0.039799332 &  0.042128920 &  0.15292900 &  0.014968745 & -0.004514260 & -0.016283901 &  103.60289 & 0\\\\\n",
       "\t341 & 162598.96 &  0.33625600 &  0.10719823 & -0.6732808 & -0.20404169 &  0.29611481 & -0.105083326 &  0.10483265 & -0.103747751 &  0.064100290 & ... &  0.006590035 &  0.09555748 &  0.059530423 & -0.015767358 & -0.14745163 & -0.075952889 &  0.012627663 & -0.003563002 &   66.38218 & 0\\\\\n",
       "\t342 &  44126.83 & -0.16672206 & -0.27014621 &  0.6725817 &  0.08978313 & -0.43918834 &  0.208356372 & -0.14312606 &  0.047719262 & -0.257531084 & ... & -0.058363732 & -0.10225807 & -0.027124762 &  0.025320655 &  0.15143882 &  0.021060869 &  0.025724077 & -0.012349983 &  122.04325 & 0\\\\\n",
       "\t343 &  94124.04 &  0.16699246 &  0.39575530 & -0.3585135 &  0.53761350 &  0.71563052 & -0.128006749 &  0.28153103 & -0.327790155 &  1.273688306 & ... &  0.068021233 &  0.11175612 & -0.030949343 & -0.016002709 & -0.04504290 & -0.076274600 & -0.011702749 & -0.020600381 &   60.10705 & 0\\\\\n",
       "\t344 & 125222.78 &  0.37581155 & -0.15598971 & -0.6156948 & -0.18523057 &  0.30471885 & -0.003537383 &  0.09060004 & -0.003703029 & -0.076768295 & ... &  0.003202850 &  0.13354706 &  0.019150815 & -0.008357970 & -0.11184529 &  0.011228281 & -0.006323526 & -0.014438125 &   76.71155 & 0\\\\\n",
       "\t345 &  54466.51 & -2.53322505 & -4.45786461 & -1.0340172 &  0.99478340 & -3.36773664 &  1.580555727 &  2.92268176 & -0.841809551 & -0.656179265 & ... &  0.445586392 & -0.35768696 & -0.066642013 &  0.091394338 &  0.08546370 & -0.022424223 & -0.167107288 &  0.231506112 & 1520.65673 & 0\\\\\n",
       "\t346 & 116872.00 & -1.55483244 & -4.81278078 & -2.4613259 &  0.54405173 & -2.23022161 &  1.547995342 &  2.45699044 & -0.511681951 &  0.139986548 & ... &  0.627224343 & -0.41428342 & -0.763557803 & -0.281952171 & -0.50906364 & -0.025178492 & -0.113911947 &  0.106088206 & 1559.32781 & 0\\\\\n",
       "\t347 &  38213.96 & -0.16726034 & -0.21661393 &  0.7498926 &  0.10836915 & -0.30341521 &  0.108158411 & -0.08626536 &  0.084923015 & -0.213858098 & ... &  0.016442603 & -0.06223885 & -0.033679292 & -0.013711242 &  0.15395080 &  0.020765205 &  0.002077548 &  0.006657191 &  106.73213 & 0\\\\\n",
       "\\end{tabular}\n"
      ],
      "text/markdown": [
       "\n",
       "A matrix: 347 × 31 of type dbl\n",
       "\n",
       "| <!--/--> | Time | V1 | V2 | V3 | V4 | V5 | V6 | V7 | V8 | V9 | ... | V21 | V22 | V23 | V24 | V25 | V26 | V27 | V28 | Amount | Class |\n",
       "|---|---|---|---|---|---|---|---|---|---|---|---|---|---|---|---|---|---|---|---|---|---|\n",
       "| 1 |  77637.6901 |  -0.236517238 |   0.117448283 |  0.60966847 |  0.01949442 | -0.28753586 |  0.066168735 | -0.16501989 |  0.106782319 | -0.326791959 | ... | -0.059501748 | -0.16732825 | -0.0137635416 |  0.0320380586 |  0.10663606 |  0.046318090 | -0.015684815 |  0.0072418942 |   81.03093 | 0 |\n",
       "| 2 |  78410.9617 |  -0.162780300 |   0.166291363 |  0.56610169 |  0.12961958 | -0.27335655 |  0.017577652 | -0.15730070 |  0.026287336 | -0.323617740 | ... | -0.075522926 | -0.16287298 | -0.0163609066 | -0.0005596467 |  0.11369379 |  0.007112973 | -0.029723011 |  0.0226265953 |   72.89885 | 0 |\n",
       "| 3 |  46164.0383 |  -0.158558186 |  -0.026090872 |  0.71109016 |  0.05751390 | -0.22180239 | -0.003921966 | -0.13997185 |  0.091416742 | -0.265037032 | ... | -0.052218433 | -0.12149626 | -0.0009858029 | -0.0091315129 |  0.15145502 |  0.039771658 |  0.006035123 |  0.0070137727 |   68.18015 | 0 |\n",
       "| 4 | 119827.5809 |   0.300594931 |  -0.017840909 | -0.52024792 | -0.18526304 |  0.45689769 | -0.160972354 |  0.13362395 | -0.154256258 |  0.054745988 | ... |  0.049971280 |  0.11628178 | -0.0102285823 |  0.0158562644 | -0.08507159 | -0.038274118 | -0.039153698 | -0.0221504346 |   56.64243 | 0 |\n",
       "| 5 |  79543.8313 |  -0.047652450 |   0.143221882 |  0.72942683 | -0.19838411 | -0.31710104 | -0.108330026 | -0.19063721 |  0.129539240 |  0.190769835 | ... | -0.068256237 | -0.10246968 | -0.0473619053 |  0.0319447798 |  0.19849291 | -0.130529481 |  0.031607423 |  0.0025151951 |   45.81005 | 0 |\n",
       "| 6 | 154694.0127 |   0.461378571 |  -0.038924046 | -0.64817912 | -0.13129236 |  0.16229158 | -0.220558397 |  0.14278817 | -0.026949588 | -0.039779751 | ... |  0.017178906 |  0.06872303 |  0.0594231791 |  0.0391859499 | -0.14595946 | -0.033269307 |  0.009726104 | -0.0129246608 |   80.05560 | 0 |\n",
       "| 7 | 141725.9702 |   0.161752470 |  -0.049224376 | -0.75749057 | -0.02949832 |  0.36453152 | -0.141898479 |  0.16621002 | -0.046166544 | -0.055059457 | ... |  0.037691479 |  0.11039135 |  0.0738653177 | -0.0221563955 | -0.12150766 | -0.048411232 |  0.011891426 | -0.0002115434 |   81.98770 | 0 |\n",
       "| 8 |  68490.5256 |  -0.178252174 |   0.274962688 |  0.70261007 |  0.21453155 | -0.14710503 | -0.036770081 | -0.12783565 |  0.104479056 | -0.219525295 | ... | -0.100815329 | -0.12616060 |  0.0140041041 |  0.0187839829 |  0.13029265 |  0.048180588 |  0.008142981 | -0.0008370319 |   42.93159 | 0 |\n",
       "| 9 |  75335.6920 |  -0.130955543 |   0.121212082 |  0.58390997 |  0.08399481 | -0.22162388 | -0.036709919 | -0.12940573 |  0.088645422 | -0.251034312 | ... | -0.044160767 | -0.14834706 | -0.0110747434 |  0.0100919874 |  0.12691084 |  0.070799256 |  0.007714677 |  0.0071003643 |   67.86259 | 0 |\n",
       "| 10 |    825.1949 |  -0.323928522 |   0.297982741 |  0.85023364 |  0.12434559 | -0.07712231 |  0.012110587 |  0.13038918 | -0.046619106 |  0.034203636 | ... | -0.009909199 | -0.15220018 | -0.0446174482 |  0.0256135136 |  0.10577981 |  0.053779206 |  0.032561401 |  0.0008799941 |   65.88212 | 0 |\n",
       "| 11 |  63377.8601 |  -0.329512240 |  -0.148215135 |  0.65014848 |  0.14612552 | -0.27050443 |  0.093411254 | -0.11415431 |  0.091221002 | -0.225283550 | ... | -0.038198552 | -0.10812454 |  0.0132734115 |  0.0010685310 |  0.12492135 |  0.018604577 |  0.028128013 | -0.0202062603 |  108.68455 | 0 |\n",
       "| 12 | 167782.7526 |   0.208053094 |   0.286753221 | -0.83712210 | -0.19755132 |  0.29459102 | -0.086323886 |  0.11405358 |  0.046164900 |  0.015604821 | ... | -0.039998505 |  0.08177571 |  0.0713511161 | -0.0177287921 | -0.15772948 |  0.012004476 | -0.017894562 | -0.0226394241 |   63.38386 | 0 |\n",
       "| 13 | 165753.1534 |   0.313887278 |   0.241909366 | -0.50240135 | -0.20144761 |  0.31735641 | -0.121150632 |  0.07061559 |  0.047852883 |  0.046308093 | ... | -0.005929281 |  0.02765529 |  0.0404721539 | -0.1005239089 | -0.11892421 | -0.137674371 |  0.019071323 | -0.0134147284 |   40.58674 | 0 |\n",
       "| 14 |  14299.5973 |   0.023876374 |   0.262613713 |  0.98241756 |  0.62603466 | -0.09071481 |  0.255929493 | -0.23329406 |  0.067989614 |  1.350344979 | ... | -0.080203032 | -0.11743711 |  0.0098477093 | -0.0125400783 |  0.09866456 |  0.283184039 | -0.018012907 |  0.0072002205 |   57.25072 | 0 |\n",
       "| 15 | 101046.6232 |   0.811320682 |  -0.095313809 | -0.02339636 |  0.36160343 |  0.04388977 |  0.269971595 | -0.31357206 | -0.024079938 |  1.767280167 | ... | -0.034222980 |  0.04839151 |  0.1220920957 | -0.0948096654 | -0.38525006 |  0.201829177 | -0.014878929 | -0.0071717056 |   69.69992 | 0 |\n",
       "| 16 |  69621.1217 |  -0.140817519 |   0.211324858 |  0.66149549 |  0.14274452 | -0.22794838 |  0.017466167 | -0.11599040 |  0.176471414 | -0.225251296 | ... | -0.109790870 | -0.16181991 | -0.0345513440 |  0.0263634508 |  0.12635833 | -0.002211854 |  0.012833791 | -0.0063212658 |   54.58306 | 0 |\n",
       "| 17 | 127097.8125 |  -5.051012430 | -10.682220838 | -5.27726584 |  1.42737065 | -4.47334121 |  2.369569246 |  5.84671544 | -1.146959713 | -0.116781432 | ... |  1.915483224 | -0.91422944 | -0.7431670274 | -0.1882136875 | -0.99248272 | -0.209896619 | -0.217213224 |  0.1927326623 | 3311.75250 | 0 |\n",
       "| 18 | 138726.0743 |   0.251219761 |   0.003729658 | -0.66958976 | -0.21177261 |  0.37012506 | -0.099736703 |  0.07709498 | -0.065054627 | -0.020640832 | ... |  0.054767262 |  0.17322353 |  0.0464706533 | -0.0120105207 | -0.10950680 | -0.042125649 | -0.005400513 | -0.0037793077 |   62.55356 | 0 |\n",
       "| 19 | 163607.6190 |  -1.399534636 |  -4.069792280 | -2.22269803 |  1.07110126 | -2.01077363 |  0.746081053 |  2.48312328 | -0.308579897 | -0.793926650 | ... |  0.624283077 | -0.51060984 |  0.1358188354 |  0.0165378271 | -0.22616187 | -0.010398807 | -0.222020858 |  0.0731358511 | 1305.57143 | 0 |\n",
       "| 20 | 171400.7137 |  -0.006629629 |   0.438182414 | -0.80899535 | -0.16660231 |  0.28566777 | -0.191404533 |  0.08909878 |  0.015847032 | -0.006219464 | ... |  0.011201784 |  0.10279786 |  0.0309230220 | -0.0012646997 | -0.12731468 |  0.005077026 |  0.012311842 | -0.0156181519 |   56.61595 | 0 |\n",
       "| 21 |  50368.6188 |  -0.350801378 |   0.020654464 |  0.66434770 |  0.23274600 | -0.25731843 |  0.043961465 | -0.11661607 |  0.177300227 | -0.154150813 | ... | -0.051638146 | -0.12250156 |  0.0067877956 | -0.0038235754 |  0.15007893 |  0.014340807 |  0.006077433 | -0.0180932279 |   82.13850 | 0 |\n",
       "| 22 | 132895.9926 |   0.187958926 |   0.111972070 | -0.67287874 | -0.33118559 |  0.29033978 | -0.129094789 |  0.08478192 | -0.078919057 |  0.055643617 | ... |  0.007646110 |  0.23150671 |  0.0051774935 | -0.0746215478 | -0.12937635 | -0.054621038 | -0.016674836 |  0.0118236184 |   58.08662 | 0 |\n",
       "| 23 | 139971.5789 |   0.089482095 |  -0.052589054 | -0.74534544 | -0.22932216 |  0.42606544 | -0.206326560 |  0.06382737 | -0.127051685 | -0.045019894 | ... |  0.094475034 |  0.12372044 |  0.0654176751 | -0.0503498453 | -0.14921847 | -0.010742045 |  0.014942225 | -0.0081802764 |   71.06874 | 0 |\n",
       "| 24 |  54623.9952 |  -0.354981705 |   0.001704962 |  0.70964442 |  0.17364681 | -0.23986006 |  0.014816672 | -0.14233639 |  0.005798208 | -0.123302638 | ... |  0.005870959 | -0.08817623 | -0.0340341339 | -0.0223907355 |  0.13555271 |  0.066373264 | -0.050831183 |  0.0254334172 |   73.57794 | 0 |\n",
       "| 25 | 143135.6770 |   0.014453761 |  -0.042304191 | -0.74242881 | -0.14819430 |  0.26395346 | -0.048917569 |  0.04777718 |  0.008727466 | -0.046085146 | ... |  0.059057553 |  0.22503054 |  0.0316828225 |  0.0224536260 | -0.09830785 | -0.013754877 | -0.041801994 |  0.0065651263 |   75.31550 | 0 |\n",
       "| 26 | 150566.2829 |   0.573467209 |  -0.194241315 | -0.72756421 | -0.17637717 |  0.20361129 | -0.102124917 |  0.02111489 | -0.021705336 |  0.010750263 | ... |  0.034709777 |  0.12546646 |  0.0612712225 |  0.0019530055 | -0.17596304 | -0.050806845 | -0.013396399 | -0.0094852898 |   87.01369 | 0 |\n",
       "| 27 | 150326.8000 | -12.364356834 | -21.836040128 | -8.88467766 |  6.18877103 | -8.48432386 |  5.622389278 | 12.65260693 | -1.369953336 | -1.570303567 | ... |  4.364976103 | -1.98003149 |  0.8278231063 | -0.4336697971 | -0.82991120 | -0.480514662 | -1.638382267 |  0.8927110341 | 6791.67200 | 0 |\n",
       "| 28 |  52556.4737 |  -6.058967269 |  -9.028264037 | -4.48543047 |  2.05219843 | -8.82011053 |  5.152312694 |  9.06278891 | -2.071080835 | -0.411880092 | ... |  0.619457469 | -0.89159763 | -1.7431022245 |  0.3508400347 | -0.39060891 | -0.042872919 |  1.254171376 | -0.4783289705 | 3723.44526 | 0 |\n",
       "| 29 | 142201.7728 |   0.060609573 |  -0.123568092 | -0.83009882 | -0.26223151 |  0.32069991 | -0.130839106 |  0.04031118 |  0.014761251 | -0.131497782 | ... |  0.054826352 |  0.17942327 | -0.0363878589 | -0.0093656959 | -0.09071078 |  0.013204679 | -0.027147684 |  0.0088735985 |   81.04450 | 0 |\n",
       "| 30 | 127654.7360 |   0.416911966 |  -0.159775499 | -0.73687875 | -0.12064235 |  0.39804415 | -0.077058669 |  0.15165424 | -0.065342892 | -0.081505347 | ... |  0.094352757 |  0.17777339 |  0.0385807758 | -0.0022686372 | -0.10269329 | -0.051939589 | -0.017246345 | -0.0079898134 |   90.55905 | 0 |\n",
       "| ... | ... | ... | ... | ... | ... | ... | ... | ... | ... | ... | <!----> | ... | ... | ... | ... | ... | ... | ... | ... | ... | ... |\n",
       "| 318 | 117261.55 |  0.47739208 | -0.09260449 | -0.6610794 | -0.28216773 |  0.44604018 | -0.052162888 |  0.15808516 | -0.100229983 | -0.033621589 | ... |  0.059289271 |  0.21626974 |  0.031654439 |  0.009518537 | -0.08323443 | -0.014060023 | -0.002843679 |  0.016002369 |   65.57056 | 0 |\n",
       "| 319 | 121386.63 |  0.47539893 | -0.35190055 | -0.7188761 | -0.38498876 |  0.26212322 | -0.040507550 | -0.04603687 | -0.040197806 | -0.002616042 | ... |  0.092711382 |  0.23424545 |  0.059549715 | -0.031381359 | -0.13559087 | -0.002689413 |  0.024028934 | -0.006394744 |   81.94068 | 0 |\n",
       "| 320 |  46181.34 | -1.89699429 | -3.83247713 | -0.9498142 |  0.74025644 | -3.02742376 |  1.268755344 |  2.37554030 | -0.903767768 |  0.087548946 | ... |  0.912169659 | -0.59677917 | -0.956204711 |  0.103137586 | -0.13710640 | -0.035125398 | -0.024117372 |  0.107184729 | 1429.68532 | 0 |\n",
       "| 321 | 120235.17 |  0.35767557 | -0.15158425 | -0.6550332 | -0.18178321 |  0.35328966 | -0.129389348 |  0.05690713 | -0.069385346 | -0.060541883 | ... |  0.104046242 |  0.18287378 |  0.053607894 | -0.057276004 | -0.12840719 | -0.012079879 |  0.024725505 | -0.001182429 |   69.97583 | 0 |\n",
       "| 322 |  49032.90 | -0.29155875 |  0.12068057 |  0.6786744 |  0.09917645 | -0.26632824 |  0.087002453 | -0.07897690 |  0.132162469 | -0.247024654 | ... | -0.062910833 | -0.12119124 | -0.057779023 | -0.030955750 |  0.11959402 |  0.017538939 | -0.014246193 | -0.005364516 |   79.88756 | 0 |\n",
       "| 323 | 125672.30 |  0.48758361 | -0.06733120 | -0.7278282 | -0.18415304 |  0.47428944 |  0.065961443 |  0.08437532 | -0.073085922 | -0.044549441 | ... |  0.088655751 |  0.18332287 |  0.021144788 | -0.039395958 | -0.11091888 | -0.032800258 | -0.004952418 | -0.001122084 |   66.38031 | 0 |\n",
       "| 324 |  24028.79 | -0.35248628 |  0.34722933 |  0.6001270 |  0.61722247 | -0.07076425 |  0.170485941 | -0.20082570 |  0.089411038 |  1.204272443 | ... | -0.154283483 | -0.27070559 | -0.025189854 | -0.038558384 |  0.15398748 |  0.005601048 |  0.037415681 |  0.016954453 |   80.00438 | 0 |\n",
       "| 325 |  50814.24 | -0.22207026 | -0.26474149 |  0.7258931 |  0.19598820 | -0.37604080 |  0.209976512 | -0.16819847 |  0.043264503 | -0.261309582 | ... | -0.014227617 | -0.11187930 | -0.041292728 | -0.005412527 |  0.13486404 |  0.068302942 |  0.007257243 |  0.006718240 |  122.94101 | 0 |\n",
       "| 326 | 157951.47 |  0.47925943 |  0.03206945 | -0.6552800 | -0.16009728 |  0.26893568 | -0.130224342 |  0.08203153 | -0.025625511 |  0.021145081 | ... |  0.054746477 |  0.04482172 |  0.041633366 |  0.047504087 | -0.14106275 |  0.005632170 |  0.001562276 | -0.008511954 |   64.66341 | 0 |\n",
       "| 327 |  89465.33 |  0.16215785 |  0.20196633 | -0.5483689 |  0.15442199 |  0.47407936 |  0.058540761 |  0.24237146 | -0.037709041 |  0.130762470 | ... |  0.077004323 |  0.18625105 |  0.037958048 |  0.018045357 | -0.13730570 | -0.008917800 |  0.016248320 | -0.007732928 |   71.79370 | 0 |\n",
       "| 328 | 169855.16 |  0.09754062 |  0.09454577 | -0.7788624 | -0.09875945 |  0.30558656 | -0.106772945 |  0.23517191 | -0.042162567 | -0.108670879 | ... |  0.017738236 |  0.08612626 |  0.007536324 |  0.002264408 | -0.15902061 | -0.009691585 | -0.021973759 | -0.001220598 |  109.76776 | 0 |\n",
       "| 329 | 139557.49 |  0.17744673 |  0.03703085 | -0.7302855 | -0.22531223 |  0.29764005 | -0.092414271 | -0.03426452 | -0.123720240 | -0.025311542 | ... |  0.093659039 |  0.14445246 |  0.068277976 | -0.025245320 | -0.09062361 | -0.009259748 | -0.015220423 |  0.003717778 |   58.52788 | 0 |\n",
       "| 330 |  43251.32 | -0.23688281 | -0.08471540 |  0.7082582 |  0.04665910 | -0.29822354 |  0.166309640 | -0.10074186 |  0.128046064 | -0.217513549 | ... | -0.025986033 | -0.06975473 | -0.021792672 | -0.033626304 |  0.14366826 |  0.025896778 | -0.023786119 | -0.012650139 |   97.47241 | 0 |\n",
       "| 331 |  29182.29 | -0.15310703 |  0.02388538 |  0.5794391 |  0.17839222 | -0.35796842 |  0.085118702 | -0.14080810 |  0.042587450 | -0.211073392 | ... |  0.036736771 | -0.02096886 | -0.055847557 |  0.019714193 |  0.13430120 |  0.010518698 |  0.005988559 |  0.022428599 |  100.25134 | 0 |\n",
       "| 332 | 157689.38 | -2.62088541 | -6.25367998 | -3.9411234 |  1.17908443 | -3.83324019 |  1.480611950 |  4.38783925 | -0.639060718 | -1.258252647 | ... |  1.082818341 | -0.38259352 | -0.086928424 |  0.185367188 | -0.19728870 |  0.184110254 | -0.307879118 |  0.041025001 | 2108.16687 | 0 |\n",
       "| 333 | 131356.71 |  0.18957515 | -0.03709707 | -0.8044279 | -0.29137268 |  0.39324801 | -0.069703671 |  0.04926123 | -0.022807309 | -0.088769483 | ... |  0.059359176 |  0.12964585 |  0.043971925 | -0.005065307 | -0.15461828 | -0.047388384 |  0.021742450 | -0.013463729 |   72.32157 | 0 |\n",
       "| 334 |  46558.31 | -0.20531234 |  0.08941231 |  0.7497459 |  0.06222951 | -0.27181401 |  0.060506283 | -0.08819956 |  0.144238389 | -0.264220196 | ... | -0.021472709 | -0.10231666 | -0.025987628 | -0.036966029 |  0.12807189 |  0.030647710 | -0.006593754 |  0.009963106 |   78.17601 | 0 |\n",
       "| 335 | 156920.83 |  0.25122372 |  0.17218460 | -0.7505344 | -0.12806337 |  0.18635162 | -0.168571380 |  0.09085249 |  0.027016348 | -0.074304350 | ... |  0.051465594 |  0.13072866 |  0.046600428 |  0.018960636 | -0.18591185 |  0.007991653 | -0.003967081 | -0.001629134 |   68.21828 | 0 |\n",
       "| 336 |  88668.07 |  0.35588050 |  0.18508490 | -0.5434128 |  0.03547215 |  0.46957024 |  0.029826037 |  0.27982230 | -0.099304358 |  0.123133756 | ... |  0.091913221 |  0.20089164 |  0.040984934 |  0.007407462 | -0.13706561 | -0.005286710 |  0.005309358 | -0.018824895 |   61.40991 | 0 |\n",
       "| 337 | 121016.88 |  0.31978970 | -0.27225353 | -0.7455478 | -0.36714442 |  0.15872079 | -0.032706473 |  0.05586065 | -0.050940870 | -0.025713761 | ... |  0.060823103 |  0.18502866 | -0.014527303 | -0.018595289 | -0.14009557 | -0.039680419 |  0.012451119 |  0.013500829 |  102.30892 | 0 |\n",
       "| 338 |  61576.52 | -0.19070158 |  0.06305303 |  0.6442235 |  0.11450829 | -0.23694661 |  0.063450863 | -0.09577672 |  0.125875519 | -0.216197667 | ... | -0.077919652 | -0.17262664 | -0.001175909 |  0.003998322 |  0.12146574 |  0.042994845 |  0.005040750 |  0.015924927 |   80.03704 | 0 |\n",
       "| 339 | 160445.73 |  0.48675601 |  0.07331009 | -0.7345968 | -0.26885277 |  0.23432166 | -0.189779567 |  0.08160638 | -0.008572514 | -0.021223669 | ... |  0.010406147 |  0.01023775 |  0.059986067 |  0.004984653 | -0.14472326 |  0.005066230 | -0.012934237 | -0.010782226 |   62.30689 | 0 |\n",
       "| 340 |  58518.22 | -0.37539109 | -0.11993750 |  0.7154328 |  0.07331587 | -0.26810622 |  0.145492922 | -0.11853426 |  0.094557437 | -0.155178359 | ... | -0.070888278 | -0.09987927 | -0.039799332 |  0.042128920 |  0.15292900 |  0.014968745 | -0.004514260 | -0.016283901 |  103.60289 | 0 |\n",
       "| 341 | 162598.96 |  0.33625600 |  0.10719823 | -0.6732808 | -0.20404169 |  0.29611481 | -0.105083326 |  0.10483265 | -0.103747751 |  0.064100290 | ... |  0.006590035 |  0.09555748 |  0.059530423 | -0.015767358 | -0.14745163 | -0.075952889 |  0.012627663 | -0.003563002 |   66.38218 | 0 |\n",
       "| 342 |  44126.83 | -0.16672206 | -0.27014621 |  0.6725817 |  0.08978313 | -0.43918834 |  0.208356372 | -0.14312606 |  0.047719262 | -0.257531084 | ... | -0.058363732 | -0.10225807 | -0.027124762 |  0.025320655 |  0.15143882 |  0.021060869 |  0.025724077 | -0.012349983 |  122.04325 | 0 |\n",
       "| 343 |  94124.04 |  0.16699246 |  0.39575530 | -0.3585135 |  0.53761350 |  0.71563052 | -0.128006749 |  0.28153103 | -0.327790155 |  1.273688306 | ... |  0.068021233 |  0.11175612 | -0.030949343 | -0.016002709 | -0.04504290 | -0.076274600 | -0.011702749 | -0.020600381 |   60.10705 | 0 |\n",
       "| 344 | 125222.78 |  0.37581155 | -0.15598971 | -0.6156948 | -0.18523057 |  0.30471885 | -0.003537383 |  0.09060004 | -0.003703029 | -0.076768295 | ... |  0.003202850 |  0.13354706 |  0.019150815 | -0.008357970 | -0.11184529 |  0.011228281 | -0.006323526 | -0.014438125 |   76.71155 | 0 |\n",
       "| 345 |  54466.51 | -2.53322505 | -4.45786461 | -1.0340172 |  0.99478340 | -3.36773664 |  1.580555727 |  2.92268176 | -0.841809551 | -0.656179265 | ... |  0.445586392 | -0.35768696 | -0.066642013 |  0.091394338 |  0.08546370 | -0.022424223 | -0.167107288 |  0.231506112 | 1520.65673 | 0 |\n",
       "| 346 | 116872.00 | -1.55483244 | -4.81278078 | -2.4613259 |  0.54405173 | -2.23022161 |  1.547995342 |  2.45699044 | -0.511681951 |  0.139986548 | ... |  0.627224343 | -0.41428342 | -0.763557803 | -0.281952171 | -0.50906364 | -0.025178492 | -0.113911947 |  0.106088206 | 1559.32781 | 0 |\n",
       "| 347 |  38213.96 | -0.16726034 | -0.21661393 |  0.7498926 |  0.10836915 | -0.30341521 |  0.108158411 | -0.08626536 |  0.084923015 | -0.213858098 | ... |  0.016442603 | -0.06223885 | -0.033679292 | -0.013711242 |  0.15395080 |  0.020765205 |  0.002077548 |  0.006657191 |  106.73213 | 0 |\n",
       "\n"
      ],
      "text/plain": [
       "    Time        V1            V2            V3          V4          V5         \n",
       "1    77637.6901  -0.236517238   0.117448283  0.60966847  0.01949442 -0.28753586\n",
       "2    78410.9617  -0.162780300   0.166291363  0.56610169  0.12961958 -0.27335655\n",
       "3    46164.0383  -0.158558186  -0.026090872  0.71109016  0.05751390 -0.22180239\n",
       "4   119827.5809   0.300594931  -0.017840909 -0.52024792 -0.18526304  0.45689769\n",
       "5    79543.8313  -0.047652450   0.143221882  0.72942683 -0.19838411 -0.31710104\n",
       "6   154694.0127   0.461378571  -0.038924046 -0.64817912 -0.13129236  0.16229158\n",
       "7   141725.9702   0.161752470  -0.049224376 -0.75749057 -0.02949832  0.36453152\n",
       "8    68490.5256  -0.178252174   0.274962688  0.70261007  0.21453155 -0.14710503\n",
       "9    75335.6920  -0.130955543   0.121212082  0.58390997  0.08399481 -0.22162388\n",
       "10     825.1949  -0.323928522   0.297982741  0.85023364  0.12434559 -0.07712231\n",
       "11   63377.8601  -0.329512240  -0.148215135  0.65014848  0.14612552 -0.27050443\n",
       "12  167782.7526   0.208053094   0.286753221 -0.83712210 -0.19755132  0.29459102\n",
       "13  165753.1534   0.313887278   0.241909366 -0.50240135 -0.20144761  0.31735641\n",
       "14   14299.5973   0.023876374   0.262613713  0.98241756  0.62603466 -0.09071481\n",
       "15  101046.6232   0.811320682  -0.095313809 -0.02339636  0.36160343  0.04388977\n",
       "16   69621.1217  -0.140817519   0.211324858  0.66149549  0.14274452 -0.22794838\n",
       "17  127097.8125  -5.051012430 -10.682220838 -5.27726584  1.42737065 -4.47334121\n",
       "18  138726.0743   0.251219761   0.003729658 -0.66958976 -0.21177261  0.37012506\n",
       "19  163607.6190  -1.399534636  -4.069792280 -2.22269803  1.07110126 -2.01077363\n",
       "20  171400.7137  -0.006629629   0.438182414 -0.80899535 -0.16660231  0.28566777\n",
       "21   50368.6188  -0.350801378   0.020654464  0.66434770  0.23274600 -0.25731843\n",
       "22  132895.9926   0.187958926   0.111972070 -0.67287874 -0.33118559  0.29033978\n",
       "23  139971.5789   0.089482095  -0.052589054 -0.74534544 -0.22932216  0.42606544\n",
       "24   54623.9952  -0.354981705   0.001704962  0.70964442  0.17364681 -0.23986006\n",
       "25  143135.6770   0.014453761  -0.042304191 -0.74242881 -0.14819430  0.26395346\n",
       "26  150566.2829   0.573467209  -0.194241315 -0.72756421 -0.17637717  0.20361129\n",
       "27  150326.8000 -12.364356834 -21.836040128 -8.88467766  6.18877103 -8.48432386\n",
       "28   52556.4737  -6.058967269  -9.028264037 -4.48543047  2.05219843 -8.82011053\n",
       "29  142201.7728   0.060609573  -0.123568092 -0.83009882 -0.26223151  0.32069991\n",
       "30  127654.7360   0.416911966  -0.159775499 -0.73687875 -0.12064235  0.39804415\n",
       "... ...         ...           ...           ...         ...         ...        \n",
       "318 117261.55    0.47739208   -0.09260449   -0.6610794  -0.28216773  0.44604018\n",
       "319 121386.63    0.47539893   -0.35190055   -0.7188761  -0.38498876  0.26212322\n",
       "320  46181.34   -1.89699429   -3.83247713   -0.9498142   0.74025644 -3.02742376\n",
       "321 120235.17    0.35767557   -0.15158425   -0.6550332  -0.18178321  0.35328966\n",
       "322  49032.90   -0.29155875    0.12068057    0.6786744   0.09917645 -0.26632824\n",
       "323 125672.30    0.48758361   -0.06733120   -0.7278282  -0.18415304  0.47428944\n",
       "324  24028.79   -0.35248628    0.34722933    0.6001270   0.61722247 -0.07076425\n",
       "325  50814.24   -0.22207026   -0.26474149    0.7258931   0.19598820 -0.37604080\n",
       "326 157951.47    0.47925943    0.03206945   -0.6552800  -0.16009728  0.26893568\n",
       "327  89465.33    0.16215785    0.20196633   -0.5483689   0.15442199  0.47407936\n",
       "328 169855.16    0.09754062    0.09454577   -0.7788624  -0.09875945  0.30558656\n",
       "329 139557.49    0.17744673    0.03703085   -0.7302855  -0.22531223  0.29764005\n",
       "330  43251.32   -0.23688281   -0.08471540    0.7082582   0.04665910 -0.29822354\n",
       "331  29182.29   -0.15310703    0.02388538    0.5794391   0.17839222 -0.35796842\n",
       "332 157689.38   -2.62088541   -6.25367998   -3.9411234   1.17908443 -3.83324019\n",
       "333 131356.71    0.18957515   -0.03709707   -0.8044279  -0.29137268  0.39324801\n",
       "334  46558.31   -0.20531234    0.08941231    0.7497459   0.06222951 -0.27181401\n",
       "335 156920.83    0.25122372    0.17218460   -0.7505344  -0.12806337  0.18635162\n",
       "336  88668.07    0.35588050    0.18508490   -0.5434128   0.03547215  0.46957024\n",
       "337 121016.88    0.31978970   -0.27225353   -0.7455478  -0.36714442  0.15872079\n",
       "338  61576.52   -0.19070158    0.06305303    0.6442235   0.11450829 -0.23694661\n",
       "339 160445.73    0.48675601    0.07331009   -0.7345968  -0.26885277  0.23432166\n",
       "340  58518.22   -0.37539109   -0.11993750    0.7154328   0.07331587 -0.26810622\n",
       "341 162598.96    0.33625600    0.10719823   -0.6732808  -0.20404169  0.29611481\n",
       "342  44126.83   -0.16672206   -0.27014621    0.6725817   0.08978313 -0.43918834\n",
       "343  94124.04    0.16699246    0.39575530   -0.3585135   0.53761350  0.71563052\n",
       "344 125222.78    0.37581155   -0.15598971   -0.6156948  -0.18523057  0.30471885\n",
       "345  54466.51   -2.53322505   -4.45786461   -1.0340172   0.99478340 -3.36773664\n",
       "346 116872.00   -1.55483244   -4.81278078   -2.4613259   0.54405173 -2.23022161\n",
       "347  38213.96   -0.16726034   -0.21661393    0.7498926   0.10836915 -0.30341521\n",
       "    V6           V7          V8           V9           ... V21         \n",
       "1    0.066168735 -0.16501989  0.106782319 -0.326791959 ... -0.059501748\n",
       "2    0.017577652 -0.15730070  0.026287336 -0.323617740 ... -0.075522926\n",
       "3   -0.003921966 -0.13997185  0.091416742 -0.265037032 ... -0.052218433\n",
       "4   -0.160972354  0.13362395 -0.154256258  0.054745988 ...  0.049971280\n",
       "5   -0.108330026 -0.19063721  0.129539240  0.190769835 ... -0.068256237\n",
       "6   -0.220558397  0.14278817 -0.026949588 -0.039779751 ...  0.017178906\n",
       "7   -0.141898479  0.16621002 -0.046166544 -0.055059457 ...  0.037691479\n",
       "8   -0.036770081 -0.12783565  0.104479056 -0.219525295 ... -0.100815329\n",
       "9   -0.036709919 -0.12940573  0.088645422 -0.251034312 ... -0.044160767\n",
       "10   0.012110587  0.13038918 -0.046619106  0.034203636 ... -0.009909199\n",
       "11   0.093411254 -0.11415431  0.091221002 -0.225283550 ... -0.038198552\n",
       "12  -0.086323886  0.11405358  0.046164900  0.015604821 ... -0.039998505\n",
       "13  -0.121150632  0.07061559  0.047852883  0.046308093 ... -0.005929281\n",
       "14   0.255929493 -0.23329406  0.067989614  1.350344979 ... -0.080203032\n",
       "15   0.269971595 -0.31357206 -0.024079938  1.767280167 ... -0.034222980\n",
       "16   0.017466167 -0.11599040  0.176471414 -0.225251296 ... -0.109790870\n",
       "17   2.369569246  5.84671544 -1.146959713 -0.116781432 ...  1.915483224\n",
       "18  -0.099736703  0.07709498 -0.065054627 -0.020640832 ...  0.054767262\n",
       "19   0.746081053  2.48312328 -0.308579897 -0.793926650 ...  0.624283077\n",
       "20  -0.191404533  0.08909878  0.015847032 -0.006219464 ...  0.011201784\n",
       "21   0.043961465 -0.11661607  0.177300227 -0.154150813 ... -0.051638146\n",
       "22  -0.129094789  0.08478192 -0.078919057  0.055643617 ...  0.007646110\n",
       "23  -0.206326560  0.06382737 -0.127051685 -0.045019894 ...  0.094475034\n",
       "24   0.014816672 -0.14233639  0.005798208 -0.123302638 ...  0.005870959\n",
       "25  -0.048917569  0.04777718  0.008727466 -0.046085146 ...  0.059057553\n",
       "26  -0.102124917  0.02111489 -0.021705336  0.010750263 ...  0.034709777\n",
       "27   5.622389278 12.65260693 -1.369953336 -1.570303567 ...  4.364976103\n",
       "28   5.152312694  9.06278891 -2.071080835 -0.411880092 ...  0.619457469\n",
       "29  -0.130839106  0.04031118  0.014761251 -0.131497782 ...  0.054826352\n",
       "30  -0.077058669  0.15165424 -0.065342892 -0.081505347 ...  0.094352757\n",
       "... ...          ...         ...          ...              ...         \n",
       "318 -0.052162888  0.15808516 -0.100229983 -0.033621589 ...  0.059289271\n",
       "319 -0.040507550 -0.04603687 -0.040197806 -0.002616042 ...  0.092711382\n",
       "320  1.268755344  2.37554030 -0.903767768  0.087548946 ...  0.912169659\n",
       "321 -0.129389348  0.05690713 -0.069385346 -0.060541883 ...  0.104046242\n",
       "322  0.087002453 -0.07897690  0.132162469 -0.247024654 ... -0.062910833\n",
       "323  0.065961443  0.08437532 -0.073085922 -0.044549441 ...  0.088655751\n",
       "324  0.170485941 -0.20082570  0.089411038  1.204272443 ... -0.154283483\n",
       "325  0.209976512 -0.16819847  0.043264503 -0.261309582 ... -0.014227617\n",
       "326 -0.130224342  0.08203153 -0.025625511  0.021145081 ...  0.054746477\n",
       "327  0.058540761  0.24237146 -0.037709041  0.130762470 ...  0.077004323\n",
       "328 -0.106772945  0.23517191 -0.042162567 -0.108670879 ...  0.017738236\n",
       "329 -0.092414271 -0.03426452 -0.123720240 -0.025311542 ...  0.093659039\n",
       "330  0.166309640 -0.10074186  0.128046064 -0.217513549 ... -0.025986033\n",
       "331  0.085118702 -0.14080810  0.042587450 -0.211073392 ...  0.036736771\n",
       "332  1.480611950  4.38783925 -0.639060718 -1.258252647 ...  1.082818341\n",
       "333 -0.069703671  0.04926123 -0.022807309 -0.088769483 ...  0.059359176\n",
       "334  0.060506283 -0.08819956  0.144238389 -0.264220196 ... -0.021472709\n",
       "335 -0.168571380  0.09085249  0.027016348 -0.074304350 ...  0.051465594\n",
       "336  0.029826037  0.27982230 -0.099304358  0.123133756 ...  0.091913221\n",
       "337 -0.032706473  0.05586065 -0.050940870 -0.025713761 ...  0.060823103\n",
       "338  0.063450863 -0.09577672  0.125875519 -0.216197667 ... -0.077919652\n",
       "339 -0.189779567  0.08160638 -0.008572514 -0.021223669 ...  0.010406147\n",
       "340  0.145492922 -0.11853426  0.094557437 -0.155178359 ... -0.070888278\n",
       "341 -0.105083326  0.10483265 -0.103747751  0.064100290 ...  0.006590035\n",
       "342  0.208356372 -0.14312606  0.047719262 -0.257531084 ... -0.058363732\n",
       "343 -0.128006749  0.28153103 -0.327790155  1.273688306 ...  0.068021233\n",
       "344 -0.003537383  0.09060004 -0.003703029 -0.076768295 ...  0.003202850\n",
       "345  1.580555727  2.92268176 -0.841809551 -0.656179265 ...  0.445586392\n",
       "346  1.547995342  2.45699044 -0.511681951  0.139986548 ...  0.627224343\n",
       "347  0.108158411 -0.08626536  0.084923015 -0.213858098 ...  0.016442603\n",
       "    V22         V23           V24           V25         V26         \n",
       "1   -0.16732825 -0.0137635416  0.0320380586  0.10663606  0.046318090\n",
       "2   -0.16287298 -0.0163609066 -0.0005596467  0.11369379  0.007112973\n",
       "3   -0.12149626 -0.0009858029 -0.0091315129  0.15145502  0.039771658\n",
       "4    0.11628178 -0.0102285823  0.0158562644 -0.08507159 -0.038274118\n",
       "5   -0.10246968 -0.0473619053  0.0319447798  0.19849291 -0.130529481\n",
       "6    0.06872303  0.0594231791  0.0391859499 -0.14595946 -0.033269307\n",
       "7    0.11039135  0.0738653177 -0.0221563955 -0.12150766 -0.048411232\n",
       "8   -0.12616060  0.0140041041  0.0187839829  0.13029265  0.048180588\n",
       "9   -0.14834706 -0.0110747434  0.0100919874  0.12691084  0.070799256\n",
       "10  -0.15220018 -0.0446174482  0.0256135136  0.10577981  0.053779206\n",
       "11  -0.10812454  0.0132734115  0.0010685310  0.12492135  0.018604577\n",
       "12   0.08177571  0.0713511161 -0.0177287921 -0.15772948  0.012004476\n",
       "13   0.02765529  0.0404721539 -0.1005239089 -0.11892421 -0.137674371\n",
       "14  -0.11743711  0.0098477093 -0.0125400783  0.09866456  0.283184039\n",
       "15   0.04839151  0.1220920957 -0.0948096654 -0.38525006  0.201829177\n",
       "16  -0.16181991 -0.0345513440  0.0263634508  0.12635833 -0.002211854\n",
       "17  -0.91422944 -0.7431670274 -0.1882136875 -0.99248272 -0.209896619\n",
       "18   0.17322353  0.0464706533 -0.0120105207 -0.10950680 -0.042125649\n",
       "19  -0.51060984  0.1358188354  0.0165378271 -0.22616187 -0.010398807\n",
       "20   0.10279786  0.0309230220 -0.0012646997 -0.12731468  0.005077026\n",
       "21  -0.12250156  0.0067877956 -0.0038235754  0.15007893  0.014340807\n",
       "22   0.23150671  0.0051774935 -0.0746215478 -0.12937635 -0.054621038\n",
       "23   0.12372044  0.0654176751 -0.0503498453 -0.14921847 -0.010742045\n",
       "24  -0.08817623 -0.0340341339 -0.0223907355  0.13555271  0.066373264\n",
       "25   0.22503054  0.0316828225  0.0224536260 -0.09830785 -0.013754877\n",
       "26   0.12546646  0.0612712225  0.0019530055 -0.17596304 -0.050806845\n",
       "27  -1.98003149  0.8278231063 -0.4336697971 -0.82991120 -0.480514662\n",
       "28  -0.89159763 -1.7431022245  0.3508400347 -0.39060891 -0.042872919\n",
       "29   0.17942327 -0.0363878589 -0.0093656959 -0.09071078  0.013204679\n",
       "30   0.17777339  0.0385807758 -0.0022686372 -0.10269329 -0.051939589\n",
       "... ...         ...           ...           ...         ...         \n",
       "318  0.21626974  0.031654439   0.009518537  -0.08323443 -0.014060023\n",
       "319  0.23424545  0.059549715  -0.031381359  -0.13559087 -0.002689413\n",
       "320 -0.59677917 -0.956204711   0.103137586  -0.13710640 -0.035125398\n",
       "321  0.18287378  0.053607894  -0.057276004  -0.12840719 -0.012079879\n",
       "322 -0.12119124 -0.057779023  -0.030955750   0.11959402  0.017538939\n",
       "323  0.18332287  0.021144788  -0.039395958  -0.11091888 -0.032800258\n",
       "324 -0.27070559 -0.025189854  -0.038558384   0.15398748  0.005601048\n",
       "325 -0.11187930 -0.041292728  -0.005412527   0.13486404  0.068302942\n",
       "326  0.04482172  0.041633366   0.047504087  -0.14106275  0.005632170\n",
       "327  0.18625105  0.037958048   0.018045357  -0.13730570 -0.008917800\n",
       "328  0.08612626  0.007536324   0.002264408  -0.15902061 -0.009691585\n",
       "329  0.14445246  0.068277976  -0.025245320  -0.09062361 -0.009259748\n",
       "330 -0.06975473 -0.021792672  -0.033626304   0.14366826  0.025896778\n",
       "331 -0.02096886 -0.055847557   0.019714193   0.13430120  0.010518698\n",
       "332 -0.38259352 -0.086928424   0.185367188  -0.19728870  0.184110254\n",
       "333  0.12964585  0.043971925  -0.005065307  -0.15461828 -0.047388384\n",
       "334 -0.10231666 -0.025987628  -0.036966029   0.12807189  0.030647710\n",
       "335  0.13072866  0.046600428   0.018960636  -0.18591185  0.007991653\n",
       "336  0.20089164  0.040984934   0.007407462  -0.13706561 -0.005286710\n",
       "337  0.18502866 -0.014527303  -0.018595289  -0.14009557 -0.039680419\n",
       "338 -0.17262664 -0.001175909   0.003998322   0.12146574  0.042994845\n",
       "339  0.01023775  0.059986067   0.004984653  -0.14472326  0.005066230\n",
       "340 -0.09987927 -0.039799332   0.042128920   0.15292900  0.014968745\n",
       "341  0.09555748  0.059530423  -0.015767358  -0.14745163 -0.075952889\n",
       "342 -0.10225807 -0.027124762   0.025320655   0.15143882  0.021060869\n",
       "343  0.11175612 -0.030949343  -0.016002709  -0.04504290 -0.076274600\n",
       "344  0.13354706  0.019150815  -0.008357970  -0.11184529  0.011228281\n",
       "345 -0.35768696 -0.066642013   0.091394338   0.08546370 -0.022424223\n",
       "346 -0.41428342 -0.763557803  -0.281952171  -0.50906364 -0.025178492\n",
       "347 -0.06223885 -0.033679292  -0.013711242   0.15395080  0.020765205\n",
       "    V27          V28           Amount     Class\n",
       "1   -0.015684815  0.0072418942   81.03093 0    \n",
       "2   -0.029723011  0.0226265953   72.89885 0    \n",
       "3    0.006035123  0.0070137727   68.18015 0    \n",
       "4   -0.039153698 -0.0221504346   56.64243 0    \n",
       "5    0.031607423  0.0025151951   45.81005 0    \n",
       "6    0.009726104 -0.0129246608   80.05560 0    \n",
       "7    0.011891426 -0.0002115434   81.98770 0    \n",
       "8    0.008142981 -0.0008370319   42.93159 0    \n",
       "9    0.007714677  0.0071003643   67.86259 0    \n",
       "10   0.032561401  0.0008799941   65.88212 0    \n",
       "11   0.028128013 -0.0202062603  108.68455 0    \n",
       "12  -0.017894562 -0.0226394241   63.38386 0    \n",
       "13   0.019071323 -0.0134147284   40.58674 0    \n",
       "14  -0.018012907  0.0072002205   57.25072 0    \n",
       "15  -0.014878929 -0.0071717056   69.69992 0    \n",
       "16   0.012833791 -0.0063212658   54.58306 0    \n",
       "17  -0.217213224  0.1927326623 3311.75250 0    \n",
       "18  -0.005400513 -0.0037793077   62.55356 0    \n",
       "19  -0.222020858  0.0731358511 1305.57143 0    \n",
       "20   0.012311842 -0.0156181519   56.61595 0    \n",
       "21   0.006077433 -0.0180932279   82.13850 0    \n",
       "22  -0.016674836  0.0118236184   58.08662 0    \n",
       "23   0.014942225 -0.0081802764   71.06874 0    \n",
       "24  -0.050831183  0.0254334172   73.57794 0    \n",
       "25  -0.041801994  0.0065651263   75.31550 0    \n",
       "26  -0.013396399 -0.0094852898   87.01369 0    \n",
       "27  -1.638382267  0.8927110341 6791.67200 0    \n",
       "28   1.254171376 -0.4783289705 3723.44526 0    \n",
       "29  -0.027147684  0.0088735985   81.04450 0    \n",
       "30  -0.017246345 -0.0079898134   90.55905 0    \n",
       "... ...          ...           ...        ...  \n",
       "318 -0.002843679  0.016002369    65.57056 0    \n",
       "319  0.024028934 -0.006394744    81.94068 0    \n",
       "320 -0.024117372  0.107184729  1429.68532 0    \n",
       "321  0.024725505 -0.001182429    69.97583 0    \n",
       "322 -0.014246193 -0.005364516    79.88756 0    \n",
       "323 -0.004952418 -0.001122084    66.38031 0    \n",
       "324  0.037415681  0.016954453    80.00438 0    \n",
       "325  0.007257243  0.006718240   122.94101 0    \n",
       "326  0.001562276 -0.008511954    64.66341 0    \n",
       "327  0.016248320 -0.007732928    71.79370 0    \n",
       "328 -0.021973759 -0.001220598   109.76776 0    \n",
       "329 -0.015220423  0.003717778    58.52788 0    \n",
       "330 -0.023786119 -0.012650139    97.47241 0    \n",
       "331  0.005988559  0.022428599   100.25134 0    \n",
       "332 -0.307879118  0.041025001  2108.16687 0    \n",
       "333  0.021742450 -0.013463729    72.32157 0    \n",
       "334 -0.006593754  0.009963106    78.17601 0    \n",
       "335 -0.003967081 -0.001629134    68.21828 0    \n",
       "336  0.005309358 -0.018824895    61.40991 0    \n",
       "337  0.012451119  0.013500829   102.30892 0    \n",
       "338  0.005040750  0.015924927    80.03704 0    \n",
       "339 -0.012934237 -0.010782226    62.30689 0    \n",
       "340 -0.004514260 -0.016283901   103.60289 0    \n",
       "341  0.012627663 -0.003563002    66.38218 0    \n",
       "342  0.025724077 -0.012349983   122.04325 0    \n",
       "343 -0.011702749 -0.020600381    60.10705 0    \n",
       "344 -0.006323526 -0.014438125    76.71155 0    \n",
       "345 -0.167107288  0.231506112  1520.65673 0    \n",
       "346 -0.113911947  0.106088206  1559.32781 0    \n",
       "347  0.002077548  0.006657191   106.73213 0    "
      ]
     },
     "metadata": {},
     "output_type": "display_data"
    }
   ],
   "source": [
    "kmod$centers"
   ]
  },
  {
   "cell_type": "code",
   "execution_count": 73,
   "metadata": {},
   "outputs": [],
   "source": [
    "tr2 <- train %>% filter(Class==1)\n",
    "tr2$cluster <- NULL\n",
    "train.kmod <- rbind(kmod$centers, tr2)"
   ]
  },
  {
   "cell_type": "code",
   "execution_count": 74,
   "metadata": {},
   "outputs": [
    {
     "data": {
      "text/plain": [
       "\n",
       "  0   1 \n",
       "347 347 "
      ]
     },
     "metadata": {},
     "output_type": "display_data"
    }
   ],
   "source": [
    "table(train.kmod$Class)"
   ]
  },
  {
   "cell_type": "code",
   "execution_count": 87,
   "metadata": {},
   "outputs": [
    {
     "data": {
      "text/plain": [
       "\n",
       "\t Conditional inference tree with 6 terminal nodes\n",
       "\n",
       "Response:  Class \n",
       "Inputs:  Time, V1, V2, V3, V4, V5, V6, V7, V8, V9, V10, V11, V12, V13, V14, V15, V16, V17, V18, V19, V20, V21, V22, V23, V24, V25, V26, V27, V28, Amount \n",
       "Number of observations:  694 \n",
       "\n",
       "1) V14 <= -0.4985218; criterion = 1, statistic = 411.54\n",
       "  2) Amount <= 925.31; criterion = 1, statistic = 181.63\n",
       "    3)*  weights = 323 \n",
       "  2) Amount > 925.31\n",
       "    4)*  weights = 7 \n",
       "1) V14 > -0.4985218\n",
       "  5) V4 <= 2.628298; criterion = 1, statistic = 57.767\n",
       "    6) V26 <= -0.3434961; criterion = 1, statistic = 94.304\n",
       "      7)*  weights = 7 \n",
       "    6) V26 > -0.3434961\n",
       "      8) V22 <= 0.2537398; criterion = 1, statistic = 70.065\n",
       "        9)*  weights = 336 \n",
       "      8) V22 > 0.2537398\n",
       "        10)*  weights = 7 \n",
       "  5) V4 > 2.628298\n",
       "    11)*  weights = 14 "
      ]
     },
     "metadata": {},
     "output_type": "display_data"
    }
   ],
   "source": [
    "#mod.kmod <- glm(Class ~., data=train.kmod, family=\"binomial\")\n",
    "#summary(mod.kmod)\n",
    "mod.kmod <- party::ctree(Class ~., data=train.kmod)\n",
    "mod.kmod"
   ]
  },
  {
   "cell_type": "code",
   "execution_count": 93,
   "metadata": {},
   "outputs": [
    {
     "data": {
      "text/html": [
       "85443"
      ],
      "text/latex": [
       "85443"
      ],
      "text/markdown": [
       "85443"
      ],
      "text/plain": [
       "[1] 85443"
      ]
     },
     "metadata": {},
     "output_type": "display_data"
    },
    {
     "data": {
      "image/png": "[encoded data removed]",
      "text/plain": [
       "Plot with title \"Histogram of pred.kmod\""
      ]
     },
     "metadata": {
      "image/png": {
       "height": 420,
       "width": 420
      }
     },
     "output_type": "display_data"
    }
   ],
   "source": [
    "pred.kmod <- predict(mod.kmod,newdata=test,type=\"response\")\n",
    "hist(pred.kmod)\n",
    "nrow(pred.kmod)"
   ]
  },
  {
   "cell_type": "code",
   "execution_count": 94,
   "metadata": {},
   "outputs": [
    {
     "data": {
      "text/plain": [
       "obs\n",
       "    0     1 \n",
       "85298   145 "
      ]
     },
     "metadata": {},
     "output_type": "display_data"
    },
    {
     "data": {
      "text/plain": [
       "pred\n",
       "    0     1 \n",
       "29778 55665 "
      ]
     },
     "metadata": {},
     "output_type": "display_data"
    },
    {
     "data": {
      "text/plain": [
       "   pred\n",
       "obs     0     1\n",
       "  0 29777 55521\n",
       "  1     1   144"
      ]
     },
     "metadata": {},
     "output_type": "display_data"
    }
   ],
   "source": [
    "table(obs=test$Class)\n",
    "table(pred=ifelse(pred.kmod>0.5,1,0))\n",
    "table(obs=test$Class, pred=ifelse(pred.kmod>0.5,1,0))"
   ]
  },
  {
   "cell_type": "code",
   "execution_count": 95,
   "metadata": {},
   "outputs": [
    {
     "name": "stderr",
     "output_type": "stream",
     "text": [
      "Setting levels: control = 0, case = 1\n",
      "\n",
      "Setting direction: controls < cases\n",
      "\n"
     ]
    },
    {
     "data": {
      "text/plain": [
       "\n",
       "Call:\n",
       "roc.default(response = test$Class, predictor = pred5$predictions)\n",
       "\n",
       "Data: pred5$predictions in 85298 controls (test$Class 0) < 145 cases (test$Class 1).\n",
       "Area under the curve: 0.9567"
      ]
     },
     "metadata": {},
     "output_type": "display_data"
    }
   ],
   "source": [
    "### AUC\n",
    "roc1 <- pROC::roc(test$Class, pred5$predictions)\n",
    "roc1\n"
   ]
  },
  {
   "cell_type": "code",
   "execution_count": null,
   "metadata": {},
   "outputs": [],
   "source": []
  },
  {
   "cell_type": "code",
   "execution_count": 40,
   "metadata": {},
   "outputs": [
    {
     "name": "stderr",
     "output_type": "stream",
     "text": [
      "Warning message:\n",
      "\"Quick-TRANSfer stage steps exceeded maximum (= 9968200)\"\n"
     ]
    },
    {
     "data": {
      "text/html": [
       "<table>\n",
       "<caption>A data.frame: 2000 × 3</caption>\n",
       "<thead>\n",
       "\t<tr><th scope=col>clust</th><th scope=col>class</th><th scope=col>Freq</th></tr>\n",
       "\t<tr><th scope=col>&lt;fct&gt;</th><th scope=col>&lt;fct&gt;</th><th scope=col>&lt;int&gt;</th></tr>\n",
       "</thead>\n",
       "<tbody>\n",
       "\t<tr><td>1 </td><td>0</td><td>237</td></tr>\n",
       "\t<tr><td>2 </td><td>0</td><td>315</td></tr>\n",
       "\t<tr><td>3 </td><td>0</td><td> 56</td></tr>\n",
       "\t<tr><td>4 </td><td>0</td><td>197</td></tr>\n",
       "\t<tr><td>5 </td><td>0</td><td>273</td></tr>\n",
       "\t<tr><td>6 </td><td>0</td><td>254</td></tr>\n",
       "\t<tr><td>7 </td><td>0</td><td>196</td></tr>\n",
       "\t<tr><td>8 </td><td>0</td><td> 21</td></tr>\n",
       "\t<tr><td>9 </td><td>0</td><td>275</td></tr>\n",
       "\t<tr><td>10</td><td>0</td><td>252</td></tr>\n",
       "\t<tr><td>11</td><td>0</td><td>337</td></tr>\n",
       "\t<tr><td>12</td><td>0</td><td>324</td></tr>\n",
       "\t<tr><td>13</td><td>0</td><td> 72</td></tr>\n",
       "\t<tr><td>14</td><td>0</td><td> 20</td></tr>\n",
       "\t<tr><td>15</td><td>0</td><td>221</td></tr>\n",
       "\t<tr><td>16</td><td>0</td><td>378</td></tr>\n",
       "\t<tr><td>17</td><td>0</td><td>312</td></tr>\n",
       "\t<tr><td>18</td><td>0</td><td>351</td></tr>\n",
       "\t<tr><td>19</td><td>0</td><td>249</td></tr>\n",
       "\t<tr><td>20</td><td>0</td><td>256</td></tr>\n",
       "\t<tr><td>21</td><td>0</td><td> 63</td></tr>\n",
       "\t<tr><td>22</td><td>0</td><td> 22</td></tr>\n",
       "\t<tr><td>23</td><td>0</td><td> 15</td></tr>\n",
       "\t<tr><td>24</td><td>0</td><td>132</td></tr>\n",
       "\t<tr><td>25</td><td>0</td><td>277</td></tr>\n",
       "\t<tr><td>26</td><td>0</td><td>307</td></tr>\n",
       "\t<tr><td>27</td><td>0</td><td>289</td></tr>\n",
       "\t<tr><td>28</td><td>0</td><td>331</td></tr>\n",
       "\t<tr><td>29</td><td>0</td><td> 49</td></tr>\n",
       "\t<tr><td>30</td><td>0</td><td> 42</td></tr>\n",
       "\t<tr><td>...</td><td>...</td><td>...</td></tr>\n",
       "\t<tr><td>971 </td><td>1</td><td>0</td></tr>\n",
       "\t<tr><td>972 </td><td>1</td><td>0</td></tr>\n",
       "\t<tr><td>973 </td><td>1</td><td>1</td></tr>\n",
       "\t<tr><td>974 </td><td>1</td><td>1</td></tr>\n",
       "\t<tr><td>975 </td><td>1</td><td>0</td></tr>\n",
       "\t<tr><td>976 </td><td>1</td><td>0</td></tr>\n",
       "\t<tr><td>977 </td><td>1</td><td>0</td></tr>\n",
       "\t<tr><td>978 </td><td>1</td><td>0</td></tr>\n",
       "\t<tr><td>979 </td><td>1</td><td>7</td></tr>\n",
       "\t<tr><td>980 </td><td>1</td><td>0</td></tr>\n",
       "\t<tr><td>981 </td><td>1</td><td>1</td></tr>\n",
       "\t<tr><td>982 </td><td>1</td><td>0</td></tr>\n",
       "\t<tr><td>983 </td><td>1</td><td>0</td></tr>\n",
       "\t<tr><td>984 </td><td>1</td><td>0</td></tr>\n",
       "\t<tr><td>985 </td><td>1</td><td>0</td></tr>\n",
       "\t<tr><td>986 </td><td>1</td><td>3</td></tr>\n",
       "\t<tr><td>987 </td><td>1</td><td>0</td></tr>\n",
       "\t<tr><td>988 </td><td>1</td><td>0</td></tr>\n",
       "\t<tr><td>989 </td><td>1</td><td>0</td></tr>\n",
       "\t<tr><td>990 </td><td>1</td><td>0</td></tr>\n",
       "\t<tr><td>991 </td><td>1</td><td>1</td></tr>\n",
       "\t<tr><td>992 </td><td>1</td><td>2</td></tr>\n",
       "\t<tr><td>993 </td><td>1</td><td>0</td></tr>\n",
       "\t<tr><td>994 </td><td>1</td><td>1</td></tr>\n",
       "\t<tr><td>995 </td><td>1</td><td>0</td></tr>\n",
       "\t<tr><td>996 </td><td>1</td><td>0</td></tr>\n",
       "\t<tr><td>997 </td><td>1</td><td>0</td></tr>\n",
       "\t<tr><td>998 </td><td>1</td><td>1</td></tr>\n",
       "\t<tr><td>999 </td><td>1</td><td>0</td></tr>\n",
       "\t<tr><td>1000</td><td>1</td><td>0</td></tr>\n",
       "</tbody>\n",
       "</table>\n"
      ],
      "text/latex": [
       "A data.frame: 2000 × 3\n",
       "\\begin{tabular}{lll}\n",
       " clust & class & Freq\\\\\n",
       " <fct> & <fct> & <int>\\\\\n",
       "\\hline\n",
       "\t 1  & 0 & 237\\\\\n",
       "\t 2  & 0 & 315\\\\\n",
       "\t 3  & 0 &  56\\\\\n",
       "\t 4  & 0 & 197\\\\\n",
       "\t 5  & 0 & 273\\\\\n",
       "\t 6  & 0 & 254\\\\\n",
       "\t 7  & 0 & 196\\\\\n",
       "\t 8  & 0 &  21\\\\\n",
       "\t 9  & 0 & 275\\\\\n",
       "\t 10 & 0 & 252\\\\\n",
       "\t 11 & 0 & 337\\\\\n",
       "\t 12 & 0 & 324\\\\\n",
       "\t 13 & 0 &  72\\\\\n",
       "\t 14 & 0 &  20\\\\\n",
       "\t 15 & 0 & 221\\\\\n",
       "\t 16 & 0 & 378\\\\\n",
       "\t 17 & 0 & 312\\\\\n",
       "\t 18 & 0 & 351\\\\\n",
       "\t 19 & 0 & 249\\\\\n",
       "\t 20 & 0 & 256\\\\\n",
       "\t 21 & 0 &  63\\\\\n",
       "\t 22 & 0 &  22\\\\\n",
       "\t 23 & 0 &  15\\\\\n",
       "\t 24 & 0 & 132\\\\\n",
       "\t 25 & 0 & 277\\\\\n",
       "\t 26 & 0 & 307\\\\\n",
       "\t 27 & 0 & 289\\\\\n",
       "\t 28 & 0 & 331\\\\\n",
       "\t 29 & 0 &  49\\\\\n",
       "\t 30 & 0 &  42\\\\\n",
       "\t ... & ... & ...\\\\\n",
       "\t 971  & 1 & 0\\\\\n",
       "\t 972  & 1 & 0\\\\\n",
       "\t 973  & 1 & 1\\\\\n",
       "\t 974  & 1 & 1\\\\\n",
       "\t 975  & 1 & 0\\\\\n",
       "\t 976  & 1 & 0\\\\\n",
       "\t 977  & 1 & 0\\\\\n",
       "\t 978  & 1 & 0\\\\\n",
       "\t 979  & 1 & 7\\\\\n",
       "\t 980  & 1 & 0\\\\\n",
       "\t 981  & 1 & 1\\\\\n",
       "\t 982  & 1 & 0\\\\\n",
       "\t 983  & 1 & 0\\\\\n",
       "\t 984  & 1 & 0\\\\\n",
       "\t 985  & 1 & 0\\\\\n",
       "\t 986  & 1 & 3\\\\\n",
       "\t 987  & 1 & 0\\\\\n",
       "\t 988  & 1 & 0\\\\\n",
       "\t 989  & 1 & 0\\\\\n",
       "\t 990  & 1 & 0\\\\\n",
       "\t 991  & 1 & 1\\\\\n",
       "\t 992  & 1 & 2\\\\\n",
       "\t 993  & 1 & 0\\\\\n",
       "\t 994  & 1 & 1\\\\\n",
       "\t 995  & 1 & 0\\\\\n",
       "\t 996  & 1 & 0\\\\\n",
       "\t 997  & 1 & 0\\\\\n",
       "\t 998  & 1 & 1\\\\\n",
       "\t 999  & 1 & 0\\\\\n",
       "\t 1000 & 1 & 0\\\\\n",
       "\\end{tabular}\n"
      ],
      "text/markdown": [
       "\n",
       "A data.frame: 2000 × 3\n",
       "\n",
       "| clust &lt;fct&gt; | class &lt;fct&gt; | Freq &lt;int&gt; |\n",
       "|---|---|---|\n",
       "| 1  | 0 | 237 |\n",
       "| 2  | 0 | 315 |\n",
       "| 3  | 0 |  56 |\n",
       "| 4  | 0 | 197 |\n",
       "| 5  | 0 | 273 |\n",
       "| 6  | 0 | 254 |\n",
       "| 7  | 0 | 196 |\n",
       "| 8  | 0 |  21 |\n",
       "| 9  | 0 | 275 |\n",
       "| 10 | 0 | 252 |\n",
       "| 11 | 0 | 337 |\n",
       "| 12 | 0 | 324 |\n",
       "| 13 | 0 |  72 |\n",
       "| 14 | 0 |  20 |\n",
       "| 15 | 0 | 221 |\n",
       "| 16 | 0 | 378 |\n",
       "| 17 | 0 | 312 |\n",
       "| 18 | 0 | 351 |\n",
       "| 19 | 0 | 249 |\n",
       "| 20 | 0 | 256 |\n",
       "| 21 | 0 |  63 |\n",
       "| 22 | 0 |  22 |\n",
       "| 23 | 0 |  15 |\n",
       "| 24 | 0 | 132 |\n",
       "| 25 | 0 | 277 |\n",
       "| 26 | 0 | 307 |\n",
       "| 27 | 0 | 289 |\n",
       "| 28 | 0 | 331 |\n",
       "| 29 | 0 |  49 |\n",
       "| 30 | 0 |  42 |\n",
       "| ... | ... | ... |\n",
       "| 971  | 1 | 0 |\n",
       "| 972  | 1 | 0 |\n",
       "| 973  | 1 | 1 |\n",
       "| 974  | 1 | 1 |\n",
       "| 975  | 1 | 0 |\n",
       "| 976  | 1 | 0 |\n",
       "| 977  | 1 | 0 |\n",
       "| 978  | 1 | 0 |\n",
       "| 979  | 1 | 7 |\n",
       "| 980  | 1 | 0 |\n",
       "| 981  | 1 | 1 |\n",
       "| 982  | 1 | 0 |\n",
       "| 983  | 1 | 0 |\n",
       "| 984  | 1 | 0 |\n",
       "| 985  | 1 | 0 |\n",
       "| 986  | 1 | 3 |\n",
       "| 987  | 1 | 0 |\n",
       "| 988  | 1 | 0 |\n",
       "| 989  | 1 | 0 |\n",
       "| 990  | 1 | 0 |\n",
       "| 991  | 1 | 1 |\n",
       "| 992  | 1 | 2 |\n",
       "| 993  | 1 | 0 |\n",
       "| 994  | 1 | 1 |\n",
       "| 995  | 1 | 0 |\n",
       "| 996  | 1 | 0 |\n",
       "| 997  | 1 | 0 |\n",
       "| 998  | 1 | 1 |\n",
       "| 999  | 1 | 0 |\n",
       "| 1000 | 1 | 0 |\n",
       "\n"
      ],
      "text/plain": [
       "     clust class Freq\n",
       "1    1     0     237 \n",
       "2    2     0     315 \n",
       "3    3     0      56 \n",
       "4    4     0     197 \n",
       "5    5     0     273 \n",
       "6    6     0     254 \n",
       "7    7     0     196 \n",
       "8    8     0      21 \n",
       "9    9     0     275 \n",
       "10   10    0     252 \n",
       "11   11    0     337 \n",
       "12   12    0     324 \n",
       "13   13    0      72 \n",
       "14   14    0      20 \n",
       "15   15    0     221 \n",
       "16   16    0     378 \n",
       "17   17    0     312 \n",
       "18   18    0     351 \n",
       "19   19    0     249 \n",
       "20   20    0     256 \n",
       "21   21    0      63 \n",
       "22   22    0      22 \n",
       "23   23    0      15 \n",
       "24   24    0     132 \n",
       "25   25    0     277 \n",
       "26   26    0     307 \n",
       "27   27    0     289 \n",
       "28   28    0     331 \n",
       "29   29    0      49 \n",
       "30   30    0      42 \n",
       "...  ...   ...   ... \n",
       "1971 971   1     0   \n",
       "1972 972   1     0   \n",
       "1973 973   1     1   \n",
       "1974 974   1     1   \n",
       "1975 975   1     0   \n",
       "1976 976   1     0   \n",
       "1977 977   1     0   \n",
       "1978 978   1     0   \n",
       "1979 979   1     7   \n",
       "1980 980   1     0   \n",
       "1981 981   1     1   \n",
       "1982 982   1     0   \n",
       "1983 983   1     0   \n",
       "1984 984   1     0   \n",
       "1985 985   1     0   \n",
       "1986 986   1     3   \n",
       "1987 987   1     0   \n",
       "1988 988   1     0   \n",
       "1989 989   1     0   \n",
       "1990 990   1     0   \n",
       "1991 991   1     1   \n",
       "1992 992   1     2   \n",
       "1993 993   1     0   \n",
       "1994 994   1     1   \n",
       "1995 995   1     0   \n",
       "1996 996   1     0   \n",
       "1997 997   1     0   \n",
       "1998 998   1     1   \n",
       "1999 999   1     0   \n",
       "2000 1000  1     0   "
      ]
     },
     "metadata": {},
     "output_type": "display_data"
    }
   ],
   "source": [
    "#### k-means with 1000 clusters\n",
    "kmod <- kmeans(train[,1:31],centers = 1000)\n",
    "ktab <- data.frame(table(clust=kmod$cluster, class=train$Class))\n",
    "ktab"
   ]
  },
  {
   "cell_type": "code",
   "execution_count": 34,
   "metadata": {},
   "outputs": [
    {
     "data": {
      "text/html": [
       "<table>\n",
       "<caption>A data.frame: 1 × 1</caption>\n",
       "<thead>\n",
       "\t<tr><th scope=col>n</th></tr>\n",
       "\t<tr><th scope=col>&lt;int&gt;</th></tr>\n",
       "</thead>\n",
       "<tbody>\n",
       "\t<tr><td>217</td></tr>\n",
       "</tbody>\n",
       "</table>\n"
      ],
      "text/latex": [
       "A data.frame: 1 × 1\n",
       "\\begin{tabular}{l}\n",
       " n\\\\\n",
       " <int>\\\\\n",
       "\\hline\n",
       "\t 217\\\\\n",
       "\\end{tabular}\n"
      ],
      "text/markdown": [
       "\n",
       "A data.frame: 1 × 1\n",
       "\n",
       "| n &lt;int&gt; |\n",
       "|---|\n",
       "| 217 |\n",
       "\n"
      ],
      "text/plain": [
       "  n  \n",
       "1 217"
      ]
     },
     "metadata": {},
     "output_type": "display_data"
    }
   ],
   "source": [
    "#### select clusters having at least one minority class (1)\n",
    "ktab %>% filter(class==1 & Freq >0) %>% select(clust) %>% tally()"
   ]
  },
  {
   "cell_type": "code",
   "execution_count": 35,
   "metadata": {},
   "outputs": [],
   "source": [
    "clust <- ktab %>% filter(class==1 & Freq >0) %>% select(clust) "
   ]
  },
  {
   "cell_type": "code",
   "execution_count": 36,
   "metadata": {},
   "outputs": [],
   "source": [
    "train$cluster <- kmod$cluster\n",
    "\n",
    "train2 <- train %>% filter(cluster %in% as.numeric(clust$clust))"
   ]
  },
  {
   "cell_type": "code",
   "execution_count": 37,
   "metadata": {
    "scrolled": false
   },
   "outputs": [
    {
     "data": {
      "text/plain": [
       "      Time              V1                  V2                 V3           \n",
       " Min.   :   402   Min.   :-40.47014   Min.   :-38.4368   Min.   :-33.68098  \n",
       " 1st Qu.: 48428   1st Qu.: -0.91665   1st Qu.: -0.5196   1st Qu.: -0.71862  \n",
       " Median : 78858   Median :  0.02396   Median :  0.1054   Median :  0.29135  \n",
       " Mean   : 89049   Mean   : -0.00270   Mean   :  0.1066   Mean   :  0.09007  \n",
       " 3rd Qu.:139088   3rd Qu.:  1.28729   3rd Qu.:  0.8318   3rd Qu.:  1.10921  \n",
       " Max.   :170467   Max.   :  2.45189   Max.   : 19.1672   Max.   :  4.22611  \n",
       "       V4                 V5                  V6                  V7           \n",
       " Min.   :-5.41631   Min.   :-23.66973   Min.   :-23.49671   Min.   :-37.06031  \n",
       " 1st Qu.:-0.80737   1st Qu.: -0.67791   1st Qu.: -0.76051   1st Qu.: -0.58485  \n",
       " Median : 0.03668   Median : -0.07334   Median : -0.27130   Median : -0.00054  \n",
       " Mean   : 0.07009   Mean   :  0.00323   Mean   : -0.02189   Mean   : -0.09109  \n",
       " 3rd Qu.: 0.81024   3rd Qu.:  0.58901   3rd Qu.:  0.37416   3rd Qu.:  0.51632  \n",
       " Max.   :12.69954   Max.   : 34.09931   Max.   :  9.91117   Max.   : 13.72371  \n",
       "       V8                  V9                  V10           \n",
       " Min.   :-41.48482   Min.   :-11.126624   Min.   :-23.22826  \n",
       " 1st Qu.: -0.19979   1st Qu.: -0.601528   1st Qu.: -0.54127  \n",
       " Median :  0.02938   Median : -0.006786   Median : -0.11176  \n",
       " Mean   :  0.01195   Mean   :  0.090812   Mean   : -0.03703  \n",
       " 3rd Qu.:  0.32435   3rd Qu.:  0.751144   3rd Qu.:  0.43310  \n",
       " Max.   : 20.00721   Max.   : 10.370658   Max.   : 15.24569  \n",
       "      V11                V12                 V13                V14           \n",
       " Min.   :-4.11026   Min.   :-18.68371   Min.   :-3.96176   Min.   :-19.21432  \n",
       " 1st Qu.:-0.69697   1st Qu.: -0.62814   1st Qu.:-0.58946   1st Qu.: -0.38449  \n",
       " Median : 0.04725   Median :  0.06158   Median : 0.06713   Median :  0.10305  \n",
       " Mean   : 0.10269   Mean   : -0.20096   Mean   : 0.11228   Mean   :  0.05459  \n",
       " 3rd Qu.: 0.85997   3rd Qu.:  0.57039   3rd Qu.: 0.81320   3rd Qu.:  0.58859  \n",
       " Max.   :12.01891   Max.   :  4.84645   Max.   : 4.26285   Max.   :  7.66773  \n",
       "      V15                V16                 V17                 V18           \n",
       " Min.   :-4.49894   Min.   :-14.12985   Min.   :-25.16280   Min.   :-9.498746  \n",
       " 1st Qu.:-0.63300   1st Qu.: -0.47651   1st Qu.: -0.44704   1st Qu.:-0.493533  \n",
       " Median : 0.02288   Median :  0.06960   Median : -0.03140   Median :-0.000325  \n",
       " Mean   :-0.03438   Mean   : -0.01571   Mean   :  0.00541   Mean   :-0.004617  \n",
       " 3rd Qu.: 0.64211   3rd Qu.:  0.53334   3rd Qu.:  0.43828   3rd Qu.: 0.505059  \n",
       " Max.   : 5.68590   Max.   :  5.72032   Max.   :  9.25353   Max.   : 4.295648  \n",
       "      V19                 V20                 V21           \n",
       " Min.   :-4.932733   Min.   :-21.02482   Min.   :-20.26205  \n",
       " 1st Qu.:-0.468736   1st Qu.: -0.21018   1st Qu.: -0.23179  \n",
       " Median :-0.009095   Median : -0.06696   Median : -0.04482  \n",
       " Mean   :-0.006026   Mean   : -0.01929   Mean   : -0.01264  \n",
       " 3rd Qu.: 0.457559   3rd Qu.:  0.12076   3rd Qu.:  0.16188  \n",
       " Max.   : 5.228342   Max.   : 13.53072   Max.   : 27.20284  \n",
       "      V22                 V23                  V24           \n",
       " Min.   :-8.887017   Min.   :-25.356744   Min.   :-2.824849  \n",
       " 1st Qu.:-0.534090   1st Qu.: -0.154453   1st Qu.:-0.351375  \n",
       " Median : 0.008462   Median : -0.011226   Median : 0.043105  \n",
       " Mean   :-0.008929   Mean   :  0.007058   Mean   : 0.003335  \n",
       " 3rd Qu.: 0.497599   3rd Qu.:  0.143208   3rd Qu.: 0.433508  \n",
       " Max.   : 5.812739   Max.   : 19.002942   Max.   : 3.951679  \n",
       "      V25                 V26                V27                 V28           \n",
       " Min.   :-6.035054   Min.   :-1.69702   Min.   :-9.845808   Min.   :-8.307955  \n",
       " 1st Qu.:-0.309689   1st Qu.:-0.31742   1st Qu.:-0.069229   1st Qu.:-0.051849  \n",
       " Median : 0.029983   Median :-0.03360   Median : 0.001711   Median : 0.012148  \n",
       " Mean   : 0.009162   Mean   : 0.01166   Mean   : 0.000966   Mean   : 0.000108  \n",
       " 3rd Qu.: 0.356612   3rd Qu.: 0.26491   3rd Qu.: 0.089288   3rd Qu.: 0.075816  \n",
       " Max.   : 5.541598   Max.   : 3.11929   Max.   : 9.879903   Max.   :15.942151  \n",
       "     Amount            Class             cluster   \n",
       " Min.   :   0.00   Min.   :0.000000   Min.   :  6  \n",
       " 1st Qu.:   5.94   1st Qu.:0.000000   1st Qu.:212  \n",
       " Median :  20.00   Median :0.000000   Median :470  \n",
       " Mean   :  65.98   Mean   :0.006627   Mean   :480  \n",
       " 3rd Qu.:  68.70   3rd Qu.:0.000000   3rd Qu.:737  \n",
       " Max.   :5707.82   Max.   :1.000000   Max.   :999  "
      ]
     },
     "metadata": {},
     "output_type": "display_data"
    },
    {
     "data": {
      "text/plain": [
       "      Time                V1                 V2                  V3          \n",
       " Min.   :   190.1   Min.   :-36.8023   Min.   :-63.34470   Min.   :-48.3256  \n",
       " 1st Qu.: 53627.0   1st Qu.: -0.4801   1st Qu.: -1.27736   1st Qu.: -0.7643  \n",
       " Median : 84747.4   Median : -0.1459   Median :  0.05154   Median : -0.5043  \n",
       " Mean   : 94789.1   Mean   : -0.6807   Mean   : -1.19966   Mean   : -0.5213  \n",
       " 3rd Qu.:141170.7   3rd Qu.:  0.2660   3rd Qu.:  0.22567   3rd Qu.:  0.6694  \n",
       " Max.   :172650.8   Max.   :  1.2142   Max.   :  1.11963   Max.   :  1.2982  \n",
       "       V4                 V5                  V6                 V7           \n",
       " Min.   :-1.20980   Min.   :-113.7433   Min.   :-0.74605   Min.   : -0.88012  \n",
       " 1st Qu.:-0.15522   1st Qu.:  -0.5185   1st Qu.:-0.09999   1st Qu.: -0.14242  \n",
       " Median : 0.07495   Median :  -0.1634   Median : 0.01973   Median :  0.03004  \n",
       " Mean   : 0.26626   Mean   :  -0.7888   Mean   : 0.43132   Mean   :  0.82749  \n",
       " 3rd Qu.: 0.24277   3rd Qu.:   0.3088   3rd Qu.: 0.28413   3rd Qu.:  0.33232  \n",
       " Max.   :16.87534   Max.   :   0.8975   Max.   :73.30163   Max.   :120.58949  \n",
       "       V8                  V9                V10                 V11          \n",
       " Min.   :-27.34736   Min.   :-4.21064   Min.   :-12.00549   Min.   :-1.31134  \n",
       " 1st Qu.: -0.17203   1st Qu.:-0.25684   1st Qu.: -0.17864   1st Qu.:-0.27387  \n",
       " Median : -0.01692   Median :-0.11883   Median :  0.01132   Median : 0.01253  \n",
       " Mean   : -0.19864   Mean   :-0.06263   Mean   : -0.17861   Mean   : 0.01301  \n",
       " 3rd Qu.:  0.07430   3rd Qu.: 0.01381   3rd Qu.:  0.08419   3rd Qu.: 0.16458  \n",
       " Max.   :  0.48873   Max.   : 2.12467   Max.   :  0.69983   Max.   : 6.85390  \n",
       "      V12                V13                 V14                V15          \n",
       " Min.   :-9.18942   Min.   :-0.634253   Min.   :-6.79594   Min.   :-1.61155  \n",
       " 1st Qu.: 0.06387   1st Qu.:-0.168617   1st Qu.:-0.13492   1st Qu.:-0.21274  \n",
       " Median : 0.16175   Median :-0.093576   Median :-0.05649   Median :-0.07730  \n",
       " Mean   :-0.03973   Mean   : 0.041895   Mean   : 0.05864   Mean   : 0.01363  \n",
       " 3rd Qu.: 0.23395   3rd Qu.:-0.005316   3rd Qu.: 0.03829   3rd Qu.: 0.26721  \n",
       " Max.   : 1.87998   Max.   : 7.126883   Max.   : 5.98921   Max.   : 8.87774  \n",
       "      V16                 V17                 V18                V19           \n",
       " Min.   :-0.889877   Min.   :-7.173805   Min.   :-1.96804   Min.   :-7.213527  \n",
       " 1st Qu.:-0.074254   1st Qu.:-0.080519   1st Qu.:-0.09125   1st Qu.:-0.085242  \n",
       " Median :-0.002359   Median :-0.027815   Median : 0.01270   Median :-0.008305  \n",
       " Mean   : 0.032705   Mean   : 0.006238   Mean   : 0.04063   Mean   :-0.069911  \n",
       " 3rd Qu.: 0.050649   3rd Qu.: 0.048528   3rd Qu.: 0.11327   3rd Qu.: 0.046215  \n",
       " Max.   :17.315112   Max.   : 1.413407   Max.   : 5.04107   Max.   : 5.501747  \n",
       "      V20                 V21                 V22           \n",
       " Min.   :-54.49772   Min.   :-21.62012   Min.   :-10.93314  \n",
       " 1st Qu.: -0.06985   1st Qu.: -0.05241   1st Qu.: -0.15271  \n",
       " Median : -0.00981   Median :  0.01118   Median : -0.04145  \n",
       " Mean   :  0.40443   Mean   :  0.10752   Mean   : -0.09088  \n",
       " 3rd Qu.:  0.18855   3rd Qu.:  0.10622   3rd Qu.:  0.12099  \n",
       " Max.   : 39.42090   Max.   : 11.50258   Max.   :  5.71230  \n",
       "      V23                  V24                 V25          \n",
       " Min.   :-17.173665   Min.   :-0.519404   Min.   :-7.08132  \n",
       " 1st Qu.: -0.044254   1st Qu.:-0.037959   1st Qu.:-0.14592  \n",
       " Median : -0.002681   Median : 0.002042   Median :-0.04118  \n",
       " Mean   : -0.119886   Mean   : 0.015377   Mean   :-0.04633  \n",
       " 3rd Qu.:  0.045468   3rd Qu.: 0.039946   3rd Qu.: 0.12921  \n",
       " Max.   :  7.040028   Max.   : 4.584549   Max.   : 4.55468  \n",
       "      V26                 V27                V28                 Amount        \n",
       " Min.   :-2.604551   Min.   :-3.60248   Min.   :-15.430084   Min.   :   17.47  \n",
       " 1st Qu.:-0.033185   1st Qu.:-0.02631   1st Qu.: -0.016383   1st Qu.:   43.56  \n",
       " Median : 0.003407   Median : 0.00043   Median : -0.001188   Median :   56.70  \n",
       " Mean   : 0.000872   Mean   : 0.03720   Mean   : -0.003998   Mean   :  471.84  \n",
       " 3rd Qu.: 0.043836   3rd Qu.: 0.02274   3rd Qu.:  0.015376   3rd Qu.:  343.74  \n",
       " Max.   : 3.415636   Max.   :31.61220   Max.   :  3.450224   Max.   :25691.16  \n",
       "     Class         \n",
       " Min.   :0.000000  \n",
       " 1st Qu.:0.000000  \n",
       " Median :0.000000  \n",
       " Mean   :0.001916  \n",
       " 3rd Qu.:0.000000  \n",
       " Max.   :0.076923  "
      ]
     },
     "metadata": {},
     "output_type": "display_data"
    }
   ],
   "source": [
    "summary(train2)\n",
    "summary(kmod$centers)"
   ]
  },
  {
   "cell_type": "code",
   "execution_count": 41,
   "metadata": {},
   "outputs": [],
   "source": [
    "train2$cluster <- NULL"
   ]
  },
  {
   "cell_type": "code",
   "execution_count": 42,
   "metadata": {},
   "outputs": [
    {
     "data": {
      "text/plain": [
       "\n",
       "Call:\n",
       "glm(formula = Class ~ ., family = \"binomial\", data = train2)\n",
       "\n",
       "Deviance Residuals: \n",
       "    Min       1Q   Median       3Q      Max  \n",
       "-5.0083  -0.0486  -0.0306  -0.0186   4.2068  \n",
       "\n",
       "Coefficients:\n",
       "              Estimate Std. Error z value Pr(>|z|)    \n",
       "(Intercept) -7.861e+00  3.547e-01 -22.164  < 2e-16 ***\n",
       "Time        -7.659e-09  2.964e-06  -0.003 0.997938    \n",
       "V1           1.116e-01  6.236e-02   1.789 0.073633 .  \n",
       "V2           2.031e-01  1.014e-01   2.003 0.045185 *  \n",
       "V3           2.517e-02  7.446e-02   0.338 0.735341    \n",
       "V4           6.539e-01  1.022e-01   6.399 1.56e-10 ***\n",
       "V5           1.671e-01  1.010e-01   1.655 0.097962 .  \n",
       "V6          -2.385e-01  1.089e-01  -2.190 0.028509 *  \n",
       "V7          -1.933e-01  1.052e-01  -1.838 0.066094 .  \n",
       "V8          -2.101e-01  4.961e-02  -4.236 2.28e-05 ***\n",
       "V9          -1.110e-01  1.527e-01  -0.727 0.467264    \n",
       "V10         -5.606e-01  1.419e-01  -3.951 7.77e-05 ***\n",
       "V11         -2.879e-02  1.107e-01  -0.260 0.794755    \n",
       "V12          8.830e-02  1.103e-01   0.800 0.423566    \n",
       "V13         -3.783e-01  1.059e-01  -3.571 0.000356 ***\n",
       "V14         -6.860e-01  8.628e-02  -7.951 1.86e-15 ***\n",
       "V15         -4.508e-02  1.171e-01  -0.385 0.700161    \n",
       "V16         -1.457e-01  1.735e-01  -0.840 0.401115    \n",
       "V17         -5.528e-02  9.317e-02  -0.593 0.552948    \n",
       "V18         -3.008e-02  1.743e-01  -0.173 0.863003    \n",
       "V19          2.776e-02  1.357e-01   0.205 0.837894    \n",
       "V20         -4.783e-01  1.387e-01  -3.449 0.000562 ***\n",
       "V21          2.557e-01  8.683e-02   2.945 0.003226 ** \n",
       "V22          6.499e-01  1.841e-01   3.529 0.000416 ***\n",
       "V23         -8.293e-02  9.753e-02  -0.850 0.395162    \n",
       "V24         -3.912e-02  2.037e-01  -0.192 0.847717    \n",
       "V25          3.198e-01  1.879e-01   1.702 0.088765 .  \n",
       "V26         -1.515e-01  2.541e-01  -0.596 0.550951    \n",
       "V27         -7.321e-01  1.987e-01  -3.685 0.000229 ***\n",
       "V28         -3.027e-01  1.812e-01  -1.671 0.094805 .  \n",
       "Amount       3.733e-03  8.478e-04   4.404 1.06e-05 ***\n",
       "---\n",
       "Signif. codes:  0 '***' 0.001 '**' 0.01 '*' 0.05 '.' 0.1 ' ' 1\n",
       "\n",
       "(Dispersion parameter for binomial family taken to be 1)\n",
       "\n",
       "    Null deviance: 4173.2  on 52360  degrees of freedom\n",
       "Residual deviance: 1054.1  on 52330  degrees of freedom\n",
       "AIC: 1116.1\n",
       "\n",
       "Number of Fisher Scoring iterations: 10\n"
      ]
     },
     "metadata": {},
     "output_type": "display_data"
    }
   ],
   "source": [
    "#### run logistic regression model\n",
    "mod4 <- glm(Class ~., data=train2, family=\"binomial\")\n",
    "summary(mod4)"
   ]
  },
  {
   "cell_type": "code",
   "execution_count": 43,
   "metadata": {},
   "outputs": [],
   "source": [
    "pred4 <- predict(mod4,newdata=test,type=\"response\")"
   ]
  },
  {
   "cell_type": "code",
   "execution_count": 44,
   "metadata": {},
   "outputs": [
    {
     "data": {
      "image/png": "[encoded data removed]",
      "text/plain": [
       "Plot with title \"Histogram of pred4\""
      ]
     },
     "metadata": {
      "image/png": {
       "height": 420,
       "width": 420
      }
     },
     "output_type": "display_data"
    }
   ],
   "source": [
    "hist(pred4)"
   ]
  },
  {
   "cell_type": "code",
   "execution_count": 45,
   "metadata": {},
   "outputs": [
    {
     "data": {
      "text/plain": [
       "   pred\n",
       "obs     0     1\n",
       "  0 85228    70\n",
       "  1    49    96"
      ]
     },
     "metadata": {},
     "output_type": "display_data"
    }
   ],
   "source": [
    "table(obs=test$Class, pred=ifelse(pred4>0.5,1,0))"
   ]
  },
  {
   "cell_type": "code",
   "execution_count": 51,
   "metadata": {},
   "outputs": [
    {
     "name": "stderr",
     "output_type": "stream",
     "text": [
      "Setting levels: control = 0, case = 1\n",
      "\n",
      "Setting direction: controls < cases\n",
      "\n"
     ]
    },
    {
     "data": {
      "text/plain": [
       "\n",
       "Call:\n",
       "roc.default(response = test$Class, predictor = pred4)\n",
       "\n",
       "Data: pred4 in 85298 controls (test$Class 0) < 145 cases (test$Class 1).\n",
       "Area under the curve: 0.9783"
      ]
     },
     "metadata": {},
     "output_type": "display_data"
    }
   ],
   "source": [
    "### AUC\n",
    "roc1 <- pROC::roc(test$Class, pred4)\n",
    "roc1"
   ]
  },
  {
   "cell_type": "code",
   "execution_count": 46,
   "metadata": {},
   "outputs": [
    {
     "name": "stdout",
     "output_type": "stream",
     "text": [
      "Growing trees.. Progress: 74%. Estimated remaining time: 10 seconds.\n"
     ]
    },
    {
     "data": {
      "text/plain": [
       "Ranger result\n",
       "\n",
       "Call:\n",
       " ranger::ranger(Class ~ ., data = train2) \n",
       "\n",
       "Type:                             Regression \n",
       "Number of trees:                  500 \n",
       "Sample size:                      52361 \n",
       "Number of independent variables:  30 \n",
       "Mtry:                             5 \n",
       "Target node size:                 5 \n",
       "Variable importance mode:         none \n",
       "Splitrule:                        variance \n",
       "OOB prediction error (MSE):       0.001232496 \n",
       "R squared (OOB):                  0.8127839 "
      ]
     },
     "metadata": {},
     "output_type": "display_data"
    }
   ],
   "source": [
    "#### run random forest model\n",
    "mod5 <- ranger::ranger(Class ~., data=train2)\n",
    "mod5"
   ]
  },
  {
   "cell_type": "code",
   "execution_count": 47,
   "metadata": {},
   "outputs": [
    {
     "data": {
      "image/png": "[encoded data removed]",
      "text/plain": [
       "Plot with title \"Histogram of pred5$predictions\""
      ]
     },
     "metadata": {
      "image/png": {
       "height": 420,
       "width": 420
      }
     },
     "output_type": "display_data"
    }
   ],
   "source": [
    "pred5 <- predict(mod5,data=test)\n",
    "hist(pred5$predictions)"
   ]
  },
  {
   "cell_type": "code",
   "execution_count": 48,
   "metadata": {},
   "outputs": [
    {
     "data": {
      "text/plain": [
       "   pred\n",
       "obs     0     1\n",
       "  0 85277    21\n",
       "  1    34   111"
      ]
     },
     "metadata": {},
     "output_type": "display_data"
    }
   ],
   "source": [
    "table(obs=test$Class, pred=ifelse(pred5$predictions>0.5,1,0))"
   ]
  },
  {
   "cell_type": "code",
   "execution_count": 52,
   "metadata": {},
   "outputs": [
    {
     "name": "stderr",
     "output_type": "stream",
     "text": [
      "Setting levels: control = 0, case = 1\n",
      "\n",
      "Setting direction: controls < cases\n",
      "\n"
     ]
    },
    {
     "data": {
      "text/plain": [
       "\n",
       "Call:\n",
       "roc.default(response = test$Class, predictor = pred5$predictions)\n",
       "\n",
       "Data: pred5$predictions in 85298 controls (test$Class 0) < 145 cases (test$Class 1).\n",
       "Area under the curve: 0.9567"
      ]
     },
     "metadata": {},
     "output_type": "display_data"
    }
   ],
   "source": [
    "### AUC\n",
    "roc2 <- pROC::roc(test$Class, pred5$predictions)\n",
    "roc2"
   ]
  },
  {
   "cell_type": "code",
   "execution_count": 53,
   "metadata": {},
   "outputs": [
    {
     "data": {
      "text/plain": [
       "   pred\n",
       "obs      0      1\n",
       "  0 284268     47\n",
       "  1     38    454"
      ]
     },
     "metadata": {},
     "output_type": "display_data"
    },
    {
     "data": {
      "image/png": "[encoded data removed]",
      "text/plain": [
       "Plot with title \"Histogram of pred5a$predictions\""
      ]
     },
     "metadata": {
      "image/png": {
       "height": 420,
       "width": 420
      }
     },
     "output_type": "display_data"
    }
   ],
   "source": [
    "### Predict on whole dataset\n",
    "pred5a <- predict(mod5,data=df)\n",
    "hist(pred5a$predictions)\n",
    "table(obs=df$Class, pred=ifelse(pred5a$predictions>0.5,1,0))"
   ]
  },
  {
   "cell_type": "code",
   "execution_count": 54,
   "metadata": {},
   "outputs": [
    {
     "name": "stderr",
     "output_type": "stream",
     "text": [
      "Setting levels: control = 0, case = 1\n",
      "\n",
      "Setting direction: controls < cases\n",
      "\n"
     ]
    },
    {
     "data": {
      "text/plain": [
       "\n",
       "Call:\n",
       "roc.default(response = df$Class, predictor = pred5a$predictions)\n",
       "\n",
       "Data: pred5a$predictions in 284315 controls (df$Class 0) < 492 cases (df$Class 1).\n",
       "Area under the curve: 0.9874"
      ]
     },
     "metadata": {},
     "output_type": "display_data"
    }
   ],
   "source": [
    "roc1 <- pROC::roc(df$Class, pred5a$predictions)\n",
    "roc1"
   ]
  },
  {
   "cell_type": "code",
   "execution_count": null,
   "metadata": {},
   "outputs": [],
   "source": []
  },
  {
   "cell_type": "code",
   "execution_count": null,
   "metadata": {},
   "outputs": [],
   "source": []
  }
 ],
 "metadata": {
  "kernelspec": {
   "display_name": "R",
   "language": "R",
   "name": "ir"
  },
  "language_info": {
   "codemirror_mode": "r",
   "file_extension": ".r",
   "mimetype": "text/x-r-source",
   "name": "R",
   "pygments_lexer": "r",
   "version": "4.0.0"
  }
 },
 "nbformat": 4,
 "nbformat_minor": 2
}
