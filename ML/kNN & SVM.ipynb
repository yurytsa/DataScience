{
 "cells": [
  {
   "cell_type": "markdown",
   "metadata": {},
   "source": [
    "# kNN algorithm"
   ]
  },
  {
   "cell_type": "code",
   "execution_count": 12,
   "metadata": {},
   "outputs": [
    {
     "data": {
      "text/html": [
       "<table>\n",
       "<thead><tr><th></th><th scope=col>mpg</th><th scope=col>cyl</th><th scope=col>disp</th><th scope=col>hp</th><th scope=col>drat</th><th scope=col>wt</th><th scope=col>qsec</th><th scope=col>vs</th><th scope=col>am</th><th scope=col>gear</th><th scope=col>carb</th></tr></thead>\n",
       "<tbody>\n",
       "\t<tr><th scope=row>Mazda RX4</th><td>21.0 </td><td>6    </td><td>160  </td><td>110  </td><td>3.90 </td><td>2.620</td><td>16.46</td><td>0    </td><td>1    </td><td>4    </td><td>4    </td></tr>\n",
       "\t<tr><th scope=row>Mazda RX4 Wag</th><td>21.0 </td><td>6    </td><td>160  </td><td>110  </td><td>3.90 </td><td>2.875</td><td>17.02</td><td>0    </td><td>1    </td><td>4    </td><td>4    </td></tr>\n",
       "\t<tr><th scope=row>Datsun 710</th><td>22.8 </td><td>4    </td><td>108  </td><td> 93  </td><td>3.85 </td><td>2.320</td><td>18.61</td><td>1    </td><td>1    </td><td>4    </td><td>1    </td></tr>\n",
       "\t<tr><th scope=row>Hornet 4 Drive</th><td>21.4 </td><td>6    </td><td>258  </td><td>110  </td><td>3.08 </td><td>3.215</td><td>19.44</td><td>1    </td><td>0    </td><td>3    </td><td>1    </td></tr>\n",
       "\t<tr><th scope=row>Hornet Sportabout</th><td>18.7 </td><td>8    </td><td>360  </td><td>175  </td><td>3.15 </td><td>3.440</td><td>17.02</td><td>0    </td><td>0    </td><td>3    </td><td>2    </td></tr>\n",
       "\t<tr><th scope=row>Valiant</th><td>18.1 </td><td>6    </td><td>225  </td><td>105  </td><td>2.76 </td><td>3.460</td><td>20.22</td><td>1    </td><td>0    </td><td>3    </td><td>1    </td></tr>\n",
       "</tbody>\n",
       "</table>\n"
      ],
      "text/latex": [
       "\\begin{tabular}{r|lllllllllll}\n",
       "  & mpg & cyl & disp & hp & drat & wt & qsec & vs & am & gear & carb\\\\\n",
       "\\hline\n",
       "\tMazda RX4 & 21.0  & 6     & 160   & 110   & 3.90  & 2.620 & 16.46 & 0     & 1     & 4     & 4    \\\\\n",
       "\tMazda RX4 Wag & 21.0  & 6     & 160   & 110   & 3.90  & 2.875 & 17.02 & 0     & 1     & 4     & 4    \\\\\n",
       "\tDatsun 710 & 22.8  & 4     & 108   &  93   & 3.85  & 2.320 & 18.61 & 1     & 1     & 4     & 1    \\\\\n",
       "\tHornet 4 Drive & 21.4  & 6     & 258   & 110   & 3.08  & 3.215 & 19.44 & 1     & 0     & 3     & 1    \\\\\n",
       "\tHornet Sportabout & 18.7  & 8     & 360   & 175   & 3.15  & 3.440 & 17.02 & 0     & 0     & 3     & 2    \\\\\n",
       "\tValiant & 18.1  & 6     & 225   & 105   & 2.76  & 3.460 & 20.22 & 1     & 0     & 3     & 1    \\\\\n",
       "\\end{tabular}\n"
      ],
      "text/markdown": [
       "\n",
       "| <!--/--> | mpg | cyl | disp | hp | drat | wt | qsec | vs | am | gear | carb | \n",
       "|---|---|---|---|---|---|\n",
       "| Mazda RX4 | 21.0  | 6     | 160   | 110   | 3.90  | 2.620 | 16.46 | 0     | 1     | 4     | 4     | \n",
       "| Mazda RX4 Wag | 21.0  | 6     | 160   | 110   | 3.90  | 2.875 | 17.02 | 0     | 1     | 4     | 4     | \n",
       "| Datsun 710 | 22.8  | 4     | 108   |  93   | 3.85  | 2.320 | 18.61 | 1     | 1     | 4     | 1     | \n",
       "| Hornet 4 Drive | 21.4  | 6     | 258   | 110   | 3.08  | 3.215 | 19.44 | 1     | 0     | 3     | 1     | \n",
       "| Hornet Sportabout | 18.7  | 8     | 360   | 175   | 3.15  | 3.440 | 17.02 | 0     | 0     | 3     | 2     | \n",
       "| Valiant | 18.1  | 6     | 225   | 105   | 2.76  | 3.460 | 20.22 | 1     | 0     | 3     | 1     | \n",
       "\n",
       "\n"
      ],
      "text/plain": [
       "                  mpg  cyl disp hp  drat wt    qsec  vs am gear carb\n",
       "Mazda RX4         21.0 6   160  110 3.90 2.620 16.46 0  1  4    4   \n",
       "Mazda RX4 Wag     21.0 6   160  110 3.90 2.875 17.02 0  1  4    4   \n",
       "Datsun 710        22.8 4   108   93 3.85 2.320 18.61 1  1  4    1   \n",
       "Hornet 4 Drive    21.4 6   258  110 3.08 3.215 19.44 1  0  3    1   \n",
       "Hornet Sportabout 18.7 8   360  175 3.15 3.440 17.02 0  0  3    2   \n",
       "Valiant           18.1 6   225  105 2.76 3.460 20.22 1  0  3    1   "
      ]
     },
     "metadata": {},
     "output_type": "display_data"
    }
   ],
   "source": [
    "library(class)\n",
    "head(mtcars)"
   ]
  },
  {
   "cell_type": "code",
   "execution_count": 15,
   "metadata": {},
   "outputs": [],
   "source": [
    "# get train and test randomly - train = 22, test = 10\n",
    "ids <- sample(x = 1:nrow(mtcars), size=nrow(mtcars)-10)\n",
    "\n",
    "x1 <- mtcars[ids,c(\"mpg\",\"wt\")]\n",
    "y1 <- mtcars[ids,\"am\"]\n",
    "\n",
    "x2 <- mtcars[-ids,c(\"mpg\",\"wt\")]\n",
    "y2 <- mtcars[-ids,\"am\"]\n"
   ]
  },
  {
   "cell_type": "code",
   "execution_count": 17,
   "metadata": {},
   "outputs": [
    {
     "data": {
      "text/html": [
       "<ol class=list-inline>\n",
       "\t<li>0</li>\n",
       "\t<li>0</li>\n",
       "\t<li>0</li>\n",
       "\t<li>1</li>\n",
       "\t<li>0</li>\n",
       "\t<li>1</li>\n",
       "\t<li>0</li>\n",
       "\t<li>1</li>\n",
       "\t<li>1</li>\n",
       "\t<li>0</li>\n",
       "</ol>\n",
       "\n",
       "<details>\n",
       "\t<summary style=display:list-item;cursor:pointer>\n",
       "\t\t<strong>Levels</strong>:\n",
       "\t</summary>\n",
       "\t<ol class=list-inline>\n",
       "\t\t<li>'0'</li>\n",
       "\t\t<li>'1'</li>\n",
       "\t</ol>\n",
       "</details>"
      ],
      "text/latex": [
       "\\begin{enumerate*}\n",
       "\\item 0\n",
       "\\item 0\n",
       "\\item 0\n",
       "\\item 1\n",
       "\\item 0\n",
       "\\item 1\n",
       "\\item 0\n",
       "\\item 1\n",
       "\\item 1\n",
       "\\item 0\n",
       "\\end{enumerate*}\n",
       "\n",
       "\\emph{Levels}: \\begin{enumerate*}\n",
       "\\item '0'\n",
       "\\item '1'\n",
       "\\end{enumerate*}\n"
      ],
      "text/markdown": [
       "1. 0\n",
       "2. 0\n",
       "3. 0\n",
       "4. 1\n",
       "5. 0\n",
       "6. 1\n",
       "7. 0\n",
       "8. 1\n",
       "9. 1\n",
       "10. 0\n",
       "\n",
       "\n",
       "\n",
       "**Levels**: 1. '0'\n",
       "2. '1'\n",
       "\n",
       "\n"
      ],
      "text/plain": [
       " [1] 0 0 0 1 0 1 0 1 1 0\n",
       "Levels: 0 1"
      ]
     },
     "metadata": {},
     "output_type": "display_data"
    }
   ],
   "source": [
    "mod.knn <- knn(train = x1, test = x2, cl=y1)\n",
    "\n",
    "mod.knn\n"
   ]
  },
  {
   "cell_type": "code",
   "execution_count": 18,
   "metadata": {},
   "outputs": [
    {
     "data": {
      "text/plain": [
       "    observ\n",
       "pred 0 1\n",
       "   0 5 1\n",
       "   1 1 3"
      ]
     },
     "metadata": {},
     "output_type": "display_data"
    }
   ],
   "source": [
    "table(pred=mod.knn, observ=y2)"
   ]
  },
  {
   "cell_type": "markdown",
   "metadata": {},
   "source": [
    "# Support Vector Machine (SVM)"
   ]
  },
  {
   "cell_type": "code",
   "execution_count": 19,
   "metadata": {},
   "outputs": [
    {
     "data": {
      "text/html": [
       "<table>\n",
       "<thead><tr><th></th><th scope=col>mpg</th><th scope=col>cyl</th><th scope=col>disp</th><th scope=col>hp</th><th scope=col>drat</th><th scope=col>wt</th><th scope=col>qsec</th><th scope=col>vs</th><th scope=col>am</th><th scope=col>gear</th><th scope=col>carb</th></tr></thead>\n",
       "<tbody>\n",
       "\t<tr><th scope=row>Mazda RX4</th><td>21.0 </td><td>6    </td><td>160  </td><td>110  </td><td>3.90 </td><td>2.620</td><td>16.46</td><td>0    </td><td>1    </td><td>4    </td><td>4    </td></tr>\n",
       "\t<tr><th scope=row>Mazda RX4 Wag</th><td>21.0 </td><td>6    </td><td>160  </td><td>110  </td><td>3.90 </td><td>2.875</td><td>17.02</td><td>0    </td><td>1    </td><td>4    </td><td>4    </td></tr>\n",
       "\t<tr><th scope=row>Datsun 710</th><td>22.8 </td><td>4    </td><td>108  </td><td> 93  </td><td>3.85 </td><td>2.320</td><td>18.61</td><td>1    </td><td>1    </td><td>4    </td><td>1    </td></tr>\n",
       "\t<tr><th scope=row>Hornet 4 Drive</th><td>21.4 </td><td>6    </td><td>258  </td><td>110  </td><td>3.08 </td><td>3.215</td><td>19.44</td><td>1    </td><td>0    </td><td>3    </td><td>1    </td></tr>\n",
       "\t<tr><th scope=row>Hornet Sportabout</th><td>18.7 </td><td>8    </td><td>360  </td><td>175  </td><td>3.15 </td><td>3.440</td><td>17.02</td><td>0    </td><td>0    </td><td>3    </td><td>2    </td></tr>\n",
       "\t<tr><th scope=row>Valiant</th><td>18.1 </td><td>6    </td><td>225  </td><td>105  </td><td>2.76 </td><td>3.460</td><td>20.22</td><td>1    </td><td>0    </td><td>3    </td><td>1    </td></tr>\n",
       "</tbody>\n",
       "</table>\n"
      ],
      "text/latex": [
       "\\begin{tabular}{r|lllllllllll}\n",
       "  & mpg & cyl & disp & hp & drat & wt & qsec & vs & am & gear & carb\\\\\n",
       "\\hline\n",
       "\tMazda RX4 & 21.0  & 6     & 160   & 110   & 3.90  & 2.620 & 16.46 & 0     & 1     & 4     & 4    \\\\\n",
       "\tMazda RX4 Wag & 21.0  & 6     & 160   & 110   & 3.90  & 2.875 & 17.02 & 0     & 1     & 4     & 4    \\\\\n",
       "\tDatsun 710 & 22.8  & 4     & 108   &  93   & 3.85  & 2.320 & 18.61 & 1     & 1     & 4     & 1    \\\\\n",
       "\tHornet 4 Drive & 21.4  & 6     & 258   & 110   & 3.08  & 3.215 & 19.44 & 1     & 0     & 3     & 1    \\\\\n",
       "\tHornet Sportabout & 18.7  & 8     & 360   & 175   & 3.15  & 3.440 & 17.02 & 0     & 0     & 3     & 2    \\\\\n",
       "\tValiant & 18.1  & 6     & 225   & 105   & 2.76  & 3.460 & 20.22 & 1     & 0     & 3     & 1    \\\\\n",
       "\\end{tabular}\n"
      ],
      "text/markdown": [
       "\n",
       "| <!--/--> | mpg | cyl | disp | hp | drat | wt | qsec | vs | am | gear | carb | \n",
       "|---|---|---|---|---|---|\n",
       "| Mazda RX4 | 21.0  | 6     | 160   | 110   | 3.90  | 2.620 | 16.46 | 0     | 1     | 4     | 4     | \n",
       "| Mazda RX4 Wag | 21.0  | 6     | 160   | 110   | 3.90  | 2.875 | 17.02 | 0     | 1     | 4     | 4     | \n",
       "| Datsun 710 | 22.8  | 4     | 108   |  93   | 3.85  | 2.320 | 18.61 | 1     | 1     | 4     | 1     | \n",
       "| Hornet 4 Drive | 21.4  | 6     | 258   | 110   | 3.08  | 3.215 | 19.44 | 1     | 0     | 3     | 1     | \n",
       "| Hornet Sportabout | 18.7  | 8     | 360   | 175   | 3.15  | 3.440 | 17.02 | 0     | 0     | 3     | 2     | \n",
       "| Valiant | 18.1  | 6     | 225   | 105   | 2.76  | 3.460 | 20.22 | 1     | 0     | 3     | 1     | \n",
       "\n",
       "\n"
      ],
      "text/plain": [
       "                  mpg  cyl disp hp  drat wt    qsec  vs am gear carb\n",
       "Mazda RX4         21.0 6   160  110 3.90 2.620 16.46 0  1  4    4   \n",
       "Mazda RX4 Wag     21.0 6   160  110 3.90 2.875 17.02 0  1  4    4   \n",
       "Datsun 710        22.8 4   108   93 3.85 2.320 18.61 1  1  4    1   \n",
       "Hornet 4 Drive    21.4 6   258  110 3.08 3.215 19.44 1  0  3    1   \n",
       "Hornet Sportabout 18.7 8   360  175 3.15 3.440 17.02 0  0  3    2   \n",
       "Valiant           18.1 6   225  105 2.76 3.460 20.22 1  0  3    1   "
      ]
     },
     "metadata": {},
     "output_type": "display_data"
    }
   ],
   "source": [
    "library(e1071)\n",
    "\n",
    "head(mtcars)"
   ]
  },
  {
   "cell_type": "code",
   "execution_count": 21,
   "metadata": {},
   "outputs": [
    {
     "data": {
      "text/plain": [
       "\n",
       "Call:\n",
       "svm(formula = am ~ ., data = mtcars)\n",
       "\n",
       "\n",
       "Parameters:\n",
       "   SVM-Type:  eps-regression \n",
       " SVM-Kernel:  radial \n",
       "       cost:  1 \n",
       "      gamma:  0.1 \n",
       "    epsilon:  0.1 \n",
       "\n",
       "\n",
       "Number of Support Vectors:  21\n",
       "\n",
       "\n",
       "\n",
       "\n"
      ]
     },
     "metadata": {},
     "output_type": "display_data"
    }
   ],
   "source": [
    "mod.svm <- svm(am ~. , mtcars)\n",
    "summary(mod.svm)\n"
   ]
  },
  {
   "cell_type": "code",
   "execution_count": 37,
   "metadata": {},
   "outputs": [
    {
     "data": {
      "text/html": [
       "<dl class=dl-horizontal>\n",
       "\t<dt>Mazda RX4</dt>\n",
       "\t\t<dd>0.950034467767844</dd>\n",
       "\t<dt>Mazda RX4 Wag</dt>\n",
       "\t\t<dd>0.868823144907747</dd>\n",
       "\t<dt>Datsun 710</dt>\n",
       "\t\t<dd>0.751416447952524</dd>\n",
       "\t<dt>Hornet 4 Drive</dt>\n",
       "\t\t<dd>0.0492484595746238</dd>\n",
       "\t<dt>Hornet Sportabout</dt>\n",
       "\t\t<dd>0.049967785850571</dd>\n",
       "\t<dt>Valiant</dt>\n",
       "\t\t<dd>0.0228002734666975</dd>\n",
       "\t<dt>Duster 360</dt>\n",
       "\t\t<dd>0.0501264798490597</dd>\n",
       "\t<dt>Merc 240D</dt>\n",
       "\t\t<dd>0.296547762280636</dd>\n",
       "\t<dt>Merc 230</dt>\n",
       "\t\t<dd>0.0498326090970087</dd>\n",
       "\t<dt>Merc 280</dt>\n",
       "\t\t<dd>0.142690832349059</dd>\n",
       "\t<dt>Merc 280C</dt>\n",
       "\t\t<dd>0.0498964665498997</dd>\n",
       "\t<dt>Merc 450SE</dt>\n",
       "\t\t<dd>-0.0143635478226235</dd>\n",
       "\t<dt>Merc 450SL</dt>\n",
       "\t\t<dd>0.0155729297213909</dd>\n",
       "\t<dt>Merc 450SLC</dt>\n",
       "\t\t<dd>-0.0157086912712555</dd>\n",
       "\t<dt>Cadillac Fleetwood</dt>\n",
       "\t\t<dd>0.0483293367335643</dd>\n",
       "\t<dt>Lincoln Continental</dt>\n",
       "\t\t<dd>0.0500741195098094</dd>\n",
       "\t<dt>Chrysler Imperial</dt>\n",
       "\t\t<dd>0.0175898962585101</dd>\n",
       "\t<dt>Fiat 128</dt>\n",
       "\t\t<dd>0.932022509163131</dd>\n",
       "\t<dt>Honda Civic</dt>\n",
       "\t\t<dd>0.961098654623085</dd>\n",
       "\t<dt>Toyota Corolla</dt>\n",
       "\t\t<dd>0.949862633287836</dd>\n",
       "\t<dt>Toyota Corona</dt>\n",
       "\t\t<dd>0.291681793915199</dd>\n",
       "\t<dt>Dodge Challenger</dt>\n",
       "\t\t<dd>0.0500022214668857</dd>\n",
       "\t<dt>AMC Javelin</dt>\n",
       "\t\t<dd>0.0451522186379758</dd>\n",
       "\t<dt>Camaro Z28</dt>\n",
       "\t\t<dd>0.103537545707393</dd>\n",
       "\t<dt>Pontiac Firebird</dt>\n",
       "\t\t<dd>0.0187540395749344</dd>\n",
       "\t<dt>Fiat X1-9</dt>\n",
       "\t\t<dd>0.949848334777405</dd>\n",
       "\t<dt>Porsche 914-2</dt>\n",
       "\t\t<dd>1.05005316109991</dd>\n",
       "\t<dt>Lotus Europa</dt>\n",
       "\t\t<dd>0.992722280618428</dd>\n",
       "\t<dt>Ford Pantera L</dt>\n",
       "\t\t<dd>0.949904850277019</dd>\n",
       "\t<dt>Ferrari Dino</dt>\n",
       "\t\t<dd>0.950231963102125</dd>\n",
       "\t<dt>Maserati Bora</dt>\n",
       "\t\t<dd>0.950063972057843</dd>\n",
       "\t<dt>Volvo 142E</dt>\n",
       "\t\t<dd>0.598773830780849</dd>\n",
       "</dl>\n"
      ],
      "text/latex": [
       "\\begin{description*}\n",
       "\\item[Mazda RX4] 0.950034467767844\n",
       "\\item[Mazda RX4 Wag] 0.868823144907747\n",
       "\\item[Datsun 710] 0.751416447952524\n",
       "\\item[Hornet 4 Drive] 0.0492484595746238\n",
       "\\item[Hornet Sportabout] 0.049967785850571\n",
       "\\item[Valiant] 0.0228002734666975\n",
       "\\item[Duster 360] 0.0501264798490597\n",
       "\\item[Merc 240D] 0.296547762280636\n",
       "\\item[Merc 230] 0.0498326090970087\n",
       "\\item[Merc 280] 0.142690832349059\n",
       "\\item[Merc 280C] 0.0498964665498997\n",
       "\\item[Merc 450SE] -0.0143635478226235\n",
       "\\item[Merc 450SL] 0.0155729297213909\n",
       "\\item[Merc 450SLC] -0.0157086912712555\n",
       "\\item[Cadillac Fleetwood] 0.0483293367335643\n",
       "\\item[Lincoln Continental] 0.0500741195098094\n",
       "\\item[Chrysler Imperial] 0.0175898962585101\n",
       "\\item[Fiat 128] 0.932022509163131\n",
       "\\item[Honda Civic] 0.961098654623085\n",
       "\\item[Toyota Corolla] 0.949862633287836\n",
       "\\item[Toyota Corona] 0.291681793915199\n",
       "\\item[Dodge Challenger] 0.0500022214668857\n",
       "\\item[AMC Javelin] 0.0451522186379758\n",
       "\\item[Camaro Z28] 0.103537545707393\n",
       "\\item[Pontiac Firebird] 0.0187540395749344\n",
       "\\item[Fiat X1-9] 0.949848334777405\n",
       "\\item[Porsche 914-2] 1.05005316109991\n",
       "\\item[Lotus Europa] 0.992722280618428\n",
       "\\item[Ford Pantera L] 0.949904850277019\n",
       "\\item[Ferrari Dino] 0.950231963102125\n",
       "\\item[Maserati Bora] 0.950063972057843\n",
       "\\item[Volvo 142E] 0.598773830780849\n",
       "\\end{description*}\n"
      ],
      "text/markdown": [
       "Mazda RX4\n",
       ":   0.950034467767844Mazda RX4 Wag\n",
       ":   0.868823144907747Datsun 710\n",
       ":   0.751416447952524Hornet 4 Drive\n",
       ":   0.0492484595746238Hornet Sportabout\n",
       ":   0.049967785850571Valiant\n",
       ":   0.0228002734666975Duster 360\n",
       ":   0.0501264798490597Merc 240D\n",
       ":   0.296547762280636Merc 230\n",
       ":   0.0498326090970087Merc 280\n",
       ":   0.142690832349059Merc 280C\n",
       ":   0.0498964665498997Merc 450SE\n",
       ":   -0.0143635478226235Merc 450SL\n",
       ":   0.0155729297213909Merc 450SLC\n",
       ":   -0.0157086912712555Cadillac Fleetwood\n",
       ":   0.0483293367335643Lincoln Continental\n",
       ":   0.0500741195098094Chrysler Imperial\n",
       ":   0.0175898962585101Fiat 128\n",
       ":   0.932022509163131Honda Civic\n",
       ":   0.961098654623085Toyota Corolla\n",
       ":   0.949862633287836Toyota Corona\n",
       ":   0.291681793915199Dodge Challenger\n",
       ":   0.0500022214668857AMC Javelin\n",
       ":   0.0451522186379758Camaro Z28\n",
       ":   0.103537545707393Pontiac Firebird\n",
       ":   0.0187540395749344Fiat X1-9\n",
       ":   0.949848334777405Porsche 914-2\n",
       ":   1.05005316109991Lotus Europa\n",
       ":   0.992722280618428Ford Pantera L\n",
       ":   0.949904850277019Ferrari Dino\n",
       ":   0.950231963102125Maserati Bora\n",
       ":   0.950063972057843Volvo 142E\n",
       ":   0.598773830780849\n",
       "\n"
      ],
      "text/plain": [
       "          Mazda RX4       Mazda RX4 Wag          Datsun 710      Hornet 4 Drive \n",
       "         0.95003447          0.86882314          0.75141645          0.04924846 \n",
       "  Hornet Sportabout             Valiant          Duster 360           Merc 240D \n",
       "         0.04996779          0.02280027          0.05012648          0.29654776 \n",
       "           Merc 230            Merc 280           Merc 280C          Merc 450SE \n",
       "         0.04983261          0.14269083          0.04989647         -0.01436355 \n",
       "         Merc 450SL         Merc 450SLC  Cadillac Fleetwood Lincoln Continental \n",
       "         0.01557293         -0.01570869          0.04832934          0.05007412 \n",
       "  Chrysler Imperial            Fiat 128         Honda Civic      Toyota Corolla \n",
       "         0.01758990          0.93202251          0.96109865          0.94986263 \n",
       "      Toyota Corona    Dodge Challenger         AMC Javelin          Camaro Z28 \n",
       "         0.29168179          0.05000222          0.04515222          0.10353755 \n",
       "   Pontiac Firebird           Fiat X1-9       Porsche 914-2        Lotus Europa \n",
       "         0.01875404          0.94984833          1.05005316          0.99272228 \n",
       "     Ford Pantera L        Ferrari Dino       Maserati Bora          Volvo 142E \n",
       "         0.94990485          0.95023196          0.95006397          0.59877383 "
      ]
     },
     "metadata": {},
     "output_type": "display_data"
    }
   ],
   "source": [
    "pred <- predict(mod.svm, newdata=mtcars)"
   ]
  },
  {
   "cell_type": "code",
   "execution_count": 38,
   "metadata": {},
   "outputs": [],
   "source": [
    "pred_cat <- ifelse(pred>=0.5,1,0)"
   ]
  },
  {
   "cell_type": "code",
   "execution_count": 39,
   "metadata": {},
   "outputs": [
    {
     "data": {
      "text/plain": [
       "    observ\n",
       "pred  0  1\n",
       "   0 19  0\n",
       "   1  0 13"
      ]
     },
     "metadata": {},
     "output_type": "display_data"
    }
   ],
   "source": [
    "table(pred=pred_cat, observ=mtcars$am)\n"
   ]
  }
 ],
 "metadata": {
  "kernelspec": {
   "display_name": "R",
   "language": "R",
   "name": "ir"
  },
  "language_info": {
   "codemirror_mode": "r",
   "file_extension": ".r",
   "mimetype": "text/x-r-source",
   "name": "R",
   "pygments_lexer": "r",
   "version": "3.4.4"
  }
 },
 "nbformat": 4,
 "nbformat_minor": 2
}
