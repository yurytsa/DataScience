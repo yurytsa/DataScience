{
 "cells": [
  {
   "cell_type": "code",
   "execution_count": 1,
   "metadata": {},
   "outputs": [
    {
     "name": "stderr",
     "output_type": "stream",
     "text": [
      "Warning message:\n",
      "\"package 'dplyr' was built under R version 3.6.3\"\n",
      "Attaching package: 'dplyr'\n",
      "\n",
      "The following objects are masked from 'package:stats':\n",
      "\n",
      "    filter, lag\n",
      "\n",
      "The following objects are masked from 'package:base':\n",
      "\n",
      "    intersect, setdiff, setequal, union\n",
      "\n",
      "Warning message:\n",
      "\"package 'ggplot2' was built under R version 3.6.3\""
     ]
    }
   ],
   "source": [
    "library(dplyr)\n",
    "library(ggplot2)"
   ]
  },
  {
   "cell_type": "code",
   "execution_count": 8,
   "metadata": {},
   "outputs": [],
   "source": [
    "cardio = read.csv(\"../data/heart_failure_clinical_records_dataset.csv\")"
   ]
  },
  {
   "cell_type": "code",
   "execution_count": 9,
   "metadata": {},
   "outputs": [
    {
     "data": {
      "text/plain": [
       "      age           anaemia       creatinine_phosphokinase    diabetes     \n",
       " Min.   :40.00   Min.   :0.0000   Min.   :  23.0           Min.   :0.0000  \n",
       " 1st Qu.:51.00   1st Qu.:0.0000   1st Qu.: 116.5           1st Qu.:0.0000  \n",
       " Median :60.00   Median :0.0000   Median : 250.0           Median :0.0000  \n",
       " Mean   :60.83   Mean   :0.4314   Mean   : 581.8           Mean   :0.4181  \n",
       " 3rd Qu.:70.00   3rd Qu.:1.0000   3rd Qu.: 582.0           3rd Qu.:1.0000  \n",
       " Max.   :95.00   Max.   :1.0000   Max.   :7861.0           Max.   :1.0000  \n",
       " ejection_fraction high_blood_pressure   platelets      serum_creatinine\n",
       " Min.   :14.00     Min.   :0.0000      Min.   : 25100   Min.   :0.500   \n",
       " 1st Qu.:30.00     1st Qu.:0.0000      1st Qu.:212500   1st Qu.:0.900   \n",
       " Median :38.00     Median :0.0000      Median :262000   Median :1.100   \n",
       " Mean   :38.08     Mean   :0.3512      Mean   :263358   Mean   :1.394   \n",
       " 3rd Qu.:45.00     3rd Qu.:1.0000      3rd Qu.:303500   3rd Qu.:1.400   \n",
       " Max.   :80.00     Max.   :1.0000      Max.   :850000   Max.   :9.400   \n",
       "  serum_sodium        sex            smoking            time      \n",
       " Min.   :113.0   Min.   :0.0000   Min.   :0.0000   Min.   :  4.0  \n",
       " 1st Qu.:134.0   1st Qu.:0.0000   1st Qu.:0.0000   1st Qu.: 73.0  \n",
       " Median :137.0   Median :1.0000   Median :0.0000   Median :115.0  \n",
       " Mean   :136.6   Mean   :0.6488   Mean   :0.3211   Mean   :130.3  \n",
       " 3rd Qu.:140.0   3rd Qu.:1.0000   3rd Qu.:1.0000   3rd Qu.:203.0  \n",
       " Max.   :148.0   Max.   :1.0000   Max.   :1.0000   Max.   :285.0  \n",
       "  DEATH_EVENT    \n",
       " Min.   :0.0000  \n",
       " 1st Qu.:0.0000  \n",
       " Median :0.0000  \n",
       " Mean   :0.3211  \n",
       " 3rd Qu.:1.0000  \n",
       " Max.   :1.0000  "
      ]
     },
     "metadata": {},
     "output_type": "display_data"
    }
   ],
   "source": [
    "summary(cardio)"
   ]
  },
  {
   "cell_type": "code",
   "execution_count": null,
   "metadata": {},
   "outputs": [],
   "source": []
  }
 ],
 "metadata": {
  "kernelspec": {
   "display_name": "R",
   "language": "R",
   "name": "ir"
  },
  "language_info": {
   "codemirror_mode": "r",
   "file_extension": ".r",
   "mimetype": "text/x-r-source",
   "name": "R",
   "pygments_lexer": "r",
   "version": "3.6.1"
  }
 },
 "nbformat": 4,
 "nbformat_minor": 4
}
