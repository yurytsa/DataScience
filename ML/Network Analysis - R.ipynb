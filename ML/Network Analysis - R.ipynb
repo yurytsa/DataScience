{
 "cells": [
  {
   "cell_type": "markdown",
   "metadata": {},
   "source": [
    "# Network Analysis"
   ]
  },
  {
   "cell_type": "markdown",
   "metadata": {},
   "source": [
    "<img src=\"https://researchmethods117203719.files.wordpress.com/2018/04/socialnetwork.jpg\" />"
   ]
  },
  {
   "cell_type": "markdown",
   "metadata": {},
   "source": [
    "Network analysis is an unsupervised analysis technique that find relationships (edges) between different entities (nodes). The analysis is based on <b>Graph Theory</b> concepts"
   ]
  },
  {
   "cell_type": "code",
   "execution_count": 1,
   "metadata": {},
   "outputs": [
    {
     "name": "stderr",
     "output_type": "stream",
     "text": [
      "Warning message:\n",
      "\"package 'igraph' was built under R version 4.0.2\"\n",
      "\n",
      "Attaching package: 'igraph'\n",
      "\n",
      "\n",
      "The following objects are masked from 'package:stats':\n",
      "\n",
      "    decompose, spectrum\n",
      "\n",
      "\n",
      "The following object is masked from 'package:base':\n",
      "\n",
      "    union\n",
      "\n",
      "\n",
      "Warning message:\n",
      "\"package 'dplyr' was built under R version 4.0.2\"\n",
      "\n",
      "Attaching package: 'dplyr'\n",
      "\n",
      "\n",
      "The following objects are masked from 'package:igraph':\n",
      "\n",
      "    as_data_frame, groups, union\n",
      "\n",
      "\n",
      "The following objects are masked from 'package:stats':\n",
      "\n",
      "    filter, lag\n",
      "\n",
      "\n",
      "The following objects are masked from 'package:base':\n",
      "\n",
      "    intersect, setdiff, setequal, union\n",
      "\n",
      "\n"
     ]
    }
   ],
   "source": [
    "library(igraph)\n",
    "library(dplyr)"
   ]
  },
  {
   "cell_type": "code",
   "execution_count": 2,
   "metadata": {},
   "outputs": [
    {
     "data": {
      "text/html": [
       "<table>\n",
       "<caption>A data.frame: 6 × 9</caption>\n",
       "<thead>\n",
       "\t<tr><th></th><th scope=col>X2B</th><th scope=col>X410</th><th scope=col>AER</th><th scope=col>X2965</th><th scope=col>KZN</th><th scope=col>X2990</th><th scope=col>X</th><th scope=col>X0</th><th scope=col>CR2</th></tr>\n",
       "\t<tr><th></th><th scope=col>&lt;chr&gt;</th><th scope=col>&lt;chr&gt;</th><th scope=col>&lt;chr&gt;</th><th scope=col>&lt;chr&gt;</th><th scope=col>&lt;chr&gt;</th><th scope=col>&lt;chr&gt;</th><th scope=col>&lt;chr&gt;</th><th scope=col>&lt;int&gt;</th><th scope=col>&lt;chr&gt;</th></tr>\n",
       "</thead>\n",
       "<tbody>\n",
       "\t<tr><th scope=row>1</th><td>2B</td><td>410</td><td>ASF</td><td>2966</td><td>KZN</td><td>2990</td><td></td><td>0</td><td>CR2</td></tr>\n",
       "\t<tr><th scope=row>2</th><td>2B</td><td>410</td><td>ASF</td><td>2966</td><td>MRV</td><td>2962</td><td></td><td>0</td><td>CR2</td></tr>\n",
       "\t<tr><th scope=row>3</th><td>2B</td><td>410</td><td>CEK</td><td>2968</td><td>KZN</td><td>2990</td><td></td><td>0</td><td>CR2</td></tr>\n",
       "\t<tr><th scope=row>4</th><td>2B</td><td>410</td><td>CEK</td><td>2968</td><td>OVB</td><td>4078</td><td></td><td>0</td><td>CR2</td></tr>\n",
       "\t<tr><th scope=row>5</th><td>2B</td><td>410</td><td>DME</td><td>4029</td><td>KZN</td><td>2990</td><td></td><td>0</td><td>CR2</td></tr>\n",
       "\t<tr><th scope=row>6</th><td>2B</td><td>410</td><td>DME</td><td>4029</td><td>NBC</td><td>6969</td><td></td><td>0</td><td>CR2</td></tr>\n",
       "</tbody>\n",
       "</table>\n"
      ],
      "text/latex": [
       "A data.frame: 6 × 9\n",
       "\\begin{tabular}{r|lllllllll}\n",
       "  & X2B & X410 & AER & X2965 & KZN & X2990 & X & X0 & CR2\\\\\n",
       "  & <chr> & <chr> & <chr> & <chr> & <chr> & <chr> & <chr> & <int> & <chr>\\\\\n",
       "\\hline\n",
       "\t1 & 2B & 410 & ASF & 2966 & KZN & 2990 &  & 0 & CR2\\\\\n",
       "\t2 & 2B & 410 & ASF & 2966 & MRV & 2962 &  & 0 & CR2\\\\\n",
       "\t3 & 2B & 410 & CEK & 2968 & KZN & 2990 &  & 0 & CR2\\\\\n",
       "\t4 & 2B & 410 & CEK & 2968 & OVB & 4078 &  & 0 & CR2\\\\\n",
       "\t5 & 2B & 410 & DME & 4029 & KZN & 2990 &  & 0 & CR2\\\\\n",
       "\t6 & 2B & 410 & DME & 4029 & NBC & 6969 &  & 0 & CR2\\\\\n",
       "\\end{tabular}\n"
      ],
      "text/markdown": [
       "\n",
       "A data.frame: 6 × 9\n",
       "\n",
       "| <!--/--> | X2B &lt;chr&gt; | X410 &lt;chr&gt; | AER &lt;chr&gt; | X2965 &lt;chr&gt; | KZN &lt;chr&gt; | X2990 &lt;chr&gt; | X &lt;chr&gt; | X0 &lt;int&gt; | CR2 &lt;chr&gt; |\n",
       "|---|---|---|---|---|---|---|---|---|---|\n",
       "| 1 | 2B | 410 | ASF | 2966 | KZN | 2990 | <!----> | 0 | CR2 |\n",
       "| 2 | 2B | 410 | ASF | 2966 | MRV | 2962 | <!----> | 0 | CR2 |\n",
       "| 3 | 2B | 410 | CEK | 2968 | KZN | 2990 | <!----> | 0 | CR2 |\n",
       "| 4 | 2B | 410 | CEK | 2968 | OVB | 4078 | <!----> | 0 | CR2 |\n",
       "| 5 | 2B | 410 | DME | 4029 | KZN | 2990 | <!----> | 0 | CR2 |\n",
       "| 6 | 2B | 410 | DME | 4029 | NBC | 6969 | <!----> | 0 | CR2 |\n",
       "\n"
      ],
      "text/plain": [
       "  X2B X410 AER X2965 KZN X2990 X X0 CR2\n",
       "1 2B  410  ASF 2966  KZN 2990    0  CR2\n",
       "2 2B  410  ASF 2966  MRV 2962    0  CR2\n",
       "3 2B  410  CEK 2968  KZN 2990    0  CR2\n",
       "4 2B  410  CEK 2968  OVB 4078    0  CR2\n",
       "5 2B  410  DME 4029  KZN 2990    0  CR2\n",
       "6 2B  410  DME 4029  NBC 6969    0  CR2"
      ]
     },
     "metadata": {},
     "output_type": "display_data"
    }
   ],
   "source": [
    "### dataset\n",
    "df <- read.csv(file=\"https://raw.githubusercontent.com/jpatokal/openflights/master/data/routes.dat\")\n",
    "head(df)"
   ]
  },
  {
   "cell_type": "code",
   "execution_count": 3,
   "metadata": {},
   "outputs": [
    {
     "data": {
      "text/html": [
       "<table>\n",
       "<caption>A tibble: 20 × 2</caption>\n",
       "<thead>\n",
       "\t<tr><th scope=col>X2B</th><th scope=col>n</th></tr>\n",
       "\t<tr><th scope=col>&lt;chr&gt;</th><th scope=col>&lt;int&gt;</th></tr>\n",
       "</thead>\n",
       "<tbody>\n",
       "\t<tr><td>FR</td><td>2484</td></tr>\n",
       "\t<tr><td>AA</td><td>2354</td></tr>\n",
       "\t<tr><td>UA</td><td>2180</td></tr>\n",
       "\t<tr><td>DL</td><td>1981</td></tr>\n",
       "\t<tr><td>US</td><td>1960</td></tr>\n",
       "\t<tr><td>CZ</td><td>1454</td></tr>\n",
       "\t<tr><td>MU</td><td>1263</td></tr>\n",
       "\t<tr><td>CA</td><td>1260</td></tr>\n",
       "\t<tr><td>WN</td><td>1146</td></tr>\n",
       "\t<tr><td>U2</td><td>1130</td></tr>\n",
       "\t<tr><td>AF</td><td>1071</td></tr>\n",
       "\t<tr><td>LH</td><td> 923</td></tr>\n",
       "\t<tr><td>AZ</td><td> 877</td></tr>\n",
       "\t<tr><td>IB</td><td> 831</td></tr>\n",
       "\t<tr><td>KL</td><td> 830</td></tr>\n",
       "\t<tr><td>ZH</td><td> 815</td></tr>\n",
       "\t<tr><td>AB</td><td> 798</td></tr>\n",
       "\t<tr><td>FL</td><td> 726</td></tr>\n",
       "\t<tr><td>AC</td><td> 705</td></tr>\n",
       "\t<tr><td>TK</td><td> 658</td></tr>\n",
       "</tbody>\n",
       "</table>\n"
      ],
      "text/latex": [
       "A tibble: 20 × 2\n",
       "\\begin{tabular}{ll}\n",
       " X2B & n\\\\\n",
       " <chr> & <int>\\\\\n",
       "\\hline\n",
       "\t FR & 2484\\\\\n",
       "\t AA & 2354\\\\\n",
       "\t UA & 2180\\\\\n",
       "\t DL & 1981\\\\\n",
       "\t US & 1960\\\\\n",
       "\t CZ & 1454\\\\\n",
       "\t MU & 1263\\\\\n",
       "\t CA & 1260\\\\\n",
       "\t WN & 1146\\\\\n",
       "\t U2 & 1130\\\\\n",
       "\t AF & 1071\\\\\n",
       "\t LH &  923\\\\\n",
       "\t AZ &  877\\\\\n",
       "\t IB &  831\\\\\n",
       "\t KL &  830\\\\\n",
       "\t ZH &  815\\\\\n",
       "\t AB &  798\\\\\n",
       "\t FL &  726\\\\\n",
       "\t AC &  705\\\\\n",
       "\t TK &  658\\\\\n",
       "\\end{tabular}\n"
      ],
      "text/markdown": [
       "\n",
       "A tibble: 20 × 2\n",
       "\n",
       "| X2B &lt;chr&gt; | n &lt;int&gt; |\n",
       "|---|---|\n",
       "| FR | 2484 |\n",
       "| AA | 2354 |\n",
       "| UA | 2180 |\n",
       "| DL | 1981 |\n",
       "| US | 1960 |\n",
       "| CZ | 1454 |\n",
       "| MU | 1263 |\n",
       "| CA | 1260 |\n",
       "| WN | 1146 |\n",
       "| U2 | 1130 |\n",
       "| AF | 1071 |\n",
       "| LH |  923 |\n",
       "| AZ |  877 |\n",
       "| IB |  831 |\n",
       "| KL |  830 |\n",
       "| ZH |  815 |\n",
       "| AB |  798 |\n",
       "| FL |  726 |\n",
       "| AC |  705 |\n",
       "| TK |  658 |\n",
       "\n"
      ],
      "text/plain": [
       "   X2B n   \n",
       "1  FR  2484\n",
       "2  AA  2354\n",
       "3  UA  2180\n",
       "4  DL  1981\n",
       "5  US  1960\n",
       "6  CZ  1454\n",
       "7  MU  1263\n",
       "8  CA  1260\n",
       "9  WN  1146\n",
       "10 U2  1130\n",
       "11 AF  1071\n",
       "12 LH   923\n",
       "13 AZ   877\n",
       "14 IB   831\n",
       "15 KL   830\n",
       "16 ZH   815\n",
       "17 AB   798\n",
       "18 FL   726\n",
       "19 AC   705\n",
       "20 TK   658"
      ]
     },
     "metadata": {},
     "output_type": "display_data"
    }
   ],
   "source": [
    "### companies flight counts\n",
    "df %>% group_by(X2B) %>% tally() %>% arrange(desc(n)) %>% head(20)"
   ]
  },
  {
   "cell_type": "code",
   "execution_count": 4,
   "metadata": {},
   "outputs": [
    {
     "data": {
      "text/html": [
       "<table>\n",
       "<caption>A tibble: 20 × 2</caption>\n",
       "<thead>\n",
       "\t<tr><th scope=col>X2B</th><th scope=col>n</th></tr>\n",
       "\t<tr><th scope=col>&lt;chr&gt;</th><th scope=col>&lt;int&gt;</th></tr>\n",
       "</thead>\n",
       "<tbody>\n",
       "\t<tr><td>9N</td><td>50</td></tr>\n",
       "\t<tr><td>B7</td><td>50</td></tr>\n",
       "\t<tr><td>PB</td><td>50</td></tr>\n",
       "\t<tr><td>KY</td><td>52</td></tr>\n",
       "\t<tr><td>MJ</td><td>52</td></tr>\n",
       "\t<tr><td>MO</td><td>52</td></tr>\n",
       "\t<tr><td>FI</td><td>53</td></tr>\n",
       "\t<tr><td>J2</td><td>54</td></tr>\n",
       "\t<tr><td>TM</td><td>54</td></tr>\n",
       "\t<tr><td>AE</td><td>56</td></tr>\n",
       "\t<tr><td>FB</td><td>56</td></tr>\n",
       "\t<tr><td>NX</td><td>56</td></tr>\n",
       "\t<tr><td>BC</td><td>58</td></tr>\n",
       "\t<tr><td>Q6</td><td>58</td></tr>\n",
       "\t<tr><td>QG</td><td>58</td></tr>\n",
       "\t<tr><td>UP</td><td>58</td></tr>\n",
       "\t<tr><td>CU</td><td>59</td></tr>\n",
       "\t<tr><td>IE</td><td>60</td></tr>\n",
       "\t<tr><td>ZK</td><td>61</td></tr>\n",
       "\t<tr><td>LI</td><td>62</td></tr>\n",
       "</tbody>\n",
       "</table>\n"
      ],
      "text/latex": [
       "A tibble: 20 × 2\n",
       "\\begin{tabular}{ll}\n",
       " X2B & n\\\\\n",
       " <chr> & <int>\\\\\n",
       "\\hline\n",
       "\t 9N & 50\\\\\n",
       "\t B7 & 50\\\\\n",
       "\t PB & 50\\\\\n",
       "\t KY & 52\\\\\n",
       "\t MJ & 52\\\\\n",
       "\t MO & 52\\\\\n",
       "\t FI & 53\\\\\n",
       "\t J2 & 54\\\\\n",
       "\t TM & 54\\\\\n",
       "\t AE & 56\\\\\n",
       "\t FB & 56\\\\\n",
       "\t NX & 56\\\\\n",
       "\t BC & 58\\\\\n",
       "\t Q6 & 58\\\\\n",
       "\t QG & 58\\\\\n",
       "\t UP & 58\\\\\n",
       "\t CU & 59\\\\\n",
       "\t IE & 60\\\\\n",
       "\t ZK & 61\\\\\n",
       "\t LI & 62\\\\\n",
       "\\end{tabular}\n"
      ],
      "text/markdown": [
       "\n",
       "A tibble: 20 × 2\n",
       "\n",
       "| X2B &lt;chr&gt; | n &lt;int&gt; |\n",
       "|---|---|\n",
       "| 9N | 50 |\n",
       "| B7 | 50 |\n",
       "| PB | 50 |\n",
       "| KY | 52 |\n",
       "| MJ | 52 |\n",
       "| MO | 52 |\n",
       "| FI | 53 |\n",
       "| J2 | 54 |\n",
       "| TM | 54 |\n",
       "| AE | 56 |\n",
       "| FB | 56 |\n",
       "| NX | 56 |\n",
       "| BC | 58 |\n",
       "| Q6 | 58 |\n",
       "| QG | 58 |\n",
       "| UP | 58 |\n",
       "| CU | 59 |\n",
       "| IE | 60 |\n",
       "| ZK | 61 |\n",
       "| LI | 62 |\n",
       "\n"
      ],
      "text/plain": [
       "   X2B n \n",
       "1  9N  50\n",
       "2  B7  50\n",
       "3  PB  50\n",
       "4  KY  52\n",
       "5  MJ  52\n",
       "6  MO  52\n",
       "7  FI  53\n",
       "8  J2  54\n",
       "9  TM  54\n",
       "10 AE  56\n",
       "11 FB  56\n",
       "12 NX  56\n",
       "13 BC  58\n",
       "14 Q6  58\n",
       "15 QG  58\n",
       "16 UP  58\n",
       "17 CU  59\n",
       "18 IE  60\n",
       "19 ZK  61\n",
       "20 LI  62"
      ]
     },
     "metadata": {},
     "output_type": "display_data"
    }
   ],
   "source": [
    "df %>% group_by(X2B) %>% tally() %>% filter(between(n,50,100)) %>% arrange(n) %>% head(20)"
   ]
  },
  {
   "cell_type": "code",
   "execution_count": 5,
   "metadata": {},
   "outputs": [
    {
     "data": {
      "text/html": [
       "<table>\n",
       "<caption>A data.frame: 1 × 1</caption>\n",
       "<thead>\n",
       "\t<tr><th scope=col>n</th></tr>\n",
       "\t<tr><th scope=col>&lt;int&gt;</th></tr>\n",
       "</thead>\n",
       "<tbody>\n",
       "\t<tr><td>14</td></tr>\n",
       "</tbody>\n",
       "</table>\n"
      ],
      "text/latex": [
       "A data.frame: 1 × 1\n",
       "\\begin{tabular}{l}\n",
       " n\\\\\n",
       " <int>\\\\\n",
       "\\hline\n",
       "\t 14\\\\\n",
       "\\end{tabular}\n"
      ],
      "text/markdown": [
       "\n",
       "A data.frame: 1 × 1\n",
       "\n",
       "| n &lt;int&gt; |\n",
       "|---|\n",
       "| 14 |\n",
       "\n"
      ],
      "text/plain": [
       "  n \n",
       "1 14"
      ]
     },
     "metadata": {},
     "output_type": "display_data"
    }
   ],
   "source": [
    "#################################################\n",
    "### selecting companies\n",
    "### Small company (2L == Helvetic Airways)\n",
    "#################################################\n",
    "df %>% filter(X2B==\"2L\") %>% tally()"
   ]
  },
  {
   "cell_type": "code",
   "execution_count": 6,
   "metadata": {},
   "outputs": [
    {
     "name": "stderr",
     "output_type": "stream",
     "text": [
      "`summarise()` regrouping output by 'AER' (override with `.groups` argument)\n",
      "\n"
     ]
    },
    {
     "data": {
      "text/html": [
       "<table>\n",
       "<caption>A grouped_df: 6 × 3</caption>\n",
       "<thead>\n",
       "\t<tr><th scope=col>AER</th><th scope=col>KZN</th><th scope=col>cnt</th></tr>\n",
       "\t<tr><th scope=col>&lt;chr&gt;</th><th scope=col>&lt;chr&gt;</th><th scope=col>&lt;int&gt;</th></tr>\n",
       "</thead>\n",
       "<tbody>\n",
       "\t<tr><td>BDS</td><td>ZRH</td><td>1</td></tr>\n",
       "\t<tr><td>BOD</td><td>ZRH</td><td>1</td></tr>\n",
       "\t<tr><td>BRS</td><td>ZRH</td><td>1</td></tr>\n",
       "\t<tr><td>GVA</td><td>LPA</td><td>1</td></tr>\n",
       "\t<tr><td>LCA</td><td>ZRH</td><td>1</td></tr>\n",
       "\t<tr><td>LPA</td><td>ZRH</td><td>1</td></tr>\n",
       "</tbody>\n",
       "</table>\n"
      ],
      "text/latex": [
       "A grouped\\_df: 6 × 3\n",
       "\\begin{tabular}{lll}\n",
       " AER & KZN & cnt\\\\\n",
       " <chr> & <chr> & <int>\\\\\n",
       "\\hline\n",
       "\t BDS & ZRH & 1\\\\\n",
       "\t BOD & ZRH & 1\\\\\n",
       "\t BRS & ZRH & 1\\\\\n",
       "\t GVA & LPA & 1\\\\\n",
       "\t LCA & ZRH & 1\\\\\n",
       "\t LPA & ZRH & 1\\\\\n",
       "\\end{tabular}\n"
      ],
      "text/markdown": [
       "\n",
       "A grouped_df: 6 × 3\n",
       "\n",
       "| AER &lt;chr&gt; | KZN &lt;chr&gt; | cnt &lt;int&gt; |\n",
       "|---|---|---|\n",
       "| BDS | ZRH | 1 |\n",
       "| BOD | ZRH | 1 |\n",
       "| BRS | ZRH | 1 |\n",
       "| GVA | LPA | 1 |\n",
       "| LCA | ZRH | 1 |\n",
       "| LPA | ZRH | 1 |\n",
       "\n"
      ],
      "text/plain": [
       "  AER KZN cnt\n",
       "1 BDS ZRH 1  \n",
       "2 BOD ZRH 1  \n",
       "3 BRS ZRH 1  \n",
       "4 GVA LPA 1  \n",
       "5 LCA ZRH 1  \n",
       "6 LPA ZRH 1  "
      ]
     },
     "metadata": {},
     "output_type": "display_data"
    }
   ],
   "source": [
    "df2 <- df %>% filter(X2B==\"2L\") %>% \n",
    "  group_by(AER,KZN) %>% summarise(cnt=n())\n",
    "flt <- unique(c(levels(factor(df2$AER)),levels(factor(df2$KZN))))\n",
    "\n",
    "head(df2)"
   ]
  },
  {
   "cell_type": "code",
   "execution_count": 7,
   "metadata": {},
   "outputs": [
    {
     "data": {
      "text/html": [
       "<style>\n",
       ".list-inline {list-style: none; margin:0; padding: 0}\n",
       ".list-inline>li {display: inline-block}\n",
       ".list-inline>li:not(:last-child)::after {content: \"\\00b7\"; padding: 0 .5ex}\n",
       "</style>\n",
       "<ol class=list-inline><li>'BDS'</li><li>'BOD'</li><li>'BRS'</li><li>'GVA'</li><li>'LCA'</li><li>'LPA'</li><li>'RMF'</li><li>'TFS'</li><li>'ZRH'</li></ol>\n"
      ],
      "text/latex": [
       "\\begin{enumerate*}\n",
       "\\item 'BDS'\n",
       "\\item 'BOD'\n",
       "\\item 'BRS'\n",
       "\\item 'GVA'\n",
       "\\item 'LCA'\n",
       "\\item 'LPA'\n",
       "\\item 'RMF'\n",
       "\\item 'TFS'\n",
       "\\item 'ZRH'\n",
       "\\end{enumerate*}\n"
      ],
      "text/markdown": [
       "1. 'BDS'\n",
       "2. 'BOD'\n",
       "3. 'BRS'\n",
       "4. 'GVA'\n",
       "5. 'LCA'\n",
       "6. 'LPA'\n",
       "7. 'RMF'\n",
       "8. 'TFS'\n",
       "9. 'ZRH'\n",
       "\n",
       "\n"
      ],
      "text/plain": [
       "[1] \"BDS\" \"BOD\" \"BRS\" \"GVA\" \"LCA\" \"LPA\" \"RMF\" \"TFS\" \"ZRH\""
      ]
     },
     "metadata": {},
     "output_type": "display_data"
    }
   ],
   "source": [
    "flt <- unique(c(levels(factor(df2$AER)),levels(factor(df2$KZN))))\n",
    "flt"
   ]
  },
  {
   "cell_type": "code",
   "execution_count": 8,
   "metadata": {},
   "outputs": [],
   "source": [
    "mtx <- Matrix::Matrix(NA,nrow=length(flt),ncol =length(flt))\n",
    "\n",
    "### iterate through the matrix\n",
    "for(i in 1:length(flt)) {\n",
    "  #res <- NULL\n",
    "  for(j in 1:length(flt)) {\n",
    "    if(is.na(as.numeric(df2[which(df2$AER==flt[i] & df2$KZN==flt[j]),\"cnt\"]))==F) {\n",
    "      mtx[i,j] <- as.numeric(df2[which(df2$AER==flt[i] & df2$KZN==flt[j]),\"cnt\"])\n",
    "    }\n",
    "  }\n",
    "}\n",
    "colnames(mtx) = flt\n",
    "rownames(mtx) = flt"
   ]
  },
  {
   "cell_type": "code",
   "execution_count": 9,
   "metadata": {},
   "outputs": [
    {
     "data": {
      "text/plain": [
       "9 x 9 Matrix of class \"dgeMatrix\"\n",
       "    BDS BOD BRS GVA LCA LPA RMF TFS ZRH\n",
       "BDS  NA  NA  NA  NA  NA  NA  NA  NA   1\n",
       "BOD  NA  NA  NA  NA  NA  NA  NA  NA   1\n",
       "BRS  NA  NA  NA  NA  NA  NA  NA  NA   1\n",
       "GVA  NA  NA  NA  NA  NA   1  NA  NA  NA\n",
       "LCA  NA  NA  NA  NA  NA  NA  NA  NA   1\n",
       "LPA  NA  NA  NA  NA  NA  NA  NA  NA   1\n",
       "RMF  NA  NA  NA  NA  NA  NA  NA  NA   1\n",
       "TFS  NA  NA  NA   1  NA  NA  NA  NA  NA\n",
       "ZRH   1   1   1  NA   1   1   1  NA  NA"
      ]
     },
     "metadata": {},
     "output_type": "display_data"
    }
   ],
   "source": [
    "mtx"
   ]
  },
  {
   "cell_type": "code",
   "execution_count": 10,
   "metadata": {},
   "outputs": [],
   "source": [
    "links <- as.matrix(mtx)\n"
   ]
  },
  {
   "cell_type": "code",
   "execution_count": 11,
   "metadata": {},
   "outputs": [],
   "source": [
    "mynet <- graph.adjacency(links, mode=\"directed\",weighted=NULL)\n"
   ]
  },
  {
   "cell_type": "code",
   "execution_count": 12,
   "metadata": {},
   "outputs": [
    {
     "data": {
      "text/plain": [
       "+ 14/14 edges from 85cbbbb (vertex names):\n",
       " [1] BDS->ZRH BOD->ZRH BRS->ZRH GVA->LPA LCA->ZRH LPA->ZRH RMF->ZRH TFS->GVA\n",
       " [9] ZRH->BDS ZRH->BOD ZRH->BRS ZRH->LCA ZRH->LPA ZRH->RMF"
      ]
     },
     "metadata": {},
     "output_type": "display_data"
    }
   ],
   "source": [
    "### network size by edges\n",
    "E(mynet)"
   ]
  },
  {
   "cell_type": "code",
   "execution_count": 13,
   "metadata": {},
   "outputs": [
    {
     "data": {
      "text/plain": [
       "+ 9/9 vertices, named, from 85cbbbb:\n",
       "[1] BDS BOD BRS GVA LCA LPA RMF TFS ZRH"
      ]
     },
     "metadata": {},
     "output_type": "display_data"
    }
   ],
   "source": [
    "### network size by vertices (nodes)\n",
    "V(mynet)"
   ]
  },
  {
   "cell_type": "code",
   "execution_count": 14,
   "metadata": {},
   "outputs": [
    {
     "data": {
      "image/png": "[encoded data removed]",
      "text/plain": [
       "Plot with title \"\""
      ]
     },
     "metadata": {
      "image/png": {
       "height": 480,
       "width": 900
      }
     },
     "output_type": "display_data"
    }
   ],
   "source": [
    "options(repr.plot.width = 15, repr.plot.height =8)\n",
    "\n",
    "plot(mynet, edge.arrow.size=.6, vertex.size=30)\n"
   ]
  },
  {
   "cell_type": "markdown",
   "metadata": {},
   "source": [
    "## General Measures\n",
    " \n",
    "### Mean Distance"
   ]
  },
  {
   "cell_type": "code",
   "execution_count": 15,
   "metadata": {},
   "outputs": [
    {
     "data": {
      "text/html": [
       "2.22222222222222"
      ],
      "text/latex": [
       "2.22222222222222"
      ],
      "text/markdown": [
       "2.22222222222222"
      ],
      "text/plain": [
       "[1] 2.222222"
      ]
     },
     "metadata": {},
     "output_type": "display_data"
    }
   ],
   "source": [
    "mean_distance(mynet, directed=F)"
   ]
  },
  {
   "cell_type": "markdown",
   "metadata": {},
   "source": [
    "### Network diameter"
   ]
  },
  {
   "cell_type": "code",
   "execution_count": 16,
   "metadata": {},
   "outputs": [
    {
     "data": {
      "text/html": [
       "4"
      ],
      "text/latex": [
       "4"
      ],
      "text/markdown": [
       "4"
      ],
      "text/plain": [
       "[1] 4"
      ]
     },
     "metadata": {},
     "output_type": "display_data"
    }
   ],
   "source": [
    "diameter(mynet, directed=F,weights=NA)"
   ]
  },
  {
   "cell_type": "markdown",
   "metadata": {},
   "source": [
    "### Centrality"
   ]
  },
  {
   "cell_type": "code",
   "execution_count": 17,
   "metadata": {},
   "outputs": [
    {
     "data": {
      "text/html": [
       "<dl>\n",
       "\t<dt>$res</dt>\n",
       "\t\t<dd><style>\n",
       ".list-inline {list-style: none; margin:0; padding: 0}\n",
       ".list-inline>li {display: inline-block}\n",
       ".list-inline>li:not(:last-child)::after {content: \"\\00b7\"; padding: 0 .5ex}\n",
       "</style>\n",
       "<ol class=list-inline><li>1</li><li>1</li><li>1</li><li>1</li><li>1</li><li>2</li><li>1</li><li>0</li><li>6</li></ol>\n",
       "</dd>\n",
       "\t<dt>$centralization</dt>\n",
       "\t\t<dd>0.555555555555556</dd>\n",
       "\t<dt>$theoretical_max</dt>\n",
       "\t\t<dd>72</dd>\n",
       "</dl>\n"
      ],
      "text/latex": [
       "\\begin{description}\n",
       "\\item[\\$res] \\begin{enumerate*}\n",
       "\\item 1\n",
       "\\item 1\n",
       "\\item 1\n",
       "\\item 1\n",
       "\\item 1\n",
       "\\item 2\n",
       "\\item 1\n",
       "\\item 0\n",
       "\\item 6\n",
       "\\end{enumerate*}\n",
       "\n",
       "\\item[\\$centralization] 0.555555555555556\n",
       "\\item[\\$theoretical\\_max] 72\n",
       "\\end{description}\n"
      ],
      "text/markdown": [
       "$res\n",
       ":   1. 1\n",
       "2. 1\n",
       "3. 1\n",
       "4. 1\n",
       "5. 1\n",
       "6. 2\n",
       "7. 1\n",
       "8. 0\n",
       "9. 6\n",
       "\n",
       "\n",
       "\n",
       "$centralization\n",
       ":   0.555555555555556\n",
       "$theoretical_max\n",
       ":   72\n",
       "\n",
       "\n"
      ],
      "text/plain": [
       "$res\n",
       "[1] 1 1 1 1 1 2 1 0 6\n",
       "\n",
       "$centralization\n",
       "[1] 0.5555556\n",
       "\n",
       "$theoretical_max\n",
       "[1] 72\n"
      ]
     },
     "metadata": {},
     "output_type": "display_data"
    }
   ],
   "source": [
    "centr_degree(mynet,mode=\"in\",normalized=T)"
   ]
  },
  {
   "cell_type": "markdown",
   "metadata": {},
   "source": [
    "### Connection density"
   ]
  },
  {
   "cell_type": "code",
   "execution_count": 18,
   "metadata": {},
   "outputs": [
    {
     "data": {
      "text/html": [
       "0.194444444444444"
      ],
      "text/latex": [
       "0.194444444444444"
      ],
      "text/markdown": [
       "0.194444444444444"
      ],
      "text/plain": [
       "[1] 0.1944444"
      ]
     },
     "metadata": {},
     "output_type": "display_data"
    }
   ],
   "source": [
    "edge_density(mynet,loops=F)"
   ]
  },
  {
   "cell_type": "markdown",
   "metadata": {},
   "source": [
    "### Degree (number of connections of a node to other nodes)"
   ]
  },
  {
   "cell_type": "code",
   "execution_count": 19,
   "metadata": {},
   "outputs": [
    {
     "data": {
      "text/html": [
       "<style>\n",
       ".dl-inline {width: auto; margin:0; padding: 0}\n",
       ".dl-inline>dt, .dl-inline>dd {float: none; width: auto; display: inline-block}\n",
       ".dl-inline>dt::after {content: \":\\0020\"; padding-right: .5ex}\n",
       ".dl-inline>dt:not(:first-of-type) {padding-left: .5ex}\n",
       "</style><dl class=dl-inline><dt>BDS</dt><dd>2</dd><dt>BOD</dt><dd>2</dd><dt>BRS</dt><dd>2</dd><dt>GVA</dt><dd>2</dd><dt>LCA</dt><dd>2</dd><dt>LPA</dt><dd>3</dd><dt>RMF</dt><dd>2</dd><dt>TFS</dt><dd>1</dd><dt>ZRH</dt><dd>12</dd></dl>\n"
      ],
      "text/latex": [
       "\\begin{description*}\n",
       "\\item[BDS] 2\n",
       "\\item[BOD] 2\n",
       "\\item[BRS] 2\n",
       "\\item[GVA] 2\n",
       "\\item[LCA] 2\n",
       "\\item[LPA] 3\n",
       "\\item[RMF] 2\n",
       "\\item[TFS] 1\n",
       "\\item[ZRH] 12\n",
       "\\end{description*}\n"
      ],
      "text/markdown": [
       "BDS\n",
       ":   2BOD\n",
       ":   2BRS\n",
       ":   2GVA\n",
       ":   2LCA\n",
       ":   2LPA\n",
       ":   3RMF\n",
       ":   2TFS\n",
       ":   1ZRH\n",
       ":   12\n",
       "\n"
      ],
      "text/plain": [
       "BDS BOD BRS GVA LCA LPA RMF TFS ZRH \n",
       "  2   2   2   2   2   3   2   1  12 "
      ]
     },
     "metadata": {},
     "output_type": "display_data"
    }
   ],
   "source": [
    "degree(mynet)"
   ]
  },
  {
   "cell_type": "code",
   "execution_count": 20,
   "metadata": {},
   "outputs": [
    {
     "data": {
      "text/html": [
       "3.11111111111111"
      ],
      "text/latex": [
       "3.11111111111111"
      ],
      "text/markdown": [
       "3.11111111111111"
      ],
      "text/plain": [
       "[1] 3.111111"
      ]
     },
     "metadata": {},
     "output_type": "display_data"
    }
   ],
   "source": [
    "mean(degree(mynet))"
   ]
  },
  {
   "cell_type": "markdown",
   "metadata": {},
   "source": [
    "## Centrality\n",
    " \n",
    "### Hubs"
   ]
  },
  {
   "cell_type": "code",
   "execution_count": 21,
   "metadata": {},
   "outputs": [
    {
     "data": {
      "image/png": "[encoded data removed]",
      "text/plain": [
       "Plot with title \"Hubs\""
      ]
     },
     "metadata": {
      "image/png": {
       "height": 480,
       "width": 900
      }
     },
     "output_type": "display_data"
    }
   ],
   "source": [
    "set.seed(11)\n",
    "\n",
    "hs <- hub_score(mynet)$vector\n",
    "plot(mynet, vertex.size=hs * 30,main=\"Hubs\",colors=rainbow(9),edge.arrow.size=0.1,\n",
    "     layout=layout.kamada.kawai)"
   ]
  },
  {
   "cell_type": "markdown",
   "metadata": {},
   "source": [
    "### Authority"
   ]
  },
  {
   "cell_type": "code",
   "execution_count": 22,
   "metadata": {},
   "outputs": [
    {
     "data": {
      "image/png": "[encoded data removed]",
      "text/plain": [
       "Plot with title \"Authorities\""
      ]
     },
     "metadata": {
      "image/png": {
       "height": 480,
       "width": 900
      }
     },
     "output_type": "display_data"
    }
   ],
   "source": [
    "set.seed(11)\n",
    "\n",
    "au <- authority_score(mynet)$vector\n",
    "plot(mynet, vertex.size=au * 30,main=\"Authorities\",colors=rainbow(9),edge.arrow.size=0.1,\n",
    "     layout=layout.kamada.kawai)"
   ]
  },
  {
   "cell_type": "markdown",
   "metadata": {},
   "source": [
    "### Community"
   ]
  },
  {
   "cell_type": "code",
   "execution_count": 23,
   "metadata": {},
   "outputs": [
    {
     "data": {
      "image/png": "[encoded data removed]",
      "text/plain": [
       "Plot with title \"\""
      ]
     },
     "metadata": {
      "image/png": {
       "height": 480,
       "width": 900
      }
     },
     "output_type": "display_data"
    }
   ],
   "source": [
    "### community\n",
    "cnet <- cluster_edge_betweenness(mynet)\n",
    "plot(cnet, mynet, vertex.size=10, vertex.label.cex=0.8)"
   ]
  },
  {
   "cell_type": "markdown",
   "metadata": {},
   "source": [
    "## Cohesive groups: Cliques and Clusters\n",
    " \n",
    "### Cliques (group of nodes fully connected to each other)"
   ]
  },
  {
   "cell_type": "code",
   "execution_count": 24,
   "metadata": {
    "scrolled": true
   },
   "outputs": [
    {
     "name": "stderr",
     "output_type": "stream",
     "text": [
      "Warning message in cliques(mynet):\n",
      "\"At igraph_cliquer.c:56 :Edge directions are ignored for clique calculations\"\n"
     ]
    },
    {
     "data": {
      "text/plain": [
       "[[1]]\n",
       "+ 1/9 vertex, named, from 85cbbbb:\n",
       "[1] ZRH\n",
       "\n",
       "[[2]]\n",
       "+ 1/9 vertex, named, from 85cbbbb:\n",
       "[1] GVA\n",
       "\n",
       "[[3]]\n",
       "+ 1/9 vertex, named, from 85cbbbb:\n",
       "[1] TFS\n",
       "\n",
       "[[4]]\n",
       "+ 2/9 vertices, named, from 85cbbbb:\n",
       "[1] GVA TFS\n",
       "\n",
       "[[5]]\n",
       "+ 1/9 vertex, named, from 85cbbbb:\n",
       "[1] RMF\n",
       "\n",
       "[[6]]\n",
       "+ 2/9 vertices, named, from 85cbbbb:\n",
       "[1] RMF ZRH\n",
       "\n",
       "[[7]]\n",
       "+ 1/9 vertex, named, from 85cbbbb:\n",
       "[1] LPA\n",
       "\n",
       "[[8]]\n",
       "+ 2/9 vertices, named, from 85cbbbb:\n",
       "[1] GVA LPA\n",
       "\n",
       "[[9]]\n",
       "+ 2/9 vertices, named, from 85cbbbb:\n",
       "[1] LPA ZRH\n",
       "\n",
       "[[10]]\n",
       "+ 1/9 vertex, named, from 85cbbbb:\n",
       "[1] LCA\n",
       "\n",
       "[[11]]\n",
       "+ 2/9 vertices, named, from 85cbbbb:\n",
       "[1] LCA ZRH\n",
       "\n",
       "[[12]]\n",
       "+ 1/9 vertex, named, from 85cbbbb:\n",
       "[1] BRS\n",
       "\n",
       "[[13]]\n",
       "+ 2/9 vertices, named, from 85cbbbb:\n",
       "[1] BRS ZRH\n",
       "\n",
       "[[14]]\n",
       "+ 1/9 vertex, named, from 85cbbbb:\n",
       "[1] BOD\n",
       "\n",
       "[[15]]\n",
       "+ 2/9 vertices, named, from 85cbbbb:\n",
       "[1] BOD ZRH\n",
       "\n",
       "[[16]]\n",
       "+ 1/9 vertex, named, from 85cbbbb:\n",
       "[1] BDS\n",
       "\n",
       "[[17]]\n",
       "+ 2/9 vertices, named, from 85cbbbb:\n",
       "[1] BDS ZRH\n"
      ]
     },
     "metadata": {},
     "output_type": "display_data"
    }
   ],
   "source": [
    "cliques(mynet)"
   ]
  },
  {
   "cell_type": "code",
   "execution_count": 25,
   "metadata": {},
   "outputs": [
    {
     "name": "stderr",
     "output_type": "stream",
     "text": [
      "Warning message in cliques(mynet):\n",
      "\"At igraph_cliquer.c:56 :Edge directions are ignored for clique calculations\"\n"
     ]
    },
    {
     "data": {
      "text/html": [
       "<style>\n",
       ".list-inline {list-style: none; margin:0; padding: 0}\n",
       ".list-inline>li {display: inline-block}\n",
       ".list-inline>li:not(:last-child)::after {content: \"\\00b7\"; padding: 0 .5ex}\n",
       "</style>\n",
       "<ol class=list-inline><li>1</li><li>1</li><li>1</li><li>2</li><li>1</li><li>2</li><li>1</li><li>2</li><li>2</li><li>1</li><li>2</li><li>1</li><li>2</li><li>1</li><li>2</li><li>1</li><li>2</li></ol>\n"
      ],
      "text/latex": [
       "\\begin{enumerate*}\n",
       "\\item 1\n",
       "\\item 1\n",
       "\\item 1\n",
       "\\item 2\n",
       "\\item 1\n",
       "\\item 2\n",
       "\\item 1\n",
       "\\item 2\n",
       "\\item 2\n",
       "\\item 1\n",
       "\\item 2\n",
       "\\item 1\n",
       "\\item 2\n",
       "\\item 1\n",
       "\\item 2\n",
       "\\item 1\n",
       "\\item 2\n",
       "\\end{enumerate*}\n"
      ],
      "text/markdown": [
       "1. 1\n",
       "2. 1\n",
       "3. 1\n",
       "4. 2\n",
       "5. 1\n",
       "6. 2\n",
       "7. 1\n",
       "8. 2\n",
       "9. 2\n",
       "10. 1\n",
       "11. 2\n",
       "12. 1\n",
       "13. 2\n",
       "14. 1\n",
       "15. 2\n",
       "16. 1\n",
       "17. 2\n",
       "\n",
       "\n"
      ],
      "text/plain": [
       " [1] 1 1 1 2 1 2 1 2 2 1 2 1 2 1 2 1 2"
      ]
     },
     "metadata": {},
     "output_type": "display_data"
    }
   ],
   "source": [
    "sapply(cliques(mynet), length)"
   ]
  },
  {
   "cell_type": "code",
   "execution_count": 26,
   "metadata": {},
   "outputs": [
    {
     "name": "stderr",
     "output_type": "stream",
     "text": [
      "Warning message in largest_cliques(mynet):\n",
      "\"At cliques.c:1087 :directionality of edges is ignored for directed graphs\"\n"
     ]
    },
    {
     "data": {
      "text/plain": [
       "[[1]]\n",
       "+ 2/9 vertices, named, from 85cbbbb:\n",
       "[1] ZRH RMF\n",
       "\n",
       "[[2]]\n",
       "+ 2/9 vertices, named, from 85cbbbb:\n",
       "[1] ZRH LPA\n",
       "\n",
       "[[3]]\n",
       "+ 2/9 vertices, named, from 85cbbbb:\n",
       "[1] ZRH LCA\n",
       "\n",
       "[[4]]\n",
       "+ 2/9 vertices, named, from 85cbbbb:\n",
       "[1] ZRH BRS\n",
       "\n",
       "[[5]]\n",
       "+ 2/9 vertices, named, from 85cbbbb:\n",
       "[1] ZRH BOD\n",
       "\n",
       "[[6]]\n",
       "+ 2/9 vertices, named, from 85cbbbb:\n",
       "[1] ZRH BDS\n",
       "\n",
       "[[7]]\n",
       "+ 2/9 vertices, named, from 85cbbbb:\n",
       "[1] TFS GVA\n",
       "\n",
       "[[8]]\n",
       "+ 2/9 vertices, named, from 85cbbbb:\n",
       "[1] GVA LPA\n"
      ]
     },
     "metadata": {},
     "output_type": "display_data"
    }
   ],
   "source": [
    "largest_cliques(mynet)"
   ]
  },
  {
   "cell_type": "code",
   "execution_count": 27,
   "metadata": {},
   "outputs": [
    {
     "data": {
      "image/png": "[encoded data removed]",
      "text/plain": [
       "Plot with title \"\""
      ]
     },
     "metadata": {
      "image/png": {
       "height": 480,
       "width": 900
      }
     },
     "output_type": "display_data"
    }
   ],
   "source": [
    "plot(as.directed(mynet))"
   ]
  },
  {
   "cell_type": "markdown",
   "metadata": {},
   "source": [
    "### Clusters "
   ]
  },
  {
   "cell_type": "code",
   "execution_count": 28,
   "metadata": {},
   "outputs": [
    {
     "data": {
      "text/plain": [
       "IGRAPH clustering edge betweenness, groups: 2, mod: 0.12\n",
       "+ groups:\n",
       "  $`1`\n",
       "  [1] \"BDS\" \"BOD\" \"BRS\" \"LCA\" \"LPA\" \"RMF\" \"ZRH\"\n",
       "  \n",
       "  $`2`\n",
       "  [1] \"GVA\" \"TFS\"\n",
       "  "
      ]
     },
     "metadata": {},
     "output_type": "display_data"
    }
   ],
   "source": [
    "btwn <- cluster_edge_betweenness(mynet)\n",
    "btwn"
   ]
  },
  {
   "cell_type": "code",
   "execution_count": 29,
   "metadata": {},
   "outputs": [
    {
     "data": {
      "image/png": "[encoded data removed]",
      "text/plain": [
       "plot without title"
      ]
     },
     "metadata": {
      "image/png": {
       "height": 480,
       "width": 900
      }
     },
     "output_type": "display_data"
    }
   ],
   "source": [
    "dendPlot(btwn, mode=\"hclust\")"
   ]
  },
  {
   "cell_type": "code",
   "execution_count": 30,
   "metadata": {},
   "outputs": [
    {
     "data": {
      "text/html": [
       "2"
      ],
      "text/latex": [
       "2"
      ],
      "text/markdown": [
       "2"
      ],
      "text/plain": [
       "[1] 2"
      ]
     },
     "metadata": {},
     "output_type": "display_data"
    }
   ],
   "source": [
    "length(btwn)"
   ]
  },
  {
   "cell_type": "code",
   "execution_count": 31,
   "metadata": {},
   "outputs": [
    {
     "data": {
      "text/plain": [
       "BDS BOD BRS GVA LCA LPA RMF TFS ZRH \n",
       "  1   1   1   2   1   1   1   2   1 "
      ]
     },
     "metadata": {},
     "output_type": "display_data"
    }
   ],
   "source": [
    "membership(btwn)"
   ]
  },
  {
   "cell_type": "code",
   "execution_count": null,
   "metadata": {},
   "outputs": [],
   "source": []
  }
 ],
 "metadata": {
  "kernelspec": {
   "display_name": "R",
   "language": "R",
   "name": "ir"
  },
  "language_info": {
   "codemirror_mode": "r",
   "file_extension": ".r",
   "mimetype": "text/x-r-source",
   "name": "R",
   "pygments_lexer": "r",
   "version": "4.0.0"
  }
 },
 "nbformat": 4,
 "nbformat_minor": 2
}
