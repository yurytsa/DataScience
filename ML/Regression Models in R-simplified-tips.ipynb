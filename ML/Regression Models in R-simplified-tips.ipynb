{
 "cells": [
  {
   "cell_type": "markdown",
   "metadata": {},
   "source": [
    "# Regression Models in R (tips)"
   ]
  },
  {
   "cell_type": "code",
   "execution_count": 1,
   "metadata": {},
   "outputs": [
    {
     "name": "stderr",
     "output_type": "stream",
     "text": [
      "\n",
      "Attaching package: ‘dplyr’\n",
      "\n",
      "\n",
      "The following objects are masked from ‘package:stats’:\n",
      "\n",
      "    filter, lag\n",
      "\n",
      "\n",
      "The following objects are masked from ‘package:base’:\n",
      "\n",
      "    intersect, setdiff, setequal, union\n",
      "\n",
      "\n"
     ]
    }
   ],
   "source": [
    "library(readr)\n",
    "library(mechkar)\n",
    "library(dplyr)\n",
    "library(ggplot2)"
   ]
  },
  {
   "cell_type": "code",
   "execution_count": 3,
   "metadata": {},
   "outputs": [],
   "source": [
    "\n",
    "df <- read.csv(\"../data/tips.csv\")"
   ]
  },
  {
   "cell_type": "code",
   "execution_count": 4,
   "metadata": {},
   "outputs": [
    {
     "data": {
      "text/html": [
       "<table>\n",
       "<caption>A data.frame: 6 × 7</caption>\n",
       "<thead>\n",
       "\t<tr><th scope=col>total_bill</th><th scope=col>tip</th><th scope=col>sex</th><th scope=col>smoker</th><th scope=col>day</th><th scope=col>time</th><th scope=col>size</th></tr>\n",
       "\t<tr><th scope=col>&lt;dbl&gt;</th><th scope=col>&lt;dbl&gt;</th><th scope=col>&lt;fct&gt;</th><th scope=col>&lt;fct&gt;</th><th scope=col>&lt;fct&gt;</th><th scope=col>&lt;fct&gt;</th><th scope=col>&lt;int&gt;</th></tr>\n",
       "</thead>\n",
       "<tbody>\n",
       "\t<tr><td>16.99</td><td>1.01</td><td>Female</td><td>No</td><td>Sun</td><td>Dinner</td><td>2</td></tr>\n",
       "\t<tr><td>10.34</td><td>1.66</td><td>Male  </td><td>No</td><td>Sun</td><td>Dinner</td><td>3</td></tr>\n",
       "\t<tr><td>21.01</td><td>3.50</td><td>Male  </td><td>No</td><td>Sun</td><td>Dinner</td><td>3</td></tr>\n",
       "\t<tr><td>23.68</td><td>3.31</td><td>Male  </td><td>No</td><td>Sun</td><td>Dinner</td><td>2</td></tr>\n",
       "\t<tr><td>24.59</td><td>3.61</td><td>Female</td><td>No</td><td>Sun</td><td>Dinner</td><td>4</td></tr>\n",
       "\t<tr><td>25.29</td><td>4.71</td><td>Male  </td><td>No</td><td>Sun</td><td>Dinner</td><td>4</td></tr>\n",
       "</tbody>\n",
       "</table>\n"
      ],
      "text/latex": [
       "A data.frame: 6 × 7\n",
       "\\begin{tabular}{r|lllllll}\n",
       " total\\_bill & tip & sex & smoker & day & time & size\\\\\n",
       " <dbl> & <dbl> & <fct> & <fct> & <fct> & <fct> & <int>\\\\\n",
       "\\hline\n",
       "\t 16.99 & 1.01 & Female & No & Sun & Dinner & 2\\\\\n",
       "\t 10.34 & 1.66 & Male   & No & Sun & Dinner & 3\\\\\n",
       "\t 21.01 & 3.50 & Male   & No & Sun & Dinner & 3\\\\\n",
       "\t 23.68 & 3.31 & Male   & No & Sun & Dinner & 2\\\\\n",
       "\t 24.59 & 3.61 & Female & No & Sun & Dinner & 4\\\\\n",
       "\t 25.29 & 4.71 & Male   & No & Sun & Dinner & 4\\\\\n",
       "\\end{tabular}\n"
      ],
      "text/markdown": [
       "\n",
       "A data.frame: 6 × 7\n",
       "\n",
       "| total_bill &lt;dbl&gt; | tip &lt;dbl&gt; | sex &lt;fct&gt; | smoker &lt;fct&gt; | day &lt;fct&gt; | time &lt;fct&gt; | size &lt;int&gt; |\n",
       "|---|---|---|---|---|---|---|\n",
       "| 16.99 | 1.01 | Female | No | Sun | Dinner | 2 |\n",
       "| 10.34 | 1.66 | Male   | No | Sun | Dinner | 3 |\n",
       "| 21.01 | 3.50 | Male   | No | Sun | Dinner | 3 |\n",
       "| 23.68 | 3.31 | Male   | No | Sun | Dinner | 2 |\n",
       "| 24.59 | 3.61 | Female | No | Sun | Dinner | 4 |\n",
       "| 25.29 | 4.71 | Male   | No | Sun | Dinner | 4 |\n",
       "\n"
      ],
      "text/plain": [
       "  total_bill tip  sex    smoker day time   size\n",
       "1 16.99      1.01 Female No     Sun Dinner 2   \n",
       "2 10.34      1.66 Male   No     Sun Dinner 3   \n",
       "3 21.01      3.50 Male   No     Sun Dinner 3   \n",
       "4 23.68      3.31 Male   No     Sun Dinner 2   \n",
       "5 24.59      3.61 Female No     Sun Dinner 4   \n",
       "6 25.29      4.71 Male   No     Sun Dinner 4   "
      ]
     },
     "metadata": {},
     "output_type": "display_data"
    },
    {
     "data": {
      "text/html": [
       "<ol class=list-inline>\n",
       "\t<li>244</li>\n",
       "\t<li>7</li>\n",
       "</ol>\n"
      ],
      "text/latex": [
       "\\begin{enumerate*}\n",
       "\\item 244\n",
       "\\item 7\n",
       "\\end{enumerate*}\n"
      ],
      "text/markdown": [
       "1. 244\n",
       "2. 7\n",
       "\n",
       "\n"
      ],
      "text/plain": [
       "[1] 244   7"
      ]
     },
     "metadata": {},
     "output_type": "display_data"
    }
   ],
   "source": [
    "head(df)\n",
    "dim(df)"
   ]
  },
  {
   "cell_type": "markdown",
   "metadata": {},
   "source": [
    "# EDA"
   ]
  },
  {
   "cell_type": "code",
   "execution_count": 5,
   "metadata": {},
   "outputs": [
    {
     "data": {
      "text/plain": [
       "   total_bill         tip             sex      smoker      day         time    \n",
       " Min.   : 3.07   Min.   : 1.000   Female: 87   No :151   Fri :19   Dinner:176  \n",
       " 1st Qu.:13.35   1st Qu.: 2.000   Male  :157   Yes: 93   Sat :87   Lunch : 68  \n",
       " Median :17.80   Median : 2.900                          Sun :76               \n",
       " Mean   :19.79   Mean   : 2.998                          Thur:62               \n",
       " 3rd Qu.:24.13   3rd Qu.: 3.562                                                \n",
       " Max.   :50.81   Max.   :10.000                                                \n",
       "      size     \n",
       " Min.   :1.00  \n",
       " 1st Qu.:2.00  \n",
       " Median :2.00  \n",
       " Mean   :2.57  \n",
       " 3rd Qu.:3.00  \n",
       " Max.   :6.00  "
      ]
     },
     "metadata": {},
     "output_type": "display_data"
    }
   ],
   "source": [
    "summary(df)"
   ]
  },
  {
   "cell_type": "markdown",
   "metadata": {},
   "source": [
    "# DATASET PARTITION"
   ]
  },
  {
   "cell_type": "code",
   "execution_count": 75,
   "metadata": {},
   "outputs": [
    {
     "name": "stderr",
     "output_type": "stream",
     "text": [
      "Dataset partitioned into:\n",
      "\n",
      " + Train dataset: train\n",
      "\n",
      " + Test dataset: test\n",
      "\n"
     ]
    },
    {
     "name": "stdout",
     "output_type": "stream",
     "text": [
      "  |======================================================================| 100%"
     ]
    },
    {
     "name": "stderr",
     "output_type": "stream",
     "text": [
      "You got a perfectly balanced training and test datasets\n",
      "\n",
      " \n",
      "\n"
     ]
    },
    {
     "data": {
      "text/html": [
       "<table>\n",
       "<caption>A tibble: 18 × 6</caption>\n",
       "<thead>\n",
       "\t<tr><th scope=col>V1</th><th scope=col>V2</th><th scope=col>Pop</th><th scope=col>1</th><th scope=col>2</th><th scope=col>pval</th></tr>\n",
       "\t<tr><th scope=col>&lt;chr&gt;</th><th scope=col>&lt;chr&gt;</th><th scope=col>&lt;chr&gt;</th><th scope=col>&lt;fct&gt;</th><th scope=col>&lt;fct&gt;</th><th scope=col>&lt;fct&gt;</th></tr>\n",
       "</thead>\n",
       "<tbody>\n",
       "\t<tr><td>Individuals   </td><td>n           </td><td>244             </td><td>170             </td><td>74              </td><td>NA   </td></tr>\n",
       "\t<tr><td>total_bill    </td><td>Mean (SD)   </td><td>19.8 (8.9)      </td><td>19.6 (8.9)      </td><td>20.3 (8.9)      </td><td>NA   </td></tr>\n",
       "\t<tr><td>total_bill    </td><td>Median (IQR)</td><td>17.8 (13.3-24.1)</td><td>17.8 (13.4-23.2)</td><td>17.7 (13.4-25.5)</td><td>0.545</td></tr>\n",
       "\t<tr><td>tip           </td><td>Mean (SD)   </td><td>3.0 (1.4)       </td><td>3.0 (1.4)       </td><td>3.0 (1.3)       </td><td>NA   </td></tr>\n",
       "\t<tr><td>tip           </td><td>Median (IQR)</td><td>2.9 (2.0-3.6)   </td><td>3.0 (2.0-3.6)   </td><td>2.9 (2.0-3.5)   </td><td>0.932</td></tr>\n",
       "\t<tr><td>sex           </td><td>Female      </td><td>87 (35.7%)      </td><td>63 (37.1%)      </td><td>24 (32.4%)      </td><td>NA   </td></tr>\n",
       "\t<tr><td>sex           </td><td>Male        </td><td>157 (64.3%)     </td><td>107 (62.9%)     </td><td>50 (67.6%)      </td><td>0.584</td></tr>\n",
       "\t<tr><td>smoker        </td><td>Yes         </td><td>93 (38.1%)      </td><td>65 (38.2%)      </td><td>28 (37.8%)      </td><td>1    </td></tr>\n",
       "\t<tr><td>day           </td><td>Fri         </td><td>19 (7.8%)       </td><td>16 (9.4%)       </td><td>3 (4.1%)        </td><td>NA   </td></tr>\n",
       "\t<tr><td>day           </td><td>Sat         </td><td>87 (35.7%)      </td><td>58 (34.1%)      </td><td>29 (39.2%)      </td><td>0.944</td></tr>\n",
       "\t<tr><td>day           </td><td>Sun         </td><td>76 (31.1%)      </td><td>51 (30.0%)      </td><td>25 (33.8%)      </td><td>NA   </td></tr>\n",
       "\t<tr><td>day           </td><td>Thur        </td><td>62 (25.4%)      </td><td>45 (26.5%)      </td><td>17 (23.0%)      </td><td>NA   </td></tr>\n",
       "\t<tr><td>time          </td><td>Dinner      </td><td>176 (72.1%)     </td><td>119 (70.0%)     </td><td>57 (77.0%)      </td><td>NA   </td></tr>\n",
       "\t<tr><td>time          </td><td>Lunch       </td><td>68 (27.9%)      </td><td>51 (30.0%)      </td><td>17 (23.0%)      </td><td>0.332</td></tr>\n",
       "\t<tr><td>size          </td><td>Mean (SD)   </td><td>2.6 (1.0)       </td><td>2.6 (1.0)       </td><td>2.6 (0.9)       </td><td>NA   </td></tr>\n",
       "\t<tr><td>size          </td><td>Median (IQR)</td><td>2.0 (2.0-3.0)   </td><td>2.0 (2.0-3.0)   </td><td>2.0 (2.0-3.0)   </td><td>0.678</td></tr>\n",
       "\t<tr><td>traintest_ind_</td><td>Mean (SD)   </td><td>1.3 (0.5)       </td><td>NA              </td><td>NA              </td><td>NA   </td></tr>\n",
       "\t<tr><td>traintest_ind_</td><td>Median (IQR)</td><td>1.0 (1.0-2.0)   </td><td>NA              </td><td>NA              </td><td>0    </td></tr>\n",
       "</tbody>\n",
       "</table>\n"
      ],
      "text/latex": [
       "A tibble: 18 × 6\n",
       "\\begin{tabular}{r|llllll}\n",
       " V1 & V2 & Pop & 1 & 2 & pval\\\\\n",
       " <chr> & <chr> & <chr> & <fct> & <fct> & <fct>\\\\\n",
       "\\hline\n",
       "\t Individuals    & n            & 244              & 170              & 74               & NA   \\\\\n",
       "\t total\\_bill     & Mean (SD)    & 19.8 (8.9)       & 19.6 (8.9)       & 20.3 (8.9)       & NA   \\\\\n",
       "\t total\\_bill     & Median (IQR) & 17.8 (13.3-24.1) & 17.8 (13.4-23.2) & 17.7 (13.4-25.5) & 0.545\\\\\n",
       "\t tip            & Mean (SD)    & 3.0 (1.4)        & 3.0 (1.4)        & 3.0 (1.3)        & NA   \\\\\n",
       "\t tip            & Median (IQR) & 2.9 (2.0-3.6)    & 3.0 (2.0-3.6)    & 2.9 (2.0-3.5)    & 0.932\\\\\n",
       "\t sex            & Female       & 87 (35.7\\%)       & 63 (37.1\\%)       & 24 (32.4\\%)       & NA   \\\\\n",
       "\t sex            & Male         & 157 (64.3\\%)      & 107 (62.9\\%)      & 50 (67.6\\%)       & 0.584\\\\\n",
       "\t smoker         & Yes          & 93 (38.1\\%)       & 65 (38.2\\%)       & 28 (37.8\\%)       & 1    \\\\\n",
       "\t day            & Fri          & 19 (7.8\\%)        & 16 (9.4\\%)        & 3 (4.1\\%)         & NA   \\\\\n",
       "\t day            & Sat          & 87 (35.7\\%)       & 58 (34.1\\%)       & 29 (39.2\\%)       & 0.944\\\\\n",
       "\t day            & Sun          & 76 (31.1\\%)       & 51 (30.0\\%)       & 25 (33.8\\%)       & NA   \\\\\n",
       "\t day            & Thur         & 62 (25.4\\%)       & 45 (26.5\\%)       & 17 (23.0\\%)       & NA   \\\\\n",
       "\t time           & Dinner       & 176 (72.1\\%)      & 119 (70.0\\%)      & 57 (77.0\\%)       & NA   \\\\\n",
       "\t time           & Lunch        & 68 (27.9\\%)       & 51 (30.0\\%)       & 17 (23.0\\%)       & 0.332\\\\\n",
       "\t size           & Mean (SD)    & 2.6 (1.0)        & 2.6 (1.0)        & 2.6 (0.9)        & NA   \\\\\n",
       "\t size           & Median (IQR) & 2.0 (2.0-3.0)    & 2.0 (2.0-3.0)    & 2.0 (2.0-3.0)    & 0.678\\\\\n",
       "\t traintest\\_ind\\_ & Mean (SD)    & 1.3 (0.5)        & NA               & NA               & NA   \\\\\n",
       "\t traintest\\_ind\\_ & Median (IQR) & 1.0 (1.0-2.0)    & NA               & NA               & 0    \\\\\n",
       "\\end{tabular}\n"
      ],
      "text/markdown": [
       "\n",
       "A tibble: 18 × 6\n",
       "\n",
       "| V1 &lt;chr&gt; | V2 &lt;chr&gt; | Pop &lt;chr&gt; | 1 &lt;fct&gt; | 2 &lt;fct&gt; | pval &lt;fct&gt; |\n",
       "|---|---|---|---|---|---|\n",
       "| Individuals    | n            | 244              | 170              | 74               | NA    |\n",
       "| total_bill     | Mean (SD)    | 19.8 (8.9)       | 19.6 (8.9)       | 20.3 (8.9)       | NA    |\n",
       "| total_bill     | Median (IQR) | 17.8 (13.3-24.1) | 17.8 (13.4-23.2) | 17.7 (13.4-25.5) | 0.545 |\n",
       "| tip            | Mean (SD)    | 3.0 (1.4)        | 3.0 (1.4)        | 3.0 (1.3)        | NA    |\n",
       "| tip            | Median (IQR) | 2.9 (2.0-3.6)    | 3.0 (2.0-3.6)    | 2.9 (2.0-3.5)    | 0.932 |\n",
       "| sex            | Female       | 87 (35.7%)       | 63 (37.1%)       | 24 (32.4%)       | NA    |\n",
       "| sex            | Male         | 157 (64.3%)      | 107 (62.9%)      | 50 (67.6%)       | 0.584 |\n",
       "| smoker         | Yes          | 93 (38.1%)       | 65 (38.2%)       | 28 (37.8%)       | 1     |\n",
       "| day            | Fri          | 19 (7.8%)        | 16 (9.4%)        | 3 (4.1%)         | NA    |\n",
       "| day            | Sat          | 87 (35.7%)       | 58 (34.1%)       | 29 (39.2%)       | 0.944 |\n",
       "| day            | Sun          | 76 (31.1%)       | 51 (30.0%)       | 25 (33.8%)       | NA    |\n",
       "| day            | Thur         | 62 (25.4%)       | 45 (26.5%)       | 17 (23.0%)       | NA    |\n",
       "| time           | Dinner       | 176 (72.1%)      | 119 (70.0%)      | 57 (77.0%)       | NA    |\n",
       "| time           | Lunch        | 68 (27.9%)       | 51 (30.0%)       | 17 (23.0%)       | 0.332 |\n",
       "| size           | Mean (SD)    | 2.6 (1.0)        | 2.6 (1.0)        | 2.6 (0.9)        | NA    |\n",
       "| size           | Median (IQR) | 2.0 (2.0-3.0)    | 2.0 (2.0-3.0)    | 2.0 (2.0-3.0)    | 0.678 |\n",
       "| traintest_ind_ | Mean (SD)    | 1.3 (0.5)        | NA               | NA               | NA    |\n",
       "| traintest_ind_ | Median (IQR) | 1.0 (1.0-2.0)    | NA               | NA               | 0     |\n",
       "\n"
      ],
      "text/plain": [
       "   V1             V2           Pop              1               \n",
       "1  Individuals    n            244              170             \n",
       "2  total_bill     Mean (SD)    19.8 (8.9)       19.6 (8.9)      \n",
       "3  total_bill     Median (IQR) 17.8 (13.3-24.1) 17.8 (13.4-23.2)\n",
       "4  tip            Mean (SD)    3.0 (1.4)        3.0 (1.4)       \n",
       "5  tip            Median (IQR) 2.9 (2.0-3.6)    3.0 (2.0-3.6)   \n",
       "6  sex            Female       87 (35.7%)       63 (37.1%)      \n",
       "7  sex            Male         157 (64.3%)      107 (62.9%)     \n",
       "8  smoker         Yes          93 (38.1%)       65 (38.2%)      \n",
       "9  day            Fri          19 (7.8%)        16 (9.4%)       \n",
       "10 day            Sat          87 (35.7%)       58 (34.1%)      \n",
       "11 day            Sun          76 (31.1%)       51 (30.0%)      \n",
       "12 day            Thur         62 (25.4%)       45 (26.5%)      \n",
       "13 time           Dinner       176 (72.1%)      119 (70.0%)     \n",
       "14 time           Lunch        68 (27.9%)       51 (30.0%)      \n",
       "15 size           Mean (SD)    2.6 (1.0)        2.6 (1.0)       \n",
       "16 size           Median (IQR) 2.0 (2.0-3.0)    2.0 (2.0-3.0)   \n",
       "17 traintest_ind_ Mean (SD)    1.3 (0.5)        NA              \n",
       "18 traintest_ind_ Median (IQR) 1.0 (1.0-2.0)    NA              \n",
       "   2                pval \n",
       "1  74               NA   \n",
       "2  20.3 (8.9)       NA   \n",
       "3  17.7 (13.4-25.5) 0.545\n",
       "4  3.0 (1.3)        NA   \n",
       "5  2.9 (2.0-3.5)    0.932\n",
       "6  24 (32.4%)       NA   \n",
       "7  50 (67.6%)       0.584\n",
       "8  28 (37.8%)       1    \n",
       "9  3 (4.1%)         NA   \n",
       "10 29 (39.2%)       0.944\n",
       "11 25 (33.8%)       NA   \n",
       "12 17 (23.0%)       NA   \n",
       "13 57 (77.0%)       NA   \n",
       "14 17 (23.0%)       0.332\n",
       "15 2.6 (0.9)        NA   \n",
       "16 2.0 (2.0-3.0)    0.678\n",
       "17 NA               NA   \n",
       "18 NA               0    "
      ]
     },
     "metadata": {},
     "output_type": "display_data"
    }
   ],
   "source": [
    "tab1 <- train_test(data=df,train_name=\"train\",test_name=\"test\",prop=0.7,seed=5,tableone=TRUE)\n",
    "tab1"
   ]
  },
  {
   "cell_type": "code",
   "execution_count": 11,
   "metadata": {},
   "outputs": [
    {
     "data": {
      "text/html": [
       "<table>\n",
       "<caption>A tibble: 0 × 6</caption>\n",
       "<thead>\n",
       "\t<tr><th scope=col>V1</th><th scope=col>V2</th><th scope=col>Pop</th><th scope=col>1</th><th scope=col>2</th><th scope=col>pval</th></tr>\n",
       "\t<tr><th scope=col>&lt;chr&gt;</th><th scope=col>&lt;chr&gt;</th><th scope=col>&lt;chr&gt;</th><th scope=col>&lt;fct&gt;</th><th scope=col>&lt;fct&gt;</th><th scope=col>&lt;fct&gt;</th></tr>\n",
       "</thead>\n",
       "<tbody>\n",
       "</tbody>\n",
       "</table>\n"
      ],
      "text/latex": [
       "A tibble: 0 × 6\n",
       "\\begin{tabular}{r|llllll}\n",
       " V1 & V2 & Pop & 1 & 2 & pval\\\\\n",
       " <chr> & <chr> & <chr> & <fct> & <fct> & <fct>\\\\\n",
       "\\hline\n",
       "\\end{tabular}\n"
      ],
      "text/markdown": [
       "\n",
       "A tibble: 0 × 6\n",
       "\n",
       "| V1 &lt;chr&gt; | V2 &lt;chr&gt; | Pop &lt;chr&gt; | 1 &lt;fct&gt; | 2 &lt;fct&gt; | pval &lt;fct&gt; |\n",
       "|---|---|---|---|---|---|\n",
       "\n"
      ],
      "text/plain": [
       "     V1 V2 Pop 1 2 pval"
      ]
     },
     "metadata": {},
     "output_type": "display_data"
    }
   ],
   "source": [
    "tab1 %>% filter(pval < 0.05)"
   ]
  },
  {
   "cell_type": "code",
   "execution_count": 12,
   "metadata": {},
   "outputs": [
    {
     "data": {
      "text/plain": [
       "   total_bill         tip             sex      smoker      day         time    \n",
       " Min.   : 3.07   Min.   : 1.000   Female: 63   No :105   Fri :16   Dinner:119  \n",
       " 1st Qu.:13.38   1st Qu.: 2.000   Male  :107   Yes: 65   Sat :58   Lunch : 51  \n",
       " Median :17.80   Median : 3.000                          Sun :51               \n",
       " Mean   :19.56   Mean   : 3.003                          Thur:45               \n",
       " 3rd Qu.:23.15   3rd Qu.: 3.578                                                \n",
       " Max.   :50.81   Max.   :10.000                                                \n",
       "      size      \n",
       " Min.   :1.000  \n",
       " 1st Qu.:2.000  \n",
       " Median :2.000  \n",
       " Mean   :2.553  \n",
       " 3rd Qu.:3.000  \n",
       " Max.   :6.000  "
      ]
     },
     "metadata": {},
     "output_type": "display_data"
    }
   ],
   "source": [
    "summary(train)"
   ]
  },
  {
   "cell_type": "markdown",
   "metadata": {},
   "source": [
    "# MODELS"
   ]
  },
  {
   "cell_type": "code",
   "execution_count": 6,
   "metadata": {},
   "outputs": [],
   "source": [
    "### The error we will use is the RMSE and RMSLE\n",
    "rmse <- function(y,y_hat) {\n",
    "    err <- sqrt(sum((y_hat-y)^2,na.rm=T)/length(y))\n",
    "    return(err)\n",
    "}\n",
    "\n",
    "rmsle <- function(y,y_hat) {\n",
    "    err <- sqrt(sum((log(y_hat+1)-log(y+1))^2,na.rm=T)/length(y))\n",
    "    return(err)\n",
    "}\n"
   ]
  },
  {
   "cell_type": "code",
   "execution_count": 7,
   "metadata": {},
   "outputs": [],
   "source": [
    "### Table of resulting errors\n",
    "### Name, Model, RMSE, RMSLE\n",
    "err_res <- NULL"
   ]
  },
  {
   "cell_type": "markdown",
   "metadata": {},
   "source": [
    "## Linear Models"
   ]
  },
  {
   "cell_type": "code",
   "execution_count": 13,
   "metadata": {},
   "outputs": [
    {
     "data": {
      "text/plain": [
       "\n",
       "Call:\n",
       "lm(formula = tip ~ ., data = train)\n",
       "\n",
       "Residuals:\n",
       "    Min      1Q  Median      3Q     Max \n",
       "-2.9615 -0.4672 -0.0690  0.3670  3.9368 \n",
       "\n",
       "Coefficients:\n",
       "            Estimate Std. Error t value Pr(>|t|)    \n",
       "(Intercept)  0.74383    0.40027   1.858    0.065 .  \n",
       "total_bill   0.09734    0.01168   8.331 3.32e-14 ***\n",
       "sexMale     -0.21030    0.16936  -1.242    0.216    \n",
       "smokerYes    0.17068    0.17518   0.974    0.331    \n",
       "daySat      -0.13139    0.35826  -0.367    0.714    \n",
       "daySun       0.15808    0.36983   0.427    0.670    \n",
       "dayThur     -0.10149    0.40477  -0.251    0.802    \n",
       "timeLunch   -0.05436    0.46934  -0.116    0.908    \n",
       "size         0.18151    0.10640   1.706    0.090 .  \n",
       "---\n",
       "Signif. codes:  0 ‘***’ 0.001 ‘**’ 0.01 ‘*’ 0.05 ‘.’ 0.1 ‘ ’ 1\n",
       "\n",
       "Residual standard error: 1.024 on 161 degrees of freedom\n",
       "Multiple R-squared:  0.5034,\tAdjusted R-squared:  0.4787 \n",
       "F-statistic:  20.4 on 8 and 161 DF,  p-value: < 2.2e-16\n"
      ]
     },
     "metadata": {},
     "output_type": "display_data"
    }
   ],
   "source": [
    "## model with only the original variables\n",
    "mod1 <- lm(tip ~., data=train)\n",
    "summary(mod1)"
   ]
  },
  {
   "cell_type": "code",
   "execution_count": 14,
   "metadata": {},
   "outputs": [
    {
     "data": {
      "text/html": [
       "2.4786076828017"
      ],
      "text/latex": [
       "2.4786076828017"
      ],
      "text/markdown": [
       "2.4786076828017"
      ],
      "text/plain": [
       "[1] 2.478608"
      ]
     },
     "metadata": {},
     "output_type": "display_data"
    },
    {
     "data": {
      "text/html": [
       "0.592090475528331"
      ],
      "text/latex": [
       "0.592090475528331"
      ],
      "text/markdown": [
       "0.592090475528331"
      ],
      "text/plain": [
       "[1] 0.5920905"
      ]
     },
     "metadata": {},
     "output_type": "display_data"
    }
   ],
   "source": [
    "pred1 <- predict(mod1,data=test)\n",
    "rmse(test$tip,pred1)\n",
    "rmsle(test$tip,pred1)\n",
    "err_res <- rbind(err_res, data.frame(Name=\"Base Linear regression\", Model=\"mod1\", \n",
    "                                     RMSE=rmse(test$tip,pred1), \n",
    "                                     RMSLE=rmsle(test$tip,pred1)))"
   ]
  },
  {
   "cell_type": "markdown",
   "metadata": {},
   "source": [
    "## Desicion trees"
   ]
  },
  {
   "cell_type": "code",
   "execution_count": 15,
   "metadata": {},
   "outputs": [],
   "source": [
    "library(tree)\n",
    "library(rpart)"
   ]
  },
  {
   "cell_type": "code",
   "execution_count": 16,
   "metadata": {},
   "outputs": [
    {
     "data": {
      "text/plain": [
       "node), split, n, deviance, yval\n",
       "      * denotes terminal node\n",
       "\n",
       " 1) root 170 339.700 3.003  \n",
       "   2) total_bill < 20.47 111  77.120 2.437  \n",
       "     4) total_bill < 16.315 71  34.920 2.105  \n",
       "       8) total_bill < 13.2 40  21.540 1.906  \n",
       "        16) day: Fri,Sat,Thur 32   4.464 1.720 *\n",
       "        17) day: Sun 8  11.550 2.649 *\n",
       "       9) total_bill > 13.2 31   9.727 2.363 *\n",
       "     5) total_bill > 16.315 40  20.490 3.027  \n",
       "      10) smoker: No 29  13.540 2.821 *\n",
       "      11) smoker: Yes 11   2.463 3.570 *\n",
       "   3) total_bill > 20.47 59 160.200 4.068  \n",
       "     6) total_bill < 44.23 54  88.870 3.811  \n",
       "      12) day: Fri,Sat 20  29.560 3.182 *\n",
       "      13) day: Sun,Thur 34  46.760 4.180  \n",
       "        26) size < 3.5 16  14.340 3.611 *\n",
       "        27) size > 3.5 18  22.620 4.687  \n",
       "          54) total_bill < 29.825 9  13.210 4.238 *\n",
       "          55) total_bill > 29.825 9   5.777 5.136 *\n",
       "     7) total_bill > 44.23 5  29.200 6.846 *"
      ]
     },
     "metadata": {},
     "output_type": "display_data"
    }
   ],
   "source": [
    "mod3 <- tree(tip ~., data=train)\n",
    "mod3"
   ]
  },
  {
   "cell_type": "code",
   "execution_count": 17,
   "metadata": {},
   "outputs": [
    {
     "data": {
      "text/html": [
       "1.21053242244782"
      ],
      "text/latex": [
       "1.21053242244782"
      ],
      "text/markdown": [
       "1.21053242244782"
      ],
      "text/plain": [
       "[1] 1.210532"
      ]
     },
     "metadata": {},
     "output_type": "display_data"
    },
    {
     "data": {
      "text/html": [
       "0.273757460088496"
      ],
      "text/latex": [
       "0.273757460088496"
      ],
      "text/markdown": [
       "0.273757460088496"
      ],
      "text/plain": [
       "[1] 0.2737575"
      ]
     },
     "metadata": {},
     "output_type": "display_data"
    }
   ],
   "source": [
    "pred3 <- predict(mod3,newdata=test)\n",
    "rmse(test$tip,pred3)\n",
    "rmsle(test$tip,pred3)\n",
    "err_res <- rbind(err_res, data.frame(Name=\"Decision Trees-tree\", Model=\"mod3\", \n",
    "                                     RMSE=rmse(test$tip,pred3), \n",
    "                                     RMSLE=rmsle(test$tip,pred3)))"
   ]
  },
  {
   "cell_type": "code",
   "execution_count": 18,
   "metadata": {},
   "outputs": [
    {
     "data": {
      "text/plain": [
       "n= 170 \n",
       "\n",
       "node), split, n, deviance, yval\n",
       "      * denotes terminal node\n",
       "\n",
       " 1) root 170 339.747800 3.003294  \n",
       "   2) total_bill< 20.47 111  77.119490 2.437477  \n",
       "     4) total_bill< 16.315 71  34.918760 2.105493  \n",
       "       8) total_bill< 13.2 40  21.536380 1.905750  \n",
       "        16) day=Fri,Sat,Thur 32   4.463800 1.720000 *\n",
       "        17) day=Sun 8  11.552090 2.648750 *\n",
       "       9) total_bill>=13.2 31   9.727277 2.363226 *\n",
       "     5) total_bill>=16.315 40  20.485880 3.026750  \n",
       "      10) smoker=No 29  13.544990 2.820690 *\n",
       "      11) smoker=Yes 11   2.463200 3.570000 *\n",
       "   3) total_bill>=20.47 59 160.235000 4.067797  \n",
       "     6) total_bill< 40.87 52  85.926900 3.764808  \n",
       "      12) day=Fri,Sat 20  29.555520 3.182000 *\n",
       "      13) day=Sun,Thur 32  45.332270 4.129063  \n",
       "        26) size< 3.5 16  14.336890 3.610625 *\n",
       "        27) size>=3.5 16  22.394500 4.647500 *\n",
       "     7) total_bill>=40.87 7  34.072490 6.318571 *"
      ]
     },
     "metadata": {},
     "output_type": "display_data"
    }
   ],
   "source": [
    "mod4 <- rpart(tip ~., data=train)\n",
    "mod4"
   ]
  },
  {
   "cell_type": "code",
   "execution_count": 19,
   "metadata": {},
   "outputs": [
    {
     "data": {
      "text/html": [
       "1.19391602325753"
      ],
      "text/latex": [
       "1.19391602325753"
      ],
      "text/markdown": [
       "1.19391602325753"
      ],
      "text/plain": [
       "[1] 1.193916"
      ]
     },
     "metadata": {},
     "output_type": "display_data"
    },
    {
     "data": {
      "text/html": [
       "0.271932447553732"
      ],
      "text/latex": [
       "0.271932447553732"
      ],
      "text/markdown": [
       "0.271932447553732"
      ],
      "text/plain": [
       "[1] 0.2719324"
      ]
     },
     "metadata": {},
     "output_type": "display_data"
    }
   ],
   "source": [
    "pred4 <- predict(mod4,newdata=test)\n",
    "rmse(test$tip,pred4)\n",
    "rmsle(test$tip,pred4)\n",
    "err_res <- rbind(err_res, data.frame(Name=\"Decision Trees-rpart\", Model=\"mod4\", \n",
    "                                     RMSE=rmse(test$tip,pred4), \n",
    "                                     RMSLE=rmsle(test$tip,pred4)))"
   ]
  },
  {
   "cell_type": "markdown",
   "metadata": {},
   "source": [
    "## Random Forest"
   ]
  },
  {
   "cell_type": "code",
   "execution_count": 20,
   "metadata": {},
   "outputs": [
    {
     "name": "stderr",
     "output_type": "stream",
     "text": [
      "randomForest 4.6-14\n",
      "\n",
      "Type rfNews() to see new features/changes/bug fixes.\n",
      "\n",
      "\n",
      "Attaching package: ‘randomForest’\n",
      "\n",
      "\n",
      "The following object is masked from ‘package:ggplot2’:\n",
      "\n",
      "    margin\n",
      "\n",
      "\n",
      "The following object is masked from ‘package:dplyr’:\n",
      "\n",
      "    combine\n",
      "\n",
      "\n",
      "\n",
      "Attaching package: ‘ranger’\n",
      "\n",
      "\n",
      "The following object is masked from ‘package:randomForest’:\n",
      "\n",
      "    importance\n",
      "\n",
      "\n"
     ]
    }
   ],
   "source": [
    "library(randomForest)\n",
    "library(ranger)"
   ]
  },
  {
   "cell_type": "code",
   "execution_count": 21,
   "metadata": {},
   "outputs": [
    {
     "data": {
      "text/plain": [
       "\n",
       "Call:\n",
       " randomForest(formula = tip ~ ., data = train) \n",
       "               Type of random forest: regression\n",
       "                     Number of trees: 500\n",
       "No. of variables tried at each split: 2\n",
       "\n",
       "          Mean of squared residuals: 1.143062\n",
       "                    % Var explained: 42.8"
      ]
     },
     "metadata": {},
     "output_type": "display_data"
    }
   ],
   "source": [
    "mod5 <- randomForest(tip ~., data=train)\n",
    "mod5"
   ]
  },
  {
   "cell_type": "code",
   "execution_count": 24,
   "metadata": {},
   "outputs": [
    {
     "data": {
      "text/html": [
       "1.04949917032676"
      ],
      "text/latex": [
       "1.04949917032676"
      ],
      "text/markdown": [
       "1.04949917032676"
      ],
      "text/plain": [
       "[1] 1.049499"
      ]
     },
     "metadata": {},
     "output_type": "display_data"
    },
    {
     "data": {
      "text/html": [
       "0.253275439377151"
      ],
      "text/latex": [
       "0.253275439377151"
      ],
      "text/markdown": [
       "0.253275439377151"
      ],
      "text/plain": [
       "[1] 0.2532754"
      ]
     },
     "metadata": {},
     "output_type": "display_data"
    }
   ],
   "source": [
    "pred5 <- predict(mod5,newdata=test)\n",
    "rmse(test$tip,pred5)\n",
    "rmsle(test$tip,pred5)\n",
    "err_res <- rbind(err_res, data.frame(Name=\"RandomForest (RF)\", Model=\"mod5\", \n",
    "                                     RMSE=rmse(test$tip,pred5), \n",
    "                                     RMSLE=rmsle(test$tip,pred5)))"
   ]
  },
  {
   "cell_type": "code",
   "execution_count": 28,
   "metadata": {},
   "outputs": [
    {
     "data": {
      "text/plain": [
       "Ranger result\n",
       "\n",
       "Call:\n",
       " ranger(tip ~ ., data = train) \n",
       "\n",
       "Type:                             Regression \n",
       "Number of trees:                  500 \n",
       "Sample size:                      170 \n",
       "Number of independent variables:  6 \n",
       "Mtry:                             2 \n",
       "Target node size:                 5 \n",
       "Variable importance mode:         none \n",
       "Splitrule:                        variance \n",
       "OOB prediction error (MSE):       1.160737 \n",
       "R squared (OOB):                  0.4226173 "
      ]
     },
     "metadata": {},
     "output_type": "display_data"
    }
   ],
   "source": [
    "mod6 <- ranger(tip ~., data=train)\n",
    "mod6"
   ]
  },
  {
   "cell_type": "code",
   "execution_count": 30,
   "metadata": {},
   "outputs": [
    {
     "data": {
      "text/html": [
       "1.05745371701647"
      ],
      "text/latex": [
       "1.05745371701647"
      ],
      "text/markdown": [
       "1.05745371701647"
      ],
      "text/plain": [
       "[1] 1.057454"
      ]
     },
     "metadata": {},
     "output_type": "display_data"
    },
    {
     "data": {
      "text/html": [
       "0.253059513923935"
      ],
      "text/latex": [
       "0.253059513923935"
      ],
      "text/markdown": [
       "0.253059513923935"
      ],
      "text/plain": [
       "[1] 0.2530595"
      ]
     },
     "metadata": {},
     "output_type": "display_data"
    }
   ],
   "source": [
    "pred6 <- predict(mod6,data=test)\n",
    "#head(pred6)\n",
    "rmse(test$tip,pred6$predictions)\n",
    "rmsle(test$tip,pred6$predictions)\n",
    "err_res <- rbind(err_res, data.frame(Name=\"RandomForest (ranger)\", Model=\"mod6\", \n",
    "                                     RMSE=rmse(test$tip,pred6$predictions), \n",
    "                                     RMSLE=rmsle(test$tip,pred6$predictions)))"
   ]
  },
  {
   "cell_type": "markdown",
   "metadata": {},
   "source": [
    "## XGBoost"
   ]
  },
  {
   "cell_type": "code",
   "execution_count": 31,
   "metadata": {},
   "outputs": [
    {
     "name": "stderr",
     "output_type": "stream",
     "text": [
      "\n",
      "Attaching package: ‘xgboost’\n",
      "\n",
      "\n",
      "The following object is masked from ‘package:dplyr’:\n",
      "\n",
      "    slice\n",
      "\n",
      "\n"
     ]
    }
   ],
   "source": [
    "library(xgboost)"
   ]
  },
  {
   "cell_type": "code",
   "execution_count": 91,
   "metadata": {},
   "outputs": [],
   "source": [
    "#train1 <- Matrix::sparse.model.matrix(tip ~ .-1, data = train)"
   ]
  },
  {
   "cell_type": "code",
   "execution_count": 92,
   "metadata": {},
   "outputs": [],
   "source": [
    "#test1 <- Matrix::sparse.model.matrix(tip ~ .-1, data = test)"
   ]
  },
  {
   "cell_type": "code",
   "execution_count": 39,
   "metadata": {},
   "outputs": [
    {
     "data": {
      "text/plain": [
       "   total_bill         tip             sex      smoker      day         time    \n",
       " Min.   : 3.07   Min.   : 1.000   Female: 63   No :105   Fri :16   Dinner:119  \n",
       " 1st Qu.:13.38   1st Qu.: 2.000   Male  :107   Yes: 65   Sat :58   Lunch : 51  \n",
       " Median :17.80   Median : 3.000                          Sun :51               \n",
       " Mean   :19.56   Mean   : 3.003                          Thur:45               \n",
       " 3rd Qu.:23.15   3rd Qu.: 3.578                                                \n",
       " Max.   :50.81   Max.   :10.000                                                \n",
       "      size      \n",
       " Min.   :1.000  \n",
       " 1st Qu.:2.000  \n",
       " Median :2.000  \n",
       " Mean   :2.553  \n",
       " 3rd Qu.:3.000  \n",
       " Max.   :6.000  "
      ]
     },
     "metadata": {},
     "output_type": "display_data"
    }
   ],
   "source": [
    "summary(train)"
   ]
  },
  {
   "cell_type": "code",
   "execution_count": 76,
   "metadata": {},
   "outputs": [],
   "source": [
    "train1 <- train\n",
    "train1$sex <- ifelse(train$sex=='Female',1,0)\n",
    "train1$smoker <- ifelse(train$smoker=='Yes',1,0)\n",
    "train1$time <- ifelse(train$time=='Dinner',1,0) \n",
    "train1$day_Fri <- ifelse(train$day=='Fri',1,0) \n",
    "train1$day_Sat <- ifelse(train$day=='Sat',1,0) \n",
    "train1$day_Sun <- ifelse(train$day=='Sun',1,0) \n",
    "train1$day <- NULL"
   ]
  },
  {
   "cell_type": "code",
   "execution_count": 77,
   "metadata": {},
   "outputs": [
    {
     "data": {
      "text/plain": [
       "   total_bill         tip             sex             smoker      \n",
       " Min.   : 7.25   Min.   :1.000   Min.   :0.0000   Min.   :0.0000  \n",
       " 1st Qu.:13.37   1st Qu.:2.000   1st Qu.:0.0000   1st Qu.:0.0000  \n",
       " Median :17.74   Median :2.855   Median :0.0000   Median :0.0000  \n",
       " Mean   :20.31   Mean   :2.987   Mean   :0.3243   Mean   :0.3784  \n",
       " 3rd Qu.:25.47   3rd Qu.:3.538   3rd Qu.:1.0000   3rd Qu.:1.0000  \n",
       " Max.   :44.30   Max.   :7.580   Max.   :1.0000   Max.   :1.0000  \n",
       "      time             size          day_Fri           day_Sat      \n",
       " Min.   :0.0000   Min.   :1.000   Min.   :0.00000   Min.   :0.0000  \n",
       " 1st Qu.:1.0000   1st Qu.:2.000   1st Qu.:0.00000   1st Qu.:0.0000  \n",
       " Median :1.0000   Median :2.000   Median :0.00000   Median :0.0000  \n",
       " Mean   :0.7703   Mean   :2.608   Mean   :0.04054   Mean   :0.3919  \n",
       " 3rd Qu.:1.0000   3rd Qu.:3.000   3rd Qu.:0.00000   3rd Qu.:1.0000  \n",
       " Max.   :1.0000   Max.   :5.000   Max.   :1.00000   Max.   :1.0000  \n",
       "    day_Sun      \n",
       " Min.   :0.0000  \n",
       " 1st Qu.:0.0000  \n",
       " Median :0.0000  \n",
       " Mean   :0.3378  \n",
       " 3rd Qu.:1.0000  \n",
       " Max.   :1.0000  "
      ]
     },
     "metadata": {},
     "output_type": "display_data"
    }
   ],
   "source": [
    "test1 <- test\n",
    "test1$sex <- ifelse(test$sex=='Female',1,0)\n",
    "test1$smoker <- ifelse(test$smoker=='Yes',1,0)\n",
    "test1$time <- ifelse(test$time=='Dinner',1,0) \n",
    "test1$day_Fri <- ifelse(test$day=='Fri',1,0) \n",
    "test1$day_Sat <- ifelse(test$day=='Sat',1,0) \n",
    "test1$day_Sun <- ifelse(test$day=='Sun',1,0) \n",
    "test1$day <- NULL\n",
    "summary(test1)"
   ]
  },
  {
   "cell_type": "code",
   "execution_count": 78,
   "metadata": {},
   "outputs": [
    {
     "data": {
      "text/html": [
       "<ol class=list-inline>\n",
       "\t<li>'total_bill'</li>\n",
       "\t<li>'sex'</li>\n",
       "\t<li>'smoker'</li>\n",
       "\t<li>'time'</li>\n",
       "\t<li>'size'</li>\n",
       "\t<li>'day_Fri'</li>\n",
       "\t<li>'day_Sat'</li>\n",
       "\t<li>'day_Sun'</li>\n",
       "</ol>\n"
      ],
      "text/latex": [
       "\\begin{enumerate*}\n",
       "\\item 'total\\_bill'\n",
       "\\item 'sex'\n",
       "\\item 'smoker'\n",
       "\\item 'time'\n",
       "\\item 'size'\n",
       "\\item 'day\\_Fri'\n",
       "\\item 'day\\_Sat'\n",
       "\\item 'day\\_Sun'\n",
       "\\end{enumerate*}\n"
      ],
      "text/markdown": [
       "1. 'total_bill'\n",
       "2. 'sex'\n",
       "3. 'smoker'\n",
       "4. 'time'\n",
       "5. 'size'\n",
       "6. 'day_Fri'\n",
       "7. 'day_Sat'\n",
       "8. 'day_Sun'\n",
       "\n",
       "\n"
      ],
      "text/plain": [
       "[1] \"total_bill\" \"sex\"        \"smoker\"     \"time\"       \"size\"      \n",
       "[6] \"day_Fri\"    \"day_Sat\"    \"day_Sun\"   "
      ]
     },
     "metadata": {},
     "output_type": "display_data"
    }
   ],
   "source": [
    "nm <- setdiff(names(train1),\"tip\")\n",
    "nm"
   ]
  },
  {
   "cell_type": "code",
   "execution_count": 45,
   "metadata": {},
   "outputs": [
    {
     "data": {
      "text/plain": [
       "   total_bill         tip              sex             smoker      \n",
       " Min.   : 3.07   Min.   : 1.000   Min.   :0.0000   Min.   :0.0000  \n",
       " 1st Qu.:13.38   1st Qu.: 2.000   1st Qu.:0.0000   1st Qu.:0.0000  \n",
       " Median :17.80   Median : 3.000   Median :0.0000   Median :0.0000  \n",
       " Mean   :19.56   Mean   : 3.003   Mean   :0.3706   Mean   :0.3824  \n",
       " 3rd Qu.:23.15   3rd Qu.: 3.578   3rd Qu.:1.0000   3rd Qu.:1.0000  \n",
       " Max.   :50.81   Max.   :10.000   Max.   :1.0000   Max.   :1.0000  \n",
       "      time          size          day_Fri           day_Sat          day_Sun   \n",
       " Min.   :0.0   Min.   :1.000   Min.   :0.00000   Min.   :0.0000   Min.   :0.0  \n",
       " 1st Qu.:0.0   1st Qu.:2.000   1st Qu.:0.00000   1st Qu.:0.0000   1st Qu.:0.0  \n",
       " Median :1.0   Median :2.000   Median :0.00000   Median :0.0000   Median :0.0  \n",
       " Mean   :0.7   Mean   :2.553   Mean   :0.09412   Mean   :0.3412   Mean   :0.3  \n",
       " 3rd Qu.:1.0   3rd Qu.:3.000   3rd Qu.:0.00000   3rd Qu.:1.0000   3rd Qu.:1.0  \n",
       " Max.   :1.0   Max.   :6.000   Max.   :1.00000   Max.   :1.0000   Max.   :1.0  "
      ]
     },
     "metadata": {},
     "output_type": "display_data"
    }
   ],
   "source": [
    "summary(train1)"
   ]
  },
  {
   "cell_type": "code",
   "execution_count": 80,
   "metadata": {},
   "outputs": [],
   "source": [
    "#X_train <- xgb.DMatrix(data=train1[,nm],labels=train$tip)\n",
    "#X_train <- xgb.DMatrix(data=as.matrix(train1[,nm]))\n",
    "#X_train <- train1\n",
    "#y_train <- train1$tip\n",
    "#mod7 <- xgboost(data=X_train,label=y_train, nrounds=100,print_every_n = 10)"
   ]
  },
  {
   "cell_type": "code",
   "execution_count": 68,
   "metadata": {},
   "outputs": [
    {
     "name": "stdout",
     "output_type": "stream",
     "text": [
      "[1]\ttrain-rmse:2.152302 \n",
      "[11]\ttrain-rmse:0.473452 \n",
      "[21]\ttrain-rmse:0.318180 \n",
      "[31]\ttrain-rmse:0.228823 \n",
      "[41]\ttrain-rmse:0.159094 \n",
      "[51]\ttrain-rmse:0.119651 \n",
      "[61]\ttrain-rmse:0.094507 \n",
      "[71]\ttrain-rmse:0.066804 \n",
      "[81]\ttrain-rmse:0.049393 \n",
      "[91]\ttrain-rmse:0.036365 \n",
      "[100]\ttrain-rmse:0.026892 \n"
     ]
    }
   ],
   "source": [
    "X_train <- data.matrix(train1[,nm])\n",
    "y_train <- train1$tip\n",
    "mod7 <- xgboost(data=X_train, label = y_train, nrounds=100,print_every_n = 10)"
   ]
  },
  {
   "cell_type": "code",
   "execution_count": 79,
   "metadata": {},
   "outputs": [
    {
     "data": {
      "text/html": [
       "1.22595250403727"
      ],
      "text/latex": [
       "1.22595250403727"
      ],
      "text/markdown": [
       "1.22595250403727"
      ],
      "text/plain": [
       "[1] 1.225953"
      ]
     },
     "metadata": {},
     "output_type": "display_data"
    },
    {
     "data": {
      "text/html": [
       "0.296691980583449"
      ],
      "text/latex": [
       "0.296691980583449"
      ],
      "text/markdown": [
       "0.296691980583449"
      ],
      "text/plain": [
       "[1] 0.296692"
      ]
     },
     "metadata": {},
     "output_type": "display_data"
    }
   ],
   "source": [
    "#X_test <- xgb.DMatrix(test1)\n",
    "X_test <- data.matrix(test1[,nm])\n",
    "y_test <- test1$tip\n",
    "\n",
    "pred7 <- predict(mod7,newdata=X_test)\n",
    "rmse(y_test,pred7)\n",
    "rmsle(y_test,pred7)\n",
    "err_res <- rbind(err_res, data.frame(Name=\"XGBoost\", Model=\"mod7\", \n",
    "                                     RMSE=rmse(test$tip,pred7), \n",
    "                                     RMSLE=rmsle(test$tip,pred7)))"
   ]
  },
  {
   "cell_type": "markdown",
   "metadata": {},
   "source": [
    "## kNN "
   ]
  },
  {
   "cell_type": "code",
   "execution_count": 54,
   "metadata": {},
   "outputs": [],
   "source": [
    "### adaboost needs that values to be normalized\n",
    "min_max <- function(x) { (x -min(x))/(max(x)-min(x))   }"
   ]
  },
  {
   "cell_type": "code",
   "execution_count": 96,
   "metadata": {},
   "outputs": [],
   "source": [
    "#X_train <- sapply(data.frame(as.matrix(train1)),min_max)\n"
   ]
  },
  {
   "cell_type": "code",
   "execution_count": 97,
   "metadata": {},
   "outputs": [],
   "source": [
    "#X_test <- sapply(data.frame(as.matrix(test1)),min_max)"
   ]
  },
  {
   "cell_type": "code",
   "execution_count": 98,
   "metadata": {},
   "outputs": [
    {
     "data": {
      "text/plain": [
       "    holiday0         holiday1             temp           rain_1h        \n",
       " Min.   :0.0000   Min.   :0.000000   Min.   :0.0000   Min.   :0.000000  \n",
       " 1st Qu.:1.0000   1st Qu.:0.000000   1st Qu.:0.4369   1st Qu.:0.000000  \n",
       " Median :1.0000   Median :0.000000   Median :0.5932   Median :0.000000  \n",
       " Mean   :0.9987   Mean   :0.001275   Mean   :0.5751   Mean   :0.002263  \n",
       " 3rd Qu.:1.0000   3rd Qu.:0.000000   3rd Qu.:0.7349   3rd Qu.:0.000000  \n",
       " Max.   :1.0000   Max.   :1.000000   Max.   :1.0000   Max.   :1.000000  \n",
       "    snow_1h            clouds_all    weather_mainClouds weather_mainDrizzle\n",
       " Min.   :0.0000000   Min.   :0.000   Min.   :0.0000     Min.   :0.00000    \n",
       " 1st Qu.:0.0000000   1st Qu.:0.010   1st Qu.:0.0000     1st Qu.:0.00000    \n",
       " Median :0.0000000   Median :0.640   Median :0.0000     Median :0.00000    \n",
       " Mean   :0.0004365   Mean   :0.493   Mean   :0.3146     Mean   :0.03762    \n",
       " 3rd Qu.:0.0000000   3rd Qu.:0.900   3rd Qu.:1.0000     3rd Qu.:0.00000    \n",
       " Max.   :1.0000000   Max.   :1.000   Max.   :1.0000     Max.   :1.00000    \n",
       " weather_mainFog   weather_mainHaze  weather_mainMist weather_mainRain\n",
       " Min.   :0.00000   Min.   :0.00000   Min.   :0.0000   Min.   :0.000   \n",
       " 1st Qu.:0.00000   1st Qu.:0.00000   1st Qu.:0.0000   1st Qu.:0.000   \n",
       " Median :0.00000   Median :0.00000   Median :0.0000   Median :0.000   \n",
       " Mean   :0.01912   Mean   :0.02949   Mean   :0.1227   Mean   :0.118   \n",
       " 3rd Qu.:0.00000   3rd Qu.:0.00000   3rd Qu.:0.0000   3rd Qu.:0.000   \n",
       " Max.   :1.00000   Max.   :1.00000   Max.   :1.0000   Max.   :1.000   \n",
       " weather_mainSmoke   weather_mainSnow  weather_mainSquall\n",
       " Min.   :0.0000000   Min.   :0.00000   Min.   :0.00e+00  \n",
       " 1st Qu.:0.0000000   1st Qu.:0.00000   1st Qu.:0.00e+00  \n",
       " Median :0.0000000   Median :0.00000   Median :0.00e+00  \n",
       " Mean   :0.0004446   Mean   :0.05943   Mean   :8.89e-05  \n",
       " 3rd Qu.:0.0000000   3rd Qu.:0.00000   3rd Qu.:0.00e+00  \n",
       " Max.   :1.0000000   Max.   :1.00000   Max.   :1.00e+00  \n",
       " weather_mainThunderstorm     month2            month3            month4       \n",
       " Min.   :0.00000          Min.   :0.00000   Min.   :0.00000   Min.   :0.00000  \n",
       " 1st Qu.:0.00000          1st Qu.:0.00000   1st Qu.:0.00000   1st Qu.:0.00000  \n",
       " Median :0.00000          Median :0.00000   Median :0.00000   Median :0.00000  \n",
       " Mean   :0.02119          Mean   :0.07366   Mean   :0.07763   Mean   :0.08807  \n",
       " 3rd Qu.:0.00000          3rd Qu.:0.00000   3rd Qu.:0.00000   3rd Qu.:0.00000  \n",
       " Max.   :1.00000          Max.   :1.00000   Max.   :1.00000   Max.   :1.00000  \n",
       "     month5            month6            month7           month8      \n",
       " Min.   :0.00000   Min.   :0.00000   Min.   :0.0000   Min.   :0.0000  \n",
       " 1st Qu.:0.00000   1st Qu.:0.00000   1st Qu.:0.0000   1st Qu.:0.0000  \n",
       " Median :0.00000   Median :0.00000   Median :0.0000   Median :0.0000  \n",
       " Mean   :0.09213   Mean   :0.07817   Mean   :0.0999   Mean   :0.0908  \n",
       " 3rd Qu.:0.00000   3rd Qu.:0.00000   3rd Qu.:0.0000   3rd Qu.:0.0000  \n",
       " Max.   :1.00000   Max.   :1.00000   Max.   :1.0000   Max.   :1.0000  \n",
       "     month9          month10           month11           month12       \n",
       " Min.   :0.0000   Min.   :0.00000   Min.   :0.00000   Min.   :0.00000  \n",
       " 1st Qu.:0.0000   1st Qu.:0.00000   1st Qu.:0.00000   1st Qu.:0.00000  \n",
       " Median :0.0000   Median :0.00000   Median :0.00000   Median :0.00000  \n",
       " Mean   :0.0798   Mean   :0.07177   Mean   :0.07737   Mean   :0.08804  \n",
       " 3rd Qu.:0.0000   3rd Qu.:0.00000   3rd Qu.:0.00000   3rd Qu.:0.00000  \n",
       " Max.   :1.0000   Max.   :1.00000   Max.   :1.00000   Max.   :1.00000  \n",
       "      day2              day3              day4              day5        \n",
       " Min.   :0.00000   Min.   :0.00000   Min.   :0.00000   Min.   :0.00000  \n",
       " 1st Qu.:0.00000   1st Qu.:0.00000   1st Qu.:0.00000   1st Qu.:0.00000  \n",
       " Median :0.00000   Median :0.00000   Median :0.00000   Median :0.00000  \n",
       " Mean   :0.03222   Mean   :0.03249   Mean   :0.03326   Mean   :0.03222  \n",
       " 3rd Qu.:0.00000   3rd Qu.:0.00000   3rd Qu.:0.00000   3rd Qu.:0.00000  \n",
       " Max.   :1.00000   Max.   :1.00000   Max.   :1.00000   Max.   :1.00000  \n",
       "      day6             day7              day8             day9        \n",
       " Min.   :0.0000   Min.   :0.00000   Min.   :0.0000   Min.   :0.00000  \n",
       " 1st Qu.:0.0000   1st Qu.:0.00000   1st Qu.:0.0000   1st Qu.:0.00000  \n",
       " Median :0.0000   Median :0.00000   Median :0.0000   Median :0.00000  \n",
       " Mean   :0.0353   Mean   :0.03341   Mean   :0.0329   Mean   :0.03193  \n",
       " 3rd Qu.:0.0000   3rd Qu.:0.00000   3rd Qu.:0.0000   3rd Qu.:0.00000  \n",
       " Max.   :1.0000   Max.   :1.00000   Max.   :1.0000   Max.   :1.00000  \n",
       "     day10             day11             day12             day13       \n",
       " Min.   :0.00000   Min.   :0.00000   Min.   :0.00000   Min.   :0.0000  \n",
       " 1st Qu.:0.00000   1st Qu.:0.00000   1st Qu.:0.00000   1st Qu.:0.0000  \n",
       " Median :0.00000   Median :0.00000   Median :0.00000   Median :0.0000  \n",
       " Mean   :0.03347   Mean   :0.03391   Mean   :0.03273   Mean   :0.0313  \n",
       " 3rd Qu.:0.00000   3rd Qu.:0.00000   3rd Qu.:0.00000   3rd Qu.:0.0000  \n",
       " Max.   :1.00000   Max.   :1.00000   Max.   :1.00000   Max.   :1.0000  \n",
       "     day14             day15            day16            day17        \n",
       " Min.   :0.00000   Min.   :0.0000   Min.   :0.0000   Min.   :0.00000  \n",
       " 1st Qu.:0.00000   1st Qu.:0.0000   1st Qu.:0.0000   1st Qu.:0.00000  \n",
       " Median :0.00000   Median :0.0000   Median :0.0000   Median :0.00000  \n",
       " Mean   :0.03385   Mean   :0.0337   Mean   :0.0329   Mean   :0.03225  \n",
       " 3rd Qu.:0.00000   3rd Qu.:0.0000   3rd Qu.:0.0000   3rd Qu.:0.00000  \n",
       " Max.   :1.00000   Max.   :1.0000   Max.   :1.0000   Max.   :1.00000  \n",
       "     day18             day19             day20             day21        \n",
       " Min.   :0.00000   Min.   :0.00000   Min.   :0.00000   Min.   :0.00000  \n",
       " 1st Qu.:0.00000   1st Qu.:0.00000   1st Qu.:0.00000   1st Qu.:0.00000  \n",
       " Median :0.00000   Median :0.00000   Median :0.00000   Median :0.00000  \n",
       " Mean   :0.03284   Mean   :0.03619   Mean   :0.03442   Mean   :0.03169  \n",
       " 3rd Qu.:0.00000   3rd Qu.:0.00000   3rd Qu.:0.00000   3rd Qu.:0.00000  \n",
       " Max.   :1.00000   Max.   :1.00000   Max.   :1.00000   Max.   :1.00000  \n",
       "     day22             day23            day24             day25        \n",
       " Min.   :0.00000   Min.   :0.0000   Min.   :0.00000   Min.   :0.00000  \n",
       " 1st Qu.:0.00000   1st Qu.:0.0000   1st Qu.:0.00000   1st Qu.:0.00000  \n",
       " Median :0.00000   Median :0.0000   Median :0.00000   Median :0.00000  \n",
       " Mean   :0.03201   Mean   :0.0332   Mean   :0.03447   Mean   :0.03382  \n",
       " 3rd Qu.:0.00000   3rd Qu.:0.0000   3rd Qu.:0.00000   3rd Qu.:0.00000  \n",
       " Max.   :1.00000   Max.   :1.0000   Max.   :1.00000   Max.   :1.00000  \n",
       "     day26            day27             day28             day29        \n",
       " Min.   :0.0000   Min.   :0.00000   Min.   :0.00000   Min.   :0.00000  \n",
       " 1st Qu.:0.0000   1st Qu.:0.00000   1st Qu.:0.00000   1st Qu.:0.00000  \n",
       " Median :0.0000   Median :0.00000   Median :0.00000   Median :0.00000  \n",
       " Mean   :0.0337   Mean   :0.03142   Mean   :0.03261   Mean   :0.02757  \n",
       " 3rd Qu.:0.0000   3rd Qu.:0.00000   3rd Qu.:0.00000   3rd Qu.:0.00000  \n",
       " Max.   :1.0000   Max.   :1.00000   Max.   :1.00000   Max.   :1.00000  \n",
       "     day30             day31             hour1             hour2        \n",
       " Min.   :0.00000   Min.   :0.00000   Min.   :0.00000   Min.   :0.00000  \n",
       " 1st Qu.:0.00000   1st Qu.:0.00000   1st Qu.:0.00000   1st Qu.:0.00000  \n",
       " Median :0.00000   Median :0.00000   Median :0.00000   Median :0.00000  \n",
       " Mean   :0.02926   Mean   :0.01897   Mean   :0.04248   Mean   :0.04174  \n",
       " 3rd Qu.:0.00000   3rd Qu.:0.00000   3rd Qu.:0.00000   3rd Qu.:0.00000  \n",
       " Max.   :1.00000   Max.   :1.00000   Max.   :1.00000   Max.   :1.00000  \n",
       "     hour3             hour4             hour5            hour6       \n",
       " Min.   :0.00000   Min.   :0.00000   Min.   :0.0000   Min.   :0.0000  \n",
       " 1st Qu.:0.00000   1st Qu.:0.00000   1st Qu.:0.0000   1st Qu.:0.0000  \n",
       " Median :0.00000   Median :0.00000   Median :0.0000   Median :0.0000  \n",
       " Mean   :0.04197   Mean   :0.04378   Mean   :0.0431   Mean   :0.0423  \n",
       " 3rd Qu.:0.00000   3rd Qu.:0.00000   3rd Qu.:0.0000   3rd Qu.:0.0000  \n",
       " Max.   :1.00000   Max.   :1.00000   Max.   :1.0000   Max.   :1.0000  \n",
       "     hour7             hour8            hour9             hour10       \n",
       " Min.   :0.00000   Min.   :0.0000   Min.   :0.00000   Min.   :0.00000  \n",
       " 1st Qu.:0.00000   1st Qu.:0.0000   1st Qu.:0.00000   1st Qu.:0.00000  \n",
       " Median :0.00000   Median :0.0000   Median :0.00000   Median :0.00000  \n",
       " Mean   :0.04357   Mean   :0.0431   Mean   :0.04272   Mean   :0.04286  \n",
       " 3rd Qu.:0.00000   3rd Qu.:0.0000   3rd Qu.:0.00000   3rd Qu.:0.00000  \n",
       " Max.   :1.00000   Max.   :1.0000   Max.   :1.00000   Max.   :1.00000  \n",
       "     hour11            hour12            hour13            hour14      \n",
       " Min.   :0.00000   Min.   :0.00000   Min.   :0.00000   Min.   :0.0000  \n",
       " 1st Qu.:0.00000   1st Qu.:0.00000   1st Qu.:0.00000   1st Qu.:0.0000  \n",
       " Median :0.00000   Median :0.00000   Median :0.00000   Median :0.0000  \n",
       " Mean   :0.03937   Mean   :0.04091   Mean   :0.03928   Mean   :0.0407  \n",
       " 3rd Qu.:0.00000   3rd Qu.:0.00000   3rd Qu.:0.00000   3rd Qu.:0.0000  \n",
       " Max.   :1.00000   Max.   :1.00000   Max.   :1.00000   Max.   :1.0000  \n",
       "     hour15            hour16            hour17            hour18       \n",
       " Min.   :0.00000   Min.   :0.00000   Min.   :0.00000   Min.   :0.00000  \n",
       " 1st Qu.:0.00000   1st Qu.:0.00000   1st Qu.:0.00000   1st Qu.:0.00000  \n",
       " Median :0.00000   Median :0.00000   Median :0.00000   Median :0.00000  \n",
       " Mean   :0.04043   Mean   :0.04153   Mean   :0.04023   Mean   :0.04103  \n",
       " 3rd Qu.:0.00000   3rd Qu.:0.00000   3rd Qu.:0.00000   3rd Qu.:0.00000  \n",
       " Max.   :1.00000   Max.   :1.00000   Max.   :1.00000   Max.   :1.00000  \n",
       "     hour19          hour20            hour21            hour22       \n",
       " Min.   :0.000   Min.   :0.00000   Min.   :0.00000   Min.   :0.00000  \n",
       " 1st Qu.:0.000   1st Qu.:0.00000   1st Qu.:0.00000   1st Qu.:0.00000  \n",
       " Median :0.000   Median :0.00000   Median :0.00000   Median :0.00000  \n",
       " Mean   :0.041   Mean   :0.04239   Mean   :0.04153   Mean   :0.04002  \n",
       " 3rd Qu.:0.000   3rd Qu.:0.00000   3rd Qu.:0.00000   3rd Qu.:0.00000  \n",
       " Max.   :1.000   Max.   :1.00000   Max.   :1.00000   Max.   :1.00000  \n",
       "     hour23        weekdayMonday    weekdaySaturday  weekdaySunday   \n",
       " Min.   :0.00000   Min.   :0.0000   Min.   :0.0000   Min.   :0.0000  \n",
       " 1st Qu.:0.00000   1st Qu.:0.0000   1st Qu.:0.0000   1st Qu.:0.0000  \n",
       " Median :0.00000   Median :0.0000   Median :0.0000   Median :0.0000  \n",
       " Mean   :0.04227   Mean   :0.1461   Mean   :0.1395   Mean   :0.1419  \n",
       " 3rd Qu.:0.00000   3rd Qu.:0.0000   3rd Qu.:0.0000   3rd Qu.:0.0000  \n",
       " Max.   :1.00000   Max.   :1.0000   Max.   :1.0000   Max.   :1.0000  \n",
       " weekdayThursday  weekdayTuesday   weekdayWednesday    seasonal     \n",
       " Min.   :0.0000   Min.   :0.0000   Min.   :0.0000   Min.   :0.0000  \n",
       " 1st Qu.:0.0000   1st Qu.:0.0000   1st Qu.:0.0000   1st Qu.:0.2558  \n",
       " Median :0.0000   Median :0.0000   Median :0.0000   Median :0.6884  \n",
       " Mean   :0.1421   Mean   :0.1429   Mean   :0.1455   Mean   :0.5407  \n",
       " 3rd Qu.:0.0000   3rd Qu.:0.0000   3rd Qu.:0.0000   3rd Qu.:0.7335  \n",
       " Max.   :1.0000   Max.   :1.0000   Max.   :1.0000   Max.   :1.0000  \n",
       "  light_heavy       rainydrizzle      rainyshower          rainyrain     \n",
       " Min.   :0.00000   Min.   :0.00000   Min.   :0.0000000   Min.   :0.0000  \n",
       " 1st Qu.:0.00000   1st Qu.:0.00000   1st Qu.:0.0000000   1st Qu.:0.0000  \n",
       " Median :0.00000   Median :0.00000   Median :0.0000000   Median :0.0000  \n",
       " Mean   :0.09277   Mean   :0.03791   Mean   :0.0004743   Mean   :0.1225  \n",
       " 3rd Qu.:0.00000   3rd Qu.:0.00000   3rd Qu.:0.0000000   3rd Qu.:0.0000  \n",
       " Max.   :1.00000   Max.   :1.00000   Max.   :1.0000000   Max.   :1.0000  \n",
       "   clearclear        clearfog       thunderstormYes  \n",
       " Min.   :0.0000   Min.   :0.00000   Min.   :0.00000  \n",
       " 1st Qu.:0.0000   1st Qu.:0.00000   1st Qu.:0.00000  \n",
       " Median :0.0000   Median :0.00000   Median :0.00000  \n",
       " Mean   :0.2416   Mean   :0.01912   Mean   :0.02119  \n",
       " 3rd Qu.:0.0000   3rd Qu.:0.00000   3rd Qu.:0.00000  \n",
       " Max.   :1.0000   Max.   :1.00000   Max.   :1.00000  "
      ]
     },
     "metadata": {},
     "output_type": "display_data"
    }
   ],
   "source": [
    "#summary(X_train)"
   ]
  },
  {
   "cell_type": "code",
   "execution_count": 82,
   "metadata": {},
   "outputs": [],
   "source": [
    "library(class)\n",
    "#mod8 <- knn(X_train,X_test,cl=train$tip)\n",
    "mod8 <- knn(train1,test1,cl=train1$tip)"
   ]
  },
  {
   "cell_type": "code",
   "execution_count": 83,
   "metadata": {},
   "outputs": [
    {
     "name": "stdout",
     "output_type": "stream",
     "text": [
      " Factor w/ 89 levels \"1\",\"1.1\",\"1.17\",..: 42 16 11 50 40 47 64 55 48 39 ...\n"
     ]
    }
   ],
   "source": [
    "str(mod8)"
   ]
  },
  {
   "cell_type": "code",
   "execution_count": 84,
   "metadata": {},
   "outputs": [
    {
     "data": {
      "text/html": [
       "0.62968460573743"
      ],
      "text/latex": [
       "0.62968460573743"
      ],
      "text/markdown": [
       "0.62968460573743"
      ],
      "text/plain": [
       "[1] 0.6296846"
      ]
     },
     "metadata": {},
     "output_type": "display_data"
    },
    {
     "data": {
      "text/html": [
       "0.160097412724519"
      ],
      "text/latex": [
       "0.160097412724519"
      ],
      "text/markdown": [
       "0.160097412724519"
      ],
      "text/plain": [
       "[1] 0.1600974"
      ]
     },
     "metadata": {},
     "output_type": "display_data"
    }
   ],
   "source": [
    "pred8 <- as.numeric(as.character(mod8))\n",
    "\n",
    "rmse(test$tip,pred8)\n",
    "rmsle(test$tip,pred8)\n",
    "err_res <- rbind(err_res, data.frame(Name=\"kNN\", Model=\"mod8\", \n",
    "                                     RMSE=rmse(test$tip,pred8), \n",
    "                                     RMSLE=rmsle(test$tip,pred8)))"
   ]
  },
  {
   "cell_type": "markdown",
   "metadata": {},
   "source": [
    "## SVM"
   ]
  },
  {
   "cell_type": "code",
   "execution_count": 59,
   "metadata": {},
   "outputs": [],
   "source": [
    "#install.packages(\"liquidSVM\")\n",
    "library(liquidSVM)\n",
    "\n",
    "mod9 <- svm(tip ~., train)"
   ]
  },
  {
   "cell_type": "code",
   "execution_count": 60,
   "metadata": {},
   "outputs": [
    {
     "data": {
      "text/html": [
       "1.04042413621302"
      ],
      "text/latex": [
       "1.04042413621302"
      ],
      "text/markdown": [
       "1.04042413621302"
      ],
      "text/plain": [
       "[1] 1.040424"
      ]
     },
     "metadata": {},
     "output_type": "display_data"
    },
    {
     "data": {
      "text/html": [
       "0.248682596758436"
      ],
      "text/latex": [
       "0.248682596758436"
      ],
      "text/markdown": [
       "0.248682596758436"
      ],
      "text/plain": [
       "[1] 0.2486826"
      ]
     },
     "metadata": {},
     "output_type": "display_data"
    }
   ],
   "source": [
    "pred9 <- predict(mod9, newdata=test)\n",
    "\n",
    "rmse(test$tip,pred9)\n",
    "rmsle(test$tip,pred9)\n",
    "err_res <- rbind(err_res, data.frame(Name=\"SVM\", Model=\"mod9\", \n",
    "                                     RMSE=rmse(test$tip,pred9), \n",
    "                                     RMSLE=rmsle(test$tip,pred9)))"
   ]
  },
  {
   "cell_type": "code",
   "execution_count": 85,
   "metadata": {},
   "outputs": [
    {
     "data": {
      "text/html": [
       "<table>\n",
       "<caption>A data.frame: 8 × 4</caption>\n",
       "<thead>\n",
       "\t<tr><th scope=col>Name</th><th scope=col>Model</th><th scope=col>RMSE</th><th scope=col>RMSLE</th></tr>\n",
       "\t<tr><th scope=col>&lt;fct&gt;</th><th scope=col>&lt;fct&gt;</th><th scope=col>&lt;dbl&gt;</th><th scope=col>&lt;dbl&gt;</th></tr>\n",
       "</thead>\n",
       "<tbody>\n",
       "\t<tr><td>kNN                   </td><td>mod8</td><td>0.6296846</td><td>0.1600974</td></tr>\n",
       "\t<tr><td>SVM                   </td><td>mod9</td><td>1.0404241</td><td>0.2486826</td></tr>\n",
       "\t<tr><td>RandomForest (ranger) </td><td>mod6</td><td>1.0574537</td><td>0.2530595</td></tr>\n",
       "\t<tr><td>RandomForest (RF)     </td><td>mod5</td><td>1.0494992</td><td>0.2532754</td></tr>\n",
       "\t<tr><td>Decision Trees-rpart  </td><td>mod4</td><td>1.1939160</td><td>0.2719324</td></tr>\n",
       "\t<tr><td>Decision Trees-tree   </td><td>mod3</td><td>1.2105324</td><td>0.2737575</td></tr>\n",
       "\t<tr><td>XGBoost               </td><td>mod7</td><td>1.2259525</td><td>0.2966920</td></tr>\n",
       "\t<tr><td>Base Linear regression</td><td>mod1</td><td>2.4786077</td><td>0.5920905</td></tr>\n",
       "</tbody>\n",
       "</table>\n"
      ],
      "text/latex": [
       "A data.frame: 8 × 4\n",
       "\\begin{tabular}{r|llll}\n",
       " Name & Model & RMSE & RMSLE\\\\\n",
       " <fct> & <fct> & <dbl> & <dbl>\\\\\n",
       "\\hline\n",
       "\t kNN                    & mod8 & 0.6296846 & 0.1600974\\\\\n",
       "\t SVM                    & mod9 & 1.0404241 & 0.2486826\\\\\n",
       "\t RandomForest (ranger)  & mod6 & 1.0574537 & 0.2530595\\\\\n",
       "\t RandomForest (RF)      & mod5 & 1.0494992 & 0.2532754\\\\\n",
       "\t Decision Trees-rpart   & mod4 & 1.1939160 & 0.2719324\\\\\n",
       "\t Decision Trees-tree    & mod3 & 1.2105324 & 0.2737575\\\\\n",
       "\t XGBoost                & mod7 & 1.2259525 & 0.2966920\\\\\n",
       "\t Base Linear regression & mod1 & 2.4786077 & 0.5920905\\\\\n",
       "\\end{tabular}\n"
      ],
      "text/markdown": [
       "\n",
       "A data.frame: 8 × 4\n",
       "\n",
       "| Name &lt;fct&gt; | Model &lt;fct&gt; | RMSE &lt;dbl&gt; | RMSLE &lt;dbl&gt; |\n",
       "|---|---|---|---|\n",
       "| kNN                    | mod8 | 0.6296846 | 0.1600974 |\n",
       "| SVM                    | mod9 | 1.0404241 | 0.2486826 |\n",
       "| RandomForest (ranger)  | mod6 | 1.0574537 | 0.2530595 |\n",
       "| RandomForest (RF)      | mod5 | 1.0494992 | 0.2532754 |\n",
       "| Decision Trees-rpart   | mod4 | 1.1939160 | 0.2719324 |\n",
       "| Decision Trees-tree    | mod3 | 1.2105324 | 0.2737575 |\n",
       "| XGBoost                | mod7 | 1.2259525 | 0.2966920 |\n",
       "| Base Linear regression | mod1 | 2.4786077 | 0.5920905 |\n",
       "\n"
      ],
      "text/plain": [
       "  Name                   Model RMSE      RMSLE    \n",
       "1 kNN                    mod8  0.6296846 0.1600974\n",
       "2 SVM                    mod9  1.0404241 0.2486826\n",
       "3 RandomForest (ranger)  mod6  1.0574537 0.2530595\n",
       "4 RandomForest (RF)      mod5  1.0494992 0.2532754\n",
       "5 Decision Trees-rpart   mod4  1.1939160 0.2719324\n",
       "6 Decision Trees-tree    mod3  1.2105324 0.2737575\n",
       "7 XGBoost                mod7  1.2259525 0.2966920\n",
       "8 Base Linear regression mod1  2.4786077 0.5920905"
      ]
     },
     "metadata": {},
     "output_type": "display_data"
    }
   ],
   "source": [
    "err_res %>% arrange(RMSLE)"
   ]
  }
 ],
 "metadata": {
  "kernelspec": {
   "display_name": "R",
   "language": "R",
   "name": "ir"
  },
  "language_info": {
   "codemirror_mode": "r",
   "file_extension": ".r",
   "mimetype": "text/x-r-source",
   "name": "R",
   "pygments_lexer": "r",
   "version": "3.6.3"
  }
 },
 "nbformat": 4,
 "nbformat_minor": 2
}
