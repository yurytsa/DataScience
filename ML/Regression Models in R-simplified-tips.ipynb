{
 "cells": [
  {
   "cell_type": "markdown",
   "metadata": {},
   "source": [
    "# Regression Models in R (tips)"
   ]
  },
  {
   "cell_type": "code",
   "execution_count": 1,
   "metadata": {},
   "outputs": [
    {
     "name": "stderr",
     "output_type": "stream",
     "text": [
      "Warning message:\n",
      "\"package 'dplyr' was built under R version 4.0.2\"\n",
      "\n",
      "Attaching package: 'dplyr'\n",
      "\n",
      "\n",
      "The following objects are masked from 'package:stats':\n",
      "\n",
      "    filter, lag\n",
      "\n",
      "\n",
      "The following objects are masked from 'package:base':\n",
      "\n",
      "    intersect, setdiff, setequal, union\n",
      "\n",
      "\n",
      "Warning message:\n",
      "\"package 'ggplot2' was built under R version 4.0.2\"\n"
     ]
    }
   ],
   "source": [
    "library(readr)\n",
    "library(mechkar)\n",
    "library(dplyr)\n",
    "library(ggplot2)"
   ]
  },
  {
   "cell_type": "code",
   "execution_count": 2,
   "metadata": {},
   "outputs": [
    {
     "name": "stderr",
     "output_type": "stream",
     "text": [
      "Parsed with column specification:\n",
      "cols(\n",
      "  holiday = \u001b[31mcol_character()\u001b[39m,\n",
      "  temp = \u001b[32mcol_double()\u001b[39m,\n",
      "  rain_1h = \u001b[32mcol_double()\u001b[39m,\n",
      "  snow_1h = \u001b[32mcol_double()\u001b[39m,\n",
      "  clouds_all = \u001b[32mcol_double()\u001b[39m,\n",
      "  weather_main = \u001b[31mcol_character()\u001b[39m,\n",
      "  weather_description = \u001b[31mcol_character()\u001b[39m,\n",
      "  date_time = \u001b[34mcol_datetime(format = \"\")\u001b[39m,\n",
      "  traffic_volume = \u001b[32mcol_double()\u001b[39m\n",
      ")\n",
      "\n"
     ]
    }
   ],
   "source": [
    "\n",
    "df <- read.csv(../data/tips.csv)"
   ]
  },
  {
   "cell_type": "code",
   "execution_count": 3,
   "metadata": {},
   "outputs": [
    {
     "data": {
      "text/html": [
       "<table>\n",
       "<caption>A tibble: 6 × 9</caption>\n",
       "<thead>\n",
       "\t<tr><th scope=col>holiday</th><th scope=col>temp</th><th scope=col>rain_1h</th><th scope=col>snow_1h</th><th scope=col>clouds_all</th><th scope=col>weather_main</th><th scope=col>weather_description</th><th scope=col>date_time</th><th scope=col>traffic_volume</th></tr>\n",
       "\t<tr><th scope=col>&lt;chr&gt;</th><th scope=col>&lt;dbl&gt;</th><th scope=col>&lt;dbl&gt;</th><th scope=col>&lt;dbl&gt;</th><th scope=col>&lt;dbl&gt;</th><th scope=col>&lt;chr&gt;</th><th scope=col>&lt;chr&gt;</th><th scope=col>&lt;dttm&gt;</th><th scope=col>&lt;dbl&gt;</th></tr>\n",
       "</thead>\n",
       "<tbody>\n",
       "\t<tr><td>None</td><td>288.28</td><td>0</td><td>0</td><td>40</td><td>Clouds</td><td>scattered clouds</td><td>2012-10-02 09:00:00</td><td>5545</td></tr>\n",
       "\t<tr><td>None</td><td>289.36</td><td>0</td><td>0</td><td>75</td><td>Clouds</td><td>broken clouds   </td><td>2012-10-02 10:00:00</td><td>4516</td></tr>\n",
       "\t<tr><td>None</td><td>289.58</td><td>0</td><td>0</td><td>90</td><td>Clouds</td><td>overcast clouds </td><td>2012-10-02 11:00:00</td><td>4767</td></tr>\n",
       "\t<tr><td>None</td><td>290.13</td><td>0</td><td>0</td><td>90</td><td>Clouds</td><td>overcast clouds </td><td>2012-10-02 12:00:00</td><td>5026</td></tr>\n",
       "\t<tr><td>None</td><td>291.14</td><td>0</td><td>0</td><td>75</td><td>Clouds</td><td>broken clouds   </td><td>2012-10-02 13:00:00</td><td>4918</td></tr>\n",
       "\t<tr><td>None</td><td>291.72</td><td>0</td><td>0</td><td> 1</td><td>Clear </td><td>sky is clear    </td><td>2012-10-02 14:00:00</td><td>5181</td></tr>\n",
       "</tbody>\n",
       "</table>\n"
      ],
      "text/latex": [
       "A tibble: 6 × 9\n",
       "\\begin{tabular}{lllllllll}\n",
       " holiday & temp & rain\\_1h & snow\\_1h & clouds\\_all & weather\\_main & weather\\_description & date\\_time & traffic\\_volume\\\\\n",
       " <chr> & <dbl> & <dbl> & <dbl> & <dbl> & <chr> & <chr> & <dttm> & <dbl>\\\\\n",
       "\\hline\n",
       "\t None & 288.28 & 0 & 0 & 40 & Clouds & scattered clouds & 2012-10-02 09:00:00 & 5545\\\\\n",
       "\t None & 289.36 & 0 & 0 & 75 & Clouds & broken clouds    & 2012-10-02 10:00:00 & 4516\\\\\n",
       "\t None & 289.58 & 0 & 0 & 90 & Clouds & overcast clouds  & 2012-10-02 11:00:00 & 4767\\\\\n",
       "\t None & 290.13 & 0 & 0 & 90 & Clouds & overcast clouds  & 2012-10-02 12:00:00 & 5026\\\\\n",
       "\t None & 291.14 & 0 & 0 & 75 & Clouds & broken clouds    & 2012-10-02 13:00:00 & 4918\\\\\n",
       "\t None & 291.72 & 0 & 0 &  1 & Clear  & sky is clear     & 2012-10-02 14:00:00 & 5181\\\\\n",
       "\\end{tabular}\n"
      ],
      "text/markdown": [
       "\n",
       "A tibble: 6 × 9\n",
       "\n",
       "| holiday &lt;chr&gt; | temp &lt;dbl&gt; | rain_1h &lt;dbl&gt; | snow_1h &lt;dbl&gt; | clouds_all &lt;dbl&gt; | weather_main &lt;chr&gt; | weather_description &lt;chr&gt; | date_time &lt;dttm&gt; | traffic_volume &lt;dbl&gt; |\n",
       "|---|---|---|---|---|---|---|---|---|\n",
       "| None | 288.28 | 0 | 0 | 40 | Clouds | scattered clouds | 2012-10-02 09:00:00 | 5545 |\n",
       "| None | 289.36 | 0 | 0 | 75 | Clouds | broken clouds    | 2012-10-02 10:00:00 | 4516 |\n",
       "| None | 289.58 | 0 | 0 | 90 | Clouds | overcast clouds  | 2012-10-02 11:00:00 | 4767 |\n",
       "| None | 290.13 | 0 | 0 | 90 | Clouds | overcast clouds  | 2012-10-02 12:00:00 | 5026 |\n",
       "| None | 291.14 | 0 | 0 | 75 | Clouds | broken clouds    | 2012-10-02 13:00:00 | 4918 |\n",
       "| None | 291.72 | 0 | 0 |  1 | Clear  | sky is clear     | 2012-10-02 14:00:00 | 5181 |\n",
       "\n"
      ],
      "text/plain": [
       "  holiday temp   rain_1h snow_1h clouds_all weather_main weather_description\n",
       "1 None    288.28 0       0       40         Clouds       scattered clouds   \n",
       "2 None    289.36 0       0       75         Clouds       broken clouds      \n",
       "3 None    289.58 0       0       90         Clouds       overcast clouds    \n",
       "4 None    290.13 0       0       90         Clouds       overcast clouds    \n",
       "5 None    291.14 0       0       75         Clouds       broken clouds      \n",
       "6 None    291.72 0       0        1         Clear        sky is clear       \n",
       "  date_time           traffic_volume\n",
       "1 2012-10-02 09:00:00 5545          \n",
       "2 2012-10-02 10:00:00 4516          \n",
       "3 2012-10-02 11:00:00 4767          \n",
       "4 2012-10-02 12:00:00 5026          \n",
       "5 2012-10-02 13:00:00 4918          \n",
       "6 2012-10-02 14:00:00 5181          "
      ]
     },
     "metadata": {},
     "output_type": "display_data"
    },
    {
     "data": {
      "text/html": [
       "<style>\n",
       ".list-inline {list-style: none; margin:0; padding: 0}\n",
       ".list-inline>li {display: inline-block}\n",
       ".list-inline>li:not(:last-child)::after {content: \"\\00b7\"; padding: 0 .5ex}\n",
       "</style>\n",
       "<ol class=list-inline><li>48204</li><li>9</li></ol>\n"
      ],
      "text/latex": [
       "\\begin{enumerate*}\n",
       "\\item 48204\n",
       "\\item 9\n",
       "\\end{enumerate*}\n"
      ],
      "text/markdown": [
       "1. 48204\n",
       "2. 9\n",
       "\n",
       "\n"
      ],
      "text/plain": [
       "[1] 48204     9"
      ]
     },
     "metadata": {},
     "output_type": "display_data"
    }
   ],
   "source": [
    "head(df)\n",
    "dim(df)"
   ]
  },
  {
   "cell_type": "markdown",
   "metadata": {},
   "source": [
    "# EDA"
   ]
  },
  {
   "cell_type": "code",
   "execution_count": 4,
   "metadata": {},
   "outputs": [
    {
     "data": {
      "text/plain": [
       "   holiday               temp          rain_1h            snow_1h         \n",
       " Length:48204       Min.   :  0.0   Min.   :   0.000   Min.   :0.0000000  \n",
       " Class :character   1st Qu.:272.2   1st Qu.:   0.000   1st Qu.:0.0000000  \n",
       " Mode  :character   Median :282.4   Median :   0.000   Median :0.0000000  \n",
       "                    Mean   :281.2   Mean   :   0.334   Mean   :0.0002224  \n",
       "                    3rd Qu.:291.8   3rd Qu.:   0.000   3rd Qu.:0.0000000  \n",
       "                    Max.   :310.1   Max.   :9831.300   Max.   :0.5100000  \n",
       "   clouds_all     weather_main       weather_description\n",
       " Min.   :  0.00   Length:48204       Length:48204       \n",
       " 1st Qu.:  1.00   Class :character   Class :character   \n",
       " Median : 64.00   Mode  :character   Mode  :character   \n",
       " Mean   : 49.36                                         \n",
       " 3rd Qu.: 90.00                                         \n",
       " Max.   :100.00                                         \n",
       "   date_time                   traffic_volume\n",
       " Min.   :2012-10-02 09:00:00   Min.   :   0  \n",
       " 1st Qu.:2014-02-06 11:45:00   1st Qu.:1193  \n",
       " Median :2016-06-11 03:30:00   Median :3380  \n",
       " Mean   :2016-01-05 10:46:16   Mean   :3260  \n",
       " 3rd Qu.:2017-08-11 06:00:00   3rd Qu.:4933  \n",
       " Max.   :2018-09-30 23:00:00   Max.   :7280  "
      ]
     },
     "metadata": {},
     "output_type": "display_data"
    }
   ],
   "source": [
    "summary(df)"
   ]
  },
  {
   "cell_type": "code",
   "execution_count": 13,
   "metadata": {},
   "outputs": [
    {
     "data": {
      "text/plain": [
       "                      holiday           temp          rain_1h        \n",
       " None                     :48143   Min.   :  0.0   Min.   :   0.000  \n",
       " Labor Day                :    7   1st Qu.:272.2   1st Qu.:   0.000  \n",
       " Christmas Day            :    6   Median :282.4   Median :   0.000  \n",
       " Martin Luther King Jr Day:    6   Mean   :281.2   Mean   :   0.334  \n",
       " New Years Day            :    6   3rd Qu.:291.8   3rd Qu.:   0.000  \n",
       " Thanksgiving Day         :    6   Max.   :310.1   Max.   :9831.300  \n",
       " (Other)                  :   30                                     \n",
       "    snow_1h            clouds_all      weather_main         weather_description\n",
       " Min.   :0.0000000   Min.   :  0.00   Clouds :15164   sky is clear    :11665   \n",
       " 1st Qu.:0.0000000   1st Qu.:  1.00   Clear  :13391   mist            : 5950   \n",
       " Median :0.0000000   Median : 64.00   Mist   : 5950   overcast clouds : 5081   \n",
       " Mean   :0.0002224   Mean   : 49.36   Rain   : 5672   broken clouds   : 4666   \n",
       " 3rd Qu.:0.0000000   3rd Qu.: 90.00   Snow   : 2876   scattered clouds: 3461   \n",
       " Max.   :0.5100000   Max.   :100.00   Drizzle: 1821   light rain      : 3372   \n",
       "                                      (Other): 3330   (Other)         :14009   \n",
       " traffic_volume      day            month            wday            hour     \n",
       " Min.   :   0   Min.   : 1.00   Min.   : 1.00   Min.   :1.000   Min.   : 0.0  \n",
       " 1st Qu.:1193   1st Qu.: 8.00   1st Qu.: 8.00   1st Qu.:2.000   1st Qu.: 5.0  \n",
       " Median :3380   Median :16.00   Median :16.00   Median :4.000   Median :11.0  \n",
       " Mean   :3260   Mean   :15.74   Mean   :15.74   Mean   :3.987   Mean   :11.4  \n",
       " 3rd Qu.:4933   3rd Qu.:23.00   3rd Qu.:23.00   3rd Qu.:6.000   3rd Qu.:17.0  \n",
       " Max.   :7280   Max.   :31.00   Max.   :31.00   Max.   :7.000   Max.   :23.0  \n",
       "                                                                              "
      ]
     },
     "metadata": {},
     "output_type": "display_data"
    }
   ],
   "source": [
    "summary(df)"
   ]
  },
  {
   "cell_type": "markdown",
   "metadata": {},
   "source": [
    "# DATASET PARTITION"
   ]
  },
  {
   "cell_type": "code",
   "execution_count": 15,
   "metadata": {},
   "outputs": [
    {
     "name": "stderr",
     "output_type": "stream",
     "text": [
      "Dataset partitioned into:\n",
      "\n",
      " + Train dataset: train\n",
      "\n",
      " + Test dataset: test\n",
      "\n",
      "Warning message in Table1(data = df, y = \"traintest_ind_\", messages = FALSE):\n",
      "\"The following variables have unique values and will not be included in the analysis: \"\n"
     ]
    },
    {
     "name": "stdout",
     "output_type": "stream",
     "text": [
      "  |=================================================================     |  92%"
     ]
    },
    {
     "name": "stderr",
     "output_type": "stream",
     "text": [
      " \n",
      "\n",
      "You got a perfectly balanced training and test datasets\n",
      "\n",
      " \n",
      "\n"
     ]
    },
    {
     "data": {
      "text/html": [
       "<table>\n",
       "<caption>A tibble: 82 × 6</caption>\n",
       "<thead>\n",
       "\t<tr><th scope=col>V1</th><th scope=col>V2</th><th scope=col>Pop</th><th scope=col>1</th><th scope=col>2</th><th scope=col>pval</th></tr>\n",
       "\t<tr><th scope=col>&lt;chr&gt;</th><th scope=col>&lt;chr&gt;</th><th scope=col>&lt;chr&gt;</th><th scope=col>&lt;chr&gt;</th><th scope=col>&lt;chr&gt;</th><th scope=col>&lt;chr&gt;</th></tr>\n",
       "</thead>\n",
       "<tbody>\n",
       "\t<tr><td>Individuals </td><td>n                        </td><td>48204              </td><td>33742              </td><td>14462              </td><td>NA   </td></tr>\n",
       "\t<tr><td>holiday     </td><td>Christmas Day            </td><td>6 (0.0%)           </td><td>5 (0.0%)           </td><td>1 (0.0%)           </td><td>NA   </td></tr>\n",
       "\t<tr><td>holiday     </td><td>Columbus Day             </td><td>5 (0.0%)           </td><td>2 (0.0%)           </td><td>3 (0.0%)           </td><td>0.716</td></tr>\n",
       "\t<tr><td>holiday     </td><td>Independence Day         </td><td>5 (0.0%)           </td><td>2 (0.0%)           </td><td>3 (0.0%)           </td><td>NA   </td></tr>\n",
       "\t<tr><td>holiday     </td><td>Labor Day                </td><td>7 (0.0%)           </td><td>3 (0.0%)           </td><td>4 (0.0%)           </td><td>NA   </td></tr>\n",
       "\t<tr><td>holiday     </td><td>Martin Luther King Jr Day</td><td>6 (0.0%)           </td><td>3 (0.0%)           </td><td>3 (0.0%)           </td><td>NA   </td></tr>\n",
       "\t<tr><td>holiday     </td><td>Memorial Day             </td><td>5 (0.0%)           </td><td>3 (0.0%)           </td><td>2 (0.0%)           </td><td>NA   </td></tr>\n",
       "\t<tr><td>holiday     </td><td>New Years Day            </td><td>6 (0.0%)           </td><td>4 (0.0%)           </td><td>2 (0.0%)           </td><td>NA   </td></tr>\n",
       "\t<tr><td>holiday     </td><td>None                     </td><td>48,143 (99.9%)     </td><td>33,710 (99.9%)     </td><td>14,433 (99.8%)     </td><td>NA   </td></tr>\n",
       "\t<tr><td>holiday     </td><td>State Fair               </td><td>5 (0.0%)           </td><td>1 (0.0%)           </td><td>4 (0.0%)           </td><td>NA   </td></tr>\n",
       "\t<tr><td>holiday     </td><td>Thanksgiving Day         </td><td>6 (0.0%)           </td><td>4 (0.0%)           </td><td>2 (0.0%)           </td><td>NA   </td></tr>\n",
       "\t<tr><td>holiday     </td><td>Veterans Day             </td><td>5 (0.0%)           </td><td>4 (0.0%)           </td><td>1 (0.0%)           </td><td>NA   </td></tr>\n",
       "\t<tr><td>holiday     </td><td>Washingtons Birthday     </td><td>5 (0.0%)           </td><td>1 (0.0%)           </td><td>4 (0.0%)           </td><td>NA   </td></tr>\n",
       "\t<tr><td>temp        </td><td>Mean (SD)                </td><td>281.2 (13.3)       </td><td>281.3 (13.3)       </td><td>281.0 (13.3)       </td><td>NA   </td></tr>\n",
       "\t<tr><td>temp        </td><td>Median (IQR)             </td><td>282.4 (272.2-291.8)</td><td>282.6 (272.2-291.9)</td><td>282.1 (272.1-291.7)</td><td>0.072</td></tr>\n",
       "\t<tr><td>rain_1h     </td><td>Mean (SD)                </td><td>0.3 (44.8)         </td><td>0.4 (53.5)         </td><td>0.1 (1.1)          </td><td>NA   </td></tr>\n",
       "\t<tr><td>rain_1h     </td><td>Median (IQR)             </td><td>0.0 (0.0-0.0)      </td><td>0.0 (0.0-0.0)      </td><td>0.0 (0.0-0.0)      </td><td>0.319</td></tr>\n",
       "\t<tr><td>snow_1h     </td><td>Mean (SD)                </td><td>0.0 (0.0)          </td><td>0.0 (0.0)          </td><td>0.0 (0.0)          </td><td>NA   </td></tr>\n",
       "\t<tr><td>snow_1h     </td><td>Median (IQR)             </td><td>0.0 (0.0-0.0)      </td><td>0.0 (0.0-0.0)      </td><td>0.0 (0.0-0.0)      </td><td>0.918</td></tr>\n",
       "\t<tr><td>clouds_all  </td><td>Mean (SD)                </td><td>49.4 (39.0)        </td><td>49.2 (39.0)        </td><td>49.7 (39.0)        </td><td>NA   </td></tr>\n",
       "\t<tr><td>clouds_all  </td><td>Median (IQR)             </td><td>64.0 (1.0-90.0)    </td><td>64.0 (1.0-90.0)    </td><td>64.0 (1.0-90.0)    </td><td>0.231</td></tr>\n",
       "\t<tr><td>weather_main</td><td>Clear                    </td><td>13,391 (27.8%)     </td><td>9,388 (27.8%)      </td><td>4,003 (27.7%)      </td><td>NA   </td></tr>\n",
       "\t<tr><td>weather_main</td><td>Clouds                   </td><td>15,164 (31.5%)     </td><td>10,692 (31.7%)     </td><td>4,472 (30.9%)      </td><td>0.093</td></tr>\n",
       "\t<tr><td>weather_main</td><td>Drizzle                  </td><td>1,821 (3.8%)       </td><td>1,275 (3.8%)       </td><td>546 (3.8%)         </td><td>NA   </td></tr>\n",
       "\t<tr><td>weather_main</td><td>Fog                      </td><td>912 (1.9%)         </td><td>634 (1.9%)         </td><td>278 (1.9%)         </td><td>NA   </td></tr>\n",
       "\t<tr><td>weather_main</td><td>Haze                     </td><td>1,360 (2.8%)       </td><td>961 (2.8%)         </td><td>399 (2.8%)         </td><td>NA   </td></tr>\n",
       "\t<tr><td>weather_main</td><td>Mist                     </td><td>5,950 (12.3%)      </td><td>4,149 (12.3%)      </td><td>1,801 (12.5%)      </td><td>NA   </td></tr>\n",
       "\t<tr><td>weather_main</td><td>Rain                     </td><td>5,672 (11.8%)      </td><td>3,947 (11.7%)      </td><td>1,725 (11.9%)      </td><td>NA   </td></tr>\n",
       "\t<tr><td>weather_main</td><td>Smoke                    </td><td>20 (0.0%)          </td><td>16 (0.0%)          </td><td>4 (0.0%)           </td><td>NA   </td></tr>\n",
       "\t<tr><td>weather_main</td><td>Snow                     </td><td>2,876 (6.0%)       </td><td>1,950 (5.8%)       </td><td>926 (6.4%)         </td><td>NA   </td></tr>\n",
       "\t<tr><td>...</td><td>...</td><td>...</td><td>...</td><td>...</td><td>...</td></tr>\n",
       "\t<tr><td>weather_description</td><td>proximity thunderstorm with drizzle</td><td>13 (0.0%)                </td><td>9 (0.0%)                 </td><td>4 (0.0%)                 </td><td>NA   </td></tr>\n",
       "\t<tr><td>weather_description</td><td>proximity thunderstorm with rain   </td><td>52 (0.1%)                </td><td>36 (0.1%)                </td><td>16 (0.1%)                </td><td>NA   </td></tr>\n",
       "\t<tr><td>weather_description</td><td>scattered clouds                   </td><td>3,461 (7.2%)             </td><td>2,439 (7.2%)             </td><td>1,022 (7.1%)             </td><td>NA   </td></tr>\n",
       "\t<tr><td>weather_description</td><td>shower drizzle                     </td><td>6 (0.0%)                 </td><td>3 (0.0%)                 </td><td>3 (0.0%)                 </td><td>NA   </td></tr>\n",
       "\t<tr><td>weather_description</td><td>shower snow                        </td><td>1 (0.0%)                 </td><td>0 (0.0%)                 </td><td>1 (0.0%)                 </td><td>NA   </td></tr>\n",
       "\t<tr><td>weather_description</td><td>sky is clear                       </td><td>11,665 (24.2%)           </td><td>8,199 (24.3%)            </td><td>3,466 (24.0%)            </td><td>NA   </td></tr>\n",
       "\t<tr><td>weather_description</td><td>Sky is Clear                       </td><td>1,726 (3.6%)             </td><td>1,189 (3.5%)             </td><td>537 (3.7%)               </td><td>NA   </td></tr>\n",
       "\t<tr><td>weather_description</td><td>sleet                              </td><td>3 (0.0%)                 </td><td>2 (0.0%)                 </td><td>1 (0.0%)                 </td><td>NA   </td></tr>\n",
       "\t<tr><td>weather_description</td><td>smoke                              </td><td>20 (0.0%)                </td><td>16 (0.0%)                </td><td>4 (0.0%)                 </td><td>NA   </td></tr>\n",
       "\t<tr><td>weather_description</td><td>snow                               </td><td>293 (0.6%)               </td><td>205 (0.6%)               </td><td>88 (0.6%)                </td><td>NA   </td></tr>\n",
       "\t<tr><td>weather_description</td><td>SQUALLS                            </td><td>4 (0.0%)                 </td><td>1 (0.0%)                 </td><td>3 (0.0%)                 </td><td>NA   </td></tr>\n",
       "\t<tr><td>weather_description</td><td>thunderstorm                       </td><td>125 (0.3%)               </td><td>83 (0.2%)                </td><td>42 (0.3%)                </td><td>NA   </td></tr>\n",
       "\t<tr><td>weather_description</td><td>thunderstorm with drizzle          </td><td>2 (0.0%)                 </td><td>0 (0.0%)                 </td><td>2 (0.0%)                 </td><td>NA   </td></tr>\n",
       "\t<tr><td>weather_description</td><td>thunderstorm with heavy rain       </td><td>63 (0.1%)                </td><td>47 (0.1%)                </td><td>16 (0.1%)                </td><td>NA   </td></tr>\n",
       "\t<tr><td>weather_description</td><td>thunderstorm with light drizzle    </td><td>15 (0.0%)                </td><td>10 (0.0%)                </td><td>5 (0.0%)                 </td><td>NA   </td></tr>\n",
       "\t<tr><td>weather_description</td><td>thunderstorm with light rain       </td><td>54 (0.1%)                </td><td>36 (0.1%)                </td><td>18 (0.1%)                </td><td>NA   </td></tr>\n",
       "\t<tr><td>weather_description</td><td>thunderstorm with rain             </td><td>37 (0.1%)                </td><td>23 (0.1%)                </td><td>14 (0.1%)                </td><td>NA   </td></tr>\n",
       "\t<tr><td>weather_description</td><td>very heavy rain                    </td><td>18 (0.0%)                </td><td>12 (0.0%)                </td><td>6 (0.0%)                 </td><td>NA   </td></tr>\n",
       "\t<tr><td>traffic_volume     </td><td>Mean (SD)                          </td><td>3,259.8 (1,986.9)        </td><td>3,258.6 (1,984.0)        </td><td>3,262.6 (1,993.6)        </td><td>NA   </td></tr>\n",
       "\t<tr><td>traffic_volume     </td><td>Median (IQR)                       </td><td>3,380.0 (1,193.0-4,933.0)</td><td>3,370.0 (1,200.2-4,931.0)</td><td>3,403.0 (1,166.2-4,938.8)</td><td>0.84 </td></tr>\n",
       "\t<tr><td>day                </td><td>Mean (SD)                          </td><td>15.7 (8.7)               </td><td>15.7 (8.7)               </td><td>15.7 (8.7)               </td><td>NA   </td></tr>\n",
       "\t<tr><td>day                </td><td>Median (IQR)                       </td><td>16.0 (8.0-23.0)          </td><td>16.0 (8.0-23.0)          </td><td>16.0 (8.0-23.0)          </td><td>0.811</td></tr>\n",
       "\t<tr><td>month              </td><td>Mean (SD)                          </td><td>15.7 (8.7)               </td><td>15.7 (8.7)               </td><td>15.7 (8.7)               </td><td>NA   </td></tr>\n",
       "\t<tr><td>month              </td><td>Median (IQR)                       </td><td>16.0 (8.0-23.0)          </td><td>16.0 (8.0-23.0)          </td><td>16.0 (8.0-23.0)          </td><td>0.811</td></tr>\n",
       "\t<tr><td>wday               </td><td>Mean (SD)                          </td><td>4.0 (2.0)                </td><td>4.0 (2.0)                </td><td>4.0 (2.0)                </td><td>NA   </td></tr>\n",
       "\t<tr><td>wday               </td><td>Median (IQR)                       </td><td>4.0 (2.0-6.0)            </td><td>4.0 (2.0-6.0)            </td><td>4.0 (2.0-6.0)            </td><td>0.084</td></tr>\n",
       "\t<tr><td>hour               </td><td>Mean (SD)                          </td><td>11.4 (6.9)               </td><td>11.4 (6.9)               </td><td>11.3 (6.9)               </td><td>NA   </td></tr>\n",
       "\t<tr><td>hour               </td><td>Median (IQR)                       </td><td>11.0 (5.0-17.0)          </td><td>11.0 (5.0-17.0)          </td><td>11.0 (5.0-17.0)          </td><td>0.101</td></tr>\n",
       "\t<tr><td>traintest_ind_     </td><td>Mean (SD)                          </td><td>1.3 (0.5)                </td><td>NA                       </td><td>NA                       </td><td>NA   </td></tr>\n",
       "\t<tr><td>traintest_ind_     </td><td>Median (IQR)                       </td><td>1.0 (1.0-2.0)            </td><td>NA                       </td><td>NA                       </td><td>0    </td></tr>\n",
       "</tbody>\n",
       "</table>\n"
      ],
      "text/latex": [
       "A tibble: 82 × 6\n",
       "\\begin{tabular}{llllll}\n",
       " V1 & V2 & Pop & 1 & 2 & pval\\\\\n",
       " <chr> & <chr> & <chr> & <chr> & <chr> & <chr>\\\\\n",
       "\\hline\n",
       "\t Individuals  & n                         & 48204               & 33742               & 14462               & NA   \\\\\n",
       "\t holiday      & Christmas Day             & 6 (0.0\\%)            & 5 (0.0\\%)            & 1 (0.0\\%)            & NA   \\\\\n",
       "\t holiday      & Columbus Day              & 5 (0.0\\%)            & 2 (0.0\\%)            & 3 (0.0\\%)            & 0.716\\\\\n",
       "\t holiday      & Independence Day          & 5 (0.0\\%)            & 2 (0.0\\%)            & 3 (0.0\\%)            & NA   \\\\\n",
       "\t holiday      & Labor Day                 & 7 (0.0\\%)            & 3 (0.0\\%)            & 4 (0.0\\%)            & NA   \\\\\n",
       "\t holiday      & Martin Luther King Jr Day & 6 (0.0\\%)            & 3 (0.0\\%)            & 3 (0.0\\%)            & NA   \\\\\n",
       "\t holiday      & Memorial Day              & 5 (0.0\\%)            & 3 (0.0\\%)            & 2 (0.0\\%)            & NA   \\\\\n",
       "\t holiday      & New Years Day             & 6 (0.0\\%)            & 4 (0.0\\%)            & 2 (0.0\\%)            & NA   \\\\\n",
       "\t holiday      & None                      & 48,143 (99.9\\%)      & 33,710 (99.9\\%)      & 14,433 (99.8\\%)      & NA   \\\\\n",
       "\t holiday      & State Fair                & 5 (0.0\\%)            & 1 (0.0\\%)            & 4 (0.0\\%)            & NA   \\\\\n",
       "\t holiday      & Thanksgiving Day          & 6 (0.0\\%)            & 4 (0.0\\%)            & 2 (0.0\\%)            & NA   \\\\\n",
       "\t holiday      & Veterans Day              & 5 (0.0\\%)            & 4 (0.0\\%)            & 1 (0.0\\%)            & NA   \\\\\n",
       "\t holiday      & Washingtons Birthday      & 5 (0.0\\%)            & 1 (0.0\\%)            & 4 (0.0\\%)            & NA   \\\\\n",
       "\t temp         & Mean (SD)                 & 281.2 (13.3)        & 281.3 (13.3)        & 281.0 (13.3)        & NA   \\\\\n",
       "\t temp         & Median (IQR)              & 282.4 (272.2-291.8) & 282.6 (272.2-291.9) & 282.1 (272.1-291.7) & 0.072\\\\\n",
       "\t rain\\_1h      & Mean (SD)                 & 0.3 (44.8)          & 0.4 (53.5)          & 0.1 (1.1)           & NA   \\\\\n",
       "\t rain\\_1h      & Median (IQR)              & 0.0 (0.0-0.0)       & 0.0 (0.0-0.0)       & 0.0 (0.0-0.0)       & 0.319\\\\\n",
       "\t snow\\_1h      & Mean (SD)                 & 0.0 (0.0)           & 0.0 (0.0)           & 0.0 (0.0)           & NA   \\\\\n",
       "\t snow\\_1h      & Median (IQR)              & 0.0 (0.0-0.0)       & 0.0 (0.0-0.0)       & 0.0 (0.0-0.0)       & 0.918\\\\\n",
       "\t clouds\\_all   & Mean (SD)                 & 49.4 (39.0)         & 49.2 (39.0)         & 49.7 (39.0)         & NA   \\\\\n",
       "\t clouds\\_all   & Median (IQR)              & 64.0 (1.0-90.0)     & 64.0 (1.0-90.0)     & 64.0 (1.0-90.0)     & 0.231\\\\\n",
       "\t weather\\_main & Clear                     & 13,391 (27.8\\%)      & 9,388 (27.8\\%)       & 4,003 (27.7\\%)       & NA   \\\\\n",
       "\t weather\\_main & Clouds                    & 15,164 (31.5\\%)      & 10,692 (31.7\\%)      & 4,472 (30.9\\%)       & 0.093\\\\\n",
       "\t weather\\_main & Drizzle                   & 1,821 (3.8\\%)        & 1,275 (3.8\\%)        & 546 (3.8\\%)          & NA   \\\\\n",
       "\t weather\\_main & Fog                       & 912 (1.9\\%)          & 634 (1.9\\%)          & 278 (1.9\\%)          & NA   \\\\\n",
       "\t weather\\_main & Haze                      & 1,360 (2.8\\%)        & 961 (2.8\\%)          & 399 (2.8\\%)          & NA   \\\\\n",
       "\t weather\\_main & Mist                      & 5,950 (12.3\\%)       & 4,149 (12.3\\%)       & 1,801 (12.5\\%)       & NA   \\\\\n",
       "\t weather\\_main & Rain                      & 5,672 (11.8\\%)       & 3,947 (11.7\\%)       & 1,725 (11.9\\%)       & NA   \\\\\n",
       "\t weather\\_main & Smoke                     & 20 (0.0\\%)           & 16 (0.0\\%)           & 4 (0.0\\%)            & NA   \\\\\n",
       "\t weather\\_main & Snow                      & 2,876 (6.0\\%)        & 1,950 (5.8\\%)        & 926 (6.4\\%)          & NA   \\\\\n",
       "\t ... & ... & ... & ... & ... & ...\\\\\n",
       "\t weather\\_description & proximity thunderstorm with drizzle & 13 (0.0\\%)                 & 9 (0.0\\%)                  & 4 (0.0\\%)                  & NA   \\\\\n",
       "\t weather\\_description & proximity thunderstorm with rain    & 52 (0.1\\%)                 & 36 (0.1\\%)                 & 16 (0.1\\%)                 & NA   \\\\\n",
       "\t weather\\_description & scattered clouds                    & 3,461 (7.2\\%)              & 2,439 (7.2\\%)              & 1,022 (7.1\\%)              & NA   \\\\\n",
       "\t weather\\_description & shower drizzle                      & 6 (0.0\\%)                  & 3 (0.0\\%)                  & 3 (0.0\\%)                  & NA   \\\\\n",
       "\t weather\\_description & shower snow                         & 1 (0.0\\%)                  & 0 (0.0\\%)                  & 1 (0.0\\%)                  & NA   \\\\\n",
       "\t weather\\_description & sky is clear                        & 11,665 (24.2\\%)            & 8,199 (24.3\\%)             & 3,466 (24.0\\%)             & NA   \\\\\n",
       "\t weather\\_description & Sky is Clear                        & 1,726 (3.6\\%)              & 1,189 (3.5\\%)              & 537 (3.7\\%)                & NA   \\\\\n",
       "\t weather\\_description & sleet                               & 3 (0.0\\%)                  & 2 (0.0\\%)                  & 1 (0.0\\%)                  & NA   \\\\\n",
       "\t weather\\_description & smoke                               & 20 (0.0\\%)                 & 16 (0.0\\%)                 & 4 (0.0\\%)                  & NA   \\\\\n",
       "\t weather\\_description & snow                                & 293 (0.6\\%)                & 205 (0.6\\%)                & 88 (0.6\\%)                 & NA   \\\\\n",
       "\t weather\\_description & SQUALLS                             & 4 (0.0\\%)                  & 1 (0.0\\%)                  & 3 (0.0\\%)                  & NA   \\\\\n",
       "\t weather\\_description & thunderstorm                        & 125 (0.3\\%)                & 83 (0.2\\%)                 & 42 (0.3\\%)                 & NA   \\\\\n",
       "\t weather\\_description & thunderstorm with drizzle           & 2 (0.0\\%)                  & 0 (0.0\\%)                  & 2 (0.0\\%)                  & NA   \\\\\n",
       "\t weather\\_description & thunderstorm with heavy rain        & 63 (0.1\\%)                 & 47 (0.1\\%)                 & 16 (0.1\\%)                 & NA   \\\\\n",
       "\t weather\\_description & thunderstorm with light drizzle     & 15 (0.0\\%)                 & 10 (0.0\\%)                 & 5 (0.0\\%)                  & NA   \\\\\n",
       "\t weather\\_description & thunderstorm with light rain        & 54 (0.1\\%)                 & 36 (0.1\\%)                 & 18 (0.1\\%)                 & NA   \\\\\n",
       "\t weather\\_description & thunderstorm with rain              & 37 (0.1\\%)                 & 23 (0.1\\%)                 & 14 (0.1\\%)                 & NA   \\\\\n",
       "\t weather\\_description & very heavy rain                     & 18 (0.0\\%)                 & 12 (0.0\\%)                 & 6 (0.0\\%)                  & NA   \\\\\n",
       "\t traffic\\_volume      & Mean (SD)                           & 3,259.8 (1,986.9)         & 3,258.6 (1,984.0)         & 3,262.6 (1,993.6)         & NA   \\\\\n",
       "\t traffic\\_volume      & Median (IQR)                        & 3,380.0 (1,193.0-4,933.0) & 3,370.0 (1,200.2-4,931.0) & 3,403.0 (1,166.2-4,938.8) & 0.84 \\\\\n",
       "\t day                 & Mean (SD)                           & 15.7 (8.7)                & 15.7 (8.7)                & 15.7 (8.7)                & NA   \\\\\n",
       "\t day                 & Median (IQR)                        & 16.0 (8.0-23.0)           & 16.0 (8.0-23.0)           & 16.0 (8.0-23.0)           & 0.811\\\\\n",
       "\t month               & Mean (SD)                           & 15.7 (8.7)                & 15.7 (8.7)                & 15.7 (8.7)                & NA   \\\\\n",
       "\t month               & Median (IQR)                        & 16.0 (8.0-23.0)           & 16.0 (8.0-23.0)           & 16.0 (8.0-23.0)           & 0.811\\\\\n",
       "\t wday                & Mean (SD)                           & 4.0 (2.0)                 & 4.0 (2.0)                 & 4.0 (2.0)                 & NA   \\\\\n",
       "\t wday                & Median (IQR)                        & 4.0 (2.0-6.0)             & 4.0 (2.0-6.0)             & 4.0 (2.0-6.0)             & 0.084\\\\\n",
       "\t hour                & Mean (SD)                           & 11.4 (6.9)                & 11.4 (6.9)                & 11.3 (6.9)                & NA   \\\\\n",
       "\t hour                & Median (IQR)                        & 11.0 (5.0-17.0)           & 11.0 (5.0-17.0)           & 11.0 (5.0-17.0)           & 0.101\\\\\n",
       "\t traintest\\_ind\\_      & Mean (SD)                           & 1.3 (0.5)                 & NA                        & NA                        & NA   \\\\\n",
       "\t traintest\\_ind\\_      & Median (IQR)                        & 1.0 (1.0-2.0)             & NA                        & NA                        & 0    \\\\\n",
       "\\end{tabular}\n"
      ],
      "text/markdown": [
       "\n",
       "A tibble: 82 × 6\n",
       "\n",
       "| V1 &lt;chr&gt; | V2 &lt;chr&gt; | Pop &lt;chr&gt; | 1 &lt;chr&gt; | 2 &lt;chr&gt; | pval &lt;chr&gt; |\n",
       "|---|---|---|---|---|---|\n",
       "| Individuals  | n                         | 48204               | 33742               | 14462               | NA    |\n",
       "| holiday      | Christmas Day             | 6 (0.0%)            | 5 (0.0%)            | 1 (0.0%)            | NA    |\n",
       "| holiday      | Columbus Day              | 5 (0.0%)            | 2 (0.0%)            | 3 (0.0%)            | 0.716 |\n",
       "| holiday      | Independence Day          | 5 (0.0%)            | 2 (0.0%)            | 3 (0.0%)            | NA    |\n",
       "| holiday      | Labor Day                 | 7 (0.0%)            | 3 (0.0%)            | 4 (0.0%)            | NA    |\n",
       "| holiday      | Martin Luther King Jr Day | 6 (0.0%)            | 3 (0.0%)            | 3 (0.0%)            | NA    |\n",
       "| holiday      | Memorial Day              | 5 (0.0%)            | 3 (0.0%)            | 2 (0.0%)            | NA    |\n",
       "| holiday      | New Years Day             | 6 (0.0%)            | 4 (0.0%)            | 2 (0.0%)            | NA    |\n",
       "| holiday      | None                      | 48,143 (99.9%)      | 33,710 (99.9%)      | 14,433 (99.8%)      | NA    |\n",
       "| holiday      | State Fair                | 5 (0.0%)            | 1 (0.0%)            | 4 (0.0%)            | NA    |\n",
       "| holiday      | Thanksgiving Day          | 6 (0.0%)            | 4 (0.0%)            | 2 (0.0%)            | NA    |\n",
       "| holiday      | Veterans Day              | 5 (0.0%)            | 4 (0.0%)            | 1 (0.0%)            | NA    |\n",
       "| holiday      | Washingtons Birthday      | 5 (0.0%)            | 1 (0.0%)            | 4 (0.0%)            | NA    |\n",
       "| temp         | Mean (SD)                 | 281.2 (13.3)        | 281.3 (13.3)        | 281.0 (13.3)        | NA    |\n",
       "| temp         | Median (IQR)              | 282.4 (272.2-291.8) | 282.6 (272.2-291.9) | 282.1 (272.1-291.7) | 0.072 |\n",
       "| rain_1h      | Mean (SD)                 | 0.3 (44.8)          | 0.4 (53.5)          | 0.1 (1.1)           | NA    |\n",
       "| rain_1h      | Median (IQR)              | 0.0 (0.0-0.0)       | 0.0 (0.0-0.0)       | 0.0 (0.0-0.0)       | 0.319 |\n",
       "| snow_1h      | Mean (SD)                 | 0.0 (0.0)           | 0.0 (0.0)           | 0.0 (0.0)           | NA    |\n",
       "| snow_1h      | Median (IQR)              | 0.0 (0.0-0.0)       | 0.0 (0.0-0.0)       | 0.0 (0.0-0.0)       | 0.918 |\n",
       "| clouds_all   | Mean (SD)                 | 49.4 (39.0)         | 49.2 (39.0)         | 49.7 (39.0)         | NA    |\n",
       "| clouds_all   | Median (IQR)              | 64.0 (1.0-90.0)     | 64.0 (1.0-90.0)     | 64.0 (1.0-90.0)     | 0.231 |\n",
       "| weather_main | Clear                     | 13,391 (27.8%)      | 9,388 (27.8%)       | 4,003 (27.7%)       | NA    |\n",
       "| weather_main | Clouds                    | 15,164 (31.5%)      | 10,692 (31.7%)      | 4,472 (30.9%)       | 0.093 |\n",
       "| weather_main | Drizzle                   | 1,821 (3.8%)        | 1,275 (3.8%)        | 546 (3.8%)          | NA    |\n",
       "| weather_main | Fog                       | 912 (1.9%)          | 634 (1.9%)          | 278 (1.9%)          | NA    |\n",
       "| weather_main | Haze                      | 1,360 (2.8%)        | 961 (2.8%)          | 399 (2.8%)          | NA    |\n",
       "| weather_main | Mist                      | 5,950 (12.3%)       | 4,149 (12.3%)       | 1,801 (12.5%)       | NA    |\n",
       "| weather_main | Rain                      | 5,672 (11.8%)       | 3,947 (11.7%)       | 1,725 (11.9%)       | NA    |\n",
       "| weather_main | Smoke                     | 20 (0.0%)           | 16 (0.0%)           | 4 (0.0%)            | NA    |\n",
       "| weather_main | Snow                      | 2,876 (6.0%)        | 1,950 (5.8%)        | 926 (6.4%)          | NA    |\n",
       "| ... | ... | ... | ... | ... | ... |\n",
       "| weather_description | proximity thunderstorm with drizzle | 13 (0.0%)                 | 9 (0.0%)                  | 4 (0.0%)                  | NA    |\n",
       "| weather_description | proximity thunderstorm with rain    | 52 (0.1%)                 | 36 (0.1%)                 | 16 (0.1%)                 | NA    |\n",
       "| weather_description | scattered clouds                    | 3,461 (7.2%)              | 2,439 (7.2%)              | 1,022 (7.1%)              | NA    |\n",
       "| weather_description | shower drizzle                      | 6 (0.0%)                  | 3 (0.0%)                  | 3 (0.0%)                  | NA    |\n",
       "| weather_description | shower snow                         | 1 (0.0%)                  | 0 (0.0%)                  | 1 (0.0%)                  | NA    |\n",
       "| weather_description | sky is clear                        | 11,665 (24.2%)            | 8,199 (24.3%)             | 3,466 (24.0%)             | NA    |\n",
       "| weather_description | Sky is Clear                        | 1,726 (3.6%)              | 1,189 (3.5%)              | 537 (3.7%)                | NA    |\n",
       "| weather_description | sleet                               | 3 (0.0%)                  | 2 (0.0%)                  | 1 (0.0%)                  | NA    |\n",
       "| weather_description | smoke                               | 20 (0.0%)                 | 16 (0.0%)                 | 4 (0.0%)                  | NA    |\n",
       "| weather_description | snow                                | 293 (0.6%)                | 205 (0.6%)                | 88 (0.6%)                 | NA    |\n",
       "| weather_description | SQUALLS                             | 4 (0.0%)                  | 1 (0.0%)                  | 3 (0.0%)                  | NA    |\n",
       "| weather_description | thunderstorm                        | 125 (0.3%)                | 83 (0.2%)                 | 42 (0.3%)                 | NA    |\n",
       "| weather_description | thunderstorm with drizzle           | 2 (0.0%)                  | 0 (0.0%)                  | 2 (0.0%)                  | NA    |\n",
       "| weather_description | thunderstorm with heavy rain        | 63 (0.1%)                 | 47 (0.1%)                 | 16 (0.1%)                 | NA    |\n",
       "| weather_description | thunderstorm with light drizzle     | 15 (0.0%)                 | 10 (0.0%)                 | 5 (0.0%)                  | NA    |\n",
       "| weather_description | thunderstorm with light rain        | 54 (0.1%)                 | 36 (0.1%)                 | 18 (0.1%)                 | NA    |\n",
       "| weather_description | thunderstorm with rain              | 37 (0.1%)                 | 23 (0.1%)                 | 14 (0.1%)                 | NA    |\n",
       "| weather_description | very heavy rain                     | 18 (0.0%)                 | 12 (0.0%)                 | 6 (0.0%)                  | NA    |\n",
       "| traffic_volume      | Mean (SD)                           | 3,259.8 (1,986.9)         | 3,258.6 (1,984.0)         | 3,262.6 (1,993.6)         | NA    |\n",
       "| traffic_volume      | Median (IQR)                        | 3,380.0 (1,193.0-4,933.0) | 3,370.0 (1,200.2-4,931.0) | 3,403.0 (1,166.2-4,938.8) | 0.84  |\n",
       "| day                 | Mean (SD)                           | 15.7 (8.7)                | 15.7 (8.7)                | 15.7 (8.7)                | NA    |\n",
       "| day                 | Median (IQR)                        | 16.0 (8.0-23.0)           | 16.0 (8.0-23.0)           | 16.0 (8.0-23.0)           | 0.811 |\n",
       "| month               | Mean (SD)                           | 15.7 (8.7)                | 15.7 (8.7)                | 15.7 (8.7)                | NA    |\n",
       "| month               | Median (IQR)                        | 16.0 (8.0-23.0)           | 16.0 (8.0-23.0)           | 16.0 (8.0-23.0)           | 0.811 |\n",
       "| wday                | Mean (SD)                           | 4.0 (2.0)                 | 4.0 (2.0)                 | 4.0 (2.0)                 | NA    |\n",
       "| wday                | Median (IQR)                        | 4.0 (2.0-6.0)             | 4.0 (2.0-6.0)             | 4.0 (2.0-6.0)             | 0.084 |\n",
       "| hour                | Mean (SD)                           | 11.4 (6.9)                | 11.4 (6.9)                | 11.3 (6.9)                | NA    |\n",
       "| hour                | Median (IQR)                        | 11.0 (5.0-17.0)           | 11.0 (5.0-17.0)           | 11.0 (5.0-17.0)           | 0.101 |\n",
       "| traintest_ind_      | Mean (SD)                           | 1.3 (0.5)                 | NA                        | NA                        | NA    |\n",
       "| traintest_ind_      | Median (IQR)                        | 1.0 (1.0-2.0)             | NA                        | NA                        | 0     |\n",
       "\n"
      ],
      "text/plain": [
       "    V1                  V2                                 \n",
       "1   Individuals         n                                  \n",
       "2   holiday             Christmas Day                      \n",
       "3   holiday             Columbus Day                       \n",
       "4   holiday             Independence Day                   \n",
       "5   holiday             Labor Day                          \n",
       "6   holiday             Martin Luther King Jr Day          \n",
       "7   holiday             Memorial Day                       \n",
       "8   holiday             New Years Day                      \n",
       "9   holiday             None                               \n",
       "10  holiday             State Fair                         \n",
       "11  holiday             Thanksgiving Day                   \n",
       "12  holiday             Veterans Day                       \n",
       "13  holiday             Washingtons Birthday               \n",
       "14  temp                Mean (SD)                          \n",
       "15  temp                Median (IQR)                       \n",
       "16  rain_1h             Mean (SD)                          \n",
       "17  rain_1h             Median (IQR)                       \n",
       "18  snow_1h             Mean (SD)                          \n",
       "19  snow_1h             Median (IQR)                       \n",
       "20  clouds_all          Mean (SD)                          \n",
       "21  clouds_all          Median (IQR)                       \n",
       "22  weather_main        Clear                              \n",
       "23  weather_main        Clouds                             \n",
       "24  weather_main        Drizzle                            \n",
       "25  weather_main        Fog                                \n",
       "26  weather_main        Haze                               \n",
       "27  weather_main        Mist                               \n",
       "28  weather_main        Rain                               \n",
       "29  weather_main        Smoke                              \n",
       "30  weather_main        Snow                               \n",
       "... ...                 ...                                \n",
       "53  weather_description proximity thunderstorm with drizzle\n",
       "54  weather_description proximity thunderstorm with rain   \n",
       "55  weather_description scattered clouds                   \n",
       "56  weather_description shower drizzle                     \n",
       "57  weather_description shower snow                        \n",
       "58  weather_description sky is clear                       \n",
       "59  weather_description Sky is Clear                       \n",
       "60  weather_description sleet                              \n",
       "61  weather_description smoke                              \n",
       "62  weather_description snow                               \n",
       "63  weather_description SQUALLS                            \n",
       "64  weather_description thunderstorm                       \n",
       "65  weather_description thunderstorm with drizzle          \n",
       "66  weather_description thunderstorm with heavy rain       \n",
       "67  weather_description thunderstorm with light drizzle    \n",
       "68  weather_description thunderstorm with light rain       \n",
       "69  weather_description thunderstorm with rain             \n",
       "70  weather_description very heavy rain                    \n",
       "71  traffic_volume      Mean (SD)                          \n",
       "72  traffic_volume      Median (IQR)                       \n",
       "73  day                 Mean (SD)                          \n",
       "74  day                 Median (IQR)                       \n",
       "75  month               Mean (SD)                          \n",
       "76  month               Median (IQR)                       \n",
       "77  wday                Mean (SD)                          \n",
       "78  wday                Median (IQR)                       \n",
       "79  hour                Mean (SD)                          \n",
       "80  hour                Median (IQR)                       \n",
       "81  traintest_ind_      Mean (SD)                          \n",
       "82  traintest_ind_      Median (IQR)                       \n",
       "    Pop                       1                        \n",
       "1   48204                     33742                    \n",
       "2   6 (0.0%)                  5 (0.0%)                 \n",
       "3   5 (0.0%)                  2 (0.0%)                 \n",
       "4   5 (0.0%)                  2 (0.0%)                 \n",
       "5   7 (0.0%)                  3 (0.0%)                 \n",
       "6   6 (0.0%)                  3 (0.0%)                 \n",
       "7   5 (0.0%)                  3 (0.0%)                 \n",
       "8   6 (0.0%)                  4 (0.0%)                 \n",
       "9   48,143 (99.9%)            33,710 (99.9%)           \n",
       "10  5 (0.0%)                  1 (0.0%)                 \n",
       "11  6 (0.0%)                  4 (0.0%)                 \n",
       "12  5 (0.0%)                  4 (0.0%)                 \n",
       "13  5 (0.0%)                  1 (0.0%)                 \n",
       "14  281.2 (13.3)              281.3 (13.3)             \n",
       "15  282.4 (272.2-291.8)       282.6 (272.2-291.9)      \n",
       "16  0.3 (44.8)                0.4 (53.5)               \n",
       "17  0.0 (0.0-0.0)             0.0 (0.0-0.0)            \n",
       "18  0.0 (0.0)                 0.0 (0.0)                \n",
       "19  0.0 (0.0-0.0)             0.0 (0.0-0.0)            \n",
       "20  49.4 (39.0)               49.2 (39.0)              \n",
       "21  64.0 (1.0-90.0)           64.0 (1.0-90.0)          \n",
       "22  13,391 (27.8%)            9,388 (27.8%)            \n",
       "23  15,164 (31.5%)            10,692 (31.7%)           \n",
       "24  1,821 (3.8%)              1,275 (3.8%)             \n",
       "25  912 (1.9%)                634 (1.9%)               \n",
       "26  1,360 (2.8%)              961 (2.8%)               \n",
       "27  5,950 (12.3%)             4,149 (12.3%)            \n",
       "28  5,672 (11.8%)             3,947 (11.7%)            \n",
       "29  20 (0.0%)                 16 (0.0%)                \n",
       "30  2,876 (6.0%)              1,950 (5.8%)             \n",
       "... ...                       ...                      \n",
       "53  13 (0.0%)                 9 (0.0%)                 \n",
       "54  52 (0.1%)                 36 (0.1%)                \n",
       "55  3,461 (7.2%)              2,439 (7.2%)             \n",
       "56  6 (0.0%)                  3 (0.0%)                 \n",
       "57  1 (0.0%)                  0 (0.0%)                 \n",
       "58  11,665 (24.2%)            8,199 (24.3%)            \n",
       "59  1,726 (3.6%)              1,189 (3.5%)             \n",
       "60  3 (0.0%)                  2 (0.0%)                 \n",
       "61  20 (0.0%)                 16 (0.0%)                \n",
       "62  293 (0.6%)                205 (0.6%)               \n",
       "63  4 (0.0%)                  1 (0.0%)                 \n",
       "64  125 (0.3%)                83 (0.2%)                \n",
       "65  2 (0.0%)                  0 (0.0%)                 \n",
       "66  63 (0.1%)                 47 (0.1%)                \n",
       "67  15 (0.0%)                 10 (0.0%)                \n",
       "68  54 (0.1%)                 36 (0.1%)                \n",
       "69  37 (0.1%)                 23 (0.1%)                \n",
       "70  18 (0.0%)                 12 (0.0%)                \n",
       "71  3,259.8 (1,986.9)         3,258.6 (1,984.0)        \n",
       "72  3,380.0 (1,193.0-4,933.0) 3,370.0 (1,200.2-4,931.0)\n",
       "73  15.7 (8.7)                15.7 (8.7)               \n",
       "74  16.0 (8.0-23.0)           16.0 (8.0-23.0)          \n",
       "75  15.7 (8.7)                15.7 (8.7)               \n",
       "76  16.0 (8.0-23.0)           16.0 (8.0-23.0)          \n",
       "77  4.0 (2.0)                 4.0 (2.0)                \n",
       "78  4.0 (2.0-6.0)             4.0 (2.0-6.0)            \n",
       "79  11.4 (6.9)                11.4 (6.9)               \n",
       "80  11.0 (5.0-17.0)           11.0 (5.0-17.0)          \n",
       "81  1.3 (0.5)                 NA                       \n",
       "82  1.0 (1.0-2.0)             NA                       \n",
       "    2                         pval \n",
       "1   14462                     NA   \n",
       "2   1 (0.0%)                  NA   \n",
       "3   3 (0.0%)                  0.716\n",
       "4   3 (0.0%)                  NA   \n",
       "5   4 (0.0%)                  NA   \n",
       "6   3 (0.0%)                  NA   \n",
       "7   2 (0.0%)                  NA   \n",
       "8   2 (0.0%)                  NA   \n",
       "9   14,433 (99.8%)            NA   \n",
       "10  4 (0.0%)                  NA   \n",
       "11  2 (0.0%)                  NA   \n",
       "12  1 (0.0%)                  NA   \n",
       "13  4 (0.0%)                  NA   \n",
       "14  281.0 (13.3)              NA   \n",
       "15  282.1 (272.1-291.7)       0.072\n",
       "16  0.1 (1.1)                 NA   \n",
       "17  0.0 (0.0-0.0)             0.319\n",
       "18  0.0 (0.0)                 NA   \n",
       "19  0.0 (0.0-0.0)             0.918\n",
       "20  49.7 (39.0)               NA   \n",
       "21  64.0 (1.0-90.0)           0.231\n",
       "22  4,003 (27.7%)             NA   \n",
       "23  4,472 (30.9%)             0.093\n",
       "24  546 (3.8%)                NA   \n",
       "25  278 (1.9%)                NA   \n",
       "26  399 (2.8%)                NA   \n",
       "27  1,801 (12.5%)             NA   \n",
       "28  1,725 (11.9%)             NA   \n",
       "29  4 (0.0%)                  NA   \n",
       "30  926 (6.4%)                NA   \n",
       "... ...                       ...  \n",
       "53  4 (0.0%)                  NA   \n",
       "54  16 (0.1%)                 NA   \n",
       "55  1,022 (7.1%)              NA   \n",
       "56  3 (0.0%)                  NA   \n",
       "57  1 (0.0%)                  NA   \n",
       "58  3,466 (24.0%)             NA   \n",
       "59  537 (3.7%)                NA   \n",
       "60  1 (0.0%)                  NA   \n",
       "61  4 (0.0%)                  NA   \n",
       "62  88 (0.6%)                 NA   \n",
       "63  3 (0.0%)                  NA   \n",
       "64  42 (0.3%)                 NA   \n",
       "65  2 (0.0%)                  NA   \n",
       "66  16 (0.1%)                 NA   \n",
       "67  5 (0.0%)                  NA   \n",
       "68  18 (0.1%)                 NA   \n",
       "69  14 (0.1%)                 NA   \n",
       "70  6 (0.0%)                  NA   \n",
       "71  3,262.6 (1,993.6)         NA   \n",
       "72  3,403.0 (1,166.2-4,938.8) 0.84 \n",
       "73  15.7 (8.7)                NA   \n",
       "74  16.0 (8.0-23.0)           0.811\n",
       "75  15.7 (8.7)                NA   \n",
       "76  16.0 (8.0-23.0)           0.811\n",
       "77  4.0 (2.0)                 NA   \n",
       "78  4.0 (2.0-6.0)             0.084\n",
       "79  11.3 (6.9)                NA   \n",
       "80  11.0 (5.0-17.0)           0.101\n",
       "81  NA                        NA   \n",
       "82  NA                        0    "
      ]
     },
     "metadata": {},
     "output_type": "display_data"
    }
   ],
   "source": [
    "tab1 <- train_test(data=df,train_name=\"train\",test_name=\"test\",prop=0.7,seed=5,tableone=TRUE)\n",
    "tab1"
   ]
  },
  {
   "cell_type": "code",
   "execution_count": 16,
   "metadata": {},
   "outputs": [
    {
     "data": {
      "text/html": [
       "<table>\n",
       "<caption>A tibble: 1 × 6</caption>\n",
       "<thead>\n",
       "\t<tr><th scope=col>V1</th><th scope=col>V2</th><th scope=col>Pop</th><th scope=col>1</th><th scope=col>2</th><th scope=col>pval</th></tr>\n",
       "\t<tr><th scope=col>&lt;chr&gt;</th><th scope=col>&lt;chr&gt;</th><th scope=col>&lt;chr&gt;</th><th scope=col>&lt;chr&gt;</th><th scope=col>&lt;chr&gt;</th><th scope=col>&lt;chr&gt;</th></tr>\n",
       "</thead>\n",
       "<tbody>\n",
       "\t<tr><td>traintest_ind_</td><td>Median (IQR)</td><td>1.0 (1.0-2.0)</td><td>NA</td><td>NA</td><td>0</td></tr>\n",
       "</tbody>\n",
       "</table>\n"
      ],
      "text/latex": [
       "A tibble: 1 × 6\n",
       "\\begin{tabular}{llllll}\n",
       " V1 & V2 & Pop & 1 & 2 & pval\\\\\n",
       " <chr> & <chr> & <chr> & <chr> & <chr> & <chr>\\\\\n",
       "\\hline\n",
       "\t traintest\\_ind\\_ & Median (IQR) & 1.0 (1.0-2.0) & NA & NA & 0\\\\\n",
       "\\end{tabular}\n"
      ],
      "text/markdown": [
       "\n",
       "A tibble: 1 × 6\n",
       "\n",
       "| V1 &lt;chr&gt; | V2 &lt;chr&gt; | Pop &lt;chr&gt; | 1 &lt;chr&gt; | 2 &lt;chr&gt; | pval &lt;chr&gt; |\n",
       "|---|---|---|---|---|---|\n",
       "| traintest_ind_ | Median (IQR) | 1.0 (1.0-2.0) | NA | NA | 0 |\n",
       "\n"
      ],
      "text/plain": [
       "  V1             V2           Pop           1  2  pval\n",
       "1 traintest_ind_ Median (IQR) 1.0 (1.0-2.0) NA NA 0   "
      ]
     },
     "metadata": {},
     "output_type": "display_data"
    }
   ],
   "source": [
    "tab1 %>% filter(pval < 0.05)"
   ]
  },
  {
   "cell_type": "markdown",
   "metadata": {},
   "source": [
    "# MODELS"
   ]
  },
  {
   "cell_type": "code",
   "execution_count": 17,
   "metadata": {},
   "outputs": [],
   "source": [
    "### The error we will use is the RMSE and RMSLE\n",
    "rmse <- function(y,y_hat) {\n",
    "    err <- sqrt(sum((y_hat-y)^2,na.rm=T)/length(y))\n",
    "    return(err)\n",
    "}\n",
    "\n",
    "rmsle <- function(y,y_hat) {\n",
    "    err <- sqrt(sum((log(y_hat+1)-log(y+1))^2,na.rm=T)/length(y))\n",
    "    return(err)\n",
    "}\n"
   ]
  },
  {
   "cell_type": "code",
   "execution_count": 18,
   "metadata": {},
   "outputs": [],
   "source": [
    "### Table of resulting errors\n",
    "### Name, Model, RMSE, RMSLE\n",
    "err_res <- NULL"
   ]
  },
  {
   "cell_type": "markdown",
   "metadata": {},
   "source": [
    "## Linear Models"
   ]
  },
  {
   "cell_type": "code",
   "execution_count": 20,
   "metadata": {},
   "outputs": [
    {
     "data": {
      "text/plain": [
       "\n",
       "Call:\n",
       "lm(formula = traffic_volume ~ ., data = train)\n",
       "\n",
       "Residuals:\n",
       "    Min      1Q  Median      3Q     Max \n",
       "-5171.1 -1627.8   -81.9  1514.8  6491.0 \n",
       "\n",
       "Coefficients: (11 not defined because of singularities)\n",
       "                                                         Estimate Std. Error\n",
       "(Intercept)                                            -3084.3422   850.1374\n",
       "holidayColumbus Day                                     -572.6340  1527.9083\n",
       "holidayIndependence Day                                   -7.9221  1527.9341\n",
       "holidayLabor Day                                         103.4222  1333.9556\n",
       "holidayMartin Luther King Jr Day                        -127.4329  1333.5332\n",
       "holidayMemorial Day                                      -95.5211  1333.6732\n",
       "holidayNew Years Day                                     263.5315  1225.2343\n",
       "holidayNone                                             1084.4241   816.9740\n",
       "holidayState Fair                                       -736.0851  2000.1034\n",
       "holidayThanksgiving Day                                   15.9440  1224.9236\n",
       "holidayVeterans Day                                     -504.1357  1225.0839\n",
       "holidayWashingtons Birthday                             -303.8672  2000.2297\n",
       "temp                                                      14.0910     0.8158\n",
       "rain_1h                                                    0.1581     0.1945\n",
       "snow_1h                                                 1362.8562  1207.8890\n",
       "clouds_all                                                 5.6492     0.4983\n",
       "weather_mainClouds                                      -129.3882    71.6274\n",
       "weather_mainDrizzle                                     -224.9028  1056.3944\n",
       "weather_mainFog                                         -591.0734    93.9466\n",
       "weather_mainHaze                                         -73.5716    84.8914\n",
       "weather_mainMist                                        -493.5985    68.9525\n",
       "weather_mainRain                                        -439.4506   555.1592\n",
       "weather_mainSmoke                                       -550.2568   460.3617\n",
       "weather_mainSnow                                        -940.8521   145.5236\n",
       "weather_mainSquall                                     -2231.2140  1826.9167\n",
       "weather_mainThunderstorm                                -283.9147   386.6505\n",
       "weather_descriptiondrizzle                              -370.6392  1057.5736\n",
       "weather_descriptionfew clouds                            307.2767    64.2517\n",
       "weather_descriptionfog                                         NA         NA\n",
       "weather_descriptionfreezing rain                        1021.0674  1404.1591\n",
       "weather_descriptionhaze                                        NA         NA\n",
       "weather_descriptionheavy intensity drizzle              -301.1381  1086.5616\n",
       "weather_descriptionheavy intensity rain                 -262.1652   561.0800\n",
       "weather_descriptionheavy snow                            418.3198   155.5369\n",
       "weather_descriptionlight intensity drizzle              -192.4399  1056.1593\n",
       "weather_descriptionlight intensity shower rain           515.7641   798.9358\n",
       "weather_descriptionlight rain                             19.7638   553.3652\n",
       "weather_descriptionlight rain and snow                  1131.3708   756.2609\n",
       "weather_descriptionlight shower snow                    1970.6406   591.3015\n",
       "weather_descriptionlight snow                            527.2114   137.4221\n",
       "weather_descriptionmist                                        NA         NA\n",
       "weather_descriptionmoderate rain                        -122.8084   554.7237\n",
       "weather_descriptionovercast clouds                      -274.9114    45.0600\n",
       "weather_descriptionproximity shower rain                 970.6268   583.3839\n",
       "weather_descriptionproximity thunderstorm               -407.2503   389.7159\n",
       "weather_descriptionproximity thunderstorm with drizzle  -998.5763   717.8532\n",
       "weather_descriptionproximity thunderstorm with rain     -710.3042   487.3932\n",
       "weather_descriptionscattered clouds                      301.3020    51.5178\n",
       "weather_descriptionshower drizzle                              NA         NA\n",
       "weather_descriptionsky is clear                         -253.2120    57.3838\n",
       "weather_descriptionSky is Clear                                NA         NA\n",
       "weather_descriptionsleet                                2179.7640  1297.2455\n",
       "weather_descriptionsmoke                                       NA         NA\n",
       "weather_descriptionsnow                                        NA         NA\n",
       "weather_descriptionSQUALLS                                     NA         NA\n",
       "weather_descriptionthunderstorm                         -824.5138   430.2770\n",
       "weather_descriptionthunderstorm with heavy rain         -685.3971   464.5863\n",
       "weather_descriptionthunderstorm with light drizzle     -1490.2631   691.5764\n",
       "weather_descriptionthunderstorm with light rain         -629.8572   487.3768\n",
       "weather_descriptionthunderstorm with rain                      NA         NA\n",
       "weather_descriptionvery heavy rain                             NA         NA\n",
       "day                                                       -3.2545     1.1437\n",
       "month                                                          NA         NA\n",
       "wday                                                      76.9540     4.9717\n",
       "hour                                                      91.8752     1.4680\n",
       "                                                       t value Pr(>|t|)    \n",
       "(Intercept)                                             -3.628 0.000286 ***\n",
       "holidayColumbus Day                                     -0.375 0.707824    \n",
       "holidayIndependence Day                                 -0.005 0.995863    \n",
       "holidayLabor Day                                         0.078 0.938202    \n",
       "holidayMartin Luther King Jr Day                        -0.096 0.923870    \n",
       "holidayMemorial Day                                     -0.072 0.942903    \n",
       "holidayNew Years Day                                     0.215 0.829701    \n",
       "holidayNone                                              1.327 0.184396    \n",
       "holidayState Fair                                       -0.368 0.712858    \n",
       "holidayThanksgiving Day                                  0.013 0.989615    \n",
       "holidayVeterans Day                                     -0.412 0.680700    \n",
       "holidayWashingtons Birthday                             -0.152 0.879254    \n",
       "temp                                                    17.272  < 2e-16 ***\n",
       "rain_1h                                                  0.813 0.416192    \n",
       "snow_1h                                                  1.128 0.259203    \n",
       "clouds_all                                              11.338  < 2e-16 ***\n",
       "weather_mainClouds                                      -1.806 0.070864 .  \n",
       "weather_mainDrizzle                                     -0.213 0.831409    \n",
       "weather_mainFog                                         -6.292 3.18e-10 ***\n",
       "weather_mainHaze                                        -0.867 0.386137    \n",
       "weather_mainMist                                        -7.159 8.32e-13 ***\n",
       "weather_mainRain                                        -0.792 0.428614    \n",
       "weather_mainSmoke                                       -1.195 0.231990    \n",
       "weather_mainSnow                                        -6.465 1.02e-10 ***\n",
       "weather_mainSquall                                      -1.221 0.221981    \n",
       "weather_mainThunderstorm                                -0.734 0.462775    \n",
       "weather_descriptiondrizzle                              -0.350 0.725994    \n",
       "weather_descriptionfew clouds                            4.782 1.74e-06 ***\n",
       "weather_descriptionfog                                      NA       NA    \n",
       "weather_descriptionfreezing rain                         0.727 0.467125    \n",
       "weather_descriptionhaze                                     NA       NA    \n",
       "weather_descriptionheavy intensity drizzle              -0.277 0.781668    \n",
       "weather_descriptionheavy intensity rain                 -0.467 0.640323    \n",
       "weather_descriptionheavy snow                            2.690 0.007159 ** \n",
       "weather_descriptionlight intensity drizzle              -0.182 0.855421    \n",
       "weather_descriptionlight intensity shower rain           0.646 0.518566    \n",
       "weather_descriptionlight rain                            0.036 0.971509    \n",
       "weather_descriptionlight rain and snow                   1.496 0.134661    \n",
       "weather_descriptionlight shower snow                     3.333 0.000861 ***\n",
       "weather_descriptionlight snow                            3.836 0.000125 ***\n",
       "weather_descriptionmist                                     NA       NA    \n",
       "weather_descriptionmoderate rain                        -0.221 0.824793    \n",
       "weather_descriptionovercast clouds                      -6.101 1.07e-09 ***\n",
       "weather_descriptionproximity shower rain                 1.664 0.096164 .  \n",
       "weather_descriptionproximity thunderstorm               -1.045 0.296034    \n",
       "weather_descriptionproximity thunderstorm with drizzle  -1.391 0.164217    \n",
       "weather_descriptionproximity thunderstorm with rain     -1.457 0.145028    \n",
       "weather_descriptionscattered clouds                      5.849 5.01e-09 ***\n",
       "weather_descriptionshower drizzle                           NA       NA    \n",
       "weather_descriptionsky is clear                         -4.413 1.02e-05 ***\n",
       "weather_descriptionSky is Clear                             NA       NA    \n",
       "weather_descriptionsleet                                 1.680 0.092908 .  \n",
       "weather_descriptionsmoke                                    NA       NA    \n",
       "weather_descriptionsnow                                     NA       NA    \n",
       "weather_descriptionSQUALLS                                  NA       NA    \n",
       "weather_descriptionthunderstorm                         -1.916 0.055343 .  \n",
       "weather_descriptionthunderstorm with heavy rain         -1.475 0.140145    \n",
       "weather_descriptionthunderstorm with light drizzle      -2.155 0.031178 *  \n",
       "weather_descriptionthunderstorm with light rain         -1.292 0.196248    \n",
       "weather_descriptionthunderstorm with rain                   NA       NA    \n",
       "weather_descriptionvery heavy rain                          NA       NA    \n",
       "day                                                     -2.846 0.004435 ** \n",
       "month                                                       NA       NA    \n",
       "wday                                                    15.479  < 2e-16 ***\n",
       "hour                                                    62.586  < 2e-16 ***\n",
       "---\n",
       "Signif. codes:  0 '***' 0.001 '**' 0.01 '*' 0.05 '.' 0.1 ' ' 1\n",
       "\n",
       "Residual standard error: 1826 on 33688 degrees of freedom\n",
       "Multiple R-squared:  0.1546,\tAdjusted R-squared:  0.1533 \n",
       "F-statistic: 116.2 on 53 and 33688 DF,  p-value: < 2.2e-16\n"
      ]
     },
     "metadata": {},
     "output_type": "display_data"
    }
   ],
   "source": [
    "## model with only the original variables\n",
    "mod1 <- lm(tip ~., data=train)\n",
    "summary(mod1)"
   ]
  },
  {
   "cell_type": "code",
   "execution_count": 21,
   "metadata": {},
   "outputs": [
    {
     "ename": "ERROR",
     "evalue": "Error in model.frame.default(Terms, newdata, na.action = na.action, xlev = object$xlevels): factor weather_description has new levels shower snow, thunderstorm with drizzle\n",
     "output_type": "error",
     "traceback": [
      "Error in model.frame.default(Terms, newdata, na.action = na.action, xlev = object$xlevels): factor weather_description has new levels shower snow, thunderstorm with drizzle\nTraceback:\n",
      "1. predict(mod1, newdata = test)",
      "2. predict.lm(mod1, newdata = test)",
      "3. model.frame(Terms, newdata, na.action = na.action, xlev = object$xlevels)",
      "4. model.frame.default(Terms, newdata, na.action = na.action, xlev = object$xlevels)",
      "5. stop(sprintf(ngettext(length(m), \"factor %s has new level %s\", \n .     \"factor %s has new levels %s\"), nm, paste(nxl[m], collapse = \", \")), \n .     domain = NA)"
     ]
    }
   ],
   "source": [
    "pred1 <- predict(mod1,newdata=test)\n",
    "rmse(test$tip,pred1)\n",
    "rmsle(test$tip,pred1)\n",
    "err_res <- rbind(err_res, data.frame(Name=\"Base Linear regression\", Model=\"mod1\", \n",
    "                                     RMSE=rmse(test$tip,pred1), \n",
    "                                     RMSLE=rmsle(test$tip,pred1)))"
   ]
  },
  {
   "cell_type": "code",
   "execution_count": 46,
   "metadata": {},
   "outputs": [
    {
     "data": {
      "text/plain": [
       "\n",
       "Call:\n",
       "lm(formula = traffic_volume ~ ., data = train)\n",
       "\n",
       "Residuals:\n",
       "    Min      1Q  Median      3Q     Max \n",
       "-4653.7  -399.4    -7.6   490.3  3175.5 \n",
       "\n",
       "Coefficients: (3 not defined because of singularities)\n",
       "                           Estimate Std. Error t value Pr(>|t|)    \n",
       "(Intercept)               -969.7498   205.5091  -4.719 2.38e-06 ***\n",
       "holiday1                   -85.0700   125.2393  -0.679 0.496978    \n",
       "temp                         7.4783     0.7592   9.851  < 2e-16 ***\n",
       "rain_1h                    -29.3448     4.5463  -6.455 1.10e-10 ***\n",
       "snow_1h                   -376.3486   550.3242  -0.684 0.494064    \n",
       "clouds_all                  -1.1722     0.1841  -6.367 1.95e-10 ***\n",
       "weather_mainClouds          75.7197    27.3652   2.767 0.005660 ** \n",
       "weather_mainDrizzle         31.4907   186.8627   0.169 0.866173    \n",
       "weather_mainFog            -90.5065    40.9239  -2.212 0.027002 *  \n",
       "weather_mainHaze             8.0339    36.6493   0.219 0.826487    \n",
       "weather_mainMist            -1.1421    29.3550  -0.039 0.968967    \n",
       "weather_mainRain            82.6814    79.2764   1.043 0.296979    \n",
       "weather_mainSmoke          -63.2683   210.7319  -0.300 0.764003    \n",
       "weather_mainSnow          -147.2958    38.4469  -3.831 0.000128 ***\n",
       "weather_mainSquall         425.9041   467.4946   0.911 0.362283    \n",
       "weather_mainThunderstorm   -21.4390    43.4310  -0.494 0.621569    \n",
       "month2                     178.1733    22.3970   7.955 1.84e-15 ***\n",
       "month3                     263.7124    22.8382  11.547  < 2e-16 ***\n",
       "month4                     208.7048    23.7883   8.773  < 2e-16 ***\n",
       "month5                     121.1945    27.4170   4.420 9.88e-06 ***\n",
       "month6                     141.9480    30.8927   4.595 4.35e-06 ***\n",
       "month7                     -88.2616    31.0275  -2.845 0.004449 ** \n",
       "month8                     135.8301    30.4686   4.458 8.30e-06 ***\n",
       "month9                      72.6546    29.6504   2.450 0.014276 *  \n",
       "month10                    168.4786    26.3868   6.385 1.74e-10 ***\n",
       "month11                     45.2044    23.5222   1.922 0.054642 .  \n",
       "month12                     10.2911    21.4586   0.480 0.631530    \n",
       "day2                        10.0972    35.2960   0.286 0.774824    \n",
       "day3                         8.5067    35.2657   0.241 0.809388    \n",
       "day4                       -61.5561    35.0550  -1.756 0.079100 .  \n",
       "day5                       -21.3895    35.3158  -0.606 0.544741    \n",
       "day6                        61.3401    34.6126   1.772 0.076372 .  \n",
       "day7                       112.8106    35.0079   3.222 0.001272 ** \n",
       "day8                        71.7570    35.1379   2.042 0.041144 *  \n",
       "day9                        76.7982    35.3799   2.171 0.029963 *  \n",
       "day10                       26.3393    35.0230   0.752 0.452022    \n",
       "day11                      -10.6176    34.9154  -0.304 0.761057    \n",
       "day12                       79.4902    35.1833   2.259 0.023870 *  \n",
       "day13                      103.0668    35.5677   2.898 0.003761 ** \n",
       "day14                       55.6506    34.9332   1.593 0.111157    \n",
       "day15                       48.5951    34.9644   1.390 0.164585    \n",
       "day16                       32.0076    35.1778   0.910 0.362892    \n",
       "day17                       65.9481    35.3674   1.865 0.062238 .  \n",
       "day18                       70.2512    35.1850   1.997 0.045875 *  \n",
       "day19                       93.1888    34.4217   2.707 0.006787 ** \n",
       "day20                       88.0693    34.8531   2.527 0.011513 *  \n",
       "day21                      101.5312    35.4733   2.862 0.004210 ** \n",
       "day22                      -15.4299    35.4008  -0.436 0.662939    \n",
       "day23                      -90.2966    35.1015  -2.572 0.010103 *  \n",
       "day24                      -56.8304    34.8109  -1.633 0.102574    \n",
       "day25                      -62.5728    34.9389  -1.791 0.073315 .  \n",
       "day26                      -53.7292    34.9552  -1.537 0.124282    \n",
       "day27                       58.7695    35.5275   1.654 0.098097 .  \n",
       "day28                       29.0525    35.2224   0.825 0.409474    \n",
       "day29                       14.8455    36.7366   0.404 0.686138    \n",
       "day30                        0.8569    36.1897   0.024 0.981109    \n",
       "day31                       59.2870    40.9959   1.446 0.148139    \n",
       "hour1                     -288.6140    30.5454  -9.449  < 2e-16 ***\n",
       "hour2                     -420.8913    30.6818 -13.718  < 2e-16 ***\n",
       "hour3                     -445.5772    30.6603 -14.533  < 2e-16 ***\n",
       "hour4                     -100.0159    30.3481  -3.296 0.000983 ***\n",
       "hour5                     1301.4801    30.4971  42.675  < 2e-16 ***\n",
       "hour6                     3363.7614    30.6376 109.792  < 2e-16 ***\n",
       "hour7                     3944.2919    30.4379 129.585  < 2e-16 ***\n",
       "hour8                     3825.4459    30.4836 125.492  < 2e-16 ***\n",
       "hour9                     3583.2995    30.5262 117.384  < 2e-16 ***\n",
       "hour10                    3367.5252    30.5059 110.389  < 2e-16 ***\n",
       "hour11                    3635.1132    31.1893 116.550  < 2e-16 ***\n",
       "hour12                    3882.4725    30.9674 125.373  < 2e-16 ***\n",
       "hour13                    3873.7533    31.3165 123.697  < 2e-16 ***\n",
       "hour14                    4080.2494    31.0898 131.241  < 2e-16 ***\n",
       "hour15                    4387.0505    31.1486 140.843  < 2e-16 ***\n",
       "hour16                    4823.4299    30.9679 155.756  < 2e-16 ***\n",
       "hour17                    4470.5884    31.1846 143.359  < 2e-16 ***\n",
       "hour18                    3385.7143    30.9894 109.254  < 2e-16 ***\n",
       "hour19                    2413.3156    30.9412  77.997  < 2e-16 ***\n",
       "hour20                    2003.6698    30.6506  65.371  < 2e-16 ***\n",
       "hour21                    1835.5470    30.7507  59.691  < 2e-16 ***\n",
       "hour22                    1340.5614    31.0142  43.224  < 2e-16 ***\n",
       "hour23                     645.9208    30.5745  21.126  < 2e-16 ***\n",
       "weekdayMonday             -353.8199    16.4370 -21.526  < 2e-16 ***\n",
       "weekdaySaturday           -899.3183    16.5895 -54.210  < 2e-16 ***\n",
       "weekdaySunday            -1289.8334    16.5285 -78.037  < 2e-16 ***\n",
       "weekdayThursday            -29.2595    16.5151  -1.772 0.076456 .  \n",
       "weekdayTuesday            -141.9315    16.4908  -8.607  < 2e-16 ***\n",
       "weekdayWednesday           -81.8712    16.4220  -4.985 6.21e-07 ***\n",
       "seasonal                         NA         NA      NA       NA    \n",
       "light_heavy                 35.9789    16.3101   2.206 0.027396 *  \n",
       "rainydrizzle               -10.0240   184.2010  -0.054 0.956602    \n",
       "rainyshower               -330.5768   214.0016  -1.545 0.122419    \n",
       "rainyrain                  -93.7020    74.9266  -1.251 0.211095    \n",
       "clearclear                  20.9221    25.5754   0.818 0.413331    \n",
       "clearfog                         NA         NA      NA       NA    \n",
       "thunderstormYes                  NA         NA      NA       NA    \n",
       "---\n",
       "Signif. codes:  0 ‘***’ 0.001 ‘**’ 0.01 ‘*’ 0.05 ‘.’ 0.1 ‘ ’ 1\n",
       "\n",
       "Residual standard error: 806.9 on 33644 degrees of freedom\n",
       "Multiple R-squared:  0.8357,\tAdjusted R-squared:  0.8353 \n",
       "F-statistic:  1902 on 90 and 33644 DF,  p-value: < 2.2e-16\n"
      ]
     },
     "metadata": {},
     "output_type": "display_data"
    }
   ],
   "source": [
    "## model with all the variables\n",
    "mod2 <- lm(tip ~., data=train)\n",
    "summary(mod2)"
   ]
  },
  {
   "cell_type": "code",
   "execution_count": 47,
   "metadata": {},
   "outputs": [
    {
     "data": {
      "text/html": [
       "813.007518441875"
      ],
      "text/latex": [
       "813.007518441875"
      ],
      "text/markdown": [
       "813.007518441875"
      ],
      "text/plain": [
       "[1] 813.0075"
      ]
     },
     "metadata": {},
     "output_type": "display_data"
    },
    {
     "data": {
      "text/html": [
       "0.55089765839541"
      ],
      "text/latex": [
       "0.55089765839541"
      ],
      "text/markdown": [
       "0.55089765839541"
      ],
      "text/plain": [
       "[1] 0.5508977"
      ]
     },
     "metadata": {},
     "output_type": "display_data"
    }
   ],
   "source": [
    "pred2 <- predict(mod2,newdata=test)\n",
    "rmse(test$tip,pred2)\n",
    "rmsle(test$tip,pred2)\n",
    "err_res <- rbind(err_res, data.frame(Name=\"Extended Linear regression\", Model=\"mod2\", \n",
    "                                     RMSE=rmse(test$tip,pred2), \n",
    "                                     RMSLE=rmsle(test$tip,pred2)))"
   ]
  },
  {
   "cell_type": "markdown",
   "metadata": {},
   "source": [
    "## Desicion trees"
   ]
  },
  {
   "cell_type": "code",
   "execution_count": 48,
   "metadata": {},
   "outputs": [],
   "source": [
    "library(tree)\n",
    "library(rpart)"
   ]
  },
  {
   "cell_type": "code",
   "execution_count": 49,
   "metadata": {},
   "outputs": [
    {
     "data": {
      "text/plain": [
       "node), split, n, deviance, yval\n",
       "      * denotes terminal node\n",
       "\n",
       " 1) root 33735 1.333e+11 3265.0  \n",
       "   2) hour: 0,1,2,3,4,5,20,21,22,23 14202 1.559e+10 1403.0  \n",
       "     4) hour: 0,1,2,3,4,23 8567 2.125e+09  716.5 *\n",
       "     5) hour: 5,20,21,22 5635 3.296e+09 2446.0 *\n",
       "   3) hour: 6,7,8,9,10,11,12,13,14,15,16,17,18,19 19533 3.266e+10 4619.0  \n",
       "     6) weekday: Saturday,Sunday 5466 8.371e+09 3460.0  \n",
       "      12) hour: 6,7,8 1229 6.333e+08 1681.0 *\n",
       "      13) hour: 9,10,11,12,13,14,15,16,17,18,19 4237 2.718e+09 3976.0 *\n",
       "     7) weekday: Friday,Monday,Thursday,Tuesday,Wednesday 14067 1.410e+10 5070.0  \n",
       "      14) hour: 9,10,11,12,13,18,19 6998 3.785e+09 4472.0  \n",
       "        28) hour: 19 1011 1.865e+08 3288.0 *\n",
       "        29) hour: 9,10,11,12,13,18 5987 1.940e+09 4673.0 *\n",
       "      15) hour: 6,7,8,14,15,16,17 7069 5.344e+09 5661.0 *"
      ]
     },
     "metadata": {},
     "output_type": "display_data"
    }
   ],
   "source": [
    "mod3 <- tree(tip ~., data=train)\n",
    "mod3"
   ]
  },
  {
   "cell_type": "code",
   "execution_count": 50,
   "metadata": {},
   "outputs": [
    {
     "data": {
      "text/html": [
       "684.040171273379"
      ],
      "text/latex": [
       "684.040171273379"
      ],
      "text/markdown": [
       "684.040171273379"
      ],
      "text/plain": [
       "[1] 684.0402"
      ]
     },
     "metadata": {},
     "output_type": "display_data"
    },
    {
     "data": {
      "text/html": [
       "0.440037962641676"
      ],
      "text/latex": [
       "0.440037962641676"
      ],
      "text/markdown": [
       "0.440037962641676"
      ],
      "text/plain": [
       "[1] 0.440038"
      ]
     },
     "metadata": {},
     "output_type": "display_data"
    }
   ],
   "source": [
    "pred3 <- predict(mod3,newdata=test)\n",
    "rmse(test$tip,pred3)\n",
    "rmsle(test$tip,pred3)\n",
    "err_res <- rbind(err_res, data.frame(Name=\"Decision Trees-tree\", Model=\"mod3\", \n",
    "                                     RMSE=rmse(test$tip,pred3), \n",
    "                                     RMSLE=rmsle(test$tip,pred3)))"
   ]
  },
  {
   "cell_type": "code",
   "execution_count": 51,
   "metadata": {},
   "outputs": [
    {
     "data": {
      "text/plain": [
       "n= 33735 \n",
       "\n",
       "node), split, n, deviance, yval\n",
       "      * denotes terminal node\n",
       "\n",
       " 1) root 33735 133336700000 3265.2030  \n",
       "   2) hour=0,1,2,3,4,5,20,21,22,23 14202  15585880000 1402.6780  \n",
       "     4) hour=0,1,2,3,4,23 8567   2124686000  716.5288 *\n",
       "     5) hour=5,20,21,22 5635   3295873000 2445.8430 *\n",
       "   3) hour=6,7,8,9,10,11,12,13,14,15,16,17,18,19 19533  32663340000 4619.4030  \n",
       "     6) weekday=Saturday,Sunday 5466   8370710000 3460.3710  \n",
       "      12) hour=6,7,8 1229    633278500 1681.1450 *\n",
       "      13) hour=9,10,11,12,13,14,15,16,17,18,19 4237   2718337000 3976.4600 *\n",
       "     7) weekday=Friday,Monday,Thursday,Tuesday,Wednesday 14067  14096690000 5069.7660  \n",
       "      14) hour=9,10,11,12,13,18,19 6998   3784788000 4472.4930  \n",
       "        28) hour=19 1011    186461500 3287.7770 *\n",
       "        29) hour=9,10,11,12,13,18 5987   1939718000 4672.5510 *\n",
       "      15) hour=6,7,8,14,15,16,17 7069   5344096000 5661.0410 *"
      ]
     },
     "metadata": {},
     "output_type": "display_data"
    }
   ],
   "source": [
    "mod4 <- rpart(tip ~., data=train)\n",
    "mod4"
   ]
  },
  {
   "cell_type": "code",
   "execution_count": 52,
   "metadata": {},
   "outputs": [
    {
     "data": {
      "text/html": [
       "684.040171273379"
      ],
      "text/latex": [
       "684.040171273379"
      ],
      "text/markdown": [
       "684.040171273379"
      ],
      "text/plain": [
       "[1] 684.0402"
      ]
     },
     "metadata": {},
     "output_type": "display_data"
    },
    {
     "data": {
      "text/html": [
       "0.440037962641676"
      ],
      "text/latex": [
       "0.440037962641676"
      ],
      "text/markdown": [
       "0.440037962641676"
      ],
      "text/plain": [
       "[1] 0.440038"
      ]
     },
     "metadata": {},
     "output_type": "display_data"
    }
   ],
   "source": [
    "pred4 <- predict(mod4,newdata=test)\n",
    "rmse(test$tip,pred4)\n",
    "rmsle(test$tip,pred4)\n",
    "err_res <- rbind(err_res, data.frame(Name=\"Decision Trees-rpart\", Model=\"mod4\", \n",
    "                                     RMSE=rmse(test$tip,pred4), \n",
    "                                     RMSLE=rmsle(test$tip,pred4)))"
   ]
  },
  {
   "cell_type": "markdown",
   "metadata": {},
   "source": [
    "## Random Forest"
   ]
  },
  {
   "cell_type": "code",
   "execution_count": 53,
   "metadata": {},
   "outputs": [
    {
     "name": "stderr",
     "output_type": "stream",
     "text": [
      "randomForest 4.6-12\n",
      "Type rfNews() to see new features/changes/bug fixes.\n",
      "\n",
      "Attaching package: ‘randomForest’\n",
      "\n",
      "The following object is masked from ‘package:ggplot2’:\n",
      "\n",
      "    margin\n",
      "\n",
      "The following object is masked from ‘package:dplyr’:\n",
      "\n",
      "    combine\n",
      "\n",
      "\n",
      "Attaching package: ‘ranger’\n",
      "\n",
      "The following object is masked from ‘package:randomForest’:\n",
      "\n",
      "    importance\n",
      "\n"
     ]
    }
   ],
   "source": [
    "library(randomForest)\n",
    "library(ranger)"
   ]
  },
  {
   "cell_type": "code",
   "execution_count": 54,
   "metadata": {},
   "outputs": [],
   "source": [
    "#mod5 <- randomForest(tip ~., data=train)\n",
    "#mod5"
   ]
  },
  {
   "cell_type": "code",
   "execution_count": 55,
   "metadata": {},
   "outputs": [],
   "source": [
    "#pred5 <- predict(mod5,newdata=test)\n",
    "#rmse(test$tip,pred5)\n",
    "#rmsle(test$tip,pred5)"
   ]
  },
  {
   "cell_type": "code",
   "execution_count": 56,
   "metadata": {},
   "outputs": [
    {
     "data": {
      "text/plain": [
       "Ranger result\n",
       "\n",
       "Call:\n",
       " ranger(traffic_volume ~ ., data = train) \n",
       "\n",
       "Type:                             Regression \n",
       "Number of trees:                  500 \n",
       "Sample size:                      33735 \n",
       "Number of independent variables:  15 \n",
       "Mtry:                             3 \n",
       "Target node size:                 5 \n",
       "Variable importance mode:         none \n",
       "Splitrule:                        variance \n",
       "OOB prediction error (MSE):       329935.8 \n",
       "R squared (OOB):                  0.9165267 "
      ]
     },
     "metadata": {},
     "output_type": "display_data"
    }
   ],
   "source": [
    "mod6 <- ranger(tip ~., data=train)\n",
    "mod6"
   ]
  },
  {
   "cell_type": "code",
   "execution_count": 61,
   "metadata": {},
   "outputs": [
    {
     "data": {
      "text/html": [
       "563.473449622522"
      ],
      "text/latex": [
       "563.473449622522"
      ],
      "text/markdown": [
       "563.473449622522"
      ],
      "text/plain": [
       "[1] 563.4734"
      ]
     },
     "metadata": {},
     "output_type": "display_data"
    },
    {
     "data": {
      "text/html": [
       "0.363675723497799"
      ],
      "text/latex": [
       "0.363675723497799"
      ],
      "text/markdown": [
       "0.363675723497799"
      ],
      "text/plain": [
       "[1] 0.3636757"
      ]
     },
     "metadata": {},
     "output_type": "display_data"
    }
   ],
   "source": [
    "pred6 <- predict(mod6,data=test)\n",
    "#head(pred6)\n",
    "rmse(test$tip,pred6$predictions)\n",
    "rmsle(test$tip,pred6$predictions)\n",
    "err_res <- rbind(err_res, data.frame(Name=\"RandomForest (ranger)\", Model=\"mod6\", \n",
    "                                     RMSE=rmse(test$tip,pred6$predictions), \n",
    "                                     RMSLE=rmsle(test$tip,pred6$predictions)))"
   ]
  },
  {
   "cell_type": "markdown",
   "metadata": {},
   "source": [
    "## XGBoost"
   ]
  },
  {
   "cell_type": "code",
   "execution_count": 90,
   "metadata": {},
   "outputs": [
    {
     "name": "stderr",
     "output_type": "stream",
     "text": [
      "\n",
      "Attaching package: ‘xgboost’\n",
      "\n",
      "The following object is masked from ‘package:dplyr’:\n",
      "\n",
      "    slice\n",
      "\n"
     ]
    }
   ],
   "source": [
    "library(xgboost)"
   ]
  },
  {
   "cell_type": "code",
   "execution_count": 91,
   "metadata": {},
   "outputs": [],
   "source": [
    "train1 <- Matrix::sparse.model.matrix(tip ~ .-1, data = train)"
   ]
  },
  {
   "cell_type": "code",
   "execution_count": 92,
   "metadata": {},
   "outputs": [],
   "source": [
    "test1 <- Matrix::sparse.model.matrix(tip ~ .-1, data = test)"
   ]
  },
  {
   "cell_type": "code",
   "execution_count": 93,
   "metadata": {},
   "outputs": [
    {
     "name": "stdout",
     "output_type": "stream",
     "text": [
      "[1]\ttrain-rmse:2857.081055 \n",
      "[11]\ttrain-rmse:858.049011 \n",
      "[21]\ttrain-rmse:670.329956 \n",
      "[31]\ttrain-rmse:602.543091 \n",
      "[41]\ttrain-rmse:571.487122 \n",
      "[51]\ttrain-rmse:545.621826 \n",
      "[61]\ttrain-rmse:525.861023 \n",
      "[71]\ttrain-rmse:509.539185 \n",
      "[81]\ttrain-rmse:493.998077 \n",
      "[91]\ttrain-rmse:480.588318 \n",
      "[100]\ttrain-rmse:468.334961 \n"
     ]
    }
   ],
   "source": [
    "#X_train <- xgb.DMatrix(train1)\n",
    "X_train <- train1\n",
    "y_train <- train$tip\n",
    "mod7 <- xgboost(data=X_train,label=y_train, nrounds=100,print_every_n = 10)"
   ]
  },
  {
   "cell_type": "code",
   "execution_count": 94,
   "metadata": {},
   "outputs": [
    {
     "data": {
      "text/html": [
       "525.401468409559"
      ],
      "text/latex": [
       "525.401468409559"
      ],
      "text/markdown": [
       "525.401468409559"
      ],
      "text/plain": [
       "[1] 525.4015"
      ]
     },
     "metadata": {},
     "output_type": "display_data"
    },
    {
     "data": {
      "text/html": [
       "0.333130635995515"
      ],
      "text/latex": [
       "0.333130635995515"
      ],
      "text/markdown": [
       "0.333130635995515"
      ],
      "text/plain": [
       "[1] 0.3331306"
      ]
     },
     "metadata": {},
     "output_type": "display_data"
    }
   ],
   "source": [
    "#X_test <- xgb.DMatrix(test1)\n",
    "X_test <- test1\n",
    "y_test <- test$tip\n",
    "\n",
    "pred7 <- predict(mod7,newdata=X_test)\n",
    "rmse(y_test,pred7)\n",
    "rmsle(y_test,pred7)\n",
    "err_res <- rbind(err_res, data.frame(Name=\"XGBoost\", Model=\"mod7\", \n",
    "                                     RMSE=rmse(test$tip,pred7), \n",
    "                                     RMSLE=rmsle(test$tip,pred7)))"
   ]
  },
  {
   "cell_type": "markdown",
   "metadata": {},
   "source": [
    "## kNN "
   ]
  },
  {
   "cell_type": "code",
   "execution_count": 95,
   "metadata": {},
   "outputs": [],
   "source": [
    "### adaboost needs that values to be normalized\n",
    "min_max <- function(x) { (x -min(x))/(max(x)-min(x))   }"
   ]
  },
  {
   "cell_type": "code",
   "execution_count": 96,
   "metadata": {},
   "outputs": [],
   "source": [
    "X_train <- sapply(data.frame(as.matrix(train1)),min_max)"
   ]
  },
  {
   "cell_type": "code",
   "execution_count": 97,
   "metadata": {},
   "outputs": [],
   "source": [
    "X_test <- sapply(data.frame(as.matrix(test1)),min_max)"
   ]
  },
  {
   "cell_type": "code",
   "execution_count": 98,
   "metadata": {},
   "outputs": [
    {
     "data": {
      "text/plain": [
       "    holiday0         holiday1             temp           rain_1h        \n",
       " Min.   :0.0000   Min.   :0.000000   Min.   :0.0000   Min.   :0.000000  \n",
       " 1st Qu.:1.0000   1st Qu.:0.000000   1st Qu.:0.4369   1st Qu.:0.000000  \n",
       " Median :1.0000   Median :0.000000   Median :0.5932   Median :0.000000  \n",
       " Mean   :0.9987   Mean   :0.001275   Mean   :0.5751   Mean   :0.002263  \n",
       " 3rd Qu.:1.0000   3rd Qu.:0.000000   3rd Qu.:0.7349   3rd Qu.:0.000000  \n",
       " Max.   :1.0000   Max.   :1.000000   Max.   :1.0000   Max.   :1.000000  \n",
       "    snow_1h            clouds_all    weather_mainClouds weather_mainDrizzle\n",
       " Min.   :0.0000000   Min.   :0.000   Min.   :0.0000     Min.   :0.00000    \n",
       " 1st Qu.:0.0000000   1st Qu.:0.010   1st Qu.:0.0000     1st Qu.:0.00000    \n",
       " Median :0.0000000   Median :0.640   Median :0.0000     Median :0.00000    \n",
       " Mean   :0.0004365   Mean   :0.493   Mean   :0.3146     Mean   :0.03762    \n",
       " 3rd Qu.:0.0000000   3rd Qu.:0.900   3rd Qu.:1.0000     3rd Qu.:0.00000    \n",
       " Max.   :1.0000000   Max.   :1.000   Max.   :1.0000     Max.   :1.00000    \n",
       " weather_mainFog   weather_mainHaze  weather_mainMist weather_mainRain\n",
       " Min.   :0.00000   Min.   :0.00000   Min.   :0.0000   Min.   :0.000   \n",
       " 1st Qu.:0.00000   1st Qu.:0.00000   1st Qu.:0.0000   1st Qu.:0.000   \n",
       " Median :0.00000   Median :0.00000   Median :0.0000   Median :0.000   \n",
       " Mean   :0.01912   Mean   :0.02949   Mean   :0.1227   Mean   :0.118   \n",
       " 3rd Qu.:0.00000   3rd Qu.:0.00000   3rd Qu.:0.0000   3rd Qu.:0.000   \n",
       " Max.   :1.00000   Max.   :1.00000   Max.   :1.0000   Max.   :1.000   \n",
       " weather_mainSmoke   weather_mainSnow  weather_mainSquall\n",
       " Min.   :0.0000000   Min.   :0.00000   Min.   :0.00e+00  \n",
       " 1st Qu.:0.0000000   1st Qu.:0.00000   1st Qu.:0.00e+00  \n",
       " Median :0.0000000   Median :0.00000   Median :0.00e+00  \n",
       " Mean   :0.0004446   Mean   :0.05943   Mean   :8.89e-05  \n",
       " 3rd Qu.:0.0000000   3rd Qu.:0.00000   3rd Qu.:0.00e+00  \n",
       " Max.   :1.0000000   Max.   :1.00000   Max.   :1.00e+00  \n",
       " weather_mainThunderstorm     month2            month3            month4       \n",
       " Min.   :0.00000          Min.   :0.00000   Min.   :0.00000   Min.   :0.00000  \n",
       " 1st Qu.:0.00000          1st Qu.:0.00000   1st Qu.:0.00000   1st Qu.:0.00000  \n",
       " Median :0.00000          Median :0.00000   Median :0.00000   Median :0.00000  \n",
       " Mean   :0.02119          Mean   :0.07366   Mean   :0.07763   Mean   :0.08807  \n",
       " 3rd Qu.:0.00000          3rd Qu.:0.00000   3rd Qu.:0.00000   3rd Qu.:0.00000  \n",
       " Max.   :1.00000          Max.   :1.00000   Max.   :1.00000   Max.   :1.00000  \n",
       "     month5            month6            month7           month8      \n",
       " Min.   :0.00000   Min.   :0.00000   Min.   :0.0000   Min.   :0.0000  \n",
       " 1st Qu.:0.00000   1st Qu.:0.00000   1st Qu.:0.0000   1st Qu.:0.0000  \n",
       " Median :0.00000   Median :0.00000   Median :0.0000   Median :0.0000  \n",
       " Mean   :0.09213   Mean   :0.07817   Mean   :0.0999   Mean   :0.0908  \n",
       " 3rd Qu.:0.00000   3rd Qu.:0.00000   3rd Qu.:0.0000   3rd Qu.:0.0000  \n",
       " Max.   :1.00000   Max.   :1.00000   Max.   :1.0000   Max.   :1.0000  \n",
       "     month9          month10           month11           month12       \n",
       " Min.   :0.0000   Min.   :0.00000   Min.   :0.00000   Min.   :0.00000  \n",
       " 1st Qu.:0.0000   1st Qu.:0.00000   1st Qu.:0.00000   1st Qu.:0.00000  \n",
       " Median :0.0000   Median :0.00000   Median :0.00000   Median :0.00000  \n",
       " Mean   :0.0798   Mean   :0.07177   Mean   :0.07737   Mean   :0.08804  \n",
       " 3rd Qu.:0.0000   3rd Qu.:0.00000   3rd Qu.:0.00000   3rd Qu.:0.00000  \n",
       " Max.   :1.0000   Max.   :1.00000   Max.   :1.00000   Max.   :1.00000  \n",
       "      day2              day3              day4              day5        \n",
       " Min.   :0.00000   Min.   :0.00000   Min.   :0.00000   Min.   :0.00000  \n",
       " 1st Qu.:0.00000   1st Qu.:0.00000   1st Qu.:0.00000   1st Qu.:0.00000  \n",
       " Median :0.00000   Median :0.00000   Median :0.00000   Median :0.00000  \n",
       " Mean   :0.03222   Mean   :0.03249   Mean   :0.03326   Mean   :0.03222  \n",
       " 3rd Qu.:0.00000   3rd Qu.:0.00000   3rd Qu.:0.00000   3rd Qu.:0.00000  \n",
       " Max.   :1.00000   Max.   :1.00000   Max.   :1.00000   Max.   :1.00000  \n",
       "      day6             day7              day8             day9        \n",
       " Min.   :0.0000   Min.   :0.00000   Min.   :0.0000   Min.   :0.00000  \n",
       " 1st Qu.:0.0000   1st Qu.:0.00000   1st Qu.:0.0000   1st Qu.:0.00000  \n",
       " Median :0.0000   Median :0.00000   Median :0.0000   Median :0.00000  \n",
       " Mean   :0.0353   Mean   :0.03341   Mean   :0.0329   Mean   :0.03193  \n",
       " 3rd Qu.:0.0000   3rd Qu.:0.00000   3rd Qu.:0.0000   3rd Qu.:0.00000  \n",
       " Max.   :1.0000   Max.   :1.00000   Max.   :1.0000   Max.   :1.00000  \n",
       "     day10             day11             day12             day13       \n",
       " Min.   :0.00000   Min.   :0.00000   Min.   :0.00000   Min.   :0.0000  \n",
       " 1st Qu.:0.00000   1st Qu.:0.00000   1st Qu.:0.00000   1st Qu.:0.0000  \n",
       " Median :0.00000   Median :0.00000   Median :0.00000   Median :0.0000  \n",
       " Mean   :0.03347   Mean   :0.03391   Mean   :0.03273   Mean   :0.0313  \n",
       " 3rd Qu.:0.00000   3rd Qu.:0.00000   3rd Qu.:0.00000   3rd Qu.:0.0000  \n",
       " Max.   :1.00000   Max.   :1.00000   Max.   :1.00000   Max.   :1.0000  \n",
       "     day14             day15            day16            day17        \n",
       " Min.   :0.00000   Min.   :0.0000   Min.   :0.0000   Min.   :0.00000  \n",
       " 1st Qu.:0.00000   1st Qu.:0.0000   1st Qu.:0.0000   1st Qu.:0.00000  \n",
       " Median :0.00000   Median :0.0000   Median :0.0000   Median :0.00000  \n",
       " Mean   :0.03385   Mean   :0.0337   Mean   :0.0329   Mean   :0.03225  \n",
       " 3rd Qu.:0.00000   3rd Qu.:0.0000   3rd Qu.:0.0000   3rd Qu.:0.00000  \n",
       " Max.   :1.00000   Max.   :1.0000   Max.   :1.0000   Max.   :1.00000  \n",
       "     day18             day19             day20             day21        \n",
       " Min.   :0.00000   Min.   :0.00000   Min.   :0.00000   Min.   :0.00000  \n",
       " 1st Qu.:0.00000   1st Qu.:0.00000   1st Qu.:0.00000   1st Qu.:0.00000  \n",
       " Median :0.00000   Median :0.00000   Median :0.00000   Median :0.00000  \n",
       " Mean   :0.03284   Mean   :0.03619   Mean   :0.03442   Mean   :0.03169  \n",
       " 3rd Qu.:0.00000   3rd Qu.:0.00000   3rd Qu.:0.00000   3rd Qu.:0.00000  \n",
       " Max.   :1.00000   Max.   :1.00000   Max.   :1.00000   Max.   :1.00000  \n",
       "     day22             day23            day24             day25        \n",
       " Min.   :0.00000   Min.   :0.0000   Min.   :0.00000   Min.   :0.00000  \n",
       " 1st Qu.:0.00000   1st Qu.:0.0000   1st Qu.:0.00000   1st Qu.:0.00000  \n",
       " Median :0.00000   Median :0.0000   Median :0.00000   Median :0.00000  \n",
       " Mean   :0.03201   Mean   :0.0332   Mean   :0.03447   Mean   :0.03382  \n",
       " 3rd Qu.:0.00000   3rd Qu.:0.0000   3rd Qu.:0.00000   3rd Qu.:0.00000  \n",
       " Max.   :1.00000   Max.   :1.0000   Max.   :1.00000   Max.   :1.00000  \n",
       "     day26            day27             day28             day29        \n",
       " Min.   :0.0000   Min.   :0.00000   Min.   :0.00000   Min.   :0.00000  \n",
       " 1st Qu.:0.0000   1st Qu.:0.00000   1st Qu.:0.00000   1st Qu.:0.00000  \n",
       " Median :0.0000   Median :0.00000   Median :0.00000   Median :0.00000  \n",
       " Mean   :0.0337   Mean   :0.03142   Mean   :0.03261   Mean   :0.02757  \n",
       " 3rd Qu.:0.0000   3rd Qu.:0.00000   3rd Qu.:0.00000   3rd Qu.:0.00000  \n",
       " Max.   :1.0000   Max.   :1.00000   Max.   :1.00000   Max.   :1.00000  \n",
       "     day30             day31             hour1             hour2        \n",
       " Min.   :0.00000   Min.   :0.00000   Min.   :0.00000   Min.   :0.00000  \n",
       " 1st Qu.:0.00000   1st Qu.:0.00000   1st Qu.:0.00000   1st Qu.:0.00000  \n",
       " Median :0.00000   Median :0.00000   Median :0.00000   Median :0.00000  \n",
       " Mean   :0.02926   Mean   :0.01897   Mean   :0.04248   Mean   :0.04174  \n",
       " 3rd Qu.:0.00000   3rd Qu.:0.00000   3rd Qu.:0.00000   3rd Qu.:0.00000  \n",
       " Max.   :1.00000   Max.   :1.00000   Max.   :1.00000   Max.   :1.00000  \n",
       "     hour3             hour4             hour5            hour6       \n",
       " Min.   :0.00000   Min.   :0.00000   Min.   :0.0000   Min.   :0.0000  \n",
       " 1st Qu.:0.00000   1st Qu.:0.00000   1st Qu.:0.0000   1st Qu.:0.0000  \n",
       " Median :0.00000   Median :0.00000   Median :0.0000   Median :0.0000  \n",
       " Mean   :0.04197   Mean   :0.04378   Mean   :0.0431   Mean   :0.0423  \n",
       " 3rd Qu.:0.00000   3rd Qu.:0.00000   3rd Qu.:0.0000   3rd Qu.:0.0000  \n",
       " Max.   :1.00000   Max.   :1.00000   Max.   :1.0000   Max.   :1.0000  \n",
       "     hour7             hour8            hour9             hour10       \n",
       " Min.   :0.00000   Min.   :0.0000   Min.   :0.00000   Min.   :0.00000  \n",
       " 1st Qu.:0.00000   1st Qu.:0.0000   1st Qu.:0.00000   1st Qu.:0.00000  \n",
       " Median :0.00000   Median :0.0000   Median :0.00000   Median :0.00000  \n",
       " Mean   :0.04357   Mean   :0.0431   Mean   :0.04272   Mean   :0.04286  \n",
       " 3rd Qu.:0.00000   3rd Qu.:0.0000   3rd Qu.:0.00000   3rd Qu.:0.00000  \n",
       " Max.   :1.00000   Max.   :1.0000   Max.   :1.00000   Max.   :1.00000  \n",
       "     hour11            hour12            hour13            hour14      \n",
       " Min.   :0.00000   Min.   :0.00000   Min.   :0.00000   Min.   :0.0000  \n",
       " 1st Qu.:0.00000   1st Qu.:0.00000   1st Qu.:0.00000   1st Qu.:0.0000  \n",
       " Median :0.00000   Median :0.00000   Median :0.00000   Median :0.0000  \n",
       " Mean   :0.03937   Mean   :0.04091   Mean   :0.03928   Mean   :0.0407  \n",
       " 3rd Qu.:0.00000   3rd Qu.:0.00000   3rd Qu.:0.00000   3rd Qu.:0.0000  \n",
       " Max.   :1.00000   Max.   :1.00000   Max.   :1.00000   Max.   :1.0000  \n",
       "     hour15            hour16            hour17            hour18       \n",
       " Min.   :0.00000   Min.   :0.00000   Min.   :0.00000   Min.   :0.00000  \n",
       " 1st Qu.:0.00000   1st Qu.:0.00000   1st Qu.:0.00000   1st Qu.:0.00000  \n",
       " Median :0.00000   Median :0.00000   Median :0.00000   Median :0.00000  \n",
       " Mean   :0.04043   Mean   :0.04153   Mean   :0.04023   Mean   :0.04103  \n",
       " 3rd Qu.:0.00000   3rd Qu.:0.00000   3rd Qu.:0.00000   3rd Qu.:0.00000  \n",
       " Max.   :1.00000   Max.   :1.00000   Max.   :1.00000   Max.   :1.00000  \n",
       "     hour19          hour20            hour21            hour22       \n",
       " Min.   :0.000   Min.   :0.00000   Min.   :0.00000   Min.   :0.00000  \n",
       " 1st Qu.:0.000   1st Qu.:0.00000   1st Qu.:0.00000   1st Qu.:0.00000  \n",
       " Median :0.000   Median :0.00000   Median :0.00000   Median :0.00000  \n",
       " Mean   :0.041   Mean   :0.04239   Mean   :0.04153   Mean   :0.04002  \n",
       " 3rd Qu.:0.000   3rd Qu.:0.00000   3rd Qu.:0.00000   3rd Qu.:0.00000  \n",
       " Max.   :1.000   Max.   :1.00000   Max.   :1.00000   Max.   :1.00000  \n",
       "     hour23        weekdayMonday    weekdaySaturday  weekdaySunday   \n",
       " Min.   :0.00000   Min.   :0.0000   Min.   :0.0000   Min.   :0.0000  \n",
       " 1st Qu.:0.00000   1st Qu.:0.0000   1st Qu.:0.0000   1st Qu.:0.0000  \n",
       " Median :0.00000   Median :0.0000   Median :0.0000   Median :0.0000  \n",
       " Mean   :0.04227   Mean   :0.1461   Mean   :0.1395   Mean   :0.1419  \n",
       " 3rd Qu.:0.00000   3rd Qu.:0.0000   3rd Qu.:0.0000   3rd Qu.:0.0000  \n",
       " Max.   :1.00000   Max.   :1.0000   Max.   :1.0000   Max.   :1.0000  \n",
       " weekdayThursday  weekdayTuesday   weekdayWednesday    seasonal     \n",
       " Min.   :0.0000   Min.   :0.0000   Min.   :0.0000   Min.   :0.0000  \n",
       " 1st Qu.:0.0000   1st Qu.:0.0000   1st Qu.:0.0000   1st Qu.:0.2558  \n",
       " Median :0.0000   Median :0.0000   Median :0.0000   Median :0.6884  \n",
       " Mean   :0.1421   Mean   :0.1429   Mean   :0.1455   Mean   :0.5407  \n",
       " 3rd Qu.:0.0000   3rd Qu.:0.0000   3rd Qu.:0.0000   3rd Qu.:0.7335  \n",
       " Max.   :1.0000   Max.   :1.0000   Max.   :1.0000   Max.   :1.0000  \n",
       "  light_heavy       rainydrizzle      rainyshower          rainyrain     \n",
       " Min.   :0.00000   Min.   :0.00000   Min.   :0.0000000   Min.   :0.0000  \n",
       " 1st Qu.:0.00000   1st Qu.:0.00000   1st Qu.:0.0000000   1st Qu.:0.0000  \n",
       " Median :0.00000   Median :0.00000   Median :0.0000000   Median :0.0000  \n",
       " Mean   :0.09277   Mean   :0.03791   Mean   :0.0004743   Mean   :0.1225  \n",
       " 3rd Qu.:0.00000   3rd Qu.:0.00000   3rd Qu.:0.0000000   3rd Qu.:0.0000  \n",
       " Max.   :1.00000   Max.   :1.00000   Max.   :1.0000000   Max.   :1.0000  \n",
       "   clearclear        clearfog       thunderstormYes  \n",
       " Min.   :0.0000   Min.   :0.00000   Min.   :0.00000  \n",
       " 1st Qu.:0.0000   1st Qu.:0.00000   1st Qu.:0.00000  \n",
       " Median :0.0000   Median :0.00000   Median :0.00000  \n",
       " Mean   :0.2416   Mean   :0.01912   Mean   :0.02119  \n",
       " 3rd Qu.:0.0000   3rd Qu.:0.00000   3rd Qu.:0.00000  \n",
       " Max.   :1.0000   Max.   :1.00000   Max.   :1.00000  "
      ]
     },
     "metadata": {},
     "output_type": "display_data"
    }
   ],
   "source": [
    "summary(X_train)"
   ]
  },
  {
   "cell_type": "code",
   "execution_count": 99,
   "metadata": {},
   "outputs": [],
   "source": [
    "library(class)\n",
    "mod8 <- knn(X_train,X_test,cl=train$tip)"
   ]
  },
  {
   "cell_type": "code",
   "execution_count": 101,
   "metadata": {},
   "outputs": [
    {
     "name": "stdout",
     "output_type": "stream",
     "text": [
      " Factor w/ 6491 levels \"0\",\"1\",\"2\",\"3\",..: 3818 4423 4823 3219 2245 5110 179 203 5038 4739 ...\n"
     ]
    }
   ],
   "source": [
    "str(mod8)"
   ]
  },
  {
   "cell_type": "code",
   "execution_count": 102,
   "metadata": {},
   "outputs": [
    {
     "data": {
      "text/html": [
       "2069.21754048195"
      ],
      "text/latex": [
       "2069.21754048195"
      ],
      "text/markdown": [
       "2069.21754048195"
      ],
      "text/plain": [
       "[1] 2069.218"
      ]
     },
     "metadata": {},
     "output_type": "display_data"
    },
    {
     "data": {
      "text/html": [
       "0.996438792626657"
      ],
      "text/latex": [
       "0.996438792626657"
      ],
      "text/markdown": [
       "0.996438792626657"
      ],
      "text/plain": [
       "[1] 0.9964388"
      ]
     },
     "metadata": {},
     "output_type": "display_data"
    }
   ],
   "source": [
    "pred8 <- as.numeric(as.character(mod8))\n",
    "\n",
    "rmse(test$tip,pred8)\n",
    "rmsle(test$tip,pred8)\n",
    "err_res <- rbind(err_res, data.frame(Name=\"kNN\", Model=\"mod8\", \n",
    "                                     RMSE=rmse(test$tip,pred8), \n",
    "                                     RMSLE=rmsle(test$tip,pred8)))"
   ]
  },
  {
   "cell_type": "markdown",
   "metadata": {},
   "source": [
    "## SVM"
   ]
  },
  {
   "cell_type": "code",
   "execution_count": 103,
   "metadata": {},
   "outputs": [],
   "source": [
    "#install.packages(\"liquidSVM\")\n",
    "library(liquidSVM)\n",
    "\n",
    "mod9 <- svm(tip ~., train)"
   ]
  },
  {
   "cell_type": "code",
   "execution_count": 104,
   "metadata": {},
   "outputs": [
    {
     "data": {
      "text/html": [
       "778.832096903035"
      ],
      "text/latex": [
       "778.832096903035"
      ],
      "text/markdown": [
       "778.832096903035"
      ],
      "text/plain": [
       "[1] 778.8321"
      ]
     },
     "metadata": {},
     "output_type": "display_data"
    },
    {
     "data": {
      "text/html": [
       "0.48478105100039"
      ],
      "text/latex": [
       "0.48478105100039"
      ],
      "text/markdown": [
       "0.48478105100039"
      ],
      "text/plain": [
       "[1] 0.4847811"
      ]
     },
     "metadata": {},
     "output_type": "display_data"
    }
   ],
   "source": [
    "pred9 <- predict(mod9, newdata=test)\n",
    "\n",
    "rmse(test$tip,pred9)\n",
    "rmsle(test$tip,pred9)\n",
    "err_res <- rbind(err_res, data.frame(Name=\"SVM\", Model=\"mod9\", \n",
    "                                     RMSE=rmse(test$tip,pred9), \n",
    "                                     RMSLE=rmsle(test$tip,pred9)))"
   ]
  },
  {
   "cell_type": "code",
   "execution_count": 105,
   "metadata": {},
   "outputs": [
    {
     "data": {
      "text/html": [
       "<table>\n",
       "<thead><tr><th scope=col>Name</th><th scope=col>Model</th><th scope=col>RMSE</th><th scope=col>RMSLE</th></tr></thead>\n",
       "<tbody>\n",
       "\t<tr><td>XGBoost                   </td><td>mod7                      </td><td> 525.4015                 </td><td>0.3331306                 </td></tr>\n",
       "\t<tr><td>RandomForest (ranger)     </td><td>mod6                      </td><td> 563.4734                 </td><td>0.3636757                 </td></tr>\n",
       "\t<tr><td>Decision Trees-tree       </td><td>mod3                      </td><td> 684.0402                 </td><td>0.4400380                 </td></tr>\n",
       "\t<tr><td>Decision Trees-rpart      </td><td>mod4                      </td><td> 684.0402                 </td><td>0.4400380                 </td></tr>\n",
       "\t<tr><td>SVM                       </td><td>mod9                      </td><td> 778.8321                 </td><td>0.4847811                 </td></tr>\n",
       "\t<tr><td>Extended Linear regression</td><td>mod2                      </td><td> 813.0075                 </td><td>0.5508977                 </td></tr>\n",
       "\t<tr><td>kNN                       </td><td>mod8                      </td><td>2069.2175                 </td><td>0.9964388                 </td></tr>\n",
       "\t<tr><td>Base Linear regression    </td><td>mod1                      </td><td>1940.8681                 </td><td>1.0118488                 </td></tr>\n",
       "</tbody>\n",
       "</table>\n"
      ],
      "text/latex": [
       "\\begin{tabular}{r|llll}\n",
       " Name & Model & RMSE & RMSLE\\\\\n",
       "\\hline\n",
       "\t XGBoost                    & mod7                       &  525.4015                  & 0.3331306                 \\\\\n",
       "\t RandomForest (ranger)      & mod6                       &  563.4734                  & 0.3636757                 \\\\\n",
       "\t Decision Trees-tree        & mod3                       &  684.0402                  & 0.4400380                 \\\\\n",
       "\t Decision Trees-rpart       & mod4                       &  684.0402                  & 0.4400380                 \\\\\n",
       "\t SVM                        & mod9                       &  778.8321                  & 0.4847811                 \\\\\n",
       "\t Extended Linear regression & mod2                       &  813.0075                  & 0.5508977                 \\\\\n",
       "\t kNN                        & mod8                       & 2069.2175                  & 0.9964388                 \\\\\n",
       "\t Base Linear regression     & mod1                       & 1940.8681                  & 1.0118488                 \\\\\n",
       "\\end{tabular}\n"
      ],
      "text/markdown": [
       "\n",
       "Name | Model | RMSE | RMSLE | \n",
       "|---|---|---|---|---|---|---|---|\n",
       "| XGBoost                    | mod7                       |  525.4015                  | 0.3331306                  | \n",
       "| RandomForest (ranger)      | mod6                       |  563.4734                  | 0.3636757                  | \n",
       "| Decision Trees-tree        | mod3                       |  684.0402                  | 0.4400380                  | \n",
       "| Decision Trees-rpart       | mod4                       |  684.0402                  | 0.4400380                  | \n",
       "| SVM                        | mod9                       |  778.8321                  | 0.4847811                  | \n",
       "| Extended Linear regression | mod2                       |  813.0075                  | 0.5508977                  | \n",
       "| kNN                        | mod8                       | 2069.2175                  | 0.9964388                  | \n",
       "| Base Linear regression     | mod1                       | 1940.8681                  | 1.0118488                  | \n",
       "\n",
       "\n"
      ],
      "text/plain": [
       "  Name                       Model RMSE      RMSLE    \n",
       "1 XGBoost                    mod7   525.4015 0.3331306\n",
       "2 RandomForest (ranger)      mod6   563.4734 0.3636757\n",
       "3 Decision Trees-tree        mod3   684.0402 0.4400380\n",
       "4 Decision Trees-rpart       mod4   684.0402 0.4400380\n",
       "5 SVM                        mod9   778.8321 0.4847811\n",
       "6 Extended Linear regression mod2   813.0075 0.5508977\n",
       "7 kNN                        mod8  2069.2175 0.9964388\n",
       "8 Base Linear regression     mod1  1940.8681 1.0118488"
      ]
     },
     "metadata": {},
     "output_type": "display_data"
    }
   ],
   "source": [
    "err_res %>% arrange(RMSLE)"
   ]
  }
 ],
 "metadata": {
  "kernelspec": {
   "display_name": "R",
   "language": "R",
   "name": "ir"
  },
  "language_info": {
   "codemirror_mode": "r",
   "file_extension": ".r",
   "mimetype": "text/x-r-source",
   "name": "R",
   "pygments_lexer": "r",
   "version": "4.0.0"
  }
 },
 "nbformat": 4,
 "nbformat_minor": 2
}
