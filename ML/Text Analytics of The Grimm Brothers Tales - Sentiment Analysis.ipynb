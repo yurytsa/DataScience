{
 "cells": [
  {
   "cell_type": "markdown",
   "metadata": {},
   "source": [
    "# Text Analytics of The Grimm Brother's Tales\n",
    "\n",
    "## Sentiment Analysis\n",
    " \n"
   ]
  },
  {
   "cell_type": "code",
   "execution_count": 1,
   "metadata": {},
   "outputs": [
    {
     "name": "stdout",
     "output_type": "stream",
     "text": [
      "Requirement already satisfied: textblob in c:\\users\\thomas\\anaconda3\\lib\\site-packages (0.15.3)\n",
      "Requirement already satisfied: nltk>=3.1 in c:\\users\\thomas\\anaconda3\\lib\\site-packages (from textblob) (3.4.5)\n",
      "Requirement already satisfied: six in c:\\users\\thomas\\anaconda3\\lib\\site-packages (from nltk>=3.1->textblob) (1.14.0)\n",
      "Finished.\n"
     ]
    },
    {
     "name": "stderr",
     "output_type": "stream",
     "text": [
      "[nltk_data] Downloading package brown to\n",
      "[nltk_data]     C:\\Users\\Thomas\\AppData\\Roaming\\nltk_data...\n",
      "[nltk_data]   Package brown is already up-to-date!\n",
      "[nltk_data] Downloading package punkt to\n",
      "[nltk_data]     C:\\Users\\Thomas\\AppData\\Roaming\\nltk_data...\n",
      "[nltk_data]   Package punkt is already up-to-date!\n",
      "[nltk_data] Downloading package wordnet to\n",
      "[nltk_data]     C:\\Users\\Thomas\\AppData\\Roaming\\nltk_data...\n",
      "[nltk_data]   Package wordnet is already up-to-date!\n",
      "[nltk_data] Downloading package averaged_perceptron_tagger to\n",
      "[nltk_data]     C:\\Users\\Thomas\\AppData\\Roaming\\nltk_data...\n",
      "[nltk_data]   Package averaged_perceptron_tagger is already up-to-\n",
      "[nltk_data]       date!\n",
      "[nltk_data] Downloading package conll2000 to\n",
      "[nltk_data]     C:\\Users\\Thomas\\AppData\\Roaming\\nltk_data...\n",
      "[nltk_data]   Package conll2000 is already up-to-date!\n",
      "[nltk_data] Downloading package movie_reviews to\n",
      "[nltk_data]     C:\\Users\\Thomas\\AppData\\Roaming\\nltk_data...\n",
      "[nltk_data]   Package movie_reviews is already up-to-date!\n"
     ]
    }
   ],
   "source": [
    "!pip install textblob \n",
    "!python -m textblob.download_corpora "
   ]
  },
  {
   "cell_type": "code",
   "execution_count": 2,
   "metadata": {},
   "outputs": [],
   "source": [
    "from textblob import TextBlob, Word, Blobber"
   ]
  },
  {
   "cell_type": "code",
   "execution_count": 3,
   "metadata": {},
   "outputs": [],
   "source": [
    "import numpy as np\n",
    "import pandas as pd\n",
    "import matplotlib.pyplot as plt\n",
    "import seaborn as sns"
   ]
  },
  {
   "cell_type": "code",
   "execution_count": 16,
   "metadata": {},
   "outputs": [
    {
     "data": {
      "text/plain": [
       "(56, 6)"
      ]
     },
     "execution_count": 16,
     "metadata": {},
     "output_type": "execute_result"
    }
   ],
   "source": [
    "df = pd.read_csv(\"C:/Users/Thomas/Documents/HIT/DM/data/grimm-tales.tab\", sep=\"\\t\")\n",
    "df.shape"
   ]
  },
  {
   "cell_type": "code",
   "execution_count": 17,
   "metadata": {},
   "outputs": [
    {
     "data": {
      "text/html": [
       "<div>\n",
       "<style scoped>\n",
       "    .dataframe tbody tr th:only-of-type {\n",
       "        vertical-align: middle;\n",
       "    }\n",
       "\n",
       "    .dataframe tbody tr th {\n",
       "        vertical-align: top;\n",
       "    }\n",
       "\n",
       "    .dataframe thead th {\n",
       "        text-align: right;\n",
       "    }\n",
       "</style>\n",
       "<table border=\"1\" class=\"dataframe\">\n",
       "  <thead>\n",
       "    <tr style=\"text-align: right;\">\n",
       "      <th></th>\n",
       "      <th>index</th>\n",
       "      <th>ATU Topic</th>\n",
       "      <th>Title</th>\n",
       "      <th>Abstract</th>\n",
       "      <th>Content</th>\n",
       "      <th>ATU Numerical</th>\n",
       "      <th>ATU Type</th>\n",
       "    </tr>\n",
       "  </thead>\n",
       "  <tbody>\n",
       "    <tr>\n",
       "      <th>0</th>\n",
       "      <td>2</td>\n",
       "      <td>Tales of Magic</td>\n",
       "      <td>A Tale About the Boy Who Went Forth to Learn W...</td>\n",
       "      <td>A simple boy who just wants to be frightened.</td>\n",
       "      <td>A certain father had two sons, the elder of wh...</td>\n",
       "      <td>326.0</td>\n",
       "      <td>Supernatural Adversaries</td>\n",
       "    </tr>\n",
       "    <tr>\n",
       "      <th>1</th>\n",
       "      <td>3</td>\n",
       "      <td>Tales of Magic</td>\n",
       "      <td>Brier Rose</td>\n",
       "      <td>An offended witch curses a young princess to d...</td>\n",
       "      <td>A king and queen once upon a time reigned in a...</td>\n",
       "      <td>410.0</td>\n",
       "      <td>Supernatural or Enchanted Relatives</td>\n",
       "    </tr>\n",
       "    <tr>\n",
       "      <th>2</th>\n",
       "      <td>4</td>\n",
       "      <td>Animal Tales</td>\n",
       "      <td>Cat and Mouse in Partnership</td>\n",
       "      <td>A mouse lives with a cat, and the cat eats all...</td>\n",
       "      <td>A certain cat had made the acquaintance of a m...</td>\n",
       "      <td>15.0</td>\n",
       "      <td>Wild Animals</td>\n",
       "    </tr>\n",
       "    <tr>\n",
       "      <th>3</th>\n",
       "      <td>5</td>\n",
       "      <td>Tales of Magic</td>\n",
       "      <td>Cinderella</td>\n",
       "      <td>The familiar story of a girl marrying a prince...</td>\n",
       "      <td>The wife of a rich man fell sick; and when she...</td>\n",
       "      <td>510A</td>\n",
       "      <td>Supernatural Helpers</td>\n",
       "    </tr>\n",
       "    <tr>\n",
       "      <th>4</th>\n",
       "      <td>6</td>\n",
       "      <td>Jokes and Anecdotes</td>\n",
       "      <td>Clever Elsie</td>\n",
       "      <td>A husband and wife have a clever daughter who ...</td>\n",
       "      <td>There was once a man who had a daughter who wa...</td>\n",
       "      <td>1450.0</td>\n",
       "      <td>Stories about a Woman</td>\n",
       "    </tr>\n",
       "  </tbody>\n",
       "</table>\n",
       "</div>"
      ],
      "text/plain": [
       "   index            ATU Topic  \\\n",
       "0      2       Tales of Magic   \n",
       "1      3       Tales of Magic   \n",
       "2      4         Animal Tales   \n",
       "3      5       Tales of Magic   \n",
       "4      6  Jokes and Anecdotes   \n",
       "\n",
       "                                               Title  \\\n",
       "0  A Tale About the Boy Who Went Forth to Learn W...   \n",
       "1                                         Brier Rose   \n",
       "2                       Cat and Mouse in Partnership   \n",
       "3                                         Cinderella   \n",
       "4                                       Clever Elsie   \n",
       "\n",
       "                                            Abstract  \\\n",
       "0      A simple boy who just wants to be frightened.   \n",
       "1  An offended witch curses a young princess to d...   \n",
       "2  A mouse lives with a cat, and the cat eats all...   \n",
       "3  The familiar story of a girl marrying a prince...   \n",
       "4  A husband and wife have a clever daughter who ...   \n",
       "\n",
       "                                             Content ATU Numerical  \\\n",
       "0  A certain father had two sons, the elder of wh...         326.0   \n",
       "1  A king and queen once upon a time reigned in a...         410.0   \n",
       "2  A certain cat had made the acquaintance of a m...          15.0   \n",
       "3  The wife of a rich man fell sick; and when she...          510A   \n",
       "4  There was once a man who had a daughter who wa...        1450.0   \n",
       "\n",
       "                              ATU Type  \n",
       "0             Supernatural Adversaries  \n",
       "1  Supernatural or Enchanted Relatives  \n",
       "2                         Wild Animals  \n",
       "3                 Supernatural Helpers  \n",
       "4                Stories about a Woman  "
      ]
     },
     "execution_count": 17,
     "metadata": {},
     "output_type": "execute_result"
    }
   ],
   "source": [
    "### the first two rows are descriptive of the data, we have to delete them\n",
    "df = df[2:len(df)]\n",
    "df = df.reset_index()\n",
    "df.head()"
   ]
  },
  {
   "cell_type": "markdown",
   "metadata": {},
   "source": [
    "## Retrieving the sentiment of a text\n",
    " \n",
    "For analyzing sentiments linguistic experts have build a dictionary of the most common used words in each language and have given each word a value determining the degree of positiveness, negativeness of neutrality of each word. The total sentiment of a text is calculated by averaging the sentiment of all the words that compose the text. This measure is expressed as the <i>Polarity</i> of the text and can range from -1 for highly negative sentiment to +1 for highly positive sentiment. \n",
    " \n",
    "Additionally, some words are known to expose the subjectivity of a statement. For example the word <i> think </i> is highly subjective and points to a personal opinion while the word <i> know </i> is pointing to some kind of information and has lower subjectivity. The subjectivity measure ranges from 0 to 1.\n"
   ]
  },
  {
   "cell_type": "code",
   "execution_count": 18,
   "metadata": {},
   "outputs": [
    {
     "name": "stdout",
     "output_type": "stream",
     "text": [
      "A king and queen once upon a time reigned in a country a great way off, where there were in those days fairies. Now this king and queen had plenty of money, and plenty of fine clothes to wear, and plenty of good things to eat and drink, and a coach to ride out in every day: but though they had been married many years they had no children, and this grieved them very much indeed. But one day as the queen was walking by the side of the river, at the bottom of the garden, she saw a poor little fish, that had thrown itself out of the water, and lay gasping and nearly dead on the bank. Then the queen took pity on the little fish, and threw it back again into the river; and before it swam away it lifted its head out of the water and said, ‘I know what your wish is, and it shall be fulfilled, in return for your kindness to me--you will soon have a daughter.’ What the little fish had foretold soon came to pass; and the queen had a little girl, so very beautiful that the king could not cease looking on it for joy, and said he would hold a great feast and make merry, and show the child to all the land. So he asked his kinsmen, and nobles, and friends, and neighbours. But the queen said, ‘I will have the fairies also, that they might be kind and good to our little daughter.’ Now there were thirteen fairies in the kingdom; but as the king and queen had only twelve golden dishes for them to eat out of, they were forced to leave one of the fairies without asking her. So twelve fairies came, each with a high red cap on her head, and red shoes with high heels on her feet, and a long white wand in her hand: and after the feast was over they gathered round in a ring and gave all their best gifts to the little princess. One gave her goodness, another beauty, another riches, and so on till she had all that was good in the world.  Just as eleven of them had done blessing her, a great noise was heard in the courtyard, and word was brought that the thirteenth fairy was come, with a black cap on her head, and black shoes on her feet, and a broomstick in her hand: and presently up she came into the dining-hall. Now, as she had not been asked to the feast she was very angry, and scolded the king and queen very much, and set to work to take her revenge. So she cried out, ‘The king’s daughter shall, in her fifteenth year, be wounded by a spindle, and fall down dead.’ Then the twelfth of the friendly fairies, who had not yet given her gift, came forward, and said that the evil wish must be fulfilled, but that she could soften its mischief; so her gift was, that the king’s daughter, when the spindle wounded her, should not really die, but should only fall asleep for a hundred years.  However, the king hoped still to save his dear child altogether from the threatened evil; so he ordered that all the spindles in the kingdom should be bought up and burnt. But all the gifts of the first eleven fairies were in the meantime fulfilled; for the princess was so beautiful, and well behaved, and good, and wise, that everyone who knew her loved her.  It happened that, on the very day she was fifteen years old, the king and queen were not at home, and she was left alone in the palace. So she roved about by herself, and looked at all the rooms and chambers, till at last she came to an old tower, to which there was a narrow staircase ending with a little door. In the door there was a golden key, and when she turned it the door sprang open, and there sat an old lady spinning away very busily. ‘Why, how now, good mother,’ said the princess; ‘what are you doing there?’ ‘Spinning,’ said the old lady, and nodded her head, humming a tune, while buzz! went the wheel. ‘How prettily that little thing turns round!’ said the princess, and took the spindle and began to try and spin. But scarcely had she touched it, before the fairy’s prophecy was fulfilled; the spindle wounded her, and she fell down lifeless on the ground.  However, she was not dead, but had only fallen into a deep sleep; and the king and the queen, who had just come home, and all their court, fell asleep too; and the horses slept in the stables, and the dogs in the court, the pigeons on the house-top, and the very flies slept upon the walls. Even the fire on the hearth left off blazing, and went to sleep; the jack stopped, and the spit that was turning about with a goose upon it for the king’s dinner stood still; and the cook, who was at that moment pulling the kitchen-boy by the hair to give him a box on the ear for something he had done amiss, let him go, and both fell asleep; the butler, who was slyly tasting the ale, fell asleep with the jug at his lips: and thus everything stood still, and slept soundly.  A large hedge of thorns soon grew round the palace, and every year it became higher and thicker; till at last the old palace was surrounded and hidden, so that not even the roof or the chimneys could be seen. But there went a report through all the land of the beautiful sleeping Briar Rose (for so the king’s daughter was called): so that, from time to time, several kings’ sons came, and tried to break through the thicket into the palace. This, however, none of them could ever do; for the thorns and bushes laid hold of them, as it were with hands; and there they stuck fast, and died wretchedly.  After many, many years there came a king’s son into that land: and an old man told him the story of the thicket of thorns; and how a beautiful palace stood behind it, and how a wonderful princess, called Briar Rose, lay in it asleep, with all her court. He told, too, how he had heard from his grandfather that many, many princes had come, and had tried to break through the thicket, but that they had all stuck fast in it, and died. Then the young prince said, ‘All this shall not frighten me; I will go and see this Briar Rose.’ The old man tried to hinder him, but he was bent upon going.  Now that very day the hundred years were ended; and as the prince came to the thicket he saw nothing but beautiful flowering shrubs, through which he went with ease, and they shut in after him as thick as ever. Then he came at last to the palace, and there in the court lay the dogs asleep; and the horses were standing in the stables; and on the roof sat the pigeons fast asleep, with their heads under their wings. And when he came into the palace, the flies were sleeping on the walls; the spit was standing still; the butler had the jug of ale at his lips, going to drink a draught; the maid sat with a fowl in her lap ready to be plucked; and the cook in the kitchen was still holding up her hand, as if she was going to beat the boy.  Then he went on still farther, and all was so still that he could hear every breath he drew; till at last he came to the old tower, and opened the door of the little room in which Briar Rose was; and there she lay, fast asleep on a couch by the window. She looked so beautiful that he could not take his eyes off her, so he stooped down and gave her a kiss. But the moment he kissed her she opened her eyes and awoke, and smiled upon him; and they went out together; and soon the king and queen also awoke, and all the court, and gazed on each other with great wonder. And the horses shook themselves, and the dogs jumped up and barked; the pigeons took their heads from under their wings, and looked about and flew into the fields; the flies on the walls buzzed again; the fire in the kitchen blazed up; round went the jack, and round went the spit, with the goose for the king’s dinner upon it; the butler finished his draught of ale; the maid went on plucking the fowl; and the cook gave the boy the box on his ear.  And then the prince and Briar Rose were married, and the wedding feast was given; and they lived happily together all their lives long.\n"
     ]
    },
    {
     "data": {
      "text/plain": [
       "Sentiment(polarity=0.1791746698679472, subjectivity=0.4956742697078835)"
      ]
     },
     "execution_count": 18,
     "metadata": {},
     "output_type": "execute_result"
    }
   ],
   "source": [
    "text = TextBlob(df.loc[1,'Content'])\n",
    "print (text)\n",
    "text.sentiment"
   ]
  },
  {
   "cell_type": "code",
   "execution_count": 19,
   "metadata": {},
   "outputs": [
    {
     "name": "stdout",
     "output_type": "stream",
     "text": [
      "The wife of a rich man fell sick; and when she felt that her end drew nigh, she called her only daughter to her bed-side, and said, ‘Always be a good girl, and I will look down from heaven and watch over you.’ Soon afterwards she shut her eyes and died, and was buried in the garden; and the little girl went every day to her grave and wept, and was always good and kind to all about her. And the snow fell and spread a beautiful white covering over the grave; but by the time the spring came, and the sun had melted it away again, her father had married another wife. This new wife had two daughters of her own, that she brought home with her; they were fair in face but foul at heart, and it was now a sorry time for the poor little girl. ‘What does the good-for-nothing want in the parlour?’ said they; ‘they who would eat bread should first earn it; away with the kitchen-maid!’ Then they took away her fine clothes, and gave her an old grey frock to put on, and laughed at her, and turned her into the kitchen.  There she was forced to do hard work; to rise early before daylight, to bring the water, to make the fire, to cook and to wash. Besides that, the sisters plagued her in all sorts of ways, and laughed at her. In the evening when she was tired, she had no bed to lie down on, but was made to lie by the hearth among the ashes; and as this, of course, made her always dusty and dirty, they called her Ashputtel.  It happened once that the father was going to the fair, and asked his wife’s daughters what he should bring them. ‘Fine clothes,’ said the first; ‘Pearls and diamonds,’ cried the second. ‘Now, child,’ said he to his own daughter, ‘what will you have?’ ‘The first twig, dear father, that brushes against your hat when you turn your face to come homewards,’ said she. Then he bought for the first two the fine clothes and pearls and diamonds they had asked for: and on his way home, as he rode through a green copse, a hazel twig brushed against him, and almost pushed off his hat: so he broke it off and brought it away; and when he got home he gave it to his daughter. Then she took it, and went to her mother’s grave and planted it there; and cried so much that it was watered with her tears; and there it grew and became a fine tree. Three times every day she went to it and cried; and soon a little bird came and built its nest upon the tree, and talked with her, and watched over her, and brought her whatever she wished for.  Now it happened that the king of that land held a feast, which was to last three days; and out of those who came to it his son was to choose a bride for himself. Ashputtel’s two sisters were asked to come; so they called her up, and said, ‘Now, comb our hair, brush our shoes, and tie our sashes for us, for we are going to dance at the king’s feast.’ Then she did as she was told; but when all was done she could not help crying, for she thought to herself, she should so have liked to have gone with them to the ball; and at last she begged her mother very hard to let her go. ‘You, Ashputtel!’ said she; ‘you who have nothing to wear, no clothes at all, and who cannot even dance--you want to go to the ball? And when she kept on begging, she said at last, to get rid of her, ‘I will throw this dishful of peas into the ash-heap, and if in two hours’ time you have picked them all out, you shall go to the feast too.’  Then she threw the peas down among the ashes, but the little maiden ran out at the back door into the garden, and cried out:   ‘Hither, hither, through the sky,   Turtle-doves and linnets, fly!   Blackbird, thrush, and chaffinch gay,   Hither, hither, haste away!   One and all come help me, quick!   Haste ye, haste ye!--pick, pick, pick!’  Then first came two white doves, flying in at the kitchen window; next came two turtle-doves; and after them came all the little birds under heaven, chirping and fluttering in: and they flew down into the ashes. And the little doves stooped their heads down and set to work, pick, pick, pick; and then the others began to pick, pick, pick: and among them all they soon picked out all the good grain, and put it into a dish but left the ashes. Long before the end of the hour the work was quite done, and all flew out again at the windows.  Then Ashputtel brought the dish to her mother, overjoyed at the thought that now she should go to the ball. But the mother said, ‘No, no! you slut, you have no clothes, and cannot dance; you shall not go.’ And when Ashputtel begged very hard to go, she said, ‘If you can in one hour’s time pick two of those dishes of peas out of the ashes, you shall go too.’ And thus she thought she should at least get rid of her. So she shook two dishes of peas into the ashes.  But the little maiden went out into the garden at the back of the house, and cried out as before:   ‘Hither, hither, through the sky,   Turtle-doves and linnets, fly!   Blackbird, thrush, and chaffinch gay,   Hither, hither, haste away!   One and all come help me, quick!   Haste ye, haste ye!--pick, pick, pick!’  Then first came two white doves in at the kitchen window; next came two turtle-doves; and after them came all the little birds under heaven, chirping and hopping about. And they flew down into the ashes; and the little doves put their heads down and set to work, pick, pick, pick; and then the others began pick, pick, pick; and they put all the good grain into the dishes, and left all the ashes. Before half an hour’s time all was done, and out they flew again. And then Ashputtel took the dishes to her mother, rejoicing to think that she should now go to the ball. But her mother said, ‘It is all of no use, you cannot go; you have no clothes, and cannot dance, and you would only put us to shame’: and off she went with her two daughters to the ball.  Now when all were gone, and nobody left at home, Ashputtel went sorrowfully and sat down under the hazel-tree, and cried out:   ‘Shake, shake, hazel-tree,   Gold and silver over me!’  Then her friend the bird flew out of the tree, and brought a gold and silver dress for her, and slippers of spangled silk; and she put them on, and followed her sisters to the feast. But they did not know her, and thought it must be some strange princess, she looked so fine and beautiful in her rich clothes; and they never once thought of Ashputtel, taking it for granted that she was safe at home in the dirt.  The king’s son soon came up to her, and took her by the hand and danced with her, and no one else: and he never left her hand; but when anyone else came to ask her to dance, he said, ‘This lady is dancing with me.’  Thus they danced till a late hour of the night; and then she wanted to go home: and the king’s son said, ‘I shall go and take care of you to your home’; for he wanted to see where the beautiful maiden lived. But she slipped away from him, unawares, and ran off towards home; and as the prince followed her, she jumped up into the pigeon-house and shut the door. Then he waited till her father came home, and told him that the unknown maiden, who had been at the feast, had hid herself in the pigeon-house. But when they had broken open the door they found no one within; and as they came back into the house, Ashputtel was lying, as she always did, in her dirty frock by the ashes, and her dim little lamp was burning in the chimney. For she had run as quickly as she could through the pigeon-house and on to the hazel-tree, and had there taken off her beautiful clothes, and put them beneath the tree, that the bird might carry them away, and had lain down again amid the ashes in her little grey frock.  The next day when the feast was again held, and her father, mother, and sisters were gone, Ashputtel went to the hazel-tree, and said:   ‘Shake, shake, hazel-tree,   Gold and silver over me!’  And the bird came and brought a still finer dress than the one she had worn the day before. And when she came in it to the ball, everyone wondered at her beauty: but the king’s son, who was waiting for her, took her by the hand, and danced with her; and when anyone asked her to dance, he said as before, ‘This lady is dancing with me.’  When night came she wanted to go home; and the king’s son followed here as before, that he might see into what house she went: but she sprang away from him all at once into the garden behind her father’s house. In this garden stood a fine large pear-tree full of ripe fruit; and Ashputtel, not knowing where to hide herself, jumped up into it without being seen. Then the king’s son lost sight of her, and could not find out where she was gone, but waited till her father came home, and said to him, ‘The unknown lady who danced with me has slipped away, and I think she must have sprung into the pear-tree.’ The father thought to himself, ‘Can it be Ashputtel?’ So he had an axe brought; and they cut down the tree, but found no one upon it. And when they came back into the kitchen, there lay Ashputtel among the ashes; for she had slipped down on the other side of the tree, and carried her beautiful clothes back to the bird at the hazel-tree, and then put on her little grey frock.  The third day, when her father and mother and sisters were gone, she went again into the garden, and said:   ‘Shake, shake, hazel-tree,   Gold and silver over me!’  Then her kind friend the bird brought a dress still finer than the former one, and slippers which were all of gold: so that when she came to the feast no one knew what to say, for wonder at her beauty: and the king’s son danced with nobody but her; and when anyone else asked her to dance, he said, ‘This lady is _my_ partner, sir.’  When night came she wanted to go home; and the king’s son would go with her, and said to himself, ‘I will not lose her this time’; but, however, she again slipped away from him, though in such a hurry that she dropped her left golden slipper upon the stairs.  The prince took the shoe, and went the next day to the king his father, and said, ‘I will take for my wife the lady that this golden slipper fits.’ Then both the sisters were overjoyed to hear it; for they had beautiful feet, and had no doubt that they could wear the golden slipper. The eldest went first into the room where the slipper was, and wanted to try it on, and the mother stood by. But her great toe could not go into it, and the shoe was altogether much too small for her. Then the mother gave her a knife, and said, ‘Never mind, cut it off; when you are queen you will not care about toes; you will not want to walk.’ So the silly girl cut off her great toe, and thus squeezed on the shoe, and went to the king’s son. Then he took her for his bride, and set her beside him on his horse, and rode away with her homewards.  But on their way home they had to pass by the hazel-tree that Ashputtel had planted; and on the branch sat a little dove singing:   ‘Back again! back again! look to the shoe!   The shoe is too small, and not made for you!   Prince! prince! look again for thy bride,   For she’s not the true one that sits by thy side.’  Then the prince got down and looked at her foot; and he saw, by the blood that streamed from it, what a trick she had played him. So he turned his horse round, and brought the false bride back to her home, and said, ‘This is not the right bride; let the other sister try and put on the slipper.’ Then she went into the room and got her foot into the shoe, all but the heel, which was too large. But her mother squeezed it in till the blood came, and took her to the king’s son: and he set her as his bride by his side on his horse, and rode away with her.  But when they came to the hazel-tree the little dove sat there still, and sang:   ‘Back again! back again! look to the shoe!   The shoe is too small, and not made for you!   Prince! prince! look again for thy bride,   For she’s not the true one that sits by thy side.’  Then he looked down, and saw that the blood streamed so much from the shoe, that her white stockings were quite red. So he turned his horse and brought her also back again. ‘This is not the true bride,’ said he to the father; ‘have you no other daughters?’ ‘No,’ said he; ‘there is only a little dirty Ashputtel here, the child of my first wife; I am sure she cannot be the bride.’ The prince told him to send her. But the mother said, ‘No, no, she is much too dirty; she will not dare to show herself.’ However, the prince would have her come; and she first washed her face and hands, and then went in and curtsied to him, and he reached her the golden slipper. Then she took her clumsy shoe off her left foot, and put on the golden slipper; and it fitted her as if it had been made for her. And when he drew near and looked at her face he knew her, and said, ‘This is the right bride.’ But the mother and both the sisters were frightened, and turned pale with anger as he took Ashputtel on his horse, and rode away with her. And when they came to the hazel-tree, the white dove sang:   ‘Home! home! look at the shoe!   Princess! the shoe was made for you!   Prince! prince! take home thy bride,   For she is the true one that sits by thy side!’  And when the dove had done its song, it came flying, and perched upon her right shoulder, and so went home with her.\n"
     ]
    },
    {
     "data": {
      "text/plain": [
       "Sentiment(polarity=0.08540914005626084, subjectivity=0.42659411125703295)"
      ]
     },
     "execution_count": 19,
     "metadata": {},
     "output_type": "execute_result"
    }
   ],
   "source": [
    "text = TextBlob(df.loc[3,'Content'])\n",
    "print (text)\n",
    "text.sentiment"
   ]
  },
  {
   "cell_type": "code",
   "execution_count": 11,
   "metadata": {},
   "outputs": [
    {
     "name": "stdout",
     "output_type": "stream",
     "text": [
      "Lester Burnham, a depressed suburban father in a mid-life crisis, decides to turn his hectic life around after developing an infatuation with his daughter's attractive friend.\n"
     ]
    },
    {
     "data": {
      "text/plain": [
       "Sentiment(polarity=0.4, subjectivity=0.5)"
      ]
     },
     "execution_count": 11,
     "metadata": {},
     "output_type": "execute_result"
    }
   ],
   "source": [
    "text = TextBlob(df.loc[10,'overview'])\n",
    "print (text)\n",
    "text.sentiment"
   ]
  },
  {
   "cell_type": "code",
   "execution_count": 20,
   "metadata": {},
   "outputs": [
    {
     "name": "stdout",
     "output_type": "stream",
     "text": [
      "The fox once came to a meadow in which was a flock of fine fat geese, on which he smiled and said, “I come in the nick of time, you are sitting together quite beautifully, so that I can eat you up one after the other.” The geese cackled with terror, sprang up, and began to wail and beg piteously for their lives. But the fox would listen to nothing, and said, “There is no mercy to be had! You must die.” At length one of them took heart and said, “If we poor geese are to yield up our vigorous young lives, show us the only possible favour and allow us one more prayer, that we may not die in our sins, and then we will place ourselves in a row, so that you can always pick yourself out the fattest.” “Yes,” said the fox, “that is reasonable, and a pious request. Pray away, I will wait till you are done.” Then the first began a good long prayer, for ever saying, “Ga! Ga!” and as she would make no end, the second did not wait until her turn came, but began also, “Ga! Ga!” The third and fourth followed her, and soon they were all cackling together.  When they have done praying, the story shall be continued further, but at present they are still praying without stopping.”\n"
     ]
    },
    {
     "data": {
      "text/plain": [
       "Sentiment(polarity=0.15696271929824562, subjectivity=0.437280701754386)"
      ]
     },
     "execution_count": 20,
     "metadata": {},
     "output_type": "execute_result"
    }
   ],
   "source": [
    "### horror movie\n",
    "text = TextBlob(df.loc[29,'Content'])\n",
    "print (text)\n",
    "text.sentiment"
   ]
  },
  {
   "cell_type": "code",
   "execution_count": 21,
   "metadata": {},
   "outputs": [
    {
     "name": "stdout",
     "output_type": "stream",
     "text": [
      "0.15696271929824562 0.437280701754386\n"
     ]
    }
   ],
   "source": [
    "print(text.sentiment[0],text.sentiment[1])"
   ]
  },
  {
   "cell_type": "markdown",
   "metadata": {},
   "source": [
    "## Calculating the sentiment of each tale  "
   ]
  },
  {
   "cell_type": "code",
   "execution_count": 22,
   "metadata": {},
   "outputs": [],
   "source": [
    "n = df.shape[0]\n",
    "dfsent = {}\n",
    "\n",
    "for i in range(0,n):\n",
    "    #idx = df.loc[i,'id']\n",
    "    ### Preprocessing\n",
    "    text = df.loc[i,'Content']\n",
    "    ### skip movies with empty overview\n",
    "    if text != None:\n",
    "        text = TextBlob(text)\n",
    "        ### tokenizing\n",
    "        dfsent[df.Title[i]] = [text.sentiment[0],text.sentiment[1]]\n",
    "\n"
   ]
  },
  {
   "cell_type": "code",
   "execution_count": 23,
   "metadata": {},
   "outputs": [],
   "source": [
    "dfsent = pd.DataFrame(dfsent).transpose()\n",
    "dfsent.columns = ['polarity','subjectivity']"
   ]
  },
  {
   "cell_type": "code",
   "execution_count": 24,
   "metadata": {},
   "outputs": [
    {
     "data": {
      "text/html": [
       "<div>\n",
       "<style scoped>\n",
       "    .dataframe tbody tr th:only-of-type {\n",
       "        vertical-align: middle;\n",
       "    }\n",
       "\n",
       "    .dataframe tbody tr th {\n",
       "        vertical-align: top;\n",
       "    }\n",
       "\n",
       "    .dataframe thead th {\n",
       "        text-align: right;\n",
       "    }\n",
       "</style>\n",
       "<table border=\"1\" class=\"dataframe\">\n",
       "  <thead>\n",
       "    <tr style=\"text-align: right;\">\n",
       "      <th></th>\n",
       "      <th>polarity</th>\n",
       "      <th>subjectivity</th>\n",
       "    </tr>\n",
       "  </thead>\n",
       "  <tbody>\n",
       "    <tr>\n",
       "      <th>A Tale About the Boy Who Went Forth to Learn What Fear Was</th>\n",
       "      <td>0.030431</td>\n",
       "      <td>0.467210</td>\n",
       "    </tr>\n",
       "    <tr>\n",
       "      <th>Brier Rose</th>\n",
       "      <td>0.179175</td>\n",
       "      <td>0.495674</td>\n",
       "    </tr>\n",
       "    <tr>\n",
       "      <th>Cat and Mouse in Partnership</th>\n",
       "      <td>0.209495</td>\n",
       "      <td>0.472181</td>\n",
       "    </tr>\n",
       "    <tr>\n",
       "      <th>Cinderella</th>\n",
       "      <td>0.085409</td>\n",
       "      <td>0.426594</td>\n",
       "    </tr>\n",
       "    <tr>\n",
       "      <th>Clever Elsie</th>\n",
       "      <td>0.073184</td>\n",
       "      <td>0.437495</td>\n",
       "    </tr>\n",
       "  </tbody>\n",
       "</table>\n",
       "</div>"
      ],
      "text/plain": [
       "                                                    polarity  subjectivity\n",
       "A Tale About the Boy Who Went Forth to Learn Wh...  0.030431      0.467210\n",
       "Brier Rose                                          0.179175      0.495674\n",
       "Cat and Mouse in Partnership                        0.209495      0.472181\n",
       "Cinderella                                          0.085409      0.426594\n",
       "Clever Elsie                                        0.073184      0.437495"
      ]
     },
     "execution_count": 24,
     "metadata": {},
     "output_type": "execute_result"
    }
   ],
   "source": [
    "dfsent.head()"
   ]
  },
  {
   "cell_type": "code",
   "execution_count": 25,
   "metadata": {},
   "outputs": [],
   "source": [
    "#dfsent['sentiment'] = [1 if dfsent.polarity > 0 else -1 if dfsent.polarity < 0 else 0]\n",
    "dfsent['sentiment'] = 0\n",
    "dfsent.loc[dfsent.polarity<0,'sentiment'] = -1\n",
    "dfsent.loc[dfsent.polarity>0,'sentiment'] = 1\n",
    "dfsent['sentiment'] = dfsent['sentiment'].astype('category')"
   ]
  },
  {
   "cell_type": "code",
   "execution_count": 26,
   "metadata": {},
   "outputs": [
    {
     "data": {
      "text/html": [
       "<div>\n",
       "<style scoped>\n",
       "    .dataframe tbody tr th:only-of-type {\n",
       "        vertical-align: middle;\n",
       "    }\n",
       "\n",
       "    .dataframe tbody tr th {\n",
       "        vertical-align: top;\n",
       "    }\n",
       "\n",
       "    .dataframe thead th {\n",
       "        text-align: right;\n",
       "    }\n",
       "</style>\n",
       "<table border=\"1\" class=\"dataframe\">\n",
       "  <thead>\n",
       "    <tr style=\"text-align: right;\">\n",
       "      <th></th>\n",
       "      <th>polarity</th>\n",
       "      <th>subjectivity</th>\n",
       "      <th>sentiment</th>\n",
       "    </tr>\n",
       "  </thead>\n",
       "  <tbody>\n",
       "    <tr>\n",
       "      <th>A Tale About the Boy Who Went Forth to Learn What Fear Was</th>\n",
       "      <td>0.030431</td>\n",
       "      <td>0.467210</td>\n",
       "      <td>1</td>\n",
       "    </tr>\n",
       "    <tr>\n",
       "      <th>Brier Rose</th>\n",
       "      <td>0.179175</td>\n",
       "      <td>0.495674</td>\n",
       "      <td>1</td>\n",
       "    </tr>\n",
       "    <tr>\n",
       "      <th>Cat and Mouse in Partnership</th>\n",
       "      <td>0.209495</td>\n",
       "      <td>0.472181</td>\n",
       "      <td>1</td>\n",
       "    </tr>\n",
       "    <tr>\n",
       "      <th>Cinderella</th>\n",
       "      <td>0.085409</td>\n",
       "      <td>0.426594</td>\n",
       "      <td>1</td>\n",
       "    </tr>\n",
       "    <tr>\n",
       "      <th>Clever Elsie</th>\n",
       "      <td>0.073184</td>\n",
       "      <td>0.437495</td>\n",
       "      <td>1</td>\n",
       "    </tr>\n",
       "  </tbody>\n",
       "</table>\n",
       "</div>"
      ],
      "text/plain": [
       "                                                    polarity  subjectivity  \\\n",
       "A Tale About the Boy Who Went Forth to Learn Wh...  0.030431      0.467210   \n",
       "Brier Rose                                          0.179175      0.495674   \n",
       "Cat and Mouse in Partnership                        0.209495      0.472181   \n",
       "Cinderella                                          0.085409      0.426594   \n",
       "Clever Elsie                                        0.073184      0.437495   \n",
       "\n",
       "                                                   sentiment  \n",
       "A Tale About the Boy Who Went Forth to Learn Wh...         1  \n",
       "Brier Rose                                                 1  \n",
       "Cat and Mouse in Partnership                               1  \n",
       "Cinderella                                                 1  \n",
       "Clever Elsie                                               1  "
      ]
     },
     "execution_count": 26,
     "metadata": {},
     "output_type": "execute_result"
    }
   ],
   "source": [
    "dfsent.head()"
   ]
  },
  {
   "cell_type": "code",
   "execution_count": 27,
   "metadata": {},
   "outputs": [
    {
     "data": {
      "text/plain": [
       "polarity         float64\n",
       "subjectivity     float64\n",
       "sentiment       category\n",
       "dtype: object"
      ]
     },
     "execution_count": 27,
     "metadata": {},
     "output_type": "execute_result"
    }
   ],
   "source": [
    "dfsent.dtypes"
   ]
  },
  {
   "cell_type": "code",
   "execution_count": 28,
   "metadata": {},
   "outputs": [
    {
     "data": {
      "text/plain": [
       "[           polarity  subjectivity\n",
       " sentiment                        \n",
       " -1                6             6\n",
       " 1                48            48]"
      ]
     },
     "execution_count": 28,
     "metadata": {},
     "output_type": "execute_result"
    }
   ],
   "source": [
    "[dfsent.groupby('sentiment').count()]"
   ]
  },
  {
   "cell_type": "code",
   "execution_count": 29,
   "metadata": {},
   "outputs": [
    {
     "data": {
      "text/plain": [
       "sentiment\n",
       "-1     6\n",
       "1     48\n",
       "Name: polarity, dtype: int64"
      ]
     },
     "execution_count": 29,
     "metadata": {},
     "output_type": "execute_result"
    }
   ],
   "source": [
    "dfsent.groupby('sentiment').count()['polarity']\n"
   ]
  },
  {
   "cell_type": "markdown",
   "metadata": {},
   "source": [
    "## Analyzing the sentiment by Topic"
   ]
  },
  {
   "cell_type": "code",
   "execution_count": 31,
   "metadata": {},
   "outputs": [],
   "source": [
    "dfsent['Title'] = dfsent.index"
   ]
  },
  {
   "cell_type": "code",
   "execution_count": 32,
   "metadata": {},
   "outputs": [
    {
     "data": {
      "text/html": [
       "<div>\n",
       "<style scoped>\n",
       "    .dataframe tbody tr th:only-of-type {\n",
       "        vertical-align: middle;\n",
       "    }\n",
       "\n",
       "    .dataframe tbody tr th {\n",
       "        vertical-align: top;\n",
       "    }\n",
       "\n",
       "    .dataframe thead th {\n",
       "        text-align: right;\n",
       "    }\n",
       "</style>\n",
       "<table border=\"1\" class=\"dataframe\">\n",
       "  <thead>\n",
       "    <tr style=\"text-align: right;\">\n",
       "      <th></th>\n",
       "      <th>index</th>\n",
       "      <th>ATU Topic</th>\n",
       "      <th>Title</th>\n",
       "      <th>Abstract</th>\n",
       "      <th>Content</th>\n",
       "      <th>ATU Numerical</th>\n",
       "      <th>ATU Type</th>\n",
       "      <th>polarity</th>\n",
       "      <th>subjectivity</th>\n",
       "      <th>sentiment</th>\n",
       "    </tr>\n",
       "  </thead>\n",
       "  <tbody>\n",
       "    <tr>\n",
       "      <th>0</th>\n",
       "      <td>2</td>\n",
       "      <td>Tales of Magic</td>\n",
       "      <td>A Tale About the Boy Who Went Forth to Learn W...</td>\n",
       "      <td>A simple boy who just wants to be frightened.</td>\n",
       "      <td>A certain father had two sons, the elder of wh...</td>\n",
       "      <td>326.0</td>\n",
       "      <td>Supernatural Adversaries</td>\n",
       "      <td>0.030431</td>\n",
       "      <td>0.467210</td>\n",
       "      <td>1</td>\n",
       "    </tr>\n",
       "    <tr>\n",
       "      <th>1</th>\n",
       "      <td>3</td>\n",
       "      <td>Tales of Magic</td>\n",
       "      <td>Brier Rose</td>\n",
       "      <td>An offended witch curses a young princess to d...</td>\n",
       "      <td>A king and queen once upon a time reigned in a...</td>\n",
       "      <td>410.0</td>\n",
       "      <td>Supernatural or Enchanted Relatives</td>\n",
       "      <td>0.179175</td>\n",
       "      <td>0.495674</td>\n",
       "      <td>1</td>\n",
       "    </tr>\n",
       "    <tr>\n",
       "      <th>2</th>\n",
       "      <td>4</td>\n",
       "      <td>Animal Tales</td>\n",
       "      <td>Cat and Mouse in Partnership</td>\n",
       "      <td>A mouse lives with a cat, and the cat eats all...</td>\n",
       "      <td>A certain cat had made the acquaintance of a m...</td>\n",
       "      <td>15.0</td>\n",
       "      <td>Wild Animals</td>\n",
       "      <td>0.209495</td>\n",
       "      <td>0.472181</td>\n",
       "      <td>1</td>\n",
       "    </tr>\n",
       "    <tr>\n",
       "      <th>3</th>\n",
       "      <td>5</td>\n",
       "      <td>Tales of Magic</td>\n",
       "      <td>Cinderella</td>\n",
       "      <td>The familiar story of a girl marrying a prince...</td>\n",
       "      <td>The wife of a rich man fell sick; and when she...</td>\n",
       "      <td>510A</td>\n",
       "      <td>Supernatural Helpers</td>\n",
       "      <td>0.085409</td>\n",
       "      <td>0.426594</td>\n",
       "      <td>1</td>\n",
       "    </tr>\n",
       "    <tr>\n",
       "      <th>4</th>\n",
       "      <td>6</td>\n",
       "      <td>Jokes and Anecdotes</td>\n",
       "      <td>Clever Elsie</td>\n",
       "      <td>A husband and wife have a clever daughter who ...</td>\n",
       "      <td>There was once a man who had a daughter who wa...</td>\n",
       "      <td>1450.0</td>\n",
       "      <td>Stories about a Woman</td>\n",
       "      <td>0.073184</td>\n",
       "      <td>0.437495</td>\n",
       "      <td>1</td>\n",
       "    </tr>\n",
       "  </tbody>\n",
       "</table>\n",
       "</div>"
      ],
      "text/plain": [
       "   index            ATU Topic  \\\n",
       "0      2       Tales of Magic   \n",
       "1      3       Tales of Magic   \n",
       "2      4         Animal Tales   \n",
       "3      5       Tales of Magic   \n",
       "4      6  Jokes and Anecdotes   \n",
       "\n",
       "                                               Title  \\\n",
       "0  A Tale About the Boy Who Went Forth to Learn W...   \n",
       "1                                         Brier Rose   \n",
       "2                       Cat and Mouse in Partnership   \n",
       "3                                         Cinderella   \n",
       "4                                       Clever Elsie   \n",
       "\n",
       "                                            Abstract  \\\n",
       "0      A simple boy who just wants to be frightened.   \n",
       "1  An offended witch curses a young princess to d...   \n",
       "2  A mouse lives with a cat, and the cat eats all...   \n",
       "3  The familiar story of a girl marrying a prince...   \n",
       "4  A husband and wife have a clever daughter who ...   \n",
       "\n",
       "                                             Content ATU Numerical  \\\n",
       "0  A certain father had two sons, the elder of wh...         326.0   \n",
       "1  A king and queen once upon a time reigned in a...         410.0   \n",
       "2  A certain cat had made the acquaintance of a m...          15.0   \n",
       "3  The wife of a rich man fell sick; and when she...          510A   \n",
       "4  There was once a man who had a daughter who wa...        1450.0   \n",
       "\n",
       "                              ATU Type  polarity  subjectivity sentiment  \n",
       "0             Supernatural Adversaries  0.030431      0.467210         1  \n",
       "1  Supernatural or Enchanted Relatives  0.179175      0.495674         1  \n",
       "2                         Wild Animals  0.209495      0.472181         1  \n",
       "3                 Supernatural Helpers  0.085409      0.426594         1  \n",
       "4                Stories about a Woman  0.073184      0.437495         1  "
      ]
     },
     "execution_count": 32,
     "metadata": {},
     "output_type": "execute_result"
    }
   ],
   "source": [
    "topic = pd.merge(df,dfsent, on='Title', how='inner')\n",
    "topic.head()"
   ]
  },
  {
   "cell_type": "code",
   "execution_count": 95,
   "metadata": {},
   "outputs": [],
   "source": []
  },
  {
   "cell_type": "code",
   "execution_count": 33,
   "metadata": {},
   "outputs": [
    {
     "data": {
      "text/plain": [
       "ATU Topic\n",
       "Animal Tales                0.091791\n",
       "Jokes and Anecdotes         0.163562\n",
       "Realistic Tales             0.113895\n",
       "Tales of Magic              0.100030\n",
       "Tales of the Stupid Ogre    0.136682\n",
       "Name: polarity, dtype: float64"
      ]
     },
     "execution_count": 33,
     "metadata": {},
     "output_type": "execute_result"
    }
   ],
   "source": [
    "topic.groupby('ATU Topic').mean()['polarity']"
   ]
  },
  {
   "cell_type": "code",
   "execution_count": 34,
   "metadata": {},
   "outputs": [
    {
     "data": {
      "text/plain": [
       "ATU Topic\n",
       "Animal Tales                0.463544\n",
       "Jokes and Anecdotes         0.488172\n",
       "Realistic Tales             0.507244\n",
       "Tales of Magic              0.486523\n",
       "Tales of the Stupid Ogre    0.531951\n",
       "Name: subjectivity, dtype: float64"
      ]
     },
     "execution_count": 34,
     "metadata": {},
     "output_type": "execute_result"
    }
   ],
   "source": [
    "topic.groupby('ATU Topic').mean()['subjectivity']"
   ]
  },
  {
   "cell_type": "code",
   "execution_count": 37,
   "metadata": {},
   "outputs": [],
   "source": [
    "sent1 = topic.groupby('ATU Topic').mean()['polarity']"
   ]
  },
  {
   "cell_type": "code",
   "execution_count": 38,
   "metadata": {},
   "outputs": [
    {
     "name": "stdout",
     "output_type": "stream",
     "text": [
      "Index(['Animal Tales', 'Jokes and Anecdotes', 'Realistic Tales',\n",
      "       'Tales of Magic', 'Tales of the Stupid Ogre'],\n",
      "      dtype='object', name='ATU Topic')\n",
      "ATU Topic\n",
      "Animal Tales                0.091791\n",
      "Jokes and Anecdotes         0.163562\n",
      "Realistic Tales             0.113895\n",
      "Tales of Magic              0.100030\n",
      "Tales of the Stupid Ogre    0.136682\n",
      "Name: polarity, dtype: float64\n"
     ]
    }
   ],
   "source": [
    "print(sent1.index)\n",
    "print(sent1)"
   ]
  },
  {
   "cell_type": "code",
   "execution_count": 39,
   "metadata": {},
   "outputs": [
    {
     "data": {
      "text/plain": [
       "(array([0, 1, 2, 3, 4]), <a list of 5 Text xticklabel objects>)"
      ]
     },
     "execution_count": 39,
     "metadata": {},
     "output_type": "execute_result"
    },
    {
     "data": {
      "image/png": "[encoded data removed]",
      "text/plain": [
       "<Figure size 1296x432 with 1 Axes>"
      ]
     },
     "metadata": {
      "needs_background": "light"
     },
     "output_type": "display_data"
    }
   ],
   "source": [
    "plt.figure(figsize=(18, 6))\n",
    "g = sns.barplot(x=sent1.index, y=sent1)\n",
    "plt.xticks(rotation=45)"
   ]
  },
  {
   "cell_type": "code",
   "execution_count": null,
   "metadata": {},
   "outputs": [],
   "source": []
  },
  {
   "cell_type": "markdown",
   "metadata": {},
   "source": [
    "## Analyzing the sentiment by Type"
   ]
  },
  {
   "cell_type": "code",
   "execution_count": 40,
   "metadata": {},
   "outputs": [
    {
     "data": {
      "text/plain": [
       "ATU Type\n",
       "Domestic Animals                              -0.031779\n",
       "Jokes about Clergymen and Religious Figures    0.165770\n",
       "Man Kills Ogre                                 0.136682\n",
       "Obstinate Wife Learns to Obey                  0.182370\n",
       "Other Animals and Objects                      0.140462\n",
       "Other Tales of the Supernatural                0.180629\n",
       "Proofs of Fidelity and Innocence               0.130041\n",
       "Stories about Married Couples                  0.161012\n",
       "Stories about a Man                            0.208923\n",
       "Stories about a Woman                          0.073184\n",
       "Supernatural Adversaries                       0.075875\n",
       "Supernatural Helpers                           0.094572\n",
       "Supernatural Powers or Knowledge               0.135999\n",
       "Supernatural Tasks                             0.111710\n",
       "Supernatural or Enchanted Relatives            0.093031\n",
       "Tales of Fate                                  0.067634\n",
       "The Man Marries the Princess                   0.075535\n",
       "Wild Animal and Domestic Animals               0.123683\n",
       "Wild Animals                                   0.081380\n",
       "Wild Animals and Humans                       -0.070908\n",
       "Name: polarity, dtype: float64"
      ]
     },
     "execution_count": 40,
     "metadata": {},
     "output_type": "execute_result"
    }
   ],
   "source": [
    "topic.groupby('ATU Type').mean()['polarity']"
   ]
  },
  {
   "cell_type": "code",
   "execution_count": 41,
   "metadata": {},
   "outputs": [
    {
     "data": {
      "text/plain": [
       "ATU Type\n",
       "Domestic Animals                               0.453460\n",
       "Jokes about Clergymen and Religious Figures    0.510195\n",
       "Man Kills Ogre                                 0.531951\n",
       "Obstinate Wife Learns to Obey                  0.504432\n",
       "Other Animals and Objects                      0.472504\n",
       "Other Tales of the Supernatural                0.503961\n",
       "Proofs of Fidelity and Innocence               0.518450\n",
       "Stories about Married Couples                  0.530609\n",
       "Stories about a Man                            0.481279\n",
       "Stories about a Woman                          0.437495\n",
       "Supernatural Adversaries                       0.479383\n",
       "Supernatural Helpers                           0.467618\n",
       "Supernatural Powers or Knowledge               0.479649\n",
       "Supernatural Tasks                             0.565290\n",
       "Supernatural or Enchanted Relatives            0.506813\n",
       "Tales of Fate                                  0.495675\n",
       "The Man Marries the Princess                   0.510417\n",
       "Wild Animal and Domestic Animals               0.446549\n",
       "Wild Animals                                   0.498846\n",
       "Wild Animals and Humans                        0.373710\n",
       "Name: subjectivity, dtype: float64"
      ]
     },
     "execution_count": 41,
     "metadata": {},
     "output_type": "execute_result"
    }
   ],
   "source": [
    "topic.groupby('ATU Type').mean()['subjectivity']"
   ]
  },
  {
   "cell_type": "code",
   "execution_count": 42,
   "metadata": {},
   "outputs": [],
   "source": [
    "sent1 = topic.groupby('ATU Type').mean()['polarity']"
   ]
  },
  {
   "cell_type": "code",
   "execution_count": 43,
   "metadata": {},
   "outputs": [
    {
     "name": "stdout",
     "output_type": "stream",
     "text": [
      "Index(['Domestic Animals', 'Jokes about Clergymen and Religious Figures',\n",
      "       'Man Kills Ogre', 'Obstinate Wife Learns to Obey',\n",
      "       'Other Animals and Objects', 'Other Tales of the Supernatural',\n",
      "       'Proofs of Fidelity and Innocence', 'Stories about Married Couples',\n",
      "       'Stories about a Man', 'Stories about a Woman',\n",
      "       'Supernatural Adversaries', 'Supernatural Helpers',\n",
      "       'Supernatural Powers or Knowledge', 'Supernatural Tasks',\n",
      "       'Supernatural or Enchanted Relatives', 'Tales of Fate',\n",
      "       'The Man Marries the Princess', 'Wild Animal and Domestic Animals',\n",
      "       'Wild Animals', 'Wild Animals and Humans'],\n",
      "      dtype='object', name='ATU Type')\n",
      "ATU Type\n",
      "Domestic Animals                              -0.031779\n",
      "Jokes about Clergymen and Religious Figures    0.165770\n",
      "Man Kills Ogre                                 0.136682\n",
      "Obstinate Wife Learns to Obey                  0.182370\n",
      "Other Animals and Objects                      0.140462\n",
      "Other Tales of the Supernatural                0.180629\n",
      "Proofs of Fidelity and Innocence               0.130041\n",
      "Stories about Married Couples                  0.161012\n",
      "Stories about a Man                            0.208923\n",
      "Stories about a Woman                          0.073184\n",
      "Supernatural Adversaries                       0.075875\n",
      "Supernatural Helpers                           0.094572\n",
      "Supernatural Powers or Knowledge               0.135999\n",
      "Supernatural Tasks                             0.111710\n",
      "Supernatural or Enchanted Relatives            0.093031\n",
      "Tales of Fate                                  0.067634\n",
      "The Man Marries the Princess                   0.075535\n",
      "Wild Animal and Domestic Animals               0.123683\n",
      "Wild Animals                                   0.081380\n",
      "Wild Animals and Humans                       -0.070908\n",
      "Name: polarity, dtype: float64\n"
     ]
    }
   ],
   "source": [
    "print(sent1.index)\n",
    "print(sent1)"
   ]
  },
  {
   "cell_type": "code",
   "execution_count": 44,
   "metadata": {},
   "outputs": [
    {
     "data": {
      "text/plain": [
       "(array([ 0,  1,  2,  3,  4,  5,  6,  7,  8,  9, 10, 11, 12, 13, 14, 15, 16,\n",
       "        17, 18, 19]),\n",
       " <a list of 20 Text xticklabel objects>)"
      ]
     },
     "execution_count": 44,
     "metadata": {},
     "output_type": "execute_result"
    },
    {
     "data": {
      "image/png": "[encoded data removed]",
      "text/plain": [
       "<Figure size 1296x432 with 1 Axes>"
      ]
     },
     "metadata": {
      "needs_background": "light"
     },
     "output_type": "display_data"
    }
   ],
   "source": [
    "plt.figure(figsize=(18, 6))\n",
    "g = sns.barplot(x=sent1.index, y=sent1)\n",
    "plt.xticks(rotation=45)"
   ]
  }
 ],
 "metadata": {
  "kernelspec": {
   "display_name": "Python 3",
   "language": "python",
   "name": "python3"
  },
  "language_info": {
   "codemirror_mode": {
    "name": "ipython",
    "version": 3
   },
   "file_extension": ".py",
   "mimetype": "text/x-python",
   "name": "python",
   "nbconvert_exporter": "python",
   "pygments_lexer": "ipython3",
   "version": "3.7.6"
  }
 },
 "nbformat": 4,
 "nbformat_minor": 2
}
