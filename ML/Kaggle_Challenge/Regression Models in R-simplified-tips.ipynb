{
 "cells": [
  {
   "cell_type": "markdown",
   "metadata": {},
   "source": [
    "# Regression Models in R (tips)"
   ]
  },
  {
   "cell_type": "code",
   "execution_count": 1,
   "metadata": {},
   "outputs": [
    {
     "name": "stderr",
     "output_type": "stream",
     "text": [
      "Installing package into 'C:/Users/ytsat/Documents/R/win-library/4.0'\n",
      "(as 'lib' is unspecified)\n",
      "\n"
     ]
    },
    {
     "name": "stdout",
     "output_type": "stream",
     "text": [
      "package 'foreign' successfully unpacked and MD5 sums checked\n"
     ]
    },
    {
     "name": "stderr",
     "output_type": "stream",
     "text": [
      "Warning message:\n",
      "\"cannot remove prior installation of package 'foreign'\"\n",
      "Warning message in file.copy(savedcopy, lib, recursive = TRUE):\n",
      "\"problem copying C:\\Users\\ytsat\\Documents\\R\\win-library\\4.0\\00LOCK\\foreign\\libs\\x64\\foreign.dll to C:\\Users\\ytsat\\Documents\\R\\win-library\\4.0\\foreign\\libs\\x64\\foreign.dll: Permission denied\"\n",
      "Warning message:\n",
      "\"restored 'foreign'\"\n"
     ]
    },
    {
     "name": "stdout",
     "output_type": "stream",
     "text": [
      "\n",
      "The downloaded binary packages are in\n",
      "\tC:\\Users\\ytsat\\AppData\\Local\\Temp\\RtmpWS5Nl4\\downloaded_packages\n"
     ]
    }
   ],
   "source": [
    "install.packages(\"foreign\")"
   ]
  },
  {
   "cell_type": "code",
   "execution_count": 2,
   "metadata": {},
   "outputs": [
    {
     "name": "stderr",
     "output_type": "stream",
     "text": [
      "Warning message:\n",
      "\"package 'dplyr' was built under R version 4.0.2\"\n",
      "\n",
      "Attaching package: 'dplyr'\n",
      "\n",
      "\n",
      "The following objects are masked from 'package:stats':\n",
      "\n",
      "    filter, lag\n",
      "\n",
      "\n",
      "The following objects are masked from 'package:base':\n",
      "\n",
      "    intersect, setdiff, setequal, union\n",
      "\n",
      "\n",
      "Warning message:\n",
      "\"package 'ggplot2' was built under R version 4.0.2\"\n",
      "Warning message:\n",
      "\"package 'car' was built under R version 4.0.2\"\n",
      "Loading required package: carData\n",
      "\n",
      "\n",
      "Attaching package: 'car'\n",
      "\n",
      "\n",
      "The following object is masked from 'package:dplyr':\n",
      "\n",
      "    recode\n",
      "\n",
      "\n"
     ]
    }
   ],
   "source": [
    "\n",
    "library(readr)\n",
    "library(dplyr)\n",
    "library(ggplot2)\n",
    "library(car)\n"
   ]
  },
  {
   "cell_type": "code",
   "execution_count": 3,
   "metadata": {},
   "outputs": [],
   "source": [
    "############################################################################\n",
    "#####   Package mechkar                                                 ####\n",
    "#####   Author: Tomas Karpati M.D.                                      ####\n",
    "#####   Creation date: 2017-05-01                                       ####\n",
    "############################################################################\n",
    "\n",
    "############################################################################\n",
    "#####   DATA VISUALIZATION                                              ####\n",
    "#####   Author: Tomas Karpati M.D.                                      ####\n",
    "#####   Creation date: 2014-03-12                                       ####\n",
    "############################################################################\n",
    "\n",
    "\n",
    "\n",
    "############################################################################\n",
    "#####   TABLE 1                                                         ####\n",
    "#####   Author: Tomas Karpati M.D.                                      ####\n",
    "#####   Creation date: 2016-03-09                                       ####\n",
    "#####   Last Modified: 2018-12-19                                       ####\n",
    "############################################################################\n",
    "\n",
    "####################  FUNCTIONS  ###########################################\n",
    "#### Usage:\n",
    "####   x: character vector with the name of the variables\n",
    "####   y: the name of the strata variable (optional)\n",
    "####   rn: character vector with the text we want to replace the variable names\n",
    "####   data: the dataset to be used\n",
    "####   miss: include missing statistics: [0=none, 1=only for categorical variables, 2=for all variables]\n",
    "####   excel: export the table to excel [0=no, 1=yes]\n",
    "####   excel_file: the name of the excel file we want to save the table (optional)\n",
    "####\n",
    "###################\n",
    "\n",
    "Table1 <- function(x=NULL, y=NULL, rn=NULL, data=NULL, miss=3, catmiss=TRUE, formatted=TRUE, categorize=FALSE,\n",
    "                    factorVars=NULL, maxcat=10, delzero=TRUE, decimals=1, messages=TRUE, excel=0, excel_file=NULL,\n",
    "                    debug=FALSE) {\n",
    "  ### define sub-functions\n",
    "  Del <- NULL\n",
    "  Pop <- NULL\n",
    "  n <- NULL\n",
    "  g1 <- function(var)c(Mean=mean(var,na.rm=TRUE), SD=stats::sd(var,na.rm=TRUE))\n",
    "  g2 <- function(var)c(Median=stats::median(var,na.rm=TRUE), IQR=stats::quantile(var,c(0.25,0.75),na.rm=TRUE))\n",
    "  msg <- NULL\n",
    "\n",
    "  ### function for transforming variables to factors\n",
    "  setFactors <- function(data=data, factorVars=factorVars, catmiss=catmiss, maxcat=maxcat) {\n",
    "    if(is.null(factorVars)==TRUE) {\n",
    "      aa <- sapply(sapply(data, unique), length)\n",
    "      factorVars <- names(which(aa <= maxcat))\n",
    "    }\n",
    "    for (v in factorVars) {\n",
    "      ct <- ifelse( ((is.null(factorVars)==FALSE & (v %in% factorVars)) | (is.null(factorVars)==TRUE & length(unique(data[[v]])) <= maxcat)),1,0)\n",
    "      if (ct == 1) {\n",
    "        data[[v]] <- factor(data[[v]])\n",
    "        if(catmiss == TRUE & sum(is.na(data[[v]])==TRUE) > 0) {\n",
    "          data[[v]] <- factor(data[[v]],levels=c(levels(data[[v]]),\"Missing\"))\n",
    "          data[[v]][which(is.na(data[[v]])==TRUE)] <- \"Missing\"\n",
    "        }\n",
    "      }\n",
    "    }\n",
    "    return(data)\n",
    "  }\n",
    "  ### proceed to convert varibles to factors\n",
    "  if (categorize == TRUE | is.null(factorVars)==FALSE ) {\n",
    "    data <- setFactors(data, factorVars, catmiss, maxcat)\n",
    "  }\n",
    "\n",
    "  getSimpleTable  <- function(x=x, rn=rn, data=data, miss=miss, catmiss=catmiss,formatted=formatted,\n",
    "                              categorize=categorize,maxcat=maxcat, delzero=delzero) {\n",
    "    if (is.null(x)==TRUE) { x <- names(data)}\n",
    "    if (is.null(rn)==TRUE) { rn <- x}\n",
    "    ln <- length(x)\n",
    "    pb <- utils::txtProgressBar(min=0,max=ln,style=3)\n",
    "    msg <- NULL\n",
    "    ### define the column names\n",
    "    tableaaaa <- cbind(Del=\"Del\",V1=\"Variables\",V2=\"Categories\",n=\"n\",\"Population\")\n",
    "    tablebbbb <- cbind(Del=\"Del\",V1=\"Variables\",V2=\"Categories\",n=\"n\",val1=\"val1\",val2=\"val2\",val3=\"val3\")\n",
    "    tbl1 <- cbind(0,\"Individuals\",\"n\",n=1, nrow(data))\n",
    "    tbl2 <- cbind(0,\"Individuals\",\"n\",n=1, nrow(data),NA,NA)\n",
    "    tableaaaa <- rbind(tableaaaa,tbl1)\n",
    "    tablebbbb <- rbind(tablebbbb,tbl2)\n",
    "    q <- 1\n",
    "    n <- 1\n",
    "    ii <- 1\n",
    "    for (v in x)\n",
    "    {\n",
    "      if (v %in% names(data)) {\n",
    "        ### define if the actual variable has to be treated as numeric or factor\n",
    "        ct <- ifelse(is.numeric(data[[v]])==TRUE & categorize==TRUE &\n",
    "                       ((is.null(factorVars)==FALSE & (v %in% factorVars)) |\n",
    "                          (is.null(factorVars)==TRUE & length(unique(data[[v]])) <= maxcat)),1,0)\n",
    "        ### treat as numeric\n",
    "        if (length(unique(data[v]))==0) {\n",
    "          if (messages==TRUE) {\n",
    "            msg <- c(msg, paste(\"The variable\",v,\"has no data... avoided\"))\n",
    "          }\n",
    "        } else if (inherits(data[[v]], \"Date\")==TRUE) {\n",
    "          if (messages==TRUE) {\n",
    "            msg <- c(msg, paste(\"The variable\",v,\"is a date. Dates are not allowed in Table1... avoided\"))\n",
    "          }\n",
    "        } else if (is.numeric(data[[v]])==TRUE & ct==0) {\n",
    "          ## report mean and standard deviation\n",
    "          t_n <- g1(data[[v]])\n",
    "          tp <- paste(format(round(t_n[1],decimals),nsmall=1,big.mark=\",\"),\" (\", format(round(t_n[2],decimals),nsmall=1,big.mark=\",\"),\")\",sep=\"\")\n",
    "          tbl1 <- cbind(0,rn[q],\"Mean (SD)\",n=1, tp)\n",
    "          tbl2 <- cbind(0,rn[q],\"Mean (SD)\",n=1,t_n[1],t_n[2],NA)\n",
    "          tableaaaa <- rbind(tableaaaa,tbl1)\n",
    "          tablebbbb <- rbind(tablebbbb,tbl2)\n",
    "          ## report median and Interquartile ranges (25%,75%)\n",
    "          t_n <- g2(data[[v]])\n",
    "          tp <- paste(format(round(t_n[1],decimals),nsmall=1,big.mark=\",\"),\" (\", format(round(t_n[2],decimals),nsmall=1,big.mark=\",\"),\"-\", format(round(t_n[3],decimals),nsmall=1,big.mark=\",\"), \")\",sep=\"\")\n",
    "          tbl1 <- cbind(0,rn[q],\"Median (IQR)\",n=2, format(tp,big.mark=\",\"))\n",
    "          tbl2 <- cbind(0,rn[q],\"Median (IQR)\",n=2,t_n[1],t_n[2],t_n[3])\n",
    "          tableaaaa <- rbind(tableaaaa,tbl1)\n",
    "          tablebbbb <- rbind(tablebbbb,tbl2)\n",
    "          ## report number and percent of missing\n",
    "          if (miss >= 1) {\n",
    "            datams <- subset(data,is.na(data[[v]])==TRUE)\n",
    "            if (nrow(datams)>0) {\n",
    "              data$cnt <- 1\n",
    "              datams$cnt <- 1\n",
    "              t_n <- table(data$cnt)\n",
    "              t_m <- sum(datams$cnt)\n",
    "              tp <- paste(format(t_m,big.mark=\",\"),\" (\",format(round((t_m/t_n)*100,decimals),nsmall=1,big.mark=\",\"),\"%)\",sep=\"\")\n",
    "              tbl1 <- cbind(0,rn[q],\"Missing (%)\",n=3, tp)\n",
    "              tbl2 <- cbind(0,rn[q],\"Missing (%)\",n=3, t_m, (t_m/t_n)*100, NA)\n",
    "            } else {\n",
    "              tbl1 <- cbind(1,rn[q],\"Missing (%)\",n=3, \" -- \")\n",
    "              tbl2 <- cbind(1,rn[q],\"Missing (%)\",n=3, NA, NA, NA)\n",
    "            }\n",
    "            tableaaaa <- rbind(tableaaaa,tbl1)\n",
    "            tablebbbb <- rbind(tablebbbb,tbl2)\n",
    "          }\n",
    "        } else {\n",
    "          t_n <- table(data[[v]])\n",
    "          ttotal <- sum(t_n)\n",
    "          nm <- row.names(t_n)\n",
    "          for (f in 1:length(nm)) {\n",
    "            del1 <- ifelse(length(nm)==2 & (nm[f]==\"No\" | nm[f]==\"no\" | nm[f]==0 | nm[f]==\"0\" | nm[f]==\"None\" | nm[f]==\"none\"),1,0)\n",
    "            tp <- t_n[f] / ttotal * 100\n",
    "            pct <- paste(format(round(t_n[f],decimals),nsmall=0,big.mark=\",\"),\" (\", format(round(tp,decimals),nsmall=1,big.mark=\",\"), \"%)\",sep=\"\")\n",
    "            tbl1 <- cbind(del1,rn[q],nm[f],n=f, pct)             ########### delete rows 0/1 !!!!!!!!!\n",
    "            tbl2 <- cbind(del1,rn[q],nm[f],n=f, t_n[f], tp, NA)  ########### delete rows 0/1 !!!!!!!!!\n",
    "            tableaaaa <- rbind(tableaaaa,tbl1)\n",
    "            tablebbbb <- rbind(tablebbbb,tbl2)\n",
    "          }\n",
    "          if (miss >= 2 & catmiss==FALSE ) {\n",
    "            datams <- subset(data,is.na(data[[v]])==TRUE)\n",
    "            if (nrow(datams)>0) {\n",
    "              data$cnt <- 1\n",
    "              datams$cnt <- 1\n",
    "              t_n <- table(data$cnt)\n",
    "              t_m <- sum(datams$cnt)\n",
    "              tp <- paste(format(t_m,big.mark=\",\"),\" (\",format(round((t_m/t_n)*100,decimals),nsmall=1,big.mark=\",\"),\"%)\",sep=\"\")\n",
    "              tbl1 <- cbind(0,rn[q],\"Missing (%)\",n=f, tp)\n",
    "              tbl2 <- cbind(0,rn[q],\"Missing (%)\",n=f, t_m, (t_m/t_n)*100, NA)\n",
    "            } else {\n",
    "              tbl1 <- cbind(1,rn[q],\"Missing (%)\",n=f, \" -- \")\n",
    "              tbl2 <- cbind(1,rn[q],\"Missing (%)\",n=f, NA, NA, NA)\n",
    "            }\n",
    "            tableaaaa <- rbind(tableaaaa,tbl1)\n",
    "            tablebbbb <- rbind(tablebbbb,tbl2)\n",
    "          }\n",
    "        }\n",
    "      } else {\n",
    "        if (messages==TRUE) {\n",
    "          msg <- c(msg, paste(\"The variable\",v,\"doesn't exists in the dataset... avoiding\"))\n",
    "        }\n",
    "      }\n",
    "      q <- q + 1\n",
    "      if(debug==FALSE) {\n",
    "        utils::setTxtProgressBar(pb,ii)\n",
    "        ii <- ii + 1\n",
    "      } else {\n",
    "        message(v)\n",
    "      }\n",
    "    }\n",
    "    if(formatted==TRUE) {\n",
    "      return(tableaaaa)\n",
    "    } else {\n",
    "      return(tablebbbb)\n",
    "    }\n",
    "    close(pb)\n",
    "  }\n",
    "\n",
    "  pvals <- function(x=x,y=y,rn=rn,data=data,categorize=categorize,maxcat=maxcat) {\n",
    "    ptab <- NULL\n",
    "    if (is.null(y)==FALSE) {\n",
    "      if (y %in% names(data)) {\n",
    "        if (is.null(x)==TRUE) { x <- names(data)}\n",
    "        if (is.null(rn)==TRUE | length(rn)<2) {rn <- x}\n",
    "        q <- 1\n",
    "        ptab <- cbind(V=\"Variables\",pval=\"pval\", n=\"n\")\n",
    "\n",
    "        ln <- length(x)\n",
    "        ii <- 0\n",
    "        pb <- utils::txtProgressBar(min=0,max=ln,style=3)\n",
    "\n",
    "        for (v in x) {\n",
    "          if (v %in% names(data)) {\n",
    "            ct <- ifelse(is.numeric(data[[v]])==TRUE & categorize==TRUE & length(unique(data[[v]])) <= maxcat,1,0)\n",
    "            if (is.numeric(data[[y]])==TRUE & categorize==TRUE & length(unique(data[[y]])) <= maxcat) {\n",
    "              data[[y]] <- as.factor(data[[y]])\n",
    "            } else if (is.numeric(data[[y]])==TRUE) {\n",
    "              if (messages==TRUE) {\n",
    "                msg <- c(msg, paste(\"The variable\",y,\"is not a factor. Please convert to factor or change the 'categorize' flag to TRUE.\"))\n",
    "              }\n",
    "              pval <- \"Please rerun!!!\"\n",
    "            }\n",
    "            if (is.numeric(data[[v]])==TRUE & length(unique(data[[v]])) > 1 & ct == 0) {\n",
    "              ### first check for homoscedasticity\n",
    "              tryCatch({\n",
    "                if (stats::bartlett.test(data[[v]], data[[y]])[3] >= 0.05) {\n",
    "                  pval <- suppressMessages(round(as.numeric(suppressMessages(car::Anova(stats::lm(data[[v]] ~ data[[y]])))[1, 4]), 3))\n",
    "                } else {\n",
    "                  pval <- suppressMessages(round(as.numeric(suppressMessages(car::Anova(stats::lm(data[[v]] ~ data[[y]]), white.adjust = TRUE))[1, 3]), 3))\n",
    "                }\n",
    "              }, warning = function(w) {\n",
    "                suppressWarnings(w)\n",
    "                #ww <- \"suppress warnings...\"\n",
    "              }, error = function(e) {\n",
    "                pval <- \"---\"\n",
    "              })\n",
    "            } else if (length(unique(data[[v]]))==1) {\n",
    "              pval <- NA\n",
    "            } else {\n",
    "              if(length(unique(data[[v]])) < 15) {\n",
    "                if (min(table(data[[v]],data[[y]])) > 5) {\n",
    "                  pval <- round(as.numeric(stats::chisq.test(data[[v]],data[[y]])$p.val),3)\n",
    "                } else {\n",
    "                  if(min(table(data[[v]],data[[y]]))==0) {\n",
    "                    #in cases where there are cells with zero, we use Fisher's exact test\n",
    "                    tryCatch(\n",
    "                      pval <- round(as.numeric(stats::fisher.test(data[[v]],data[[y]], workspace=1e9)$p.val),3),\n",
    "                      error = function(e) {msg <- c(msg,paste0(\"Unable to calcualte the Fisher test for variables \",v,\" and \",y))})\n",
    "                  } else {\n",
    "                    pval <- round(as.numeric(stats::kruskal.test(data[[v]],data[[y]], workspace=1e9)$p.val),3)\n",
    "                  }\n",
    "                }\n",
    "              } else {\n",
    "                pval <- NA\n",
    "              }\n",
    "            }\n",
    "            ptab <- rbind(ptab,cbind(V=rn[q],pval=pval,n=2))\n",
    "          }\n",
    "          if(debug==FALSE) {\n",
    "            utils::setTxtProgressBar(pb,ii)\n",
    "            ii <- ii + 1\n",
    "          }\n",
    "          q <- q + 1\n",
    "        }\n",
    "      }\n",
    "    }\n",
    "    return(ptab)\n",
    "  }\n",
    "  ####################### Begin analysis\n",
    "  ##### check for x's witch have one unique values...get them out...\n",
    "  vv <- NULL\n",
    "  j <- 0\n",
    "  jj <- NULL\n",
    "  for(v in x) {\n",
    "    if(length(unique(data[[v]])) < 2) {\n",
    "      vv <- c(vv,v)\n",
    "      j <- j + 1\n",
    "      jj <- c(jj,j)\n",
    "    }\n",
    "  }\n",
    "  warning(paste(\"The following variables have unique values and will not be included in the analysis:\",vv))\n",
    "  x <- setdiff(x, vv)\n",
    "  if(is.null(rn)==FALSE & length(jj)>0) {\n",
    "    rn <- rn[-jj]\n",
    "  }\n",
    "\n",
    "  ##### if y is null then make a simple table\n",
    "  tabaaa1 <- getSimpleTable(x=x, rn=rn, data=data, miss=miss, catmiss=catmiss,formatted=formatted,categorize=categorize,maxcat=maxcat, delzero=delzero)\n",
    "  tabaaa1 <- tibble::as_tibble(tabaaa1)\n",
    "  ############################  CHANGE TO 5 !!!!!!!!!!!!!!\n",
    "  if(length(tabaaa1) > 5) {\n",
    "    names(tabaaa1) <- c(\"Del\",\"V1\",\"V2\",\"n\",\"Pop\",\"pop2\",\"pop3\")\n",
    "  } else {\n",
    "    names(tabaaa1) <- c(\"Del\",\"V1\",\"V2\",\"n\",\"Pop\")\n",
    "  }\n",
    "  ##### if y has two levels, then make a compound comparison\n",
    "  if (is.null(y)==FALSE){\n",
    "    if (y %in% names(data)) {\n",
    "      if (is.factor(data[[y]])==FALSE) {\n",
    "        if (length(levels(factor(data[[y]]))) > 8) {\n",
    "          if (messages==TRUE) {\n",
    "            message(\"The dependent variable has more than 8 levels, table too large!\")\n",
    "          }\n",
    "        } else if(min(table(data[[y]]))==0) {\n",
    "          message(\"The dependent variable has one or more levels with no individuals assigned!\")\n",
    "        } else {\n",
    "          data[[y]] <- factor(data[[y]])\n",
    "        }\n",
    "      }\n",
    "      if (length(levels(data[[y]])) >= 2) {\n",
    "        for (lv in levels(data[[y]])) {\n",
    "          dtsub <- subset(data, data[[y]]==lv)\n",
    "          tab <- getSimpleTable(x=x, rn=rn, data=dtsub, miss=miss, catmiss=catmiss, formatted=formatted,categorize=categorize,maxcat=maxcat, delzero=delzero)\n",
    "          tab <- data.frame(tab)\n",
    "          ############################  CHANGE TO 5 !!!!!!!!!!!!!!\n",
    "          if(length(tab) > 5) {\n",
    "            names(tab) <- c(\"Del\",\"V1\",\"V2\",\"n\",paste0(lv,\"_1\"),paste0(lv,\"_2\"),paste0(lv,\"_3\"))\n",
    "          } else {\n",
    "            names(tab) <- c(\"Del\",\"V1\",\"V2\",\"n\",lv)\n",
    "          }\n",
    "          ############################  CHANGE TO 5 !!!!!!!!!!!!!!\n",
    "          tab[1,5] <- lv\n",
    "          tabaaa1 <- suppressMessages(dplyr::left_join(tabaaa1, tab))\n",
    "        }\n",
    "        # what to do with dichotomous variables? We remove the \"Zero\" label...\n",
    "        # clean unnecesary rows\n",
    "        if (delzero == TRUE) {\n",
    "          tabaaa1 <- dplyr::filter(tabaaa1,Del==0)\n",
    "        }\n",
    "        ### calculate the p-value\n",
    "        ptab <- data.frame(pvals(x=x,y=y,rn=rn,data=data,categorize=categorize,maxcat=maxcat))\n",
    "        names(ptab) <- c(\"V1\",\"pval\",\"n\")\n",
    "        tabaaa1 <- suppressMessages(dplyr::left_join(tabaaa1, ptab))\n",
    "        tabaaa1 <- dplyr::filter(tabaaa1,Pop != \" -- \") #%>%\n",
    "      }\n",
    "    }\n",
    "  }\n",
    "\n",
    "  tabaaa1 <- dplyr::select(tabaaa1,-n)\n",
    "  tabaaa1 <- dplyr::select(tabaaa1,-Del)\n",
    "\n",
    "  ##### Join the tables...\n",
    "  #Sys.setenv(JAVA_HOME=\"\")\n",
    "  if (excel==1) {\n",
    "    #wb <- xlsx::createWorkbook()\n",
    "    #sheet1 <- xlsx::createSheet(wb, sheetName=\"Table 1\")\n",
    "    #xlsx::addDataFrame(tabaaa1,sheet1)\n",
    "    #### save and close the workbook\n",
    "    #xlsx::saveWorkbook(wb, excel_file)\n",
    "    writexl::write_xlsx(tabaaa1,excel_file)\n",
    "    return(tabaaa1)\n",
    "  } else {\n",
    "    return(tabaaa1)\n",
    "  }\n",
    "}\n",
    "\n",
    "########################## END Table1 ###############\n",
    "\n",
    "############################################################################\n",
    "#####   TEST & TRAIN DATASET GENERATION                                 ####\n",
    "#####   Author: Tomas Karpati M.D.                                      ####\n",
    "#####   Creation date: 2016-08-17                                       ####\n",
    "############################################################################\n",
    "\n",
    "train_test <- function(data=NULL,train_name=NULL,test_name=NULL,prop=NULL,seed=123,tableone=FALSE)\n",
    "{\n",
    "  pval <- NULL\n",
    "  checkTrainTest <- function(train=NULL,test=NULL) {\n",
    "    train[[\"traintest_ind_\"]] <- 1\n",
    "    test[[\"traintest_ind_\"]] <- 2\n",
    "    df <- rbind(train, test)\n",
    "    tab <- Table1(data=df, y=\"traintest_ind_\",messages = FALSE)\n",
    "    vars <- subset(tab, pval < 0.05)$V1\n",
    "    vars <- setdiff(vars,\"traintest_ind_\")\n",
    "    if (length(vars)==0) {\n",
    "      message(\" \")\n",
    "      message(\"You got a perfectly balanced training and test datasets\")\n",
    "      message(\" \")\n",
    "    } else {\n",
    "      message(\"WARNING: The following variables are not balanced between the training and test datasets:\")\n",
    "      for (v in vars) { message(paste(\"*\",v)) }\n",
    "      message(\"You can try to change the seed value until you get a balanced partition.\")\n",
    "      message(\"Alternatively, you can ommit this warning and exclude those variables from your model\")\n",
    "      message(\" \")\n",
    "    }\n",
    "    return(tab)\n",
    "  }\n",
    "  nm <- 1\n",
    "  ttenv = as.environment(nm)\n",
    "  ## set the seed to make your partition reproductible\n",
    "  set.seed(seed)\n",
    "  smp_size <- floor(prop * nrow(data))\n",
    "  train_ind <- sample(seq_len(nrow(data)), size = smp_size)\n",
    "  assign(train_name, data[train_ind, ], envir=ttenv)\n",
    "  assign(test_name, data[-train_ind, ], envir=ttenv)\n",
    "  message(paste(\"Dataset partitioned into:\"))\n",
    "  message(paste(\" + Train dataset:\", train_name))\n",
    "  message(paste(\" + Test dataset:\", test_name))\n",
    "  if(tableone==TRUE) {\n",
    "    tab = checkTrainTest(get(train_name),get(test_name))\n",
    "    return(tab)\n",
    "  }\n",
    "}\n",
    "\n",
    "\n",
    "######################### END train_test ###############\n",
    "\n",
    "\n"
   ]
  },
  {
   "cell_type": "code",
   "execution_count": 14,
   "metadata": {},
   "outputs": [],
   "source": [
    "\n",
    "df <- read.csv(\"C:\\\\Users\\\\ytsat\\\\Documents\\\\DataScience\\\\data\\\\tips.csv\")"
   ]
  },
  {
   "cell_type": "code",
   "execution_count": 15,
   "metadata": {},
   "outputs": [
    {
     "data": {
      "text/html": [
       "<table>\n",
       "<caption>A data.frame: 6 × 7</caption>\n",
       "<thead>\n",
       "\t<tr><th></th><th scope=col>total_bill</th><th scope=col>tip</th><th scope=col>sex</th><th scope=col>smoker</th><th scope=col>day</th><th scope=col>time</th><th scope=col>size</th></tr>\n",
       "\t<tr><th></th><th scope=col>&lt;dbl&gt;</th><th scope=col>&lt;dbl&gt;</th><th scope=col>&lt;chr&gt;</th><th scope=col>&lt;chr&gt;</th><th scope=col>&lt;chr&gt;</th><th scope=col>&lt;chr&gt;</th><th scope=col>&lt;int&gt;</th></tr>\n",
       "</thead>\n",
       "<tbody>\n",
       "\t<tr><th scope=row>1</th><td>16.99</td><td>1.01</td><td>Female</td><td>No</td><td>Sun</td><td>Dinner</td><td>2</td></tr>\n",
       "\t<tr><th scope=row>2</th><td>10.34</td><td>1.66</td><td>Male  </td><td>No</td><td>Sun</td><td>Dinner</td><td>3</td></tr>\n",
       "\t<tr><th scope=row>3</th><td>21.01</td><td>3.50</td><td>Male  </td><td>No</td><td>Sun</td><td>Dinner</td><td>3</td></tr>\n",
       "\t<tr><th scope=row>4</th><td>23.68</td><td>3.31</td><td>Male  </td><td>No</td><td>Sun</td><td>Dinner</td><td>2</td></tr>\n",
       "\t<tr><th scope=row>5</th><td>24.59</td><td>3.61</td><td>Female</td><td>No</td><td>Sun</td><td>Dinner</td><td>4</td></tr>\n",
       "\t<tr><th scope=row>6</th><td>25.29</td><td>4.71</td><td>Male  </td><td>No</td><td>Sun</td><td>Dinner</td><td>4</td></tr>\n",
       "</tbody>\n",
       "</table>\n"
      ],
      "text/latex": [
       "A data.frame: 6 × 7\n",
       "\\begin{tabular}{r|lllllll}\n",
       "  & total\\_bill & tip & sex & smoker & day & time & size\\\\\n",
       "  & <dbl> & <dbl> & <chr> & <chr> & <chr> & <chr> & <int>\\\\\n",
       "\\hline\n",
       "\t1 & 16.99 & 1.01 & Female & No & Sun & Dinner & 2\\\\\n",
       "\t2 & 10.34 & 1.66 & Male   & No & Sun & Dinner & 3\\\\\n",
       "\t3 & 21.01 & 3.50 & Male   & No & Sun & Dinner & 3\\\\\n",
       "\t4 & 23.68 & 3.31 & Male   & No & Sun & Dinner & 2\\\\\n",
       "\t5 & 24.59 & 3.61 & Female & No & Sun & Dinner & 4\\\\\n",
       "\t6 & 25.29 & 4.71 & Male   & No & Sun & Dinner & 4\\\\\n",
       "\\end{tabular}\n"
      ],
      "text/markdown": [
       "\n",
       "A data.frame: 6 × 7\n",
       "\n",
       "| <!--/--> | total_bill &lt;dbl&gt; | tip &lt;dbl&gt; | sex &lt;chr&gt; | smoker &lt;chr&gt; | day &lt;chr&gt; | time &lt;chr&gt; | size &lt;int&gt; |\n",
       "|---|---|---|---|---|---|---|---|\n",
       "| 1 | 16.99 | 1.01 | Female | No | Sun | Dinner | 2 |\n",
       "| 2 | 10.34 | 1.66 | Male   | No | Sun | Dinner | 3 |\n",
       "| 3 | 21.01 | 3.50 | Male   | No | Sun | Dinner | 3 |\n",
       "| 4 | 23.68 | 3.31 | Male   | No | Sun | Dinner | 2 |\n",
       "| 5 | 24.59 | 3.61 | Female | No | Sun | Dinner | 4 |\n",
       "| 6 | 25.29 | 4.71 | Male   | No | Sun | Dinner | 4 |\n",
       "\n"
      ],
      "text/plain": [
       "  total_bill tip  sex    smoker day time   size\n",
       "1 16.99      1.01 Female No     Sun Dinner 2   \n",
       "2 10.34      1.66 Male   No     Sun Dinner 3   \n",
       "3 21.01      3.50 Male   No     Sun Dinner 3   \n",
       "4 23.68      3.31 Male   No     Sun Dinner 2   \n",
       "5 24.59      3.61 Female No     Sun Dinner 4   \n",
       "6 25.29      4.71 Male   No     Sun Dinner 4   "
      ]
     },
     "metadata": {},
     "output_type": "display_data"
    },
    {
     "data": {
      "text/html": [
       "<style>\n",
       ".list-inline {list-style: none; margin:0; padding: 0}\n",
       ".list-inline>li {display: inline-block}\n",
       ".list-inline>li:not(:last-child)::after {content: \"\\00b7\"; padding: 0 .5ex}\n",
       "</style>\n",
       "<ol class=list-inline><li>244</li><li>7</li></ol>\n"
      ],
      "text/latex": [
       "\\begin{enumerate*}\n",
       "\\item 244\n",
       "\\item 7\n",
       "\\end{enumerate*}\n"
      ],
      "text/markdown": [
       "1. 244\n",
       "2. 7\n",
       "\n",
       "\n"
      ],
      "text/plain": [
       "[1] 244   7"
      ]
     },
     "metadata": {},
     "output_type": "display_data"
    }
   ],
   "source": [
    "head(df)\n",
    "dim(df)"
   ]
  },
  {
   "cell_type": "markdown",
   "metadata": {},
   "source": [
    "# EDA"
   ]
  },
  {
   "cell_type": "code",
   "execution_count": 16,
   "metadata": {},
   "outputs": [
    {
     "data": {
      "text/plain": [
       "   total_bill         tip             sex               smoker         \n",
       " Min.   : 3.07   Min.   : 1.000   Length:244         Length:244        \n",
       " 1st Qu.:13.35   1st Qu.: 2.000   Class :character   Class :character  \n",
       " Median :17.80   Median : 2.900   Mode  :character   Mode  :character  \n",
       " Mean   :19.79   Mean   : 2.998                                        \n",
       " 3rd Qu.:24.13   3rd Qu.: 3.562                                        \n",
       " Max.   :50.81   Max.   :10.000                                        \n",
       "     day                time                size     \n",
       " Length:244         Length:244         Min.   :1.00  \n",
       " Class :character   Class :character   1st Qu.:2.00  \n",
       " Mode  :character   Mode  :character   Median :2.00  \n",
       "                                       Mean   :2.57  \n",
       "                                       3rd Qu.:3.00  \n",
       "                                       Max.   :6.00  "
      ]
     },
     "metadata": {},
     "output_type": "display_data"
    }
   ],
   "source": [
    "summary(df)"
   ]
  },
  {
   "cell_type": "markdown",
   "metadata": {},
   "source": [
    "# DATASET PARTITION"
   ]
  },
  {
   "cell_type": "code",
   "execution_count": 18,
   "metadata": {},
   "outputs": [
    {
     "name": "stderr",
     "output_type": "stream",
     "text": [
      "Dataset partitioned into:\n",
      "\n",
      " + Train dataset: train\n",
      "\n",
      " + Test dataset: test\n",
      "\n",
      "Warning message in Table1(data = df, y = \"traintest_ind_\", messages = FALSE):\n",
      "\"The following variables have unique values and will not be included in the analysis: \"\n"
     ]
    },
    {
     "name": "stdout",
     "output_type": "stream",
     "text": [
      "  |=============================================================         |  88%"
     ]
    },
    {
     "name": "stderr",
     "output_type": "stream",
     "text": [
      " \n",
      "\n",
      "You got a perfectly balanced training and test datasets\n",
      "\n",
      " \n",
      "\n"
     ]
    },
    {
     "data": {
      "text/html": [
       "<table>\n",
       "<caption>A tibble: 18 × 6</caption>\n",
       "<thead>\n",
       "\t<tr><th scope=col>V1</th><th scope=col>V2</th><th scope=col>Pop</th><th scope=col>1</th><th scope=col>2</th><th scope=col>pval</th></tr>\n",
       "\t<tr><th scope=col>&lt;chr&gt;</th><th scope=col>&lt;chr&gt;</th><th scope=col>&lt;chr&gt;</th><th scope=col>&lt;chr&gt;</th><th scope=col>&lt;chr&gt;</th><th scope=col>&lt;chr&gt;</th></tr>\n",
       "</thead>\n",
       "<tbody>\n",
       "\t<tr><td>Individuals   </td><td>n           </td><td>244             </td><td>170             </td><td>74              </td><td>NA   </td></tr>\n",
       "\t<tr><td>total_bill    </td><td>Mean (SD)   </td><td>19.8 (8.9)      </td><td>19.6 (8.9)      </td><td>20.3 (8.9)      </td><td>NA   </td></tr>\n",
       "\t<tr><td>total_bill    </td><td>Median (IQR)</td><td>17.8 (13.3-24.1)</td><td>17.8 (13.4-23.2)</td><td>17.7 (13.4-25.5)</td><td>0.545</td></tr>\n",
       "\t<tr><td>tip           </td><td>Mean (SD)   </td><td>3.0 (1.4)       </td><td>3.0 (1.4)       </td><td>3.0 (1.3)       </td><td>NA   </td></tr>\n",
       "\t<tr><td>tip           </td><td>Median (IQR)</td><td>2.9 (2.0-3.6)   </td><td>3.0 (2.0-3.6)   </td><td>2.9 (2.0-3.5)   </td><td>0.932</td></tr>\n",
       "\t<tr><td>sex           </td><td>Female      </td><td>87 (35.7%)      </td><td>63 (37.1%)      </td><td>24 (32.4%)      </td><td>NA   </td></tr>\n",
       "\t<tr><td>sex           </td><td>Male        </td><td>157 (64.3%)     </td><td>107 (62.9%)     </td><td>50 (67.6%)      </td><td>0.584</td></tr>\n",
       "\t<tr><td>smoker        </td><td>Yes         </td><td>93 (38.1%)      </td><td>65 (38.2%)      </td><td>28 (37.8%)      </td><td>1    </td></tr>\n",
       "\t<tr><td>day           </td><td>Fri         </td><td>19 (7.8%)       </td><td>16 (9.4%)       </td><td>3 (4.1%)        </td><td>NA   </td></tr>\n",
       "\t<tr><td>day           </td><td>Sat         </td><td>87 (35.7%)      </td><td>58 (34.1%)      </td><td>29 (39.2%)      </td><td>0.944</td></tr>\n",
       "\t<tr><td>day           </td><td>Sun         </td><td>76 (31.1%)      </td><td>51 (30.0%)      </td><td>25 (33.8%)      </td><td>NA   </td></tr>\n",
       "\t<tr><td>day           </td><td>Thur        </td><td>62 (25.4%)      </td><td>45 (26.5%)      </td><td>17 (23.0%)      </td><td>NA   </td></tr>\n",
       "\t<tr><td>time          </td><td>Dinner      </td><td>176 (72.1%)     </td><td>119 (70.0%)     </td><td>57 (77.0%)      </td><td>NA   </td></tr>\n",
       "\t<tr><td>time          </td><td>Lunch       </td><td>68 (27.9%)      </td><td>51 (30.0%)      </td><td>17 (23.0%)      </td><td>0.332</td></tr>\n",
       "\t<tr><td>size          </td><td>Mean (SD)   </td><td>2.6 (1.0)       </td><td>2.6 (1.0)       </td><td>2.6 (0.9)       </td><td>NA   </td></tr>\n",
       "\t<tr><td>size          </td><td>Median (IQR)</td><td>2.0 (2.0-3.0)   </td><td>2.0 (2.0-3.0)   </td><td>2.0 (2.0-3.0)   </td><td>0.678</td></tr>\n",
       "\t<tr><td>traintest_ind_</td><td>Mean (SD)   </td><td>1.3 (0.5)       </td><td>NA              </td><td>NA              </td><td>NA   </td></tr>\n",
       "\t<tr><td>traintest_ind_</td><td>Median (IQR)</td><td>1.0 (1.0-2.0)   </td><td>NA              </td><td>NA              </td><td>0    </td></tr>\n",
       "</tbody>\n",
       "</table>\n"
      ],
      "text/latex": [
       "A tibble: 18 × 6\n",
       "\\begin{tabular}{llllll}\n",
       " V1 & V2 & Pop & 1 & 2 & pval\\\\\n",
       " <chr> & <chr> & <chr> & <chr> & <chr> & <chr>\\\\\n",
       "\\hline\n",
       "\t Individuals    & n            & 244              & 170              & 74               & NA   \\\\\n",
       "\t total\\_bill     & Mean (SD)    & 19.8 (8.9)       & 19.6 (8.9)       & 20.3 (8.9)       & NA   \\\\\n",
       "\t total\\_bill     & Median (IQR) & 17.8 (13.3-24.1) & 17.8 (13.4-23.2) & 17.7 (13.4-25.5) & 0.545\\\\\n",
       "\t tip            & Mean (SD)    & 3.0 (1.4)        & 3.0 (1.4)        & 3.0 (1.3)        & NA   \\\\\n",
       "\t tip            & Median (IQR) & 2.9 (2.0-3.6)    & 3.0 (2.0-3.6)    & 2.9 (2.0-3.5)    & 0.932\\\\\n",
       "\t sex            & Female       & 87 (35.7\\%)       & 63 (37.1\\%)       & 24 (32.4\\%)       & NA   \\\\\n",
       "\t sex            & Male         & 157 (64.3\\%)      & 107 (62.9\\%)      & 50 (67.6\\%)       & 0.584\\\\\n",
       "\t smoker         & Yes          & 93 (38.1\\%)       & 65 (38.2\\%)       & 28 (37.8\\%)       & 1    \\\\\n",
       "\t day            & Fri          & 19 (7.8\\%)        & 16 (9.4\\%)        & 3 (4.1\\%)         & NA   \\\\\n",
       "\t day            & Sat          & 87 (35.7\\%)       & 58 (34.1\\%)       & 29 (39.2\\%)       & 0.944\\\\\n",
       "\t day            & Sun          & 76 (31.1\\%)       & 51 (30.0\\%)       & 25 (33.8\\%)       & NA   \\\\\n",
       "\t day            & Thur         & 62 (25.4\\%)       & 45 (26.5\\%)       & 17 (23.0\\%)       & NA   \\\\\n",
       "\t time           & Dinner       & 176 (72.1\\%)      & 119 (70.0\\%)      & 57 (77.0\\%)       & NA   \\\\\n",
       "\t time           & Lunch        & 68 (27.9\\%)       & 51 (30.0\\%)       & 17 (23.0\\%)       & 0.332\\\\\n",
       "\t size           & Mean (SD)    & 2.6 (1.0)        & 2.6 (1.0)        & 2.6 (0.9)        & NA   \\\\\n",
       "\t size           & Median (IQR) & 2.0 (2.0-3.0)    & 2.0 (2.0-3.0)    & 2.0 (2.0-3.0)    & 0.678\\\\\n",
       "\t traintest\\_ind\\_ & Mean (SD)    & 1.3 (0.5)        & NA               & NA               & NA   \\\\\n",
       "\t traintest\\_ind\\_ & Median (IQR) & 1.0 (1.0-2.0)    & NA               & NA               & 0    \\\\\n",
       "\\end{tabular}\n"
      ],
      "text/markdown": [
       "\n",
       "A tibble: 18 × 6\n",
       "\n",
       "| V1 &lt;chr&gt; | V2 &lt;chr&gt; | Pop &lt;chr&gt; | 1 &lt;chr&gt; | 2 &lt;chr&gt; | pval &lt;chr&gt; |\n",
       "|---|---|---|---|---|---|\n",
       "| Individuals    | n            | 244              | 170              | 74               | NA    |\n",
       "| total_bill     | Mean (SD)    | 19.8 (8.9)       | 19.6 (8.9)       | 20.3 (8.9)       | NA    |\n",
       "| total_bill     | Median (IQR) | 17.8 (13.3-24.1) | 17.8 (13.4-23.2) | 17.7 (13.4-25.5) | 0.545 |\n",
       "| tip            | Mean (SD)    | 3.0 (1.4)        | 3.0 (1.4)        | 3.0 (1.3)        | NA    |\n",
       "| tip            | Median (IQR) | 2.9 (2.0-3.6)    | 3.0 (2.0-3.6)    | 2.9 (2.0-3.5)    | 0.932 |\n",
       "| sex            | Female       | 87 (35.7%)       | 63 (37.1%)       | 24 (32.4%)       | NA    |\n",
       "| sex            | Male         | 157 (64.3%)      | 107 (62.9%)      | 50 (67.6%)       | 0.584 |\n",
       "| smoker         | Yes          | 93 (38.1%)       | 65 (38.2%)       | 28 (37.8%)       | 1     |\n",
       "| day            | Fri          | 19 (7.8%)        | 16 (9.4%)        | 3 (4.1%)         | NA    |\n",
       "| day            | Sat          | 87 (35.7%)       | 58 (34.1%)       | 29 (39.2%)       | 0.944 |\n",
       "| day            | Sun          | 76 (31.1%)       | 51 (30.0%)       | 25 (33.8%)       | NA    |\n",
       "| day            | Thur         | 62 (25.4%)       | 45 (26.5%)       | 17 (23.0%)       | NA    |\n",
       "| time           | Dinner       | 176 (72.1%)      | 119 (70.0%)      | 57 (77.0%)       | NA    |\n",
       "| time           | Lunch        | 68 (27.9%)       | 51 (30.0%)       | 17 (23.0%)       | 0.332 |\n",
       "| size           | Mean (SD)    | 2.6 (1.0)        | 2.6 (1.0)        | 2.6 (0.9)        | NA    |\n",
       "| size           | Median (IQR) | 2.0 (2.0-3.0)    | 2.0 (2.0-3.0)    | 2.0 (2.0-3.0)    | 0.678 |\n",
       "| traintest_ind_ | Mean (SD)    | 1.3 (0.5)        | NA               | NA               | NA    |\n",
       "| traintest_ind_ | Median (IQR) | 1.0 (1.0-2.0)    | NA               | NA               | 0     |\n",
       "\n"
      ],
      "text/plain": [
       "   V1             V2           Pop              1               \n",
       "1  Individuals    n            244              170             \n",
       "2  total_bill     Mean (SD)    19.8 (8.9)       19.6 (8.9)      \n",
       "3  total_bill     Median (IQR) 17.8 (13.3-24.1) 17.8 (13.4-23.2)\n",
       "4  tip            Mean (SD)    3.0 (1.4)        3.0 (1.4)       \n",
       "5  tip            Median (IQR) 2.9 (2.0-3.6)    3.0 (2.0-3.6)   \n",
       "6  sex            Female       87 (35.7%)       63 (37.1%)      \n",
       "7  sex            Male         157 (64.3%)      107 (62.9%)     \n",
       "8  smoker         Yes          93 (38.1%)       65 (38.2%)      \n",
       "9  day            Fri          19 (7.8%)        16 (9.4%)       \n",
       "10 day            Sat          87 (35.7%)       58 (34.1%)      \n",
       "11 day            Sun          76 (31.1%)       51 (30.0%)      \n",
       "12 day            Thur         62 (25.4%)       45 (26.5%)      \n",
       "13 time           Dinner       176 (72.1%)      119 (70.0%)     \n",
       "14 time           Lunch        68 (27.9%)       51 (30.0%)      \n",
       "15 size           Mean (SD)    2.6 (1.0)        2.6 (1.0)       \n",
       "16 size           Median (IQR) 2.0 (2.0-3.0)    2.0 (2.0-3.0)   \n",
       "17 traintest_ind_ Mean (SD)    1.3 (0.5)        NA              \n",
       "18 traintest_ind_ Median (IQR) 1.0 (1.0-2.0)    NA              \n",
       "   2                pval \n",
       "1  74               NA   \n",
       "2  20.3 (8.9)       NA   \n",
       "3  17.7 (13.4-25.5) 0.545\n",
       "4  3.0 (1.3)        NA   \n",
       "5  2.9 (2.0-3.5)    0.932\n",
       "6  24 (32.4%)       NA   \n",
       "7  50 (67.6%)       0.584\n",
       "8  28 (37.8%)       1    \n",
       "9  3 (4.1%)         NA   \n",
       "10 29 (39.2%)       0.944\n",
       "11 25 (33.8%)       NA   \n",
       "12 17 (23.0%)       NA   \n",
       "13 57 (77.0%)       NA   \n",
       "14 17 (23.0%)       0.332\n",
       "15 2.6 (0.9)        NA   \n",
       "16 2.0 (2.0-3.0)    0.678\n",
       "17 NA               NA   \n",
       "18 NA               0    "
      ]
     },
     "metadata": {},
     "output_type": "display_data"
    }
   ],
   "source": [
    "tab1 <- train_test(data=df, train_name=\"train\", test_name=\"test\", prop=0.7, seed=5, tableone=TRUE)\n",
    "tab1"
   ]
  },
  {
   "cell_type": "code",
   "execution_count": 19,
   "metadata": {},
   "outputs": [
    {
     "data": {
      "text/html": [
       "<table>\n",
       "<caption>A tibble: 1 × 6</caption>\n",
       "<thead>\n",
       "\t<tr><th scope=col>V1</th><th scope=col>V2</th><th scope=col>Pop</th><th scope=col>1</th><th scope=col>2</th><th scope=col>pval</th></tr>\n",
       "\t<tr><th scope=col>&lt;chr&gt;</th><th scope=col>&lt;chr&gt;</th><th scope=col>&lt;chr&gt;</th><th scope=col>&lt;chr&gt;</th><th scope=col>&lt;chr&gt;</th><th scope=col>&lt;chr&gt;</th></tr>\n",
       "</thead>\n",
       "<tbody>\n",
       "\t<tr><td>traintest_ind_</td><td>Median (IQR)</td><td>1.0 (1.0-2.0)</td><td>NA</td><td>NA</td><td>0</td></tr>\n",
       "</tbody>\n",
       "</table>\n"
      ],
      "text/latex": [
       "A tibble: 1 × 6\n",
       "\\begin{tabular}{llllll}\n",
       " V1 & V2 & Pop & 1 & 2 & pval\\\\\n",
       " <chr> & <chr> & <chr> & <chr> & <chr> & <chr>\\\\\n",
       "\\hline\n",
       "\t traintest\\_ind\\_ & Median (IQR) & 1.0 (1.0-2.0) & NA & NA & 0\\\\\n",
       "\\end{tabular}\n"
      ],
      "text/markdown": [
       "\n",
       "A tibble: 1 × 6\n",
       "\n",
       "| V1 &lt;chr&gt; | V2 &lt;chr&gt; | Pop &lt;chr&gt; | 1 &lt;chr&gt; | 2 &lt;chr&gt; | pval &lt;chr&gt; |\n",
       "|---|---|---|---|---|---|\n",
       "| traintest_ind_ | Median (IQR) | 1.0 (1.0-2.0) | NA | NA | 0 |\n",
       "\n"
      ],
      "text/plain": [
       "  V1             V2           Pop           1  2  pval\n",
       "1 traintest_ind_ Median (IQR) 1.0 (1.0-2.0) NA NA 0   "
      ]
     },
     "metadata": {},
     "output_type": "display_data"
    }
   ],
   "source": [
    "tab1 %>% filter(pval < 0.05)"
   ]
  },
  {
   "cell_type": "markdown",
   "metadata": {},
   "source": [
    "# MODELS"
   ]
  },
  {
   "cell_type": "code",
   "execution_count": 20,
   "metadata": {},
   "outputs": [],
   "source": [
    "### The error we will use is the RMSE and RMSLE\n",
    "rmse <- function(y,y_hat) {\n",
    "    err <- sqrt(sum((y_hat-y)^2,na.rm=T)/length(y))\n",
    "    return(err)\n",
    "}\n",
    "\n",
    "rmsle <- function(y,y_hat) {\n",
    "    err <- sqrt(sum((log(y_hat+1)-log(y+1))^2,na.rm=T)/length(y))\n",
    "    return(err)\n",
    "}\n"
   ]
  },
  {
   "cell_type": "code",
   "execution_count": 21,
   "metadata": {},
   "outputs": [],
   "source": [
    "### Table of resulting errors\n",
    "### Name, Model, RMSE, RMSLE\n",
    "err_res <- NULL"
   ]
  },
  {
   "cell_type": "markdown",
   "metadata": {},
   "source": [
    "## Linear Models"
   ]
  },
  {
   "cell_type": "code",
   "execution_count": 22,
   "metadata": {},
   "outputs": [
    {
     "data": {
      "text/plain": [
       "\n",
       "Call:\n",
       "lm(formula = tip ~ ., data = train)\n",
       "\n",
       "Residuals:\n",
       "    Min      1Q  Median      3Q     Max \n",
       "-2.9615 -0.4672 -0.0690  0.3670  3.9368 \n",
       "\n",
       "Coefficients:\n",
       "            Estimate Std. Error t value Pr(>|t|)    \n",
       "(Intercept)  0.74383    0.40027   1.858    0.065 .  \n",
       "total_bill   0.09734    0.01168   8.331 3.32e-14 ***\n",
       "sexMale     -0.21030    0.16936  -1.242    0.216    \n",
       "smokerYes    0.17068    0.17518   0.974    0.331    \n",
       "daySat      -0.13139    0.35826  -0.367    0.714    \n",
       "daySun       0.15808    0.36983   0.427    0.670    \n",
       "dayThur     -0.10149    0.40477  -0.251    0.802    \n",
       "timeLunch   -0.05436    0.46934  -0.116    0.908    \n",
       "size         0.18151    0.10640   1.706    0.090 .  \n",
       "---\n",
       "Signif. codes:  0 '***' 0.001 '**' 0.01 '*' 0.05 '.' 0.1 ' ' 1\n",
       "\n",
       "Residual standard error: 1.024 on 161 degrees of freedom\n",
       "Multiple R-squared:  0.5034,\tAdjusted R-squared:  0.4787 \n",
       "F-statistic:  20.4 on 8 and 161 DF,  p-value: < 2.2e-16\n"
      ]
     },
     "metadata": {},
     "output_type": "display_data"
    }
   ],
   "source": [
    "## model with only the original variables\n",
    "mod1 <- lm(tip ~., data=train)\n",
    "summary(mod1)"
   ]
  },
  {
   "cell_type": "code",
   "execution_count": 23,
   "metadata": {},
   "outputs": [
    {
     "data": {
      "text/html": [
       "1.06990513000043"
      ],
      "text/latex": [
       "1.06990513000043"
      ],
      "text/markdown": [
       "1.06990513000043"
      ],
      "text/plain": [
       "[1] 1.069905"
      ]
     },
     "metadata": {},
     "output_type": "display_data"
    },
    {
     "data": {
      "text/html": [
       "0.252026406626632"
      ],
      "text/latex": [
       "0.252026406626632"
      ],
      "text/markdown": [
       "0.252026406626632"
      ],
      "text/plain": [
       "[1] 0.2520264"
      ]
     },
     "metadata": {},
     "output_type": "display_data"
    }
   ],
   "source": [
    "pred1 <- predict(mod1,newdata=test)\n",
    "rmse(test$tip,pred1)\n",
    "rmsle(test$tip,pred1)\n",
    "err_res <- rbind(err_res, data.frame(Name=\"Base Linear regression\", Model=\"mod1\", \n",
    "                                     RMSE=rmse(test$tip,pred1), \n",
    "                                     RMSLE=rmsle(test$tip,pred1)))"
   ]
  },
  {
   "cell_type": "code",
   "execution_count": 24,
   "metadata": {},
   "outputs": [
    {
     "data": {
      "text/plain": [
       "\n",
       "Call:\n",
       "lm(formula = tip ~ ., data = train)\n",
       "\n",
       "Residuals:\n",
       "    Min      1Q  Median      3Q     Max \n",
       "-2.9615 -0.4672 -0.0690  0.3670  3.9368 \n",
       "\n",
       "Coefficients:\n",
       "            Estimate Std. Error t value Pr(>|t|)    \n",
       "(Intercept)  0.74383    0.40027   1.858    0.065 .  \n",
       "total_bill   0.09734    0.01168   8.331 3.32e-14 ***\n",
       "sexMale     -0.21030    0.16936  -1.242    0.216    \n",
       "smokerYes    0.17068    0.17518   0.974    0.331    \n",
       "daySat      -0.13139    0.35826  -0.367    0.714    \n",
       "daySun       0.15808    0.36983   0.427    0.670    \n",
       "dayThur     -0.10149    0.40477  -0.251    0.802    \n",
       "timeLunch   -0.05436    0.46934  -0.116    0.908    \n",
       "size         0.18151    0.10640   1.706    0.090 .  \n",
       "---\n",
       "Signif. codes:  0 '***' 0.001 '**' 0.01 '*' 0.05 '.' 0.1 ' ' 1\n",
       "\n",
       "Residual standard error: 1.024 on 161 degrees of freedom\n",
       "Multiple R-squared:  0.5034,\tAdjusted R-squared:  0.4787 \n",
       "F-statistic:  20.4 on 8 and 161 DF,  p-value: < 2.2e-16\n"
      ]
     },
     "metadata": {},
     "output_type": "display_data"
    }
   ],
   "source": [
    "## model with all the variables\n",
    "mod2 <- lm(tip ~., data=train)\n",
    "summary(mod2)"
   ]
  },
  {
   "cell_type": "code",
   "execution_count": 25,
   "metadata": {},
   "outputs": [
    {
     "data": {
      "text/html": [
       "1.06990513000043"
      ],
      "text/latex": [
       "1.06990513000043"
      ],
      "text/markdown": [
       "1.06990513000043"
      ],
      "text/plain": [
       "[1] 1.069905"
      ]
     },
     "metadata": {},
     "output_type": "display_data"
    },
    {
     "data": {
      "text/html": [
       "0.252026406626632"
      ],
      "text/latex": [
       "0.252026406626632"
      ],
      "text/markdown": [
       "0.252026406626632"
      ],
      "text/plain": [
       "[1] 0.2520264"
      ]
     },
     "metadata": {},
     "output_type": "display_data"
    }
   ],
   "source": [
    "pred2 <- predict(mod2,newdata=test)\n",
    "rmse(test$tip,pred2)\n",
    "rmsle(test$tip,pred2)\n",
    "err_res <- rbind(err_res, data.frame(Name=\"Extended Linear regression\", Model=\"mod2\", \n",
    "                                     RMSE=rmse(test$tip,pred2), \n",
    "                                     RMSLE=rmsle(test$tip,pred2)))"
   ]
  },
  {
   "cell_type": "markdown",
   "metadata": {},
   "source": [
    "## Desicion trees"
   ]
  },
  {
   "cell_type": "code",
   "execution_count": 26,
   "metadata": {},
   "outputs": [],
   "source": [
    "library(tree)\n",
    "library(rpart)"
   ]
  },
  {
   "cell_type": "code",
   "execution_count": 27,
   "metadata": {},
   "outputs": [
    {
     "name": "stderr",
     "output_type": "stream",
     "text": [
      "Warning message in tree(tip ~ ., data = train):\n",
      "\"NAs introduced by coercion\"\n"
     ]
    },
    {
     "data": {
      "text/plain": [
       "node), split, n, deviance, yval\n",
       "      * denotes terminal node\n",
       "\n",
       " 1) root 170 339.700 3.003  \n",
       "   2) total_bill < 20.47 111  77.120 2.437  \n",
       "     4) total_bill < 16.315 71  34.920 2.105  \n",
       "       8) total_bill < 13.2 40  21.540 1.906 *\n",
       "       9) total_bill > 13.2 31   9.727 2.363 *\n",
       "     5) total_bill > 16.315 40  20.490 3.027 *\n",
       "   3) total_bill > 20.47 59 160.200 4.068  \n",
       "     6) total_bill < 44.23 54  88.870 3.811  \n",
       "      12) size < 3.5 33  43.300 3.434 *\n",
       "      13) size > 3.5 21  33.530 4.402  \n",
       "        26) total_bill < 32.055 14  21.100 3.991 *\n",
       "        27) total_bill > 32.055 7   5.316 5.226 *\n",
       "     7) total_bill > 44.23 5  29.200 6.846 *"
      ]
     },
     "metadata": {},
     "output_type": "display_data"
    }
   ],
   "source": [
    "mod3 <- tree(tip ~., data=train)\n",
    "mod3"
   ]
  },
  {
   "cell_type": "code",
   "execution_count": 28,
   "metadata": {},
   "outputs": [
    {
     "name": "stderr",
     "output_type": "stream",
     "text": [
      "Warning message in pred1.tree(object, tree.matrix(newdata)):\n",
      "\"NAs introduced by coercion\"\n"
     ]
    },
    {
     "data": {
      "text/html": [
       "1.11283695061532"
      ],
      "text/latex": [
       "1.11283695061532"
      ],
      "text/markdown": [
       "1.11283695061532"
      ],
      "text/plain": [
       "[1] 1.112837"
      ]
     },
     "metadata": {},
     "output_type": "display_data"
    },
    {
     "data": {
      "text/html": [
       "0.255044821784397"
      ],
      "text/latex": [
       "0.255044821784397"
      ],
      "text/markdown": [
       "0.255044821784397"
      ],
      "text/plain": [
       "[1] 0.2550448"
      ]
     },
     "metadata": {},
     "output_type": "display_data"
    }
   ],
   "source": [
    "pred3 <- predict(mod3,newdata=test)\n",
    "rmse(test$tip,pred3)\n",
    "rmsle(test$tip,pred3)\n",
    "err_res <- rbind(err_res, data.frame(Name=\"Decision Trees-tree\", Model=\"mod3\", \n",
    "                                     RMSE=rmse(test$tip,pred3), \n",
    "                                     RMSLE=rmsle(test$tip,pred3)))"
   ]
  },
  {
   "cell_type": "code",
   "execution_count": 29,
   "metadata": {},
   "outputs": [
    {
     "data": {
      "text/plain": [
       "n= 170 \n",
       "\n",
       "node), split, n, deviance, yval\n",
       "      * denotes terminal node\n",
       "\n",
       " 1) root 170 339.747800 3.003294  \n",
       "   2) total_bill< 20.47 111  77.119490 2.437477  \n",
       "     4) total_bill< 16.315 71  34.918760 2.105493  \n",
       "       8) total_bill< 13.2 40  21.536380 1.905750  \n",
       "        16) day=Fri,Sat,Thur 32   4.463800 1.720000 *\n",
       "        17) day=Sun 8  11.552090 2.648750 *\n",
       "       9) total_bill>=13.2 31   9.727277 2.363226 *\n",
       "     5) total_bill>=16.315 40  20.485880 3.026750  \n",
       "      10) smoker=No 29  13.544990 2.820690 *\n",
       "      11) smoker=Yes 11   2.463200 3.570000 *\n",
       "   3) total_bill>=20.47 59 160.235000 4.067797  \n",
       "     6) total_bill< 40.87 52  85.926900 3.764808  \n",
       "      12) day=Fri,Sat 20  29.555520 3.182000 *\n",
       "      13) day=Sun,Thur 32  45.332270 4.129063  \n",
       "        26) size< 3.5 16  14.336890 3.610625 *\n",
       "        27) size>=3.5 16  22.394500 4.647500 *\n",
       "     7) total_bill>=40.87 7  34.072490 6.318571 *"
      ]
     },
     "metadata": {},
     "output_type": "display_data"
    }
   ],
   "source": [
    "mod4 <- rpart(tip ~., data=train)\n",
    "mod4"
   ]
  },
  {
   "cell_type": "code",
   "execution_count": 30,
   "metadata": {},
   "outputs": [
    {
     "data": {
      "text/html": [
       "1.19391602325753"
      ],
      "text/latex": [
       "1.19391602325753"
      ],
      "text/markdown": [
       "1.19391602325753"
      ],
      "text/plain": [
       "[1] 1.193916"
      ]
     },
     "metadata": {},
     "output_type": "display_data"
    },
    {
     "data": {
      "text/html": [
       "0.271932447553732"
      ],
      "text/latex": [
       "0.271932447553732"
      ],
      "text/markdown": [
       "0.271932447553732"
      ],
      "text/plain": [
       "[1] 0.2719324"
      ]
     },
     "metadata": {},
     "output_type": "display_data"
    }
   ],
   "source": [
    "pred4 <- predict(mod4,newdata=test)\n",
    "rmse(test$tip,pred4)\n",
    "rmsle(test$tip,pred4)\n",
    "err_res <- rbind(err_res, data.frame(Name=\"Decision Trees-rpart\", Model=\"mod4\", \n",
    "                                     RMSE=rmse(test$tip,pred4), \n",
    "                                     RMSLE=rmsle(test$tip,pred4)))"
   ]
  },
  {
   "cell_type": "markdown",
   "metadata": {},
   "source": [
    "## Random Forest"
   ]
  },
  {
   "cell_type": "code",
   "execution_count": 31,
   "metadata": {},
   "outputs": [
    {
     "name": "stderr",
     "output_type": "stream",
     "text": [
      "randomForest 4.6-14\n",
      "\n",
      "Type rfNews() to see new features/changes/bug fixes.\n",
      "\n",
      "\n",
      "Attaching package: 'randomForest'\n",
      "\n",
      "\n",
      "The following object is masked from 'package:ggplot2':\n",
      "\n",
      "    margin\n",
      "\n",
      "\n",
      "The following object is masked from 'package:dplyr':\n",
      "\n",
      "    combine\n",
      "\n",
      "\n",
      "\n",
      "Attaching package: 'ranger'\n",
      "\n",
      "\n",
      "The following object is masked from 'package:randomForest':\n",
      "\n",
      "    importance\n",
      "\n",
      "\n"
     ]
    }
   ],
   "source": [
    "library(randomForest)\n",
    "library(ranger)"
   ]
  },
  {
   "cell_type": "code",
   "execution_count": 32,
   "metadata": {},
   "outputs": [],
   "source": [
    "#mod5 <- randomForest(tip ~., data=train)\n",
    "#mod5"
   ]
  },
  {
   "cell_type": "code",
   "execution_count": 33,
   "metadata": {},
   "outputs": [],
   "source": [
    "#pred5 <- predict(mod5,newdata=test)\n",
    "#rmse(test$tip,pred5)\n",
    "#rmsle(test$tip,pred5)"
   ]
  },
  {
   "cell_type": "code",
   "execution_count": 34,
   "metadata": {},
   "outputs": [
    {
     "data": {
      "text/plain": [
       "Ranger result\n",
       "\n",
       "Call:\n",
       " ranger(tip ~ ., data = train) \n",
       "\n",
       "Type:                             Regression \n",
       "Number of trees:                  500 \n",
       "Sample size:                      170 \n",
       "Number of independent variables:  6 \n",
       "Mtry:                             2 \n",
       "Target node size:                 5 \n",
       "Variable importance mode:         none \n",
       "Splitrule:                        variance \n",
       "OOB prediction error (MSE):       1.144227 \n",
       "R squared (OOB):                  0.4308295 "
      ]
     },
     "metadata": {},
     "output_type": "display_data"
    }
   ],
   "source": [
    "mod6 <- ranger(tip ~., data=train)\n",
    "mod6"
   ]
  },
  {
   "cell_type": "code",
   "execution_count": 35,
   "metadata": {},
   "outputs": [
    {
     "data": {
      "text/html": [
       "1.04271427362542"
      ],
      "text/latex": [
       "1.04271427362542"
      ],
      "text/markdown": [
       "1.04271427362542"
      ],
      "text/plain": [
       "[1] 1.042714"
      ]
     },
     "metadata": {},
     "output_type": "display_data"
    },
    {
     "data": {
      "text/html": [
       "0.250086120151524"
      ],
      "text/latex": [
       "0.250086120151524"
      ],
      "text/markdown": [
       "0.250086120151524"
      ],
      "text/plain": [
       "[1] 0.2500861"
      ]
     },
     "metadata": {},
     "output_type": "display_data"
    }
   ],
   "source": [
    "pred6 <- predict(mod6,data=test)\n",
    "#head(pred6)\n",
    "rmse(test$tip,pred6$predictions)\n",
    "rmsle(test$tip,pred6$predictions)\n",
    "err_res <- rbind(err_res, data.frame(Name=\"RandomForest (ranger)\", Model=\"mod6\", \n",
    "                                     RMSE=rmse(test$tip,pred6$predictions), \n",
    "                                     RMSLE=rmsle(test$tip,pred6$predictions)))"
   ]
  },
  {
   "cell_type": "markdown",
   "metadata": {},
   "source": [
    "## XGBoost"
   ]
  },
  {
   "cell_type": "code",
   "execution_count": 36,
   "metadata": {},
   "outputs": [
    {
     "name": "stderr",
     "output_type": "stream",
     "text": [
      "Warning message:\n",
      "\"package 'xgboost' was built under R version 4.0.3\"\n",
      "\n",
      "Attaching package: 'xgboost'\n",
      "\n",
      "\n",
      "The following object is masked from 'package:dplyr':\n",
      "\n",
      "    slice\n",
      "\n",
      "\n"
     ]
    }
   ],
   "source": [
    "library(xgboost)"
   ]
  },
  {
   "cell_type": "code",
   "execution_count": 37,
   "metadata": {},
   "outputs": [],
   "source": [
    "train1 <- Matrix::sparse.model.matrix(tip ~ .-1, data = train)"
   ]
  },
  {
   "cell_type": "code",
   "execution_count": 38,
   "metadata": {},
   "outputs": [],
   "source": [
    "test1 <- Matrix::sparse.model.matrix(tip ~ .-1, data = test)"
   ]
  },
  {
   "cell_type": "code",
   "execution_count": 39,
   "metadata": {},
   "outputs": [
    {
     "name": "stdout",
     "output_type": "stream",
     "text": [
      "[1]\ttrain-rmse:2.152302 \n",
      "[11]\ttrain-rmse:0.428750 \n",
      "[21]\ttrain-rmse:0.273885 \n",
      "[31]\ttrain-rmse:0.207797 \n",
      "[41]\ttrain-rmse:0.149647 \n",
      "[51]\ttrain-rmse:0.101319 \n",
      "[61]\ttrain-rmse:0.078424 \n",
      "[71]\ttrain-rmse:0.056676 \n",
      "[81]\ttrain-rmse:0.045739 \n",
      "[91]\ttrain-rmse:0.033742 \n",
      "[100]\ttrain-rmse:0.027106 \n"
     ]
    }
   ],
   "source": [
    "#X_train <- xgb.DMatrix(train1)\n",
    "X_train <- train1\n",
    "y_train <- train$tip\n",
    "mod7 <- xgboost(data=X_train,label=y_train, nrounds=100,print_every_n = 10)"
   ]
  },
  {
   "cell_type": "code",
   "execution_count": 40,
   "metadata": {},
   "outputs": [
    {
     "data": {
      "text/html": [
       "1.25284248878281"
      ],
      "text/latex": [
       "1.25284248878281"
      ],
      "text/markdown": [
       "1.25284248878281"
      ],
      "text/plain": [
       "[1] 1.252842"
      ]
     },
     "metadata": {},
     "output_type": "display_data"
    },
    {
     "data": {
      "text/html": [
       "0.303388390468876"
      ],
      "text/latex": [
       "0.303388390468876"
      ],
      "text/markdown": [
       "0.303388390468876"
      ],
      "text/plain": [
       "[1] 0.3033884"
      ]
     },
     "metadata": {},
     "output_type": "display_data"
    }
   ],
   "source": [
    "#X_test <- xgb.DMatrix(test1)\n",
    "X_test <- test1\n",
    "y_test <- test$tip\n",
    "\n",
    "pred7 <- predict(mod7,newdata=X_test)\n",
    "rmse(y_test,pred7)\n",
    "rmsle(y_test,pred7)\n",
    "err_res <- rbind(err_res, data.frame(Name=\"XGBoost\", Model=\"mod7\", \n",
    "                                     RMSE=rmse(test$tip,pred7), \n",
    "                                     RMSLE=rmsle(test$tip,pred7)))"
   ]
  },
  {
   "cell_type": "markdown",
   "metadata": {},
   "source": [
    "## kNN "
   ]
  },
  {
   "cell_type": "code",
   "execution_count": 41,
   "metadata": {},
   "outputs": [],
   "source": [
    "### adaboost needs that values to be normalized\n",
    "min_max <- function(x) { (x -min(x))/(max(x)-min(x))   }"
   ]
  },
  {
   "cell_type": "code",
   "execution_count": 42,
   "metadata": {},
   "outputs": [],
   "source": [
    "X_train <- sapply(data.frame(as.matrix(train1)),min_max)"
   ]
  },
  {
   "cell_type": "code",
   "execution_count": 43,
   "metadata": {},
   "outputs": [],
   "source": [
    "X_test <- sapply(data.frame(as.matrix(test1)),min_max)"
   ]
  },
  {
   "cell_type": "code",
   "execution_count": 44,
   "metadata": {},
   "outputs": [
    {
     "data": {
      "text/plain": [
       "   total_bill       sexFemale         sexMale         smokerYes     \n",
       " Min.   :0.0000   Min.   :0.0000   Min.   :0.0000   Min.   :0.0000  \n",
       " 1st Qu.:0.2159   1st Qu.:0.0000   1st Qu.:0.0000   1st Qu.:0.0000  \n",
       " Median :0.3084   Median :0.0000   Median :1.0000   Median :0.0000  \n",
       " Mean   :0.3454   Mean   :0.3706   Mean   :0.6294   Mean   :0.3824  \n",
       " 3rd Qu.:0.4207   3rd Qu.:1.0000   3rd Qu.:1.0000   3rd Qu.:1.0000  \n",
       " Max.   :1.0000   Max.   :1.0000   Max.   :1.0000   Max.   :1.0000  \n",
       "     daySat           daySun       dayThur         timeLunch        size       \n",
       " Min.   :0.0000   Min.   :0.0   Min.   :0.0000   Min.   :0.0   Min.   :0.0000  \n",
       " 1st Qu.:0.0000   1st Qu.:0.0   1st Qu.:0.0000   1st Qu.:0.0   1st Qu.:0.2000  \n",
       " Median :0.0000   Median :0.0   Median :0.0000   Median :0.0   Median :0.2000  \n",
       " Mean   :0.3412   Mean   :0.3   Mean   :0.2647   Mean   :0.3   Mean   :0.3106  \n",
       " 3rd Qu.:1.0000   3rd Qu.:1.0   3rd Qu.:1.0000   3rd Qu.:1.0   3rd Qu.:0.4000  \n",
       " Max.   :1.0000   Max.   :1.0   Max.   :1.0000   Max.   :1.0   Max.   :1.0000  "
      ]
     },
     "metadata": {},
     "output_type": "display_data"
    }
   ],
   "source": [
    "summary(X_train)"
   ]
  },
  {
   "cell_type": "code",
   "execution_count": 45,
   "metadata": {},
   "outputs": [],
   "source": [
    "library(class)\n",
    "mod8 <- knn(X_train,X_test,cl=train$tip)"
   ]
  },
  {
   "cell_type": "code",
   "execution_count": 46,
   "metadata": {},
   "outputs": [
    {
     "name": "stdout",
     "output_type": "stream",
     "text": [
      " Factor w/ 89 levels \"1\",\"1.1\",\"1.17\",..: 49 47 11 40 79 47 16 48 48 33 ...\n"
     ]
    }
   ],
   "source": [
    "str(mod8)"
   ]
  },
  {
   "cell_type": "code",
   "execution_count": 47,
   "metadata": {},
   "outputs": [
    {
     "data": {
      "text/html": [
       "1.28506704000114"
      ],
      "text/latex": [
       "1.28506704000114"
      ],
      "text/markdown": [
       "1.28506704000114"
      ],
      "text/plain": [
       "[1] 1.285067"
      ]
     },
     "metadata": {},
     "output_type": "display_data"
    },
    {
     "data": {
      "text/html": [
       "0.325075705270591"
      ],
      "text/latex": [
       "0.325075705270591"
      ],
      "text/markdown": [
       "0.325075705270591"
      ],
      "text/plain": [
       "[1] 0.3250757"
      ]
     },
     "metadata": {},
     "output_type": "display_data"
    }
   ],
   "source": [
    "pred8 <- as.numeric(as.character(mod8))\n",
    "\n",
    "rmse(test$tip,pred8)\n",
    "rmsle(test$tip,pred8)\n",
    "err_res <- rbind(err_res, data.frame(Name=\"kNN\", Model=\"mod8\", \n",
    "                                     RMSE=rmse(test$tip,pred8), \n",
    "                                     RMSLE=rmsle(test$tip,pred8)))"
   ]
  },
  {
   "cell_type": "markdown",
   "metadata": {},
   "source": [
    "## SVM"
   ]
  },
  {
   "cell_type": "code",
   "execution_count": 48,
   "metadata": {},
   "outputs": [
    {
     "name": "stderr",
     "output_type": "stream",
     "text": [
      "Warning message:\n",
      "\"package 'liquidSVM' was built under R version 4.0.3\"\n",
      "Warning message in (function (model, command.args = NULL, ..., d = NULL, warn.suboptimal = getOption(\"liquidSVM.warn.suboptimal\", :\n",
      "\"Solution may not be optimal: try training again using max_gamma=25\"\n"
     ]
    }
   ],
   "source": [
    "#install.packages(\"liquidSVM\")\n",
    "library(liquidSVM)\n",
    "\n",
    "mod9 <- svm(tip ~., train)"
   ]
  },
  {
   "cell_type": "code",
   "execution_count": 49,
   "metadata": {},
   "outputs": [
    {
     "data": {
      "text/html": [
       "1.0093091467008"
      ],
      "text/latex": [
       "1.0093091467008"
      ],
      "text/markdown": [
       "1.0093091467008"
      ],
      "text/plain": [
       "[1] 1.009309"
      ]
     },
     "metadata": {},
     "output_type": "display_data"
    },
    {
     "data": {
      "text/html": [
       "0.245050174248064"
      ],
      "text/latex": [
       "0.245050174248064"
      ],
      "text/markdown": [
       "0.245050174248064"
      ],
      "text/plain": [
       "[1] 0.2450502"
      ]
     },
     "metadata": {},
     "output_type": "display_data"
    }
   ],
   "source": [
    "pred9 <- predict(mod9, newdata=test)\n",
    "\n",
    "rmse(test$tip,pred9)\n",
    "rmsle(test$tip,pred9)\n",
    "err_res <- rbind(err_res, data.frame(Name=\"SVM\", Model=\"mod9\", \n",
    "                                     RMSE=rmse(test$tip,pred9), \n",
    "                                     RMSLE=rmsle(test$tip,pred9)))"
   ]
  },
  {
   "cell_type": "code",
   "execution_count": 50,
   "metadata": {},
   "outputs": [
    {
     "data": {
      "text/html": [
       "<table>\n",
       "<caption>A data.frame: 8 × 4</caption>\n",
       "<thead>\n",
       "\t<tr><th scope=col>Name</th><th scope=col>Model</th><th scope=col>RMSE</th><th scope=col>RMSLE</th></tr>\n",
       "\t<tr><th scope=col>&lt;chr&gt;</th><th scope=col>&lt;chr&gt;</th><th scope=col>&lt;dbl&gt;</th><th scope=col>&lt;dbl&gt;</th></tr>\n",
       "</thead>\n",
       "<tbody>\n",
       "\t<tr><td>SVM                       </td><td>mod9</td><td>1.009309</td><td>0.2450502</td></tr>\n",
       "\t<tr><td>RandomForest (ranger)     </td><td>mod6</td><td>1.042714</td><td>0.2500861</td></tr>\n",
       "\t<tr><td>Base Linear regression    </td><td>mod1</td><td>1.069905</td><td>0.2520264</td></tr>\n",
       "\t<tr><td>Extended Linear regression</td><td>mod2</td><td>1.069905</td><td>0.2520264</td></tr>\n",
       "\t<tr><td>Decision Trees-tree       </td><td>mod3</td><td>1.112837</td><td>0.2550448</td></tr>\n",
       "\t<tr><td>Decision Trees-rpart      </td><td>mod4</td><td>1.193916</td><td>0.2719324</td></tr>\n",
       "\t<tr><td>XGBoost                   </td><td>mod7</td><td>1.252842</td><td>0.3033884</td></tr>\n",
       "\t<tr><td>kNN                       </td><td>mod8</td><td>1.285067</td><td>0.3250757</td></tr>\n",
       "</tbody>\n",
       "</table>\n"
      ],
      "text/latex": [
       "A data.frame: 8 × 4\n",
       "\\begin{tabular}{llll}\n",
       " Name & Model & RMSE & RMSLE\\\\\n",
       " <chr> & <chr> & <dbl> & <dbl>\\\\\n",
       "\\hline\n",
       "\t SVM                        & mod9 & 1.009309 & 0.2450502\\\\\n",
       "\t RandomForest (ranger)      & mod6 & 1.042714 & 0.2500861\\\\\n",
       "\t Base Linear regression     & mod1 & 1.069905 & 0.2520264\\\\\n",
       "\t Extended Linear regression & mod2 & 1.069905 & 0.2520264\\\\\n",
       "\t Decision Trees-tree        & mod3 & 1.112837 & 0.2550448\\\\\n",
       "\t Decision Trees-rpart       & mod4 & 1.193916 & 0.2719324\\\\\n",
       "\t XGBoost                    & mod7 & 1.252842 & 0.3033884\\\\\n",
       "\t kNN                        & mod8 & 1.285067 & 0.3250757\\\\\n",
       "\\end{tabular}\n"
      ],
      "text/markdown": [
       "\n",
       "A data.frame: 8 × 4\n",
       "\n",
       "| Name &lt;chr&gt; | Model &lt;chr&gt; | RMSE &lt;dbl&gt; | RMSLE &lt;dbl&gt; |\n",
       "|---|---|---|---|\n",
       "| SVM                        | mod9 | 1.009309 | 0.2450502 |\n",
       "| RandomForest (ranger)      | mod6 | 1.042714 | 0.2500861 |\n",
       "| Base Linear regression     | mod1 | 1.069905 | 0.2520264 |\n",
       "| Extended Linear regression | mod2 | 1.069905 | 0.2520264 |\n",
       "| Decision Trees-tree        | mod3 | 1.112837 | 0.2550448 |\n",
       "| Decision Trees-rpart       | mod4 | 1.193916 | 0.2719324 |\n",
       "| XGBoost                    | mod7 | 1.252842 | 0.3033884 |\n",
       "| kNN                        | mod8 | 1.285067 | 0.3250757 |\n",
       "\n"
      ],
      "text/plain": [
       "  Name                       Model RMSE     RMSLE    \n",
       "1 SVM                        mod9  1.009309 0.2450502\n",
       "2 RandomForest (ranger)      mod6  1.042714 0.2500861\n",
       "3 Base Linear regression     mod1  1.069905 0.2520264\n",
       "4 Extended Linear regression mod2  1.069905 0.2520264\n",
       "5 Decision Trees-tree        mod3  1.112837 0.2550448\n",
       "6 Decision Trees-rpart       mod4  1.193916 0.2719324\n",
       "7 XGBoost                    mod7  1.252842 0.3033884\n",
       "8 kNN                        mod8  1.285067 0.3250757"
      ]
     },
     "metadata": {},
     "output_type": "display_data"
    }
   ],
   "source": [
    "err_res %>% arrange(RMSLE)"
   ]
  },
  {
   "cell_type": "code",
   "execution_count": null,
   "metadata": {},
   "outputs": [],
   "source": []
  }
 ],
 "metadata": {
  "kernelspec": {
   "display_name": "R",
   "language": "R",
   "name": "ir"
  },
  "language_info": {
   "codemirror_mode": "r",
   "file_extension": ".r",
   "mimetype": "text/x-r-source",
   "name": "R",
   "pygments_lexer": "r",
   "version": "4.0.1"
  }
 },
 "nbformat": 4,
 "nbformat_minor": 2
}
