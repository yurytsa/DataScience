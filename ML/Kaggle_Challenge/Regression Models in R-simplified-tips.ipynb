{
 "cells": [
  {
   "cell_type": "markdown",
   "metadata": {},
   "source": [
    "# Regression Models in R (tips)"
   ]
  },
  {
   "cell_type": "code",
   "execution_count": 3,
   "metadata": {},
   "outputs": [
    {
     "name": "stderr",
     "output_type": "stream",
     "text": [
      "Warning message:\n",
      "\"package 'foreign' is not available (for R version 3.6.1)\""
     ]
    }
   ],
   "source": [
    "install.packages(\"foreign\")"
   ]
  },
  {
   "cell_type": "code",
   "execution_count": 2,
   "metadata": {},
   "outputs": [
    {
     "name": "stderr",
     "output_type": "stream",
     "text": [
      "Warning message:\n",
      "\"package 'readr' was built under R version 3.6.3\"Warning message:\n",
      "\"package 'dplyr' was built under R version 3.6.3\"\n",
      "Attaching package: 'dplyr'\n",
      "\n",
      "The following objects are masked from 'package:stats':\n",
      "\n",
      "    filter, lag\n",
      "\n",
      "The following objects are masked from 'package:base':\n",
      "\n",
      "    intersect, setdiff, setequal, union\n",
      "\n",
      "Warning message:\n",
      "\"package 'ggplot2' was built under R version 3.6.3\"Warning message:\n",
      "\"package 'car' was built under R version 3.6.3\"Loading required package: carData\n",
      "Warning message:\n",
      "\"package 'carData' was built under R version 3.6.3\""
     ]
    },
    {
     "ename": "ERROR",
     "evalue": "Error: package or namespace load failed for 'car' in loadNamespace(j <- i[[1L]], c(lib.loc, .libPaths()), versionCheck = vI[[j]]):\n there is no package called 'foreign'\n",
     "output_type": "error",
     "traceback": [
      "Error: package or namespace load failed for 'car' in loadNamespace(j <- i[[1L]], c(lib.loc, .libPaths()), versionCheck = vI[[j]]):\n there is no package called 'foreign'\nTraceback:\n",
      "1. library(car)",
      "2. tryCatch({\n .     attr(package, \"LibPath\") <- which.lib.loc\n .     ns <- loadNamespace(package, lib.loc)\n .     env <- attachNamespace(ns, pos = pos, deps, exclude, include.only)\n . }, error = function(e) {\n .     P <- if (!is.null(cc <- conditionCall(e))) \n .         paste(\" in\", deparse(cc)[1L])\n .     else \"\"\n .     msg <- gettextf(\"package or namespace load failed for %s%s:\\n %s\", \n .         sQuote(package), P, conditionMessage(e))\n .     if (logical.return) \n .         message(paste(\"Error:\", msg), domain = NA)\n .     else stop(msg, call. = FALSE, domain = NA)\n . })",
      "3. tryCatchList(expr, classes, parentenv, handlers)",
      "4. tryCatchOne(expr, names, parentenv, handlers[[1L]])",
      "5. value[[3L]](cond)",
      "6. stop(msg, call. = FALSE, domain = NA)"
     ]
    }
   ],
   "source": [
    "\n",
    "library(readr)\n",
    "library(dplyr)\n",
    "library(ggplot2)\n",
    "library(car)\n"
   ]
  },
  {
   "cell_type": "code",
   "execution_count": null,
   "metadata": {},
   "outputs": [],
   "source": [
    "############################################################################\n",
    "#####   Package mechkar                                                 ####\n",
    "#####   Author: Tomas Karpati M.D.                                      ####\n",
    "#####   Creation date: 2017-05-01                                       ####\n",
    "############################################################################\n",
    "\n",
    "############################################################################\n",
    "#####   DATA VISUALIZATION                                              ####\n",
    "#####   Author: Tomas Karpati M.D.                                      ####\n",
    "#####   Creation date: 2014-03-12                                       ####\n",
    "############################################################################\n",
    "\n",
    "\n",
    "\n",
    "############################################################################\n",
    "#####   TABLE 1                                                         ####\n",
    "#####   Author: Tomas Karpati M.D.                                      ####\n",
    "#####   Creation date: 2016-03-09                                       ####\n",
    "#####   Last Modified: 2018-12-19                                       ####\n",
    "############################################################################\n",
    "\n",
    "####################  FUNCTIONS  ###########################################\n",
    "#### Usage:\n",
    "####   x: character vector with the name of the variables\n",
    "####   y: the name of the strata variable (optional)\n",
    "####   rn: character vector with the text we want to replace the variable names\n",
    "####   data: the dataset to be used\n",
    "####   miss: include missing statistics: [0=none, 1=only for categorical variables, 2=for all variables]\n",
    "####   excel: export the table to excel [0=no, 1=yes]\n",
    "####   excel_file: the name of the excel file we want to save the table (optional)\n",
    "####\n",
    "###################\n",
    "\n",
    "Table1 <- function(x=NULL, y=NULL, rn=NULL, data=NULL, miss=3, catmiss=TRUE, formatted=TRUE, categorize=FALSE,\n",
    "                    factorVars=NULL, maxcat=10, delzero=TRUE, decimals=1, messages=TRUE, excel=0, excel_file=NULL,\n",
    "                    debug=FALSE) {\n",
    "  ### define sub-functions\n",
    "  Del <- NULL\n",
    "  Pop <- NULL\n",
    "  n <- NULL\n",
    "  g1 <- function(var)c(Mean=mean(var,na.rm=TRUE), SD=stats::sd(var,na.rm=TRUE))\n",
    "  g2 <- function(var)c(Median=stats::median(var,na.rm=TRUE), IQR=stats::quantile(var,c(0.25,0.75),na.rm=TRUE))\n",
    "  msg <- NULL\n",
    "\n",
    "  ### function for transforming variables to factors\n",
    "  setFactors <- function(data=data, factorVars=factorVars, catmiss=catmiss, maxcat=maxcat) {\n",
    "    if(is.null(factorVars)==TRUE) {\n",
    "      aa <- sapply(sapply(data, unique), length)\n",
    "      factorVars <- names(which(aa <= maxcat))\n",
    "    }\n",
    "    for (v in factorVars) {\n",
    "      ct <- ifelse( ((is.null(factorVars)==FALSE & (v %in% factorVars)) | (is.null(factorVars)==TRUE & length(unique(data[[v]])) <= maxcat)),1,0)\n",
    "      if (ct == 1) {\n",
    "        data[[v]] <- factor(data[[v]])\n",
    "        if(catmiss == TRUE & sum(is.na(data[[v]])==TRUE) > 0) {\n",
    "          data[[v]] <- factor(data[[v]],levels=c(levels(data[[v]]),\"Missing\"))\n",
    "          data[[v]][which(is.na(data[[v]])==TRUE)] <- \"Missing\"\n",
    "        }\n",
    "      }\n",
    "    }\n",
    "    return(data)\n",
    "  }\n",
    "  ### proceed to convert varibles to factors\n",
    "  if (categorize == TRUE | is.null(factorVars)==FALSE ) {\n",
    "    data <- setFactors(data, factorVars, catmiss, maxcat)\n",
    "  }\n",
    "\n",
    "  getSimpleTable  <- function(x=x, rn=rn, data=data, miss=miss, catmiss=catmiss,formatted=formatted,\n",
    "                              categorize=categorize,maxcat=maxcat, delzero=delzero) {\n",
    "    if (is.null(x)==TRUE) { x <- names(data)}\n",
    "    if (is.null(rn)==TRUE) { rn <- x}\n",
    "    ln <- length(x)\n",
    "    pb <- utils::txtProgressBar(min=0,max=ln,style=3)\n",
    "    msg <- NULL\n",
    "    ### define the column names\n",
    "    tableaaaa <- cbind(Del=\"Del\",V1=\"Variables\",V2=\"Categories\",n=\"n\",\"Population\")\n",
    "    tablebbbb <- cbind(Del=\"Del\",V1=\"Variables\",V2=\"Categories\",n=\"n\",val1=\"val1\",val2=\"val2\",val3=\"val3\")\n",
    "    tbl1 <- cbind(0,\"Individuals\",\"n\",n=1, nrow(data))\n",
    "    tbl2 <- cbind(0,\"Individuals\",\"n\",n=1, nrow(data),NA,NA)\n",
    "    tableaaaa <- rbind(tableaaaa,tbl1)\n",
    "    tablebbbb <- rbind(tablebbbb,tbl2)\n",
    "    q <- 1\n",
    "    n <- 1\n",
    "    ii <- 1\n",
    "    for (v in x)\n",
    "    {\n",
    "      if (v %in% names(data)) {\n",
    "        ### define if the actual variable has to be treated as numeric or factor\n",
    "        ct <- ifelse(is.numeric(data[[v]])==TRUE & categorize==TRUE &\n",
    "                       ((is.null(factorVars)==FALSE & (v %in% factorVars)) |\n",
    "                          (is.null(factorVars)==TRUE & length(unique(data[[v]])) <= maxcat)),1,0)\n",
    "        ### treat as numeric\n",
    "        if (length(unique(data[v]))==0) {\n",
    "          if (messages==TRUE) {\n",
    "            msg <- c(msg, paste(\"The variable\",v,\"has no data... avoided\"))\n",
    "          }\n",
    "        } else if (inherits(data[[v]], \"Date\")==TRUE) {\n",
    "          if (messages==TRUE) {\n",
    "            msg <- c(msg, paste(\"The variable\",v,\"is a date. Dates are not allowed in Table1... avoided\"))\n",
    "          }\n",
    "        } else if (is.numeric(data[[v]])==TRUE & ct==0) {\n",
    "          ## report mean and standard deviation\n",
    "          t_n <- g1(data[[v]])\n",
    "          tp <- paste(format(round(t_n[1],decimals),nsmall=1,big.mark=\",\"),\" (\", format(round(t_n[2],decimals),nsmall=1,big.mark=\",\"),\")\",sep=\"\")\n",
    "          tbl1 <- cbind(0,rn[q],\"Mean (SD)\",n=1, tp)\n",
    "          tbl2 <- cbind(0,rn[q],\"Mean (SD)\",n=1,t_n[1],t_n[2],NA)\n",
    "          tableaaaa <- rbind(tableaaaa,tbl1)\n",
    "          tablebbbb <- rbind(tablebbbb,tbl2)\n",
    "          ## report median and Interquartile ranges (25%,75%)\n",
    "          t_n <- g2(data[[v]])\n",
    "          tp <- paste(format(round(t_n[1],decimals),nsmall=1,big.mark=\",\"),\" (\", format(round(t_n[2],decimals),nsmall=1,big.mark=\",\"),\"-\", format(round(t_n[3],decimals),nsmall=1,big.mark=\",\"), \")\",sep=\"\")\n",
    "          tbl1 <- cbind(0,rn[q],\"Median (IQR)\",n=2, format(tp,big.mark=\",\"))\n",
    "          tbl2 <- cbind(0,rn[q],\"Median (IQR)\",n=2,t_n[1],t_n[2],t_n[3])\n",
    "          tableaaaa <- rbind(tableaaaa,tbl1)\n",
    "          tablebbbb <- rbind(tablebbbb,tbl2)\n",
    "          ## report number and percent of missing\n",
    "          if (miss >= 1) {\n",
    "            datams <- subset(data,is.na(data[[v]])==TRUE)\n",
    "            if (nrow(datams)>0) {\n",
    "              data$cnt <- 1\n",
    "              datams$cnt <- 1\n",
    "              t_n <- table(data$cnt)\n",
    "              t_m <- sum(datams$cnt)\n",
    "              tp <- paste(format(t_m,big.mark=\",\"),\" (\",format(round((t_m/t_n)*100,decimals),nsmall=1,big.mark=\",\"),\"%)\",sep=\"\")\n",
    "              tbl1 <- cbind(0,rn[q],\"Missing (%)\",n=3, tp)\n",
    "              tbl2 <- cbind(0,rn[q],\"Missing (%)\",n=3, t_m, (t_m/t_n)*100, NA)\n",
    "            } else {\n",
    "              tbl1 <- cbind(1,rn[q],\"Missing (%)\",n=3, \" -- \")\n",
    "              tbl2 <- cbind(1,rn[q],\"Missing (%)\",n=3, NA, NA, NA)\n",
    "            }\n",
    "            tableaaaa <- rbind(tableaaaa,tbl1)\n",
    "            tablebbbb <- rbind(tablebbbb,tbl2)\n",
    "          }\n",
    "        } else {\n",
    "          t_n <- table(data[[v]])\n",
    "          ttotal <- sum(t_n)\n",
    "          nm <- row.names(t_n)\n",
    "          for (f in 1:length(nm)) {\n",
    "            del1 <- ifelse(length(nm)==2 & (nm[f]==\"No\" | nm[f]==\"no\" | nm[f]==0 | nm[f]==\"0\" | nm[f]==\"None\" | nm[f]==\"none\"),1,0)\n",
    "            tp <- t_n[f] / ttotal * 100\n",
    "            pct <- paste(format(round(t_n[f],decimals),nsmall=0,big.mark=\",\"),\" (\", format(round(tp,decimals),nsmall=1,big.mark=\",\"), \"%)\",sep=\"\")\n",
    "            tbl1 <- cbind(del1,rn[q],nm[f],n=f, pct)             ########### delete rows 0/1 !!!!!!!!!\n",
    "            tbl2 <- cbind(del1,rn[q],nm[f],n=f, t_n[f], tp, NA)  ########### delete rows 0/1 !!!!!!!!!\n",
    "            tableaaaa <- rbind(tableaaaa,tbl1)\n",
    "            tablebbbb <- rbind(tablebbbb,tbl2)\n",
    "          }\n",
    "          if (miss >= 2 & catmiss==FALSE ) {\n",
    "            datams <- subset(data,is.na(data[[v]])==TRUE)\n",
    "            if (nrow(datams)>0) {\n",
    "              data$cnt <- 1\n",
    "              datams$cnt <- 1\n",
    "              t_n <- table(data$cnt)\n",
    "              t_m <- sum(datams$cnt)\n",
    "              tp <- paste(format(t_m,big.mark=\",\"),\" (\",format(round((t_m/t_n)*100,decimals),nsmall=1,big.mark=\",\"),\"%)\",sep=\"\")\n",
    "              tbl1 <- cbind(0,rn[q],\"Missing (%)\",n=f, tp)\n",
    "              tbl2 <- cbind(0,rn[q],\"Missing (%)\",n=f, t_m, (t_m/t_n)*100, NA)\n",
    "            } else {\n",
    "              tbl1 <- cbind(1,rn[q],\"Missing (%)\",n=f, \" -- \")\n",
    "              tbl2 <- cbind(1,rn[q],\"Missing (%)\",n=f, NA, NA, NA)\n",
    "            }\n",
    "            tableaaaa <- rbind(tableaaaa,tbl1)\n",
    "            tablebbbb <- rbind(tablebbbb,tbl2)\n",
    "          }\n",
    "        }\n",
    "      } else {\n",
    "        if (messages==TRUE) {\n",
    "          msg <- c(msg, paste(\"The variable\",v,\"doesn't exists in the dataset... avoiding\"))\n",
    "        }\n",
    "      }\n",
    "      q <- q + 1\n",
    "      if(debug==FALSE) {\n",
    "        utils::setTxtProgressBar(pb,ii)\n",
    "        ii <- ii + 1\n",
    "      } else {\n",
    "        message(v)\n",
    "      }\n",
    "    }\n",
    "    if(formatted==TRUE) {\n",
    "      return(tableaaaa)\n",
    "    } else {\n",
    "      return(tablebbbb)\n",
    "    }\n",
    "    close(pb)\n",
    "  }\n",
    "\n",
    "  pvals <- function(x=x,y=y,rn=rn,data=data,categorize=categorize,maxcat=maxcat) {\n",
    "    ptab <- NULL\n",
    "    if (is.null(y)==FALSE) {\n",
    "      if (y %in% names(data)) {\n",
    "        if (is.null(x)==TRUE) { x <- names(data)}\n",
    "        if (is.null(rn)==TRUE | length(rn)<2) {rn <- x}\n",
    "        q <- 1\n",
    "        ptab <- cbind(V=\"Variables\",pval=\"pval\", n=\"n\")\n",
    "\n",
    "        ln <- length(x)\n",
    "        ii <- 0\n",
    "        pb <- utils::txtProgressBar(min=0,max=ln,style=3)\n",
    "\n",
    "        for (v in x) {\n",
    "          if (v %in% names(data)) {\n",
    "            ct <- ifelse(is.numeric(data[[v]])==TRUE & categorize==TRUE & length(unique(data[[v]])) <= maxcat,1,0)\n",
    "            if (is.numeric(data[[y]])==TRUE & categorize==TRUE & length(unique(data[[y]])) <= maxcat) {\n",
    "              data[[y]] <- as.factor(data[[y]])\n",
    "            } else if (is.numeric(data[[y]])==TRUE) {\n",
    "              if (messages==TRUE) {\n",
    "                msg <- c(msg, paste(\"The variable\",y,\"is not a factor. Please convert to factor or change the 'categorize' flag to TRUE.\"))\n",
    "              }\n",
    "              pval <- \"Please rerun!!!\"\n",
    "            }\n",
    "            if (is.numeric(data[[v]])==TRUE & length(unique(data[[v]])) > 1 & ct == 0) {\n",
    "              ### first check for homoscedasticity\n",
    "              tryCatch({\n",
    "                if (stats::bartlett.test(data[[v]], data[[y]])[3] >= 0.05) {\n",
    "                  pval <- suppressMessages(round(as.numeric(suppressMessages(car::Anova(stats::lm(data[[v]] ~ data[[y]])))[1, 4]), 3))\n",
    "                } else {\n",
    "                  pval <- suppressMessages(round(as.numeric(suppressMessages(car::Anova(stats::lm(data[[v]] ~ data[[y]]), white.adjust = TRUE))[1, 3]), 3))\n",
    "                }\n",
    "              }, warning = function(w) {\n",
    "                suppressWarnings(w)\n",
    "                #ww <- \"suppress warnings...\"\n",
    "              }, error = function(e) {\n",
    "                pval <- \"---\"\n",
    "              })\n",
    "            } else if (length(unique(data[[v]]))==1) {\n",
    "              pval <- NA\n",
    "            } else {\n",
    "              if(length(unique(data[[v]])) < 15) {\n",
    "                if (min(table(data[[v]],data[[y]])) > 5) {\n",
    "                  pval <- round(as.numeric(stats::chisq.test(data[[v]],data[[y]])$p.val),3)\n",
    "                } else {\n",
    "                  if(min(table(data[[v]],data[[y]]))==0) {\n",
    "                    #in cases where there are cells with zero, we use Fisher's exact test\n",
    "                    tryCatch(\n",
    "                      pval <- round(as.numeric(stats::fisher.test(data[[v]],data[[y]], workspace=1e9)$p.val),3),\n",
    "                      error = function(e) {msg <- c(msg,paste0(\"Unable to calcualte the Fisher test for variables \",v,\" and \",y))})\n",
    "                  } else {\n",
    "                    pval <- round(as.numeric(stats::kruskal.test(data[[v]],data[[y]], workspace=1e9)$p.val),3)\n",
    "                  }\n",
    "                }\n",
    "              } else {\n",
    "                pval <- NA\n",
    "              }\n",
    "            }\n",
    "            ptab <- rbind(ptab,cbind(V=rn[q],pval=pval,n=2))\n",
    "          }\n",
    "          if(debug==FALSE) {\n",
    "            utils::setTxtProgressBar(pb,ii)\n",
    "            ii <- ii + 1\n",
    "          }\n",
    "          q <- q + 1\n",
    "        }\n",
    "      }\n",
    "    }\n",
    "    return(ptab)\n",
    "  }\n",
    "  ####################### Begin analysis\n",
    "  ##### check for x's witch have one unique values...get them out...\n",
    "  vv <- NULL\n",
    "  j <- 0\n",
    "  jj <- NULL\n",
    "  for(v in x) {\n",
    "    if(length(unique(data[[v]])) < 2) {\n",
    "      vv <- c(vv,v)\n",
    "      j <- j + 1\n",
    "      jj <- c(jj,j)\n",
    "    }\n",
    "  }\n",
    "  warning(paste(\"The following variables have unique values and will not be included in the analysis:\",vv))\n",
    "  x <- setdiff(x, vv)\n",
    "  if(is.null(rn)==FALSE & length(jj)>0) {\n",
    "    rn <- rn[-jj]\n",
    "  }\n",
    "\n",
    "  ##### if y is null then make a simple table\n",
    "  tabaaa1 <- getSimpleTable(x=x, rn=rn, data=data, miss=miss, catmiss=catmiss,formatted=formatted,categorize=categorize,maxcat=maxcat, delzero=delzero)\n",
    "  tabaaa1 <- tibble::as_tibble(tabaaa1)\n",
    "  ############################  CHANGE TO 5 !!!!!!!!!!!!!!\n",
    "  if(length(tabaaa1) > 5) {\n",
    "    names(tabaaa1) <- c(\"Del\",\"V1\",\"V2\",\"n\",\"Pop\",\"pop2\",\"pop3\")\n",
    "  } else {\n",
    "    names(tabaaa1) <- c(\"Del\",\"V1\",\"V2\",\"n\",\"Pop\")\n",
    "  }\n",
    "  ##### if y has two levels, then make a compound comparison\n",
    "  if (is.null(y)==FALSE){\n",
    "    if (y %in% names(data)) {\n",
    "      if (is.factor(data[[y]])==FALSE) {\n",
    "        if (length(levels(factor(data[[y]]))) > 8) {\n",
    "          if (messages==TRUE) {\n",
    "            message(\"The dependent variable has more than 8 levels, table too large!\")\n",
    "          }\n",
    "        } else if(min(table(data[[y]]))==0) {\n",
    "          message(\"The dependent variable has one or more levels with no individuals assigned!\")\n",
    "        } else {\n",
    "          data[[y]] <- factor(data[[y]])\n",
    "        }\n",
    "      }\n",
    "      if (length(levels(data[[y]])) >= 2) {\n",
    "        for (lv in levels(data[[y]])) {\n",
    "          dtsub <- subset(data, data[[y]]==lv)\n",
    "          tab <- getSimpleTable(x=x, rn=rn, data=dtsub, miss=miss, catmiss=catmiss, formatted=formatted,categorize=categorize,maxcat=maxcat, delzero=delzero)\n",
    "          tab <- data.frame(tab)\n",
    "          ############################  CHANGE TO 5 !!!!!!!!!!!!!!\n",
    "          if(length(tab) > 5) {\n",
    "            names(tab) <- c(\"Del\",\"V1\",\"V2\",\"n\",paste0(lv,\"_1\"),paste0(lv,\"_2\"),paste0(lv,\"_3\"))\n",
    "          } else {\n",
    "            names(tab) <- c(\"Del\",\"V1\",\"V2\",\"n\",lv)\n",
    "          }\n",
    "          ############################  CHANGE TO 5 !!!!!!!!!!!!!!\n",
    "          tab[1,5] <- lv\n",
    "          tabaaa1 <- suppressMessages(dplyr::left_join(tabaaa1, tab))\n",
    "        }\n",
    "        # what to do with dichotomous variables? We remove the \"Zero\" label...\n",
    "        # clean unnecesary rows\n",
    "        if (delzero == TRUE) {\n",
    "          tabaaa1 <- dplyr::filter(tabaaa1,Del==0)\n",
    "        }\n",
    "        ### calculate the p-value\n",
    "        ptab <- data.frame(pvals(x=x,y=y,rn=rn,data=data,categorize=categorize,maxcat=maxcat))\n",
    "        names(ptab) <- c(\"V1\",\"pval\",\"n\")\n",
    "        tabaaa1 <- suppressMessages(dplyr::left_join(tabaaa1, ptab))\n",
    "        tabaaa1 <- dplyr::filter(tabaaa1,Pop != \" -- \") #%>%\n",
    "      }\n",
    "    }\n",
    "  }\n",
    "\n",
    "  tabaaa1 <- dplyr::select(tabaaa1,-n)\n",
    "  tabaaa1 <- dplyr::select(tabaaa1,-Del)\n",
    "\n",
    "  ##### Join the tables...\n",
    "  #Sys.setenv(JAVA_HOME=\"\")\n",
    "  if (excel==1) {\n",
    "    #wb <- xlsx::createWorkbook()\n",
    "    #sheet1 <- xlsx::createSheet(wb, sheetName=\"Table 1\")\n",
    "    #xlsx::addDataFrame(tabaaa1,sheet1)\n",
    "    #### save and close the workbook\n",
    "    #xlsx::saveWorkbook(wb, excel_file)\n",
    "    writexl::write_xlsx(tabaaa1,excel_file)\n",
    "    return(tabaaa1)\n",
    "  } else {\n",
    "    return(tabaaa1)\n",
    "  }\n",
    "}\n",
    "\n",
    "########################## END Table1 ###############\n",
    "\n",
    "############################################################################\n",
    "#####   TEST & TRAIN DATASET GENERATION                                 ####\n",
    "#####   Author: Tomas Karpati M.D.                                      ####\n",
    "#####   Creation date: 2016-08-17                                       ####\n",
    "############################################################################\n",
    "\n",
    "train_test <- function(data=NULL,train_name=NULL,test_name=NULL,prop=NULL,seed=123,tableone=FALSE)\n",
    "{\n",
    "  pval <- NULL\n",
    "  checkTrainTest <- function(train=NULL,test=NULL) {\n",
    "    train[[\"traintest_ind_\"]] <- 1\n",
    "    test[[\"traintest_ind_\"]] <- 2\n",
    "    df <- rbind(train, test)\n",
    "    tab <- Table1(data=df, y=\"traintest_ind_\",messages = FALSE)\n",
    "    vars <- subset(tab, pval < 0.05)$V1\n",
    "    vars <- setdiff(vars,\"traintest_ind_\")\n",
    "    if (length(vars)==0) {\n",
    "      message(\" \")\n",
    "      message(\"You got a perfectly balanced training and test datasets\")\n",
    "      message(\" \")\n",
    "    } else {\n",
    "      message(\"WARNING: The following variables are not balanced between the training and test datasets:\")\n",
    "      for (v in vars) { message(paste(\"*\",v)) }\n",
    "      message(\"You can try to change the seed value until you get a balanced partition.\")\n",
    "      message(\"Alternatively, you can ommit this warning and exclude those variables from your model\")\n",
    "      message(\" \")\n",
    "    }\n",
    "    return(tab)\n",
    "  }\n",
    "  nm <- 1\n",
    "  ttenv = as.environment(nm)\n",
    "  ## set the seed to make your partition reproductible\n",
    "  set.seed(seed)\n",
    "  smp_size <- floor(prop * nrow(data))\n",
    "  train_ind <- sample(seq_len(nrow(data)), size = smp_size)\n",
    "  assign(train_name, data[train_ind, ], envir=ttenv)\n",
    "  assign(test_name, data[-train_ind, ], envir=ttenv)\n",
    "  message(paste(\"Dataset partitioned into:\"))\n",
    "  message(paste(\" + Train dataset:\", train_name))\n",
    "  message(paste(\" + Test dataset:\", test_name))\n",
    "  if(tableone==TRUE) {\n",
    "    tab = checkTrainTest(get(train_name),get(test_name))\n",
    "    return(tab)\n",
    "  }\n",
    "}\n",
    "\n",
    "\n",
    "######################### END train_test ###############\n",
    "\n",
    "\n"
   ]
  },
  {
   "cell_type": "code",
   "execution_count": null,
   "metadata": {},
   "outputs": [],
   "source": [
    "\n",
    "df <- read.csv(\"train.csv\")"
   ]
  },
  {
   "cell_type": "code",
   "execution_count": null,
   "metadata": {},
   "outputs": [],
   "source": [
    "head(df)\n",
    "dim(df)"
   ]
  },
  {
   "cell_type": "markdown",
   "metadata": {},
   "source": [
    "# EDA"
   ]
  },
  {
   "cell_type": "code",
   "execution_count": null,
   "metadata": {},
   "outputs": [],
   "source": [
    "summary(df)"
   ]
  },
  {
   "cell_type": "code",
   "execution_count": null,
   "metadata": {},
   "outputs": [],
   "source": [
    "df$holiday <- as.factor(df$holiday)\n",
    "df$season <- as.factor(df$season)\n",
    "df$mnth <- as.factor(df$mnth)\n",
    "df$workingday <- as.factor(df$workingday)\n",
    "df$weathersit <- as.factor(df$weathersit)\n",
    "df$weekday <- as.factor(df$weekday)"
   ]
  },
  {
   "cell_type": "markdown",
   "metadata": {},
   "source": [
    "# DATASET PARTITION"
   ]
  },
  {
   "cell_type": "code",
   "execution_count": null,
   "metadata": {},
   "outputs": [],
   "source": [
    "tab1 <- train_test(data=df, train_name=\"train\", test_name=\"test\", prop=0.7, seed=5, tableone=TRUE)\n",
    "tab1"
   ]
  },
  {
   "cell_type": "code",
   "execution_count": null,
   "metadata": {},
   "outputs": [],
   "source": [
    "tab1 %>% filter(pval < 0.05)"
   ]
  },
  {
   "cell_type": "markdown",
   "metadata": {},
   "source": [
    "# MODELS"
   ]
  },
  {
   "cell_type": "code",
   "execution_count": null,
   "metadata": {},
   "outputs": [],
   "source": [
    "### The error we will use is the RMSE and RMSLE\n",
    "rmse <- function(y,y_hat) {\n",
    "    err <- sqrt(sum((y_hat-y)^2,na.rm=T)/length(y))\n",
    "    return(err)\n",
    "}\n",
    "\n",
    "rmsle <- function(y,y_hat) {\n",
    "    err <- sqrt(sum((log(y_hat+1)-log(y+1))^2,na.rm=T)/length(y))\n",
    "    return(err)\n",
    "}\n"
   ]
  },
  {
   "cell_type": "code",
   "execution_count": null,
   "metadata": {},
   "outputs": [],
   "source": [
    "### Table of resulting errors\n",
    "### Name, Model, RMSE, RMSLE\n",
    "err_res <- NULL"
   ]
  },
  {
   "cell_type": "markdown",
   "metadata": {},
   "source": [
    "## Linear Models"
   ]
  },
  {
   "cell_type": "code",
   "execution_count": null,
   "metadata": {},
   "outputs": [],
   "source": [
    "## model with only the original variables\n",
    "mod1 <- lm(tip ~., data=train)\n",
    "summary(mod1)"
   ]
  },
  {
   "cell_type": "code",
   "execution_count": null,
   "metadata": {},
   "outputs": [],
   "source": [
    "pred1 <- predict(mod1,newdata=test)\n",
    "rmse(test$tip,pred1)\n",
    "rmsle(test$tip,pred1)\n",
    "err_res <- rbind(err_res, data.frame(Name=\"Base Linear regression\", Model=\"mod1\", \n",
    "                                     RMSE=rmse(test$tip,pred1), \n",
    "                                     RMSLE=rmsle(test$tip,pred1)))"
   ]
  },
  {
   "cell_type": "code",
   "execution_count": null,
   "metadata": {},
   "outputs": [],
   "source": [
    "## model with all the variables\n",
    "mod2 <- lm(tip ~., data=train)\n",
    "summary(mod2)"
   ]
  },
  {
   "cell_type": "code",
   "execution_count": null,
   "metadata": {},
   "outputs": [],
   "source": [
    "pred2 <- predict(mod2,newdata=test)\n",
    "rmse(test$tip,pred2)\n",
    "rmsle(test$tip,pred2)\n",
    "err_res <- rbind(err_res, data.frame(Name=\"Extended Linear regression\", Model=\"mod2\", \n",
    "                                     RMSE=rmse(test$tip,pred2), \n",
    "                                     RMSLE=rmsle(test$tip,pred2)))"
   ]
  },
  {
   "cell_type": "markdown",
   "metadata": {},
   "source": [
    "## Desicion trees"
   ]
  },
  {
   "cell_type": "code",
   "execution_count": null,
   "metadata": {},
   "outputs": [],
   "source": [
    "library(tree)\n",
    "library(rpart)"
   ]
  },
  {
   "cell_type": "code",
   "execution_count": null,
   "metadata": {},
   "outputs": [],
   "source": [
    "mod3 <- tree(tip ~., data=train)\n",
    "mod3"
   ]
  },
  {
   "cell_type": "code",
   "execution_count": null,
   "metadata": {},
   "outputs": [],
   "source": [
    "pred3 <- predict(mod3,newdata=test)\n",
    "rmse(test$tip,pred3)\n",
    "rmsle(test$tip,pred3)\n",
    "err_res <- rbind(err_res, data.frame(Name=\"Decision Trees-tree\", Model=\"mod3\", \n",
    "                                     RMSE=rmse(test$tip,pred3), \n",
    "                                     RMSLE=rmsle(test$tip,pred3)))"
   ]
  },
  {
   "cell_type": "code",
   "execution_count": null,
   "metadata": {},
   "outputs": [],
   "source": [
    "mod4 <- rpart(tip ~., data=train)\n",
    "mod4"
   ]
  },
  {
   "cell_type": "code",
   "execution_count": null,
   "metadata": {},
   "outputs": [],
   "source": [
    "pred4 <- predict(mod4,newdata=test)\n",
    "rmse(test$tip,pred4)\n",
    "rmsle(test$tip,pred4)\n",
    "err_res <- rbind(err_res, data.frame(Name=\"Decision Trees-rpart\", Model=\"mod4\", \n",
    "                                     RMSE=rmse(test$tip,pred4), \n",
    "                                     RMSLE=rmsle(test$tip,pred4)))"
   ]
  },
  {
   "cell_type": "markdown",
   "metadata": {},
   "source": [
    "## Random Forest"
   ]
  },
  {
   "cell_type": "code",
   "execution_count": null,
   "metadata": {},
   "outputs": [],
   "source": [
    "library(randomForest)\n",
    "library(ranger)"
   ]
  },
  {
   "cell_type": "code",
   "execution_count": null,
   "metadata": {},
   "outputs": [],
   "source": [
    "#mod5 <- randomForest(tip ~., data=train)\n",
    "#mod5"
   ]
  },
  {
   "cell_type": "code",
   "execution_count": null,
   "metadata": {},
   "outputs": [],
   "source": [
    "#pred5 <- predict(mod5,newdata=test)\n",
    "#rmse(test$tip,pred5)\n",
    "#rmsle(test$tip,pred5)"
   ]
  },
  {
   "cell_type": "code",
   "execution_count": null,
   "metadata": {},
   "outputs": [],
   "source": [
    "mod6 <- ranger(tip ~., data=train)\n",
    "mod6"
   ]
  },
  {
   "cell_type": "code",
   "execution_count": null,
   "metadata": {},
   "outputs": [],
   "source": [
    "pred6 <- predict(mod6,data=test)\n",
    "#head(pred6)\n",
    "rmse(test$tip,pred6$predictions)\n",
    "rmsle(test$tip,pred6$predictions)\n",
    "err_res <- rbind(err_res, data.frame(Name=\"RandomForest (ranger)\", Model=\"mod6\", \n",
    "                                     RMSE=rmse(test$tip,pred6$predictions), \n",
    "                                     RMSLE=rmsle(test$tip,pred6$predictions)))"
   ]
  },
  {
   "cell_type": "markdown",
   "metadata": {},
   "source": [
    "## XGBoost"
   ]
  },
  {
   "cell_type": "code",
   "execution_count": null,
   "metadata": {},
   "outputs": [],
   "source": [
    "library(xgboost)"
   ]
  },
  {
   "cell_type": "code",
   "execution_count": null,
   "metadata": {},
   "outputs": [],
   "source": [
    "train1 <- Matrix::sparse.model.matrix(tip ~ .-1, data = train)"
   ]
  },
  {
   "cell_type": "code",
   "execution_count": null,
   "metadata": {},
   "outputs": [],
   "source": [
    "test1 <- Matrix::sparse.model.matrix(tip ~ .-1, data = test)"
   ]
  },
  {
   "cell_type": "code",
   "execution_count": null,
   "metadata": {},
   "outputs": [],
   "source": [
    "#X_train <- xgb.DMatrix(train1)\n",
    "X_train <- train1\n",
    "y_train <- train$tip\n",
    "mod7 <- xgboost(data=X_train,label=y_train, nrounds=100,print_every_n = 10)"
   ]
  },
  {
   "cell_type": "code",
   "execution_count": null,
   "metadata": {},
   "outputs": [],
   "source": [
    "#X_test <- xgb.DMatrix(test1)\n",
    "X_test <- test1\n",
    "y_test <- test$tip\n",
    "\n",
    "pred7 <- predict(mod7,newdata=X_test)\n",
    "rmse(y_test,pred7)\n",
    "rmsle(y_test,pred7)\n",
    "err_res <- rbind(err_res, data.frame(Name=\"XGBoost\", Model=\"mod7\", \n",
    "                                     RMSE=rmse(test$tip,pred7), \n",
    "                                     RMSLE=rmsle(test$tip,pred7)))"
   ]
  },
  {
   "cell_type": "markdown",
   "metadata": {},
   "source": [
    "## kNN "
   ]
  },
  {
   "cell_type": "code",
   "execution_count": null,
   "metadata": {},
   "outputs": [],
   "source": [
    "### adaboost needs that values to be normalized\n",
    "min_max <- function(x) { (x -min(x))/(max(x)-min(x))   }"
   ]
  },
  {
   "cell_type": "code",
   "execution_count": null,
   "metadata": {},
   "outputs": [],
   "source": [
    "X_train <- sapply(data.frame(as.matrix(train1)),min_max)"
   ]
  },
  {
   "cell_type": "code",
   "execution_count": null,
   "metadata": {},
   "outputs": [],
   "source": [
    "X_test <- sapply(data.frame(as.matrix(test1)),min_max)"
   ]
  },
  {
   "cell_type": "code",
   "execution_count": null,
   "metadata": {},
   "outputs": [],
   "source": [
    "summary(X_train)"
   ]
  },
  {
   "cell_type": "code",
   "execution_count": null,
   "metadata": {},
   "outputs": [],
   "source": [
    "library(class)\n",
    "mod8 <- knn(X_train,X_test,cl=train$tip)"
   ]
  },
  {
   "cell_type": "code",
   "execution_count": null,
   "metadata": {},
   "outputs": [],
   "source": [
    "str(mod8)"
   ]
  },
  {
   "cell_type": "code",
   "execution_count": null,
   "metadata": {},
   "outputs": [],
   "source": [
    "pred8 <- as.numeric(as.character(mod8))\n",
    "\n",
    "rmse(test$tip,pred8)\n",
    "rmsle(test$tip,pred8)\n",
    "err_res <- rbind(err_res, data.frame(Name=\"kNN\", Model=\"mod8\", \n",
    "                                     RMSE=rmse(test$tip,pred8), \n",
    "                                     RMSLE=rmsle(test$tip,pred8)))"
   ]
  },
  {
   "cell_type": "markdown",
   "metadata": {},
   "source": [
    "## SVM"
   ]
  },
  {
   "cell_type": "code",
   "execution_count": null,
   "metadata": {},
   "outputs": [],
   "source": [
    "#install.packages(\"liquidSVM\")\n",
    "library(liquidSVM)\n",
    "\n",
    "mod9 <- svm(tip ~., train)"
   ]
  },
  {
   "cell_type": "code",
   "execution_count": null,
   "metadata": {},
   "outputs": [],
   "source": [
    "pred9 <- predict(mod9, newdata=test)\n",
    "\n",
    "rmse(test$tip,pred9)\n",
    "rmsle(test$tip,pred9)\n",
    "err_res <- rbind(err_res, data.frame(Name=\"SVM\", Model=\"mod9\", \n",
    "                                     RMSE=rmse(test$tip,pred9), \n",
    "                                     RMSLE=rmsle(test$tip,pred9)))"
   ]
  },
  {
   "cell_type": "code",
   "execution_count": null,
   "metadata": {},
   "outputs": [],
   "source": [
    "err_res %>% arrange(RMSLE)"
   ]
  }
 ],
 "metadata": {
  "kernelspec": {
   "display_name": "R",
   "language": "R",
   "name": "ir"
  },
  "language_info": {
   "codemirror_mode": "r",
   "file_extension": ".r",
   "mimetype": "text/x-r-source",
   "name": "R",
   "pygments_lexer": "r",
   "version": "3.6.1"
  }
 },
 "nbformat": 4,
 "nbformat_minor": 2
}
