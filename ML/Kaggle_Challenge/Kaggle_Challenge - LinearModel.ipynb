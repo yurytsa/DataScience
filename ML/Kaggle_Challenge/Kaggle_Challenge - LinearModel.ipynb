{
 "cells": [
  {
   "cell_type": "markdown",
   "metadata": {},
   "source": [
    "# Regression Models in R (tips)"
   ]
  },
  {
   "cell_type": "code",
   "execution_count": 4,
   "metadata": {},
   "outputs": [],
   "source": [
    "if(!exists(\"Table1\", mode=\"function\")) source(\"mechkar.R\")"
   ]
  },
  {
   "cell_type": "code",
   "execution_count": 5,
   "metadata": {},
   "outputs": [
    {
     "name": "stderr",
     "output_type": "stream",
     "text": [
      "Warning message:\n",
      "\"package 'dplyr' was built under R version 4.0.2\"\n",
      "\n",
      "Attaching package: 'dplyr'\n",
      "\n",
      "\n",
      "The following objects are masked from 'package:stats':\n",
      "\n",
      "    filter, lag\n",
      "\n",
      "\n",
      "The following objects are masked from 'package:base':\n",
      "\n",
      "    intersect, setdiff, setequal, union\n",
      "\n",
      "\n",
      "Warning message:\n",
      "\"package 'ggplot2' was built under R version 4.0.2\"\n"
     ]
    }
   ],
   "source": [
    "\n",
    "library(readr)\n",
    "library(dplyr)\n",
    "library(ggplot2)\n"
   ]
  },
  {
   "cell_type": "code",
   "execution_count": 6,
   "metadata": {},
   "outputs": [
    {
     "data": {
      "text/html": [
       "<table>\n",
       "<caption>A data.frame: 6 × 12</caption>\n",
       "<thead>\n",
       "\t<tr><th></th><th scope=col>id</th><th scope=col>season</th><th scope=col>mnth</th><th scope=col>holiday</th><th scope=col>weekday</th><th scope=col>workingday</th><th scope=col>weathersit</th><th scope=col>temp</th><th scope=col>atemp</th><th scope=col>hum</th><th scope=col>windspeed</th><th scope=col>cnt</th></tr>\n",
       "\t<tr><th></th><th scope=col>&lt;int&gt;</th><th scope=col>&lt;int&gt;</th><th scope=col>&lt;int&gt;</th><th scope=col>&lt;int&gt;</th><th scope=col>&lt;int&gt;</th><th scope=col>&lt;int&gt;</th><th scope=col>&lt;int&gt;</th><th scope=col>&lt;dbl&gt;</th><th scope=col>&lt;dbl&gt;</th><th scope=col>&lt;dbl&gt;</th><th scope=col>&lt;dbl&gt;</th><th scope=col>&lt;int&gt;</th></tr>\n",
       "</thead>\n",
       "<tbody>\n",
       "\t<tr><th scope=row>1</th><td>1</td><td>1</td><td>1</td><td>0</td><td>6</td><td>0</td><td>2</td><td>0.344167</td><td>0.363625</td><td>0.805833</td><td>0.1604460</td><td> 985</td></tr>\n",
       "\t<tr><th scope=row>2</th><td>2</td><td>1</td><td>1</td><td>0</td><td>0</td><td>0</td><td>2</td><td>0.363478</td><td>0.353739</td><td>0.696087</td><td>0.2485390</td><td> 801</td></tr>\n",
       "\t<tr><th scope=row>3</th><td>3</td><td>1</td><td>1</td><td>0</td><td>1</td><td>1</td><td>1</td><td>0.196364</td><td>0.189405</td><td>0.437273</td><td>0.2483090</td><td>1349</td></tr>\n",
       "\t<tr><th scope=row>4</th><td>4</td><td>1</td><td>1</td><td>0</td><td>2</td><td>1</td><td>1</td><td>0.200000</td><td>0.212122</td><td>0.590435</td><td>0.1602960</td><td>1562</td></tr>\n",
       "\t<tr><th scope=row>5</th><td>5</td><td>1</td><td>1</td><td>0</td><td>3</td><td>1</td><td>1</td><td>0.226957</td><td>0.229270</td><td>0.436957</td><td>0.1869000</td><td>1600</td></tr>\n",
       "\t<tr><th scope=row>6</th><td>6</td><td>1</td><td>1</td><td>0</td><td>4</td><td>1</td><td>1</td><td>0.204348</td><td>0.233209</td><td>0.518261</td><td>0.0895652</td><td>1606</td></tr>\n",
       "</tbody>\n",
       "</table>\n"
      ],
      "text/latex": [
       "A data.frame: 6 × 12\n",
       "\\begin{tabular}{r|llllllllllll}\n",
       "  & id & season & mnth & holiday & weekday & workingday & weathersit & temp & atemp & hum & windspeed & cnt\\\\\n",
       "  & <int> & <int> & <int> & <int> & <int> & <int> & <int> & <dbl> & <dbl> & <dbl> & <dbl> & <int>\\\\\n",
       "\\hline\n",
       "\t1 & 1 & 1 & 1 & 0 & 6 & 0 & 2 & 0.344167 & 0.363625 & 0.805833 & 0.1604460 &  985\\\\\n",
       "\t2 & 2 & 1 & 1 & 0 & 0 & 0 & 2 & 0.363478 & 0.353739 & 0.696087 & 0.2485390 &  801\\\\\n",
       "\t3 & 3 & 1 & 1 & 0 & 1 & 1 & 1 & 0.196364 & 0.189405 & 0.437273 & 0.2483090 & 1349\\\\\n",
       "\t4 & 4 & 1 & 1 & 0 & 2 & 1 & 1 & 0.200000 & 0.212122 & 0.590435 & 0.1602960 & 1562\\\\\n",
       "\t5 & 5 & 1 & 1 & 0 & 3 & 1 & 1 & 0.226957 & 0.229270 & 0.436957 & 0.1869000 & 1600\\\\\n",
       "\t6 & 6 & 1 & 1 & 0 & 4 & 1 & 1 & 0.204348 & 0.233209 & 0.518261 & 0.0895652 & 1606\\\\\n",
       "\\end{tabular}\n"
      ],
      "text/markdown": [
       "\n",
       "A data.frame: 6 × 12\n",
       "\n",
       "| <!--/--> | id &lt;int&gt; | season &lt;int&gt; | mnth &lt;int&gt; | holiday &lt;int&gt; | weekday &lt;int&gt; | workingday &lt;int&gt; | weathersit &lt;int&gt; | temp &lt;dbl&gt; | atemp &lt;dbl&gt; | hum &lt;dbl&gt; | windspeed &lt;dbl&gt; | cnt &lt;int&gt; |\n",
       "|---|---|---|---|---|---|---|---|---|---|---|---|---|\n",
       "| 1 | 1 | 1 | 1 | 0 | 6 | 0 | 2 | 0.344167 | 0.363625 | 0.805833 | 0.1604460 |  985 |\n",
       "| 2 | 2 | 1 | 1 | 0 | 0 | 0 | 2 | 0.363478 | 0.353739 | 0.696087 | 0.2485390 |  801 |\n",
       "| 3 | 3 | 1 | 1 | 0 | 1 | 1 | 1 | 0.196364 | 0.189405 | 0.437273 | 0.2483090 | 1349 |\n",
       "| 4 | 4 | 1 | 1 | 0 | 2 | 1 | 1 | 0.200000 | 0.212122 | 0.590435 | 0.1602960 | 1562 |\n",
       "| 5 | 5 | 1 | 1 | 0 | 3 | 1 | 1 | 0.226957 | 0.229270 | 0.436957 | 0.1869000 | 1600 |\n",
       "| 6 | 6 | 1 | 1 | 0 | 4 | 1 | 1 | 0.204348 | 0.233209 | 0.518261 | 0.0895652 | 1606 |\n",
       "\n"
      ],
      "text/plain": [
       "  id season mnth holiday weekday workingday weathersit temp     atemp   \n",
       "1 1  1      1    0       6       0          2          0.344167 0.363625\n",
       "2 2  1      1    0       0       0          2          0.363478 0.353739\n",
       "3 3  1      1    0       1       1          1          0.196364 0.189405\n",
       "4 4  1      1    0       2       1          1          0.200000 0.212122\n",
       "5 5  1      1    0       3       1          1          0.226957 0.229270\n",
       "6 6  1      1    0       4       1          1          0.204348 0.233209\n",
       "  hum      windspeed cnt \n",
       "1 0.805833 0.1604460  985\n",
       "2 0.696087 0.2485390  801\n",
       "3 0.437273 0.2483090 1349\n",
       "4 0.590435 0.1602960 1562\n",
       "5 0.436957 0.1869000 1600\n",
       "6 0.518261 0.0895652 1606"
      ]
     },
     "metadata": {},
     "output_type": "display_data"
    },
    {
     "data": {
      "text/html": [
       "<style>\n",
       ".list-inline {list-style: none; margin:0; padding: 0}\n",
       ".list-inline>li {display: inline-block}\n",
       ".list-inline>li:not(:last-child)::after {content: \"\\00b7\"; padding: 0 .5ex}\n",
       "</style>\n",
       "<ol class=list-inline><li>365</li><li>12</li></ol>\n"
      ],
      "text/latex": [
       "\\begin{enumerate*}\n",
       "\\item 365\n",
       "\\item 12\n",
       "\\end{enumerate*}\n"
      ],
      "text/markdown": [
       "1. 365\n",
       "2. 12\n",
       "\n",
       "\n"
      ],
      "text/plain": [
       "[1] 365  12"
      ]
     },
     "metadata": {},
     "output_type": "display_data"
    }
   ],
   "source": [
    "df <- read.csv(\"train.csv\")\n",
    "head(df)\n",
    "dim(df)"
   ]
  },
  {
   "cell_type": "markdown",
   "metadata": {},
   "source": [
    "Data Set Information:\n",
    "\n",
    "Bike sharing systems are new generation of traditional bike rentals where whole process from membership, rental and return back has become automatic. Through these systems, user is able to easily rent a bike from a particular position and return back at another position. Currently, there are about over 500 bike-sharing programs around the world which is composed of over 500 thousands bicycles. Today, there exists great interest in these systems due to their important role in traffic, environmental and health issues.\n",
    "\n",
    "Apart from interesting real world applications of bike sharing systems, the characteristics of data being generated by these systems make them attractive for the research. Opposed to other transport services such as bus or subway, the duration of travel, departure and arrival position is explicitly recorded in these systems. This feature turns bike sharing system into a virtual sensor network that can be used for sensing mobility in the city. Hence, it is expected that most of important events in the city could be detected via monitoring these data.\n",
    "\n",
    "\n",
    "Attribute Information:\n",
    "\n",
    "Both hour.csv and day.csv have the following fields, except hr which is not available in day.csv\n",
    "\n",
    "- instant: record index\n",
    "- season : season (1:winter, 2:spring, 3:summer, 4:fall)\n",
    "- mnth : month ( 1 to 12)\n",
    "- hr : hour (0 to 23)\n",
    "- holiday : weather day is holiday or not (extracted from [Web Link])\n",
    "- weekday : day of the week\n",
    "- workingday : if day is neither weekend nor holiday is 1, otherwise is 0.\n",
    "+ weathersit :\n",
    "- 1: Clear, Few clouds, Partly cloudy, Partly cloudy\n",
    "- 2: Mist + Cloudy, Mist + Broken clouds, Mist + Few clouds, Mist\n",
    "- 3: Light Snow, Light Rain + Thunderstorm + Scattered clouds, Light Rain + Scattered clouds\n",
    "- 4: Heavy Rain + Ice Pallets + Thunderstorm + Mist, Snow + Fog\n",
    "- temp : Normalized temperature in Celsius. The values are derived via (t-t_min)/(t_max-t_min), t_min=-8, t_max=+39 (only in hourly scale)\n",
    "- atemp: Normalized feeling temperature in Celsius. The values are derived via (t-t_min)/(t_max-t_min), t_min=-16, t_max=+50 (only in hourly scale)\n",
    "- hum: Normalized humidity. The values are divided to 100 (max)\n",
    "- windspeed: Normalized wind speed. The values are divided to 67 (max)\n",
    "- casual: count of casual users\n",
    "- registered: count of registered users\n",
    "- cnt: count of total rental bikes including both casual and registered"
   ]
  },
  {
   "cell_type": "markdown",
   "metadata": {},
   "source": [
    "# DATASET PARTITION"
   ]
  },
  {
   "cell_type": "code",
   "execution_count": 7,
   "metadata": {},
   "outputs": [
    {
     "name": "stderr",
     "output_type": "stream",
     "text": [
      "Dataset partitioned into:\n",
      "\n",
      " + Train dataset: train\n",
      "\n",
      " + Test dataset: test\n",
      "\n",
      "Warning message in Table1(data = df, y = \"traintest_ind_\", messages = FALSE):\n",
      "\"The following variables have unique values and will not be included in the analysis: \"\n"
     ]
    },
    {
     "name": "stdout",
     "output_type": "stream",
     "text": [
      "  |======================================================================| 100%"
     ]
    },
    {
     "name": "stderr",
     "output_type": "stream",
     "text": [
      "Warning message:\n",
      "\"The `x` argument of `as_tibble.matrix()` must have unique column names if `.name_repair` is omitted as of tibble 2.0.0.\n",
      "Using compatibility `.name_repair`.\n",
      "\u001b[90mThis warning is displayed once every 8 hours.\u001b[39m\n",
      "\u001b[90mCall `lifecycle::last_warnings()` to see where this warning was generated.\u001b[39m\"\n"
     ]
    },
    {
     "name": "stdout",
     "output_type": "stream",
     "text": [
      "  |=================================================================     |  92%"
     ]
    },
    {
     "name": "stderr",
     "output_type": "stream",
     "text": [
      " \n",
      "\n",
      "You got a perfectly balanced training and test datasets\n",
      "\n",
      " \n",
      "\n"
     ]
    },
    {
     "data": {
      "text/html": [
       "<table>\n",
       "<caption>A tibble: 27 × 6</caption>\n",
       "<thead>\n",
       "\t<tr><th scope=col>V1</th><th scope=col>V2</th><th scope=col>Pop</th><th scope=col>1</th><th scope=col>2</th><th scope=col>pval</th></tr>\n",
       "\t<tr><th scope=col>&lt;chr&gt;</th><th scope=col>&lt;chr&gt;</th><th scope=col>&lt;chr&gt;</th><th scope=col>&lt;chr&gt;</th><th scope=col>&lt;chr&gt;</th><th scope=col>&lt;chr&gt;</th></tr>\n",
       "</thead>\n",
       "<tbody>\n",
       "\t<tr><td>Individuals   </td><td>n           </td><td>365                      </td><td>255                      </td><td>110                      </td><td>NA   </td></tr>\n",
       "\t<tr><td>id            </td><td>Mean (SD)   </td><td>183.0 (105.5)            </td><td>183.7 (105.0)            </td><td>181.4 (107.2)            </td><td>NA   </td></tr>\n",
       "\t<tr><td>id            </td><td>Median (IQR)</td><td>183.0 (92.0-274.0)       </td><td>181.0 (92.5-272.5)       </td><td>184.5 (88.0-277.0)       </td><td>0.854</td></tr>\n",
       "\t<tr><td>season        </td><td>Mean (SD)   </td><td>2.5 (1.1)                </td><td>2.5 (1.1)                </td><td>2.5 (1.1)                </td><td>NA   </td></tr>\n",
       "\t<tr><td>season        </td><td>Median (IQR)</td><td>3.0 (2.0-3.0)            </td><td>2.0 (2.0-3.0)            </td><td>3.0 (1.2-3.8)            </td><td>0.826</td></tr>\n",
       "\t<tr><td>mnth          </td><td>Mean (SD)   </td><td>6.5 (3.5)                </td><td>6.5 (3.4)                </td><td>6.5 (3.5)                </td><td>NA   </td></tr>\n",
       "\t<tr><td>mnth          </td><td>Median (IQR)</td><td>7.0 (4.0-10.0)           </td><td>6.0 (4.0-9.0)            </td><td>7.0 (3.2-10.0)           </td><td>0.873</td></tr>\n",
       "\t<tr><td>holiday       </td><td>Mean (SD)   </td><td>0.0 (0.2)                </td><td>0.0 (0.1)                </td><td>0.0 (0.2)                </td><td>NA   </td></tr>\n",
       "\t<tr><td>holiday       </td><td>Median (IQR)</td><td>0.0 (0.0-0.0)            </td><td>0.0 (0.0-0.0)            </td><td>0.0 (0.0-0.0)            </td><td>0.238</td></tr>\n",
       "\t<tr><td>weekday       </td><td>Mean (SD)   </td><td>3.0 (2.0)                </td><td>3.1 (2.0)                </td><td>2.9 (2.0)                </td><td>NA   </td></tr>\n",
       "\t<tr><td>weekday       </td><td>Median (IQR)</td><td>3.0 (1.0-5.0)            </td><td>3.0 (1.0-5.0)            </td><td>3.0 (1.0-4.8)            </td><td>0.337</td></tr>\n",
       "\t<tr><td>workingday    </td><td>Mean (SD)   </td><td>0.7 (0.5)                </td><td>0.7 (0.5)                </td><td>0.7 (0.5)                </td><td>NA   </td></tr>\n",
       "\t<tr><td>workingday    </td><td>Median (IQR)</td><td>1.0 (0.0-1.0)            </td><td>1.0 (0.0-1.0)            </td><td>1.0 (0.0-1.0)            </td><td>0.933</td></tr>\n",
       "\t<tr><td>weathersit    </td><td>Mean (SD)   </td><td>1.4 (0.6)                </td><td>1.4 (0.6)                </td><td>1.4 (0.6)                </td><td>NA   </td></tr>\n",
       "\t<tr><td>weathersit    </td><td>Median (IQR)</td><td>1.0 (1.0-2.0)            </td><td>1.0 (1.0-2.0)            </td><td>1.0 (1.0-2.0)            </td><td>0.497</td></tr>\n",
       "\t<tr><td>temp          </td><td>Mean (SD)   </td><td>0.5 (0.2)                </td><td>0.5 (0.2)                </td><td>0.5 (0.2)                </td><td>NA   </td></tr>\n",
       "\t<tr><td>temp          </td><td>Median (IQR)</td><td>0.5 (0.3-0.7)            </td><td>0.5 (0.3-0.7)            </td><td>0.5 (0.3-0.7)            </td><td>0.633</td></tr>\n",
       "\t<tr><td>atemp         </td><td>Mean (SD)   </td><td>0.5 (0.2)                </td><td>0.5 (0.2)                </td><td>0.5 (0.2)                </td><td>NA   </td></tr>\n",
       "\t<tr><td>atemp         </td><td>Median (IQR)</td><td>0.5 (0.3-0.6)            </td><td>0.5 (0.3-0.6)            </td><td>0.5 (0.3-0.6)            </td><td>0.681</td></tr>\n",
       "\t<tr><td>hum           </td><td>Mean (SD)   </td><td>0.6 (0.1)                </td><td>0.6 (0.2)                </td><td>0.7 (0.1)                </td><td>NA   </td></tr>\n",
       "\t<tr><td>hum           </td><td>Median (IQR)</td><td>0.6 (0.5-0.7)            </td><td>0.6 (0.5-0.7)            </td><td>0.6 (0.5-0.7)            </td><td>0.53 </td></tr>\n",
       "\t<tr><td>windspeed     </td><td>Mean (SD)   </td><td>0.2 (0.1)                </td><td>0.2 (0.1)                </td><td>0.2 (0.1)                </td><td>NA   </td></tr>\n",
       "\t<tr><td>windspeed     </td><td>Median (IQR)</td><td>0.2 (0.1-0.2)            </td><td>0.2 (0.1-0.2)            </td><td>0.2 (0.1-0.2)            </td><td>0.704</td></tr>\n",
       "\t<tr><td>cnt           </td><td>Mean (SD)   </td><td>3,405.8 (1,378.8)        </td><td>3,443.5 (1,363.5)        </td><td>3,318.2 (1,415.8)        </td><td>NA   </td></tr>\n",
       "\t<tr><td>cnt           </td><td>Median (IQR)</td><td>3,740.0 (2,132.0-4,586.0)</td><td>3,750.0 (2,185.5-4,591.0)</td><td>3,577.5 (1,916.5-4,546.2)</td><td>0.426</td></tr>\n",
       "\t<tr><td>traintest_ind_</td><td>Mean (SD)   </td><td>1.3 (0.5)                </td><td>NA                       </td><td>NA                       </td><td>NA   </td></tr>\n",
       "\t<tr><td>traintest_ind_</td><td>Median (IQR)</td><td>1.0 (1.0-2.0)            </td><td>NA                       </td><td>NA                       </td><td>0    </td></tr>\n",
       "</tbody>\n",
       "</table>\n"
      ],
      "text/latex": [
       "A tibble: 27 × 6\n",
       "\\begin{tabular}{llllll}\n",
       " V1 & V2 & Pop & 1 & 2 & pval\\\\\n",
       " <chr> & <chr> & <chr> & <chr> & <chr> & <chr>\\\\\n",
       "\\hline\n",
       "\t Individuals    & n            & 365                       & 255                       & 110                       & NA   \\\\\n",
       "\t id             & Mean (SD)    & 183.0 (105.5)             & 183.7 (105.0)             & 181.4 (107.2)             & NA   \\\\\n",
       "\t id             & Median (IQR) & 183.0 (92.0-274.0)        & 181.0 (92.5-272.5)        & 184.5 (88.0-277.0)        & 0.854\\\\\n",
       "\t season         & Mean (SD)    & 2.5 (1.1)                 & 2.5 (1.1)                 & 2.5 (1.1)                 & NA   \\\\\n",
       "\t season         & Median (IQR) & 3.0 (2.0-3.0)             & 2.0 (2.0-3.0)             & 3.0 (1.2-3.8)             & 0.826\\\\\n",
       "\t mnth           & Mean (SD)    & 6.5 (3.5)                 & 6.5 (3.4)                 & 6.5 (3.5)                 & NA   \\\\\n",
       "\t mnth           & Median (IQR) & 7.0 (4.0-10.0)            & 6.0 (4.0-9.0)             & 7.0 (3.2-10.0)            & 0.873\\\\\n",
       "\t holiday        & Mean (SD)    & 0.0 (0.2)                 & 0.0 (0.1)                 & 0.0 (0.2)                 & NA   \\\\\n",
       "\t holiday        & Median (IQR) & 0.0 (0.0-0.0)             & 0.0 (0.0-0.0)             & 0.0 (0.0-0.0)             & 0.238\\\\\n",
       "\t weekday        & Mean (SD)    & 3.0 (2.0)                 & 3.1 (2.0)                 & 2.9 (2.0)                 & NA   \\\\\n",
       "\t weekday        & Median (IQR) & 3.0 (1.0-5.0)             & 3.0 (1.0-5.0)             & 3.0 (1.0-4.8)             & 0.337\\\\\n",
       "\t workingday     & Mean (SD)    & 0.7 (0.5)                 & 0.7 (0.5)                 & 0.7 (0.5)                 & NA   \\\\\n",
       "\t workingday     & Median (IQR) & 1.0 (0.0-1.0)             & 1.0 (0.0-1.0)             & 1.0 (0.0-1.0)             & 0.933\\\\\n",
       "\t weathersit     & Mean (SD)    & 1.4 (0.6)                 & 1.4 (0.6)                 & 1.4 (0.6)                 & NA   \\\\\n",
       "\t weathersit     & Median (IQR) & 1.0 (1.0-2.0)             & 1.0 (1.0-2.0)             & 1.0 (1.0-2.0)             & 0.497\\\\\n",
       "\t temp           & Mean (SD)    & 0.5 (0.2)                 & 0.5 (0.2)                 & 0.5 (0.2)                 & NA   \\\\\n",
       "\t temp           & Median (IQR) & 0.5 (0.3-0.7)             & 0.5 (0.3-0.7)             & 0.5 (0.3-0.7)             & 0.633\\\\\n",
       "\t atemp          & Mean (SD)    & 0.5 (0.2)                 & 0.5 (0.2)                 & 0.5 (0.2)                 & NA   \\\\\n",
       "\t atemp          & Median (IQR) & 0.5 (0.3-0.6)             & 0.5 (0.3-0.6)             & 0.5 (0.3-0.6)             & 0.681\\\\\n",
       "\t hum            & Mean (SD)    & 0.6 (0.1)                 & 0.6 (0.2)                 & 0.7 (0.1)                 & NA   \\\\\n",
       "\t hum            & Median (IQR) & 0.6 (0.5-0.7)             & 0.6 (0.5-0.7)             & 0.6 (0.5-0.7)             & 0.53 \\\\\n",
       "\t windspeed      & Mean (SD)    & 0.2 (0.1)                 & 0.2 (0.1)                 & 0.2 (0.1)                 & NA   \\\\\n",
       "\t windspeed      & Median (IQR) & 0.2 (0.1-0.2)             & 0.2 (0.1-0.2)             & 0.2 (0.1-0.2)             & 0.704\\\\\n",
       "\t cnt            & Mean (SD)    & 3,405.8 (1,378.8)         & 3,443.5 (1,363.5)         & 3,318.2 (1,415.8)         & NA   \\\\\n",
       "\t cnt            & Median (IQR) & 3,740.0 (2,132.0-4,586.0) & 3,750.0 (2,185.5-4,591.0) & 3,577.5 (1,916.5-4,546.2) & 0.426\\\\\n",
       "\t traintest\\_ind\\_ & Mean (SD)    & 1.3 (0.5)                 & NA                        & NA                        & NA   \\\\\n",
       "\t traintest\\_ind\\_ & Median (IQR) & 1.0 (1.0-2.0)             & NA                        & NA                        & 0    \\\\\n",
       "\\end{tabular}\n"
      ],
      "text/markdown": [
       "\n",
       "A tibble: 27 × 6\n",
       "\n",
       "| V1 &lt;chr&gt; | V2 &lt;chr&gt; | Pop &lt;chr&gt; | 1 &lt;chr&gt; | 2 &lt;chr&gt; | pval &lt;chr&gt; |\n",
       "|---|---|---|---|---|---|\n",
       "| Individuals    | n            | 365                       | 255                       | 110                       | NA    |\n",
       "| id             | Mean (SD)    | 183.0 (105.5)             | 183.7 (105.0)             | 181.4 (107.2)             | NA    |\n",
       "| id             | Median (IQR) | 183.0 (92.0-274.0)        | 181.0 (92.5-272.5)        | 184.5 (88.0-277.0)        | 0.854 |\n",
       "| season         | Mean (SD)    | 2.5 (1.1)                 | 2.5 (1.1)                 | 2.5 (1.1)                 | NA    |\n",
       "| season         | Median (IQR) | 3.0 (2.0-3.0)             | 2.0 (2.0-3.0)             | 3.0 (1.2-3.8)             | 0.826 |\n",
       "| mnth           | Mean (SD)    | 6.5 (3.5)                 | 6.5 (3.4)                 | 6.5 (3.5)                 | NA    |\n",
       "| mnth           | Median (IQR) | 7.0 (4.0-10.0)            | 6.0 (4.0-9.0)             | 7.0 (3.2-10.0)            | 0.873 |\n",
       "| holiday        | Mean (SD)    | 0.0 (0.2)                 | 0.0 (0.1)                 | 0.0 (0.2)                 | NA    |\n",
       "| holiday        | Median (IQR) | 0.0 (0.0-0.0)             | 0.0 (0.0-0.0)             | 0.0 (0.0-0.0)             | 0.238 |\n",
       "| weekday        | Mean (SD)    | 3.0 (2.0)                 | 3.1 (2.0)                 | 2.9 (2.0)                 | NA    |\n",
       "| weekday        | Median (IQR) | 3.0 (1.0-5.0)             | 3.0 (1.0-5.0)             | 3.0 (1.0-4.8)             | 0.337 |\n",
       "| workingday     | Mean (SD)    | 0.7 (0.5)                 | 0.7 (0.5)                 | 0.7 (0.5)                 | NA    |\n",
       "| workingday     | Median (IQR) | 1.0 (0.0-1.0)             | 1.0 (0.0-1.0)             | 1.0 (0.0-1.0)             | 0.933 |\n",
       "| weathersit     | Mean (SD)    | 1.4 (0.6)                 | 1.4 (0.6)                 | 1.4 (0.6)                 | NA    |\n",
       "| weathersit     | Median (IQR) | 1.0 (1.0-2.0)             | 1.0 (1.0-2.0)             | 1.0 (1.0-2.0)             | 0.497 |\n",
       "| temp           | Mean (SD)    | 0.5 (0.2)                 | 0.5 (0.2)                 | 0.5 (0.2)                 | NA    |\n",
       "| temp           | Median (IQR) | 0.5 (0.3-0.7)             | 0.5 (0.3-0.7)             | 0.5 (0.3-0.7)             | 0.633 |\n",
       "| atemp          | Mean (SD)    | 0.5 (0.2)                 | 0.5 (0.2)                 | 0.5 (0.2)                 | NA    |\n",
       "| atemp          | Median (IQR) | 0.5 (0.3-0.6)             | 0.5 (0.3-0.6)             | 0.5 (0.3-0.6)             | 0.681 |\n",
       "| hum            | Mean (SD)    | 0.6 (0.1)                 | 0.6 (0.2)                 | 0.7 (0.1)                 | NA    |\n",
       "| hum            | Median (IQR) | 0.6 (0.5-0.7)             | 0.6 (0.5-0.7)             | 0.6 (0.5-0.7)             | 0.53  |\n",
       "| windspeed      | Mean (SD)    | 0.2 (0.1)                 | 0.2 (0.1)                 | 0.2 (0.1)                 | NA    |\n",
       "| windspeed      | Median (IQR) | 0.2 (0.1-0.2)             | 0.2 (0.1-0.2)             | 0.2 (0.1-0.2)             | 0.704 |\n",
       "| cnt            | Mean (SD)    | 3,405.8 (1,378.8)         | 3,443.5 (1,363.5)         | 3,318.2 (1,415.8)         | NA    |\n",
       "| cnt            | Median (IQR) | 3,740.0 (2,132.0-4,586.0) | 3,750.0 (2,185.5-4,591.0) | 3,577.5 (1,916.5-4,546.2) | 0.426 |\n",
       "| traintest_ind_ | Mean (SD)    | 1.3 (0.5)                 | NA                        | NA                        | NA    |\n",
       "| traintest_ind_ | Median (IQR) | 1.0 (1.0-2.0)             | NA                        | NA                        | 0     |\n",
       "\n"
      ],
      "text/plain": [
       "   V1             V2           Pop                      \n",
       "1  Individuals    n            365                      \n",
       "2  id             Mean (SD)    183.0 (105.5)            \n",
       "3  id             Median (IQR) 183.0 (92.0-274.0)       \n",
       "4  season         Mean (SD)    2.5 (1.1)                \n",
       "5  season         Median (IQR) 3.0 (2.0-3.0)            \n",
       "6  mnth           Mean (SD)    6.5 (3.5)                \n",
       "7  mnth           Median (IQR) 7.0 (4.0-10.0)           \n",
       "8  holiday        Mean (SD)    0.0 (0.2)                \n",
       "9  holiday        Median (IQR) 0.0 (0.0-0.0)            \n",
       "10 weekday        Mean (SD)    3.0 (2.0)                \n",
       "11 weekday        Median (IQR) 3.0 (1.0-5.0)            \n",
       "12 workingday     Mean (SD)    0.7 (0.5)                \n",
       "13 workingday     Median (IQR) 1.0 (0.0-1.0)            \n",
       "14 weathersit     Mean (SD)    1.4 (0.6)                \n",
       "15 weathersit     Median (IQR) 1.0 (1.0-2.0)            \n",
       "16 temp           Mean (SD)    0.5 (0.2)                \n",
       "17 temp           Median (IQR) 0.5 (0.3-0.7)            \n",
       "18 atemp          Mean (SD)    0.5 (0.2)                \n",
       "19 atemp          Median (IQR) 0.5 (0.3-0.6)            \n",
       "20 hum            Mean (SD)    0.6 (0.1)                \n",
       "21 hum            Median (IQR) 0.6 (0.5-0.7)            \n",
       "22 windspeed      Mean (SD)    0.2 (0.1)                \n",
       "23 windspeed      Median (IQR) 0.2 (0.1-0.2)            \n",
       "24 cnt            Mean (SD)    3,405.8 (1,378.8)        \n",
       "25 cnt            Median (IQR) 3,740.0 (2,132.0-4,586.0)\n",
       "26 traintest_ind_ Mean (SD)    1.3 (0.5)                \n",
       "27 traintest_ind_ Median (IQR) 1.0 (1.0-2.0)            \n",
       "   1                         2                         pval \n",
       "1  255                       110                       NA   \n",
       "2  183.7 (105.0)             181.4 (107.2)             NA   \n",
       "3  181.0 (92.5-272.5)        184.5 (88.0-277.0)        0.854\n",
       "4  2.5 (1.1)                 2.5 (1.1)                 NA   \n",
       "5  2.0 (2.0-3.0)             3.0 (1.2-3.8)             0.826\n",
       "6  6.5 (3.4)                 6.5 (3.5)                 NA   \n",
       "7  6.0 (4.0-9.0)             7.0 (3.2-10.0)            0.873\n",
       "8  0.0 (0.1)                 0.0 (0.2)                 NA   \n",
       "9  0.0 (0.0-0.0)             0.0 (0.0-0.0)             0.238\n",
       "10 3.1 (2.0)                 2.9 (2.0)                 NA   \n",
       "11 3.0 (1.0-5.0)             3.0 (1.0-4.8)             0.337\n",
       "12 0.7 (0.5)                 0.7 (0.5)                 NA   \n",
       "13 1.0 (0.0-1.0)             1.0 (0.0-1.0)             0.933\n",
       "14 1.4 (0.6)                 1.4 (0.6)                 NA   \n",
       "15 1.0 (1.0-2.0)             1.0 (1.0-2.0)             0.497\n",
       "16 0.5 (0.2)                 0.5 (0.2)                 NA   \n",
       "17 0.5 (0.3-0.7)             0.5 (0.3-0.7)             0.633\n",
       "18 0.5 (0.2)                 0.5 (0.2)                 NA   \n",
       "19 0.5 (0.3-0.6)             0.5 (0.3-0.6)             0.681\n",
       "20 0.6 (0.2)                 0.7 (0.1)                 NA   \n",
       "21 0.6 (0.5-0.7)             0.6 (0.5-0.7)             0.53 \n",
       "22 0.2 (0.1)                 0.2 (0.1)                 NA   \n",
       "23 0.2 (0.1-0.2)             0.2 (0.1-0.2)             0.704\n",
       "24 3,443.5 (1,363.5)         3,318.2 (1,415.8)         NA   \n",
       "25 3,750.0 (2,185.5-4,591.0) 3,577.5 (1,916.5-4,546.2) 0.426\n",
       "26 NA                        NA                        NA   \n",
       "27 NA                        NA                        0    "
      ]
     },
     "metadata": {},
     "output_type": "display_data"
    }
   ],
   "source": [
    "tab1 <- train_test(data=df, train_name=\"train\", test_name=\"test\", prop=0.7, seed=5, tableone=TRUE)\n",
    "tab1"
   ]
  },
  {
   "cell_type": "markdown",
   "metadata": {},
   "source": [
    "# MODELS"
   ]
  },
  {
   "cell_type": "code",
   "execution_count": 10,
   "metadata": {},
   "outputs": [],
   "source": [
    "### The error we will use is the RMSE and RMSLE\n",
    "rmse <- function(y,y_hat) {\n",
    "    err <- sqrt(sum((y_hat-y)^2,na.rm=T)/length(y))\n",
    "    return(err)\n",
    "}\n",
    "\n",
    "rmsle <- function(y,y_hat) {\n",
    "    err <- sqrt(sum((log(y_hat+1)-log(y+1))^2,na.rm=T)/length(y))\n",
    "    return(err)\n",
    "}\n"
   ]
  },
  {
   "cell_type": "code",
   "execution_count": 11,
   "metadata": {},
   "outputs": [],
   "source": [
    "### Table of resulting errors\n",
    "### Name, Model, RMSE, RMSLE\n",
    "err_res <- NULL"
   ]
  },
  {
   "cell_type": "markdown",
   "metadata": {},
   "source": [
    "## Linear Models"
   ]
  },
  {
   "cell_type": "code",
   "execution_count": 12,
   "metadata": {},
   "outputs": [
    {
     "data": {
      "text/plain": [
       "\n",
       "Call:\n",
       "lm(formula = cnt ~ ., data = train)\n",
       "\n",
       "Residuals:\n",
       "     Min       1Q   Median       3Q      Max \n",
       "-2558.51  -358.88    30.21   386.08  1727.02 \n",
       "\n",
       "Coefficients:\n",
       "             Estimate Std. Error t value Pr(>|t|)    \n",
       "(Intercept)  1289.707    325.249   3.965 9.65e-05 ***\n",
       "id            -11.502      4.837  -2.378  0.01817 *  \n",
       "season        395.044     68.315   5.783 2.25e-08 ***\n",
       "mnth          352.691    149.102   2.365  0.01880 *  \n",
       "holiday       136.750    324.876   0.421  0.67418    \n",
       "weekday        17.646     21.747   0.811  0.41793    \n",
       "workingday     53.712     96.175   0.558  0.57703    \n",
       "weathersit   -565.436    100.400  -5.632 4.91e-08 ***\n",
       "temp         3120.640   2734.539   1.141  0.25491    \n",
       "atemp        1465.619   3085.389   0.475  0.63520    \n",
       "hum          -318.184    385.568  -0.825  0.41005    \n",
       "windspeed   -1682.138    637.657  -2.638  0.00888 ** \n",
       "---\n",
       "Signif. codes:  0 '***' 0.001 '**' 0.01 '*' 0.05 '.' 0.1 ' ' 1\n",
       "\n",
       "Residual standard error: 683.4 on 243 degrees of freedom\n",
       "Multiple R-squared:  0.7597,\tAdjusted R-squared:  0.7488 \n",
       "F-statistic: 69.82 on 11 and 243 DF,  p-value: < 2.2e-16\n"
      ]
     },
     "metadata": {},
     "output_type": "display_data"
    }
   ],
   "source": [
    "## model with only the original variables\n",
    "mod1 <- lm(cnt~., data=train)\n",
    "summary(mod1)\n"
   ]
  },
  {
   "cell_type": "code",
   "execution_count": 13,
   "metadata": {},
   "outputs": [
    {
     "data": {
      "text/html": [
       "712.259847211915"
      ],
      "text/latex": [
       "712.259847211915"
      ],
      "text/markdown": [
       "712.259847211915"
      ],
      "text/plain": [
       "[1] 712.2598"
      ]
     },
     "metadata": {},
     "output_type": "display_data"
    },
    {
     "data": {
      "text/html": [
       "0.291605602062033"
      ],
      "text/latex": [
       "0.291605602062033"
      ],
      "text/markdown": [
       "0.291605602062033"
      ],
      "text/plain": [
       "[1] 0.2916056"
      ]
     },
     "metadata": {},
     "output_type": "display_data"
    }
   ],
   "source": [
    "pred1 <- predict(mod1,newdata=test)\n",
    "rmse(test$cnt,pred1)\n",
    "rmsle(test$cnt,pred1)\n"
   ]
  },
  {
   "cell_type": "code",
   "execution_count": 12,
   "metadata": {},
   "outputs": [
    {
     "name": "stderr",
     "output_type": "stream",
     "text": [
      "Warning message in log(y_hat + 1):\n",
      "\"NaNs produced\"\n"
     ]
    }
   ],
   "source": [
    "err_res <- rbind(err_res, data.frame(Name=\"Base Linear regression\", Model=\"mod1\", \n",
    "                                     RMSE=rmse(test$cnt,pred1), \n",
    "                                     RMSLE=rmsle(test$cnt,pred1)))"
   ]
  },
  {
   "cell_type": "code",
   "execution_count": 13,
   "metadata": {},
   "outputs": [
    {
     "data": {
      "text/html": [
       "<table>\n",
       "<caption>A data.frame: 1 × 4</caption>\n",
       "<thead>\n",
       "\t<tr><th scope=col>Name</th><th scope=col>Model</th><th scope=col>RMSE</th><th scope=col>RMSLE</th></tr>\n",
       "\t<tr><th scope=col>&lt;chr&gt;</th><th scope=col>&lt;chr&gt;</th><th scope=col>&lt;dbl&gt;</th><th scope=col>&lt;dbl&gt;</th></tr>\n",
       "</thead>\n",
       "<tbody>\n",
       "\t<tr><td>Base Linear regression</td><td>mod1</td><td>641.8646</td><td>0.2402681</td></tr>\n",
       "</tbody>\n",
       "</table>\n"
      ],
      "text/latex": [
       "A data.frame: 1 × 4\n",
       "\\begin{tabular}{llll}\n",
       " Name & Model & RMSE & RMSLE\\\\\n",
       " <chr> & <chr> & <dbl> & <dbl>\\\\\n",
       "\\hline\n",
       "\t Base Linear regression & mod1 & 641.8646 & 0.2402681\\\\\n",
       "\\end{tabular}\n"
      ],
      "text/markdown": [
       "\n",
       "A data.frame: 1 × 4\n",
       "\n",
       "| Name &lt;chr&gt; | Model &lt;chr&gt; | RMSE &lt;dbl&gt; | RMSLE &lt;dbl&gt; |\n",
       "|---|---|---|---|\n",
       "| Base Linear regression | mod1 | 641.8646 | 0.2402681 |\n",
       "\n"
      ],
      "text/plain": [
       "  Name                   Model RMSE     RMSLE    \n",
       "1 Base Linear regression mod1  641.8646 0.2402681"
      ]
     },
     "metadata": {},
     "output_type": "display_data"
    }
   ],
   "source": [
    "err_res"
   ]
  }
 ],
 "metadata": {
  "kernelspec": {
   "display_name": "R",
   "language": "R",
   "name": "ir"
  },
  "language_info": {
   "codemirror_mode": "r",
   "file_extension": ".r",
   "mimetype": "text/x-r-source",
   "name": "R",
   "pygments_lexer": "r",
   "version": "4.0.1"
  }
 },
 "nbformat": 4,
 "nbformat_minor": 2
}
