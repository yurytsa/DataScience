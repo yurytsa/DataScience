{
 "cells": [
  {
   "cell_type": "markdown",
   "metadata": {},
   "source": [
    "# Regression Models in R (tips)"
   ]
  },
  {
   "cell_type": "code",
   "execution_count": 7,
   "metadata": {},
   "outputs": [],
   "source": [
    "if(!exists(\"Table1\", mode=\"function\")) source(\"mechkar.R\")"
   ]
  },
  {
   "cell_type": "code",
   "execution_count": 8,
   "metadata": {},
   "outputs": [],
   "source": [
    "\n",
    "library(readr)\n",
    "library(dplyr)\n",
    "library(ggplot2)\n"
   ]
  },
  {
   "cell_type": "code",
   "execution_count": 9,
   "metadata": {},
   "outputs": [
    {
     "data": {
      "text/html": [
       "<table>\n",
       "<caption>A data.frame: 6 × 12</caption>\n",
       "<thead>\n",
       "\t<tr><th></th><th scope=col>id</th><th scope=col>season</th><th scope=col>mnth</th><th scope=col>holiday</th><th scope=col>weekday</th><th scope=col>workingday</th><th scope=col>weathersit</th><th scope=col>temp</th><th scope=col>atemp</th><th scope=col>hum</th><th scope=col>windspeed</th><th scope=col>cnt</th></tr>\n",
       "\t<tr><th></th><th scope=col>&lt;int&gt;</th><th scope=col>&lt;int&gt;</th><th scope=col>&lt;int&gt;</th><th scope=col>&lt;int&gt;</th><th scope=col>&lt;int&gt;</th><th scope=col>&lt;int&gt;</th><th scope=col>&lt;int&gt;</th><th scope=col>&lt;dbl&gt;</th><th scope=col>&lt;dbl&gt;</th><th scope=col>&lt;dbl&gt;</th><th scope=col>&lt;dbl&gt;</th><th scope=col>&lt;int&gt;</th></tr>\n",
       "</thead>\n",
       "<tbody>\n",
       "\t<tr><th scope=row>1</th><td>1</td><td>1</td><td>1</td><td>0</td><td>6</td><td>0</td><td>2</td><td>0.344167</td><td>0.363625</td><td>0.805833</td><td>0.1604460</td><td> 985</td></tr>\n",
       "\t<tr><th scope=row>2</th><td>2</td><td>1</td><td>1</td><td>0</td><td>0</td><td>0</td><td>2</td><td>0.363478</td><td>0.353739</td><td>0.696087</td><td>0.2485390</td><td> 801</td></tr>\n",
       "\t<tr><th scope=row>3</th><td>3</td><td>1</td><td>1</td><td>0</td><td>1</td><td>1</td><td>1</td><td>0.196364</td><td>0.189405</td><td>0.437273</td><td>0.2483090</td><td>1349</td></tr>\n",
       "\t<tr><th scope=row>4</th><td>4</td><td>1</td><td>1</td><td>0</td><td>2</td><td>1</td><td>1</td><td>0.200000</td><td>0.212122</td><td>0.590435</td><td>0.1602960</td><td>1562</td></tr>\n",
       "\t<tr><th scope=row>5</th><td>5</td><td>1</td><td>1</td><td>0</td><td>3</td><td>1</td><td>1</td><td>0.226957</td><td>0.229270</td><td>0.436957</td><td>0.1869000</td><td>1600</td></tr>\n",
       "\t<tr><th scope=row>6</th><td>6</td><td>1</td><td>1</td><td>0</td><td>4</td><td>1</td><td>1</td><td>0.204348</td><td>0.233209</td><td>0.518261</td><td>0.0895652</td><td>1606</td></tr>\n",
       "</tbody>\n",
       "</table>\n"
      ],
      "text/latex": [
       "A data.frame: 6 × 12\n",
       "\\begin{tabular}{r|llllllllllll}\n",
       "  & id & season & mnth & holiday & weekday & workingday & weathersit & temp & atemp & hum & windspeed & cnt\\\\\n",
       "  & <int> & <int> & <int> & <int> & <int> & <int> & <int> & <dbl> & <dbl> & <dbl> & <dbl> & <int>\\\\\n",
       "\\hline\n",
       "\t1 & 1 & 1 & 1 & 0 & 6 & 0 & 2 & 0.344167 & 0.363625 & 0.805833 & 0.1604460 &  985\\\\\n",
       "\t2 & 2 & 1 & 1 & 0 & 0 & 0 & 2 & 0.363478 & 0.353739 & 0.696087 & 0.2485390 &  801\\\\\n",
       "\t3 & 3 & 1 & 1 & 0 & 1 & 1 & 1 & 0.196364 & 0.189405 & 0.437273 & 0.2483090 & 1349\\\\\n",
       "\t4 & 4 & 1 & 1 & 0 & 2 & 1 & 1 & 0.200000 & 0.212122 & 0.590435 & 0.1602960 & 1562\\\\\n",
       "\t5 & 5 & 1 & 1 & 0 & 3 & 1 & 1 & 0.226957 & 0.229270 & 0.436957 & 0.1869000 & 1600\\\\\n",
       "\t6 & 6 & 1 & 1 & 0 & 4 & 1 & 1 & 0.204348 & 0.233209 & 0.518261 & 0.0895652 & 1606\\\\\n",
       "\\end{tabular}\n"
      ],
      "text/markdown": [
       "\n",
       "A data.frame: 6 × 12\n",
       "\n",
       "| <!--/--> | id &lt;int&gt; | season &lt;int&gt; | mnth &lt;int&gt; | holiday &lt;int&gt; | weekday &lt;int&gt; | workingday &lt;int&gt; | weathersit &lt;int&gt; | temp &lt;dbl&gt; | atemp &lt;dbl&gt; | hum &lt;dbl&gt; | windspeed &lt;dbl&gt; | cnt &lt;int&gt; |\n",
       "|---|---|---|---|---|---|---|---|---|---|---|---|---|\n",
       "| 1 | 1 | 1 | 1 | 0 | 6 | 0 | 2 | 0.344167 | 0.363625 | 0.805833 | 0.1604460 |  985 |\n",
       "| 2 | 2 | 1 | 1 | 0 | 0 | 0 | 2 | 0.363478 | 0.353739 | 0.696087 | 0.2485390 |  801 |\n",
       "| 3 | 3 | 1 | 1 | 0 | 1 | 1 | 1 | 0.196364 | 0.189405 | 0.437273 | 0.2483090 | 1349 |\n",
       "| 4 | 4 | 1 | 1 | 0 | 2 | 1 | 1 | 0.200000 | 0.212122 | 0.590435 | 0.1602960 | 1562 |\n",
       "| 5 | 5 | 1 | 1 | 0 | 3 | 1 | 1 | 0.226957 | 0.229270 | 0.436957 | 0.1869000 | 1600 |\n",
       "| 6 | 6 | 1 | 1 | 0 | 4 | 1 | 1 | 0.204348 | 0.233209 | 0.518261 | 0.0895652 | 1606 |\n",
       "\n"
      ],
      "text/plain": [
       "  id season mnth holiday weekday workingday weathersit temp     atemp   \n",
       "1 1  1      1    0       6       0          2          0.344167 0.363625\n",
       "2 2  1      1    0       0       0          2          0.363478 0.353739\n",
       "3 3  1      1    0       1       1          1          0.196364 0.189405\n",
       "4 4  1      1    0       2       1          1          0.200000 0.212122\n",
       "5 5  1      1    0       3       1          1          0.226957 0.229270\n",
       "6 6  1      1    0       4       1          1          0.204348 0.233209\n",
       "  hum      windspeed cnt \n",
       "1 0.805833 0.1604460  985\n",
       "2 0.696087 0.2485390  801\n",
       "3 0.437273 0.2483090 1349\n",
       "4 0.590435 0.1602960 1562\n",
       "5 0.436957 0.1869000 1600\n",
       "6 0.518261 0.0895652 1606"
      ]
     },
     "metadata": {},
     "output_type": "display_data"
    },
    {
     "data": {
      "text/html": [
       "<style>\n",
       ".list-inline {list-style: none; margin:0; padding: 0}\n",
       ".list-inline>li {display: inline-block}\n",
       ".list-inline>li:not(:last-child)::after {content: \"\\00b7\"; padding: 0 .5ex}\n",
       "</style>\n",
       "<ol class=list-inline><li>365</li><li>12</li></ol>\n"
      ],
      "text/latex": [
       "\\begin{enumerate*}\n",
       "\\item 365\n",
       "\\item 12\n",
       "\\end{enumerate*}\n"
      ],
      "text/markdown": [
       "1. 365\n",
       "2. 12\n",
       "\n",
       "\n"
      ],
      "text/plain": [
       "[1] 365  12"
      ]
     },
     "metadata": {},
     "output_type": "display_data"
    }
   ],
   "source": [
    "df <- read.csv(\"train.csv\")\n",
    "head(df)\n",
    "dim(df)"
   ]
  },
  {
   "cell_type": "markdown",
   "metadata": {},
   "source": [
    "Data Set Information:\n",
    "\n",
    "Bike sharing systems are new generation of traditional bike rentals where whole process from membership, rental and return back has become automatic. Through these systems, user is able to easily rent a bike from a particular position and return back at another position. Currently, there are about over 500 bike-sharing programs around the world which is composed of over 500 thousands bicycles. Today, there exists great interest in these systems due to their important role in traffic, environmental and health issues.\n",
    "\n",
    "Apart from interesting real world applications of bike sharing systems, the characteristics of data being generated by these systems make them attractive for the research. Opposed to other transport services such as bus or subway, the duration of travel, departure and arrival position is explicitly recorded in these systems. This feature turns bike sharing system into a virtual sensor network that can be used for sensing mobility in the city. Hence, it is expected that most of important events in the city could be detected via monitoring these data.\n",
    "\n",
    "\n",
    "Attribute Information:\n",
    "\n",
    "Both hour.csv and day.csv have the following fields, except hr which is not available in day.csv\n",
    "\n",
    "- instant: record index\n",
    "- season : season (1:winter, 2:spring, 3:summer, 4:fall)\n",
    "- mnth : month ( 1 to 12)\n",
    "- hr : hour (0 to 23)\n",
    "- holiday : weather day is holiday or not (extracted from [Web Link])\n",
    "- weekday : day of the week\n",
    "- workingday : if day is neither weekend nor holiday is 1, otherwise is 0.\n",
    "+ weathersit :\n",
    "- 1: Clear, Few clouds, Partly cloudy, Partly cloudy\n",
    "- 2: Mist + Cloudy, Mist + Broken clouds, Mist + Few clouds, Mist\n",
    "- 3: Light Snow, Light Rain + Thunderstorm + Scattered clouds, Light Rain + Scattered clouds\n",
    "- 4: Heavy Rain + Ice Pallets + Thunderstorm + Mist, Snow + Fog\n",
    "- temp : Normalized temperature in Celsius. The values are derived via (t-t_min)/(t_max-t_min), t_min=-8, t_max=+39 (only in hourly scale)\n",
    "- atemp: Normalized feeling temperature in Celsius. The values are derived via (t-t_min)/(t_max-t_min), t_min=-16, t_max=+50 (only in hourly scale)\n",
    "- hum: Normalized humidity. The values are divided to 100 (max)\n",
    "- windspeed: Normalized wind speed. The values are divided to 67 (max)\n",
    "- casual: count of casual users\n",
    "- registered: count of registered users\n",
    "- cnt: count of total rental bikes including both casual and registered"
   ]
  },
  {
   "cell_type": "markdown",
   "metadata": {},
   "source": [
    "# EDA"
   ]
  },
  {
   "cell_type": "code",
   "execution_count": 10,
   "metadata": {},
   "outputs": [
    {
     "data": {
      "text/plain": [
       "       id          season           mnth           holiday      \n",
       " Min.   :  1   Min.   :1.000   Min.   : 1.000   Min.   :0.0000  \n",
       " 1st Qu.: 92   1st Qu.:2.000   1st Qu.: 4.000   1st Qu.:0.0000  \n",
       " Median :183   Median :3.000   Median : 7.000   Median :0.0000  \n",
       " Mean   :183   Mean   :2.499   Mean   : 6.526   Mean   :0.0274  \n",
       " 3rd Qu.:274   3rd Qu.:3.000   3rd Qu.:10.000   3rd Qu.:0.0000  \n",
       " Max.   :365   Max.   :4.000   Max.   :12.000   Max.   :1.0000  \n",
       "    weekday        workingday       weathersit         temp        \n",
       " Min.   :0.000   Min.   :0.0000   Min.   :1.000   Min.   :0.05913  \n",
       " 1st Qu.:1.000   1st Qu.:0.0000   1st Qu.:1.000   1st Qu.:0.32500  \n",
       " Median :3.000   Median :1.0000   Median :1.000   Median :0.47917  \n",
       " Mean   :3.008   Mean   :0.6849   Mean   :1.422   Mean   :0.48666  \n",
       " 3rd Qu.:5.000   3rd Qu.:1.0000   3rd Qu.:2.000   3rd Qu.:0.65667  \n",
       " Max.   :6.000   Max.   :1.0000   Max.   :3.000   Max.   :0.84917  \n",
       "     atemp              hum           windspeed            cnt      \n",
       " Min.   :0.07907   Min.   :0.0000   Min.   :0.02239   Min.   : 431  \n",
       " 1st Qu.:0.32195   1st Qu.:0.5383   1st Qu.:0.13558   1st Qu.:2132  \n",
       " Median :0.47285   Median :0.6475   Median :0.18690   Median :3740  \n",
       " Mean   :0.46684   Mean   :0.6437   Mean   :0.19140   Mean   :3406  \n",
       " 3rd Qu.:0.61238   3rd Qu.:0.7421   3rd Qu.:0.23508   3rd Qu.:4586  \n",
       " Max.   :0.84090   Max.   :0.9725   Max.   :0.50746   Max.   :6043  "
      ]
     },
     "metadata": {},
     "output_type": "display_data"
    }
   ],
   "source": [
    "summary(df)"
   ]
  },
  {
   "cell_type": "code",
   "execution_count": 11,
   "metadata": {},
   "outputs": [
    {
     "data": {
      "text/plain": [
       "       id      season      mnth     holiday weekday workingday weathersit\n",
       " Min.   :  1   1:90   1      : 31   0:355   0:52    0:115      1:226     \n",
       " 1st Qu.: 92   2:92   3      : 31   1: 10   1:52    1:250      2:124     \n",
       " Median :183   3:94   5      : 31           2:52               3: 15     \n",
       " Mean   :183   4:89   7      : 31           3:52                         \n",
       " 3rd Qu.:274          8      : 31           4:52                         \n",
       " Max.   :365          10     : 31           5:52                         \n",
       "                      (Other):179           6:53                         \n",
       "      temp             atemp              hum           windspeed      \n",
       " Min.   :0.05913   Min.   :0.07907   Min.   :0.0000   Min.   :0.02239  \n",
       " 1st Qu.:0.32500   1st Qu.:0.32195   1st Qu.:0.5383   1st Qu.:0.13558  \n",
       " Median :0.47917   Median :0.47285   Median :0.6475   Median :0.18690  \n",
       " Mean   :0.48666   Mean   :0.46684   Mean   :0.6437   Mean   :0.19140  \n",
       " 3rd Qu.:0.65667   3rd Qu.:0.61238   3rd Qu.:0.7421   3rd Qu.:0.23508  \n",
       " Max.   :0.84917   Max.   :0.84090   Max.   :0.9725   Max.   :0.50746  \n",
       "                                                                       \n",
       "      cnt      \n",
       " Min.   : 431  \n",
       " 1st Qu.:2132  \n",
       " Median :3740  \n",
       " Mean   :3406  \n",
       " 3rd Qu.:4586  \n",
       " Max.   :6043  \n",
       "               "
      ]
     },
     "metadata": {},
     "output_type": "display_data"
    }
   ],
   "source": [
    "df$holiday <- as.factor(df$holiday)\n",
    "df$season <- as.factor(df$season)\n",
    "df$mnth <- as.factor(df$mnth)\n",
    "df$workingday <- as.factor(df$workingday)\n",
    "df$weathersit <- as.factor(df$weathersit)\n",
    "df$weekday <- as.factor(df$weekday)\n",
    "summary(df)"
   ]
  },
  {
   "cell_type": "code",
   "execution_count": 6,
   "metadata": {},
   "outputs": [
    {
     "name": "stdout",
     "output_type": "stream",
     "text": [
      "  |================================================================      |  92%"
     ]
    }
   ],
   "source": [
    "exploreData(data=df)"
   ]
  },
  {
   "cell_type": "markdown",
   "metadata": {},
   "source": [
    "# DATASET PARTITION"
   ]
  },
  {
   "cell_type": "code",
   "execution_count": 12,
   "metadata": {},
   "outputs": [
    {
     "name": "stderr",
     "output_type": "stream",
     "text": [
      "Dataset partitioned into:\n",
      "\n",
      " + Train dataset: train\n",
      "\n",
      " + Test dataset: test\n",
      "\n",
      "Warning message in Table1(data = df, y = \"traintest_ind_\", messages = FALSE):\n",
      "\"The following variables have unique values and will not be included in the analysis: \"\n"
     ]
    },
    {
     "name": "stdout",
     "output_type": "stream",
     "text": [
      "  |======================================================================| 100%"
     ]
    },
    {
     "name": "stderr",
     "output_type": "stream",
     "text": [
      "Warning message:\n",
      "\"The `x` argument of `as_tibble.matrix()` must have unique column names if `.name_repair` is omitted as of tibble 2.0.0.\n",
      "Using compatibility `.name_repair`.\n",
      "\u001b[90mThis warning is displayed once every 8 hours.\u001b[39m\n",
      "\u001b[90mCall `lifecycle::last_warnings()` to see where this warning was generated.\u001b[39m\"\n"
     ]
    },
    {
     "name": "stdout",
     "output_type": "stream",
     "text": [
      "  |===========================                                           |  38%"
     ]
    },
    {
     "name": "stderr",
     "output_type": "stream",
     "text": [
      "Warning message in stats::chisq.test(data[[v]], data[[y]]):\n",
      "\"Chi-squared approximation may be incorrect\"\n"
     ]
    },
    {
     "name": "stdout",
     "output_type": "stream",
     "text": [
      "  |=================================================================     |  92%"
     ]
    },
    {
     "name": "stderr",
     "output_type": "stream",
     "text": [
      " \n",
      "\n",
      "You got a perfectly balanced training and test datasets\n",
      "\n",
      " \n",
      "\n"
     ]
    },
    {
     "data": {
      "text/html": [
       "<table>\n",
       "<caption>A tibble: 43 × 6</caption>\n",
       "<thead>\n",
       "\t<tr><th scope=col>V1</th><th scope=col>V2</th><th scope=col>Pop</th><th scope=col>1</th><th scope=col>2</th><th scope=col>pval</th></tr>\n",
       "\t<tr><th scope=col>&lt;chr&gt;</th><th scope=col>&lt;chr&gt;</th><th scope=col>&lt;chr&gt;</th><th scope=col>&lt;chr&gt;</th><th scope=col>&lt;chr&gt;</th><th scope=col>&lt;chr&gt;</th></tr>\n",
       "</thead>\n",
       "<tbody>\n",
       "\t<tr><td>Individuals   </td><td>n           </td><td>365                      </td><td>255                      </td><td>110                      </td><td>NA   </td></tr>\n",
       "\t<tr><td>id            </td><td>Mean (SD)   </td><td>183.0 (105.5)            </td><td>183.7 (105.0)            </td><td>181.4 (107.2)            </td><td>NA   </td></tr>\n",
       "\t<tr><td>id            </td><td>Median (IQR)</td><td>183.0 (92.0-274.0)       </td><td>181.0 (92.5-272.5)       </td><td>184.5 (88.0-277.0)       </td><td>0.854</td></tr>\n",
       "\t<tr><td>season        </td><td>1           </td><td>90 (24.7%)               </td><td>62 (24.3%)               </td><td>28 (25.5%)               </td><td>NA   </td></tr>\n",
       "\t<tr><td>season        </td><td>2           </td><td>92 (25.2%)               </td><td>67 (26.3%)               </td><td>25 (22.7%)               </td><td>0.914</td></tr>\n",
       "\t<tr><td>season        </td><td>3           </td><td>94 (25.8%)               </td><td>65 (25.5%)               </td><td>29 (26.4%)               </td><td>NA   </td></tr>\n",
       "\t<tr><td>season        </td><td>4           </td><td>89 (24.4%)               </td><td>61 (23.9%)               </td><td>28 (25.5%)               </td><td>NA   </td></tr>\n",
       "\t<tr><td>mnth          </td><td>1           </td><td>31 (8.5%)                </td><td>20 (7.8%)                </td><td>11 (10.0%)               </td><td>NA   </td></tr>\n",
       "\t<tr><td>mnth          </td><td>2           </td><td>28 (7.7%)                </td><td>18 (7.1%)                </td><td>10 (9.1%)                </td><td>0.841</td></tr>\n",
       "\t<tr><td>mnth          </td><td>3           </td><td>31 (8.5%)                </td><td>24 (9.4%)                </td><td>7 (6.4%)                 </td><td>NA   </td></tr>\n",
       "\t<tr><td>mnth          </td><td>4           </td><td>30 (8.2%)                </td><td>20 (7.8%)                </td><td>10 (9.1%)                </td><td>NA   </td></tr>\n",
       "\t<tr><td>mnth          </td><td>5           </td><td>31 (8.5%)                </td><td>23 (9.0%)                </td><td>8 (7.3%)                 </td><td>NA   </td></tr>\n",
       "\t<tr><td>mnth          </td><td>6           </td><td>30 (8.2%)                </td><td>23 (9.0%)                </td><td>7 (6.4%)                 </td><td>NA   </td></tr>\n",
       "\t<tr><td>mnth          </td><td>7           </td><td>31 (8.5%)                </td><td>20 (7.8%)                </td><td>11 (10.0%)               </td><td>NA   </td></tr>\n",
       "\t<tr><td>mnth          </td><td>8           </td><td>31 (8.5%)                </td><td>24 (9.4%)                </td><td>7 (6.4%)                 </td><td>NA   </td></tr>\n",
       "\t<tr><td>mnth          </td><td>9           </td><td>30 (8.2%)                </td><td>20 (7.8%)                </td><td>10 (9.1%)                </td><td>NA   </td></tr>\n",
       "\t<tr><td>mnth          </td><td>10          </td><td>31 (8.5%)                </td><td>21 (8.2%)                </td><td>10 (9.1%)                </td><td>NA   </td></tr>\n",
       "\t<tr><td>mnth          </td><td>11          </td><td>30 (8.2%)                </td><td>18 (7.1%)                </td><td>12 (10.9%)               </td><td>NA   </td></tr>\n",
       "\t<tr><td>mnth          </td><td>12          </td><td>31 (8.5%)                </td><td>24 (9.4%)                </td><td>7 (6.4%)                 </td><td>NA   </td></tr>\n",
       "\t<tr><td>holiday       </td><td>1           </td><td>10 (2.7%)                </td><td>5 (2.0%)                 </td><td>5 (4.5%)                 </td><td>0.166</td></tr>\n",
       "\t<tr><td>weekday       </td><td>0           </td><td>52 (14.2%)               </td><td>36 (14.1%)               </td><td>16 (14.5%)               </td><td>NA   </td></tr>\n",
       "\t<tr><td>weekday       </td><td>1           </td><td>52 (14.2%)               </td><td>34 (13.3%)               </td><td>18 (16.4%)               </td><td>0.931</td></tr>\n",
       "\t<tr><td>weekday       </td><td>2           </td><td>52 (14.2%)               </td><td>36 (14.1%)               </td><td>16 (14.5%)               </td><td>NA   </td></tr>\n",
       "\t<tr><td>weekday       </td><td>3           </td><td>52 (14.2%)               </td><td>34 (13.3%)               </td><td>18 (16.4%)               </td><td>NA   </td></tr>\n",
       "\t<tr><td>weekday       </td><td>4           </td><td>52 (14.2%)               </td><td>38 (14.9%)               </td><td>14 (12.7%)               </td><td>NA   </td></tr>\n",
       "\t<tr><td>weekday       </td><td>5           </td><td>52 (14.2%)               </td><td>38 (14.9%)               </td><td>14 (12.7%)               </td><td>NA   </td></tr>\n",
       "\t<tr><td>weekday       </td><td>6           </td><td>53 (14.5%)               </td><td>39 (15.3%)               </td><td>14 (12.7%)               </td><td>NA   </td></tr>\n",
       "\t<tr><td>workingday    </td><td>1           </td><td>250 (68.5%)              </td><td>175 (68.6%)              </td><td>75 (68.2%)               </td><td>1    </td></tr>\n",
       "\t<tr><td>weathersit    </td><td>1           </td><td>226 (61.9%)              </td><td>153 (60.0%)              </td><td>73 (66.4%)               </td><td>NA   </td></tr>\n",
       "\t<tr><td>weathersit    </td><td>2           </td><td>124 (34.0%)              </td><td>93 (36.5%)               </td><td>31 (28.2%)               </td><td>0.253</td></tr>\n",
       "\t<tr><td>weathersit    </td><td>3           </td><td>15 (4.1%)                </td><td>9 (3.5%)                 </td><td>6 (5.5%)                 </td><td>NA   </td></tr>\n",
       "\t<tr><td>temp          </td><td>Mean (SD)   </td><td>0.5 (0.2)                </td><td>0.5 (0.2)                </td><td>0.5 (0.2)                </td><td>NA   </td></tr>\n",
       "\t<tr><td>temp          </td><td>Median (IQR)</td><td>0.5 (0.3-0.7)            </td><td>0.5 (0.3-0.7)            </td><td>0.5 (0.3-0.7)            </td><td>0.633</td></tr>\n",
       "\t<tr><td>atemp         </td><td>Mean (SD)   </td><td>0.5 (0.2)                </td><td>0.5 (0.2)                </td><td>0.5 (0.2)                </td><td>NA   </td></tr>\n",
       "\t<tr><td>atemp         </td><td>Median (IQR)</td><td>0.5 (0.3-0.6)            </td><td>0.5 (0.3-0.6)            </td><td>0.5 (0.3-0.6)            </td><td>0.681</td></tr>\n",
       "\t<tr><td>hum           </td><td>Mean (SD)   </td><td>0.6 (0.1)                </td><td>0.6 (0.2)                </td><td>0.7 (0.1)                </td><td>NA   </td></tr>\n",
       "\t<tr><td>hum           </td><td>Median (IQR)</td><td>0.6 (0.5-0.7)            </td><td>0.6 (0.5-0.7)            </td><td>0.6 (0.5-0.7)            </td><td>0.53 </td></tr>\n",
       "\t<tr><td>windspeed     </td><td>Mean (SD)   </td><td>0.2 (0.1)                </td><td>0.2 (0.1)                </td><td>0.2 (0.1)                </td><td>NA   </td></tr>\n",
       "\t<tr><td>windspeed     </td><td>Median (IQR)</td><td>0.2 (0.1-0.2)            </td><td>0.2 (0.1-0.2)            </td><td>0.2 (0.1-0.2)            </td><td>0.704</td></tr>\n",
       "\t<tr><td>cnt           </td><td>Mean (SD)   </td><td>3,405.8 (1,378.8)        </td><td>3,443.5 (1,363.5)        </td><td>3,318.2 (1,415.8)        </td><td>NA   </td></tr>\n",
       "\t<tr><td>cnt           </td><td>Median (IQR)</td><td>3,740.0 (2,132.0-4,586.0)</td><td>3,750.0 (2,185.5-4,591.0)</td><td>3,577.5 (1,916.5-4,546.2)</td><td>0.426</td></tr>\n",
       "\t<tr><td>traintest_ind_</td><td>Mean (SD)   </td><td>1.3 (0.5)                </td><td>NA                       </td><td>NA                       </td><td>NA   </td></tr>\n",
       "\t<tr><td>traintest_ind_</td><td>Median (IQR)</td><td>1.0 (1.0-2.0)            </td><td>NA                       </td><td>NA                       </td><td>0    </td></tr>\n",
       "</tbody>\n",
       "</table>\n"
      ],
      "text/latex": [
       "A tibble: 43 × 6\n",
       "\\begin{tabular}{llllll}\n",
       " V1 & V2 & Pop & 1 & 2 & pval\\\\\n",
       " <chr> & <chr> & <chr> & <chr> & <chr> & <chr>\\\\\n",
       "\\hline\n",
       "\t Individuals    & n            & 365                       & 255                       & 110                       & NA   \\\\\n",
       "\t id             & Mean (SD)    & 183.0 (105.5)             & 183.7 (105.0)             & 181.4 (107.2)             & NA   \\\\\n",
       "\t id             & Median (IQR) & 183.0 (92.0-274.0)        & 181.0 (92.5-272.5)        & 184.5 (88.0-277.0)        & 0.854\\\\\n",
       "\t season         & 1            & 90 (24.7\\%)                & 62 (24.3\\%)                & 28 (25.5\\%)                & NA   \\\\\n",
       "\t season         & 2            & 92 (25.2\\%)                & 67 (26.3\\%)                & 25 (22.7\\%)                & 0.914\\\\\n",
       "\t season         & 3            & 94 (25.8\\%)                & 65 (25.5\\%)                & 29 (26.4\\%)                & NA   \\\\\n",
       "\t season         & 4            & 89 (24.4\\%)                & 61 (23.9\\%)                & 28 (25.5\\%)                & NA   \\\\\n",
       "\t mnth           & 1            & 31 (8.5\\%)                 & 20 (7.8\\%)                 & 11 (10.0\\%)                & NA   \\\\\n",
       "\t mnth           & 2            & 28 (7.7\\%)                 & 18 (7.1\\%)                 & 10 (9.1\\%)                 & 0.841\\\\\n",
       "\t mnth           & 3            & 31 (8.5\\%)                 & 24 (9.4\\%)                 & 7 (6.4\\%)                  & NA   \\\\\n",
       "\t mnth           & 4            & 30 (8.2\\%)                 & 20 (7.8\\%)                 & 10 (9.1\\%)                 & NA   \\\\\n",
       "\t mnth           & 5            & 31 (8.5\\%)                 & 23 (9.0\\%)                 & 8 (7.3\\%)                  & NA   \\\\\n",
       "\t mnth           & 6            & 30 (8.2\\%)                 & 23 (9.0\\%)                 & 7 (6.4\\%)                  & NA   \\\\\n",
       "\t mnth           & 7            & 31 (8.5\\%)                 & 20 (7.8\\%)                 & 11 (10.0\\%)                & NA   \\\\\n",
       "\t mnth           & 8            & 31 (8.5\\%)                 & 24 (9.4\\%)                 & 7 (6.4\\%)                  & NA   \\\\\n",
       "\t mnth           & 9            & 30 (8.2\\%)                 & 20 (7.8\\%)                 & 10 (9.1\\%)                 & NA   \\\\\n",
       "\t mnth           & 10           & 31 (8.5\\%)                 & 21 (8.2\\%)                 & 10 (9.1\\%)                 & NA   \\\\\n",
       "\t mnth           & 11           & 30 (8.2\\%)                 & 18 (7.1\\%)                 & 12 (10.9\\%)                & NA   \\\\\n",
       "\t mnth           & 12           & 31 (8.5\\%)                 & 24 (9.4\\%)                 & 7 (6.4\\%)                  & NA   \\\\\n",
       "\t holiday        & 1            & 10 (2.7\\%)                 & 5 (2.0\\%)                  & 5 (4.5\\%)                  & 0.166\\\\\n",
       "\t weekday        & 0            & 52 (14.2\\%)                & 36 (14.1\\%)                & 16 (14.5\\%)                & NA   \\\\\n",
       "\t weekday        & 1            & 52 (14.2\\%)                & 34 (13.3\\%)                & 18 (16.4\\%)                & 0.931\\\\\n",
       "\t weekday        & 2            & 52 (14.2\\%)                & 36 (14.1\\%)                & 16 (14.5\\%)                & NA   \\\\\n",
       "\t weekday        & 3            & 52 (14.2\\%)                & 34 (13.3\\%)                & 18 (16.4\\%)                & NA   \\\\\n",
       "\t weekday        & 4            & 52 (14.2\\%)                & 38 (14.9\\%)                & 14 (12.7\\%)                & NA   \\\\\n",
       "\t weekday        & 5            & 52 (14.2\\%)                & 38 (14.9\\%)                & 14 (12.7\\%)                & NA   \\\\\n",
       "\t weekday        & 6            & 53 (14.5\\%)                & 39 (15.3\\%)                & 14 (12.7\\%)                & NA   \\\\\n",
       "\t workingday     & 1            & 250 (68.5\\%)               & 175 (68.6\\%)               & 75 (68.2\\%)                & 1    \\\\\n",
       "\t weathersit     & 1            & 226 (61.9\\%)               & 153 (60.0\\%)               & 73 (66.4\\%)                & NA   \\\\\n",
       "\t weathersit     & 2            & 124 (34.0\\%)               & 93 (36.5\\%)                & 31 (28.2\\%)                & 0.253\\\\\n",
       "\t weathersit     & 3            & 15 (4.1\\%)                 & 9 (3.5\\%)                  & 6 (5.5\\%)                  & NA   \\\\\n",
       "\t temp           & Mean (SD)    & 0.5 (0.2)                 & 0.5 (0.2)                 & 0.5 (0.2)                 & NA   \\\\\n",
       "\t temp           & Median (IQR) & 0.5 (0.3-0.7)             & 0.5 (0.3-0.7)             & 0.5 (0.3-0.7)             & 0.633\\\\\n",
       "\t atemp          & Mean (SD)    & 0.5 (0.2)                 & 0.5 (0.2)                 & 0.5 (0.2)                 & NA   \\\\\n",
       "\t atemp          & Median (IQR) & 0.5 (0.3-0.6)             & 0.5 (0.3-0.6)             & 0.5 (0.3-0.6)             & 0.681\\\\\n",
       "\t hum            & Mean (SD)    & 0.6 (0.1)                 & 0.6 (0.2)                 & 0.7 (0.1)                 & NA   \\\\\n",
       "\t hum            & Median (IQR) & 0.6 (0.5-0.7)             & 0.6 (0.5-0.7)             & 0.6 (0.5-0.7)             & 0.53 \\\\\n",
       "\t windspeed      & Mean (SD)    & 0.2 (0.1)                 & 0.2 (0.1)                 & 0.2 (0.1)                 & NA   \\\\\n",
       "\t windspeed      & Median (IQR) & 0.2 (0.1-0.2)             & 0.2 (0.1-0.2)             & 0.2 (0.1-0.2)             & 0.704\\\\\n",
       "\t cnt            & Mean (SD)    & 3,405.8 (1,378.8)         & 3,443.5 (1,363.5)         & 3,318.2 (1,415.8)         & NA   \\\\\n",
       "\t cnt            & Median (IQR) & 3,740.0 (2,132.0-4,586.0) & 3,750.0 (2,185.5-4,591.0) & 3,577.5 (1,916.5-4,546.2) & 0.426\\\\\n",
       "\t traintest\\_ind\\_ & Mean (SD)    & 1.3 (0.5)                 & NA                        & NA                        & NA   \\\\\n",
       "\t traintest\\_ind\\_ & Median (IQR) & 1.0 (1.0-2.0)             & NA                        & NA                        & 0    \\\\\n",
       "\\end{tabular}\n"
      ],
      "text/markdown": [
       "\n",
       "A tibble: 43 × 6\n",
       "\n",
       "| V1 &lt;chr&gt; | V2 &lt;chr&gt; | Pop &lt;chr&gt; | 1 &lt;chr&gt; | 2 &lt;chr&gt; | pval &lt;chr&gt; |\n",
       "|---|---|---|---|---|---|\n",
       "| Individuals    | n            | 365                       | 255                       | 110                       | NA    |\n",
       "| id             | Mean (SD)    | 183.0 (105.5)             | 183.7 (105.0)             | 181.4 (107.2)             | NA    |\n",
       "| id             | Median (IQR) | 183.0 (92.0-274.0)        | 181.0 (92.5-272.5)        | 184.5 (88.0-277.0)        | 0.854 |\n",
       "| season         | 1            | 90 (24.7%)                | 62 (24.3%)                | 28 (25.5%)                | NA    |\n",
       "| season         | 2            | 92 (25.2%)                | 67 (26.3%)                | 25 (22.7%)                | 0.914 |\n",
       "| season         | 3            | 94 (25.8%)                | 65 (25.5%)                | 29 (26.4%)                | NA    |\n",
       "| season         | 4            | 89 (24.4%)                | 61 (23.9%)                | 28 (25.5%)                | NA    |\n",
       "| mnth           | 1            | 31 (8.5%)                 | 20 (7.8%)                 | 11 (10.0%)                | NA    |\n",
       "| mnth           | 2            | 28 (7.7%)                 | 18 (7.1%)                 | 10 (9.1%)                 | 0.841 |\n",
       "| mnth           | 3            | 31 (8.5%)                 | 24 (9.4%)                 | 7 (6.4%)                  | NA    |\n",
       "| mnth           | 4            | 30 (8.2%)                 | 20 (7.8%)                 | 10 (9.1%)                 | NA    |\n",
       "| mnth           | 5            | 31 (8.5%)                 | 23 (9.0%)                 | 8 (7.3%)                  | NA    |\n",
       "| mnth           | 6            | 30 (8.2%)                 | 23 (9.0%)                 | 7 (6.4%)                  | NA    |\n",
       "| mnth           | 7            | 31 (8.5%)                 | 20 (7.8%)                 | 11 (10.0%)                | NA    |\n",
       "| mnth           | 8            | 31 (8.5%)                 | 24 (9.4%)                 | 7 (6.4%)                  | NA    |\n",
       "| mnth           | 9            | 30 (8.2%)                 | 20 (7.8%)                 | 10 (9.1%)                 | NA    |\n",
       "| mnth           | 10           | 31 (8.5%)                 | 21 (8.2%)                 | 10 (9.1%)                 | NA    |\n",
       "| mnth           | 11           | 30 (8.2%)                 | 18 (7.1%)                 | 12 (10.9%)                | NA    |\n",
       "| mnth           | 12           | 31 (8.5%)                 | 24 (9.4%)                 | 7 (6.4%)                  | NA    |\n",
       "| holiday        | 1            | 10 (2.7%)                 | 5 (2.0%)                  | 5 (4.5%)                  | 0.166 |\n",
       "| weekday        | 0            | 52 (14.2%)                | 36 (14.1%)                | 16 (14.5%)                | NA    |\n",
       "| weekday        | 1            | 52 (14.2%)                | 34 (13.3%)                | 18 (16.4%)                | 0.931 |\n",
       "| weekday        | 2            | 52 (14.2%)                | 36 (14.1%)                | 16 (14.5%)                | NA    |\n",
       "| weekday        | 3            | 52 (14.2%)                | 34 (13.3%)                | 18 (16.4%)                | NA    |\n",
       "| weekday        | 4            | 52 (14.2%)                | 38 (14.9%)                | 14 (12.7%)                | NA    |\n",
       "| weekday        | 5            | 52 (14.2%)                | 38 (14.9%)                | 14 (12.7%)                | NA    |\n",
       "| weekday        | 6            | 53 (14.5%)                | 39 (15.3%)                | 14 (12.7%)                | NA    |\n",
       "| workingday     | 1            | 250 (68.5%)               | 175 (68.6%)               | 75 (68.2%)                | 1     |\n",
       "| weathersit     | 1            | 226 (61.9%)               | 153 (60.0%)               | 73 (66.4%)                | NA    |\n",
       "| weathersit     | 2            | 124 (34.0%)               | 93 (36.5%)                | 31 (28.2%)                | 0.253 |\n",
       "| weathersit     | 3            | 15 (4.1%)                 | 9 (3.5%)                  | 6 (5.5%)                  | NA    |\n",
       "| temp           | Mean (SD)    | 0.5 (0.2)                 | 0.5 (0.2)                 | 0.5 (0.2)                 | NA    |\n",
       "| temp           | Median (IQR) | 0.5 (0.3-0.7)             | 0.5 (0.3-0.7)             | 0.5 (0.3-0.7)             | 0.633 |\n",
       "| atemp          | Mean (SD)    | 0.5 (0.2)                 | 0.5 (0.2)                 | 0.5 (0.2)                 | NA    |\n",
       "| atemp          | Median (IQR) | 0.5 (0.3-0.6)             | 0.5 (0.3-0.6)             | 0.5 (0.3-0.6)             | 0.681 |\n",
       "| hum            | Mean (SD)    | 0.6 (0.1)                 | 0.6 (0.2)                 | 0.7 (0.1)                 | NA    |\n",
       "| hum            | Median (IQR) | 0.6 (0.5-0.7)             | 0.6 (0.5-0.7)             | 0.6 (0.5-0.7)             | 0.53  |\n",
       "| windspeed      | Mean (SD)    | 0.2 (0.1)                 | 0.2 (0.1)                 | 0.2 (0.1)                 | NA    |\n",
       "| windspeed      | Median (IQR) | 0.2 (0.1-0.2)             | 0.2 (0.1-0.2)             | 0.2 (0.1-0.2)             | 0.704 |\n",
       "| cnt            | Mean (SD)    | 3,405.8 (1,378.8)         | 3,443.5 (1,363.5)         | 3,318.2 (1,415.8)         | NA    |\n",
       "| cnt            | Median (IQR) | 3,740.0 (2,132.0-4,586.0) | 3,750.0 (2,185.5-4,591.0) | 3,577.5 (1,916.5-4,546.2) | 0.426 |\n",
       "| traintest_ind_ | Mean (SD)    | 1.3 (0.5)                 | NA                        | NA                        | NA    |\n",
       "| traintest_ind_ | Median (IQR) | 1.0 (1.0-2.0)             | NA                        | NA                        | 0     |\n",
       "\n"
      ],
      "text/plain": [
       "   V1             V2           Pop                      \n",
       "1  Individuals    n            365                      \n",
       "2  id             Mean (SD)    183.0 (105.5)            \n",
       "3  id             Median (IQR) 183.0 (92.0-274.0)       \n",
       "4  season         1            90 (24.7%)               \n",
       "5  season         2            92 (25.2%)               \n",
       "6  season         3            94 (25.8%)               \n",
       "7  season         4            89 (24.4%)               \n",
       "8  mnth           1            31 (8.5%)                \n",
       "9  mnth           2            28 (7.7%)                \n",
       "10 mnth           3            31 (8.5%)                \n",
       "11 mnth           4            30 (8.2%)                \n",
       "12 mnth           5            31 (8.5%)                \n",
       "13 mnth           6            30 (8.2%)                \n",
       "14 mnth           7            31 (8.5%)                \n",
       "15 mnth           8            31 (8.5%)                \n",
       "16 mnth           9            30 (8.2%)                \n",
       "17 mnth           10           31 (8.5%)                \n",
       "18 mnth           11           30 (8.2%)                \n",
       "19 mnth           12           31 (8.5%)                \n",
       "20 holiday        1            10 (2.7%)                \n",
       "21 weekday        0            52 (14.2%)               \n",
       "22 weekday        1            52 (14.2%)               \n",
       "23 weekday        2            52 (14.2%)               \n",
       "24 weekday        3            52 (14.2%)               \n",
       "25 weekday        4            52 (14.2%)               \n",
       "26 weekday        5            52 (14.2%)               \n",
       "27 weekday        6            53 (14.5%)               \n",
       "28 workingday     1            250 (68.5%)              \n",
       "29 weathersit     1            226 (61.9%)              \n",
       "30 weathersit     2            124 (34.0%)              \n",
       "31 weathersit     3            15 (4.1%)                \n",
       "32 temp           Mean (SD)    0.5 (0.2)                \n",
       "33 temp           Median (IQR) 0.5 (0.3-0.7)            \n",
       "34 atemp          Mean (SD)    0.5 (0.2)                \n",
       "35 atemp          Median (IQR) 0.5 (0.3-0.6)            \n",
       "36 hum            Mean (SD)    0.6 (0.1)                \n",
       "37 hum            Median (IQR) 0.6 (0.5-0.7)            \n",
       "38 windspeed      Mean (SD)    0.2 (0.1)                \n",
       "39 windspeed      Median (IQR) 0.2 (0.1-0.2)            \n",
       "40 cnt            Mean (SD)    3,405.8 (1,378.8)        \n",
       "41 cnt            Median (IQR) 3,740.0 (2,132.0-4,586.0)\n",
       "42 traintest_ind_ Mean (SD)    1.3 (0.5)                \n",
       "43 traintest_ind_ Median (IQR) 1.0 (1.0-2.0)            \n",
       "   1                         2                         pval \n",
       "1  255                       110                       NA   \n",
       "2  183.7 (105.0)             181.4 (107.2)             NA   \n",
       "3  181.0 (92.5-272.5)        184.5 (88.0-277.0)        0.854\n",
       "4  62 (24.3%)                28 (25.5%)                NA   \n",
       "5  67 (26.3%)                25 (22.7%)                0.914\n",
       "6  65 (25.5%)                29 (26.4%)                NA   \n",
       "7  61 (23.9%)                28 (25.5%)                NA   \n",
       "8  20 (7.8%)                 11 (10.0%)                NA   \n",
       "9  18 (7.1%)                 10 (9.1%)                 0.841\n",
       "10 24 (9.4%)                 7 (6.4%)                  NA   \n",
       "11 20 (7.8%)                 10 (9.1%)                 NA   \n",
       "12 23 (9.0%)                 8 (7.3%)                  NA   \n",
       "13 23 (9.0%)                 7 (6.4%)                  NA   \n",
       "14 20 (7.8%)                 11 (10.0%)                NA   \n",
       "15 24 (9.4%)                 7 (6.4%)                  NA   \n",
       "16 20 (7.8%)                 10 (9.1%)                 NA   \n",
       "17 21 (8.2%)                 10 (9.1%)                 NA   \n",
       "18 18 (7.1%)                 12 (10.9%)                NA   \n",
       "19 24 (9.4%)                 7 (6.4%)                  NA   \n",
       "20 5 (2.0%)                  5 (4.5%)                  0.166\n",
       "21 36 (14.1%)                16 (14.5%)                NA   \n",
       "22 34 (13.3%)                18 (16.4%)                0.931\n",
       "23 36 (14.1%)                16 (14.5%)                NA   \n",
       "24 34 (13.3%)                18 (16.4%)                NA   \n",
       "25 38 (14.9%)                14 (12.7%)                NA   \n",
       "26 38 (14.9%)                14 (12.7%)                NA   \n",
       "27 39 (15.3%)                14 (12.7%)                NA   \n",
       "28 175 (68.6%)               75 (68.2%)                1    \n",
       "29 153 (60.0%)               73 (66.4%)                NA   \n",
       "30 93 (36.5%)                31 (28.2%)                0.253\n",
       "31 9 (3.5%)                  6 (5.5%)                  NA   \n",
       "32 0.5 (0.2)                 0.5 (0.2)                 NA   \n",
       "33 0.5 (0.3-0.7)             0.5 (0.3-0.7)             0.633\n",
       "34 0.5 (0.2)                 0.5 (0.2)                 NA   \n",
       "35 0.5 (0.3-0.6)             0.5 (0.3-0.6)             0.681\n",
       "36 0.6 (0.2)                 0.7 (0.1)                 NA   \n",
       "37 0.6 (0.5-0.7)             0.6 (0.5-0.7)             0.53 \n",
       "38 0.2 (0.1)                 0.2 (0.1)                 NA   \n",
       "39 0.2 (0.1-0.2)             0.2 (0.1-0.2)             0.704\n",
       "40 3,443.5 (1,363.5)         3,318.2 (1,415.8)         NA   \n",
       "41 3,750.0 (2,185.5-4,591.0) 3,577.5 (1,916.5-4,546.2) 0.426\n",
       "42 NA                        NA                        NA   \n",
       "43 NA                        NA                        0    "
      ]
     },
     "metadata": {},
     "output_type": "display_data"
    }
   ],
   "source": [
    "tab1 <- train_test(data=df, train_name=\"train\", test_name=\"test\", prop=0.7, seed=5, tableone=TRUE)\n",
    "tab1"
   ]
  },
  {
   "cell_type": "markdown",
   "metadata": {},
   "source": [
    "# MODELS"
   ]
  },
  {
   "cell_type": "code",
   "execution_count": 13,
   "metadata": {},
   "outputs": [],
   "source": [
    "### The error we will use is the RMSE and RMSLE\n",
    "rmse <- function(y,y_hat) {\n",
    "    err <- sqrt(sum((y_hat-y)^2,na.rm=T)/length(y))\n",
    "    return(err)\n",
    "}\n",
    "\n",
    "rmsle <- function(y,y_hat) {\n",
    "    err <- sqrt(sum((log(y_hat+1)-log(y+1))^2,na.rm=T)/length(y))\n",
    "    return(err)\n",
    "}\n"
   ]
  },
  {
   "cell_type": "code",
   "execution_count": 14,
   "metadata": {},
   "outputs": [],
   "source": [
    "### Table of resulting errors\n",
    "### Name, Model, RMSE, RMSLE\n",
    "err_res <- NULL"
   ]
  },
  {
   "cell_type": "markdown",
   "metadata": {},
   "source": [
    "## Linear Models"
   ]
  },
  {
   "cell_type": "code",
   "execution_count": 10,
   "metadata": {},
   "outputs": [
    {
     "data": {
      "text/plain": [
       "\n",
       "Call:\n",
       "lm(formula = cnt ~ ., data = train)\n",
       "\n",
       "Residuals:\n",
       "    Min      1Q  Median      3Q     Max \n",
       "-2351.2  -281.8    49.3   315.1  1643.8 \n",
       "\n",
       "Coefficients: (1 not defined because of singularities)\n",
       "             Estimate Std. Error t value Pr(>|t|)    \n",
       "(Intercept)  1765.418    304.169   5.804 2.17e-08 ***\n",
       "id             -5.444      4.133  -1.317 0.189147    \n",
       "season2       480.129    212.698   2.257 0.024943 *  \n",
       "season3       868.711    252.799   3.436 0.000702 ***\n",
       "season4      1231.007    215.068   5.724 3.29e-08 ***\n",
       "mnth2         390.491    226.880   1.721 0.086595 .  \n",
       "mnth3         663.199    309.957   2.140 0.033455 *  \n",
       "mnth4        1290.897    464.783   2.777 0.005939 ** \n",
       "mnth5        2251.882    568.274   3.963 9.94e-05 ***\n",
       "mnth6        2106.798    690.979   3.049 0.002570 ** \n",
       "mnth7        1347.358    826.740   1.630 0.104553    \n",
       "mnth8        1851.927    927.585   1.997 0.047079 *  \n",
       "mnth9        2199.177   1028.174   2.139 0.033515 *  \n",
       "mnth10       2396.705   1151.136   2.082 0.038465 *  \n",
       "mnth11       2256.498   1269.729   1.777 0.076889 .  \n",
       "mnth12       2311.622   1392.214   1.660 0.098222 .  \n",
       "holiday1      227.425    290.044   0.784 0.433800    \n",
       "weekday1       37.742    145.701   0.259 0.795841    \n",
       "weekday2       99.071    137.390   0.721 0.471600    \n",
       "weekday3       40.572    139.379   0.291 0.771246    \n",
       "weekday4      117.240    136.365   0.860 0.390836    \n",
       "weekday5       72.819    134.964   0.540 0.590041    \n",
       "weekday6       21.999    133.145   0.165 0.868911    \n",
       "workingday1        NA         NA      NA       NA    \n",
       "weathersit2  -342.885     98.178  -3.492 0.000576 ***\n",
       "weathersit3 -1506.675    225.946  -6.668 1.96e-10 ***\n",
       "temp         3304.623   2801.179   1.180 0.239350    \n",
       "atemp         -85.538   2990.349  -0.029 0.977205    \n",
       "hum         -1095.564    356.170  -3.076 0.002357 ** \n",
       "windspeed   -1755.689    562.171  -3.123 0.002024 ** \n",
       "---\n",
       "Signif. codes:  0 '***' 0.001 '**' 0.01 '*' 0.05 '.' 0.1 ' ' 1\n",
       "\n",
       "Residual standard error: 569.5 on 226 degrees of freedom\n",
       "Multiple R-squared:  0.8448,\tAdjusted R-squared:  0.8256 \n",
       "F-statistic: 43.94 on 28 and 226 DF,  p-value: < 2.2e-16\n"
      ]
     },
     "metadata": {},
     "output_type": "display_data"
    }
   ],
   "source": [
    "## model with only the original variables\n",
    "mod1 <- lm(cnt~., data=train)\n",
    "summary(mod1)\n"
   ]
  },
  {
   "cell_type": "code",
   "execution_count": 11,
   "metadata": {},
   "outputs": [
    {
     "name": "stderr",
     "output_type": "stream",
     "text": [
      "Warning message in predict.lm(mod1, newdata = test):\n",
      "\"prediction from a rank-deficient fit may be misleading\"\n"
     ]
    },
    {
     "data": {
      "text/html": [
       "633.022439629788"
      ],
      "text/latex": [
       "633.022439629788"
      ],
      "text/markdown": [
       "633.022439629788"
      ],
      "text/plain": [
       "[1] 633.0224"
      ]
     },
     "metadata": {},
     "output_type": "display_data"
    },
    {
     "data": {
      "text/html": [
       "0.246767816608799"
      ],
      "text/latex": [
       "0.246767816608799"
      ],
      "text/markdown": [
       "0.246767816608799"
      ],
      "text/plain": [
       "[1] 0.2467678"
      ]
     },
     "metadata": {},
     "output_type": "display_data"
    }
   ],
   "source": [
    "pred1 <- predict(mod1,newdata=test)\n",
    "rmse(test$cnt,pred1)\n",
    "rmsle(test$cnt,pred1)\n"
   ]
  },
  {
   "cell_type": "code",
   "execution_count": 12,
   "metadata": {},
   "outputs": [],
   "source": [
    "err_res <- rbind(err_res, data.frame(Name=\"Base Linear regression\", Model=\"mod1\", \n",
    "                                     RMSE=rmse(test$cnt,pred1), \n",
    "                                     RMSLE=rmsle(test$cnt,pred1)))"
   ]
  },
  {
   "cell_type": "code",
   "execution_count": 13,
   "metadata": {},
   "outputs": [
    {
     "data": {
      "text/html": [
       "<table>\n",
       "<caption>A data.frame: 1 × 4</caption>\n",
       "<thead>\n",
       "\t<tr><th scope=col>Name</th><th scope=col>Model</th><th scope=col>RMSE</th><th scope=col>RMSLE</th></tr>\n",
       "\t<tr><th scope=col>&lt;chr&gt;</th><th scope=col>&lt;chr&gt;</th><th scope=col>&lt;dbl&gt;</th><th scope=col>&lt;dbl&gt;</th></tr>\n",
       "</thead>\n",
       "<tbody>\n",
       "\t<tr><td>Base Linear regression</td><td>mod1</td><td>641.8646</td><td>0.2402681</td></tr>\n",
       "</tbody>\n",
       "</table>\n"
      ],
      "text/latex": [
       "A data.frame: 1 × 4\n",
       "\\begin{tabular}{llll}\n",
       " Name & Model & RMSE & RMSLE\\\\\n",
       " <chr> & <chr> & <dbl> & <dbl>\\\\\n",
       "\\hline\n",
       "\t Base Linear regression & mod1 & 641.8646 & 0.2402681\\\\\n",
       "\\end{tabular}\n"
      ],
      "text/markdown": [
       "\n",
       "A data.frame: 1 × 4\n",
       "\n",
       "| Name &lt;chr&gt; | Model &lt;chr&gt; | RMSE &lt;dbl&gt; | RMSLE &lt;dbl&gt; |\n",
       "|---|---|---|---|\n",
       "| Base Linear regression | mod1 | 641.8646 | 0.2402681 |\n",
       "\n"
      ],
      "text/plain": [
       "  Name                   Model RMSE     RMSLE    \n",
       "1 Base Linear regression mod1  641.8646 0.2402681"
      ]
     },
     "metadata": {},
     "output_type": "display_data"
    }
   ],
   "source": [
    "err_res"
   ]
  },
  {
   "cell_type": "markdown",
   "metadata": {},
   "source": [
    "## Desicion trees"
   ]
  },
  {
   "cell_type": "code",
   "execution_count": 14,
   "metadata": {},
   "outputs": [],
   "source": [
    "library(tree)\n",
    "library(rpart)"
   ]
  },
  {
   "cell_type": "code",
   "execution_count": 15,
   "metadata": {},
   "outputs": [
    {
     "data": {
      "text/plain": [
       "node), split, n, deviance, yval\n",
       "      * denotes terminal node\n",
       "\n",
       " 1) root 255 487700000 3406  \n",
       "   2) id < 107 77  35270000 1807  \n",
       "     4) id < 69.5 48  10940000 1485 *\n",
       "     5) id > 69.5 29  11160000 2339 *\n",
       "   3) id > 107 178 170500000 4097  \n",
       "     6) atemp < 0.457063 54  39100000 3203  \n",
       "      12) weathersit: 3 5   4075000 1660 *\n",
       "      13) weathersit: 1,2 49  21900000 3361  \n",
       "        26) id < 354.5 43  12410000 3498 *\n",
       "        27) id > 354.5 6   2844000 2375 *\n",
       "     7) atemp > 0.457063 124  69400000 4487  \n",
       "      14) hum < 0.8475 112  34100000 4609 *\n",
       "      15) hum > 0.8475 12  18110000 3349 *"
      ]
     },
     "metadata": {},
     "output_type": "display_data"
    }
   ],
   "source": [
    "mod3 <- tree(cnt ~., data=train)\n",
    "mod3"
   ]
  },
  {
   "cell_type": "code",
   "execution_count": 16,
   "metadata": {},
   "outputs": [
    {
     "data": {
      "text/html": [
       "620.61966841525"
      ],
      "text/latex": [
       "620.61966841525"
      ],
      "text/markdown": [
       "620.61966841525"
      ],
      "text/plain": [
       "[1] 620.6197"
      ]
     },
     "metadata": {},
     "output_type": "display_data"
    },
    {
     "data": {
      "text/html": [
       "0.264810909635696"
      ],
      "text/latex": [
       "0.264810909635696"
      ],
      "text/markdown": [
       "0.264810909635696"
      ],
      "text/plain": [
       "[1] 0.2648109"
      ]
     },
     "metadata": {},
     "output_type": "display_data"
    }
   ],
   "source": [
    "pred3 <- predict(mod3,newdata=test)\n",
    "rmse(test$cnt,pred3)\n",
    "rmsle(test$cnt,pred3)\n",
    "err_res <- rbind(err_res, data.frame(Name=\"Decision Trees-tree\", Model=\"mod3\", \n",
    "                                     RMSE=rmse(test$cnt,pred3), \n",
    "                                     RMSLE=rmsle(test$cnt,pred3)))"
   ]
  },
  {
   "cell_type": "code",
   "execution_count": 18,
   "metadata": {},
   "outputs": [
    {
     "data": {
      "text/plain": [
       "n= 255 \n",
       "\n",
       "node), split, n, deviance, yval\n",
       "      * denotes terminal node\n",
       "\n",
       " 1) root 255 491193900 3421.408  \n",
       "   2) temp< 0.45875 116 123091300 2264.129  \n",
       "     4) id< 106.5 69  25473170 1681.261  \n",
       "       8) id< 36.5 28   4350789 1262.107 *\n",
       "       9) id>=36.5 41  12843530 1967.512 *\n",
       "     5) id>=106.5 47  39761840 3119.830  \n",
       "      10) hum>=0.828958 7   5489309 1870.714 *\n",
       "      11) hum< 0.828958 40  21439150 3338.425  \n",
       "        22) season=1,2 9   4446874 2597.444 *\n",
       "        23) season=4 31  10616190 3553.548 *\n",
       "   3) temp>=0.45875 139  83093220 4387.194  \n",
       "     6) id< 109 8   1370632 3059.500 *\n",
       "     7) id>=109 131  66759210 4468.275  \n",
       "      14) hum>=0.7560415 29  22147810 3876.345 *\n",
       "      15) hum< 0.7560415 102  31561420 4636.569 *"
      ]
     },
     "metadata": {},
     "output_type": "display_data"
    }
   ],
   "source": [
    "mod4 <- rpart(cnt ~., data=train)\n",
    "mod4"
   ]
  },
  {
   "cell_type": "code",
   "execution_count": 19,
   "metadata": {},
   "outputs": [
    {
     "data": {
      "text/html": [
       "653.924057683114"
      ],
      "text/latex": [
       "653.924057683114"
      ],
      "text/markdown": [
       "653.924057683114"
      ],
      "text/plain": [
       "[1] 653.9241"
      ]
     },
     "metadata": {},
     "output_type": "display_data"
    },
    {
     "data": {
      "text/html": [
       "0.258212957071292"
      ],
      "text/latex": [
       "0.258212957071292"
      ],
      "text/markdown": [
       "0.258212957071292"
      ],
      "text/plain": [
       "[1] 0.258213"
      ]
     },
     "metadata": {},
     "output_type": "display_data"
    },
    {
     "ename": "ERROR",
     "evalue": "Error in rbind(err_res, data.frame(Name = \"Decision Trees-rpart\", Model = \"mod4\", : object 'err_res' not found\n",
     "output_type": "error",
     "traceback": [
      "Error in rbind(err_res, data.frame(Name = \"Decision Trees-rpart\", Model = \"mod4\", : object 'err_res' not found\nTraceback:\n",
      "1. rbind(err_res, data.frame(Name = \"Decision Trees-rpart\", Model = \"mod4\", \n .     RMSE = rmse(test$cnt, pred4), RMSLE = rmsle(test$cnt, pred4)))"
     ]
    }
   ],
   "source": [
    "pred4 <- predict(mod4,newdata=test)\n",
    "rmse(test$cnt,pred4)\n",
    "rmsle(test$cnt,pred4)\n",
    "err_res <- rbind(err_res, data.frame(Name=\"Decision Trees-rpart\", Model=\"mod4\", \n",
    "                                     RMSE=rmse(test$cnt,pred4), \n",
    "                                     RMSLE=rmsle(test$cnt,pred4)))"
   ]
  },
  {
   "cell_type": "markdown",
   "metadata": {},
   "source": [
    "## Random Forest"
   ]
  },
  {
   "cell_type": "code",
   "execution_count": 20,
   "metadata": {},
   "outputs": [
    {
     "name": "stderr",
     "output_type": "stream",
     "text": [
      "randomForest 4.6-14\n",
      "\n",
      "Type rfNews() to see new features/changes/bug fixes.\n",
      "\n",
      "\n",
      "Attaching package: 'randomForest'\n",
      "\n",
      "\n",
      "The following object is masked from 'package:ggplot2':\n",
      "\n",
      "    margin\n",
      "\n",
      "\n",
      "The following object is masked from 'package:dplyr':\n",
      "\n",
      "    combine\n",
      "\n",
      "\n",
      "\n",
      "Attaching package: 'ranger'\n",
      "\n",
      "\n",
      "The following object is masked from 'package:randomForest':\n",
      "\n",
      "    importance\n",
      "\n",
      "\n"
     ]
    }
   ],
   "source": [
    "library(randomForest)\n",
    "library(ranger)"
   ]
  },
  {
   "cell_type": "code",
   "execution_count": null,
   "metadata": {},
   "outputs": [],
   "source": [
    "#mod5 <- randomForest(tip ~., data=train)\n",
    "#mod5"
   ]
  },
  {
   "cell_type": "code",
   "execution_count": null,
   "metadata": {},
   "outputs": [],
   "source": [
    "#pred5 <- predict(mod5,newdata=test)\n",
    "#rmse(test$tip,pred5)\n",
    "#rmsle(test$tip,pred5)"
   ]
  },
  {
   "cell_type": "code",
   "execution_count": null,
   "metadata": {},
   "outputs": [],
   "source": [
    "mod6 <- ranger(tip ~., data=train)\n",
    "mod6"
   ]
  },
  {
   "cell_type": "code",
   "execution_count": null,
   "metadata": {},
   "outputs": [],
   "source": [
    "pred6 <- predict(mod6,data=test)\n",
    "#head(pred6)\n",
    "rmse(test$tip,pred6$predictions)\n",
    "rmsle(test$tip,pred6$predictions)\n",
    "err_res <- rbind(err_res, data.frame(Name=\"RandomForest (ranger)\", Model=\"mod6\", \n",
    "                                     RMSE=rmse(test$tip,pred6$predictions), \n",
    "                                     RMSLE=rmsle(test$tip,pred6$predictions)))"
   ]
  },
  {
   "cell_type": "markdown",
   "metadata": {},
   "source": [
    "## XGBoost"
   ]
  },
  {
   "cell_type": "code",
   "execution_count": 15,
   "metadata": {},
   "outputs": [
    {
     "name": "stderr",
     "output_type": "stream",
     "text": [
      "Warning message:\n",
      "\"package 'xgboost' was built under R version 4.0.3\"\n",
      "\n",
      "Attaching package: 'xgboost'\n",
      "\n",
      "\n",
      "The following object is masked from 'package:dplyr':\n",
      "\n",
      "    slice\n",
      "\n",
      "\n"
     ]
    }
   ],
   "source": [
    "library(xgboost)"
   ]
  },
  {
   "cell_type": "code",
   "execution_count": 16,
   "metadata": {},
   "outputs": [
    {
     "ename": "ERROR",
     "evalue": "Error in eval(predvars, data, env): object 'tip' not found\n",
     "output_type": "error",
     "traceback": [
      "Error in eval(predvars, data, env): object 'tip' not found\nTraceback:\n",
      "1. Matrix::sparse.model.matrix(tip ~ . - 1, data = train)",
      "2. model.frame(object, data, xlev = xlev)",
      "3. model.frame.default(object, data, xlev = xlev)",
      "4. eval(predvars, data, env)",
      "5. eval(predvars, data, env)"
     ]
    }
   ],
   "source": [
    "train1 <- Matrix::sparse.model.matrix(tip ~ .-1, data = train)"
   ]
  },
  {
   "cell_type": "code",
   "execution_count": 17,
   "metadata": {},
   "outputs": [
    {
     "ename": "ERROR",
     "evalue": "Error in eval(predvars, data, env): object 'tip' not found\n",
     "output_type": "error",
     "traceback": [
      "Error in eval(predvars, data, env): object 'tip' not found\nTraceback:\n",
      "1. Matrix::sparse.model.matrix(tip ~ . - 1, data = test)",
      "2. model.frame(object, data, xlev = xlev)",
      "3. model.frame.default(object, data, xlev = xlev)",
      "4. eval(predvars, data, env)",
      "5. eval(predvars, data, env)"
     ]
    }
   ],
   "source": [
    "test1 <- Matrix::sparse.model.matrix(tip ~ .-1, data = test)"
   ]
  },
  {
   "cell_type": "code",
   "execution_count": null,
   "metadata": {},
   "outputs": [],
   "source": [
    "#X_train <- xgb.DMatrix(train1)\n",
    "X_train <- train1\n",
    "y_train <- train$tip\n",
    "mod7 <- xgboost(data=X_train,label=y_train, nrounds=100,print_every_n = 10)"
   ]
  },
  {
   "cell_type": "code",
   "execution_count": null,
   "metadata": {},
   "outputs": [],
   "source": [
    "#X_test <- xgb.DMatrix(test1)\n",
    "X_test <- test1\n",
    "y_test <- test$tip\n",
    "\n",
    "pred7 <- predict(mod7,newdata=X_test)\n",
    "rmse(y_test,pred7)\n",
    "rmsle(y_test,pred7)\n",
    "err_res <- rbind(err_res, data.frame(Name=\"XGBoost\", Model=\"mod7\", \n",
    "                                     RMSE=rmse(test$tip,pred7), \n",
    "                                     RMSLE=rmsle(test$tip,pred7)))"
   ]
  },
  {
   "cell_type": "markdown",
   "metadata": {},
   "source": [
    "## kNN "
   ]
  },
  {
   "cell_type": "code",
   "execution_count": null,
   "metadata": {},
   "outputs": [],
   "source": [
    "### adaboost needs that values to be normalized\n",
    "min_max <- function(x) { (x -min(x))/(max(x)-min(x))   }"
   ]
  },
  {
   "cell_type": "code",
   "execution_count": null,
   "metadata": {},
   "outputs": [],
   "source": [
    "X_train <- sapply(data.frame(as.matrix(train1)),min_max)"
   ]
  },
  {
   "cell_type": "code",
   "execution_count": null,
   "metadata": {},
   "outputs": [],
   "source": [
    "X_test <- sapply(data.frame(as.matrix(test1)),min_max)"
   ]
  },
  {
   "cell_type": "code",
   "execution_count": null,
   "metadata": {},
   "outputs": [],
   "source": [
    "summary(X_train)"
   ]
  },
  {
   "cell_type": "code",
   "execution_count": null,
   "metadata": {},
   "outputs": [],
   "source": [
    "library(class)\n",
    "mod8 <- knn(X_train,X_test,cl=train$tip)"
   ]
  },
  {
   "cell_type": "code",
   "execution_count": null,
   "metadata": {},
   "outputs": [],
   "source": [
    "str(mod8)"
   ]
  },
  {
   "cell_type": "code",
   "execution_count": null,
   "metadata": {},
   "outputs": [],
   "source": [
    "pred8 <- as.numeric(as.character(mod8))\n",
    "\n",
    "rmse(test$tip,pred8)\n",
    "rmsle(test$tip,pred8)\n",
    "err_res <- rbind(err_res, data.frame(Name=\"kNN\", Model=\"mod8\", \n",
    "                                     RMSE=rmse(test$tip,pred8), \n",
    "                                     RMSLE=rmsle(test$tip,pred8)))"
   ]
  },
  {
   "cell_type": "markdown",
   "metadata": {},
   "source": [
    "## SVM"
   ]
  },
  {
   "cell_type": "code",
   "execution_count": null,
   "metadata": {},
   "outputs": [],
   "source": [
    "#install.packages(\"liquidSVM\")\n",
    "library(liquidSVM)\n",
    "\n",
    "mod9 <- svm(tip ~., train)"
   ]
  },
  {
   "cell_type": "code",
   "execution_count": null,
   "metadata": {},
   "outputs": [],
   "source": [
    "pred9 <- predict(mod9, newdata=test)\n",
    "\n",
    "rmse(test$tip,pred9)\n",
    "rmsle(test$tip,pred9)\n",
    "err_res <- rbind(err_res, data.frame(Name=\"SVM\", Model=\"mod9\", \n",
    "                                     RMSE=rmse(test$tip,pred9), \n",
    "                                     RMSLE=rmsle(test$tip,pred9)))"
   ]
  },
  {
   "cell_type": "code",
   "execution_count": null,
   "metadata": {},
   "outputs": [],
   "source": [
    "err_res %>% arrange(RMSLE)"
   ]
  }
 ],
 "metadata": {
  "kernelspec": {
   "display_name": "R",
   "language": "R",
   "name": "ir"
  },
  "language_info": {
   "codemirror_mode": "r",
   "file_extension": ".r",
   "mimetype": "text/x-r-source",
   "name": "R",
   "pygments_lexer": "r",
   "version": "4.0.1"
  }
 },
 "nbformat": 4,
 "nbformat_minor": 2
}
