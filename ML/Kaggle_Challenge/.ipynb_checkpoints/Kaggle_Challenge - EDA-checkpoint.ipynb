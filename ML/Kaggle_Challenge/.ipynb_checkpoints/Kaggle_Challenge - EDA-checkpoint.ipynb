{
 "cells": [
  {
   "cell_type": "markdown",
   "metadata": {},
   "source": [
    "# Regression Models in R (tips)"
   ]
  },
  {
   "cell_type": "code",
   "execution_count": 1,
   "metadata": {},
   "outputs": [],
   "source": [
    "if(!exists(\"Table1\", mode=\"function\")) source(\"mechkar.R\")"
   ]
  },
  {
   "cell_type": "code",
   "execution_count": 2,
   "metadata": {},
   "outputs": [
    {
     "name": "stderr",
     "output_type": "stream",
     "text": [
      "Warning message:\n",
      "\"package 'dplyr' was built under R version 4.0.2\"\n",
      "\n",
      "Attaching package: 'dplyr'\n",
      "\n",
      "\n",
      "The following objects are masked from 'package:stats':\n",
      "\n",
      "    filter, lag\n",
      "\n",
      "\n",
      "The following objects are masked from 'package:base':\n",
      "\n",
      "    intersect, setdiff, setequal, union\n",
      "\n",
      "\n",
      "Warning message:\n",
      "\"package 'ggplot2' was built under R version 4.0.2\"\n"
     ]
    }
   ],
   "source": [
    "\n",
    "library(readr)\n",
    "library(dplyr)\n",
    "library(ggplot2)\n"
   ]
  },
  {
   "cell_type": "code",
   "execution_count": 3,
   "metadata": {},
   "outputs": [
    {
     "data": {
      "text/html": [
       "<table>\n",
       "<caption>A data.frame: 6 × 12</caption>\n",
       "<thead>\n",
       "\t<tr><th></th><th scope=col>id</th><th scope=col>season</th><th scope=col>mnth</th><th scope=col>holiday</th><th scope=col>weekday</th><th scope=col>workingday</th><th scope=col>weathersit</th><th scope=col>temp</th><th scope=col>atemp</th><th scope=col>hum</th><th scope=col>windspeed</th><th scope=col>cnt</th></tr>\n",
       "\t<tr><th></th><th scope=col>&lt;int&gt;</th><th scope=col>&lt;int&gt;</th><th scope=col>&lt;int&gt;</th><th scope=col>&lt;int&gt;</th><th scope=col>&lt;int&gt;</th><th scope=col>&lt;int&gt;</th><th scope=col>&lt;int&gt;</th><th scope=col>&lt;dbl&gt;</th><th scope=col>&lt;dbl&gt;</th><th scope=col>&lt;dbl&gt;</th><th scope=col>&lt;dbl&gt;</th><th scope=col>&lt;int&gt;</th></tr>\n",
       "</thead>\n",
       "<tbody>\n",
       "\t<tr><th scope=row>1</th><td>1</td><td>1</td><td>1</td><td>0</td><td>6</td><td>0</td><td>2</td><td>0.344167</td><td>0.363625</td><td>0.805833</td><td>0.1604460</td><td> 985</td></tr>\n",
       "\t<tr><th scope=row>2</th><td>2</td><td>1</td><td>1</td><td>0</td><td>0</td><td>0</td><td>2</td><td>0.363478</td><td>0.353739</td><td>0.696087</td><td>0.2485390</td><td> 801</td></tr>\n",
       "\t<tr><th scope=row>3</th><td>3</td><td>1</td><td>1</td><td>0</td><td>1</td><td>1</td><td>1</td><td>0.196364</td><td>0.189405</td><td>0.437273</td><td>0.2483090</td><td>1349</td></tr>\n",
       "\t<tr><th scope=row>4</th><td>4</td><td>1</td><td>1</td><td>0</td><td>2</td><td>1</td><td>1</td><td>0.200000</td><td>0.212122</td><td>0.590435</td><td>0.1602960</td><td>1562</td></tr>\n",
       "\t<tr><th scope=row>5</th><td>5</td><td>1</td><td>1</td><td>0</td><td>3</td><td>1</td><td>1</td><td>0.226957</td><td>0.229270</td><td>0.436957</td><td>0.1869000</td><td>1600</td></tr>\n",
       "\t<tr><th scope=row>6</th><td>6</td><td>1</td><td>1</td><td>0</td><td>4</td><td>1</td><td>1</td><td>0.204348</td><td>0.233209</td><td>0.518261</td><td>0.0895652</td><td>1606</td></tr>\n",
       "</tbody>\n",
       "</table>\n"
      ],
      "text/latex": [
       "A data.frame: 6 × 12\n",
       "\\begin{tabular}{r|llllllllllll}\n",
       "  & id & season & mnth & holiday & weekday & workingday & weathersit & temp & atemp & hum & windspeed & cnt\\\\\n",
       "  & <int> & <int> & <int> & <int> & <int> & <int> & <int> & <dbl> & <dbl> & <dbl> & <dbl> & <int>\\\\\n",
       "\\hline\n",
       "\t1 & 1 & 1 & 1 & 0 & 6 & 0 & 2 & 0.344167 & 0.363625 & 0.805833 & 0.1604460 &  985\\\\\n",
       "\t2 & 2 & 1 & 1 & 0 & 0 & 0 & 2 & 0.363478 & 0.353739 & 0.696087 & 0.2485390 &  801\\\\\n",
       "\t3 & 3 & 1 & 1 & 0 & 1 & 1 & 1 & 0.196364 & 0.189405 & 0.437273 & 0.2483090 & 1349\\\\\n",
       "\t4 & 4 & 1 & 1 & 0 & 2 & 1 & 1 & 0.200000 & 0.212122 & 0.590435 & 0.1602960 & 1562\\\\\n",
       "\t5 & 5 & 1 & 1 & 0 & 3 & 1 & 1 & 0.226957 & 0.229270 & 0.436957 & 0.1869000 & 1600\\\\\n",
       "\t6 & 6 & 1 & 1 & 0 & 4 & 1 & 1 & 0.204348 & 0.233209 & 0.518261 & 0.0895652 & 1606\\\\\n",
       "\\end{tabular}\n"
      ],
      "text/markdown": [
       "\n",
       "A data.frame: 6 × 12\n",
       "\n",
       "| <!--/--> | id &lt;int&gt; | season &lt;int&gt; | mnth &lt;int&gt; | holiday &lt;int&gt; | weekday &lt;int&gt; | workingday &lt;int&gt; | weathersit &lt;int&gt; | temp &lt;dbl&gt; | atemp &lt;dbl&gt; | hum &lt;dbl&gt; | windspeed &lt;dbl&gt; | cnt &lt;int&gt; |\n",
       "|---|---|---|---|---|---|---|---|---|---|---|---|---|\n",
       "| 1 | 1 | 1 | 1 | 0 | 6 | 0 | 2 | 0.344167 | 0.363625 | 0.805833 | 0.1604460 |  985 |\n",
       "| 2 | 2 | 1 | 1 | 0 | 0 | 0 | 2 | 0.363478 | 0.353739 | 0.696087 | 0.2485390 |  801 |\n",
       "| 3 | 3 | 1 | 1 | 0 | 1 | 1 | 1 | 0.196364 | 0.189405 | 0.437273 | 0.2483090 | 1349 |\n",
       "| 4 | 4 | 1 | 1 | 0 | 2 | 1 | 1 | 0.200000 | 0.212122 | 0.590435 | 0.1602960 | 1562 |\n",
       "| 5 | 5 | 1 | 1 | 0 | 3 | 1 | 1 | 0.226957 | 0.229270 | 0.436957 | 0.1869000 | 1600 |\n",
       "| 6 | 6 | 1 | 1 | 0 | 4 | 1 | 1 | 0.204348 | 0.233209 | 0.518261 | 0.0895652 | 1606 |\n",
       "\n"
      ],
      "text/plain": [
       "  id season mnth holiday weekday workingday weathersit temp     atemp   \n",
       "1 1  1      1    0       6       0          2          0.344167 0.363625\n",
       "2 2  1      1    0       0       0          2          0.363478 0.353739\n",
       "3 3  1      1    0       1       1          1          0.196364 0.189405\n",
       "4 4  1      1    0       2       1          1          0.200000 0.212122\n",
       "5 5  1      1    0       3       1          1          0.226957 0.229270\n",
       "6 6  1      1    0       4       1          1          0.204348 0.233209\n",
       "  hum      windspeed cnt \n",
       "1 0.805833 0.1604460  985\n",
       "2 0.696087 0.2485390  801\n",
       "3 0.437273 0.2483090 1349\n",
       "4 0.590435 0.1602960 1562\n",
       "5 0.436957 0.1869000 1600\n",
       "6 0.518261 0.0895652 1606"
      ]
     },
     "metadata": {},
     "output_type": "display_data"
    },
    {
     "data": {
      "text/html": [
       "<style>\n",
       ".list-inline {list-style: none; margin:0; padding: 0}\n",
       ".list-inline>li {display: inline-block}\n",
       ".list-inline>li:not(:last-child)::after {content: \"\\00b7\"; padding: 0 .5ex}\n",
       "</style>\n",
       "<ol class=list-inline><li>365</li><li>12</li></ol>\n"
      ],
      "text/latex": [
       "\\begin{enumerate*}\n",
       "\\item 365\n",
       "\\item 12\n",
       "\\end{enumerate*}\n"
      ],
      "text/markdown": [
       "1. 365\n",
       "2. 12\n",
       "\n",
       "\n"
      ],
      "text/plain": [
       "[1] 365  12"
      ]
     },
     "metadata": {},
     "output_type": "display_data"
    }
   ],
   "source": [
    "df <- read.csv(\"train.csv\")\n",
    "head(df)\n",
    "dim(df)"
   ]
  },
  {
   "cell_type": "markdown",
   "metadata": {},
   "source": [
    "Data Set Information:\n",
    "\n",
    "Bike sharing systems are new generation of traditional bike rentals where whole process from membership, rental and return back has become automatic. Through these systems, user is able to easily rent a bike from a particular position and return back at another position. Currently, there are about over 500 bike-sharing programs around the world which is composed of over 500 thousands bicycles. Today, there exists great interest in these systems due to their important role in traffic, environmental and health issues.\n",
    "\n",
    "Apart from interesting real world applications of bike sharing systems, the characteristics of data being generated by these systems make them attractive for the research. Opposed to other transport services such as bus or subway, the duration of travel, departure and arrival position is explicitly recorded in these systems. This feature turns bike sharing system into a virtual sensor network that can be used for sensing mobility in the city. Hence, it is expected that most of important events in the city could be detected via monitoring these data.\n",
    "\n",
    "\n",
    "Attribute Information:\n",
    "\n",
    "Both hour.csv and day.csv have the following fields, except hr which is not available in day.csv\n",
    "\n",
    "- instant: record index\n",
    "- season : season (1:winter, 2:spring, 3:summer, 4:fall)\n",
    "- mnth : month ( 1 to 12)\n",
    "- hr : hour (0 to 23)\n",
    "- holiday : weather day is holiday or not (extracted from [Web Link])\n",
    "- weekday : day of the week\n",
    "- workingday : if day is neither weekend nor holiday is 1, otherwise is 0.\n",
    "+ weathersit :\n",
    "- 1: Clear, Few clouds, Partly cloudy, Partly cloudy\n",
    "- 2: Mist + Cloudy, Mist + Broken clouds, Mist + Few clouds, Mist\n",
    "- 3: Light Snow, Light Rain + Thunderstorm + Scattered clouds, Light Rain + Scattered clouds\n",
    "- 4: Heavy Rain + Ice Pallets + Thunderstorm + Mist, Snow + Fog\n",
    "- temp : Normalized temperature in Celsius. The values are derived via (t-t_min)/(t_max-t_min), t_min=-8, t_max=+39 (only in hourly scale)\n",
    "- atemp: Normalized feeling temperature in Celsius. The values are derived via (t-t_min)/(t_max-t_min), t_min=-16, t_max=+50 (only in hourly scale)\n",
    "- hum: Normalized humidity. The values are divided to 100 (max)\n",
    "- windspeed: Normalized wind speed. The values are divided to 67 (max)\n",
    "- casual: count of casual users\n",
    "- registered: count of registered users\n",
    "- cnt: count of total rental bikes including both casual and registered"
   ]
  },
  {
   "cell_type": "markdown",
   "metadata": {},
   "source": [
    "# EDA"
   ]
  },
  {
   "cell_type": "code",
   "execution_count": 4,
   "metadata": {},
   "outputs": [
    {
     "ename": "ERROR",
     "evalue": "Error in parse(text = x, srcfile = src): <text>:1:8: unexpected symbol\n1: import sweetviz\n           ^\n",
     "output_type": "error",
     "traceback": [
      "Error in parse(text = x, srcfile = src): <text>:1:8: unexpected symbol\n1: import sweetviz\n           ^\nTraceback:\n"
     ]
    }
   ],
   "source": [
    "import sweetviz as sv\n",
    "\n",
    "#analyzing the dataset\n",
    "advert_report = sv.analyze(df)\n",
    "#display the report\n",
    "advert_report.show_html('bikes.html')\n"
   ]
  },
  {
   "cell_type": "code",
   "execution_count": 74,
   "metadata": {},
   "outputs": [],
   "source": [
    "df[\"season_1\"] = as.integer(df$season == 1)\n",
    "df[\"season_2\"] = as.integer(df$season == 2)\n",
    "df[\"season_3\"] = as.integer(df$season == 3)\n",
    "df[\"season_4\"] = as.integer(df$season == 4)\n",
    "\n",
    "df[\"mnth_1\"] = as.integer(df$mnth == 1)\n",
    "df[\"mnth_2\"] = as.integer(df$mnth == 2)\n",
    "df[\"mnth_3\"] = as.integer(df$mnth == 3)\n",
    "df[\"mnth_4\"] = as.integer(df$mnth == 4)\n",
    "df[\"mnth_5\"] = as.integer(df$mnth == 5)\n",
    "df[\"mnth_6\"] = as.integer(df$mnth == 6)\n",
    "df[\"mnth_7\"] = as.integer(df$mnth == 7)\n",
    "df[\"mnth_8\"] = as.integer(df$mnth == 8)\n",
    "df[\"mnth_9\"] = as.integer(df$mnth == 9)\n",
    "df[\"mnth_10\"] = as.integer(df$mnth == 10)\n",
    "df[\"mnth_11\"] = as.integer(df$mnth == 11)\n",
    "df[\"mnth_12\"] = as.integer(df$mnth == 12)\n",
    "\n",
    "df[\"weekday_0\"] = as.integer(df$weekday == 0)\n",
    "df[\"weekday_1\"] = as.integer(df$weekday == 1)\n",
    "df[\"weekday_2\"] = as.integer(df$weekday == 2)\n",
    "df[\"weekday_3\"] = as.integer(df$weekday == 3)\n",
    "df[\"weekday_4\"] = as.integer(df$weekday == 4)\n",
    "df[\"weekday_5\"] = as.integer(df$weekday == 5)\n",
    "df[\"weekday_6\"] = as.integer(df$weekday == 6)\n",
    "\n",
    "df[\"weathersit_1\"] = as.integer(df$weathersit == 1)\n",
    "df[\"weathersit_2\"] = as.integer(df$weathersit == 2)\n",
    "df[\"weathersit_3\"] = as.integer(df$weathersit == 3)\n",
    "\n",
    "df[\"mnth\"] <- NULL\n",
    "df[\"weathersit\"] <- NULL\n",
    "df[\"weekday\"] <- NULL\n",
    "df[\"season\"] <- NULL\n",
    "df[\"atemp\"] <- NULL"
   ]
  },
  {
   "cell_type": "code",
   "execution_count": 75,
   "metadata": {},
   "outputs": [
    {
     "data": {
      "text/plain": [
       "       id      holiday workingday      temp              hum        \n",
       " Min.   :  1   0:355   0:115      Min.   :0.05913   Min.   :0.0000  \n",
       " 1st Qu.: 92   1: 10   1:250      1st Qu.:0.32500   1st Qu.:0.5383  \n",
       " Median :183                      Median :0.47917   Median :0.6475  \n",
       " Mean   :183                      Mean   :0.48666   Mean   :0.6437  \n",
       " 3rd Qu.:274                      3rd Qu.:0.65667   3rd Qu.:0.7421  \n",
       " Max.   :365                      Max.   :0.84917   Max.   :0.9725  \n",
       "   windspeed            cnt       season_1 season_2 season_3 season_4 mnth_1 \n",
       " Min.   :0.02239   Min.   : 431   0:275    0:273    0:271    0:276    0:334  \n",
       " 1st Qu.:0.13558   1st Qu.:2132   1: 90    1: 92    1: 94    1: 89    1: 31  \n",
       " Median :0.18690   Median :3740                                              \n",
       " Mean   :0.19140   Mean   :3406                                              \n",
       " 3rd Qu.:0.23508   3rd Qu.:4586                                              \n",
       " Max.   :0.50746   Max.   :6043                                              \n",
       " mnth_2  mnth_3  mnth_4  mnth_5  mnth_6  mnth_7  mnth_8  mnth_9  mnth_10\n",
       " 0:337   0:334   0:335   0:334   0:335   0:334   0:334   0:335   0:334  \n",
       " 1: 28   1: 31   1: 30   1: 31   1: 30   1: 31   1: 31   1: 30   1: 31  \n",
       "                                                                        \n",
       "                                                                        \n",
       "                                                                        \n",
       "                                                                        \n",
       " mnth_11 mnth_12 weekday_0 weekday_1 weekday_2 weekday_3 weekday_4 weekday_5\n",
       " 0:335   0:334   0:313     0:313     0:313     0:313     0:313     0:313    \n",
       " 1: 30   1: 31   1: 52     1: 52     1: 52     1: 52     1: 52     1: 52    \n",
       "                                                                            \n",
       "                                                                            \n",
       "                                                                            \n",
       "                                                                            \n",
       " weekday_6 weathersit_1 weathersit_2 weathersit_3\n",
       " 0:312     0:139        0:241        0:350       \n",
       " 1: 53     1:226        1:124        1: 15       \n",
       "                                                 \n",
       "                                                 \n",
       "                                                 \n",
       "                                                 "
      ]
     },
     "metadata": {},
     "output_type": "display_data"
    }
   ],
   "source": [
    "df$holiday <- as.factor(df$holiday)\n",
    "df$workingday <- as.factor(df$workingday)\n",
    "\n",
    "df[\"season_1\"] = as.factor(df$season_1)\n",
    "df[\"season_2\"] = as.factor(df$season_2)\n",
    "df[\"season_3\"] = as.factor(df$season_3)\n",
    "df[\"season_4\"] = as.factor(df$season_4)\n",
    "\n",
    "df[\"mnth_1\"] = as.factor(df$mnth_1)\n",
    "df[\"mnth_2\"] = as.factor(df$mnth_2)\n",
    "df[\"mnth_3\"] = as.factor(df$mnth_3)\n",
    "df[\"mnth_4\"] = as.factor(df$mnth_4)\n",
    "df[\"mnth_5\"] = as.factor(df$mnth_5)\n",
    "df[\"mnth_6\"] = as.factor(df$mnth_6)\n",
    "df[\"mnth_7\"] = as.factor(df$mnth_7)\n",
    "df[\"mnth_8\"] = as.factor(df$mnth_8)\n",
    "df[\"mnth_9\"] = as.factor(df$mnth_9)\n",
    "df[\"mnth_10\"] = as.factor(df$mnth_10)\n",
    "df[\"mnth_11\"] = as.factor(df$mnth_11)\n",
    "df[\"mnth_12\"] = as.factor(df$mnth_12)\n",
    "\n",
    "df[\"weekday_0\"] = as.factor(df$weekday_0)\n",
    "df[\"weekday_1\"] = as.factor(df$weekday_1)\n",
    "df[\"weekday_2\"] = as.factor(df$weekday_2)\n",
    "df[\"weekday_3\"] = as.factor(df$weekday_3)\n",
    "df[\"weekday_4\"] = as.factor(df$weekday_4)\n",
    "df[\"weekday_5\"] = as.factor(df$weekday_5)\n",
    "df[\"weekday_6\"] = as.factor(df$weekday_6)\n",
    "\n",
    "df[\"weathersit_1\"] = as.factor(df$weathersit_1)\n",
    "df[\"weathersit_2\"] = as.factor(df$weathersit_2)\n",
    "df[\"weathersit_3\"] = as.factor(df$weathersit_3)\n",
    "\n",
    "\n",
    "\n",
    "\n",
    "summary(df)"
   ]
  }
 ],
 "metadata": {
  "kernelspec": {
   "display_name": "Python 3",
   "language": "python",
   "name": "python3"
  },
  "language_info": {
   "codemirror_mode": "r",
   "file_extension": ".r",
   "mimetype": "text/x-r-source",
   "name": "R",
   "pygments_lexer": "r",
   "version": "4.0.1"
  }
 },
 "nbformat": 4,
 "nbformat_minor": 2
}
