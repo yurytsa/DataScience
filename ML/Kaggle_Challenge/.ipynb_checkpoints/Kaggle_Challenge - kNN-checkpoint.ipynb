{
 "cells": [
  {
   "cell_type": "markdown",
   "metadata": {},
   "source": [
    "# Regression Models in R (tips)"
   ]
  },
  {
   "cell_type": "code",
   "execution_count": 1,
   "metadata": {},
   "outputs": [],
   "source": [
    "if(!exists(\"Table1\", mode=\"function\")) source(\"mechkar.R\")"
   ]
  },
  {
   "cell_type": "code",
   "execution_count": 2,
   "metadata": {},
   "outputs": [
    {
     "name": "stderr",
     "output_type": "stream",
     "text": [
      "Warning message:\n",
      "\"package 'dplyr' was built under R version 4.0.2\"\n",
      "\n",
      "Attaching package: 'dplyr'\n",
      "\n",
      "\n",
      "The following objects are masked from 'package:stats':\n",
      "\n",
      "    filter, lag\n",
      "\n",
      "\n",
      "The following objects are masked from 'package:base':\n",
      "\n",
      "    intersect, setdiff, setequal, union\n",
      "\n",
      "\n",
      "Warning message:\n",
      "\"package 'ggplot2' was built under R version 4.0.2\"\n"
     ]
    }
   ],
   "source": [
    "\n",
    "library(readr)\n",
    "library(dplyr)\n",
    "library(ggplot2)\n"
   ]
  },
  {
   "cell_type": "code",
   "execution_count": 3,
   "metadata": {},
   "outputs": [
    {
     "data": {
      "text/html": [
       "<table>\n",
       "<caption>A data.frame: 6 × 12</caption>\n",
       "<thead>\n",
       "\t<tr><th></th><th scope=col>id</th><th scope=col>season</th><th scope=col>mnth</th><th scope=col>holiday</th><th scope=col>weekday</th><th scope=col>workingday</th><th scope=col>weathersit</th><th scope=col>temp</th><th scope=col>atemp</th><th scope=col>hum</th><th scope=col>windspeed</th><th scope=col>cnt</th></tr>\n",
       "\t<tr><th></th><th scope=col>&lt;int&gt;</th><th scope=col>&lt;int&gt;</th><th scope=col>&lt;int&gt;</th><th scope=col>&lt;int&gt;</th><th scope=col>&lt;int&gt;</th><th scope=col>&lt;int&gt;</th><th scope=col>&lt;int&gt;</th><th scope=col>&lt;dbl&gt;</th><th scope=col>&lt;dbl&gt;</th><th scope=col>&lt;dbl&gt;</th><th scope=col>&lt;dbl&gt;</th><th scope=col>&lt;int&gt;</th></tr>\n",
       "</thead>\n",
       "<tbody>\n",
       "\t<tr><th scope=row>1</th><td>1</td><td>1</td><td>1</td><td>0</td><td>6</td><td>0</td><td>2</td><td>0.344167</td><td>0.363625</td><td>0.805833</td><td>0.1604460</td><td> 985</td></tr>\n",
       "\t<tr><th scope=row>2</th><td>2</td><td>1</td><td>1</td><td>0</td><td>0</td><td>0</td><td>2</td><td>0.363478</td><td>0.353739</td><td>0.696087</td><td>0.2485390</td><td> 801</td></tr>\n",
       "\t<tr><th scope=row>3</th><td>3</td><td>1</td><td>1</td><td>0</td><td>1</td><td>1</td><td>1</td><td>0.196364</td><td>0.189405</td><td>0.437273</td><td>0.2483090</td><td>1349</td></tr>\n",
       "\t<tr><th scope=row>4</th><td>4</td><td>1</td><td>1</td><td>0</td><td>2</td><td>1</td><td>1</td><td>0.200000</td><td>0.212122</td><td>0.590435</td><td>0.1602960</td><td>1562</td></tr>\n",
       "\t<tr><th scope=row>5</th><td>5</td><td>1</td><td>1</td><td>0</td><td>3</td><td>1</td><td>1</td><td>0.226957</td><td>0.229270</td><td>0.436957</td><td>0.1869000</td><td>1600</td></tr>\n",
       "\t<tr><th scope=row>6</th><td>6</td><td>1</td><td>1</td><td>0</td><td>4</td><td>1</td><td>1</td><td>0.204348</td><td>0.233209</td><td>0.518261</td><td>0.0895652</td><td>1606</td></tr>\n",
       "</tbody>\n",
       "</table>\n"
      ],
      "text/latex": [
       "A data.frame: 6 × 12\n",
       "\\begin{tabular}{r|llllllllllll}\n",
       "  & id & season & mnth & holiday & weekday & workingday & weathersit & temp & atemp & hum & windspeed & cnt\\\\\n",
       "  & <int> & <int> & <int> & <int> & <int> & <int> & <int> & <dbl> & <dbl> & <dbl> & <dbl> & <int>\\\\\n",
       "\\hline\n",
       "\t1 & 1 & 1 & 1 & 0 & 6 & 0 & 2 & 0.344167 & 0.363625 & 0.805833 & 0.1604460 &  985\\\\\n",
       "\t2 & 2 & 1 & 1 & 0 & 0 & 0 & 2 & 0.363478 & 0.353739 & 0.696087 & 0.2485390 &  801\\\\\n",
       "\t3 & 3 & 1 & 1 & 0 & 1 & 1 & 1 & 0.196364 & 0.189405 & 0.437273 & 0.2483090 & 1349\\\\\n",
       "\t4 & 4 & 1 & 1 & 0 & 2 & 1 & 1 & 0.200000 & 0.212122 & 0.590435 & 0.1602960 & 1562\\\\\n",
       "\t5 & 5 & 1 & 1 & 0 & 3 & 1 & 1 & 0.226957 & 0.229270 & 0.436957 & 0.1869000 & 1600\\\\\n",
       "\t6 & 6 & 1 & 1 & 0 & 4 & 1 & 1 & 0.204348 & 0.233209 & 0.518261 & 0.0895652 & 1606\\\\\n",
       "\\end{tabular}\n"
      ],
      "text/markdown": [
       "\n",
       "A data.frame: 6 × 12\n",
       "\n",
       "| <!--/--> | id &lt;int&gt; | season &lt;int&gt; | mnth &lt;int&gt; | holiday &lt;int&gt; | weekday &lt;int&gt; | workingday &lt;int&gt; | weathersit &lt;int&gt; | temp &lt;dbl&gt; | atemp &lt;dbl&gt; | hum &lt;dbl&gt; | windspeed &lt;dbl&gt; | cnt &lt;int&gt; |\n",
       "|---|---|---|---|---|---|---|---|---|---|---|---|---|\n",
       "| 1 | 1 | 1 | 1 | 0 | 6 | 0 | 2 | 0.344167 | 0.363625 | 0.805833 | 0.1604460 |  985 |\n",
       "| 2 | 2 | 1 | 1 | 0 | 0 | 0 | 2 | 0.363478 | 0.353739 | 0.696087 | 0.2485390 |  801 |\n",
       "| 3 | 3 | 1 | 1 | 0 | 1 | 1 | 1 | 0.196364 | 0.189405 | 0.437273 | 0.2483090 | 1349 |\n",
       "| 4 | 4 | 1 | 1 | 0 | 2 | 1 | 1 | 0.200000 | 0.212122 | 0.590435 | 0.1602960 | 1562 |\n",
       "| 5 | 5 | 1 | 1 | 0 | 3 | 1 | 1 | 0.226957 | 0.229270 | 0.436957 | 0.1869000 | 1600 |\n",
       "| 6 | 6 | 1 | 1 | 0 | 4 | 1 | 1 | 0.204348 | 0.233209 | 0.518261 | 0.0895652 | 1606 |\n",
       "\n"
      ],
      "text/plain": [
       "  id season mnth holiday weekday workingday weathersit temp     atemp   \n",
       "1 1  1      1    0       6       0          2          0.344167 0.363625\n",
       "2 2  1      1    0       0       0          2          0.363478 0.353739\n",
       "3 3  1      1    0       1       1          1          0.196364 0.189405\n",
       "4 4  1      1    0       2       1          1          0.200000 0.212122\n",
       "5 5  1      1    0       3       1          1          0.226957 0.229270\n",
       "6 6  1      1    0       4       1          1          0.204348 0.233209\n",
       "  hum      windspeed cnt \n",
       "1 0.805833 0.1604460  985\n",
       "2 0.696087 0.2485390  801\n",
       "3 0.437273 0.2483090 1349\n",
       "4 0.590435 0.1602960 1562\n",
       "5 0.436957 0.1869000 1600\n",
       "6 0.518261 0.0895652 1606"
      ]
     },
     "metadata": {},
     "output_type": "display_data"
    },
    {
     "data": {
      "text/html": [
       "<style>\n",
       ".list-inline {list-style: none; margin:0; padding: 0}\n",
       ".list-inline>li {display: inline-block}\n",
       ".list-inline>li:not(:last-child)::after {content: \"\\00b7\"; padding: 0 .5ex}\n",
       "</style>\n",
       "<ol class=list-inline><li>365</li><li>12</li></ol>\n"
      ],
      "text/latex": [
       "\\begin{enumerate*}\n",
       "\\item 365\n",
       "\\item 12\n",
       "\\end{enumerate*}\n"
      ],
      "text/markdown": [
       "1. 365\n",
       "2. 12\n",
       "\n",
       "\n"
      ],
      "text/plain": [
       "[1] 365  12"
      ]
     },
     "metadata": {},
     "output_type": "display_data"
    }
   ],
   "source": [
    "df <- read.csv(\"train.csv\")\n",
    "head(df)\n",
    "dim(df)"
   ]
  },
  {
   "cell_type": "markdown",
   "metadata": {},
   "source": [
    "Data Set Information:\n",
    "\n",
    "Bike sharing systems are new generation of traditional bike rentals where whole process from membership, rental and return back has become automatic. Through these systems, user is able to easily rent a bike from a particular position and return back at another position. Currently, there are about over 500 bike-sharing programs around the world which is composed of over 500 thousands bicycles. Today, there exists great interest in these systems due to their important role in traffic, environmental and health issues.\n",
    "\n",
    "Apart from interesting real world applications of bike sharing systems, the characteristics of data being generated by these systems make them attractive for the research. Opposed to other transport services such as bus or subway, the duration of travel, departure and arrival position is explicitly recorded in these systems. This feature turns bike sharing system into a virtual sensor network that can be used for sensing mobility in the city. Hence, it is expected that most of important events in the city could be detected via monitoring these data.\n",
    "\n",
    "\n",
    "Attribute Information:\n",
    "\n",
    "Both hour.csv and day.csv have the following fields, except hr which is not available in day.csv\n",
    "\n",
    "- instant: record index\n",
    "- season : season (1:winter, 2:spring, 3:summer, 4:fall)\n",
    "- mnth : month ( 1 to 12)\n",
    "- hr : hour (0 to 23)\n",
    "- holiday : weather day is holiday or not (extracted from [Web Link])\n",
    "- weekday : day of the week\n",
    "- workingday : if day is neither weekend nor holiday is 1, otherwise is 0.\n",
    "+ weathersit :\n",
    "- 1: Clear, Few clouds, Partly cloudy, Partly cloudy\n",
    "- 2: Mist + Cloudy, Mist + Broken clouds, Mist + Few clouds, Mist\n",
    "- 3: Light Snow, Light Rain + Thunderstorm + Scattered clouds, Light Rain + Scattered clouds\n",
    "- 4: Heavy Rain + Ice Pallets + Thunderstorm + Mist, Snow + Fog\n",
    "- temp : Normalized temperature in Celsius. The values are derived via (t-t_min)/(t_max-t_min), t_min=-8, t_max=+39 (only in hourly scale)\n",
    "- atemp: Normalized feeling temperature in Celsius. The values are derived via (t-t_min)/(t_max-t_min), t_min=-16, t_max=+50 (only in hourly scale)\n",
    "- hum: Normalized humidity. The values are divided to 100 (max)\n",
    "- windspeed: Normalized wind speed. The values are divided to 67 (max)\n",
    "- casual: count of casual users\n",
    "- registered: count of registered users\n",
    "- cnt: count of total rental bikes including both casual and registered"
   ]
  },
  {
   "cell_type": "markdown",
   "metadata": {},
   "source": [
    "# EDA"
   ]
  },
  {
   "cell_type": "code",
   "execution_count": 4,
   "metadata": {},
   "outputs": [
    {
     "data": {
      "text/plain": [
       "       id      season      mnth     holiday weekday workingday weathersit\n",
       " Min.   :  1   1:90   1      : 31   0:355   0:52    0:115      1:226     \n",
       " 1st Qu.: 92   2:92   3      : 31   1: 10   1:52    1:250      2:124     \n",
       " Median :183   3:94   5      : 31           2:52               3: 15     \n",
       " Mean   :183   4:89   7      : 31           3:52                         \n",
       " 3rd Qu.:274          8      : 31           4:52                         \n",
       " Max.   :365          10     : 31           5:52                         \n",
       "                      (Other):179           6:53                         \n",
       "      temp             atemp              hum           windspeed      \n",
       " Min.   :0.05913   Min.   :0.07907   Min.   :0.0000   Min.   :0.02239  \n",
       " 1st Qu.:0.32500   1st Qu.:0.32195   1st Qu.:0.5383   1st Qu.:0.13558  \n",
       " Median :0.47917   Median :0.47285   Median :0.6475   Median :0.18690  \n",
       " Mean   :0.48666   Mean   :0.46684   Mean   :0.6437   Mean   :0.19140  \n",
       " 3rd Qu.:0.65667   3rd Qu.:0.61238   3rd Qu.:0.7421   3rd Qu.:0.23508  \n",
       " Max.   :0.84917   Max.   :0.84090   Max.   :0.9725   Max.   :0.50746  \n",
       "                                                                       \n",
       "      cnt      \n",
       " Min.   : 431  \n",
       " 1st Qu.:2132  \n",
       " Median :3740  \n",
       " Mean   :3406  \n",
       " 3rd Qu.:4586  \n",
       " Max.   :6043  \n",
       "               "
      ]
     },
     "metadata": {},
     "output_type": "display_data"
    }
   ],
   "source": [
    "df$holiday <- as.factor(df$holiday)\n",
    "df$season <- as.factor(df$season)\n",
    "df$mnth <- as.factor(df$mnth)\n",
    "df$workingday <- as.factor(df$workingday)\n",
    "df$weathersit <- as.factor(df$weathersit)\n",
    "df$weekday <- as.factor(df$weekday)\n",
    "summary(df)"
   ]
  },
  {
   "cell_type": "markdown",
   "metadata": {},
   "source": [
    "# DATASET PARTITION"
   ]
  },
  {
   "cell_type": "code",
   "execution_count": 5,
   "metadata": {
    "scrolled": true
   },
   "outputs": [
    {
     "name": "stderr",
     "output_type": "stream",
     "text": [
      "Dataset partitioned into:\n",
      "\n",
      " + Train dataset: train\n",
      "\n",
      " + Test dataset: test\n",
      "\n",
      "Warning message in Table1(data = df, y = \"traintest_ind_\", messages = FALSE):\n",
      "\"The following variables have unique values and will not be included in the analysis: \"\n"
     ]
    },
    {
     "name": "stdout",
     "output_type": "stream",
     "text": [
      "  |======================================================================| 100%"
     ]
    },
    {
     "name": "stderr",
     "output_type": "stream",
     "text": [
      "Warning message:\n",
      "\"The `x` argument of `as_tibble.matrix()` must have unique column names if `.name_repair` is omitted as of tibble 2.0.0.\n",
      "Using compatibility `.name_repair`.\n",
      "\u001b[90mThis warning is displayed once every 8 hours.\u001b[39m\n",
      "\u001b[90mCall `lifecycle::last_warnings()` to see where this warning was generated.\u001b[39m\"\n"
     ]
    },
    {
     "name": "stdout",
     "output_type": "stream",
     "text": [
      "  |===========================                                           |  38%"
     ]
    },
    {
     "name": "stderr",
     "output_type": "stream",
     "text": [
      "Warning message in stats::chisq.test(data[[v]], data[[y]]):\n",
      "\"Chi-squared approximation may be incorrect\"\n"
     ]
    },
    {
     "name": "stdout",
     "output_type": "stream",
     "text": [
      "  |=================================================================     |  92%"
     ]
    },
    {
     "name": "stderr",
     "output_type": "stream",
     "text": [
      " \n",
      "\n",
      "You got a perfectly balanced training and test datasets\n",
      "\n",
      " \n",
      "\n"
     ]
    },
    {
     "data": {
      "text/html": [
       "<table>\n",
       "<caption>A tibble: 43 × 6</caption>\n",
       "<thead>\n",
       "\t<tr><th scope=col>V1</th><th scope=col>V2</th><th scope=col>Pop</th><th scope=col>1</th><th scope=col>2</th><th scope=col>pval</th></tr>\n",
       "\t<tr><th scope=col>&lt;chr&gt;</th><th scope=col>&lt;chr&gt;</th><th scope=col>&lt;chr&gt;</th><th scope=col>&lt;chr&gt;</th><th scope=col>&lt;chr&gt;</th><th scope=col>&lt;chr&gt;</th></tr>\n",
       "</thead>\n",
       "<tbody>\n",
       "\t<tr><td>Individuals   </td><td>n           </td><td>365                      </td><td>255                      </td><td>110                      </td><td>NA   </td></tr>\n",
       "\t<tr><td>id            </td><td>Mean (SD)   </td><td>183.0 (105.5)            </td><td>183.7 (105.0)            </td><td>181.4 (107.2)            </td><td>NA   </td></tr>\n",
       "\t<tr><td>id            </td><td>Median (IQR)</td><td>183.0 (92.0-274.0)       </td><td>181.0 (92.5-272.5)       </td><td>184.5 (88.0-277.0)       </td><td>0.854</td></tr>\n",
       "\t<tr><td>season        </td><td>1           </td><td>90 (24.7%)               </td><td>62 (24.3%)               </td><td>28 (25.5%)               </td><td>NA   </td></tr>\n",
       "\t<tr><td>season        </td><td>2           </td><td>92 (25.2%)               </td><td>67 (26.3%)               </td><td>25 (22.7%)               </td><td>0.914</td></tr>\n",
       "\t<tr><td>season        </td><td>3           </td><td>94 (25.8%)               </td><td>65 (25.5%)               </td><td>29 (26.4%)               </td><td>NA   </td></tr>\n",
       "\t<tr><td>season        </td><td>4           </td><td>89 (24.4%)               </td><td>61 (23.9%)               </td><td>28 (25.5%)               </td><td>NA   </td></tr>\n",
       "\t<tr><td>mnth          </td><td>1           </td><td>31 (8.5%)                </td><td>20 (7.8%)                </td><td>11 (10.0%)               </td><td>NA   </td></tr>\n",
       "\t<tr><td>mnth          </td><td>2           </td><td>28 (7.7%)                </td><td>18 (7.1%)                </td><td>10 (9.1%)                </td><td>0.841</td></tr>\n",
       "\t<tr><td>mnth          </td><td>3           </td><td>31 (8.5%)                </td><td>24 (9.4%)                </td><td>7 (6.4%)                 </td><td>NA   </td></tr>\n",
       "\t<tr><td>mnth          </td><td>4           </td><td>30 (8.2%)                </td><td>20 (7.8%)                </td><td>10 (9.1%)                </td><td>NA   </td></tr>\n",
       "\t<tr><td>mnth          </td><td>5           </td><td>31 (8.5%)                </td><td>23 (9.0%)                </td><td>8 (7.3%)                 </td><td>NA   </td></tr>\n",
       "\t<tr><td>mnth          </td><td>6           </td><td>30 (8.2%)                </td><td>23 (9.0%)                </td><td>7 (6.4%)                 </td><td>NA   </td></tr>\n",
       "\t<tr><td>mnth          </td><td>7           </td><td>31 (8.5%)                </td><td>20 (7.8%)                </td><td>11 (10.0%)               </td><td>NA   </td></tr>\n",
       "\t<tr><td>mnth          </td><td>8           </td><td>31 (8.5%)                </td><td>24 (9.4%)                </td><td>7 (6.4%)                 </td><td>NA   </td></tr>\n",
       "\t<tr><td>mnth          </td><td>9           </td><td>30 (8.2%)                </td><td>20 (7.8%)                </td><td>10 (9.1%)                </td><td>NA   </td></tr>\n",
       "\t<tr><td>mnth          </td><td>10          </td><td>31 (8.5%)                </td><td>21 (8.2%)                </td><td>10 (9.1%)                </td><td>NA   </td></tr>\n",
       "\t<tr><td>mnth          </td><td>11          </td><td>30 (8.2%)                </td><td>18 (7.1%)                </td><td>12 (10.9%)               </td><td>NA   </td></tr>\n",
       "\t<tr><td>mnth          </td><td>12          </td><td>31 (8.5%)                </td><td>24 (9.4%)                </td><td>7 (6.4%)                 </td><td>NA   </td></tr>\n",
       "\t<tr><td>holiday       </td><td>1           </td><td>10 (2.7%)                </td><td>5 (2.0%)                 </td><td>5 (4.5%)                 </td><td>0.166</td></tr>\n",
       "\t<tr><td>weekday       </td><td>0           </td><td>52 (14.2%)               </td><td>36 (14.1%)               </td><td>16 (14.5%)               </td><td>NA   </td></tr>\n",
       "\t<tr><td>weekday       </td><td>1           </td><td>52 (14.2%)               </td><td>34 (13.3%)               </td><td>18 (16.4%)               </td><td>0.931</td></tr>\n",
       "\t<tr><td>weekday       </td><td>2           </td><td>52 (14.2%)               </td><td>36 (14.1%)               </td><td>16 (14.5%)               </td><td>NA   </td></tr>\n",
       "\t<tr><td>weekday       </td><td>3           </td><td>52 (14.2%)               </td><td>34 (13.3%)               </td><td>18 (16.4%)               </td><td>NA   </td></tr>\n",
       "\t<tr><td>weekday       </td><td>4           </td><td>52 (14.2%)               </td><td>38 (14.9%)               </td><td>14 (12.7%)               </td><td>NA   </td></tr>\n",
       "\t<tr><td>weekday       </td><td>5           </td><td>52 (14.2%)               </td><td>38 (14.9%)               </td><td>14 (12.7%)               </td><td>NA   </td></tr>\n",
       "\t<tr><td>weekday       </td><td>6           </td><td>53 (14.5%)               </td><td>39 (15.3%)               </td><td>14 (12.7%)               </td><td>NA   </td></tr>\n",
       "\t<tr><td>workingday    </td><td>1           </td><td>250 (68.5%)              </td><td>175 (68.6%)              </td><td>75 (68.2%)               </td><td>1    </td></tr>\n",
       "\t<tr><td>weathersit    </td><td>1           </td><td>226 (61.9%)              </td><td>153 (60.0%)              </td><td>73 (66.4%)               </td><td>NA   </td></tr>\n",
       "\t<tr><td>weathersit    </td><td>2           </td><td>124 (34.0%)              </td><td>93 (36.5%)               </td><td>31 (28.2%)               </td><td>0.253</td></tr>\n",
       "\t<tr><td>weathersit    </td><td>3           </td><td>15 (4.1%)                </td><td>9 (3.5%)                 </td><td>6 (5.5%)                 </td><td>NA   </td></tr>\n",
       "\t<tr><td>temp          </td><td>Mean (SD)   </td><td>0.5 (0.2)                </td><td>0.5 (0.2)                </td><td>0.5 (0.2)                </td><td>NA   </td></tr>\n",
       "\t<tr><td>temp          </td><td>Median (IQR)</td><td>0.5 (0.3-0.7)            </td><td>0.5 (0.3-0.7)            </td><td>0.5 (0.3-0.7)            </td><td>0.633</td></tr>\n",
       "\t<tr><td>atemp         </td><td>Mean (SD)   </td><td>0.5 (0.2)                </td><td>0.5 (0.2)                </td><td>0.5 (0.2)                </td><td>NA   </td></tr>\n",
       "\t<tr><td>atemp         </td><td>Median (IQR)</td><td>0.5 (0.3-0.6)            </td><td>0.5 (0.3-0.6)            </td><td>0.5 (0.3-0.6)            </td><td>0.681</td></tr>\n",
       "\t<tr><td>hum           </td><td>Mean (SD)   </td><td>0.6 (0.1)                </td><td>0.6 (0.2)                </td><td>0.7 (0.1)                </td><td>NA   </td></tr>\n",
       "\t<tr><td>hum           </td><td>Median (IQR)</td><td>0.6 (0.5-0.7)            </td><td>0.6 (0.5-0.7)            </td><td>0.6 (0.5-0.7)            </td><td>0.53 </td></tr>\n",
       "\t<tr><td>windspeed     </td><td>Mean (SD)   </td><td>0.2 (0.1)                </td><td>0.2 (0.1)                </td><td>0.2 (0.1)                </td><td>NA   </td></tr>\n",
       "\t<tr><td>windspeed     </td><td>Median (IQR)</td><td>0.2 (0.1-0.2)            </td><td>0.2 (0.1-0.2)            </td><td>0.2 (0.1-0.2)            </td><td>0.704</td></tr>\n",
       "\t<tr><td>cnt           </td><td>Mean (SD)   </td><td>3,405.8 (1,378.8)        </td><td>3,443.5 (1,363.5)        </td><td>3,318.2 (1,415.8)        </td><td>NA   </td></tr>\n",
       "\t<tr><td>cnt           </td><td>Median (IQR)</td><td>3,740.0 (2,132.0-4,586.0)</td><td>3,750.0 (2,185.5-4,591.0)</td><td>3,577.5 (1,916.5-4,546.2)</td><td>0.426</td></tr>\n",
       "\t<tr><td>traintest_ind_</td><td>Mean (SD)   </td><td>1.3 (0.5)                </td><td>NA                       </td><td>NA                       </td><td>NA   </td></tr>\n",
       "\t<tr><td>traintest_ind_</td><td>Median (IQR)</td><td>1.0 (1.0-2.0)            </td><td>NA                       </td><td>NA                       </td><td>0    </td></tr>\n",
       "</tbody>\n",
       "</table>\n"
      ],
      "text/latex": [
       "A tibble: 43 × 6\n",
       "\\begin{tabular}{llllll}\n",
       " V1 & V2 & Pop & 1 & 2 & pval\\\\\n",
       " <chr> & <chr> & <chr> & <chr> & <chr> & <chr>\\\\\n",
       "\\hline\n",
       "\t Individuals    & n            & 365                       & 255                       & 110                       & NA   \\\\\n",
       "\t id             & Mean (SD)    & 183.0 (105.5)             & 183.7 (105.0)             & 181.4 (107.2)             & NA   \\\\\n",
       "\t id             & Median (IQR) & 183.0 (92.0-274.0)        & 181.0 (92.5-272.5)        & 184.5 (88.0-277.0)        & 0.854\\\\\n",
       "\t season         & 1            & 90 (24.7\\%)                & 62 (24.3\\%)                & 28 (25.5\\%)                & NA   \\\\\n",
       "\t season         & 2            & 92 (25.2\\%)                & 67 (26.3\\%)                & 25 (22.7\\%)                & 0.914\\\\\n",
       "\t season         & 3            & 94 (25.8\\%)                & 65 (25.5\\%)                & 29 (26.4\\%)                & NA   \\\\\n",
       "\t season         & 4            & 89 (24.4\\%)                & 61 (23.9\\%)                & 28 (25.5\\%)                & NA   \\\\\n",
       "\t mnth           & 1            & 31 (8.5\\%)                 & 20 (7.8\\%)                 & 11 (10.0\\%)                & NA   \\\\\n",
       "\t mnth           & 2            & 28 (7.7\\%)                 & 18 (7.1\\%)                 & 10 (9.1\\%)                 & 0.841\\\\\n",
       "\t mnth           & 3            & 31 (8.5\\%)                 & 24 (9.4\\%)                 & 7 (6.4\\%)                  & NA   \\\\\n",
       "\t mnth           & 4            & 30 (8.2\\%)                 & 20 (7.8\\%)                 & 10 (9.1\\%)                 & NA   \\\\\n",
       "\t mnth           & 5            & 31 (8.5\\%)                 & 23 (9.0\\%)                 & 8 (7.3\\%)                  & NA   \\\\\n",
       "\t mnth           & 6            & 30 (8.2\\%)                 & 23 (9.0\\%)                 & 7 (6.4\\%)                  & NA   \\\\\n",
       "\t mnth           & 7            & 31 (8.5\\%)                 & 20 (7.8\\%)                 & 11 (10.0\\%)                & NA   \\\\\n",
       "\t mnth           & 8            & 31 (8.5\\%)                 & 24 (9.4\\%)                 & 7 (6.4\\%)                  & NA   \\\\\n",
       "\t mnth           & 9            & 30 (8.2\\%)                 & 20 (7.8\\%)                 & 10 (9.1\\%)                 & NA   \\\\\n",
       "\t mnth           & 10           & 31 (8.5\\%)                 & 21 (8.2\\%)                 & 10 (9.1\\%)                 & NA   \\\\\n",
       "\t mnth           & 11           & 30 (8.2\\%)                 & 18 (7.1\\%)                 & 12 (10.9\\%)                & NA   \\\\\n",
       "\t mnth           & 12           & 31 (8.5\\%)                 & 24 (9.4\\%)                 & 7 (6.4\\%)                  & NA   \\\\\n",
       "\t holiday        & 1            & 10 (2.7\\%)                 & 5 (2.0\\%)                  & 5 (4.5\\%)                  & 0.166\\\\\n",
       "\t weekday        & 0            & 52 (14.2\\%)                & 36 (14.1\\%)                & 16 (14.5\\%)                & NA   \\\\\n",
       "\t weekday        & 1            & 52 (14.2\\%)                & 34 (13.3\\%)                & 18 (16.4\\%)                & 0.931\\\\\n",
       "\t weekday        & 2            & 52 (14.2\\%)                & 36 (14.1\\%)                & 16 (14.5\\%)                & NA   \\\\\n",
       "\t weekday        & 3            & 52 (14.2\\%)                & 34 (13.3\\%)                & 18 (16.4\\%)                & NA   \\\\\n",
       "\t weekday        & 4            & 52 (14.2\\%)                & 38 (14.9\\%)                & 14 (12.7\\%)                & NA   \\\\\n",
       "\t weekday        & 5            & 52 (14.2\\%)                & 38 (14.9\\%)                & 14 (12.7\\%)                & NA   \\\\\n",
       "\t weekday        & 6            & 53 (14.5\\%)                & 39 (15.3\\%)                & 14 (12.7\\%)                & NA   \\\\\n",
       "\t workingday     & 1            & 250 (68.5\\%)               & 175 (68.6\\%)               & 75 (68.2\\%)                & 1    \\\\\n",
       "\t weathersit     & 1            & 226 (61.9\\%)               & 153 (60.0\\%)               & 73 (66.4\\%)                & NA   \\\\\n",
       "\t weathersit     & 2            & 124 (34.0\\%)               & 93 (36.5\\%)                & 31 (28.2\\%)                & 0.253\\\\\n",
       "\t weathersit     & 3            & 15 (4.1\\%)                 & 9 (3.5\\%)                  & 6 (5.5\\%)                  & NA   \\\\\n",
       "\t temp           & Mean (SD)    & 0.5 (0.2)                 & 0.5 (0.2)                 & 0.5 (0.2)                 & NA   \\\\\n",
       "\t temp           & Median (IQR) & 0.5 (0.3-0.7)             & 0.5 (0.3-0.7)             & 0.5 (0.3-0.7)             & 0.633\\\\\n",
       "\t atemp          & Mean (SD)    & 0.5 (0.2)                 & 0.5 (0.2)                 & 0.5 (0.2)                 & NA   \\\\\n",
       "\t atemp          & Median (IQR) & 0.5 (0.3-0.6)             & 0.5 (0.3-0.6)             & 0.5 (0.3-0.6)             & 0.681\\\\\n",
       "\t hum            & Mean (SD)    & 0.6 (0.1)                 & 0.6 (0.2)                 & 0.7 (0.1)                 & NA   \\\\\n",
       "\t hum            & Median (IQR) & 0.6 (0.5-0.7)             & 0.6 (0.5-0.7)             & 0.6 (0.5-0.7)             & 0.53 \\\\\n",
       "\t windspeed      & Mean (SD)    & 0.2 (0.1)                 & 0.2 (0.1)                 & 0.2 (0.1)                 & NA   \\\\\n",
       "\t windspeed      & Median (IQR) & 0.2 (0.1-0.2)             & 0.2 (0.1-0.2)             & 0.2 (0.1-0.2)             & 0.704\\\\\n",
       "\t cnt            & Mean (SD)    & 3,405.8 (1,378.8)         & 3,443.5 (1,363.5)         & 3,318.2 (1,415.8)         & NA   \\\\\n",
       "\t cnt            & Median (IQR) & 3,740.0 (2,132.0-4,586.0) & 3,750.0 (2,185.5-4,591.0) & 3,577.5 (1,916.5-4,546.2) & 0.426\\\\\n",
       "\t traintest\\_ind\\_ & Mean (SD)    & 1.3 (0.5)                 & NA                        & NA                        & NA   \\\\\n",
       "\t traintest\\_ind\\_ & Median (IQR) & 1.0 (1.0-2.0)             & NA                        & NA                        & 0    \\\\\n",
       "\\end{tabular}\n"
      ],
      "text/markdown": [
       "\n",
       "A tibble: 43 × 6\n",
       "\n",
       "| V1 &lt;chr&gt; | V2 &lt;chr&gt; | Pop &lt;chr&gt; | 1 &lt;chr&gt; | 2 &lt;chr&gt; | pval &lt;chr&gt; |\n",
       "|---|---|---|---|---|---|\n",
       "| Individuals    | n            | 365                       | 255                       | 110                       | NA    |\n",
       "| id             | Mean (SD)    | 183.0 (105.5)             | 183.7 (105.0)             | 181.4 (107.2)             | NA    |\n",
       "| id             | Median (IQR) | 183.0 (92.0-274.0)        | 181.0 (92.5-272.5)        | 184.5 (88.0-277.0)        | 0.854 |\n",
       "| season         | 1            | 90 (24.7%)                | 62 (24.3%)                | 28 (25.5%)                | NA    |\n",
       "| season         | 2            | 92 (25.2%)                | 67 (26.3%)                | 25 (22.7%)                | 0.914 |\n",
       "| season         | 3            | 94 (25.8%)                | 65 (25.5%)                | 29 (26.4%)                | NA    |\n",
       "| season         | 4            | 89 (24.4%)                | 61 (23.9%)                | 28 (25.5%)                | NA    |\n",
       "| mnth           | 1            | 31 (8.5%)                 | 20 (7.8%)                 | 11 (10.0%)                | NA    |\n",
       "| mnth           | 2            | 28 (7.7%)                 | 18 (7.1%)                 | 10 (9.1%)                 | 0.841 |\n",
       "| mnth           | 3            | 31 (8.5%)                 | 24 (9.4%)                 | 7 (6.4%)                  | NA    |\n",
       "| mnth           | 4            | 30 (8.2%)                 | 20 (7.8%)                 | 10 (9.1%)                 | NA    |\n",
       "| mnth           | 5            | 31 (8.5%)                 | 23 (9.0%)                 | 8 (7.3%)                  | NA    |\n",
       "| mnth           | 6            | 30 (8.2%)                 | 23 (9.0%)                 | 7 (6.4%)                  | NA    |\n",
       "| mnth           | 7            | 31 (8.5%)                 | 20 (7.8%)                 | 11 (10.0%)                | NA    |\n",
       "| mnth           | 8            | 31 (8.5%)                 | 24 (9.4%)                 | 7 (6.4%)                  | NA    |\n",
       "| mnth           | 9            | 30 (8.2%)                 | 20 (7.8%)                 | 10 (9.1%)                 | NA    |\n",
       "| mnth           | 10           | 31 (8.5%)                 | 21 (8.2%)                 | 10 (9.1%)                 | NA    |\n",
       "| mnth           | 11           | 30 (8.2%)                 | 18 (7.1%)                 | 12 (10.9%)                | NA    |\n",
       "| mnth           | 12           | 31 (8.5%)                 | 24 (9.4%)                 | 7 (6.4%)                  | NA    |\n",
       "| holiday        | 1            | 10 (2.7%)                 | 5 (2.0%)                  | 5 (4.5%)                  | 0.166 |\n",
       "| weekday        | 0            | 52 (14.2%)                | 36 (14.1%)                | 16 (14.5%)                | NA    |\n",
       "| weekday        | 1            | 52 (14.2%)                | 34 (13.3%)                | 18 (16.4%)                | 0.931 |\n",
       "| weekday        | 2            | 52 (14.2%)                | 36 (14.1%)                | 16 (14.5%)                | NA    |\n",
       "| weekday        | 3            | 52 (14.2%)                | 34 (13.3%)                | 18 (16.4%)                | NA    |\n",
       "| weekday        | 4            | 52 (14.2%)                | 38 (14.9%)                | 14 (12.7%)                | NA    |\n",
       "| weekday        | 5            | 52 (14.2%)                | 38 (14.9%)                | 14 (12.7%)                | NA    |\n",
       "| weekday        | 6            | 53 (14.5%)                | 39 (15.3%)                | 14 (12.7%)                | NA    |\n",
       "| workingday     | 1            | 250 (68.5%)               | 175 (68.6%)               | 75 (68.2%)                | 1     |\n",
       "| weathersit     | 1            | 226 (61.9%)               | 153 (60.0%)               | 73 (66.4%)                | NA    |\n",
       "| weathersit     | 2            | 124 (34.0%)               | 93 (36.5%)                | 31 (28.2%)                | 0.253 |\n",
       "| weathersit     | 3            | 15 (4.1%)                 | 9 (3.5%)                  | 6 (5.5%)                  | NA    |\n",
       "| temp           | Mean (SD)    | 0.5 (0.2)                 | 0.5 (0.2)                 | 0.5 (0.2)                 | NA    |\n",
       "| temp           | Median (IQR) | 0.5 (0.3-0.7)             | 0.5 (0.3-0.7)             | 0.5 (0.3-0.7)             | 0.633 |\n",
       "| atemp          | Mean (SD)    | 0.5 (0.2)                 | 0.5 (0.2)                 | 0.5 (0.2)                 | NA    |\n",
       "| atemp          | Median (IQR) | 0.5 (0.3-0.6)             | 0.5 (0.3-0.6)             | 0.5 (0.3-0.6)             | 0.681 |\n",
       "| hum            | Mean (SD)    | 0.6 (0.1)                 | 0.6 (0.2)                 | 0.7 (0.1)                 | NA    |\n",
       "| hum            | Median (IQR) | 0.6 (0.5-0.7)             | 0.6 (0.5-0.7)             | 0.6 (0.5-0.7)             | 0.53  |\n",
       "| windspeed      | Mean (SD)    | 0.2 (0.1)                 | 0.2 (0.1)                 | 0.2 (0.1)                 | NA    |\n",
       "| windspeed      | Median (IQR) | 0.2 (0.1-0.2)             | 0.2 (0.1-0.2)             | 0.2 (0.1-0.2)             | 0.704 |\n",
       "| cnt            | Mean (SD)    | 3,405.8 (1,378.8)         | 3,443.5 (1,363.5)         | 3,318.2 (1,415.8)         | NA    |\n",
       "| cnt            | Median (IQR) | 3,740.0 (2,132.0-4,586.0) | 3,750.0 (2,185.5-4,591.0) | 3,577.5 (1,916.5-4,546.2) | 0.426 |\n",
       "| traintest_ind_ | Mean (SD)    | 1.3 (0.5)                 | NA                        | NA                        | NA    |\n",
       "| traintest_ind_ | Median (IQR) | 1.0 (1.0-2.0)             | NA                        | NA                        | 0     |\n",
       "\n"
      ],
      "text/plain": [
       "   V1             V2           Pop                      \n",
       "1  Individuals    n            365                      \n",
       "2  id             Mean (SD)    183.0 (105.5)            \n",
       "3  id             Median (IQR) 183.0 (92.0-274.0)       \n",
       "4  season         1            90 (24.7%)               \n",
       "5  season         2            92 (25.2%)               \n",
       "6  season         3            94 (25.8%)               \n",
       "7  season         4            89 (24.4%)               \n",
       "8  mnth           1            31 (8.5%)                \n",
       "9  mnth           2            28 (7.7%)                \n",
       "10 mnth           3            31 (8.5%)                \n",
       "11 mnth           4            30 (8.2%)                \n",
       "12 mnth           5            31 (8.5%)                \n",
       "13 mnth           6            30 (8.2%)                \n",
       "14 mnth           7            31 (8.5%)                \n",
       "15 mnth           8            31 (8.5%)                \n",
       "16 mnth           9            30 (8.2%)                \n",
       "17 mnth           10           31 (8.5%)                \n",
       "18 mnth           11           30 (8.2%)                \n",
       "19 mnth           12           31 (8.5%)                \n",
       "20 holiday        1            10 (2.7%)                \n",
       "21 weekday        0            52 (14.2%)               \n",
       "22 weekday        1            52 (14.2%)               \n",
       "23 weekday        2            52 (14.2%)               \n",
       "24 weekday        3            52 (14.2%)               \n",
       "25 weekday        4            52 (14.2%)               \n",
       "26 weekday        5            52 (14.2%)               \n",
       "27 weekday        6            53 (14.5%)               \n",
       "28 workingday     1            250 (68.5%)              \n",
       "29 weathersit     1            226 (61.9%)              \n",
       "30 weathersit     2            124 (34.0%)              \n",
       "31 weathersit     3            15 (4.1%)                \n",
       "32 temp           Mean (SD)    0.5 (0.2)                \n",
       "33 temp           Median (IQR) 0.5 (0.3-0.7)            \n",
       "34 atemp          Mean (SD)    0.5 (0.2)                \n",
       "35 atemp          Median (IQR) 0.5 (0.3-0.6)            \n",
       "36 hum            Mean (SD)    0.6 (0.1)                \n",
       "37 hum            Median (IQR) 0.6 (0.5-0.7)            \n",
       "38 windspeed      Mean (SD)    0.2 (0.1)                \n",
       "39 windspeed      Median (IQR) 0.2 (0.1-0.2)            \n",
       "40 cnt            Mean (SD)    3,405.8 (1,378.8)        \n",
       "41 cnt            Median (IQR) 3,740.0 (2,132.0-4,586.0)\n",
       "42 traintest_ind_ Mean (SD)    1.3 (0.5)                \n",
       "43 traintest_ind_ Median (IQR) 1.0 (1.0-2.0)            \n",
       "   1                         2                         pval \n",
       "1  255                       110                       NA   \n",
       "2  183.7 (105.0)             181.4 (107.2)             NA   \n",
       "3  181.0 (92.5-272.5)        184.5 (88.0-277.0)        0.854\n",
       "4  62 (24.3%)                28 (25.5%)                NA   \n",
       "5  67 (26.3%)                25 (22.7%)                0.914\n",
       "6  65 (25.5%)                29 (26.4%)                NA   \n",
       "7  61 (23.9%)                28 (25.5%)                NA   \n",
       "8  20 (7.8%)                 11 (10.0%)                NA   \n",
       "9  18 (7.1%)                 10 (9.1%)                 0.841\n",
       "10 24 (9.4%)                 7 (6.4%)                  NA   \n",
       "11 20 (7.8%)                 10 (9.1%)                 NA   \n",
       "12 23 (9.0%)                 8 (7.3%)                  NA   \n",
       "13 23 (9.0%)                 7 (6.4%)                  NA   \n",
       "14 20 (7.8%)                 11 (10.0%)                NA   \n",
       "15 24 (9.4%)                 7 (6.4%)                  NA   \n",
       "16 20 (7.8%)                 10 (9.1%)                 NA   \n",
       "17 21 (8.2%)                 10 (9.1%)                 NA   \n",
       "18 18 (7.1%)                 12 (10.9%)                NA   \n",
       "19 24 (9.4%)                 7 (6.4%)                  NA   \n",
       "20 5 (2.0%)                  5 (4.5%)                  0.166\n",
       "21 36 (14.1%)                16 (14.5%)                NA   \n",
       "22 34 (13.3%)                18 (16.4%)                0.931\n",
       "23 36 (14.1%)                16 (14.5%)                NA   \n",
       "24 34 (13.3%)                18 (16.4%)                NA   \n",
       "25 38 (14.9%)                14 (12.7%)                NA   \n",
       "26 38 (14.9%)                14 (12.7%)                NA   \n",
       "27 39 (15.3%)                14 (12.7%)                NA   \n",
       "28 175 (68.6%)               75 (68.2%)                1    \n",
       "29 153 (60.0%)               73 (66.4%)                NA   \n",
       "30 93 (36.5%)                31 (28.2%)                0.253\n",
       "31 9 (3.5%)                  6 (5.5%)                  NA   \n",
       "32 0.5 (0.2)                 0.5 (0.2)                 NA   \n",
       "33 0.5 (0.3-0.7)             0.5 (0.3-0.7)             0.633\n",
       "34 0.5 (0.2)                 0.5 (0.2)                 NA   \n",
       "35 0.5 (0.3-0.6)             0.5 (0.3-0.6)             0.681\n",
       "36 0.6 (0.2)                 0.7 (0.1)                 NA   \n",
       "37 0.6 (0.5-0.7)             0.6 (0.5-0.7)             0.53 \n",
       "38 0.2 (0.1)                 0.2 (0.1)                 NA   \n",
       "39 0.2 (0.1-0.2)             0.2 (0.1-0.2)             0.704\n",
       "40 3,443.5 (1,363.5)         3,318.2 (1,415.8)         NA   \n",
       "41 3,750.0 (2,185.5-4,591.0) 3,577.5 (1,916.5-4,546.2) 0.426\n",
       "42 NA                        NA                        NA   \n",
       "43 NA                        NA                        0    "
      ]
     },
     "metadata": {},
     "output_type": "display_data"
    }
   ],
   "source": [
    "tab1 <- train_test(data=df, train_name=\"train\", test_name=\"test\", prop=0.7, seed=5, tableone=TRUE)\n",
    "tab1"
   ]
  },
  {
   "cell_type": "code",
   "execution_count": 6,
   "metadata": {},
   "outputs": [],
   "source": [
    "### Table of resulting errors\n",
    "### Name, Model, RMSE, RMSLE\n",
    "err_res <- NULL"
   ]
  },
  {
   "cell_type": "code",
   "execution_count": 7,
   "metadata": {},
   "outputs": [],
   "source": [
    "### The error we will use is the RMSE and RMSLE\n",
    "rmse <- function(y,y_hat) {\n",
    "    err <- sqrt(sum((y_hat-y)^2,na.rm=T)/length(y))\n",
    "    return(err)\n",
    "}\n",
    "\n",
    "rmsle <- function(y,y_hat) {\n",
    "    err <- sqrt(sum((log(y_hat+1)-log(y+1))^2,na.rm=T)/length(y))\n",
    "    return(err)\n",
    "}\n"
   ]
  },
  {
   "cell_type": "markdown",
   "metadata": {},
   "source": [
    "## kNN"
   ]
  },
  {
   "cell_type": "code",
   "execution_count": 8,
   "metadata": {},
   "outputs": [],
   "source": [
    "library(class)"
   ]
  },
  {
   "cell_type": "code",
   "execution_count": 10,
   "metadata": {},
   "outputs": [],
   "source": [
    "min_max <- function(x) { (x -min(x))/(max(x)-min(x))   }"
   ]
  },
  {
   "cell_type": "code",
   "execution_count": 11,
   "metadata": {},
   "outputs": [
    {
     "ename": "ERROR",
     "evalue": "Error in x - min(x): non-numeric argument to binary operator\n",
     "output_type": "error",
     "traceback": [
      "Error in x - min(x): non-numeric argument to binary operator\nTraceback:\n",
      "1. sapply(data.frame(as.matrix(train)), min_max)",
      "2. lapply(X = X, FUN = FUN, ...)",
      "3. FUN(X[[i]], ...)"
     ]
    }
   ],
   "source": [
    "X_train <- sapply(data.frame(as.matrix(train)),min_max)\n",
    "X_test <- sapply(data.frame(as.matrix(test)),min_max)"
   ]
  },
  {
   "cell_type": "code",
   "execution_count": 198,
   "metadata": {},
   "outputs": [],
   "source": [
    "cnames = names(train)\n",
    "cnames <- cnames[c(2:11)]\n",
    "\n",
    "variables_comb <- list()\n",
    "\n",
    "# length(combn(cnames,3))\n",
    "# combn(cnames,3)\n",
    "\n",
    "counter <-  0\n",
    "for(i in 1:10) {\n",
    "    curr_combs <- combn(cnames,i)\n",
    "    for(j in 1:(length(curr_combs)/i)){\n",
    "        counter <- counter + 1\n",
    "        curr_comb <- data.frame(curr_combs[,j])\n",
    "        variables_comb[counter] <- curr_comb\n",
    "    }\n",
    "}   \n"
   ]
  },
  {
   "cell_type": "code",
   "execution_count": 200,
   "metadata": {},
   "outputs": [],
   "source": [
    "\n",
    "err_res <- NULL\n",
    "counter <- 0\n",
    "for(curr_vars in variables_comb){\n",
    "    \n",
    "    counter <- counter + 1\n",
    "    \n",
    "    outcome <- \"cnt\"\n",
    "    variables <- curr_vars\n",
    "    f <- as.formula( paste(outcome,  paste(variables, collapse = \" + \"), sep = \" ~ \"))\n",
    "\n",
    "    mod3 <- tree(f, data=train)\n",
    "    variables_comb\n",
    "    pred3 <- predict(mod3,newdata=test)\n",
    "\n",
    "    rmse(test$cnt,pred3)\n",
    "    rmsle(test$cnt,pred3)\n",
    "    err_res <- rbind(err_res, data.frame(counter, \n",
    "                                         RMSE=rmse(test$cnt,pred3), \n",
    "                                         RMSLE=rmsle(test$cnt,pred3)))\n",
    "}\n",
    "\n"
   ]
  },
  {
   "cell_type": "code",
   "execution_count": 211,
   "metadata": {},
   "outputs": [
    {
     "data": {
      "text/html": [
       "<table>\n",
       "<caption>A data.frame: 1023 × 4</caption>\n",
       "<thead>\n",
       "\t<tr><th></th><th scope=col>id</th><th scope=col>counter</th><th scope=col>RMSE</th><th scope=col>RMSLE</th></tr>\n",
       "\t<tr><th></th><th scope=col>&lt;chr&gt;</th><th scope=col>&lt;dbl&gt;</th><th scope=col>&lt;dbl&gt;</th><th scope=col>&lt;dbl&gt;</th></tr>\n",
       "</thead>\n",
       "<tbody>\n",
       "\t<tr><th scope=row>314</th><td>1</td><td> 314</td><td>688.4601</td><td>0.3111022</td></tr>\n",
       "\t<tr><th scope=row>545</th><td>1</td><td> 545</td><td>688.4601</td><td>0.3111022</td></tr>\n",
       "\t<tr><th scope=row>565</th><td>1</td><td> 565</td><td>688.4601</td><td>0.3111022</td></tr>\n",
       "\t<tr><th scope=row>575</th><td>1</td><td> 575</td><td>688.4601</td><td>0.3111022</td></tr>\n",
       "\t<tr><th scope=row>579</th><td>1</td><td> 579</td><td>688.4601</td><td>0.3111022</td></tr>\n",
       "\t<tr><th scope=row>782</th><td>1</td><td> 782</td><td>688.4601</td><td>0.3111022</td></tr>\n",
       "\t<tr><th scope=row>792</th><td>1</td><td> 792</td><td>688.4601</td><td>0.3111022</td></tr>\n",
       "\t<tr><th scope=row>796</th><td>1</td><td> 796</td><td>688.4601</td><td>0.3111022</td></tr>\n",
       "\t<tr><th scope=row>807</th><td>1</td><td> 807</td><td>688.4601</td><td>0.3111022</td></tr>\n",
       "\t<tr><th scope=row>811</th><td>1</td><td> 811</td><td>688.4601</td><td>0.3111022</td></tr>\n",
       "\t<tr><th scope=row>816</th><td>1</td><td> 816</td><td>688.4601</td><td>0.3111022</td></tr>\n",
       "\t<tr><th scope=row>940</th><td>1</td><td> 940</td><td>688.4601</td><td>0.3111022</td></tr>\n",
       "\t<tr><th scope=row>944</th><td>1</td><td> 944</td><td>688.4601</td><td>0.3111022</td></tr>\n",
       "\t<tr><th scope=row>949</th><td>1</td><td> 949</td><td>688.4601</td><td>0.3111022</td></tr>\n",
       "\t<tr><th scope=row>955</th><td>1</td><td> 955</td><td>688.4601</td><td>0.3111022</td></tr>\n",
       "\t<tr><th scope=row>1006</th><td>1</td><td>1006</td><td>688.4601</td><td>0.3111022</td></tr>\n",
       "\t<tr><th scope=row>170</th><td>1</td><td> 170</td><td>719.3900</td><td>0.3115746</td></tr>\n",
       "\t<tr><th scope=row>345</th><td>1</td><td> 345</td><td>719.3900</td><td>0.3115746</td></tr>\n",
       "\t<tr><th scope=row>375</th><td>1</td><td> 375</td><td>719.3900</td><td>0.3115746</td></tr>\n",
       "\t<tr><th scope=row>606</th><td>1</td><td> 606</td><td>719.3900</td><td>0.3115746</td></tr>\n",
       "\t<tr><th scope=row>365</th><td>1</td><td> 365</td><td>738.5487</td><td>0.3142173</td></tr>\n",
       "\t<tr><th scope=row>596</th><td>1</td><td> 596</td><td>738.5487</td><td>0.3142173</td></tr>\n",
       "\t<tr><th scope=row>621</th><td>1</td><td> 621</td><td>738.5487</td><td>0.3142173</td></tr>\n",
       "\t<tr><th scope=row>824</th><td>1</td><td> 824</td><td>738.5487</td><td>0.3142173</td></tr>\n",
       "\t<tr><th scope=row>819</th><td>1</td><td> 819</td><td>705.4184</td><td>0.3182075</td></tr>\n",
       "\t<tr><th scope=row>952</th><td>1</td><td> 952</td><td>705.4184</td><td>0.3182075</td></tr>\n",
       "\t<tr><th scope=row>958</th><td>1</td><td> 958</td><td>705.4184</td><td>0.3182075</td></tr>\n",
       "\t<tr><th scope=row>959</th><td>1</td><td> 959</td><td>705.4184</td><td>0.3182075</td></tr>\n",
       "\t<tr><th scope=row>1009</th><td>1</td><td>1009</td><td>705.4184</td><td>0.3182075</td></tr>\n",
       "\t<tr><th scope=row>1010</th><td>1</td><td>1010</td><td>705.4184</td><td>0.3182075</td></tr>\n",
       "\t<tr><th scope=row>...</th><td>...</td><td>...</td><td>...</td><td>...</td></tr>\n",
       "\t<tr><th scope=row>33</th><td>1</td><td> 33</td><td>1404.655</td><td>0.5503460</td></tr>\n",
       "\t<tr><th scope=row>44</th><td>1</td><td> 44</td><td>1404.655</td><td>0.5503460</td></tr>\n",
       "\t<tr><th scope=row>129</th><td>1</td><td>129</td><td>1404.655</td><td>0.5503460</td></tr>\n",
       "\t<tr><th scope=row>171</th><td>1</td><td>171</td><td>1445.226</td><td>0.5634035</td></tr>\n",
       "\t<tr><th scope=row>346</th><td>1</td><td>346</td><td>1445.226</td><td>0.5634035</td></tr>\n",
       "\t<tr><th scope=row>376</th><td>1</td><td>376</td><td>1445.226</td><td>0.5634035</td></tr>\n",
       "\t<tr><th scope=row>607</th><td>1</td><td>607</td><td>1445.226</td><td>0.5634035</td></tr>\n",
       "\t<tr><th scope=row>149</th><td>1</td><td>149</td><td>1470.071</td><td>0.5674934</td></tr>\n",
       "\t<tr><th scope=row>324</th><td>1</td><td>324</td><td>1470.071</td><td>0.5674934</td></tr>\n",
       "\t<tr><th scope=row>354</th><td>1</td><td>354</td><td>1470.071</td><td>0.5674934</td></tr>\n",
       "\t<tr><th scope=row>585</th><td>1</td><td>585</td><td>1470.071</td><td>0.5674934</td></tr>\n",
       "\t<tr><th scope=row>148</th><td>1</td><td>148</td><td>1449.572</td><td>0.5678834</td></tr>\n",
       "\t<tr><th scope=row>323</th><td>1</td><td>323</td><td>1449.572</td><td>0.5678834</td></tr>\n",
       "\t<tr><th scope=row>353</th><td>1</td><td>353</td><td>1449.572</td><td>0.5678834</td></tr>\n",
       "\t<tr><th scope=row>584</th><td>1</td><td>584</td><td>1449.572</td><td>0.5678834</td></tr>\n",
       "\t<tr><th scope=row>3</th><td>1</td><td>  3</td><td>1414.936</td><td>0.5690532</td></tr>\n",
       "\t<tr><th scope=row>4</th><td>1</td><td>  4</td><td>1414.936</td><td>0.5690532</td></tr>\n",
       "\t<tr><th scope=row>5</th><td>1</td><td>  5</td><td>1414.936</td><td>0.5690532</td></tr>\n",
       "\t<tr><th scope=row>28</th><td>1</td><td> 28</td><td>1414.936</td><td>0.5690532</td></tr>\n",
       "\t<tr><th scope=row>29</th><td>1</td><td> 29</td><td>1414.936</td><td>0.5690532</td></tr>\n",
       "\t<tr><th scope=row>35</th><td>1</td><td> 35</td><td>1414.936</td><td>0.5690532</td></tr>\n",
       "\t<tr><th scope=row>120</th><td>1</td><td>120</td><td>1414.936</td><td>0.5690532</td></tr>\n",
       "\t<tr><th scope=row>39</th><td>1</td><td> 39</td><td>1470.935</td><td>0.5695565</td></tr>\n",
       "\t<tr><th scope=row>124</th><td>1</td><td>124</td><td>1470.935</td><td>0.5695565</td></tr>\n",
       "\t<tr><th scope=row>144</th><td>1</td><td>144</td><td>1470.935</td><td>0.5695565</td></tr>\n",
       "\t<tr><th scope=row>319</th><td>1</td><td>319</td><td>1470.935</td><td>0.5695565</td></tr>\n",
       "\t<tr><th scope=row>366</th><td>1</td><td>366</td><td>1512.896</td><td>0.5862482</td></tr>\n",
       "\t<tr><th scope=row>597</th><td>1</td><td>597</td><td>1512.896</td><td>0.5862482</td></tr>\n",
       "\t<tr><th scope=row>622</th><td>1</td><td>622</td><td>1512.896</td><td>0.5862482</td></tr>\n",
       "\t<tr><th scope=row>825</th><td>1</td><td>825</td><td>1512.896</td><td>0.5862482</td></tr>\n",
       "</tbody>\n",
       "</table>\n"
      ],
      "text/latex": [
       "A data.frame: 1023 × 4\n",
       "\\begin{tabular}{r|llll}\n",
       "  & id & counter & RMSE & RMSLE\\\\\n",
       "  & <chr> & <dbl> & <dbl> & <dbl>\\\\\n",
       "\\hline\n",
       "\t314 & 1 &  314 & 688.4601 & 0.3111022\\\\\n",
       "\t545 & 1 &  545 & 688.4601 & 0.3111022\\\\\n",
       "\t565 & 1 &  565 & 688.4601 & 0.3111022\\\\\n",
       "\t575 & 1 &  575 & 688.4601 & 0.3111022\\\\\n",
       "\t579 & 1 &  579 & 688.4601 & 0.3111022\\\\\n",
       "\t782 & 1 &  782 & 688.4601 & 0.3111022\\\\\n",
       "\t792 & 1 &  792 & 688.4601 & 0.3111022\\\\\n",
       "\t796 & 1 &  796 & 688.4601 & 0.3111022\\\\\n",
       "\t807 & 1 &  807 & 688.4601 & 0.3111022\\\\\n",
       "\t811 & 1 &  811 & 688.4601 & 0.3111022\\\\\n",
       "\t816 & 1 &  816 & 688.4601 & 0.3111022\\\\\n",
       "\t940 & 1 &  940 & 688.4601 & 0.3111022\\\\\n",
       "\t944 & 1 &  944 & 688.4601 & 0.3111022\\\\\n",
       "\t949 & 1 &  949 & 688.4601 & 0.3111022\\\\\n",
       "\t955 & 1 &  955 & 688.4601 & 0.3111022\\\\\n",
       "\t1006 & 1 & 1006 & 688.4601 & 0.3111022\\\\\n",
       "\t170 & 1 &  170 & 719.3900 & 0.3115746\\\\\n",
       "\t345 & 1 &  345 & 719.3900 & 0.3115746\\\\\n",
       "\t375 & 1 &  375 & 719.3900 & 0.3115746\\\\\n",
       "\t606 & 1 &  606 & 719.3900 & 0.3115746\\\\\n",
       "\t365 & 1 &  365 & 738.5487 & 0.3142173\\\\\n",
       "\t596 & 1 &  596 & 738.5487 & 0.3142173\\\\\n",
       "\t621 & 1 &  621 & 738.5487 & 0.3142173\\\\\n",
       "\t824 & 1 &  824 & 738.5487 & 0.3142173\\\\\n",
       "\t819 & 1 &  819 & 705.4184 & 0.3182075\\\\\n",
       "\t952 & 1 &  952 & 705.4184 & 0.3182075\\\\\n",
       "\t958 & 1 &  958 & 705.4184 & 0.3182075\\\\\n",
       "\t959 & 1 &  959 & 705.4184 & 0.3182075\\\\\n",
       "\t1009 & 1 & 1009 & 705.4184 & 0.3182075\\\\\n",
       "\t1010 & 1 & 1010 & 705.4184 & 0.3182075\\\\\n",
       "\t... & ... & ... & ... & ...\\\\\n",
       "\t33 & 1 &  33 & 1404.655 & 0.5503460\\\\\n",
       "\t44 & 1 &  44 & 1404.655 & 0.5503460\\\\\n",
       "\t129 & 1 & 129 & 1404.655 & 0.5503460\\\\\n",
       "\t171 & 1 & 171 & 1445.226 & 0.5634035\\\\\n",
       "\t346 & 1 & 346 & 1445.226 & 0.5634035\\\\\n",
       "\t376 & 1 & 376 & 1445.226 & 0.5634035\\\\\n",
       "\t607 & 1 & 607 & 1445.226 & 0.5634035\\\\\n",
       "\t149 & 1 & 149 & 1470.071 & 0.5674934\\\\\n",
       "\t324 & 1 & 324 & 1470.071 & 0.5674934\\\\\n",
       "\t354 & 1 & 354 & 1470.071 & 0.5674934\\\\\n",
       "\t585 & 1 & 585 & 1470.071 & 0.5674934\\\\\n",
       "\t148 & 1 & 148 & 1449.572 & 0.5678834\\\\\n",
       "\t323 & 1 & 323 & 1449.572 & 0.5678834\\\\\n",
       "\t353 & 1 & 353 & 1449.572 & 0.5678834\\\\\n",
       "\t584 & 1 & 584 & 1449.572 & 0.5678834\\\\\n",
       "\t3 & 1 &   3 & 1414.936 & 0.5690532\\\\\n",
       "\t4 & 1 &   4 & 1414.936 & 0.5690532\\\\\n",
       "\t5 & 1 &   5 & 1414.936 & 0.5690532\\\\\n",
       "\t28 & 1 &  28 & 1414.936 & 0.5690532\\\\\n",
       "\t29 & 1 &  29 & 1414.936 & 0.5690532\\\\\n",
       "\t35 & 1 &  35 & 1414.936 & 0.5690532\\\\\n",
       "\t120 & 1 & 120 & 1414.936 & 0.5690532\\\\\n",
       "\t39 & 1 &  39 & 1470.935 & 0.5695565\\\\\n",
       "\t124 & 1 & 124 & 1470.935 & 0.5695565\\\\\n",
       "\t144 & 1 & 144 & 1470.935 & 0.5695565\\\\\n",
       "\t319 & 1 & 319 & 1470.935 & 0.5695565\\\\\n",
       "\t366 & 1 & 366 & 1512.896 & 0.5862482\\\\\n",
       "\t597 & 1 & 597 & 1512.896 & 0.5862482\\\\\n",
       "\t622 & 1 & 622 & 1512.896 & 0.5862482\\\\\n",
       "\t825 & 1 & 825 & 1512.896 & 0.5862482\\\\\n",
       "\\end{tabular}\n"
      ],
      "text/markdown": [
       "\n",
       "A data.frame: 1023 × 4\n",
       "\n",
       "| <!--/--> | id &lt;chr&gt; | counter &lt;dbl&gt; | RMSE &lt;dbl&gt; | RMSLE &lt;dbl&gt; |\n",
       "|---|---|---|---|---|\n",
       "| 314 | 1 |  314 | 688.4601 | 0.3111022 |\n",
       "| 545 | 1 |  545 | 688.4601 | 0.3111022 |\n",
       "| 565 | 1 |  565 | 688.4601 | 0.3111022 |\n",
       "| 575 | 1 |  575 | 688.4601 | 0.3111022 |\n",
       "| 579 | 1 |  579 | 688.4601 | 0.3111022 |\n",
       "| 782 | 1 |  782 | 688.4601 | 0.3111022 |\n",
       "| 792 | 1 |  792 | 688.4601 | 0.3111022 |\n",
       "| 796 | 1 |  796 | 688.4601 | 0.3111022 |\n",
       "| 807 | 1 |  807 | 688.4601 | 0.3111022 |\n",
       "| 811 | 1 |  811 | 688.4601 | 0.3111022 |\n",
       "| 816 | 1 |  816 | 688.4601 | 0.3111022 |\n",
       "| 940 | 1 |  940 | 688.4601 | 0.3111022 |\n",
       "| 944 | 1 |  944 | 688.4601 | 0.3111022 |\n",
       "| 949 | 1 |  949 | 688.4601 | 0.3111022 |\n",
       "| 955 | 1 |  955 | 688.4601 | 0.3111022 |\n",
       "| 1006 | 1 | 1006 | 688.4601 | 0.3111022 |\n",
       "| 170 | 1 |  170 | 719.3900 | 0.3115746 |\n",
       "| 345 | 1 |  345 | 719.3900 | 0.3115746 |\n",
       "| 375 | 1 |  375 | 719.3900 | 0.3115746 |\n",
       "| 606 | 1 |  606 | 719.3900 | 0.3115746 |\n",
       "| 365 | 1 |  365 | 738.5487 | 0.3142173 |\n",
       "| 596 | 1 |  596 | 738.5487 | 0.3142173 |\n",
       "| 621 | 1 |  621 | 738.5487 | 0.3142173 |\n",
       "| 824 | 1 |  824 | 738.5487 | 0.3142173 |\n",
       "| 819 | 1 |  819 | 705.4184 | 0.3182075 |\n",
       "| 952 | 1 |  952 | 705.4184 | 0.3182075 |\n",
       "| 958 | 1 |  958 | 705.4184 | 0.3182075 |\n",
       "| 959 | 1 |  959 | 705.4184 | 0.3182075 |\n",
       "| 1009 | 1 | 1009 | 705.4184 | 0.3182075 |\n",
       "| 1010 | 1 | 1010 | 705.4184 | 0.3182075 |\n",
       "| ... | ... | ... | ... | ... |\n",
       "| 33 | 1 |  33 | 1404.655 | 0.5503460 |\n",
       "| 44 | 1 |  44 | 1404.655 | 0.5503460 |\n",
       "| 129 | 1 | 129 | 1404.655 | 0.5503460 |\n",
       "| 171 | 1 | 171 | 1445.226 | 0.5634035 |\n",
       "| 346 | 1 | 346 | 1445.226 | 0.5634035 |\n",
       "| 376 | 1 | 376 | 1445.226 | 0.5634035 |\n",
       "| 607 | 1 | 607 | 1445.226 | 0.5634035 |\n",
       "| 149 | 1 | 149 | 1470.071 | 0.5674934 |\n",
       "| 324 | 1 | 324 | 1470.071 | 0.5674934 |\n",
       "| 354 | 1 | 354 | 1470.071 | 0.5674934 |\n",
       "| 585 | 1 | 585 | 1470.071 | 0.5674934 |\n",
       "| 148 | 1 | 148 | 1449.572 | 0.5678834 |\n",
       "| 323 | 1 | 323 | 1449.572 | 0.5678834 |\n",
       "| 353 | 1 | 353 | 1449.572 | 0.5678834 |\n",
       "| 584 | 1 | 584 | 1449.572 | 0.5678834 |\n",
       "| 3 | 1 |   3 | 1414.936 | 0.5690532 |\n",
       "| 4 | 1 |   4 | 1414.936 | 0.5690532 |\n",
       "| 5 | 1 |   5 | 1414.936 | 0.5690532 |\n",
       "| 28 | 1 |  28 | 1414.936 | 0.5690532 |\n",
       "| 29 | 1 |  29 | 1414.936 | 0.5690532 |\n",
       "| 35 | 1 |  35 | 1414.936 | 0.5690532 |\n",
       "| 120 | 1 | 120 | 1414.936 | 0.5690532 |\n",
       "| 39 | 1 |  39 | 1470.935 | 0.5695565 |\n",
       "| 124 | 1 | 124 | 1470.935 | 0.5695565 |\n",
       "| 144 | 1 | 144 | 1470.935 | 0.5695565 |\n",
       "| 319 | 1 | 319 | 1470.935 | 0.5695565 |\n",
       "| 366 | 1 | 366 | 1512.896 | 0.5862482 |\n",
       "| 597 | 1 | 597 | 1512.896 | 0.5862482 |\n",
       "| 622 | 1 | 622 | 1512.896 | 0.5862482 |\n",
       "| 825 | 1 | 825 | 1512.896 | 0.5862482 |\n",
       "\n"
      ],
      "text/plain": [
       "     id  counter RMSE     RMSLE    \n",
       "314  1    314    688.4601 0.3111022\n",
       "545  1    545    688.4601 0.3111022\n",
       "565  1    565    688.4601 0.3111022\n",
       "575  1    575    688.4601 0.3111022\n",
       "579  1    579    688.4601 0.3111022\n",
       "782  1    782    688.4601 0.3111022\n",
       "792  1    792    688.4601 0.3111022\n",
       "796  1    796    688.4601 0.3111022\n",
       "807  1    807    688.4601 0.3111022\n",
       "811  1    811    688.4601 0.3111022\n",
       "816  1    816    688.4601 0.3111022\n",
       "940  1    940    688.4601 0.3111022\n",
       "944  1    944    688.4601 0.3111022\n",
       "949  1    949    688.4601 0.3111022\n",
       "955  1    955    688.4601 0.3111022\n",
       "1006 1   1006    688.4601 0.3111022\n",
       "170  1    170    719.3900 0.3115746\n",
       "345  1    345    719.3900 0.3115746\n",
       "375  1    375    719.3900 0.3115746\n",
       "606  1    606    719.3900 0.3115746\n",
       "365  1    365    738.5487 0.3142173\n",
       "596  1    596    738.5487 0.3142173\n",
       "621  1    621    738.5487 0.3142173\n",
       "824  1    824    738.5487 0.3142173\n",
       "819  1    819    705.4184 0.3182075\n",
       "952  1    952    705.4184 0.3182075\n",
       "958  1    958    705.4184 0.3182075\n",
       "959  1    959    705.4184 0.3182075\n",
       "1009 1   1009    705.4184 0.3182075\n",
       "1010 1   1010    705.4184 0.3182075\n",
       "...  ... ...     ...      ...      \n",
       "33   1    33     1404.655 0.5503460\n",
       "44   1    44     1404.655 0.5503460\n",
       "129  1   129     1404.655 0.5503460\n",
       "171  1   171     1445.226 0.5634035\n",
       "346  1   346     1445.226 0.5634035\n",
       "376  1   376     1445.226 0.5634035\n",
       "607  1   607     1445.226 0.5634035\n",
       "149  1   149     1470.071 0.5674934\n",
       "324  1   324     1470.071 0.5674934\n",
       "354  1   354     1470.071 0.5674934\n",
       "585  1   585     1470.071 0.5674934\n",
       "148  1   148     1449.572 0.5678834\n",
       "323  1   323     1449.572 0.5678834\n",
       "353  1   353     1449.572 0.5678834\n",
       "584  1   584     1449.572 0.5678834\n",
       "3    1     3     1414.936 0.5690532\n",
       "4    1     4     1414.936 0.5690532\n",
       "5    1     5     1414.936 0.5690532\n",
       "28   1    28     1414.936 0.5690532\n",
       "29   1    29     1414.936 0.5690532\n",
       "35   1    35     1414.936 0.5690532\n",
       "120  1   120     1414.936 0.5690532\n",
       "39   1    39     1470.935 0.5695565\n",
       "124  1   124     1470.935 0.5695565\n",
       "144  1   144     1470.935 0.5695565\n",
       "319  1   319     1470.935 0.5695565\n",
       "366  1   366     1512.896 0.5862482\n",
       "597  1   597     1512.896 0.5862482\n",
       "622  1   622     1512.896 0.5862482\n",
       "825  1   825     1512.896 0.5862482"
      ]
     },
     "metadata": {},
     "output_type": "display_data"
    }
   ],
   "source": [
    "\n",
    "\n",
    "\n",
    "err_res_df <- bind_rows(err_res, .id = \"id\")\n",
    "err_res_df[order(err_res_df$RMSLE),]"
   ]
  },
  {
   "cell_type": "code",
   "execution_count": 213,
   "metadata": {},
   "outputs": [],
   "source": [
    "best_comb <- variables_comb[314]"
   ]
  },
  {
   "cell_type": "code",
   "execution_count": 222,
   "metadata": {},
   "outputs": [
    {
     "name": "stdout",
     "output_type": "stream",
     "text": [
      "cnt ~ mnth + temp + hum + windspeed\n"
     ]
    }
   ],
   "source": [
    "# specifications of how to model,\n",
    "# coming from somewhere else\n",
    "outcome <- \"cnt\"\n",
    "variables <- c(\"season\",\"mnth\",\"holiday\",\"weekday\",\"workingday\",\"weathersit\",\"temp\",\"atemp\",\"hum\",\"windspeed\")\n",
    "best_comb <- unlist(best_comb)\n",
    "\n",
    "f <- as.formula(\n",
    "  paste(outcome, \n",
    "        paste(best_comb, collapse = \" + \"), \n",
    "        sep = \" ~ \"))\n",
    "print(f)\n"
   ]
  },
  {
   "cell_type": "code",
   "execution_count": 223,
   "metadata": {},
   "outputs": [
    {
     "data": {
      "text/plain": [
       "node), split, n, deviance, yval\n",
       "      * denotes terminal node\n",
       "\n",
       " 1) root 255 472200000 3444  \n",
       "   2) temp < 0.45875 117 119200000 2337  \n",
       "     4) mnth: 1,2,3 60  16270000 1630  \n",
       "       8) mnth: 1 20   3057000 1168 *\n",
       "       9) mnth: 2,3 40   6808000 1861 *\n",
       "     5) mnth: 4,5,10,11,12 57  41360000 3081  \n",
       "      10) windspeed < 0.112573 15   1942000 3674 *\n",
       "      11) windspeed > 0.112573 42  32260000 2870  \n",
       "        22) hum < 0.645625 24  12520000 3285 *\n",
       "        23) hum > 0.645625 18  10060000 2315 *\n",
       "   3) temp > 0.45875 138  88330000 4382  \n",
       "     6) hum < 0.849375 125  51590000 4505  \n",
       "      12) mnth: 2,3,4,11 15   6650000 3743 *\n",
       "      13) mnth: 5,6,7,8,9,10 110  35030000 4609 *\n",
       "     7) hum > 0.849375 13  16420000 3192 *"
      ]
     },
     "metadata": {},
     "output_type": "display_data"
    }
   ],
   "source": [
    "mod3 <- tree(f, data=train)\n",
    "mod3"
   ]
  },
  {
   "cell_type": "code",
   "execution_count": 225,
   "metadata": {},
   "outputs": [
    {
     "data": {
      "text/html": [
       "688.460093567356"
      ],
      "text/latex": [
       "688.460093567356"
      ],
      "text/markdown": [
       "688.460093567356"
      ],
      "text/plain": [
       "[1] 688.4601"
      ]
     },
     "metadata": {},
     "output_type": "display_data"
    },
    {
     "data": {
      "text/html": [
       "0.311102182666236"
      ],
      "text/latex": [
       "0.311102182666236"
      ],
      "text/markdown": [
       "0.311102182666236"
      ],
      "text/plain": [
       "[1] 0.3111022"
      ]
     },
     "metadata": {},
     "output_type": "display_data"
    }
   ],
   "source": [
    "pred3 <- predict(mod3,newdata=test)\n",
    "\n",
    "rmse(test$cnt,pred3)\n",
    "rmsle(test$cnt,pred3)\n"
   ]
  },
  {
   "cell_type": "code",
   "execution_count": 227,
   "metadata": {},
   "outputs": [
    {
     "data": {
      "text/html": [
       "<table>\n",
       "<caption>A data.frame: 6 × 11</caption>\n",
       "<thead>\n",
       "\t<tr><th></th><th scope=col>id</th><th scope=col>season</th><th scope=col>mnth</th><th scope=col>holiday</th><th scope=col>weekday</th><th scope=col>workingday</th><th scope=col>weathersit</th><th scope=col>temp</th><th scope=col>atemp</th><th scope=col>hum</th><th scope=col>windspeed</th></tr>\n",
       "\t<tr><th></th><th scope=col>&lt;int&gt;</th><th scope=col>&lt;int&gt;</th><th scope=col>&lt;int&gt;</th><th scope=col>&lt;int&gt;</th><th scope=col>&lt;int&gt;</th><th scope=col>&lt;int&gt;</th><th scope=col>&lt;int&gt;</th><th scope=col>&lt;dbl&gt;</th><th scope=col>&lt;dbl&gt;</th><th scope=col>&lt;dbl&gt;</th><th scope=col>&lt;dbl&gt;</th></tr>\n",
       "</thead>\n",
       "<tbody>\n",
       "\t<tr><th scope=row>1</th><td>366</td><td>1</td><td>1</td><td>0</td><td>0</td><td>0</td><td>1</td><td>0.370000</td><td>0.375621</td><td>0.692500</td><td>0.192167</td></tr>\n",
       "\t<tr><th scope=row>2</th><td>367</td><td>1</td><td>1</td><td>1</td><td>1</td><td>0</td><td>1</td><td>0.273043</td><td>0.252304</td><td>0.381304</td><td>0.329665</td></tr>\n",
       "\t<tr><th scope=row>3</th><td>368</td><td>1</td><td>1</td><td>0</td><td>2</td><td>1</td><td>1</td><td>0.150000</td><td>0.126275</td><td>0.441250</td><td>0.365671</td></tr>\n",
       "\t<tr><th scope=row>4</th><td>369</td><td>1</td><td>1</td><td>0</td><td>3</td><td>1</td><td>2</td><td>0.107500</td><td>0.119337</td><td>0.414583</td><td>0.184700</td></tr>\n",
       "\t<tr><th scope=row>5</th><td>370</td><td>1</td><td>1</td><td>0</td><td>4</td><td>1</td><td>1</td><td>0.265833</td><td>0.278412</td><td>0.524167</td><td>0.129987</td></tr>\n",
       "\t<tr><th scope=row>6</th><td>371</td><td>1</td><td>1</td><td>0</td><td>5</td><td>1</td><td>1</td><td>0.334167</td><td>0.340267</td><td>0.542083</td><td>0.167908</td></tr>\n",
       "</tbody>\n",
       "</table>\n"
      ],
      "text/latex": [
       "A data.frame: 6 × 11\n",
       "\\begin{tabular}{r|lllllllllll}\n",
       "  & id & season & mnth & holiday & weekday & workingday & weathersit & temp & atemp & hum & windspeed\\\\\n",
       "  & <int> & <int> & <int> & <int> & <int> & <int> & <int> & <dbl> & <dbl> & <dbl> & <dbl>\\\\\n",
       "\\hline\n",
       "\t1 & 366 & 1 & 1 & 0 & 0 & 0 & 1 & 0.370000 & 0.375621 & 0.692500 & 0.192167\\\\\n",
       "\t2 & 367 & 1 & 1 & 1 & 1 & 0 & 1 & 0.273043 & 0.252304 & 0.381304 & 0.329665\\\\\n",
       "\t3 & 368 & 1 & 1 & 0 & 2 & 1 & 1 & 0.150000 & 0.126275 & 0.441250 & 0.365671\\\\\n",
       "\t4 & 369 & 1 & 1 & 0 & 3 & 1 & 2 & 0.107500 & 0.119337 & 0.414583 & 0.184700\\\\\n",
       "\t5 & 370 & 1 & 1 & 0 & 4 & 1 & 1 & 0.265833 & 0.278412 & 0.524167 & 0.129987\\\\\n",
       "\t6 & 371 & 1 & 1 & 0 & 5 & 1 & 1 & 0.334167 & 0.340267 & 0.542083 & 0.167908\\\\\n",
       "\\end{tabular}\n"
      ],
      "text/markdown": [
       "\n",
       "A data.frame: 6 × 11\n",
       "\n",
       "| <!--/--> | id &lt;int&gt; | season &lt;int&gt; | mnth &lt;int&gt; | holiday &lt;int&gt; | weekday &lt;int&gt; | workingday &lt;int&gt; | weathersit &lt;int&gt; | temp &lt;dbl&gt; | atemp &lt;dbl&gt; | hum &lt;dbl&gt; | windspeed &lt;dbl&gt; |\n",
       "|---|---|---|---|---|---|---|---|---|---|---|---|\n",
       "| 1 | 366 | 1 | 1 | 0 | 0 | 0 | 1 | 0.370000 | 0.375621 | 0.692500 | 0.192167 |\n",
       "| 2 | 367 | 1 | 1 | 1 | 1 | 0 | 1 | 0.273043 | 0.252304 | 0.381304 | 0.329665 |\n",
       "| 3 | 368 | 1 | 1 | 0 | 2 | 1 | 1 | 0.150000 | 0.126275 | 0.441250 | 0.365671 |\n",
       "| 4 | 369 | 1 | 1 | 0 | 3 | 1 | 2 | 0.107500 | 0.119337 | 0.414583 | 0.184700 |\n",
       "| 5 | 370 | 1 | 1 | 0 | 4 | 1 | 1 | 0.265833 | 0.278412 | 0.524167 | 0.129987 |\n",
       "| 6 | 371 | 1 | 1 | 0 | 5 | 1 | 1 | 0.334167 | 0.340267 | 0.542083 | 0.167908 |\n",
       "\n"
      ],
      "text/plain": [
       "  id  season mnth holiday weekday workingday weathersit temp     atemp   \n",
       "1 366 1      1    0       0       0          1          0.370000 0.375621\n",
       "2 367 1      1    1       1       0          1          0.273043 0.252304\n",
       "3 368 1      1    0       2       1          1          0.150000 0.126275\n",
       "4 369 1      1    0       3       1          2          0.107500 0.119337\n",
       "5 370 1      1    0       4       1          1          0.265833 0.278412\n",
       "6 371 1      1    0       5       1          1          0.334167 0.340267\n",
       "  hum      windspeed\n",
       "1 0.692500 0.192167 \n",
       "2 0.381304 0.329665 \n",
       "3 0.441250 0.365671 \n",
       "4 0.414583 0.184700 \n",
       "5 0.524167 0.129987 \n",
       "6 0.542083 0.167908 "
      ]
     },
     "metadata": {},
     "output_type": "display_data"
    },
    {
     "data": {
      "text/html": [
       "<style>\n",
       ".list-inline {list-style: none; margin:0; padding: 0}\n",
       ".list-inline>li {display: inline-block}\n",
       ".list-inline>li:not(:last-child)::after {content: \"\\00b7\"; padding: 0 .5ex}\n",
       "</style>\n",
       "<ol class=list-inline><li>366</li><li>11</li></ol>\n"
      ],
      "text/latex": [
       "\\begin{enumerate*}\n",
       "\\item 366\n",
       "\\item 11\n",
       "\\end{enumerate*}\n"
      ],
      "text/markdown": [
       "1. 366\n",
       "2. 11\n",
       "\n",
       "\n"
      ],
      "text/plain": [
       "[1] 366  11"
      ]
     },
     "metadata": {},
     "output_type": "display_data"
    }
   ],
   "source": [
    "real_test <- read.csv(\"test.csv\")\n",
    "head(real_test)\n",
    "dim(real_test)"
   ]
  },
  {
   "cell_type": "code",
   "execution_count": 233,
   "metadata": {},
   "outputs": [],
   "source": [
    "real_test$holiday <- as.factor(real_test$holiday)\n",
    "real_test$season <- as.factor(real_test$season)\n",
    "real_test$mnth <- as.factor(real_test$mnth)\n",
    "real_test$workingday <- as.factor(real_test$workingday)\n",
    "real_test$weathersit <- as.factor(real_test$weathersit)\n",
    "real_test$weekday <- as.factor(real_test$weekday)"
   ]
  },
  {
   "cell_type": "code",
   "execution_count": 235,
   "metadata": {},
   "outputs": [],
   "source": [
    "\n",
    "real_test$cnt <- predict(mod3,newdata=real_test)\n",
    "real_test_sub <- real_test %>% select(id, cnt)"
   ]
  },
  {
   "cell_type": "code",
   "execution_count": 237,
   "metadata": {},
   "outputs": [
    {
     "data": {
      "image/png": "[encoded data removed]",
      "text/plain": [
       "plot without title"
      ]
     },
     "metadata": {
      "image/png": {
       "height": 420,
       "width": 420
      }
     },
     "output_type": "display_data"
    }
   ],
   "source": [
    "\n",
    "\n",
    "plot(real_test_sub)"
   ]
  },
  {
   "cell_type": "code",
   "execution_count": 239,
   "metadata": {},
   "outputs": [],
   "source": [
    "write.csv(real_test_sub,\"C:\\\\Users\\\\ytsat\\\\Documents\\\\DataScience\\\\ML\\\\Kaggle_Challenge\\\\DecisionTree_v1.csv\", row.names = FALSE)"
   ]
  }
 ],
 "metadata": {
  "kernelspec": {
   "display_name": "R",
   "language": "R",
   "name": "ir"
  },
  "language_info": {
   "codemirror_mode": "r",
   "file_extension": ".r",
   "mimetype": "text/x-r-source",
   "name": "R",
   "pygments_lexer": "r",
   "version": "4.0.1"
  }
 },
 "nbformat": 4,
 "nbformat_minor": 2
}
