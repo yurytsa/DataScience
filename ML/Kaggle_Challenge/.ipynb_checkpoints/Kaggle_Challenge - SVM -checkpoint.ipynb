{
 "cells": [
  {
   "cell_type": "markdown",
   "metadata": {},
   "source": [
    "# Regression Models in R (tips)"
   ]
  },
  {
   "cell_type": "code",
   "execution_count": 1,
   "metadata": {},
   "outputs": [],
   "source": [
    "if(!exists(\"Table1\", mode=\"function\")) source(\"mechkar.R\")"
   ]
  },
  {
   "cell_type": "code",
   "execution_count": 2,
   "metadata": {},
   "outputs": [
    {
     "name": "stderr",
     "output_type": "stream",
     "text": [
      "Warning message:\n",
      "\"package 'dplyr' was built under R version 4.0.2\"\n",
      "\n",
      "Attaching package: 'dplyr'\n",
      "\n",
      "\n",
      "The following objects are masked from 'package:stats':\n",
      "\n",
      "    filter, lag\n",
      "\n",
      "\n",
      "The following objects are masked from 'package:base':\n",
      "\n",
      "    intersect, setdiff, setequal, union\n",
      "\n",
      "\n",
      "Warning message:\n",
      "\"package 'ggplot2' was built under R version 4.0.2\"\n"
     ]
    }
   ],
   "source": [
    "\n",
    "library(readr)\n",
    "library(dplyr)\n",
    "library(ggplot2)\n"
   ]
  },
  {
   "cell_type": "code",
   "execution_count": 3,
   "metadata": {},
   "outputs": [
    {
     "data": {
      "text/html": [
       "<table>\n",
       "<caption>A data.frame: 6 × 12</caption>\n",
       "<thead>\n",
       "\t<tr><th></th><th scope=col>id</th><th scope=col>season</th><th scope=col>mnth</th><th scope=col>holiday</th><th scope=col>weekday</th><th scope=col>workingday</th><th scope=col>weathersit</th><th scope=col>temp</th><th scope=col>atemp</th><th scope=col>hum</th><th scope=col>windspeed</th><th scope=col>cnt</th></tr>\n",
       "\t<tr><th></th><th scope=col>&lt;int&gt;</th><th scope=col>&lt;int&gt;</th><th scope=col>&lt;int&gt;</th><th scope=col>&lt;int&gt;</th><th scope=col>&lt;int&gt;</th><th scope=col>&lt;int&gt;</th><th scope=col>&lt;int&gt;</th><th scope=col>&lt;dbl&gt;</th><th scope=col>&lt;dbl&gt;</th><th scope=col>&lt;dbl&gt;</th><th scope=col>&lt;dbl&gt;</th><th scope=col>&lt;int&gt;</th></tr>\n",
       "</thead>\n",
       "<tbody>\n",
       "\t<tr><th scope=row>1</th><td>1</td><td>1</td><td>1</td><td>0</td><td>6</td><td>0</td><td>2</td><td>0.344167</td><td>0.363625</td><td>0.805833</td><td>0.1604460</td><td> 985</td></tr>\n",
       "\t<tr><th scope=row>2</th><td>2</td><td>1</td><td>1</td><td>0</td><td>0</td><td>0</td><td>2</td><td>0.363478</td><td>0.353739</td><td>0.696087</td><td>0.2485390</td><td> 801</td></tr>\n",
       "\t<tr><th scope=row>3</th><td>3</td><td>1</td><td>1</td><td>0</td><td>1</td><td>1</td><td>1</td><td>0.196364</td><td>0.189405</td><td>0.437273</td><td>0.2483090</td><td>1349</td></tr>\n",
       "\t<tr><th scope=row>4</th><td>4</td><td>1</td><td>1</td><td>0</td><td>2</td><td>1</td><td>1</td><td>0.200000</td><td>0.212122</td><td>0.590435</td><td>0.1602960</td><td>1562</td></tr>\n",
       "\t<tr><th scope=row>5</th><td>5</td><td>1</td><td>1</td><td>0</td><td>3</td><td>1</td><td>1</td><td>0.226957</td><td>0.229270</td><td>0.436957</td><td>0.1869000</td><td>1600</td></tr>\n",
       "\t<tr><th scope=row>6</th><td>6</td><td>1</td><td>1</td><td>0</td><td>4</td><td>1</td><td>1</td><td>0.204348</td><td>0.233209</td><td>0.518261</td><td>0.0895652</td><td>1606</td></tr>\n",
       "</tbody>\n",
       "</table>\n"
      ],
      "text/latex": [
       "A data.frame: 6 × 12\n",
       "\\begin{tabular}{r|llllllllllll}\n",
       "  & id & season & mnth & holiday & weekday & workingday & weathersit & temp & atemp & hum & windspeed & cnt\\\\\n",
       "  & <int> & <int> & <int> & <int> & <int> & <int> & <int> & <dbl> & <dbl> & <dbl> & <dbl> & <int>\\\\\n",
       "\\hline\n",
       "\t1 & 1 & 1 & 1 & 0 & 6 & 0 & 2 & 0.344167 & 0.363625 & 0.805833 & 0.1604460 &  985\\\\\n",
       "\t2 & 2 & 1 & 1 & 0 & 0 & 0 & 2 & 0.363478 & 0.353739 & 0.696087 & 0.2485390 &  801\\\\\n",
       "\t3 & 3 & 1 & 1 & 0 & 1 & 1 & 1 & 0.196364 & 0.189405 & 0.437273 & 0.2483090 & 1349\\\\\n",
       "\t4 & 4 & 1 & 1 & 0 & 2 & 1 & 1 & 0.200000 & 0.212122 & 0.590435 & 0.1602960 & 1562\\\\\n",
       "\t5 & 5 & 1 & 1 & 0 & 3 & 1 & 1 & 0.226957 & 0.229270 & 0.436957 & 0.1869000 & 1600\\\\\n",
       "\t6 & 6 & 1 & 1 & 0 & 4 & 1 & 1 & 0.204348 & 0.233209 & 0.518261 & 0.0895652 & 1606\\\\\n",
       "\\end{tabular}\n"
      ],
      "text/markdown": [
       "\n",
       "A data.frame: 6 × 12\n",
       "\n",
       "| <!--/--> | id &lt;int&gt; | season &lt;int&gt; | mnth &lt;int&gt; | holiday &lt;int&gt; | weekday &lt;int&gt; | workingday &lt;int&gt; | weathersit &lt;int&gt; | temp &lt;dbl&gt; | atemp &lt;dbl&gt; | hum &lt;dbl&gt; | windspeed &lt;dbl&gt; | cnt &lt;int&gt; |\n",
       "|---|---|---|---|---|---|---|---|---|---|---|---|---|\n",
       "| 1 | 1 | 1 | 1 | 0 | 6 | 0 | 2 | 0.344167 | 0.363625 | 0.805833 | 0.1604460 |  985 |\n",
       "| 2 | 2 | 1 | 1 | 0 | 0 | 0 | 2 | 0.363478 | 0.353739 | 0.696087 | 0.2485390 |  801 |\n",
       "| 3 | 3 | 1 | 1 | 0 | 1 | 1 | 1 | 0.196364 | 0.189405 | 0.437273 | 0.2483090 | 1349 |\n",
       "| 4 | 4 | 1 | 1 | 0 | 2 | 1 | 1 | 0.200000 | 0.212122 | 0.590435 | 0.1602960 | 1562 |\n",
       "| 5 | 5 | 1 | 1 | 0 | 3 | 1 | 1 | 0.226957 | 0.229270 | 0.436957 | 0.1869000 | 1600 |\n",
       "| 6 | 6 | 1 | 1 | 0 | 4 | 1 | 1 | 0.204348 | 0.233209 | 0.518261 | 0.0895652 | 1606 |\n",
       "\n"
      ],
      "text/plain": [
       "  id season mnth holiday weekday workingday weathersit temp     atemp   \n",
       "1 1  1      1    0       6       0          2          0.344167 0.363625\n",
       "2 2  1      1    0       0       0          2          0.363478 0.353739\n",
       "3 3  1      1    0       1       1          1          0.196364 0.189405\n",
       "4 4  1      1    0       2       1          1          0.200000 0.212122\n",
       "5 5  1      1    0       3       1          1          0.226957 0.229270\n",
       "6 6  1      1    0       4       1          1          0.204348 0.233209\n",
       "  hum      windspeed cnt \n",
       "1 0.805833 0.1604460  985\n",
       "2 0.696087 0.2485390  801\n",
       "3 0.437273 0.2483090 1349\n",
       "4 0.590435 0.1602960 1562\n",
       "5 0.436957 0.1869000 1600\n",
       "6 0.518261 0.0895652 1606"
      ]
     },
     "metadata": {},
     "output_type": "display_data"
    },
    {
     "data": {
      "text/html": [
       "<style>\n",
       ".list-inline {list-style: none; margin:0; padding: 0}\n",
       ".list-inline>li {display: inline-block}\n",
       ".list-inline>li:not(:last-child)::after {content: \"\\00b7\"; padding: 0 .5ex}\n",
       "</style>\n",
       "<ol class=list-inline><li>365</li><li>12</li></ol>\n"
      ],
      "text/latex": [
       "\\begin{enumerate*}\n",
       "\\item 365\n",
       "\\item 12\n",
       "\\end{enumerate*}\n"
      ],
      "text/markdown": [
       "1. 365\n",
       "2. 12\n",
       "\n",
       "\n"
      ],
      "text/plain": [
       "[1] 365  12"
      ]
     },
     "metadata": {},
     "output_type": "display_data"
    }
   ],
   "source": [
    "df <- read.csv(\"train.csv\")\n",
    "head(df)\n",
    "dim(df)"
   ]
  },
  {
   "cell_type": "markdown",
   "metadata": {},
   "source": [
    "Data Set Information:\n",
    "\n",
    "Bike sharing systems are new generation of traditional bike rentals where whole process from membership, rental and return back has become automatic. Through these systems, user is able to easily rent a bike from a particular position and return back at another position. Currently, there are about over 500 bike-sharing programs around the world which is composed of over 500 thousands bicycles. Today, there exists great interest in these systems due to their important role in traffic, environmental and health issues.\n",
    "\n",
    "Apart from interesting real world applications of bike sharing systems, the characteristics of data being generated by these systems make them attractive for the research. Opposed to other transport services such as bus or subway, the duration of travel, departure and arrival position is explicitly recorded in these systems. This feature turns bike sharing system into a virtual sensor network that can be used for sensing mobility in the city. Hence, it is expected that most of important events in the city could be detected via monitoring these data.\n",
    "\n",
    "\n",
    "Attribute Information:\n",
    "\n",
    "Both hour.csv and day.csv have the following fields, except hr which is not available in day.csv\n",
    "\n",
    "- instant: record index\n",
    "- season : season (1:winter, 2:spring, 3:summer, 4:fall)\n",
    "- mnth : month ( 1 to 12)\n",
    "- hr : hour (0 to 23)\n",
    "- holiday : weather day is holiday or not (extracted from [Web Link])\n",
    "- weekday : day of the week\n",
    "- workingday : if day is neither weekend nor holiday is 1, otherwise is 0.\n",
    "+ weathersit :\n",
    "- 1: Clear, Few clouds, Partly cloudy, Partly cloudy\n",
    "- 2: Mist + Cloudy, Mist + Broken clouds, Mist + Few clouds, Mist\n",
    "- 3: Light Snow, Light Rain + Thunderstorm + Scattered clouds, Light Rain + Scattered clouds\n",
    "- 4: Heavy Rain + Ice Pallets + Thunderstorm + Mist, Snow + Fog\n",
    "- temp : Normalized temperature in Celsius. The values are derived via (t-t_min)/(t_max-t_min), t_min=-8, t_max=+39 (only in hourly scale)\n",
    "- atemp: Normalized feeling temperature in Celsius. The values are derived via (t-t_min)/(t_max-t_min), t_min=-16, t_max=+50 (only in hourly scale)\n",
    "- hum: Normalized humidity. The values are divided to 100 (max)\n",
    "- windspeed: Normalized wind speed. The values are divided to 67 (max)\n",
    "- casual: count of casual users\n",
    "- registered: count of registered users\n",
    "- cnt: count of total rental bikes including both casual and registered"
   ]
  },
  {
   "cell_type": "markdown",
   "metadata": {},
   "source": [
    "# EDA"
   ]
  },
  {
   "cell_type": "code",
   "execution_count": 4,
   "metadata": {},
   "outputs": [
    {
     "data": {
      "text/plain": [
       "       id      season      mnth     holiday weekday workingday weathersit\n",
       " Min.   :  1   1:90   1      : 31   0:355   0:52    0:115      1:226     \n",
       " 1st Qu.: 92   2:92   3      : 31   1: 10   1:52    1:250      2:124     \n",
       " Median :183   3:94   5      : 31           2:52               3: 15     \n",
       " Mean   :183   4:89   7      : 31           3:52                         \n",
       " 3rd Qu.:274          8      : 31           4:52                         \n",
       " Max.   :365          10     : 31           5:52                         \n",
       "                      (Other):179           6:53                         \n",
       "      temp             atemp              hum           windspeed      \n",
       " Min.   :0.05913   Min.   :0.07907   Min.   :0.0000   Min.   :0.02239  \n",
       " 1st Qu.:0.32500   1st Qu.:0.32195   1st Qu.:0.5383   1st Qu.:0.13558  \n",
       " Median :0.47917   Median :0.47285   Median :0.6475   Median :0.18690  \n",
       " Mean   :0.48666   Mean   :0.46684   Mean   :0.6437   Mean   :0.19140  \n",
       " 3rd Qu.:0.65667   3rd Qu.:0.61238   3rd Qu.:0.7421   3rd Qu.:0.23508  \n",
       " Max.   :0.84917   Max.   :0.84090   Max.   :0.9725   Max.   :0.50746  \n",
       "                                                                       \n",
       "      cnt      \n",
       " Min.   : 431  \n",
       " 1st Qu.:2132  \n",
       " Median :3740  \n",
       " Mean   :3406  \n",
       " 3rd Qu.:4586  \n",
       " Max.   :6043  \n",
       "               "
      ]
     },
     "metadata": {},
     "output_type": "display_data"
    }
   ],
   "source": [
    "df$holiday <- as.factor(df$holiday)\n",
    "df$season <- as.factor(df$season)\n",
    "df$mnth <- as.factor(df$mnth)\n",
    "df$workingday <- as.factor(df$workingday)\n",
    "df$weathersit <- as.factor(df$weathersit)\n",
    "df$weekday <- as.factor(df$weekday)\n",
    "summary(df)"
   ]
  },
  {
   "cell_type": "markdown",
   "metadata": {},
   "source": [
    "# DATASET PARTITION"
   ]
  },
  {
   "cell_type": "code",
   "execution_count": 5,
   "metadata": {
    "scrolled": true
   },
   "outputs": [
    {
     "name": "stderr",
     "output_type": "stream",
     "text": [
      "Dataset partitioned into:\n",
      "\n",
      " + Train dataset: train\n",
      "\n",
      " + Test dataset: test\n",
      "\n",
      "Warning message in Table1(data = df, y = \"traintest_ind_\", messages = FALSE):\n",
      "\"The following variables have unique values and will not be included in the analysis: \"\n"
     ]
    },
    {
     "name": "stdout",
     "output_type": "stream",
     "text": [
      "  |======================================================================| 100%"
     ]
    },
    {
     "name": "stderr",
     "output_type": "stream",
     "text": [
      "Warning message:\n",
      "\"The `x` argument of `as_tibble.matrix()` must have unique column names if `.name_repair` is omitted as of tibble 2.0.0.\n",
      "Using compatibility `.name_repair`.\n",
      "\u001b[90mThis warning is displayed once every 8 hours.\u001b[39m\n",
      "\u001b[90mCall `lifecycle::last_warnings()` to see where this warning was generated.\u001b[39m\"\n"
     ]
    },
    {
     "name": "stdout",
     "output_type": "stream",
     "text": [
      "  |===========================                                           |  38%"
     ]
    },
    {
     "name": "stderr",
     "output_type": "stream",
     "text": [
      "Warning message in stats::chisq.test(data[[v]], data[[y]]):\n",
      "\"Chi-squared approximation may be incorrect\"\n"
     ]
    },
    {
     "name": "stdout",
     "output_type": "stream",
     "text": [
      "  |=================================================================     |  92%"
     ]
    },
    {
     "name": "stderr",
     "output_type": "stream",
     "text": [
      " \n",
      "\n",
      "You got a perfectly balanced training and test datasets\n",
      "\n",
      " \n",
      "\n"
     ]
    },
    {
     "data": {
      "text/html": [
       "<table>\n",
       "<caption>A tibble: 43 × 6</caption>\n",
       "<thead>\n",
       "\t<tr><th scope=col>V1</th><th scope=col>V2</th><th scope=col>Pop</th><th scope=col>1</th><th scope=col>2</th><th scope=col>pval</th></tr>\n",
       "\t<tr><th scope=col>&lt;chr&gt;</th><th scope=col>&lt;chr&gt;</th><th scope=col>&lt;chr&gt;</th><th scope=col>&lt;chr&gt;</th><th scope=col>&lt;chr&gt;</th><th scope=col>&lt;chr&gt;</th></tr>\n",
       "</thead>\n",
       "<tbody>\n",
       "\t<tr><td>Individuals   </td><td>n           </td><td>365                      </td><td>255                      </td><td>110                      </td><td>NA   </td></tr>\n",
       "\t<tr><td>id            </td><td>Mean (SD)   </td><td>183.0 (105.5)            </td><td>183.7 (105.0)            </td><td>181.4 (107.2)            </td><td>NA   </td></tr>\n",
       "\t<tr><td>id            </td><td>Median (IQR)</td><td>183.0 (92.0-274.0)       </td><td>181.0 (92.5-272.5)       </td><td>184.5 (88.0-277.0)       </td><td>0.854</td></tr>\n",
       "\t<tr><td>season        </td><td>1           </td><td>90 (24.7%)               </td><td>62 (24.3%)               </td><td>28 (25.5%)               </td><td>NA   </td></tr>\n",
       "\t<tr><td>season        </td><td>2           </td><td>92 (25.2%)               </td><td>67 (26.3%)               </td><td>25 (22.7%)               </td><td>0.914</td></tr>\n",
       "\t<tr><td>season        </td><td>3           </td><td>94 (25.8%)               </td><td>65 (25.5%)               </td><td>29 (26.4%)               </td><td>NA   </td></tr>\n",
       "\t<tr><td>season        </td><td>4           </td><td>89 (24.4%)               </td><td>61 (23.9%)               </td><td>28 (25.5%)               </td><td>NA   </td></tr>\n",
       "\t<tr><td>mnth          </td><td>1           </td><td>31 (8.5%)                </td><td>20 (7.8%)                </td><td>11 (10.0%)               </td><td>NA   </td></tr>\n",
       "\t<tr><td>mnth          </td><td>2           </td><td>28 (7.7%)                </td><td>18 (7.1%)                </td><td>10 (9.1%)                </td><td>0.841</td></tr>\n",
       "\t<tr><td>mnth          </td><td>3           </td><td>31 (8.5%)                </td><td>24 (9.4%)                </td><td>7 (6.4%)                 </td><td>NA   </td></tr>\n",
       "\t<tr><td>mnth          </td><td>4           </td><td>30 (8.2%)                </td><td>20 (7.8%)                </td><td>10 (9.1%)                </td><td>NA   </td></tr>\n",
       "\t<tr><td>mnth          </td><td>5           </td><td>31 (8.5%)                </td><td>23 (9.0%)                </td><td>8 (7.3%)                 </td><td>NA   </td></tr>\n",
       "\t<tr><td>mnth          </td><td>6           </td><td>30 (8.2%)                </td><td>23 (9.0%)                </td><td>7 (6.4%)                 </td><td>NA   </td></tr>\n",
       "\t<tr><td>mnth          </td><td>7           </td><td>31 (8.5%)                </td><td>20 (7.8%)                </td><td>11 (10.0%)               </td><td>NA   </td></tr>\n",
       "\t<tr><td>mnth          </td><td>8           </td><td>31 (8.5%)                </td><td>24 (9.4%)                </td><td>7 (6.4%)                 </td><td>NA   </td></tr>\n",
       "\t<tr><td>mnth          </td><td>9           </td><td>30 (8.2%)                </td><td>20 (7.8%)                </td><td>10 (9.1%)                </td><td>NA   </td></tr>\n",
       "\t<tr><td>mnth          </td><td>10          </td><td>31 (8.5%)                </td><td>21 (8.2%)                </td><td>10 (9.1%)                </td><td>NA   </td></tr>\n",
       "\t<tr><td>mnth          </td><td>11          </td><td>30 (8.2%)                </td><td>18 (7.1%)                </td><td>12 (10.9%)               </td><td>NA   </td></tr>\n",
       "\t<tr><td>mnth          </td><td>12          </td><td>31 (8.5%)                </td><td>24 (9.4%)                </td><td>7 (6.4%)                 </td><td>NA   </td></tr>\n",
       "\t<tr><td>holiday       </td><td>1           </td><td>10 (2.7%)                </td><td>5 (2.0%)                 </td><td>5 (4.5%)                 </td><td>0.166</td></tr>\n",
       "\t<tr><td>weekday       </td><td>0           </td><td>52 (14.2%)               </td><td>36 (14.1%)               </td><td>16 (14.5%)               </td><td>NA   </td></tr>\n",
       "\t<tr><td>weekday       </td><td>1           </td><td>52 (14.2%)               </td><td>34 (13.3%)               </td><td>18 (16.4%)               </td><td>0.931</td></tr>\n",
       "\t<tr><td>weekday       </td><td>2           </td><td>52 (14.2%)               </td><td>36 (14.1%)               </td><td>16 (14.5%)               </td><td>NA   </td></tr>\n",
       "\t<tr><td>weekday       </td><td>3           </td><td>52 (14.2%)               </td><td>34 (13.3%)               </td><td>18 (16.4%)               </td><td>NA   </td></tr>\n",
       "\t<tr><td>weekday       </td><td>4           </td><td>52 (14.2%)               </td><td>38 (14.9%)               </td><td>14 (12.7%)               </td><td>NA   </td></tr>\n",
       "\t<tr><td>weekday       </td><td>5           </td><td>52 (14.2%)               </td><td>38 (14.9%)               </td><td>14 (12.7%)               </td><td>NA   </td></tr>\n",
       "\t<tr><td>weekday       </td><td>6           </td><td>53 (14.5%)               </td><td>39 (15.3%)               </td><td>14 (12.7%)               </td><td>NA   </td></tr>\n",
       "\t<tr><td>workingday    </td><td>1           </td><td>250 (68.5%)              </td><td>175 (68.6%)              </td><td>75 (68.2%)               </td><td>1    </td></tr>\n",
       "\t<tr><td>weathersit    </td><td>1           </td><td>226 (61.9%)              </td><td>153 (60.0%)              </td><td>73 (66.4%)               </td><td>NA   </td></tr>\n",
       "\t<tr><td>weathersit    </td><td>2           </td><td>124 (34.0%)              </td><td>93 (36.5%)               </td><td>31 (28.2%)               </td><td>0.253</td></tr>\n",
       "\t<tr><td>weathersit    </td><td>3           </td><td>15 (4.1%)                </td><td>9 (3.5%)                 </td><td>6 (5.5%)                 </td><td>NA   </td></tr>\n",
       "\t<tr><td>temp          </td><td>Mean (SD)   </td><td>0.5 (0.2)                </td><td>0.5 (0.2)                </td><td>0.5 (0.2)                </td><td>NA   </td></tr>\n",
       "\t<tr><td>temp          </td><td>Median (IQR)</td><td>0.5 (0.3-0.7)            </td><td>0.5 (0.3-0.7)            </td><td>0.5 (0.3-0.7)            </td><td>0.633</td></tr>\n",
       "\t<tr><td>atemp         </td><td>Mean (SD)   </td><td>0.5 (0.2)                </td><td>0.5 (0.2)                </td><td>0.5 (0.2)                </td><td>NA   </td></tr>\n",
       "\t<tr><td>atemp         </td><td>Median (IQR)</td><td>0.5 (0.3-0.6)            </td><td>0.5 (0.3-0.6)            </td><td>0.5 (0.3-0.6)            </td><td>0.681</td></tr>\n",
       "\t<tr><td>hum           </td><td>Mean (SD)   </td><td>0.6 (0.1)                </td><td>0.6 (0.2)                </td><td>0.7 (0.1)                </td><td>NA   </td></tr>\n",
       "\t<tr><td>hum           </td><td>Median (IQR)</td><td>0.6 (0.5-0.7)            </td><td>0.6 (0.5-0.7)            </td><td>0.6 (0.5-0.7)            </td><td>0.53 </td></tr>\n",
       "\t<tr><td>windspeed     </td><td>Mean (SD)   </td><td>0.2 (0.1)                </td><td>0.2 (0.1)                </td><td>0.2 (0.1)                </td><td>NA   </td></tr>\n",
       "\t<tr><td>windspeed     </td><td>Median (IQR)</td><td>0.2 (0.1-0.2)            </td><td>0.2 (0.1-0.2)            </td><td>0.2 (0.1-0.2)            </td><td>0.704</td></tr>\n",
       "\t<tr><td>cnt           </td><td>Mean (SD)   </td><td>3,405.8 (1,378.8)        </td><td>3,443.5 (1,363.5)        </td><td>3,318.2 (1,415.8)        </td><td>NA   </td></tr>\n",
       "\t<tr><td>cnt           </td><td>Median (IQR)</td><td>3,740.0 (2,132.0-4,586.0)</td><td>3,750.0 (2,185.5-4,591.0)</td><td>3,577.5 (1,916.5-4,546.2)</td><td>0.426</td></tr>\n",
       "\t<tr><td>traintest_ind_</td><td>Mean (SD)   </td><td>1.3 (0.5)                </td><td>NA                       </td><td>NA                       </td><td>NA   </td></tr>\n",
       "\t<tr><td>traintest_ind_</td><td>Median (IQR)</td><td>1.0 (1.0-2.0)            </td><td>NA                       </td><td>NA                       </td><td>0    </td></tr>\n",
       "</tbody>\n",
       "</table>\n"
      ],
      "text/latex": [
       "A tibble: 43 × 6\n",
       "\\begin{tabular}{llllll}\n",
       " V1 & V2 & Pop & 1 & 2 & pval\\\\\n",
       " <chr> & <chr> & <chr> & <chr> & <chr> & <chr>\\\\\n",
       "\\hline\n",
       "\t Individuals    & n            & 365                       & 255                       & 110                       & NA   \\\\\n",
       "\t id             & Mean (SD)    & 183.0 (105.5)             & 183.7 (105.0)             & 181.4 (107.2)             & NA   \\\\\n",
       "\t id             & Median (IQR) & 183.0 (92.0-274.0)        & 181.0 (92.5-272.5)        & 184.5 (88.0-277.0)        & 0.854\\\\\n",
       "\t season         & 1            & 90 (24.7\\%)                & 62 (24.3\\%)                & 28 (25.5\\%)                & NA   \\\\\n",
       "\t season         & 2            & 92 (25.2\\%)                & 67 (26.3\\%)                & 25 (22.7\\%)                & 0.914\\\\\n",
       "\t season         & 3            & 94 (25.8\\%)                & 65 (25.5\\%)                & 29 (26.4\\%)                & NA   \\\\\n",
       "\t season         & 4            & 89 (24.4\\%)                & 61 (23.9\\%)                & 28 (25.5\\%)                & NA   \\\\\n",
       "\t mnth           & 1            & 31 (8.5\\%)                 & 20 (7.8\\%)                 & 11 (10.0\\%)                & NA   \\\\\n",
       "\t mnth           & 2            & 28 (7.7\\%)                 & 18 (7.1\\%)                 & 10 (9.1\\%)                 & 0.841\\\\\n",
       "\t mnth           & 3            & 31 (8.5\\%)                 & 24 (9.4\\%)                 & 7 (6.4\\%)                  & NA   \\\\\n",
       "\t mnth           & 4            & 30 (8.2\\%)                 & 20 (7.8\\%)                 & 10 (9.1\\%)                 & NA   \\\\\n",
       "\t mnth           & 5            & 31 (8.5\\%)                 & 23 (9.0\\%)                 & 8 (7.3\\%)                  & NA   \\\\\n",
       "\t mnth           & 6            & 30 (8.2\\%)                 & 23 (9.0\\%)                 & 7 (6.4\\%)                  & NA   \\\\\n",
       "\t mnth           & 7            & 31 (8.5\\%)                 & 20 (7.8\\%)                 & 11 (10.0\\%)                & NA   \\\\\n",
       "\t mnth           & 8            & 31 (8.5\\%)                 & 24 (9.4\\%)                 & 7 (6.4\\%)                  & NA   \\\\\n",
       "\t mnth           & 9            & 30 (8.2\\%)                 & 20 (7.8\\%)                 & 10 (9.1\\%)                 & NA   \\\\\n",
       "\t mnth           & 10           & 31 (8.5\\%)                 & 21 (8.2\\%)                 & 10 (9.1\\%)                 & NA   \\\\\n",
       "\t mnth           & 11           & 30 (8.2\\%)                 & 18 (7.1\\%)                 & 12 (10.9\\%)                & NA   \\\\\n",
       "\t mnth           & 12           & 31 (8.5\\%)                 & 24 (9.4\\%)                 & 7 (6.4\\%)                  & NA   \\\\\n",
       "\t holiday        & 1            & 10 (2.7\\%)                 & 5 (2.0\\%)                  & 5 (4.5\\%)                  & 0.166\\\\\n",
       "\t weekday        & 0            & 52 (14.2\\%)                & 36 (14.1\\%)                & 16 (14.5\\%)                & NA   \\\\\n",
       "\t weekday        & 1            & 52 (14.2\\%)                & 34 (13.3\\%)                & 18 (16.4\\%)                & 0.931\\\\\n",
       "\t weekday        & 2            & 52 (14.2\\%)                & 36 (14.1\\%)                & 16 (14.5\\%)                & NA   \\\\\n",
       "\t weekday        & 3            & 52 (14.2\\%)                & 34 (13.3\\%)                & 18 (16.4\\%)                & NA   \\\\\n",
       "\t weekday        & 4            & 52 (14.2\\%)                & 38 (14.9\\%)                & 14 (12.7\\%)                & NA   \\\\\n",
       "\t weekday        & 5            & 52 (14.2\\%)                & 38 (14.9\\%)                & 14 (12.7\\%)                & NA   \\\\\n",
       "\t weekday        & 6            & 53 (14.5\\%)                & 39 (15.3\\%)                & 14 (12.7\\%)                & NA   \\\\\n",
       "\t workingday     & 1            & 250 (68.5\\%)               & 175 (68.6\\%)               & 75 (68.2\\%)                & 1    \\\\\n",
       "\t weathersit     & 1            & 226 (61.9\\%)               & 153 (60.0\\%)               & 73 (66.4\\%)                & NA   \\\\\n",
       "\t weathersit     & 2            & 124 (34.0\\%)               & 93 (36.5\\%)                & 31 (28.2\\%)                & 0.253\\\\\n",
       "\t weathersit     & 3            & 15 (4.1\\%)                 & 9 (3.5\\%)                  & 6 (5.5\\%)                  & NA   \\\\\n",
       "\t temp           & Mean (SD)    & 0.5 (0.2)                 & 0.5 (0.2)                 & 0.5 (0.2)                 & NA   \\\\\n",
       "\t temp           & Median (IQR) & 0.5 (0.3-0.7)             & 0.5 (0.3-0.7)             & 0.5 (0.3-0.7)             & 0.633\\\\\n",
       "\t atemp          & Mean (SD)    & 0.5 (0.2)                 & 0.5 (0.2)                 & 0.5 (0.2)                 & NA   \\\\\n",
       "\t atemp          & Median (IQR) & 0.5 (0.3-0.6)             & 0.5 (0.3-0.6)             & 0.5 (0.3-0.6)             & 0.681\\\\\n",
       "\t hum            & Mean (SD)    & 0.6 (0.1)                 & 0.6 (0.2)                 & 0.7 (0.1)                 & NA   \\\\\n",
       "\t hum            & Median (IQR) & 0.6 (0.5-0.7)             & 0.6 (0.5-0.7)             & 0.6 (0.5-0.7)             & 0.53 \\\\\n",
       "\t windspeed      & Mean (SD)    & 0.2 (0.1)                 & 0.2 (0.1)                 & 0.2 (0.1)                 & NA   \\\\\n",
       "\t windspeed      & Median (IQR) & 0.2 (0.1-0.2)             & 0.2 (0.1-0.2)             & 0.2 (0.1-0.2)             & 0.704\\\\\n",
       "\t cnt            & Mean (SD)    & 3,405.8 (1,378.8)         & 3,443.5 (1,363.5)         & 3,318.2 (1,415.8)         & NA   \\\\\n",
       "\t cnt            & Median (IQR) & 3,740.0 (2,132.0-4,586.0) & 3,750.0 (2,185.5-4,591.0) & 3,577.5 (1,916.5-4,546.2) & 0.426\\\\\n",
       "\t traintest\\_ind\\_ & Mean (SD)    & 1.3 (0.5)                 & NA                        & NA                        & NA   \\\\\n",
       "\t traintest\\_ind\\_ & Median (IQR) & 1.0 (1.0-2.0)             & NA                        & NA                        & 0    \\\\\n",
       "\\end{tabular}\n"
      ],
      "text/markdown": [
       "\n",
       "A tibble: 43 × 6\n",
       "\n",
       "| V1 &lt;chr&gt; | V2 &lt;chr&gt; | Pop &lt;chr&gt; | 1 &lt;chr&gt; | 2 &lt;chr&gt; | pval &lt;chr&gt; |\n",
       "|---|---|---|---|---|---|\n",
       "| Individuals    | n            | 365                       | 255                       | 110                       | NA    |\n",
       "| id             | Mean (SD)    | 183.0 (105.5)             | 183.7 (105.0)             | 181.4 (107.2)             | NA    |\n",
       "| id             | Median (IQR) | 183.0 (92.0-274.0)        | 181.0 (92.5-272.5)        | 184.5 (88.0-277.0)        | 0.854 |\n",
       "| season         | 1            | 90 (24.7%)                | 62 (24.3%)                | 28 (25.5%)                | NA    |\n",
       "| season         | 2            | 92 (25.2%)                | 67 (26.3%)                | 25 (22.7%)                | 0.914 |\n",
       "| season         | 3            | 94 (25.8%)                | 65 (25.5%)                | 29 (26.4%)                | NA    |\n",
       "| season         | 4            | 89 (24.4%)                | 61 (23.9%)                | 28 (25.5%)                | NA    |\n",
       "| mnth           | 1            | 31 (8.5%)                 | 20 (7.8%)                 | 11 (10.0%)                | NA    |\n",
       "| mnth           | 2            | 28 (7.7%)                 | 18 (7.1%)                 | 10 (9.1%)                 | 0.841 |\n",
       "| mnth           | 3            | 31 (8.5%)                 | 24 (9.4%)                 | 7 (6.4%)                  | NA    |\n",
       "| mnth           | 4            | 30 (8.2%)                 | 20 (7.8%)                 | 10 (9.1%)                 | NA    |\n",
       "| mnth           | 5            | 31 (8.5%)                 | 23 (9.0%)                 | 8 (7.3%)                  | NA    |\n",
       "| mnth           | 6            | 30 (8.2%)                 | 23 (9.0%)                 | 7 (6.4%)                  | NA    |\n",
       "| mnth           | 7            | 31 (8.5%)                 | 20 (7.8%)                 | 11 (10.0%)                | NA    |\n",
       "| mnth           | 8            | 31 (8.5%)                 | 24 (9.4%)                 | 7 (6.4%)                  | NA    |\n",
       "| mnth           | 9            | 30 (8.2%)                 | 20 (7.8%)                 | 10 (9.1%)                 | NA    |\n",
       "| mnth           | 10           | 31 (8.5%)                 | 21 (8.2%)                 | 10 (9.1%)                 | NA    |\n",
       "| mnth           | 11           | 30 (8.2%)                 | 18 (7.1%)                 | 12 (10.9%)                | NA    |\n",
       "| mnth           | 12           | 31 (8.5%)                 | 24 (9.4%)                 | 7 (6.4%)                  | NA    |\n",
       "| holiday        | 1            | 10 (2.7%)                 | 5 (2.0%)                  | 5 (4.5%)                  | 0.166 |\n",
       "| weekday        | 0            | 52 (14.2%)                | 36 (14.1%)                | 16 (14.5%)                | NA    |\n",
       "| weekday        | 1            | 52 (14.2%)                | 34 (13.3%)                | 18 (16.4%)                | 0.931 |\n",
       "| weekday        | 2            | 52 (14.2%)                | 36 (14.1%)                | 16 (14.5%)                | NA    |\n",
       "| weekday        | 3            | 52 (14.2%)                | 34 (13.3%)                | 18 (16.4%)                | NA    |\n",
       "| weekday        | 4            | 52 (14.2%)                | 38 (14.9%)                | 14 (12.7%)                | NA    |\n",
       "| weekday        | 5            | 52 (14.2%)                | 38 (14.9%)                | 14 (12.7%)                | NA    |\n",
       "| weekday        | 6            | 53 (14.5%)                | 39 (15.3%)                | 14 (12.7%)                | NA    |\n",
       "| workingday     | 1            | 250 (68.5%)               | 175 (68.6%)               | 75 (68.2%)                | 1     |\n",
       "| weathersit     | 1            | 226 (61.9%)               | 153 (60.0%)               | 73 (66.4%)                | NA    |\n",
       "| weathersit     | 2            | 124 (34.0%)               | 93 (36.5%)                | 31 (28.2%)                | 0.253 |\n",
       "| weathersit     | 3            | 15 (4.1%)                 | 9 (3.5%)                  | 6 (5.5%)                  | NA    |\n",
       "| temp           | Mean (SD)    | 0.5 (0.2)                 | 0.5 (0.2)                 | 0.5 (0.2)                 | NA    |\n",
       "| temp           | Median (IQR) | 0.5 (0.3-0.7)             | 0.5 (0.3-0.7)             | 0.5 (0.3-0.7)             | 0.633 |\n",
       "| atemp          | Mean (SD)    | 0.5 (0.2)                 | 0.5 (0.2)                 | 0.5 (0.2)                 | NA    |\n",
       "| atemp          | Median (IQR) | 0.5 (0.3-0.6)             | 0.5 (0.3-0.6)             | 0.5 (0.3-0.6)             | 0.681 |\n",
       "| hum            | Mean (SD)    | 0.6 (0.1)                 | 0.6 (0.2)                 | 0.7 (0.1)                 | NA    |\n",
       "| hum            | Median (IQR) | 0.6 (0.5-0.7)             | 0.6 (0.5-0.7)             | 0.6 (0.5-0.7)             | 0.53  |\n",
       "| windspeed      | Mean (SD)    | 0.2 (0.1)                 | 0.2 (0.1)                 | 0.2 (0.1)                 | NA    |\n",
       "| windspeed      | Median (IQR) | 0.2 (0.1-0.2)             | 0.2 (0.1-0.2)             | 0.2 (0.1-0.2)             | 0.704 |\n",
       "| cnt            | Mean (SD)    | 3,405.8 (1,378.8)         | 3,443.5 (1,363.5)         | 3,318.2 (1,415.8)         | NA    |\n",
       "| cnt            | Median (IQR) | 3,740.0 (2,132.0-4,586.0) | 3,750.0 (2,185.5-4,591.0) | 3,577.5 (1,916.5-4,546.2) | 0.426 |\n",
       "| traintest_ind_ | Mean (SD)    | 1.3 (0.5)                 | NA                        | NA                        | NA    |\n",
       "| traintest_ind_ | Median (IQR) | 1.0 (1.0-2.0)             | NA                        | NA                        | 0     |\n",
       "\n"
      ],
      "text/plain": [
       "   V1             V2           Pop                      \n",
       "1  Individuals    n            365                      \n",
       "2  id             Mean (SD)    183.0 (105.5)            \n",
       "3  id             Median (IQR) 183.0 (92.0-274.0)       \n",
       "4  season         1            90 (24.7%)               \n",
       "5  season         2            92 (25.2%)               \n",
       "6  season         3            94 (25.8%)               \n",
       "7  season         4            89 (24.4%)               \n",
       "8  mnth           1            31 (8.5%)                \n",
       "9  mnth           2            28 (7.7%)                \n",
       "10 mnth           3            31 (8.5%)                \n",
       "11 mnth           4            30 (8.2%)                \n",
       "12 mnth           5            31 (8.5%)                \n",
       "13 mnth           6            30 (8.2%)                \n",
       "14 mnth           7            31 (8.5%)                \n",
       "15 mnth           8            31 (8.5%)                \n",
       "16 mnth           9            30 (8.2%)                \n",
       "17 mnth           10           31 (8.5%)                \n",
       "18 mnth           11           30 (8.2%)                \n",
       "19 mnth           12           31 (8.5%)                \n",
       "20 holiday        1            10 (2.7%)                \n",
       "21 weekday        0            52 (14.2%)               \n",
       "22 weekday        1            52 (14.2%)               \n",
       "23 weekday        2            52 (14.2%)               \n",
       "24 weekday        3            52 (14.2%)               \n",
       "25 weekday        4            52 (14.2%)               \n",
       "26 weekday        5            52 (14.2%)               \n",
       "27 weekday        6            53 (14.5%)               \n",
       "28 workingday     1            250 (68.5%)              \n",
       "29 weathersit     1            226 (61.9%)              \n",
       "30 weathersit     2            124 (34.0%)              \n",
       "31 weathersit     3            15 (4.1%)                \n",
       "32 temp           Mean (SD)    0.5 (0.2)                \n",
       "33 temp           Median (IQR) 0.5 (0.3-0.7)            \n",
       "34 atemp          Mean (SD)    0.5 (0.2)                \n",
       "35 atemp          Median (IQR) 0.5 (0.3-0.6)            \n",
       "36 hum            Mean (SD)    0.6 (0.1)                \n",
       "37 hum            Median (IQR) 0.6 (0.5-0.7)            \n",
       "38 windspeed      Mean (SD)    0.2 (0.1)                \n",
       "39 windspeed      Median (IQR) 0.2 (0.1-0.2)            \n",
       "40 cnt            Mean (SD)    3,405.8 (1,378.8)        \n",
       "41 cnt            Median (IQR) 3,740.0 (2,132.0-4,586.0)\n",
       "42 traintest_ind_ Mean (SD)    1.3 (0.5)                \n",
       "43 traintest_ind_ Median (IQR) 1.0 (1.0-2.0)            \n",
       "   1                         2                         pval \n",
       "1  255                       110                       NA   \n",
       "2  183.7 (105.0)             181.4 (107.2)             NA   \n",
       "3  181.0 (92.5-272.5)        184.5 (88.0-277.0)        0.854\n",
       "4  62 (24.3%)                28 (25.5%)                NA   \n",
       "5  67 (26.3%)                25 (22.7%)                0.914\n",
       "6  65 (25.5%)                29 (26.4%)                NA   \n",
       "7  61 (23.9%)                28 (25.5%)                NA   \n",
       "8  20 (7.8%)                 11 (10.0%)                NA   \n",
       "9  18 (7.1%)                 10 (9.1%)                 0.841\n",
       "10 24 (9.4%)                 7 (6.4%)                  NA   \n",
       "11 20 (7.8%)                 10 (9.1%)                 NA   \n",
       "12 23 (9.0%)                 8 (7.3%)                  NA   \n",
       "13 23 (9.0%)                 7 (6.4%)                  NA   \n",
       "14 20 (7.8%)                 11 (10.0%)                NA   \n",
       "15 24 (9.4%)                 7 (6.4%)                  NA   \n",
       "16 20 (7.8%)                 10 (9.1%)                 NA   \n",
       "17 21 (8.2%)                 10 (9.1%)                 NA   \n",
       "18 18 (7.1%)                 12 (10.9%)                NA   \n",
       "19 24 (9.4%)                 7 (6.4%)                  NA   \n",
       "20 5 (2.0%)                  5 (4.5%)                  0.166\n",
       "21 36 (14.1%)                16 (14.5%)                NA   \n",
       "22 34 (13.3%)                18 (16.4%)                0.931\n",
       "23 36 (14.1%)                16 (14.5%)                NA   \n",
       "24 34 (13.3%)                18 (16.4%)                NA   \n",
       "25 38 (14.9%)                14 (12.7%)                NA   \n",
       "26 38 (14.9%)                14 (12.7%)                NA   \n",
       "27 39 (15.3%)                14 (12.7%)                NA   \n",
       "28 175 (68.6%)               75 (68.2%)                1    \n",
       "29 153 (60.0%)               73 (66.4%)                NA   \n",
       "30 93 (36.5%)                31 (28.2%)                0.253\n",
       "31 9 (3.5%)                  6 (5.5%)                  NA   \n",
       "32 0.5 (0.2)                 0.5 (0.2)                 NA   \n",
       "33 0.5 (0.3-0.7)             0.5 (0.3-0.7)             0.633\n",
       "34 0.5 (0.2)                 0.5 (0.2)                 NA   \n",
       "35 0.5 (0.3-0.6)             0.5 (0.3-0.6)             0.681\n",
       "36 0.6 (0.2)                 0.7 (0.1)                 NA   \n",
       "37 0.6 (0.5-0.7)             0.6 (0.5-0.7)             0.53 \n",
       "38 0.2 (0.1)                 0.2 (0.1)                 NA   \n",
       "39 0.2 (0.1-0.2)             0.2 (0.1-0.2)             0.704\n",
       "40 3,443.5 (1,363.5)         3,318.2 (1,415.8)         NA   \n",
       "41 3,750.0 (2,185.5-4,591.0) 3,577.5 (1,916.5-4,546.2) 0.426\n",
       "42 NA                        NA                        NA   \n",
       "43 NA                        NA                        0    "
      ]
     },
     "metadata": {},
     "output_type": "display_data"
    }
   ],
   "source": [
    "tab1 <- train_test(data=df, train_name=\"train\", test_name=\"test\", prop=0.7, seed=5, tableone=TRUE)\n",
    "tab1"
   ]
  },
  {
   "cell_type": "code",
   "execution_count": 6,
   "metadata": {},
   "outputs": [],
   "source": [
    "### Table of resulting errors\n",
    "### Name, Model, RMSE, RMSLE\n",
    "err_res <- NULL"
   ]
  },
  {
   "cell_type": "code",
   "execution_count": 7,
   "metadata": {},
   "outputs": [],
   "source": [
    "### The error we will use is the RMSE and RMSLE\n",
    "rmse <- function(y,y_hat) {\n",
    "    err <- sqrt(sum((y_hat-y)^2,na.rm=T)/length(y))\n",
    "    return(err)\n",
    "}\n",
    "\n",
    "rmsle <- function(y,y_hat) {\n",
    "    err <- sqrt(sum((log(y_hat+1)-log(y+1))^2,na.rm=T)/length(y))\n",
    "    return(err)\n",
    "}\n"
   ]
  },
  {
   "cell_type": "markdown",
   "metadata": {},
   "source": [
    "## SVM"
   ]
  },
  {
   "cell_type": "code",
   "execution_count": 10,
   "metadata": {
    "scrolled": true
   },
   "outputs": [
    {
     "name": "stderr",
     "output_type": "stream",
     "text": [
      "Warning message:\n",
      "\"package 'liquidSVM' was built under R version 4.0.3\"\n"
     ]
    }
   ],
   "source": [
    "#install.packages(\"liquidSVM\")\n",
    "library(liquidSVM)\n",
    "\n"
   ]
  },
  {
   "cell_type": "code",
   "execution_count": 11,
   "metadata": {},
   "outputs": [],
   "source": [
    "cnames = names(train)\n",
    "cnames <- cnames[c(2:11)]\n",
    "\n",
    "variables_comb <- list()\n",
    "\n",
    "# length(combn(cnames,3))\n",
    "# combn(cnames,3)\n",
    "\n",
    "counter <-  0\n",
    "for(i in 1:10) {\n",
    "    curr_combs <- combn(cnames,i)\n",
    "    for(j in 1:(length(curr_combs)/i)){\n",
    "        counter <- counter + 1\n",
    "        curr_comb <- data.frame(curr_combs[,j])\n",
    "        variables_comb[counter] <- curr_comb\n",
    "    }\n",
    "}   \n"
   ]
  },
  {
   "cell_type": "code",
   "execution_count": 13,
   "metadata": {},
   "outputs": [
    {
     "name": "stderr",
     "output_type": "stream",
     "text": [
      "Loading required package: svMisc\n",
      "\n",
      "Warning message:\n",
      "\"package 'svMisc' was built under R version 4.0.3\"\n",
      "\n",
      "Attaching package: 'svMisc'\n",
      "\n",
      "\n",
      "The following object is masked from 'package:utils':\n",
      "\n",
      "    ?\n",
      "\n",
      "\n"
     ]
    }
   ],
   "source": [
    "# install.packages(\"svMisc\")\n",
    "require(svMisc)"
   ]
  },
  {
   "cell_type": "code",
   "execution_count": 14,
   "metadata": {},
   "outputs": [
    {
     "name": "stdout",
     "output_type": "stream",
     "text": [
      "Progress:   1%Progress:   2%Progress:   3%Progress:   4%  "
     ]
    },
    {
     "name": "stderr",
     "output_type": "stream",
     "text": [
      "Warning message in (function (model, command.args = NULL, ..., d = NULL, warn.suboptimal = getOption(\"liquidSVM.warn.suboptimal\", :\n",
      "\"Solution may not be optimal: try training again using max_gamma=25\"\n"
     ]
    },
    {
     "name": "stdout",
     "output_type": "stream",
     "text": [
      "\b\b\b\b\b\b\b\b\b\b\b\b\b\b\b\bProgress:   5%  "
     ]
    },
    {
     "name": "stderr",
     "output_type": "stream",
     "text": [
      "Warning message in (function (model, command.args = NULL, ..., d = NULL, warn.suboptimal = getOption(\"liquidSVM.warn.suboptimal\", :\n",
      "\"Solution may not be optimal: try training again using max_gamma=25\"\n"
     ]
    },
    {
     "name": "stdout",
     "output_type": "stream",
     "text": [
      "Progress:   6%Progress:   7%Progress:   8%Progress:   9%Progress:  10%Progress:  11%Progress:  12%Progress:  13%Progress:  14%Progress:  15%Progress:  16%Progress:  17%Progress:  18%Progress:  19%Progress:  20%Progress:  21%Progress:  22%Progress:  23%Progress:  24%Progress:  25%Progress:  26%Progress:  27%Progress:  28%  "
     ]
    },
    {
     "name": "stderr",
     "output_type": "stream",
     "text": [
      "Warning message in (function (model, command.args = NULL, ..., d = NULL, warn.suboptimal = getOption(\"liquidSVM.warn.suboptimal\", :\n",
      "\"Solution may not be optimal: try training again using max_gamma=25\"\n"
     ]
    },
    {
     "name": "stdout",
     "output_type": "stream",
     "text": [
      "Progress:  29%Progress:  30%Progress:  31%Progress:  32%Progress:  33%Progress:  34%Progress:  35%  "
     ]
    },
    {
     "name": "stderr",
     "output_type": "stream",
     "text": [
      "Warning message in (function (model, command.args = NULL, ..., d = NULL, warn.suboptimal = getOption(\"liquidSVM.warn.suboptimal\", :\n",
      "\"Solution may not be optimal: try training again using max_gamma=25\"\n"
     ]
    },
    {
     "name": "stdout",
     "output_type": "stream",
     "text": [
      "\b\b\b\b\b\b\b\b\b\b\b\b\b\b\b\bProgress:  36%  "
     ]
    },
    {
     "name": "stderr",
     "output_type": "stream",
     "text": [
      "Warning message in (function (model, command.args = NULL, ..., d = NULL, warn.suboptimal = getOption(\"liquidSVM.warn.suboptimal\", :\n",
      "\"Solution may not be optimal: try training again using max_gamma=25\"\n"
     ]
    },
    {
     "name": "stdout",
     "output_type": "stream",
     "text": [
      "Progress:  37%Progress:  38%Progress:  39%Progress:  40%  "
     ]
    },
    {
     "name": "stderr",
     "output_type": "stream",
     "text": [
      "Warning message in (function (model, command.args = NULL, ..., d = NULL, warn.suboptimal = getOption(\"liquidSVM.warn.suboptimal\", :\n",
      "\"Solution may not be optimal: try training again using max_gamma=25\"\n"
     ]
    },
    {
     "name": "stdout",
     "output_type": "stream",
     "text": [
      "\b\b\b\b\b\b\b\b\b\b\b\b\b\b\b\bProgress:  41%  "
     ]
    },
    {
     "name": "stderr",
     "output_type": "stream",
     "text": [
      "Warning message in (function (model, command.args = NULL, ..., d = NULL, warn.suboptimal = getOption(\"liquidSVM.warn.suboptimal\", :\n",
      "\"Solution may not be optimal: try training again using max_gamma=25\"\n"
     ]
    },
    {
     "name": "stdout",
     "output_type": "stream",
     "text": [
      "Progress:  42%Progress:  43%Progress:  44%Progress:  45%Progress:  46%Progress:  47%Progress:  48%  "
     ]
    },
    {
     "name": "stderr",
     "output_type": "stream",
     "text": [
      "Warning message in (function (model, command.args = NULL, ..., d = NULL, warn.suboptimal = getOption(\"liquidSVM.warn.suboptimal\", :\n",
      "\"Solution may not be optimal: try training again using max_gamma=25\"\n"
     ]
    },
    {
     "name": "stdout",
     "output_type": "stream",
     "text": [
      "Progress:  49%Progress:  50%Progress:  51%Progress:  52%Progress:  53%Progress:  54%Progress:  55%Progress:  56%Progress:  57%Progress:  58%Progress:  59%  "
     ]
    },
    {
     "name": "stderr",
     "output_type": "stream",
     "text": [
      "Warning message in (function (model, command.args = NULL, ..., d = NULL, warn.suboptimal = getOption(\"liquidSVM.warn.suboptimal\", :\n",
      "\"Solution may not be optimal: try training again using min_lambda=2e-04\"\n"
     ]
    },
    {
     "name": "stdout",
     "output_type": "stream",
     "text": [
      "Progress:  60%Progress:  61%Progress:  62%Progress:  63%Progress:  64%Progress:  65%Progress:  66%Progress:  67%Progress:  68%Progress:  69%  "
     ]
    },
    {
     "name": "stderr",
     "output_type": "stream",
     "text": [
      "Warning message in (function (model, command.args = NULL, ..., d = NULL, warn.suboptimal = getOption(\"liquidSVM.warn.suboptimal\", :\n",
      "\"Solution may not be optimal: try training again using min_lambda=2e-04\"\n"
     ]
    },
    {
     "name": "stdout",
     "output_type": "stream",
     "text": [
      "Progress:  70%Progress:  71%Progress:  72%Progress:  73%Progress:  74%Progress:  75%Progress:  76%Progress:  77%Progress:  78%Progress:  79%Progress:  80%Progress:  81%Progress:  82%Progress:  83%Progress:  84%Progress:  85%Progress:  86%Progress:  87%Progress:  88%Progress:  89%Progress:  90%Progress:  91%Progress:  92%Progress:  93%Progress:  94%Progress:  95%Progress:  96%Progress:  97%Progress:  98%Progress:  99%Progress: 100%              "
     ]
    },
    {
     "name": "stderr",
     "output_type": "stream",
     "text": [
      "Warning message in (function (model, command.args = NULL, ..., d = NULL, warn.suboptimal = getOption(\"liquidSVM.warn.suboptimal\", :\n",
      "\"Solution may not be optimal: try training again using max_gamma=25\"\n",
      "Warning message in (function (model, command.args = NULL, ..., d = NULL, warn.suboptimal = getOption(\"liquidSVM.warn.suboptimal\", :\n",
      "\"Solution may not be optimal: try training again using max_gamma=25\"\n",
      "Warning message in (function (model, command.args = NULL, ..., d = NULL, warn.suboptimal = getOption(\"liquidSVM.warn.suboptimal\", :\n",
      "\"Solution may not be optimal: try training again using max_gamma=25\"\n",
      "Warning message in (function (model, command.args = NULL, ..., d = NULL, warn.suboptimal = getOption(\"liquidSVM.warn.suboptimal\", :\n",
      "\"Solution may not be optimal: try training again using min_lambda=2e-04\"\n",
      "Warning message in (function (model, command.args = NULL, ..., d = NULL, warn.suboptimal = getOption(\"liquidSVM.warn.suboptimal\", :\n",
      "\"Solution may not be optimal: try training again using min_lambda=2e-04\"\n",
      "Warning message in (function (model, command.args = NULL, ..., d = NULL, warn.suboptimal = getOption(\"liquidSVM.warn.suboptimal\", :\n",
      "\"Solution may not be optimal: try training again using max_gamma=25\"\n",
      "Warning message in (function (model, command.args = NULL, ..., d = NULL, warn.suboptimal = getOption(\"liquidSVM.warn.suboptimal\", :\n",
      "\"Solution may not be optimal: try training again using max_gamma=25\"\n",
      "Warning message in log(y_hat + 1):\n",
      "\"NaNs produced\"\n",
      "Warning message in log(y_hat + 1):\n",
      "\"NaNs produced\"\n",
      "Warning message in (function (model, command.args = NULL, ..., d = NULL, warn.suboptimal = getOption(\"liquidSVM.warn.suboptimal\", :\n",
      "\"Solution may not be optimal: try training again using max_gamma=25\"\n",
      "Warning message in (function (model, command.args = NULL, ..., d = NULL, warn.suboptimal = getOption(\"liquidSVM.warn.suboptimal\", :\n",
      "\"Solution may not be optimal: try training again using min_lambda=2e-04\"\n",
      "Warning message in (function (model, command.args = NULL, ..., d = NULL, warn.suboptimal = getOption(\"liquidSVM.warn.suboptimal\", :\n",
      "\"Solution may not be optimal: try training again using min_lambda=2e-04\"\n",
      "Warning message in (function (model, command.args = NULL, ..., d = NULL, warn.suboptimal = getOption(\"liquidSVM.warn.suboptimal\", :\n",
      "\"Solution may not be optimal: try training again using min_lambda=2e-04\"\n",
      "Warning message in (function (model, command.args = NULL, ..., d = NULL, warn.suboptimal = getOption(\"liquidSVM.warn.suboptimal\", :\n",
      "\"Solution may not be optimal: try training again using min_lambda=2e-04\"\n",
      "Warning message in (function (model, command.args = NULL, ..., d = NULL, warn.suboptimal = getOption(\"liquidSVM.warn.suboptimal\", :\n",
      "\"Solution may not be optimal: try training again using min_lambda=2e-04\"\n",
      "Warning message in (function (model, command.args = NULL, ..., d = NULL, warn.suboptimal = getOption(\"liquidSVM.warn.suboptimal\", :\n",
      "\"Solution may not be optimal: try training again using max_gamma=25\"\n",
      "Warning message in (function (model, command.args = NULL, ..., d = NULL, warn.suboptimal = getOption(\"liquidSVM.warn.suboptimal\", :\n",
      "\"Solution may not be optimal: try training again using max_gamma=25\"\n",
      "Warning message in (function (model, command.args = NULL, ..., d = NULL, warn.suboptimal = getOption(\"liquidSVM.warn.suboptimal\", :\n",
      "\"Solution may not be optimal: try training again using max_gamma=25\"\n",
      "Warning message in (function (model, command.args = NULL, ..., d = NULL, warn.suboptimal = getOption(\"liquidSVM.warn.suboptimal\", :\n",
      "\"Solution may not be optimal: try training again using max_gamma=25\"\n",
      "Warning message in (function (model, command.args = NULL, ..., d = NULL, warn.suboptimal = getOption(\"liquidSVM.warn.suboptimal\", :\n",
      "\"Solution may not be optimal: try training again using min_lambda=2e-04\"\n",
      "Warning message in (function (model, command.args = NULL, ..., d = NULL, warn.suboptimal = getOption(\"liquidSVM.warn.suboptimal\", :\n",
      "\"Solution may not be optimal: try training again using max_gamma=25\"\n",
      "Warning message in (function (model, command.args = NULL, ..., d = NULL, warn.suboptimal = getOption(\"liquidSVM.warn.suboptimal\", :\n",
      "\"Solution may not be optimal: try training again using min_lambda=2e-04\"\n",
      "Warning message in log(y_hat + 1):\n",
      "\"NaNs produced\"\n",
      "Warning message in log(y_hat + 1):\n",
      "\"NaNs produced\"\n",
      "Warning message in (function (model, command.args = NULL, ..., d = NULL, warn.suboptimal = getOption(\"liquidSVM.warn.suboptimal\", :\n",
      "\"Solution may not be optimal: try training again using min_lambda=2e-04\"\n",
      "Warning message in log(y_hat + 1):\n",
      "\"NaNs produced\"\n",
      "Warning message in log(y_hat + 1):\n",
      "\"NaNs produced\"\n",
      "Warning message in (function (model, command.args = NULL, ..., d = NULL, warn.suboptimal = getOption(\"liquidSVM.warn.suboptimal\", :\n",
      "\"Solution may not be optimal: try training again using min_lambda=2e-04\"\n",
      "Warning message in (function (model, command.args = NULL, ..., d = NULL, warn.suboptimal = getOption(\"liquidSVM.warn.suboptimal\", :\n",
      "\"Solution may not be optimal: try training again using min_lambda=2e-04\"\n",
      "Warning message in (function (model, command.args = NULL, ..., d = NULL, warn.suboptimal = getOption(\"liquidSVM.warn.suboptimal\", :\n",
      "\"Solution may not be optimal: try training again using min_lambda=2e-04\"\n",
      "Warning message in (function (model, command.args = NULL, ..., d = NULL, warn.suboptimal = getOption(\"liquidSVM.warn.suboptimal\", :\n",
      "\"Solution may not be optimal: try training again using min_lambda=2e-04\"\n",
      "Warning message in (function (model, command.args = NULL, ..., d = NULL, warn.suboptimal = getOption(\"liquidSVM.warn.suboptimal\", :\n",
      "\"Solution may not be optimal: try training again using min_lambda=2e-04\"\n",
      "Warning message in (function (model, command.args = NULL, ..., d = NULL, warn.suboptimal = getOption(\"liquidSVM.warn.suboptimal\", :\n",
      "\"Solution may not be optimal: try training again using min_lambda=2e-04\"\n",
      "Warning message in (function (model, command.args = NULL, ..., d = NULL, warn.suboptimal = getOption(\"liquidSVM.warn.suboptimal\", :\n",
      "\"Solution may not be optimal: try training again using min_lambda=2e-04\"\n",
      "Warning message in log(y_hat + 1):\n",
      "\"NaNs produced\"\n",
      "Warning message in log(y_hat + 1):\n",
      "\"NaNs produced\"\n",
      "Warning message in log(y_hat + 1):\n",
      "\"NaNs produced\"\n",
      "Warning message in log(y_hat + 1):\n",
      "\"NaNs produced\"\n",
      "Warning message in log(y_hat + 1):\n",
      "\"NaNs produced\"\n",
      "Warning message in log(y_hat + 1):\n",
      "\"NaNs produced\"\n",
      "Warning message in log(y_hat + 1):\n",
      "\"NaNs produced\"\n",
      "Warning message in log(y_hat + 1):\n",
      "\"NaNs produced\"\n",
      "Warning message in log(y_hat + 1):\n",
      "\"NaNs produced\"\n",
      "Warning message in log(y_hat + 1):\n",
      "\"NaNs produced\"\n",
      "Warning message in (function (model, command.args = NULL, ..., d = NULL, warn.suboptimal = getOption(\"liquidSVM.warn.suboptimal\", :\n",
      "\"Solution may not be optimal: try training again using min_lambda=2e-04\"\n",
      "Warning message in log(y_hat + 1):\n",
      "\"NaNs produced\"\n",
      "Warning message in log(y_hat + 1):\n",
      "\"NaNs produced\"\n",
      "Warning message in (function (model, command.args = NULL, ..., d = NULL, warn.suboptimal = getOption(\"liquidSVM.warn.suboptimal\", :\n",
      "\"Solution may not be optimal: try training again using min_lambda=2e-04\"\n",
      "Warning message in (function (model, command.args = NULL, ..., d = NULL, warn.suboptimal = getOption(\"liquidSVM.warn.suboptimal\", :\n",
      "\"Solution may not be optimal: try training again using min_lambda=2e-04\"\n",
      "Warning message in (function (model, command.args = NULL, ..., d = NULL, warn.suboptimal = getOption(\"liquidSVM.warn.suboptimal\", :\n",
      "\"Solution may not be optimal: try training again using min_lambda=2e-04\"\n",
      "Warning message in (function (model, command.args = NULL, ..., d = NULL, warn.suboptimal = getOption(\"liquidSVM.warn.suboptimal\", :\n",
      "\"Solution may not be optimal: try training again using max_gamma=25\"\n",
      "Warning message in (function (model, command.args = NULL, ..., d = NULL, warn.suboptimal = getOption(\"liquidSVM.warn.suboptimal\", :\n",
      "\"Solution may not be optimal: try training again using min_lambda=2e-04\"\n",
      "Warning message in log(y_hat + 1):\n",
      "\"NaNs produced\"\n",
      "Warning message in log(y_hat + 1):\n",
      "\"NaNs produced\"\n",
      "Warning message in log(y_hat + 1):\n",
      "\"NaNs produced\"\n",
      "Warning message in log(y_hat + 1):\n",
      "\"NaNs produced\"\n",
      "Warning message in (function (model, command.args = NULL, ..., d = NULL, warn.suboptimal = getOption(\"liquidSVM.warn.suboptimal\", :\n",
      "\"Solution may not be optimal: try training again using min_lambda=2e-04\"\n"
     ]
    },
    {
     "name": "stderr",
     "output_type": "stream",
     "text": [
      "Warning message in (function (model, command.args = NULL, ..., d = NULL, warn.suboptimal = getOption(\"liquidSVM.warn.suboptimal\", :\n",
      "\"Solution may not be optimal: try training again using min_lambda=2e-04\"\n",
      "Warning message in (function (model, command.args = NULL, ..., d = NULL, warn.suboptimal = getOption(\"liquidSVM.warn.suboptimal\", :\n",
      "\"Solution may not be optimal: try training again using min_lambda=2e-04\"\n",
      "Warning message in (function (model, command.args = NULL, ..., d = NULL, warn.suboptimal = getOption(\"liquidSVM.warn.suboptimal\", :\n",
      "\"Solution may not be optimal: try training again using min_lambda=2e-04\"\n",
      "Warning message in (function (model, command.args = NULL, ..., d = NULL, warn.suboptimal = getOption(\"liquidSVM.warn.suboptimal\", :\n",
      "\"Solution may not be optimal: try training again using min_lambda=2e-04\"\n",
      "Warning message in (function (model, command.args = NULL, ..., d = NULL, warn.suboptimal = getOption(\"liquidSVM.warn.suboptimal\", :\n",
      "\"Solution may not be optimal: try training again using min_lambda=2e-04\"\n",
      "Warning message in (function (model, command.args = NULL, ..., d = NULL, warn.suboptimal = getOption(\"liquidSVM.warn.suboptimal\", :\n",
      "\"Solution may not be optimal: try training again using min_lambda=2e-04\"\n",
      "Warning message in (function (model, command.args = NULL, ..., d = NULL, warn.suboptimal = getOption(\"liquidSVM.warn.suboptimal\", :\n",
      "\"Solution may not be optimal: try training again using min_lambda=2e-04\"\n",
      "Warning message in (function (model, command.args = NULL, ..., d = NULL, warn.suboptimal = getOption(\"liquidSVM.warn.suboptimal\", :\n",
      "\"Solution may not be optimal: try training again using min_lambda=2e-04\"\n",
      "Warning message in (function (model, command.args = NULL, ..., d = NULL, warn.suboptimal = getOption(\"liquidSVM.warn.suboptimal\", :\n",
      "\"Solution may not be optimal: try training again using min_lambda=2e-04\"\n",
      "Warning message in (function (model, command.args = NULL, ..., d = NULL, warn.suboptimal = getOption(\"liquidSVM.warn.suboptimal\", :\n",
      "\"Solution may not be optimal: try training again using min_lambda=2e-04\"\n",
      "Warning message in (function (model, command.args = NULL, ..., d = NULL, warn.suboptimal = getOption(\"liquidSVM.warn.suboptimal\", :\n",
      "\"Solution may not be optimal: try training again using min_lambda=2e-04\"\n",
      "Warning message in (function (model, command.args = NULL, ..., d = NULL, warn.suboptimal = getOption(\"liquidSVM.warn.suboptimal\", :\n",
      "\"Solution may not be optimal: try training again using min_lambda=2e-04\"\n",
      "Warning message in (function (model, command.args = NULL, ..., d = NULL, warn.suboptimal = getOption(\"liquidSVM.warn.suboptimal\", :\n",
      "\"Solution may not be optimal: try training again using min_lambda=2e-04\"\n",
      "Warning message in (function (model, command.args = NULL, ..., d = NULL, warn.suboptimal = getOption(\"liquidSVM.warn.suboptimal\", :\n",
      "\"Solution may not be optimal: try training again using min_lambda=2e-04\"\n",
      "Warning message in (function (model, command.args = NULL, ..., d = NULL, warn.suboptimal = getOption(\"liquidSVM.warn.suboptimal\", :\n",
      "\"Solution may not be optimal: try training again using min_lambda=2e-04\"\n",
      "Warning message in (function (model, command.args = NULL, ..., d = NULL, warn.suboptimal = getOption(\"liquidSVM.warn.suboptimal\", :\n",
      "\"Solution may not be optimal: try training again using min_lambda=2e-04\"\n",
      "Warning message in (function (model, command.args = NULL, ..., d = NULL, warn.suboptimal = getOption(\"liquidSVM.warn.suboptimal\", :\n",
      "\"Solution may not be optimal: try training again using min_lambda=2e-04\"\n",
      "Warning message in log(y_hat + 1):\n",
      "\"NaNs produced\"\n",
      "Warning message in log(y_hat + 1):\n",
      "\"NaNs produced\"\n",
      "Warning message in log(y_hat + 1):\n",
      "\"NaNs produced\"\n",
      "Warning message in log(y_hat + 1):\n",
      "\"NaNs produced\"\n",
      "Warning message in log(y_hat + 1):\n",
      "\"NaNs produced\"\n",
      "Warning message in log(y_hat + 1):\n",
      "\"NaNs produced\"\n",
      "Warning message in log(y_hat + 1):\n",
      "\"NaNs produced\"\n",
      "Warning message in log(y_hat + 1):\n",
      "\"NaNs produced\"\n",
      "Warning message in (function (model, command.args = NULL, ..., d = NULL, warn.suboptimal = getOption(\"liquidSVM.warn.suboptimal\", :\n",
      "\"Solution may not be optimal: try training again using min_lambda=2e-04\"\n",
      "Warning message in (function (model, command.args = NULL, ..., d = NULL, warn.suboptimal = getOption(\"liquidSVM.warn.suboptimal\", :\n",
      "\"Solution may not be optimal: try training again using min_lambda=2e-04\"\n",
      "Warning message in (function (model, command.args = NULL, ..., d = NULL, warn.suboptimal = getOption(\"liquidSVM.warn.suboptimal\", :\n",
      "\"Solution may not be optimal: try training again using min_lambda=2e-04\"\n",
      "Warning message in log(y_hat + 1):\n",
      "\"NaNs produced\"\n",
      "Warning message in log(y_hat + 1):\n",
      "\"NaNs produced\"\n",
      "Warning message in (function (model, command.args = NULL, ..., d = NULL, warn.suboptimal = getOption(\"liquidSVM.warn.suboptimal\", :\n",
      "\"Solution may not be optimal: try training again using min_lambda=2e-04\"\n",
      "Warning message in (function (model, command.args = NULL, ..., d = NULL, warn.suboptimal = getOption(\"liquidSVM.warn.suboptimal\", :\n",
      "\"Solution may not be optimal: try training again using min_lambda=2e-04\"\n",
      "Warning message in (function (model, command.args = NULL, ..., d = NULL, warn.suboptimal = getOption(\"liquidSVM.warn.suboptimal\", :\n",
      "\"Solution may not be optimal: try training again using min_lambda=2e-04\"\n",
      "Warning message in (function (model, command.args = NULL, ..., d = NULL, warn.suboptimal = getOption(\"liquidSVM.warn.suboptimal\", :\n",
      "\"Solution may not be optimal: try training again using min_lambda=2e-04\"\n",
      "Warning message in (function (model, command.args = NULL, ..., d = NULL, warn.suboptimal = getOption(\"liquidSVM.warn.suboptimal\", :\n",
      "\"Solution may not be optimal: try training again using min_lambda=2e-04\"\n"
     ]
    }
   ],
   "source": [
    "\n",
    "err_res <- NULL\n",
    "counter <- 0\n",
    "for(curr_vars in variables_comb){\n",
    "    \n",
    "    counter <- counter + 1\n",
    "    progress(counter)\n",
    "    \n",
    "    outcome <- \"cnt\"\n",
    "    variables <- curr_vars\n",
    "    f <- as.formula( paste(outcome,  paste(variables, collapse = \" + \"), sep = \" ~ \"))\n",
    "\n",
    "    mod9 <- svm(f, train)\n",
    "    \n",
    "    pred9 <- predict(mod9, newdata=test)\n",
    "\n",
    "    rmse(test$cnt,pred9)\n",
    "    rmsle(test$cnt,pred9)\n",
    "    err_res <- rbind(err_res, data.frame(Name=\"SVM\", Model=\"mod9\", \n",
    "                                         RMSE=rmse(test$cnt,pred9), \n",
    "                                         RMSLE=rmsle(test$cnt,pred9)))\n",
    "    }\n",
    "\n"
   ]
  },
  {
   "cell_type": "code",
   "execution_count": 15,
   "metadata": {},
   "outputs": [
    {
     "data": {
      "text/html": [
       "<table>\n",
       "<caption>A data.frame: 1023 × 4</caption>\n",
       "<thead>\n",
       "\t<tr><th scope=col>Name</th><th scope=col>Model</th><th scope=col>RMSE</th><th scope=col>RMSLE</th></tr>\n",
       "\t<tr><th scope=col>&lt;chr&gt;</th><th scope=col>&lt;chr&gt;</th><th scope=col>&lt;dbl&gt;</th><th scope=col>&lt;dbl&gt;</th></tr>\n",
       "</thead>\n",
       "<tbody>\n",
       "\t<tr><td>SVM</td><td>mod9</td><td> 974.9266</td><td>0.4075944</td></tr>\n",
       "\t<tr><td>SVM</td><td>mod9</td><td> 826.2856</td><td>0.3662656</td></tr>\n",
       "\t<tr><td>SVM</td><td>mod9</td><td>1409.7782</td><td>0.5622616</td></tr>\n",
       "\t<tr><td>SVM</td><td>mod9</td><td>1417.7276</td><td>0.5677238</td></tr>\n",
       "\t<tr><td>SVM</td><td>mod9</td><td>1416.1981</td><td>0.5701585</td></tr>\n",
       "\t<tr><td>SVM</td><td>mod9</td><td>1348.2061</td><td>0.5370777</td></tr>\n",
       "\t<tr><td>SVM</td><td>mod9</td><td> 839.0090</td><td>0.3656615</td></tr>\n",
       "\t<tr><td>SVM</td><td>mod9</td><td> 819.1057</td><td>0.3560870</td></tr>\n",
       "\t<tr><td>SVM</td><td>mod9</td><td>1331.7764</td><td>0.5349431</td></tr>\n",
       "\t<tr><td>SVM</td><td>mod9</td><td>1363.3091</td><td>0.5501621</td></tr>\n",
       "\t<tr><td>SVM</td><td>mod9</td><td> 847.6476</td><td>0.3690756</td></tr>\n",
       "\t<tr><td>SVM</td><td>mod9</td><td> 992.1468</td><td>0.4114083</td></tr>\n",
       "\t<tr><td>SVM</td><td>mod9</td><td> 967.3442</td><td>0.4047897</td></tr>\n",
       "\t<tr><td>SVM</td><td>mod9</td><td> 979.1784</td><td>0.4064975</td></tr>\n",
       "\t<tr><td>SVM</td><td>mod9</td><td> 776.7715</td><td>0.3299428</td></tr>\n",
       "\t<tr><td>SVM</td><td>mod9</td><td> 817.9007</td><td>0.3676422</td></tr>\n",
       "\t<tr><td>SVM</td><td>mod9</td><td> 818.4452</td><td>0.3599150</td></tr>\n",
       "\t<tr><td>SVM</td><td>mod9</td><td> 858.7678</td><td>0.3601506</td></tr>\n",
       "\t<tr><td>SVM</td><td>mod9</td><td> 982.3964</td><td>0.4115198</td></tr>\n",
       "\t<tr><td>SVM</td><td>mod9</td><td> 880.9716</td><td>0.3809129</td></tr>\n",
       "\t<tr><td>SVM</td><td>mod9</td><td> 851.4724</td><td>0.3805766</td></tr>\n",
       "\t<tr><td>SVM</td><td>mod9</td><td> 843.9713</td><td>0.3705419</td></tr>\n",
       "\t<tr><td>SVM</td><td>mod9</td><td> 677.4572</td><td>0.3061112</td></tr>\n",
       "\t<tr><td>SVM</td><td>mod9</td><td> 847.1558</td><td>0.3670317</td></tr>\n",
       "\t<tr><td>SVM</td><td>mod9</td><td> 765.3529</td><td>0.3490022</td></tr>\n",
       "\t<tr><td>SVM</td><td>mod9</td><td> 737.0791</td><td>0.3379840</td></tr>\n",
       "\t<tr><td>SVM</td><td>mod9</td><td> 814.3275</td><td>0.3650974</td></tr>\n",
       "\t<tr><td>SVM</td><td>mod9</td><td>1416.8603</td><td>0.5693061</td></tr>\n",
       "\t<tr><td>SVM</td><td>mod9</td><td>1413.9955</td><td>0.5685664</td></tr>\n",
       "\t<tr><td>SVM</td><td>mod9</td><td>1374.5316</td><td>0.5461829</td></tr>\n",
       "\t<tr><td>...</td><td>...</td><td>...</td><td>...</td></tr>\n",
       "\t<tr><td>SVM</td><td>mod9</td><td>553.0980</td><td>0.2468138</td></tr>\n",
       "\t<tr><td>SVM</td><td>mod9</td><td>549.9266</td><td>0.2609099</td></tr>\n",
       "\t<tr><td>SVM</td><td>mod9</td><td>701.2538</td><td>0.2779965</td></tr>\n",
       "\t<tr><td>SVM</td><td>mod9</td><td>589.6234</td><td>0.2919740</td></tr>\n",
       "\t<tr><td>SVM</td><td>mod9</td><td>539.6862</td><td>0.2685363</td></tr>\n",
       "\t<tr><td>SVM</td><td>mod9</td><td>578.3598</td><td>0.2728900</td></tr>\n",
       "\t<tr><td>SVM</td><td>mod9</td><td>524.2911</td><td>0.2230394</td></tr>\n",
       "\t<tr><td>SVM</td><td>mod9</td><td>534.4173</td><td>0.2212367</td></tr>\n",
       "\t<tr><td>SVM</td><td>mod9</td><td>584.3139</td><td>0.2785630</td></tr>\n",
       "\t<tr><td>SVM</td><td>mod9</td><td>530.8780</td><td>0.2255604</td></tr>\n",
       "\t<tr><td>SVM</td><td>mod9</td><td>612.9194</td><td>0.2707452</td></tr>\n",
       "\t<tr><td>SVM</td><td>mod9</td><td>594.8641</td><td>0.2876070</td></tr>\n",
       "\t<tr><td>SVM</td><td>mod9</td><td>508.8204</td><td>0.2268092</td></tr>\n",
       "\t<tr><td>SVM</td><td>mod9</td><td>558.4355</td><td>0.2635912</td></tr>\n",
       "\t<tr><td>SVM</td><td>mod9</td><td>489.3796</td><td>0.2046203</td></tr>\n",
       "\t<tr><td>SVM</td><td>mod9</td><td>529.2223</td><td>0.2519231</td></tr>\n",
       "\t<tr><td>SVM</td><td>mod9</td><td>524.9507</td><td>0.2279275</td></tr>\n",
       "\t<tr><td>SVM</td><td>mod9</td><td>512.8179</td><td>0.2268484</td></tr>\n",
       "\t<tr><td>SVM</td><td>mod9</td><td>640.6479</td><td>0.2774068</td></tr>\n",
       "\t<tr><td>SVM</td><td>mod9</td><td>593.6618</td><td>0.2509249</td></tr>\n",
       "\t<tr><td>SVM</td><td>mod9</td><td>523.0633</td><td>0.2462728</td></tr>\n",
       "\t<tr><td>SVM</td><td>mod9</td><td>512.7473</td><td>0.2325524</td></tr>\n",
       "\t<tr><td>SVM</td><td>mod9</td><td>514.2769</td><td>0.2247617</td></tr>\n",
       "\t<tr><td>SVM</td><td>mod9</td><td>486.1169</td><td>0.2048870</td></tr>\n",
       "\t<tr><td>SVM</td><td>mod9</td><td>517.7690</td><td>0.2239984</td></tr>\n",
       "\t<tr><td>SVM</td><td>mod9</td><td>511.1347</td><td>0.2271001</td></tr>\n",
       "\t<tr><td>SVM</td><td>mod9</td><td>501.9730</td><td>0.2217886</td></tr>\n",
       "\t<tr><td>SVM</td><td>mod9</td><td>544.5978</td><td>0.2438282</td></tr>\n",
       "\t<tr><td>SVM</td><td>mod9</td><td>522.9442</td><td>0.2453172</td></tr>\n",
       "\t<tr><td>SVM</td><td>mod9</td><td>478.4875</td><td>0.2010297</td></tr>\n",
       "</tbody>\n",
       "</table>\n"
      ],
      "text/latex": [
       "A data.frame: 1023 × 4\n",
       "\\begin{tabular}{llll}\n",
       " Name & Model & RMSE & RMSLE\\\\\n",
       " <chr> & <chr> & <dbl> & <dbl>\\\\\n",
       "\\hline\n",
       "\t SVM & mod9 &  974.9266 & 0.4075944\\\\\n",
       "\t SVM & mod9 &  826.2856 & 0.3662656\\\\\n",
       "\t SVM & mod9 & 1409.7782 & 0.5622616\\\\\n",
       "\t SVM & mod9 & 1417.7276 & 0.5677238\\\\\n",
       "\t SVM & mod9 & 1416.1981 & 0.5701585\\\\\n",
       "\t SVM & mod9 & 1348.2061 & 0.5370777\\\\\n",
       "\t SVM & mod9 &  839.0090 & 0.3656615\\\\\n",
       "\t SVM & mod9 &  819.1057 & 0.3560870\\\\\n",
       "\t SVM & mod9 & 1331.7764 & 0.5349431\\\\\n",
       "\t SVM & mod9 & 1363.3091 & 0.5501621\\\\\n",
       "\t SVM & mod9 &  847.6476 & 0.3690756\\\\\n",
       "\t SVM & mod9 &  992.1468 & 0.4114083\\\\\n",
       "\t SVM & mod9 &  967.3442 & 0.4047897\\\\\n",
       "\t SVM & mod9 &  979.1784 & 0.4064975\\\\\n",
       "\t SVM & mod9 &  776.7715 & 0.3299428\\\\\n",
       "\t SVM & mod9 &  817.9007 & 0.3676422\\\\\n",
       "\t SVM & mod9 &  818.4452 & 0.3599150\\\\\n",
       "\t SVM & mod9 &  858.7678 & 0.3601506\\\\\n",
       "\t SVM & mod9 &  982.3964 & 0.4115198\\\\\n",
       "\t SVM & mod9 &  880.9716 & 0.3809129\\\\\n",
       "\t SVM & mod9 &  851.4724 & 0.3805766\\\\\n",
       "\t SVM & mod9 &  843.9713 & 0.3705419\\\\\n",
       "\t SVM & mod9 &  677.4572 & 0.3061112\\\\\n",
       "\t SVM & mod9 &  847.1558 & 0.3670317\\\\\n",
       "\t SVM & mod9 &  765.3529 & 0.3490022\\\\\n",
       "\t SVM & mod9 &  737.0791 & 0.3379840\\\\\n",
       "\t SVM & mod9 &  814.3275 & 0.3650974\\\\\n",
       "\t SVM & mod9 & 1416.8603 & 0.5693061\\\\\n",
       "\t SVM & mod9 & 1413.9955 & 0.5685664\\\\\n",
       "\t SVM & mod9 & 1374.5316 & 0.5461829\\\\\n",
       "\t ... & ... & ... & ...\\\\\n",
       "\t SVM & mod9 & 553.0980 & 0.2468138\\\\\n",
       "\t SVM & mod9 & 549.9266 & 0.2609099\\\\\n",
       "\t SVM & mod9 & 701.2538 & 0.2779965\\\\\n",
       "\t SVM & mod9 & 589.6234 & 0.2919740\\\\\n",
       "\t SVM & mod9 & 539.6862 & 0.2685363\\\\\n",
       "\t SVM & mod9 & 578.3598 & 0.2728900\\\\\n",
       "\t SVM & mod9 & 524.2911 & 0.2230394\\\\\n",
       "\t SVM & mod9 & 534.4173 & 0.2212367\\\\\n",
       "\t SVM & mod9 & 584.3139 & 0.2785630\\\\\n",
       "\t SVM & mod9 & 530.8780 & 0.2255604\\\\\n",
       "\t SVM & mod9 & 612.9194 & 0.2707452\\\\\n",
       "\t SVM & mod9 & 594.8641 & 0.2876070\\\\\n",
       "\t SVM & mod9 & 508.8204 & 0.2268092\\\\\n",
       "\t SVM & mod9 & 558.4355 & 0.2635912\\\\\n",
       "\t SVM & mod9 & 489.3796 & 0.2046203\\\\\n",
       "\t SVM & mod9 & 529.2223 & 0.2519231\\\\\n",
       "\t SVM & mod9 & 524.9507 & 0.2279275\\\\\n",
       "\t SVM & mod9 & 512.8179 & 0.2268484\\\\\n",
       "\t SVM & mod9 & 640.6479 & 0.2774068\\\\\n",
       "\t SVM & mod9 & 593.6618 & 0.2509249\\\\\n",
       "\t SVM & mod9 & 523.0633 & 0.2462728\\\\\n",
       "\t SVM & mod9 & 512.7473 & 0.2325524\\\\\n",
       "\t SVM & mod9 & 514.2769 & 0.2247617\\\\\n",
       "\t SVM & mod9 & 486.1169 & 0.2048870\\\\\n",
       "\t SVM & mod9 & 517.7690 & 0.2239984\\\\\n",
       "\t SVM & mod9 & 511.1347 & 0.2271001\\\\\n",
       "\t SVM & mod9 & 501.9730 & 0.2217886\\\\\n",
       "\t SVM & mod9 & 544.5978 & 0.2438282\\\\\n",
       "\t SVM & mod9 & 522.9442 & 0.2453172\\\\\n",
       "\t SVM & mod9 & 478.4875 & 0.2010297\\\\\n",
       "\\end{tabular}\n"
      ],
      "text/markdown": [
       "\n",
       "A data.frame: 1023 × 4\n",
       "\n",
       "| Name &lt;chr&gt; | Model &lt;chr&gt; | RMSE &lt;dbl&gt; | RMSLE &lt;dbl&gt; |\n",
       "|---|---|---|---|\n",
       "| SVM | mod9 |  974.9266 | 0.4075944 |\n",
       "| SVM | mod9 |  826.2856 | 0.3662656 |\n",
       "| SVM | mod9 | 1409.7782 | 0.5622616 |\n",
       "| SVM | mod9 | 1417.7276 | 0.5677238 |\n",
       "| SVM | mod9 | 1416.1981 | 0.5701585 |\n",
       "| SVM | mod9 | 1348.2061 | 0.5370777 |\n",
       "| SVM | mod9 |  839.0090 | 0.3656615 |\n",
       "| SVM | mod9 |  819.1057 | 0.3560870 |\n",
       "| SVM | mod9 | 1331.7764 | 0.5349431 |\n",
       "| SVM | mod9 | 1363.3091 | 0.5501621 |\n",
       "| SVM | mod9 |  847.6476 | 0.3690756 |\n",
       "| SVM | mod9 |  992.1468 | 0.4114083 |\n",
       "| SVM | mod9 |  967.3442 | 0.4047897 |\n",
       "| SVM | mod9 |  979.1784 | 0.4064975 |\n",
       "| SVM | mod9 |  776.7715 | 0.3299428 |\n",
       "| SVM | mod9 |  817.9007 | 0.3676422 |\n",
       "| SVM | mod9 |  818.4452 | 0.3599150 |\n",
       "| SVM | mod9 |  858.7678 | 0.3601506 |\n",
       "| SVM | mod9 |  982.3964 | 0.4115198 |\n",
       "| SVM | mod9 |  880.9716 | 0.3809129 |\n",
       "| SVM | mod9 |  851.4724 | 0.3805766 |\n",
       "| SVM | mod9 |  843.9713 | 0.3705419 |\n",
       "| SVM | mod9 |  677.4572 | 0.3061112 |\n",
       "| SVM | mod9 |  847.1558 | 0.3670317 |\n",
       "| SVM | mod9 |  765.3529 | 0.3490022 |\n",
       "| SVM | mod9 |  737.0791 | 0.3379840 |\n",
       "| SVM | mod9 |  814.3275 | 0.3650974 |\n",
       "| SVM | mod9 | 1416.8603 | 0.5693061 |\n",
       "| SVM | mod9 | 1413.9955 | 0.5685664 |\n",
       "| SVM | mod9 | 1374.5316 | 0.5461829 |\n",
       "| ... | ... | ... | ... |\n",
       "| SVM | mod9 | 553.0980 | 0.2468138 |\n",
       "| SVM | mod9 | 549.9266 | 0.2609099 |\n",
       "| SVM | mod9 | 701.2538 | 0.2779965 |\n",
       "| SVM | mod9 | 589.6234 | 0.2919740 |\n",
       "| SVM | mod9 | 539.6862 | 0.2685363 |\n",
       "| SVM | mod9 | 578.3598 | 0.2728900 |\n",
       "| SVM | mod9 | 524.2911 | 0.2230394 |\n",
       "| SVM | mod9 | 534.4173 | 0.2212367 |\n",
       "| SVM | mod9 | 584.3139 | 0.2785630 |\n",
       "| SVM | mod9 | 530.8780 | 0.2255604 |\n",
       "| SVM | mod9 | 612.9194 | 0.2707452 |\n",
       "| SVM | mod9 | 594.8641 | 0.2876070 |\n",
       "| SVM | mod9 | 508.8204 | 0.2268092 |\n",
       "| SVM | mod9 | 558.4355 | 0.2635912 |\n",
       "| SVM | mod9 | 489.3796 | 0.2046203 |\n",
       "| SVM | mod9 | 529.2223 | 0.2519231 |\n",
       "| SVM | mod9 | 524.9507 | 0.2279275 |\n",
       "| SVM | mod9 | 512.8179 | 0.2268484 |\n",
       "| SVM | mod9 | 640.6479 | 0.2774068 |\n",
       "| SVM | mod9 | 593.6618 | 0.2509249 |\n",
       "| SVM | mod9 | 523.0633 | 0.2462728 |\n",
       "| SVM | mod9 | 512.7473 | 0.2325524 |\n",
       "| SVM | mod9 | 514.2769 | 0.2247617 |\n",
       "| SVM | mod9 | 486.1169 | 0.2048870 |\n",
       "| SVM | mod9 | 517.7690 | 0.2239984 |\n",
       "| SVM | mod9 | 511.1347 | 0.2271001 |\n",
       "| SVM | mod9 | 501.9730 | 0.2217886 |\n",
       "| SVM | mod9 | 544.5978 | 0.2438282 |\n",
       "| SVM | mod9 | 522.9442 | 0.2453172 |\n",
       "| SVM | mod9 | 478.4875 | 0.2010297 |\n",
       "\n"
      ],
      "text/plain": [
       "     Name Model RMSE      RMSLE    \n",
       "1    SVM  mod9   974.9266 0.4075944\n",
       "2    SVM  mod9   826.2856 0.3662656\n",
       "3    SVM  mod9  1409.7782 0.5622616\n",
       "4    SVM  mod9  1417.7276 0.5677238\n",
       "5    SVM  mod9  1416.1981 0.5701585\n",
       "6    SVM  mod9  1348.2061 0.5370777\n",
       "7    SVM  mod9   839.0090 0.3656615\n",
       "8    SVM  mod9   819.1057 0.3560870\n",
       "9    SVM  mod9  1331.7764 0.5349431\n",
       "10   SVM  mod9  1363.3091 0.5501621\n",
       "11   SVM  mod9   847.6476 0.3690756\n",
       "12   SVM  mod9   992.1468 0.4114083\n",
       "13   SVM  mod9   967.3442 0.4047897\n",
       "14   SVM  mod9   979.1784 0.4064975\n",
       "15   SVM  mod9   776.7715 0.3299428\n",
       "16   SVM  mod9   817.9007 0.3676422\n",
       "17   SVM  mod9   818.4452 0.3599150\n",
       "18   SVM  mod9   858.7678 0.3601506\n",
       "19   SVM  mod9   982.3964 0.4115198\n",
       "20   SVM  mod9   880.9716 0.3809129\n",
       "21   SVM  mod9   851.4724 0.3805766\n",
       "22   SVM  mod9   843.9713 0.3705419\n",
       "23   SVM  mod9   677.4572 0.3061112\n",
       "24   SVM  mod9   847.1558 0.3670317\n",
       "25   SVM  mod9   765.3529 0.3490022\n",
       "26   SVM  mod9   737.0791 0.3379840\n",
       "27   SVM  mod9   814.3275 0.3650974\n",
       "28   SVM  mod9  1416.8603 0.5693061\n",
       "29   SVM  mod9  1413.9955 0.5685664\n",
       "30   SVM  mod9  1374.5316 0.5461829\n",
       "...  ...  ...   ...       ...      \n",
       "994  SVM  mod9  553.0980  0.2468138\n",
       "995  SVM  mod9  549.9266  0.2609099\n",
       "996  SVM  mod9  701.2538  0.2779965\n",
       "997  SVM  mod9  589.6234  0.2919740\n",
       "998  SVM  mod9  539.6862  0.2685363\n",
       "999  SVM  mod9  578.3598  0.2728900\n",
       "1000 SVM  mod9  524.2911  0.2230394\n",
       "1001 SVM  mod9  534.4173  0.2212367\n",
       "1002 SVM  mod9  584.3139  0.2785630\n",
       "1003 SVM  mod9  530.8780  0.2255604\n",
       "1004 SVM  mod9  612.9194  0.2707452\n",
       "1005 SVM  mod9  594.8641  0.2876070\n",
       "1006 SVM  mod9  508.8204  0.2268092\n",
       "1007 SVM  mod9  558.4355  0.2635912\n",
       "1008 SVM  mod9  489.3796  0.2046203\n",
       "1009 SVM  mod9  529.2223  0.2519231\n",
       "1010 SVM  mod9  524.9507  0.2279275\n",
       "1011 SVM  mod9  512.8179  0.2268484\n",
       "1012 SVM  mod9  640.6479  0.2774068\n",
       "1013 SVM  mod9  593.6618  0.2509249\n",
       "1014 SVM  mod9  523.0633  0.2462728\n",
       "1015 SVM  mod9  512.7473  0.2325524\n",
       "1016 SVM  mod9  514.2769  0.2247617\n",
       "1017 SVM  mod9  486.1169  0.2048870\n",
       "1018 SVM  mod9  517.7690  0.2239984\n",
       "1019 SVM  mod9  511.1347  0.2271001\n",
       "1020 SVM  mod9  501.9730  0.2217886\n",
       "1021 SVM  mod9  544.5978  0.2438282\n",
       "1022 SVM  mod9  522.9442  0.2453172\n",
       "1023 SVM  mod9  478.4875  0.2010297"
      ]
     },
     "metadata": {},
     "output_type": "display_data"
    }
   ],
   "source": [
    "err_res"
   ]
  },
  {
   "cell_type": "code",
   "execution_count": 16,
   "metadata": {},
   "outputs": [
    {
     "data": {
      "text/html": [
       "<table>\n",
       "<caption>A data.frame: 1023 × 5</caption>\n",
       "<thead>\n",
       "\t<tr><th></th><th scope=col>id</th><th scope=col>Name</th><th scope=col>Model</th><th scope=col>RMSE</th><th scope=col>RMSLE</th></tr>\n",
       "\t<tr><th></th><th scope=col>&lt;chr&gt;</th><th scope=col>&lt;chr&gt;</th><th scope=col>&lt;chr&gt;</th><th scope=col>&lt;dbl&gt;</th><th scope=col>&lt;dbl&gt;</th></tr>\n",
       "</thead>\n",
       "<tbody>\n",
       "\t<tr><th scope=row>951</th><td>1</td><td>SVM</td><td>mod9</td><td>515.6608</td><td>0.1991515</td></tr>\n",
       "\t<tr><th scope=row>1023</th><td>1</td><td>SVM</td><td>mod9</td><td>478.4875</td><td>0.2010297</td></tr>\n",
       "\t<tr><th scope=row>1008</th><td>1</td><td>SVM</td><td>mod9</td><td>489.3796</td><td>0.2046203</td></tr>\n",
       "\t<tr><th scope=row>1017</th><td>1</td><td>SVM</td><td>mod9</td><td>486.1169</td><td>0.2048870</td></tr>\n",
       "\t<tr><th scope=row>957</th><td>1</td><td>SVM</td><td>mod9</td><td>501.0341</td><td>0.2083758</td></tr>\n",
       "\t<tr><th scope=row>912</th><td>1</td><td>SVM</td><td>mod9</td><td>506.1716</td><td>0.2112880</td></tr>\n",
       "\t<tr><th scope=row>727</th><td>1</td><td>SVM</td><td>mod9</td><td>516.5622</td><td>0.2116338</td></tr>\n",
       "\t<tr><th scope=row>977</th><td>1</td><td>SVM</td><td>mod9</td><td>497.1339</td><td>0.2121859</td></tr>\n",
       "\t<tr><th scope=row>993</th><td>1</td><td>SVM</td><td>mod9</td><td>509.1496</td><td>0.2148992</td></tr>\n",
       "\t<tr><th scope=row>726</th><td>1</td><td>SVM</td><td>mod9</td><td>519.6504</td><td>0.2150750</td></tr>\n",
       "\t<tr><th scope=row>946</th><td>1</td><td>SVM</td><td>mod9</td><td>509.5403</td><td>0.2155789</td></tr>\n",
       "\t<tr><th scope=row>495</th><td>1</td><td>SVM</td><td>mod9</td><td>562.2485</td><td>0.2179470</td></tr>\n",
       "\t<tr><th scope=row>792</th><td>1</td><td>SVM</td><td>mod9</td><td>526.0462</td><td>0.2191339</td></tr>\n",
       "\t<tr><th scope=row>929</th><td>1</td><td>SVM</td><td>mod9</td><td>522.6096</td><td>0.2198141</td></tr>\n",
       "\t<tr><th scope=row>496</th><td>1</td><td>SVM</td><td>mod9</td><td>555.7213</td><td>0.2208456</td></tr>\n",
       "\t<tr><th scope=row>1001</th><td>1</td><td>SVM</td><td>mod9</td><td>534.4173</td><td>0.2212367</td></tr>\n",
       "\t<tr><th scope=row>1020</th><td>1</td><td>SVM</td><td>mod9</td><td>501.9730</td><td>0.2217886</td></tr>\n",
       "\t<tr><th scope=row>783</th><td>1</td><td>SVM</td><td>mod9</td><td>510.7312</td><td>0.2222290</td></tr>\n",
       "\t<tr><th scope=row>691</th><td>1</td><td>SVM</td><td>mod9</td><td>527.3644</td><td>0.2224860</td></tr>\n",
       "\t<tr><th scope=row>1000</th><td>1</td><td>SVM</td><td>mod9</td><td>524.2911</td><td>0.2230394</td></tr>\n",
       "\t<tr><th scope=row>918</th><td>1</td><td>SVM</td><td>mod9</td><td>519.0146</td><td>0.2231106</td></tr>\n",
       "\t<tr><th scope=row>793</th><td>1</td><td>SVM</td><td>mod9</td><td>533.2544</td><td>0.2232908</td></tr>\n",
       "\t<tr><th scope=row>1018</th><td>1</td><td>SVM</td><td>mod9</td><td>517.7690</td><td>0.2239984</td></tr>\n",
       "\t<tr><th scope=row>752</th><td>1</td><td>SVM</td><td>mod9</td><td>532.8266</td><td>0.2243216</td></tr>\n",
       "\t<tr><th scope=row>1016</th><td>1</td><td>SVM</td><td>mod9</td><td>514.2769</td><td>0.2247617</td></tr>\n",
       "\t<tr><th scope=row>807</th><td>1</td><td>SVM</td><td>mod9</td><td>521.7248</td><td>0.2247864</td></tr>\n",
       "\t<tr><th scope=row>1003</th><td>1</td><td>SVM</td><td>mod9</td><td>530.8780</td><td>0.2255604</td></tr>\n",
       "\t<tr><th scope=row>992</th><td>1</td><td>SVM</td><td>mod9</td><td>520.6089</td><td>0.2262202</td></tr>\n",
       "\t<tr><th scope=row>1006</th><td>1</td><td>SVM</td><td>mod9</td><td>508.8204</td><td>0.2268092</td></tr>\n",
       "\t<tr><th scope=row>1011</th><td>1</td><td>SVM</td><td>mod9</td><td>512.8179</td><td>0.2268484</td></tr>\n",
       "\t<tr><th scope=row>...</th><td>...</td><td>...</td><td>...</td><td>...</td><td>...</td></tr>\n",
       "\t<tr><th scope=row>6</th><td>1</td><td>SVM</td><td>mod9</td><td>1348.2061</td><td>0.5370777</td></tr>\n",
       "\t<tr><th scope=row>44</th><td>1</td><td>SVM</td><td>mod9</td><td>1336.3397</td><td>0.5376494</td></tr>\n",
       "\t<tr><th scope=row>124</th><td>1</td><td>SVM</td><td>mod9</td><td>1345.0621</td><td>0.5385784</td></tr>\n",
       "\t<tr><th scope=row>320</th><td>1</td><td>SVM</td><td>mod9</td><td>1344.9707</td><td>0.5389817</td></tr>\n",
       "\t<tr><th scope=row>145</th><td>1</td><td>SVM</td><td>mod9</td><td>1349.6330</td><td>0.5396602</td></tr>\n",
       "\t<tr><th scope=row>39</th><td>1</td><td>SVM</td><td>mod9</td><td>1352.7765</td><td>0.5396707</td></tr>\n",
       "\t<tr><th scope=row>33</th><td>1</td><td>SVM</td><td>mod9</td><td>1333.1825</td><td>0.5409417</td></tr>\n",
       "\t<tr><th scope=row>121</th><td>1</td><td>SVM</td><td>mod9</td><td>1376.0053</td><td>0.5417676</td></tr>\n",
       "\t<tr><th scope=row>144</th><td>1</td><td>SVM</td><td>mod9</td><td>1354.4596</td><td>0.5418073</td></tr>\n",
       "\t<tr><th scope=row>319</th><td>1</td><td>SVM</td><td>mod9</td><td>1350.5547</td><td>0.5421066</td></tr>\n",
       "\t<tr><th scope=row>34</th><td>1</td><td>SVM</td><td>mod9</td><td>1351.0915</td><td>0.5425157</td></tr>\n",
       "\t<tr><th scope=row>141</th><td>1</td><td>SVM</td><td>mod9</td><td>1368.2893</td><td>0.5429420</td></tr>\n",
       "\t<tr><th scope=row>129</th><td>1</td><td>SVM</td><td>mod9</td><td>1351.4196</td><td>0.5461708</td></tr>\n",
       "\t<tr><th scope=row>30</th><td>1</td><td>SVM</td><td>mod9</td><td>1374.5316</td><td>0.5461829</td></tr>\n",
       "\t<tr><th scope=row>40</th><td>1</td><td>SVM</td><td>mod9</td><td>1358.9132</td><td>0.5469290</td></tr>\n",
       "\t<tr><th scope=row>41</th><td>1</td><td>SVM</td><td>mod9</td><td>1362.0726</td><td>0.5475499</td></tr>\n",
       "\t<tr><th scope=row>126</th><td>1</td><td>SVM</td><td>mod9</td><td>1359.9737</td><td>0.5481641</td></tr>\n",
       "\t<tr><th scope=row>36</th><td>1</td><td>SVM</td><td>mod9</td><td>1374.8086</td><td>0.5483558</td></tr>\n",
       "\t<tr><th scope=row>316</th><td>1</td><td>SVM</td><td>mod9</td><td>1374.6337</td><td>0.5497835</td></tr>\n",
       "\t<tr><th scope=row>10</th><td>1</td><td>SVM</td><td>mod9</td><td>1363.3091</td><td>0.5501621</td></tr>\n",
       "\t<tr><th scope=row>125</th><td>1</td><td>SVM</td><td>mod9</td><td>1362.6425</td><td>0.5501738</td></tr>\n",
       "\t<tr><th scope=row>828</th><td>1</td><td>SVM</td><td>mod9</td><td> 635.6069</td><td>0.5610998</td></tr>\n",
       "\t<tr><th scope=row>3</th><td>1</td><td>SVM</td><td>mod9</td><td>1409.7782</td><td>0.5622616</td></tr>\n",
       "\t<tr><th scope=row>4</th><td>1</td><td>SVM</td><td>mod9</td><td>1417.7276</td><td>0.5677238</td></tr>\n",
       "\t<tr><th scope=row>120</th><td>1</td><td>SVM</td><td>mod9</td><td>1415.2628</td><td>0.5680201</td></tr>\n",
       "\t<tr><th scope=row>29</th><td>1</td><td>SVM</td><td>mod9</td><td>1413.9955</td><td>0.5685664</td></tr>\n",
       "\t<tr><th scope=row>28</th><td>1</td><td>SVM</td><td>mod9</td><td>1416.8603</td><td>0.5693061</td></tr>\n",
       "\t<tr><th scope=row>5</th><td>1</td><td>SVM</td><td>mod9</td><td>1416.1981</td><td>0.5701585</td></tr>\n",
       "\t<tr><th scope=row>35</th><td>1</td><td>SVM</td><td>mod9</td><td>1419.4368</td><td>0.5706064</td></tr>\n",
       "\t<tr><th scope=row>375</th><td>1</td><td>SVM</td><td>mod9</td><td> 676.8106</td><td>0.7061036</td></tr>\n",
       "</tbody>\n",
       "</table>\n"
      ],
      "text/latex": [
       "A data.frame: 1023 × 5\n",
       "\\begin{tabular}{r|lllll}\n",
       "  & id & Name & Model & RMSE & RMSLE\\\\\n",
       "  & <chr> & <chr> & <chr> & <dbl> & <dbl>\\\\\n",
       "\\hline\n",
       "\t951 & 1 & SVM & mod9 & 515.6608 & 0.1991515\\\\\n",
       "\t1023 & 1 & SVM & mod9 & 478.4875 & 0.2010297\\\\\n",
       "\t1008 & 1 & SVM & mod9 & 489.3796 & 0.2046203\\\\\n",
       "\t1017 & 1 & SVM & mod9 & 486.1169 & 0.2048870\\\\\n",
       "\t957 & 1 & SVM & mod9 & 501.0341 & 0.2083758\\\\\n",
       "\t912 & 1 & SVM & mod9 & 506.1716 & 0.2112880\\\\\n",
       "\t727 & 1 & SVM & mod9 & 516.5622 & 0.2116338\\\\\n",
       "\t977 & 1 & SVM & mod9 & 497.1339 & 0.2121859\\\\\n",
       "\t993 & 1 & SVM & mod9 & 509.1496 & 0.2148992\\\\\n",
       "\t726 & 1 & SVM & mod9 & 519.6504 & 0.2150750\\\\\n",
       "\t946 & 1 & SVM & mod9 & 509.5403 & 0.2155789\\\\\n",
       "\t495 & 1 & SVM & mod9 & 562.2485 & 0.2179470\\\\\n",
       "\t792 & 1 & SVM & mod9 & 526.0462 & 0.2191339\\\\\n",
       "\t929 & 1 & SVM & mod9 & 522.6096 & 0.2198141\\\\\n",
       "\t496 & 1 & SVM & mod9 & 555.7213 & 0.2208456\\\\\n",
       "\t1001 & 1 & SVM & mod9 & 534.4173 & 0.2212367\\\\\n",
       "\t1020 & 1 & SVM & mod9 & 501.9730 & 0.2217886\\\\\n",
       "\t783 & 1 & SVM & mod9 & 510.7312 & 0.2222290\\\\\n",
       "\t691 & 1 & SVM & mod9 & 527.3644 & 0.2224860\\\\\n",
       "\t1000 & 1 & SVM & mod9 & 524.2911 & 0.2230394\\\\\n",
       "\t918 & 1 & SVM & mod9 & 519.0146 & 0.2231106\\\\\n",
       "\t793 & 1 & SVM & mod9 & 533.2544 & 0.2232908\\\\\n",
       "\t1018 & 1 & SVM & mod9 & 517.7690 & 0.2239984\\\\\n",
       "\t752 & 1 & SVM & mod9 & 532.8266 & 0.2243216\\\\\n",
       "\t1016 & 1 & SVM & mod9 & 514.2769 & 0.2247617\\\\\n",
       "\t807 & 1 & SVM & mod9 & 521.7248 & 0.2247864\\\\\n",
       "\t1003 & 1 & SVM & mod9 & 530.8780 & 0.2255604\\\\\n",
       "\t992 & 1 & SVM & mod9 & 520.6089 & 0.2262202\\\\\n",
       "\t1006 & 1 & SVM & mod9 & 508.8204 & 0.2268092\\\\\n",
       "\t1011 & 1 & SVM & mod9 & 512.8179 & 0.2268484\\\\\n",
       "\t... & ... & ... & ... & ... & ...\\\\\n",
       "\t6 & 1 & SVM & mod9 & 1348.2061 & 0.5370777\\\\\n",
       "\t44 & 1 & SVM & mod9 & 1336.3397 & 0.5376494\\\\\n",
       "\t124 & 1 & SVM & mod9 & 1345.0621 & 0.5385784\\\\\n",
       "\t320 & 1 & SVM & mod9 & 1344.9707 & 0.5389817\\\\\n",
       "\t145 & 1 & SVM & mod9 & 1349.6330 & 0.5396602\\\\\n",
       "\t39 & 1 & SVM & mod9 & 1352.7765 & 0.5396707\\\\\n",
       "\t33 & 1 & SVM & mod9 & 1333.1825 & 0.5409417\\\\\n",
       "\t121 & 1 & SVM & mod9 & 1376.0053 & 0.5417676\\\\\n",
       "\t144 & 1 & SVM & mod9 & 1354.4596 & 0.5418073\\\\\n",
       "\t319 & 1 & SVM & mod9 & 1350.5547 & 0.5421066\\\\\n",
       "\t34 & 1 & SVM & mod9 & 1351.0915 & 0.5425157\\\\\n",
       "\t141 & 1 & SVM & mod9 & 1368.2893 & 0.5429420\\\\\n",
       "\t129 & 1 & SVM & mod9 & 1351.4196 & 0.5461708\\\\\n",
       "\t30 & 1 & SVM & mod9 & 1374.5316 & 0.5461829\\\\\n",
       "\t40 & 1 & SVM & mod9 & 1358.9132 & 0.5469290\\\\\n",
       "\t41 & 1 & SVM & mod9 & 1362.0726 & 0.5475499\\\\\n",
       "\t126 & 1 & SVM & mod9 & 1359.9737 & 0.5481641\\\\\n",
       "\t36 & 1 & SVM & mod9 & 1374.8086 & 0.5483558\\\\\n",
       "\t316 & 1 & SVM & mod9 & 1374.6337 & 0.5497835\\\\\n",
       "\t10 & 1 & SVM & mod9 & 1363.3091 & 0.5501621\\\\\n",
       "\t125 & 1 & SVM & mod9 & 1362.6425 & 0.5501738\\\\\n",
       "\t828 & 1 & SVM & mod9 &  635.6069 & 0.5610998\\\\\n",
       "\t3 & 1 & SVM & mod9 & 1409.7782 & 0.5622616\\\\\n",
       "\t4 & 1 & SVM & mod9 & 1417.7276 & 0.5677238\\\\\n",
       "\t120 & 1 & SVM & mod9 & 1415.2628 & 0.5680201\\\\\n",
       "\t29 & 1 & SVM & mod9 & 1413.9955 & 0.5685664\\\\\n",
       "\t28 & 1 & SVM & mod9 & 1416.8603 & 0.5693061\\\\\n",
       "\t5 & 1 & SVM & mod9 & 1416.1981 & 0.5701585\\\\\n",
       "\t35 & 1 & SVM & mod9 & 1419.4368 & 0.5706064\\\\\n",
       "\t375 & 1 & SVM & mod9 &  676.8106 & 0.7061036\\\\\n",
       "\\end{tabular}\n"
      ],
      "text/markdown": [
       "\n",
       "A data.frame: 1023 × 5\n",
       "\n",
       "| <!--/--> | id &lt;chr&gt; | Name &lt;chr&gt; | Model &lt;chr&gt; | RMSE &lt;dbl&gt; | RMSLE &lt;dbl&gt; |\n",
       "|---|---|---|---|---|---|\n",
       "| 951 | 1 | SVM | mod9 | 515.6608 | 0.1991515 |\n",
       "| 1023 | 1 | SVM | mod9 | 478.4875 | 0.2010297 |\n",
       "| 1008 | 1 | SVM | mod9 | 489.3796 | 0.2046203 |\n",
       "| 1017 | 1 | SVM | mod9 | 486.1169 | 0.2048870 |\n",
       "| 957 | 1 | SVM | mod9 | 501.0341 | 0.2083758 |\n",
       "| 912 | 1 | SVM | mod9 | 506.1716 | 0.2112880 |\n",
       "| 727 | 1 | SVM | mod9 | 516.5622 | 0.2116338 |\n",
       "| 977 | 1 | SVM | mod9 | 497.1339 | 0.2121859 |\n",
       "| 993 | 1 | SVM | mod9 | 509.1496 | 0.2148992 |\n",
       "| 726 | 1 | SVM | mod9 | 519.6504 | 0.2150750 |\n",
       "| 946 | 1 | SVM | mod9 | 509.5403 | 0.2155789 |\n",
       "| 495 | 1 | SVM | mod9 | 562.2485 | 0.2179470 |\n",
       "| 792 | 1 | SVM | mod9 | 526.0462 | 0.2191339 |\n",
       "| 929 | 1 | SVM | mod9 | 522.6096 | 0.2198141 |\n",
       "| 496 | 1 | SVM | mod9 | 555.7213 | 0.2208456 |\n",
       "| 1001 | 1 | SVM | mod9 | 534.4173 | 0.2212367 |\n",
       "| 1020 | 1 | SVM | mod9 | 501.9730 | 0.2217886 |\n",
       "| 783 | 1 | SVM | mod9 | 510.7312 | 0.2222290 |\n",
       "| 691 | 1 | SVM | mod9 | 527.3644 | 0.2224860 |\n",
       "| 1000 | 1 | SVM | mod9 | 524.2911 | 0.2230394 |\n",
       "| 918 | 1 | SVM | mod9 | 519.0146 | 0.2231106 |\n",
       "| 793 | 1 | SVM | mod9 | 533.2544 | 0.2232908 |\n",
       "| 1018 | 1 | SVM | mod9 | 517.7690 | 0.2239984 |\n",
       "| 752 | 1 | SVM | mod9 | 532.8266 | 0.2243216 |\n",
       "| 1016 | 1 | SVM | mod9 | 514.2769 | 0.2247617 |\n",
       "| 807 | 1 | SVM | mod9 | 521.7248 | 0.2247864 |\n",
       "| 1003 | 1 | SVM | mod9 | 530.8780 | 0.2255604 |\n",
       "| 992 | 1 | SVM | mod9 | 520.6089 | 0.2262202 |\n",
       "| 1006 | 1 | SVM | mod9 | 508.8204 | 0.2268092 |\n",
       "| 1011 | 1 | SVM | mod9 | 512.8179 | 0.2268484 |\n",
       "| ... | ... | ... | ... | ... | ... |\n",
       "| 6 | 1 | SVM | mod9 | 1348.2061 | 0.5370777 |\n",
       "| 44 | 1 | SVM | mod9 | 1336.3397 | 0.5376494 |\n",
       "| 124 | 1 | SVM | mod9 | 1345.0621 | 0.5385784 |\n",
       "| 320 | 1 | SVM | mod9 | 1344.9707 | 0.5389817 |\n",
       "| 145 | 1 | SVM | mod9 | 1349.6330 | 0.5396602 |\n",
       "| 39 | 1 | SVM | mod9 | 1352.7765 | 0.5396707 |\n",
       "| 33 | 1 | SVM | mod9 | 1333.1825 | 0.5409417 |\n",
       "| 121 | 1 | SVM | mod9 | 1376.0053 | 0.5417676 |\n",
       "| 144 | 1 | SVM | mod9 | 1354.4596 | 0.5418073 |\n",
       "| 319 | 1 | SVM | mod9 | 1350.5547 | 0.5421066 |\n",
       "| 34 | 1 | SVM | mod9 | 1351.0915 | 0.5425157 |\n",
       "| 141 | 1 | SVM | mod9 | 1368.2893 | 0.5429420 |\n",
       "| 129 | 1 | SVM | mod9 | 1351.4196 | 0.5461708 |\n",
       "| 30 | 1 | SVM | mod9 | 1374.5316 | 0.5461829 |\n",
       "| 40 | 1 | SVM | mod9 | 1358.9132 | 0.5469290 |\n",
       "| 41 | 1 | SVM | mod9 | 1362.0726 | 0.5475499 |\n",
       "| 126 | 1 | SVM | mod9 | 1359.9737 | 0.5481641 |\n",
       "| 36 | 1 | SVM | mod9 | 1374.8086 | 0.5483558 |\n",
       "| 316 | 1 | SVM | mod9 | 1374.6337 | 0.5497835 |\n",
       "| 10 | 1 | SVM | mod9 | 1363.3091 | 0.5501621 |\n",
       "| 125 | 1 | SVM | mod9 | 1362.6425 | 0.5501738 |\n",
       "| 828 | 1 | SVM | mod9 |  635.6069 | 0.5610998 |\n",
       "| 3 | 1 | SVM | mod9 | 1409.7782 | 0.5622616 |\n",
       "| 4 | 1 | SVM | mod9 | 1417.7276 | 0.5677238 |\n",
       "| 120 | 1 | SVM | mod9 | 1415.2628 | 0.5680201 |\n",
       "| 29 | 1 | SVM | mod9 | 1413.9955 | 0.5685664 |\n",
       "| 28 | 1 | SVM | mod9 | 1416.8603 | 0.5693061 |\n",
       "| 5 | 1 | SVM | mod9 | 1416.1981 | 0.5701585 |\n",
       "| 35 | 1 | SVM | mod9 | 1419.4368 | 0.5706064 |\n",
       "| 375 | 1 | SVM | mod9 |  676.8106 | 0.7061036 |\n",
       "\n"
      ],
      "text/plain": [
       "     id  Name Model RMSE      RMSLE    \n",
       "951  1   SVM  mod9  515.6608  0.1991515\n",
       "1023 1   SVM  mod9  478.4875  0.2010297\n",
       "1008 1   SVM  mod9  489.3796  0.2046203\n",
       "1017 1   SVM  mod9  486.1169  0.2048870\n",
       "957  1   SVM  mod9  501.0341  0.2083758\n",
       "912  1   SVM  mod9  506.1716  0.2112880\n",
       "727  1   SVM  mod9  516.5622  0.2116338\n",
       "977  1   SVM  mod9  497.1339  0.2121859\n",
       "993  1   SVM  mod9  509.1496  0.2148992\n",
       "726  1   SVM  mod9  519.6504  0.2150750\n",
       "946  1   SVM  mod9  509.5403  0.2155789\n",
       "495  1   SVM  mod9  562.2485  0.2179470\n",
       "792  1   SVM  mod9  526.0462  0.2191339\n",
       "929  1   SVM  mod9  522.6096  0.2198141\n",
       "496  1   SVM  mod9  555.7213  0.2208456\n",
       "1001 1   SVM  mod9  534.4173  0.2212367\n",
       "1020 1   SVM  mod9  501.9730  0.2217886\n",
       "783  1   SVM  mod9  510.7312  0.2222290\n",
       "691  1   SVM  mod9  527.3644  0.2224860\n",
       "1000 1   SVM  mod9  524.2911  0.2230394\n",
       "918  1   SVM  mod9  519.0146  0.2231106\n",
       "793  1   SVM  mod9  533.2544  0.2232908\n",
       "1018 1   SVM  mod9  517.7690  0.2239984\n",
       "752  1   SVM  mod9  532.8266  0.2243216\n",
       "1016 1   SVM  mod9  514.2769  0.2247617\n",
       "807  1   SVM  mod9  521.7248  0.2247864\n",
       "1003 1   SVM  mod9  530.8780  0.2255604\n",
       "992  1   SVM  mod9  520.6089  0.2262202\n",
       "1006 1   SVM  mod9  508.8204  0.2268092\n",
       "1011 1   SVM  mod9  512.8179  0.2268484\n",
       "...  ... ...  ...   ...       ...      \n",
       "6    1   SVM  mod9  1348.2061 0.5370777\n",
       "44   1   SVM  mod9  1336.3397 0.5376494\n",
       "124  1   SVM  mod9  1345.0621 0.5385784\n",
       "320  1   SVM  mod9  1344.9707 0.5389817\n",
       "145  1   SVM  mod9  1349.6330 0.5396602\n",
       "39   1   SVM  mod9  1352.7765 0.5396707\n",
       "33   1   SVM  mod9  1333.1825 0.5409417\n",
       "121  1   SVM  mod9  1376.0053 0.5417676\n",
       "144  1   SVM  mod9  1354.4596 0.5418073\n",
       "319  1   SVM  mod9  1350.5547 0.5421066\n",
       "34   1   SVM  mod9  1351.0915 0.5425157\n",
       "141  1   SVM  mod9  1368.2893 0.5429420\n",
       "129  1   SVM  mod9  1351.4196 0.5461708\n",
       "30   1   SVM  mod9  1374.5316 0.5461829\n",
       "40   1   SVM  mod9  1358.9132 0.5469290\n",
       "41   1   SVM  mod9  1362.0726 0.5475499\n",
       "126  1   SVM  mod9  1359.9737 0.5481641\n",
       "36   1   SVM  mod9  1374.8086 0.5483558\n",
       "316  1   SVM  mod9  1374.6337 0.5497835\n",
       "10   1   SVM  mod9  1363.3091 0.5501621\n",
       "125  1   SVM  mod9  1362.6425 0.5501738\n",
       "828  1   SVM  mod9   635.6069 0.5610998\n",
       "3    1   SVM  mod9  1409.7782 0.5622616\n",
       "4    1   SVM  mod9  1417.7276 0.5677238\n",
       "120  1   SVM  mod9  1415.2628 0.5680201\n",
       "29   1   SVM  mod9  1413.9955 0.5685664\n",
       "28   1   SVM  mod9  1416.8603 0.5693061\n",
       "5    1   SVM  mod9  1416.1981 0.5701585\n",
       "35   1   SVM  mod9  1419.4368 0.5706064\n",
       "375  1   SVM  mod9   676.8106 0.7061036"
      ]
     },
     "metadata": {},
     "output_type": "display_data"
    }
   ],
   "source": [
    "\n",
    "err_res_df <- bind_rows(err_res, .id = \"id\")\n",
    "err_res_df[order(err_res_df$RMSLE),]"
   ]
  },
  {
   "cell_type": "code",
   "execution_count": 17,
   "metadata": {},
   "outputs": [],
   "source": [
    "best_comb <- variables_comb[951]"
   ]
  },
  {
   "cell_type": "code",
   "execution_count": 18,
   "metadata": {},
   "outputs": [
    {
     "name": "stdout",
     "output_type": "stream",
     "text": [
      "cnt ~ mnth + holiday + workingday + temp + atemp + hum + windspeed\n"
     ]
    }
   ],
   "source": [
    "# specifications of how to model,\n",
    "# coming from somewhere else\n",
    "outcome <- \"cnt\"\n",
    "variables <- c(\"season\",\"mnth\",\"holiday\",\"weekday\",\"workingday\",\"weathersit\",\"temp\",\"atemp\",\"hum\",\"windspeed\")\n",
    "best_comb <- unlist(best_comb)\n",
    "\n",
    "f <- as.formula(\n",
    "  paste(outcome, \n",
    "        paste(best_comb, collapse = \" + \"), \n",
    "        sep = \" ~ \"))\n",
    "print(f)\n"
   ]
  },
  {
   "cell_type": "code",
   "execution_count": 19,
   "metadata": {},
   "outputs": [
    {
     "data": {
      "text/plain": [
       "SVM model on 7 features (cookie=1024)\n",
       " Scenario: LS\n",
       " Formula:  cnt ~ mnth + holiday + workingday + temp + atemp + hum + windspeed\n",
       "  trained and selected on a 10x10 grid"
      ]
     },
     "metadata": {},
     "output_type": "display_data"
    }
   ],
   "source": [
    "mod9 <- svm(f, train)\n",
    "mod9"
   ]
  },
  {
   "cell_type": "code",
   "execution_count": 20,
   "metadata": {},
   "outputs": [
    {
     "data": {
      "text/html": [
       "547.243433069963"
      ],
      "text/latex": [
       "547.243433069963"
      ],
      "text/markdown": [
       "547.243433069963"
      ],
      "text/plain": [
       "[1] 547.2434"
      ]
     },
     "metadata": {},
     "output_type": "display_data"
    },
    {
     "data": {
      "text/html": [
       "0.247191256059934"
      ],
      "text/latex": [
       "0.247191256059934"
      ],
      "text/markdown": [
       "0.247191256059934"
      ],
      "text/plain": [
       "[1] 0.2471913"
      ]
     },
     "metadata": {},
     "output_type": "display_data"
    }
   ],
   "source": [
    "pred9 <- predict(mod9,newdata=test)\n",
    "\n",
    "rmse(test$cnt,pred9)\n",
    "rmsle(test$cnt,pred9)\n"
   ]
  },
  {
   "cell_type": "code",
   "execution_count": 21,
   "metadata": {},
   "outputs": [
    {
     "data": {
      "text/html": [
       "<table>\n",
       "<caption>A data.frame: 6 × 11</caption>\n",
       "<thead>\n",
       "\t<tr><th></th><th scope=col>id</th><th scope=col>season</th><th scope=col>mnth</th><th scope=col>holiday</th><th scope=col>weekday</th><th scope=col>workingday</th><th scope=col>weathersit</th><th scope=col>temp</th><th scope=col>atemp</th><th scope=col>hum</th><th scope=col>windspeed</th></tr>\n",
       "\t<tr><th></th><th scope=col>&lt;int&gt;</th><th scope=col>&lt;int&gt;</th><th scope=col>&lt;int&gt;</th><th scope=col>&lt;int&gt;</th><th scope=col>&lt;int&gt;</th><th scope=col>&lt;int&gt;</th><th scope=col>&lt;int&gt;</th><th scope=col>&lt;dbl&gt;</th><th scope=col>&lt;dbl&gt;</th><th scope=col>&lt;dbl&gt;</th><th scope=col>&lt;dbl&gt;</th></tr>\n",
       "</thead>\n",
       "<tbody>\n",
       "\t<tr><th scope=row>1</th><td>366</td><td>1</td><td>1</td><td>0</td><td>0</td><td>0</td><td>1</td><td>0.370000</td><td>0.375621</td><td>0.692500</td><td>0.192167</td></tr>\n",
       "\t<tr><th scope=row>2</th><td>367</td><td>1</td><td>1</td><td>1</td><td>1</td><td>0</td><td>1</td><td>0.273043</td><td>0.252304</td><td>0.381304</td><td>0.329665</td></tr>\n",
       "\t<tr><th scope=row>3</th><td>368</td><td>1</td><td>1</td><td>0</td><td>2</td><td>1</td><td>1</td><td>0.150000</td><td>0.126275</td><td>0.441250</td><td>0.365671</td></tr>\n",
       "\t<tr><th scope=row>4</th><td>369</td><td>1</td><td>1</td><td>0</td><td>3</td><td>1</td><td>2</td><td>0.107500</td><td>0.119337</td><td>0.414583</td><td>0.184700</td></tr>\n",
       "\t<tr><th scope=row>5</th><td>370</td><td>1</td><td>1</td><td>0</td><td>4</td><td>1</td><td>1</td><td>0.265833</td><td>0.278412</td><td>0.524167</td><td>0.129987</td></tr>\n",
       "\t<tr><th scope=row>6</th><td>371</td><td>1</td><td>1</td><td>0</td><td>5</td><td>1</td><td>1</td><td>0.334167</td><td>0.340267</td><td>0.542083</td><td>0.167908</td></tr>\n",
       "</tbody>\n",
       "</table>\n"
      ],
      "text/latex": [
       "A data.frame: 6 × 11\n",
       "\\begin{tabular}{r|lllllllllll}\n",
       "  & id & season & mnth & holiday & weekday & workingday & weathersit & temp & atemp & hum & windspeed\\\\\n",
       "  & <int> & <int> & <int> & <int> & <int> & <int> & <int> & <dbl> & <dbl> & <dbl> & <dbl>\\\\\n",
       "\\hline\n",
       "\t1 & 366 & 1 & 1 & 0 & 0 & 0 & 1 & 0.370000 & 0.375621 & 0.692500 & 0.192167\\\\\n",
       "\t2 & 367 & 1 & 1 & 1 & 1 & 0 & 1 & 0.273043 & 0.252304 & 0.381304 & 0.329665\\\\\n",
       "\t3 & 368 & 1 & 1 & 0 & 2 & 1 & 1 & 0.150000 & 0.126275 & 0.441250 & 0.365671\\\\\n",
       "\t4 & 369 & 1 & 1 & 0 & 3 & 1 & 2 & 0.107500 & 0.119337 & 0.414583 & 0.184700\\\\\n",
       "\t5 & 370 & 1 & 1 & 0 & 4 & 1 & 1 & 0.265833 & 0.278412 & 0.524167 & 0.129987\\\\\n",
       "\t6 & 371 & 1 & 1 & 0 & 5 & 1 & 1 & 0.334167 & 0.340267 & 0.542083 & 0.167908\\\\\n",
       "\\end{tabular}\n"
      ],
      "text/markdown": [
       "\n",
       "A data.frame: 6 × 11\n",
       "\n",
       "| <!--/--> | id &lt;int&gt; | season &lt;int&gt; | mnth &lt;int&gt; | holiday &lt;int&gt; | weekday &lt;int&gt; | workingday &lt;int&gt; | weathersit &lt;int&gt; | temp &lt;dbl&gt; | atemp &lt;dbl&gt; | hum &lt;dbl&gt; | windspeed &lt;dbl&gt; |\n",
       "|---|---|---|---|---|---|---|---|---|---|---|---|\n",
       "| 1 | 366 | 1 | 1 | 0 | 0 | 0 | 1 | 0.370000 | 0.375621 | 0.692500 | 0.192167 |\n",
       "| 2 | 367 | 1 | 1 | 1 | 1 | 0 | 1 | 0.273043 | 0.252304 | 0.381304 | 0.329665 |\n",
       "| 3 | 368 | 1 | 1 | 0 | 2 | 1 | 1 | 0.150000 | 0.126275 | 0.441250 | 0.365671 |\n",
       "| 4 | 369 | 1 | 1 | 0 | 3 | 1 | 2 | 0.107500 | 0.119337 | 0.414583 | 0.184700 |\n",
       "| 5 | 370 | 1 | 1 | 0 | 4 | 1 | 1 | 0.265833 | 0.278412 | 0.524167 | 0.129987 |\n",
       "| 6 | 371 | 1 | 1 | 0 | 5 | 1 | 1 | 0.334167 | 0.340267 | 0.542083 | 0.167908 |\n",
       "\n"
      ],
      "text/plain": [
       "  id  season mnth holiday weekday workingday weathersit temp     atemp   \n",
       "1 366 1      1    0       0       0          1          0.370000 0.375621\n",
       "2 367 1      1    1       1       0          1          0.273043 0.252304\n",
       "3 368 1      1    0       2       1          1          0.150000 0.126275\n",
       "4 369 1      1    0       3       1          2          0.107500 0.119337\n",
       "5 370 1      1    0       4       1          1          0.265833 0.278412\n",
       "6 371 1      1    0       5       1          1          0.334167 0.340267\n",
       "  hum      windspeed\n",
       "1 0.692500 0.192167 \n",
       "2 0.381304 0.329665 \n",
       "3 0.441250 0.365671 \n",
       "4 0.414583 0.184700 \n",
       "5 0.524167 0.129987 \n",
       "6 0.542083 0.167908 "
      ]
     },
     "metadata": {},
     "output_type": "display_data"
    },
    {
     "data": {
      "text/html": [
       "<style>\n",
       ".list-inline {list-style: none; margin:0; padding: 0}\n",
       ".list-inline>li {display: inline-block}\n",
       ".list-inline>li:not(:last-child)::after {content: \"\\00b7\"; padding: 0 .5ex}\n",
       "</style>\n",
       "<ol class=list-inline><li>366</li><li>11</li></ol>\n"
      ],
      "text/latex": [
       "\\begin{enumerate*}\n",
       "\\item 366\n",
       "\\item 11\n",
       "\\end{enumerate*}\n"
      ],
      "text/markdown": [
       "1. 366\n",
       "2. 11\n",
       "\n",
       "\n"
      ],
      "text/plain": [
       "[1] 366  11"
      ]
     },
     "metadata": {},
     "output_type": "display_data"
    }
   ],
   "source": [
    "real_test <- read.csv(\"test.csv\")\n",
    "head(real_test)\n",
    "dim(real_test)"
   ]
  },
  {
   "cell_type": "code",
   "execution_count": 22,
   "metadata": {},
   "outputs": [],
   "source": [
    "real_test$holiday <- as.factor(real_test$holiday)\n",
    "real_test$season <- as.factor(real_test$season)\n",
    "real_test$mnth <- as.factor(real_test$mnth)\n",
    "real_test$workingday <- as.factor(real_test$workingday)\n",
    "real_test$weathersit <- as.factor(real_test$weathersit)\n",
    "real_test$weekday <- as.factor(real_test$weekday)"
   ]
  },
  {
   "cell_type": "code",
   "execution_count": 23,
   "metadata": {},
   "outputs": [],
   "source": [
    "\n",
    "real_test$cnt <- predict(mod9,newdata=real_test)\n",
    "real_test_sub <- real_test %>% select(id, cnt)"
   ]
  },
  {
   "cell_type": "code",
   "execution_count": 24,
   "metadata": {},
   "outputs": [
    {
     "data": {
      "image/png": "[encoded data removed]",
      "text/plain": [
       "plot without title"
      ]
     },
     "metadata": {
      "image/png": {
       "height": 420,
       "width": 420
      }
     },
     "output_type": "display_data"
    }
   ],
   "source": [
    "\n",
    "\n",
    "plot(real_test_sub)"
   ]
  },
  {
   "cell_type": "code",
   "execution_count": 25,
   "metadata": {},
   "outputs": [],
   "source": [
    "write.csv(real_test_sub,\"C:\\\\Users\\\\ytsat\\\\Documents\\\\DataScience\\\\ML\\\\Kaggle_Challenge\\\\SVM_v1.csv\", row.names = FALSE)"
   ]
  },
  {
   "cell_type": "code",
   "execution_count": null,
   "metadata": {},
   "outputs": [],
   "source": []
  }
 ],
 "metadata": {
  "kernelspec": {
   "display_name": "R",
   "language": "R",
   "name": "ir"
  },
  "language_info": {
   "codemirror_mode": "r",
   "file_extension": ".r",
   "mimetype": "text/x-r-source",
   "name": "R",
   "pygments_lexer": "r",
   "version": "4.0.1"
  }
 },
 "nbformat": 4,
 "nbformat_minor": 2
}
