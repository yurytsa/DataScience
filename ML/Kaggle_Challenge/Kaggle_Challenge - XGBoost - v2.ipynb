{
 "cells": [
  {
   "cell_type": "markdown",
   "metadata": {},
   "source": [
    "# Regression Models in R (tips)"
   ]
  },
  {
   "cell_type": "code",
   "execution_count": 1,
   "metadata": {},
   "outputs": [],
   "source": [
    "if(!exists(\"Table1\", mode=\"function\")) source(\"mechkar.R\")"
   ]
  },
  {
   "cell_type": "code",
   "execution_count": 2,
   "metadata": {},
   "outputs": [
    {
     "name": "stderr",
     "output_type": "stream",
     "text": [
      "Warning message:\n",
      "\"package 'dplyr' was built under R version 4.0.2\"\n",
      "\n",
      "Attaching package: 'dplyr'\n",
      "\n",
      "\n",
      "The following objects are masked from 'package:stats':\n",
      "\n",
      "    filter, lag\n",
      "\n",
      "\n",
      "The following objects are masked from 'package:base':\n",
      "\n",
      "    intersect, setdiff, setequal, union\n",
      "\n",
      "\n",
      "Warning message:\n",
      "\"package 'ggplot2' was built under R version 4.0.2\"\n"
     ]
    }
   ],
   "source": [
    "\n",
    "library(readr)\n",
    "library(dplyr)\n",
    "library(ggplot2)\n"
   ]
  },
  {
   "cell_type": "code",
   "execution_count": 3,
   "metadata": {},
   "outputs": [
    {
     "data": {
      "text/html": [
       "<table>\n",
       "<caption>A data.frame: 6 × 12</caption>\n",
       "<thead>\n",
       "\t<tr><th></th><th scope=col>id</th><th scope=col>season</th><th scope=col>mnth</th><th scope=col>holiday</th><th scope=col>weekday</th><th scope=col>workingday</th><th scope=col>weathersit</th><th scope=col>temp</th><th scope=col>atemp</th><th scope=col>hum</th><th scope=col>windspeed</th><th scope=col>cnt</th></tr>\n",
       "\t<tr><th></th><th scope=col>&lt;int&gt;</th><th scope=col>&lt;int&gt;</th><th scope=col>&lt;int&gt;</th><th scope=col>&lt;int&gt;</th><th scope=col>&lt;int&gt;</th><th scope=col>&lt;int&gt;</th><th scope=col>&lt;int&gt;</th><th scope=col>&lt;dbl&gt;</th><th scope=col>&lt;dbl&gt;</th><th scope=col>&lt;dbl&gt;</th><th scope=col>&lt;dbl&gt;</th><th scope=col>&lt;int&gt;</th></tr>\n",
       "</thead>\n",
       "<tbody>\n",
       "\t<tr><th scope=row>1</th><td>1</td><td>1</td><td>1</td><td>0</td><td>6</td><td>0</td><td>2</td><td>0.344167</td><td>0.363625</td><td>0.805833</td><td>0.1604460</td><td> 985</td></tr>\n",
       "\t<tr><th scope=row>2</th><td>2</td><td>1</td><td>1</td><td>0</td><td>0</td><td>0</td><td>2</td><td>0.363478</td><td>0.353739</td><td>0.696087</td><td>0.2485390</td><td> 801</td></tr>\n",
       "\t<tr><th scope=row>3</th><td>3</td><td>1</td><td>1</td><td>0</td><td>1</td><td>1</td><td>1</td><td>0.196364</td><td>0.189405</td><td>0.437273</td><td>0.2483090</td><td>1349</td></tr>\n",
       "\t<tr><th scope=row>4</th><td>4</td><td>1</td><td>1</td><td>0</td><td>2</td><td>1</td><td>1</td><td>0.200000</td><td>0.212122</td><td>0.590435</td><td>0.1602960</td><td>1562</td></tr>\n",
       "\t<tr><th scope=row>5</th><td>5</td><td>1</td><td>1</td><td>0</td><td>3</td><td>1</td><td>1</td><td>0.226957</td><td>0.229270</td><td>0.436957</td><td>0.1869000</td><td>1600</td></tr>\n",
       "\t<tr><th scope=row>6</th><td>6</td><td>1</td><td>1</td><td>0</td><td>4</td><td>1</td><td>1</td><td>0.204348</td><td>0.233209</td><td>0.518261</td><td>0.0895652</td><td>1606</td></tr>\n",
       "</tbody>\n",
       "</table>\n"
      ],
      "text/latex": [
       "A data.frame: 6 × 12\n",
       "\\begin{tabular}{r|llllllllllll}\n",
       "  & id & season & mnth & holiday & weekday & workingday & weathersit & temp & atemp & hum & windspeed & cnt\\\\\n",
       "  & <int> & <int> & <int> & <int> & <int> & <int> & <int> & <dbl> & <dbl> & <dbl> & <dbl> & <int>\\\\\n",
       "\\hline\n",
       "\t1 & 1 & 1 & 1 & 0 & 6 & 0 & 2 & 0.344167 & 0.363625 & 0.805833 & 0.1604460 &  985\\\\\n",
       "\t2 & 2 & 1 & 1 & 0 & 0 & 0 & 2 & 0.363478 & 0.353739 & 0.696087 & 0.2485390 &  801\\\\\n",
       "\t3 & 3 & 1 & 1 & 0 & 1 & 1 & 1 & 0.196364 & 0.189405 & 0.437273 & 0.2483090 & 1349\\\\\n",
       "\t4 & 4 & 1 & 1 & 0 & 2 & 1 & 1 & 0.200000 & 0.212122 & 0.590435 & 0.1602960 & 1562\\\\\n",
       "\t5 & 5 & 1 & 1 & 0 & 3 & 1 & 1 & 0.226957 & 0.229270 & 0.436957 & 0.1869000 & 1600\\\\\n",
       "\t6 & 6 & 1 & 1 & 0 & 4 & 1 & 1 & 0.204348 & 0.233209 & 0.518261 & 0.0895652 & 1606\\\\\n",
       "\\end{tabular}\n"
      ],
      "text/markdown": [
       "\n",
       "A data.frame: 6 × 12\n",
       "\n",
       "| <!--/--> | id &lt;int&gt; | season &lt;int&gt; | mnth &lt;int&gt; | holiday &lt;int&gt; | weekday &lt;int&gt; | workingday &lt;int&gt; | weathersit &lt;int&gt; | temp &lt;dbl&gt; | atemp &lt;dbl&gt; | hum &lt;dbl&gt; | windspeed &lt;dbl&gt; | cnt &lt;int&gt; |\n",
       "|---|---|---|---|---|---|---|---|---|---|---|---|---|\n",
       "| 1 | 1 | 1 | 1 | 0 | 6 | 0 | 2 | 0.344167 | 0.363625 | 0.805833 | 0.1604460 |  985 |\n",
       "| 2 | 2 | 1 | 1 | 0 | 0 | 0 | 2 | 0.363478 | 0.353739 | 0.696087 | 0.2485390 |  801 |\n",
       "| 3 | 3 | 1 | 1 | 0 | 1 | 1 | 1 | 0.196364 | 0.189405 | 0.437273 | 0.2483090 | 1349 |\n",
       "| 4 | 4 | 1 | 1 | 0 | 2 | 1 | 1 | 0.200000 | 0.212122 | 0.590435 | 0.1602960 | 1562 |\n",
       "| 5 | 5 | 1 | 1 | 0 | 3 | 1 | 1 | 0.226957 | 0.229270 | 0.436957 | 0.1869000 | 1600 |\n",
       "| 6 | 6 | 1 | 1 | 0 | 4 | 1 | 1 | 0.204348 | 0.233209 | 0.518261 | 0.0895652 | 1606 |\n",
       "\n"
      ],
      "text/plain": [
       "  id season mnth holiday weekday workingday weathersit temp     atemp   \n",
       "1 1  1      1    0       6       0          2          0.344167 0.363625\n",
       "2 2  1      1    0       0       0          2          0.363478 0.353739\n",
       "3 3  1      1    0       1       1          1          0.196364 0.189405\n",
       "4 4  1      1    0       2       1          1          0.200000 0.212122\n",
       "5 5  1      1    0       3       1          1          0.226957 0.229270\n",
       "6 6  1      1    0       4       1          1          0.204348 0.233209\n",
       "  hum      windspeed cnt \n",
       "1 0.805833 0.1604460  985\n",
       "2 0.696087 0.2485390  801\n",
       "3 0.437273 0.2483090 1349\n",
       "4 0.590435 0.1602960 1562\n",
       "5 0.436957 0.1869000 1600\n",
       "6 0.518261 0.0895652 1606"
      ]
     },
     "metadata": {},
     "output_type": "display_data"
    },
    {
     "data": {
      "text/html": [
       "<style>\n",
       ".list-inline {list-style: none; margin:0; padding: 0}\n",
       ".list-inline>li {display: inline-block}\n",
       ".list-inline>li:not(:last-child)::after {content: \"\\00b7\"; padding: 0 .5ex}\n",
       "</style>\n",
       "<ol class=list-inline><li>365</li><li>12</li></ol>\n"
      ],
      "text/latex": [
       "\\begin{enumerate*}\n",
       "\\item 365\n",
       "\\item 12\n",
       "\\end{enumerate*}\n"
      ],
      "text/markdown": [
       "1. 365\n",
       "2. 12\n",
       "\n",
       "\n"
      ],
      "text/plain": [
       "[1] 365  12"
      ]
     },
     "metadata": {},
     "output_type": "display_data"
    }
   ],
   "source": [
    "df <- read.csv(\"train.csv\")\n",
    "head(df)\n",
    "dim(df)"
   ]
  },
  {
   "cell_type": "markdown",
   "metadata": {},
   "source": [
    "Data Set Information:\n",
    "\n",
    "Bike sharing systems are new generation of traditional bike rentals where whole process from membership, rental and return back has become automatic. Through these systems, user is able to easily rent a bike from a particular position and return back at another position. Currently, there are about over 500 bike-sharing programs around the world which is composed of over 500 thousands bicycles. Today, there exists great interest in these systems due to their important role in traffic, environmental and health issues.\n",
    "\n",
    "Apart from interesting real world applications of bike sharing systems, the characteristics of data being generated by these systems make them attractive for the research. Opposed to other transport services such as bus or subway, the duration of travel, departure and arrival position is explicitly recorded in these systems. This feature turns bike sharing system into a virtual sensor network that can be used for sensing mobility in the city. Hence, it is expected that most of important events in the city could be detected via monitoring these data.\n",
    "\n",
    "\n",
    "Attribute Information:\n",
    "\n",
    "Both hour.csv and day.csv have the following fields, except hr which is not available in day.csv\n",
    "\n",
    "- instant: record index\n",
    "- season : season (1:winter, 2:spring, 3:summer, 4:fall)\n",
    "- mnth : month ( 1 to 12)\n",
    "- hr : hour (0 to 23)\n",
    "- holiday : weather day is holiday or not (extracted from [Web Link])\n",
    "- weekday : day of the week\n",
    "- workingday : if day is neither weekend nor holiday is 1, otherwise is 0.\n",
    "+ weathersit :\n",
    "- 1: Clear, Few clouds, Partly cloudy, Partly cloudy\n",
    "- 2: Mist + Cloudy, Mist + Broken clouds, Mist + Few clouds, Mist\n",
    "- 3: Light Snow, Light Rain + Thunderstorm + Scattered clouds, Light Rain + Scattered clouds\n",
    "- 4: Heavy Rain + Ice Pallets + Thunderstorm + Mist, Snow + Fog\n",
    "- temp : Normalized temperature in Celsius. The values are derived via (t-t_min)/(t_max-t_min), t_min=-8, t_max=+39 (only in hourly scale)\n",
    "- atemp: Normalized feeling temperature in Celsius. The values are derived via (t-t_min)/(t_max-t_min), t_min=-16, t_max=+50 (only in hourly scale)\n",
    "- hum: Normalized humidity. The values are divided to 100 (max)\n",
    "- windspeed: Normalized wind speed. The values are divided to 67 (max)\n",
    "- casual: count of casual users\n",
    "- registered: count of registered users\n",
    "- cnt: count of total rental bikes including both casual and registered"
   ]
  },
  {
   "cell_type": "code",
   "execution_count": 4,
   "metadata": {},
   "outputs": [],
   "source": [
    "df[\"season_1\"] = as.integer(df$season == 1)\n",
    "df[\"season_2\"] = as.integer(df$season == 2)\n",
    "df[\"season_3\"] = as.integer(df$season == 3)\n",
    "df[\"season_4\"] = as.integer(df$season == 4)\n",
    "\n",
    "df[\"mnth_1\"] = as.integer(df$mnth == 1)\n",
    "df[\"mnth_2\"] = as.integer(df$mnth == 2)\n",
    "df[\"mnth_3\"] = as.integer(df$mnth == 3)\n",
    "df[\"mnth_4\"] = as.integer(df$mnth == 4)\n",
    "df[\"mnth_5\"] = as.integer(df$mnth == 5)\n",
    "df[\"mnth_6\"] = as.integer(df$mnth == 6)\n",
    "df[\"mnth_7\"] = as.integer(df$mnth == 7)\n",
    "df[\"mnth_8\"] = as.integer(df$mnth == 8)\n",
    "df[\"mnth_9\"] = as.integer(df$mnth == 9)\n",
    "df[\"mnth_10\"] = as.integer(df$mnth == 10)\n",
    "df[\"mnth_11\"] = as.integer(df$mnth == 11)\n",
    "df[\"mnth_12\"] = as.integer(df$mnth == 12)\n",
    "\n",
    "df[\"weekday_0\"] = as.integer(df$weekday == 0)\n",
    "df[\"weekday_1\"] = as.integer(df$weekday == 1)\n",
    "df[\"weekday_2\"] = as.integer(df$weekday == 2)\n",
    "df[\"weekday_3\"] = as.integer(df$weekday == 3)\n",
    "df[\"weekday_4\"] = as.integer(df$weekday == 4)\n",
    "df[\"weekday_5\"] = as.integer(df$weekday == 5)\n",
    "df[\"weekday_6\"] = as.integer(df$weekday == 6)\n",
    "\n",
    "df[\"weathersit_1\"] = as.integer(df$weathersit == 1)\n",
    "df[\"weathersit_2\"] = as.integer(df$weathersit == 2)\n",
    "df[\"weathersit_3\"] = as.integer(df$weathersit == 3)\n",
    "\n",
    "df[\"mnth\"] <- NULL\n",
    "df[\"weathersit\"] <- NULL\n",
    "df[\"weekday\"] <- NULL\n",
    "df[\"season\"] <- NULL\n",
    "df[\"atemp\"] <- NULL\n"
   ]
  },
  {
   "cell_type": "markdown",
   "metadata": {},
   "source": [
    "# EDA"
   ]
  },
  {
   "cell_type": "code",
   "execution_count": 5,
   "metadata": {},
   "outputs": [
    {
     "data": {
      "text/plain": [
       "       id      holiday workingday      temp              hum        \n",
       " Min.   :  1   0:355   0:115      Min.   :0.05913   Min.   :0.0000  \n",
       " 1st Qu.: 92   1: 10   1:250      1st Qu.:0.32500   1st Qu.:0.5383  \n",
       " Median :183                      Median :0.47917   Median :0.6475  \n",
       " Mean   :183                      Mean   :0.48666   Mean   :0.6437  \n",
       " 3rd Qu.:274                      3rd Qu.:0.65667   3rd Qu.:0.7421  \n",
       " Max.   :365                      Max.   :0.84917   Max.   :0.9725  \n",
       "   windspeed            cnt       season_1 season_2 season_3 season_4 mnth_1 \n",
       " Min.   :0.02239   Min.   : 431   0:275    0:273    0:271    0:276    0:334  \n",
       " 1st Qu.:0.13558   1st Qu.:2132   1: 90    1: 92    1: 94    1: 89    1: 31  \n",
       " Median :0.18690   Median :3740                                              \n",
       " Mean   :0.19140   Mean   :3406                                              \n",
       " 3rd Qu.:0.23508   3rd Qu.:4586                                              \n",
       " Max.   :0.50746   Max.   :6043                                              \n",
       " mnth_2  mnth_3  mnth_4  mnth_5  mnth_6  mnth_7  mnth_8  mnth_9  mnth_10\n",
       " 0:337   0:334   0:335   0:334   0:335   0:334   0:334   0:335   0:334  \n",
       " 1: 28   1: 31   1: 30   1: 31   1: 30   1: 31   1: 31   1: 30   1: 31  \n",
       "                                                                        \n",
       "                                                                        \n",
       "                                                                        \n",
       "                                                                        \n",
       " mnth_11 mnth_12 weekday_0 weekday_1 weekday_2 weekday_3 weekday_4 weekday_5\n",
       " 0:335   0:334   0:313     0:313     0:313     0:313     0:313     0:313    \n",
       " 1: 30   1: 31   1: 52     1: 52     1: 52     1: 52     1: 52     1: 52    \n",
       "                                                                            \n",
       "                                                                            \n",
       "                                                                            \n",
       "                                                                            \n",
       " weekday_6 weathersit_1 weathersit_2 weathersit_3\n",
       " 0:312     0:139        0:241        0:350       \n",
       " 1: 53     1:226        1:124        1: 15       \n",
       "                                                 \n",
       "                                                 \n",
       "                                                 \n",
       "                                                 "
      ]
     },
     "metadata": {},
     "output_type": "display_data"
    }
   ],
   "source": [
    "df$holiday <- as.factor(df$holiday)\n",
    "df$workingday <- as.factor(df$workingday)\n",
    "\n",
    "df[\"season_1\"] = as.factor(df$season_1)\n",
    "df[\"season_2\"] = as.factor(df$season_2)\n",
    "df[\"season_3\"] = as.factor(df$season_3)\n",
    "df[\"season_4\"] = as.factor(df$season_4)\n",
    "\n",
    "df[\"mnth_1\"] = as.factor(df$mnth_1)\n",
    "df[\"mnth_2\"] = as.factor(df$mnth_2)\n",
    "df[\"mnth_3\"] = as.factor(df$mnth_3)\n",
    "df[\"mnth_4\"] = as.factor(df$mnth_4)\n",
    "df[\"mnth_5\"] = as.factor(df$mnth_5)\n",
    "df[\"mnth_6\"] = as.factor(df$mnth_6)\n",
    "df[\"mnth_7\"] = as.factor(df$mnth_7)\n",
    "df[\"mnth_8\"] = as.factor(df$mnth_8)\n",
    "df[\"mnth_9\"] = as.factor(df$mnth_9)\n",
    "df[\"mnth_10\"] = as.factor(df$mnth_10)\n",
    "df[\"mnth_11\"] = as.factor(df$mnth_11)\n",
    "df[\"mnth_12\"] = as.factor(df$mnth_12)\n",
    "\n",
    "df[\"weekday_0\"] = as.factor(df$weekday_0)\n",
    "df[\"weekday_1\"] = as.factor(df$weekday_1)\n",
    "df[\"weekday_2\"] = as.factor(df$weekday_2)\n",
    "df[\"weekday_3\"] = as.factor(df$weekday_3)\n",
    "df[\"weekday_4\"] = as.factor(df$weekday_4)\n",
    "df[\"weekday_5\"] = as.factor(df$weekday_5)\n",
    "df[\"weekday_6\"] = as.factor(df$weekday_6)\n",
    "\n",
    "df[\"weathersit_1\"] = as.factor(df$weathersit_1)\n",
    "df[\"weathersit_2\"] = as.factor(df$weathersit_2)\n",
    "df[\"weathersit_3\"] = as.factor(df$weathersit_3)\n",
    "\n",
    "\n",
    "\n",
    "\n",
    "summary(df)"
   ]
  },
  {
   "cell_type": "markdown",
   "metadata": {},
   "source": [
    "# DATASET PARTITION"
   ]
  },
  {
   "cell_type": "code",
   "execution_count": 6,
   "metadata": {
    "scrolled": true
   },
   "outputs": [
    {
     "name": "stderr",
     "output_type": "stream",
     "text": [
      "Dataset partitioned into:\n",
      "\n",
      " + Train dataset: train\n",
      "\n",
      " + Test dataset: test\n",
      "\n",
      "Warning message in Table1(data = df, y = \"traintest_ind_\", messages = FALSE):\n",
      "\"The following variables have unique values and will not be included in the analysis: \"\n"
     ]
    },
    {
     "name": "stdout",
     "output_type": "stream",
     "text": [
      "  |======================================================================| 100%"
     ]
    },
    {
     "name": "stderr",
     "output_type": "stream",
     "text": [
      "Warning message:\n",
      "\"The `x` argument of `as_tibble.matrix()` must have unique column names if `.name_repair` is omitted as of tibble 2.0.0.\n",
      "Using compatibility `.name_repair`.\n",
      "\u001b[90mThis warning is displayed once every 8 hours.\u001b[39m\n",
      "\u001b[90mCall `lifecycle::last_warnings()` to see where this warning was generated.\u001b[39m\"\n"
     ]
    },
    {
     "name": "stdout",
     "output_type": "stream",
     "text": [
      "  |================================================================      |  91%"
     ]
    },
    {
     "name": "stderr",
     "output_type": "stream",
     "text": [
      "Warning message in stats::chisq.test(data[[v]], data[[y]]):\n",
      "\"Chi-squared approximation may be incorrect\"\n"
     ]
    },
    {
     "name": "stdout",
     "output_type": "stream",
     "text": [
      "  |====================================================================  |  97%"
     ]
    },
    {
     "name": "stderr",
     "output_type": "stream",
     "text": [
      " \n",
      "\n",
      "You got a perfectly balanced training and test datasets\n",
      "\n",
      " \n",
      "\n"
     ]
    },
    {
     "data": {
      "text/html": [
       "<table>\n",
       "<caption>A tibble: 41 × 6</caption>\n",
       "<thead>\n",
       "\t<tr><th scope=col>V1</th><th scope=col>V2</th><th scope=col>Pop</th><th scope=col>1</th><th scope=col>2</th><th scope=col>pval</th></tr>\n",
       "\t<tr><th scope=col>&lt;chr&gt;</th><th scope=col>&lt;chr&gt;</th><th scope=col>&lt;chr&gt;</th><th scope=col>&lt;chr&gt;</th><th scope=col>&lt;chr&gt;</th><th scope=col>&lt;chr&gt;</th></tr>\n",
       "</thead>\n",
       "<tbody>\n",
       "\t<tr><td>Individuals   </td><td>n           </td><td>365                      </td><td>255                      </td><td>110                      </td><td>NA   </td></tr>\n",
       "\t<tr><td>id            </td><td>Mean (SD)   </td><td>183.0 (105.5)            </td><td>183.7 (105.0)            </td><td>181.4 (107.2)            </td><td>NA   </td></tr>\n",
       "\t<tr><td>id            </td><td>Median (IQR)</td><td>183.0 (92.0-274.0)       </td><td>181.0 (92.5-272.5)       </td><td>184.5 (88.0-277.0)       </td><td>0.854</td></tr>\n",
       "\t<tr><td>holiday       </td><td>1           </td><td>10 (2.7%)                </td><td>5 (2.0%)                 </td><td>5 (4.5%)                 </td><td>0.166</td></tr>\n",
       "\t<tr><td>workingday    </td><td>1           </td><td>250 (68.5%)              </td><td>175 (68.6%)              </td><td>75 (68.2%)               </td><td>1    </td></tr>\n",
       "\t<tr><td>temp          </td><td>Mean (SD)   </td><td>0.5 (0.2)                </td><td>0.5 (0.2)                </td><td>0.5 (0.2)                </td><td>NA   </td></tr>\n",
       "\t<tr><td>temp          </td><td>Median (IQR)</td><td>0.5 (0.3-0.7)            </td><td>0.5 (0.3-0.7)            </td><td>0.5 (0.3-0.7)            </td><td>0.633</td></tr>\n",
       "\t<tr><td>hum           </td><td>Mean (SD)   </td><td>0.6 (0.1)                </td><td>0.6 (0.2)                </td><td>0.7 (0.1)                </td><td>NA   </td></tr>\n",
       "\t<tr><td>hum           </td><td>Median (IQR)</td><td>0.6 (0.5-0.7)            </td><td>0.6 (0.5-0.7)            </td><td>0.6 (0.5-0.7)            </td><td>0.53 </td></tr>\n",
       "\t<tr><td>windspeed     </td><td>Mean (SD)   </td><td>0.2 (0.1)                </td><td>0.2 (0.1)                </td><td>0.2 (0.1)                </td><td>NA   </td></tr>\n",
       "\t<tr><td>windspeed     </td><td>Median (IQR)</td><td>0.2 (0.1-0.2)            </td><td>0.2 (0.1-0.2)            </td><td>0.2 (0.1-0.2)            </td><td>0.704</td></tr>\n",
       "\t<tr><td>cnt           </td><td>Mean (SD)   </td><td>3,405.8 (1,378.8)        </td><td>3,443.5 (1,363.5)        </td><td>3,318.2 (1,415.8)        </td><td>NA   </td></tr>\n",
       "\t<tr><td>cnt           </td><td>Median (IQR)</td><td>3,740.0 (2,132.0-4,586.0)</td><td>3,750.0 (2,185.5-4,591.0)</td><td>3,577.5 (1,916.5-4,546.2)</td><td>0.426</td></tr>\n",
       "\t<tr><td>season_1      </td><td>1           </td><td>90 (24.7%)               </td><td>62 (24.3%)               </td><td>28 (25.5%)               </td><td>0.921</td></tr>\n",
       "\t<tr><td>season_2      </td><td>1           </td><td>92 (25.2%)               </td><td>67 (26.3%)               </td><td>25 (22.7%)               </td><td>0.559</td></tr>\n",
       "\t<tr><td>season_3      </td><td>1           </td><td>94 (25.8%)               </td><td>65 (25.5%)               </td><td>29 (26.4%)               </td><td>0.964</td></tr>\n",
       "\t<tr><td>season_4      </td><td>1           </td><td>89 (24.4%)               </td><td>61 (23.9%)               </td><td>28 (25.5%)               </td><td>0.857</td></tr>\n",
       "\t<tr><td>mnth_1        </td><td>1           </td><td>31 (8.5%)                </td><td>20 (7.8%)                </td><td>11 (10.0%)               </td><td>0.636</td></tr>\n",
       "\t<tr><td>mnth_2        </td><td>1           </td><td>28 (7.7%)                </td><td>18 (7.1%)                </td><td>10 (9.1%)                </td><td>0.649</td></tr>\n",
       "\t<tr><td>mnth_3        </td><td>1           </td><td>31 (8.5%)                </td><td>24 (9.4%)                </td><td>7 (6.4%)                 </td><td>0.451</td></tr>\n",
       "\t<tr><td>mnth_4        </td><td>1           </td><td>30 (8.2%)                </td><td>20 (7.8%)                </td><td>10 (9.1%)                </td><td>0.849</td></tr>\n",
       "\t<tr><td>mnth_5        </td><td>1           </td><td>31 (8.5%)                </td><td>23 (9.0%)                </td><td>8 (7.3%)                 </td><td>0.73 </td></tr>\n",
       "\t<tr><td>mnth_6        </td><td>1           </td><td>30 (8.2%)                </td><td>23 (9.0%)                </td><td>7 (6.4%)                 </td><td>0.522</td></tr>\n",
       "\t<tr><td>mnth_7        </td><td>1           </td><td>31 (8.5%)                </td><td>20 (7.8%)                </td><td>11 (10.0%)               </td><td>0.636</td></tr>\n",
       "\t<tr><td>mnth_8        </td><td>1           </td><td>31 (8.5%)                </td><td>24 (9.4%)                </td><td>7 (6.4%)                 </td><td>0.451</td></tr>\n",
       "\t<tr><td>mnth_9        </td><td>1           </td><td>30 (8.2%)                </td><td>20 (7.8%)                </td><td>10 (9.1%)                </td><td>0.849</td></tr>\n",
       "\t<tr><td>mnth_10       </td><td>1           </td><td>31 (8.5%)                </td><td>21 (8.2%)                </td><td>10 (9.1%)                </td><td>0.949</td></tr>\n",
       "\t<tr><td>mnth_11       </td><td>1           </td><td>30 (8.2%)                </td><td>18 (7.1%)                </td><td>12 (10.9%)               </td><td>0.307</td></tr>\n",
       "\t<tr><td>mnth_12       </td><td>1           </td><td>31 (8.5%)                </td><td>24 (9.4%)                </td><td>7 (6.4%)                 </td><td>0.451</td></tr>\n",
       "\t<tr><td>weekday_0     </td><td>1           </td><td>52 (14.2%)               </td><td>36 (14.1%)               </td><td>16 (14.5%)               </td><td>1    </td></tr>\n",
       "\t<tr><td>weekday_1     </td><td>1           </td><td>52 (14.2%)               </td><td>34 (13.3%)               </td><td>18 (16.4%)               </td><td>0.551</td></tr>\n",
       "\t<tr><td>weekday_2     </td><td>1           </td><td>52 (14.2%)               </td><td>36 (14.1%)               </td><td>16 (14.5%)               </td><td>1    </td></tr>\n",
       "\t<tr><td>weekday_3     </td><td>1           </td><td>52 (14.2%)               </td><td>34 (13.3%)               </td><td>18 (16.4%)               </td><td>0.551</td></tr>\n",
       "\t<tr><td>weekday_4     </td><td>1           </td><td>52 (14.2%)               </td><td>38 (14.9%)               </td><td>14 (12.7%)               </td><td>0.702</td></tr>\n",
       "\t<tr><td>weekday_5     </td><td>1           </td><td>52 (14.2%)               </td><td>38 (14.9%)               </td><td>14 (12.7%)               </td><td>0.702</td></tr>\n",
       "\t<tr><td>weekday_6     </td><td>1           </td><td>53 (14.5%)               </td><td>39 (15.3%)               </td><td>14 (12.7%)               </td><td>0.633</td></tr>\n",
       "\t<tr><td>weathersit_1  </td><td>1           </td><td>226 (61.9%)              </td><td>153 (60.0%)              </td><td>73 (66.4%)               </td><td>0.302</td></tr>\n",
       "\t<tr><td>weathersit_2  </td><td>1           </td><td>124 (34.0%)              </td><td>93 (36.5%)               </td><td>31 (28.2%)               </td><td>0.157</td></tr>\n",
       "\t<tr><td>weathersit_3  </td><td>1           </td><td>15 (4.1%)                </td><td>9 (3.5%)                 </td><td>6 (5.5%)                 </td><td>0.574</td></tr>\n",
       "\t<tr><td>traintest_ind_</td><td>Mean (SD)   </td><td>1.3 (0.5)                </td><td>NA                       </td><td>NA                       </td><td>NA   </td></tr>\n",
       "\t<tr><td>traintest_ind_</td><td>Median (IQR)</td><td>1.0 (1.0-2.0)            </td><td>NA                       </td><td>NA                       </td><td>0    </td></tr>\n",
       "</tbody>\n",
       "</table>\n"
      ],
      "text/latex": [
       "A tibble: 41 × 6\n",
       "\\begin{tabular}{llllll}\n",
       " V1 & V2 & Pop & 1 & 2 & pval\\\\\n",
       " <chr> & <chr> & <chr> & <chr> & <chr> & <chr>\\\\\n",
       "\\hline\n",
       "\t Individuals    & n            & 365                       & 255                       & 110                       & NA   \\\\\n",
       "\t id             & Mean (SD)    & 183.0 (105.5)             & 183.7 (105.0)             & 181.4 (107.2)             & NA   \\\\\n",
       "\t id             & Median (IQR) & 183.0 (92.0-274.0)        & 181.0 (92.5-272.5)        & 184.5 (88.0-277.0)        & 0.854\\\\\n",
       "\t holiday        & 1            & 10 (2.7\\%)                 & 5 (2.0\\%)                  & 5 (4.5\\%)                  & 0.166\\\\\n",
       "\t workingday     & 1            & 250 (68.5\\%)               & 175 (68.6\\%)               & 75 (68.2\\%)                & 1    \\\\\n",
       "\t temp           & Mean (SD)    & 0.5 (0.2)                 & 0.5 (0.2)                 & 0.5 (0.2)                 & NA   \\\\\n",
       "\t temp           & Median (IQR) & 0.5 (0.3-0.7)             & 0.5 (0.3-0.7)             & 0.5 (0.3-0.7)             & 0.633\\\\\n",
       "\t hum            & Mean (SD)    & 0.6 (0.1)                 & 0.6 (0.2)                 & 0.7 (0.1)                 & NA   \\\\\n",
       "\t hum            & Median (IQR) & 0.6 (0.5-0.7)             & 0.6 (0.5-0.7)             & 0.6 (0.5-0.7)             & 0.53 \\\\\n",
       "\t windspeed      & Mean (SD)    & 0.2 (0.1)                 & 0.2 (0.1)                 & 0.2 (0.1)                 & NA   \\\\\n",
       "\t windspeed      & Median (IQR) & 0.2 (0.1-0.2)             & 0.2 (0.1-0.2)             & 0.2 (0.1-0.2)             & 0.704\\\\\n",
       "\t cnt            & Mean (SD)    & 3,405.8 (1,378.8)         & 3,443.5 (1,363.5)         & 3,318.2 (1,415.8)         & NA   \\\\\n",
       "\t cnt            & Median (IQR) & 3,740.0 (2,132.0-4,586.0) & 3,750.0 (2,185.5-4,591.0) & 3,577.5 (1,916.5-4,546.2) & 0.426\\\\\n",
       "\t season\\_1       & 1            & 90 (24.7\\%)                & 62 (24.3\\%)                & 28 (25.5\\%)                & 0.921\\\\\n",
       "\t season\\_2       & 1            & 92 (25.2\\%)                & 67 (26.3\\%)                & 25 (22.7\\%)                & 0.559\\\\\n",
       "\t season\\_3       & 1            & 94 (25.8\\%)                & 65 (25.5\\%)                & 29 (26.4\\%)                & 0.964\\\\\n",
       "\t season\\_4       & 1            & 89 (24.4\\%)                & 61 (23.9\\%)                & 28 (25.5\\%)                & 0.857\\\\\n",
       "\t mnth\\_1         & 1            & 31 (8.5\\%)                 & 20 (7.8\\%)                 & 11 (10.0\\%)                & 0.636\\\\\n",
       "\t mnth\\_2         & 1            & 28 (7.7\\%)                 & 18 (7.1\\%)                 & 10 (9.1\\%)                 & 0.649\\\\\n",
       "\t mnth\\_3         & 1            & 31 (8.5\\%)                 & 24 (9.4\\%)                 & 7 (6.4\\%)                  & 0.451\\\\\n",
       "\t mnth\\_4         & 1            & 30 (8.2\\%)                 & 20 (7.8\\%)                 & 10 (9.1\\%)                 & 0.849\\\\\n",
       "\t mnth\\_5         & 1            & 31 (8.5\\%)                 & 23 (9.0\\%)                 & 8 (7.3\\%)                  & 0.73 \\\\\n",
       "\t mnth\\_6         & 1            & 30 (8.2\\%)                 & 23 (9.0\\%)                 & 7 (6.4\\%)                  & 0.522\\\\\n",
       "\t mnth\\_7         & 1            & 31 (8.5\\%)                 & 20 (7.8\\%)                 & 11 (10.0\\%)                & 0.636\\\\\n",
       "\t mnth\\_8         & 1            & 31 (8.5\\%)                 & 24 (9.4\\%)                 & 7 (6.4\\%)                  & 0.451\\\\\n",
       "\t mnth\\_9         & 1            & 30 (8.2\\%)                 & 20 (7.8\\%)                 & 10 (9.1\\%)                 & 0.849\\\\\n",
       "\t mnth\\_10        & 1            & 31 (8.5\\%)                 & 21 (8.2\\%)                 & 10 (9.1\\%)                 & 0.949\\\\\n",
       "\t mnth\\_11        & 1            & 30 (8.2\\%)                 & 18 (7.1\\%)                 & 12 (10.9\\%)                & 0.307\\\\\n",
       "\t mnth\\_12        & 1            & 31 (8.5\\%)                 & 24 (9.4\\%)                 & 7 (6.4\\%)                  & 0.451\\\\\n",
       "\t weekday\\_0      & 1            & 52 (14.2\\%)                & 36 (14.1\\%)                & 16 (14.5\\%)                & 1    \\\\\n",
       "\t weekday\\_1      & 1            & 52 (14.2\\%)                & 34 (13.3\\%)                & 18 (16.4\\%)                & 0.551\\\\\n",
       "\t weekday\\_2      & 1            & 52 (14.2\\%)                & 36 (14.1\\%)                & 16 (14.5\\%)                & 1    \\\\\n",
       "\t weekday\\_3      & 1            & 52 (14.2\\%)                & 34 (13.3\\%)                & 18 (16.4\\%)                & 0.551\\\\\n",
       "\t weekday\\_4      & 1            & 52 (14.2\\%)                & 38 (14.9\\%)                & 14 (12.7\\%)                & 0.702\\\\\n",
       "\t weekday\\_5      & 1            & 52 (14.2\\%)                & 38 (14.9\\%)                & 14 (12.7\\%)                & 0.702\\\\\n",
       "\t weekday\\_6      & 1            & 53 (14.5\\%)                & 39 (15.3\\%)                & 14 (12.7\\%)                & 0.633\\\\\n",
       "\t weathersit\\_1   & 1            & 226 (61.9\\%)               & 153 (60.0\\%)               & 73 (66.4\\%)                & 0.302\\\\\n",
       "\t weathersit\\_2   & 1            & 124 (34.0\\%)               & 93 (36.5\\%)                & 31 (28.2\\%)                & 0.157\\\\\n",
       "\t weathersit\\_3   & 1            & 15 (4.1\\%)                 & 9 (3.5\\%)                  & 6 (5.5\\%)                  & 0.574\\\\\n",
       "\t traintest\\_ind\\_ & Mean (SD)    & 1.3 (0.5)                 & NA                        & NA                        & NA   \\\\\n",
       "\t traintest\\_ind\\_ & Median (IQR) & 1.0 (1.0-2.0)             & NA                        & NA                        & 0    \\\\\n",
       "\\end{tabular}\n"
      ],
      "text/markdown": [
       "\n",
       "A tibble: 41 × 6\n",
       "\n",
       "| V1 &lt;chr&gt; | V2 &lt;chr&gt; | Pop &lt;chr&gt; | 1 &lt;chr&gt; | 2 &lt;chr&gt; | pval &lt;chr&gt; |\n",
       "|---|---|---|---|---|---|\n",
       "| Individuals    | n            | 365                       | 255                       | 110                       | NA    |\n",
       "| id             | Mean (SD)    | 183.0 (105.5)             | 183.7 (105.0)             | 181.4 (107.2)             | NA    |\n",
       "| id             | Median (IQR) | 183.0 (92.0-274.0)        | 181.0 (92.5-272.5)        | 184.5 (88.0-277.0)        | 0.854 |\n",
       "| holiday        | 1            | 10 (2.7%)                 | 5 (2.0%)                  | 5 (4.5%)                  | 0.166 |\n",
       "| workingday     | 1            | 250 (68.5%)               | 175 (68.6%)               | 75 (68.2%)                | 1     |\n",
       "| temp           | Mean (SD)    | 0.5 (0.2)                 | 0.5 (0.2)                 | 0.5 (0.2)                 | NA    |\n",
       "| temp           | Median (IQR) | 0.5 (0.3-0.7)             | 0.5 (0.3-0.7)             | 0.5 (0.3-0.7)             | 0.633 |\n",
       "| hum            | Mean (SD)    | 0.6 (0.1)                 | 0.6 (0.2)                 | 0.7 (0.1)                 | NA    |\n",
       "| hum            | Median (IQR) | 0.6 (0.5-0.7)             | 0.6 (0.5-0.7)             | 0.6 (0.5-0.7)             | 0.53  |\n",
       "| windspeed      | Mean (SD)    | 0.2 (0.1)                 | 0.2 (0.1)                 | 0.2 (0.1)                 | NA    |\n",
       "| windspeed      | Median (IQR) | 0.2 (0.1-0.2)             | 0.2 (0.1-0.2)             | 0.2 (0.1-0.2)             | 0.704 |\n",
       "| cnt            | Mean (SD)    | 3,405.8 (1,378.8)         | 3,443.5 (1,363.5)         | 3,318.2 (1,415.8)         | NA    |\n",
       "| cnt            | Median (IQR) | 3,740.0 (2,132.0-4,586.0) | 3,750.0 (2,185.5-4,591.0) | 3,577.5 (1,916.5-4,546.2) | 0.426 |\n",
       "| season_1       | 1            | 90 (24.7%)                | 62 (24.3%)                | 28 (25.5%)                | 0.921 |\n",
       "| season_2       | 1            | 92 (25.2%)                | 67 (26.3%)                | 25 (22.7%)                | 0.559 |\n",
       "| season_3       | 1            | 94 (25.8%)                | 65 (25.5%)                | 29 (26.4%)                | 0.964 |\n",
       "| season_4       | 1            | 89 (24.4%)                | 61 (23.9%)                | 28 (25.5%)                | 0.857 |\n",
       "| mnth_1         | 1            | 31 (8.5%)                 | 20 (7.8%)                 | 11 (10.0%)                | 0.636 |\n",
       "| mnth_2         | 1            | 28 (7.7%)                 | 18 (7.1%)                 | 10 (9.1%)                 | 0.649 |\n",
       "| mnth_3         | 1            | 31 (8.5%)                 | 24 (9.4%)                 | 7 (6.4%)                  | 0.451 |\n",
       "| mnth_4         | 1            | 30 (8.2%)                 | 20 (7.8%)                 | 10 (9.1%)                 | 0.849 |\n",
       "| mnth_5         | 1            | 31 (8.5%)                 | 23 (9.0%)                 | 8 (7.3%)                  | 0.73  |\n",
       "| mnth_6         | 1            | 30 (8.2%)                 | 23 (9.0%)                 | 7 (6.4%)                  | 0.522 |\n",
       "| mnth_7         | 1            | 31 (8.5%)                 | 20 (7.8%)                 | 11 (10.0%)                | 0.636 |\n",
       "| mnth_8         | 1            | 31 (8.5%)                 | 24 (9.4%)                 | 7 (6.4%)                  | 0.451 |\n",
       "| mnth_9         | 1            | 30 (8.2%)                 | 20 (7.8%)                 | 10 (9.1%)                 | 0.849 |\n",
       "| mnth_10        | 1            | 31 (8.5%)                 | 21 (8.2%)                 | 10 (9.1%)                 | 0.949 |\n",
       "| mnth_11        | 1            | 30 (8.2%)                 | 18 (7.1%)                 | 12 (10.9%)                | 0.307 |\n",
       "| mnth_12        | 1            | 31 (8.5%)                 | 24 (9.4%)                 | 7 (6.4%)                  | 0.451 |\n",
       "| weekday_0      | 1            | 52 (14.2%)                | 36 (14.1%)                | 16 (14.5%)                | 1     |\n",
       "| weekday_1      | 1            | 52 (14.2%)                | 34 (13.3%)                | 18 (16.4%)                | 0.551 |\n",
       "| weekday_2      | 1            | 52 (14.2%)                | 36 (14.1%)                | 16 (14.5%)                | 1     |\n",
       "| weekday_3      | 1            | 52 (14.2%)                | 34 (13.3%)                | 18 (16.4%)                | 0.551 |\n",
       "| weekday_4      | 1            | 52 (14.2%)                | 38 (14.9%)                | 14 (12.7%)                | 0.702 |\n",
       "| weekday_5      | 1            | 52 (14.2%)                | 38 (14.9%)                | 14 (12.7%)                | 0.702 |\n",
       "| weekday_6      | 1            | 53 (14.5%)                | 39 (15.3%)                | 14 (12.7%)                | 0.633 |\n",
       "| weathersit_1   | 1            | 226 (61.9%)               | 153 (60.0%)               | 73 (66.4%)                | 0.302 |\n",
       "| weathersit_2   | 1            | 124 (34.0%)               | 93 (36.5%)                | 31 (28.2%)                | 0.157 |\n",
       "| weathersit_3   | 1            | 15 (4.1%)                 | 9 (3.5%)                  | 6 (5.5%)                  | 0.574 |\n",
       "| traintest_ind_ | Mean (SD)    | 1.3 (0.5)                 | NA                        | NA                        | NA    |\n",
       "| traintest_ind_ | Median (IQR) | 1.0 (1.0-2.0)             | NA                        | NA                        | 0     |\n",
       "\n"
      ],
      "text/plain": [
       "   V1             V2           Pop                      \n",
       "1  Individuals    n            365                      \n",
       "2  id             Mean (SD)    183.0 (105.5)            \n",
       "3  id             Median (IQR) 183.0 (92.0-274.0)       \n",
       "4  holiday        1            10 (2.7%)                \n",
       "5  workingday     1            250 (68.5%)              \n",
       "6  temp           Mean (SD)    0.5 (0.2)                \n",
       "7  temp           Median (IQR) 0.5 (0.3-0.7)            \n",
       "8  hum            Mean (SD)    0.6 (0.1)                \n",
       "9  hum            Median (IQR) 0.6 (0.5-0.7)            \n",
       "10 windspeed      Mean (SD)    0.2 (0.1)                \n",
       "11 windspeed      Median (IQR) 0.2 (0.1-0.2)            \n",
       "12 cnt            Mean (SD)    3,405.8 (1,378.8)        \n",
       "13 cnt            Median (IQR) 3,740.0 (2,132.0-4,586.0)\n",
       "14 season_1       1            90 (24.7%)               \n",
       "15 season_2       1            92 (25.2%)               \n",
       "16 season_3       1            94 (25.8%)               \n",
       "17 season_4       1            89 (24.4%)               \n",
       "18 mnth_1         1            31 (8.5%)                \n",
       "19 mnth_2         1            28 (7.7%)                \n",
       "20 mnth_3         1            31 (8.5%)                \n",
       "21 mnth_4         1            30 (8.2%)                \n",
       "22 mnth_5         1            31 (8.5%)                \n",
       "23 mnth_6         1            30 (8.2%)                \n",
       "24 mnth_7         1            31 (8.5%)                \n",
       "25 mnth_8         1            31 (8.5%)                \n",
       "26 mnth_9         1            30 (8.2%)                \n",
       "27 mnth_10        1            31 (8.5%)                \n",
       "28 mnth_11        1            30 (8.2%)                \n",
       "29 mnth_12        1            31 (8.5%)                \n",
       "30 weekday_0      1            52 (14.2%)               \n",
       "31 weekday_1      1            52 (14.2%)               \n",
       "32 weekday_2      1            52 (14.2%)               \n",
       "33 weekday_3      1            52 (14.2%)               \n",
       "34 weekday_4      1            52 (14.2%)               \n",
       "35 weekday_5      1            52 (14.2%)               \n",
       "36 weekday_6      1            53 (14.5%)               \n",
       "37 weathersit_1   1            226 (61.9%)              \n",
       "38 weathersit_2   1            124 (34.0%)              \n",
       "39 weathersit_3   1            15 (4.1%)                \n",
       "40 traintest_ind_ Mean (SD)    1.3 (0.5)                \n",
       "41 traintest_ind_ Median (IQR) 1.0 (1.0-2.0)            \n",
       "   1                         2                         pval \n",
       "1  255                       110                       NA   \n",
       "2  183.7 (105.0)             181.4 (107.2)             NA   \n",
       "3  181.0 (92.5-272.5)        184.5 (88.0-277.0)        0.854\n",
       "4  5 (2.0%)                  5 (4.5%)                  0.166\n",
       "5  175 (68.6%)               75 (68.2%)                1    \n",
       "6  0.5 (0.2)                 0.5 (0.2)                 NA   \n",
       "7  0.5 (0.3-0.7)             0.5 (0.3-0.7)             0.633\n",
       "8  0.6 (0.2)                 0.7 (0.1)                 NA   \n",
       "9  0.6 (0.5-0.7)             0.6 (0.5-0.7)             0.53 \n",
       "10 0.2 (0.1)                 0.2 (0.1)                 NA   \n",
       "11 0.2 (0.1-0.2)             0.2 (0.1-0.2)             0.704\n",
       "12 3,443.5 (1,363.5)         3,318.2 (1,415.8)         NA   \n",
       "13 3,750.0 (2,185.5-4,591.0) 3,577.5 (1,916.5-4,546.2) 0.426\n",
       "14 62 (24.3%)                28 (25.5%)                0.921\n",
       "15 67 (26.3%)                25 (22.7%)                0.559\n",
       "16 65 (25.5%)                29 (26.4%)                0.964\n",
       "17 61 (23.9%)                28 (25.5%)                0.857\n",
       "18 20 (7.8%)                 11 (10.0%)                0.636\n",
       "19 18 (7.1%)                 10 (9.1%)                 0.649\n",
       "20 24 (9.4%)                 7 (6.4%)                  0.451\n",
       "21 20 (7.8%)                 10 (9.1%)                 0.849\n",
       "22 23 (9.0%)                 8 (7.3%)                  0.73 \n",
       "23 23 (9.0%)                 7 (6.4%)                  0.522\n",
       "24 20 (7.8%)                 11 (10.0%)                0.636\n",
       "25 24 (9.4%)                 7 (6.4%)                  0.451\n",
       "26 20 (7.8%)                 10 (9.1%)                 0.849\n",
       "27 21 (8.2%)                 10 (9.1%)                 0.949\n",
       "28 18 (7.1%)                 12 (10.9%)                0.307\n",
       "29 24 (9.4%)                 7 (6.4%)                  0.451\n",
       "30 36 (14.1%)                16 (14.5%)                1    \n",
       "31 34 (13.3%)                18 (16.4%)                0.551\n",
       "32 36 (14.1%)                16 (14.5%)                1    \n",
       "33 34 (13.3%)                18 (16.4%)                0.551\n",
       "34 38 (14.9%)                14 (12.7%)                0.702\n",
       "35 38 (14.9%)                14 (12.7%)                0.702\n",
       "36 39 (15.3%)                14 (12.7%)                0.633\n",
       "37 153 (60.0%)               73 (66.4%)                0.302\n",
       "38 93 (36.5%)                31 (28.2%)                0.157\n",
       "39 9 (3.5%)                  6 (5.5%)                  0.574\n",
       "40 NA                        NA                        NA   \n",
       "41 NA                        NA                        0    "
      ]
     },
     "metadata": {},
     "output_type": "display_data"
    }
   ],
   "source": [
    "tab1 <- train_test(data=df, train_name=\"train\", test_name=\"test\", prop=0.7, seed=5, tableone=TRUE)\n",
    "tab1"
   ]
  },
  {
   "cell_type": "code",
   "execution_count": 7,
   "metadata": {},
   "outputs": [],
   "source": [
    "### Table of resulting errors\n",
    "### Name, Model, RMSE, RMSLE\n",
    "err_res <- NULL"
   ]
  },
  {
   "cell_type": "code",
   "execution_count": 8,
   "metadata": {},
   "outputs": [],
   "source": [
    "### The error we will use is the RMSE and RMSLE\n",
    "rmse <- function(y,y_hat) {\n",
    "    err <- sqrt(sum((y_hat-y)^2,na.rm=T)/length(y))\n",
    "    return(err)\n",
    "}\n",
    "\n",
    "rmsle <- function(y,y_hat) {\n",
    "    err <- sqrt(sum((log(y_hat+1)-log(y+1))^2,na.rm=T)/length(y))\n",
    "    return(err)\n",
    "}\n"
   ]
  },
  {
   "cell_type": "markdown",
   "metadata": {},
   "source": [
    "## XGBoost"
   ]
  },
  {
   "cell_type": "code",
   "execution_count": 9,
   "metadata": {},
   "outputs": [
    {
     "name": "stderr",
     "output_type": "stream",
     "text": [
      "Warning message:\n",
      "\"package 'xgboost' was built under R version 4.0.3\"\n",
      "\n",
      "Attaching package: 'xgboost'\n",
      "\n",
      "\n",
      "The following object is masked from 'package:dplyr':\n",
      "\n",
      "    slice\n",
      "\n",
      "\n"
     ]
    }
   ],
   "source": [
    "#install.packages(\"xgboost\")\n",
    "library(xgboost)"
   ]
  },
  {
   "cell_type": "code",
   "execution_count": 12,
   "metadata": {},
   "outputs": [
    {
     "data": {
      "text/html": [
       "<style>\n",
       ".list-inline {list-style: none; margin:0; padding: 0}\n",
       ".list-inline>li {display: inline-block}\n",
       ".list-inline>li:not(:last-child)::after {content: \"\\00b7\"; padding: 0 .5ex}\n",
       "</style>\n",
       "<ol class=list-inline><li>'holiday'</li><li>'workingday'</li><li>'temp'</li><li>'hum'</li><li>'windspeed'</li><li>'season_1'</li><li>'season_2'</li><li>'season_3'</li><li>'season_4'</li><li>'mnth_1'</li><li>'mnth_2'</li><li>'mnth_3'</li><li>'mnth_4'</li><li>'mnth_5'</li><li>'mnth_6'</li><li>'mnth_7'</li><li>'mnth_8'</li><li>'mnth_9'</li><li>'mnth_10'</li><li>'mnth_11'</li><li>'mnth_12'</li><li>'weekday_0'</li><li>'weekday_1'</li><li>'weekday_2'</li><li>'weekday_3'</li><li>'weekday_4'</li><li>'weekday_5'</li><li>'weekday_6'</li><li>'weathersit_1'</li><li>'weathersit_2'</li><li>'weathersit_3'</li></ol>\n"
      ],
      "text/latex": [
       "\\begin{enumerate*}\n",
       "\\item 'holiday'\n",
       "\\item 'workingday'\n",
       "\\item 'temp'\n",
       "\\item 'hum'\n",
       "\\item 'windspeed'\n",
       "\\item 'season\\_1'\n",
       "\\item 'season\\_2'\n",
       "\\item 'season\\_3'\n",
       "\\item 'season\\_4'\n",
       "\\item 'mnth\\_1'\n",
       "\\item 'mnth\\_2'\n",
       "\\item 'mnth\\_3'\n",
       "\\item 'mnth\\_4'\n",
       "\\item 'mnth\\_5'\n",
       "\\item 'mnth\\_6'\n",
       "\\item 'mnth\\_7'\n",
       "\\item 'mnth\\_8'\n",
       "\\item 'mnth\\_9'\n",
       "\\item 'mnth\\_10'\n",
       "\\item 'mnth\\_11'\n",
       "\\item 'mnth\\_12'\n",
       "\\item 'weekday\\_0'\n",
       "\\item 'weekday\\_1'\n",
       "\\item 'weekday\\_2'\n",
       "\\item 'weekday\\_3'\n",
       "\\item 'weekday\\_4'\n",
       "\\item 'weekday\\_5'\n",
       "\\item 'weekday\\_6'\n",
       "\\item 'weathersit\\_1'\n",
       "\\item 'weathersit\\_2'\n",
       "\\item 'weathersit\\_3'\n",
       "\\end{enumerate*}\n"
      ],
      "text/markdown": [
       "1. 'holiday'\n",
       "2. 'workingday'\n",
       "3. 'temp'\n",
       "4. 'hum'\n",
       "5. 'windspeed'\n",
       "6. 'season_1'\n",
       "7. 'season_2'\n",
       "8. 'season_3'\n",
       "9. 'season_4'\n",
       "10. 'mnth_1'\n",
       "11. 'mnth_2'\n",
       "12. 'mnth_3'\n",
       "13. 'mnth_4'\n",
       "14. 'mnth_5'\n",
       "15. 'mnth_6'\n",
       "16. 'mnth_7'\n",
       "17. 'mnth_8'\n",
       "18. 'mnth_9'\n",
       "19. 'mnth_10'\n",
       "20. 'mnth_11'\n",
       "21. 'mnth_12'\n",
       "22. 'weekday_0'\n",
       "23. 'weekday_1'\n",
       "24. 'weekday_2'\n",
       "25. 'weekday_3'\n",
       "26. 'weekday_4'\n",
       "27. 'weekday_5'\n",
       "28. 'weekday_6'\n",
       "29. 'weathersit_1'\n",
       "30. 'weathersit_2'\n",
       "31. 'weathersit_3'\n",
       "\n",
       "\n"
      ],
      "text/plain": [
       " [1] \"holiday\"      \"workingday\"   \"temp\"         \"hum\"          \"windspeed\"   \n",
       " [6] \"season_1\"     \"season_2\"     \"season_3\"     \"season_4\"     \"mnth_1\"      \n",
       "[11] \"mnth_2\"       \"mnth_3\"       \"mnth_4\"       \"mnth_5\"       \"mnth_6\"      \n",
       "[16] \"mnth_7\"       \"mnth_8\"       \"mnth_9\"       \"mnth_10\"      \"mnth_11\"     \n",
       "[21] \"mnth_12\"      \"weekday_0\"    \"weekday_1\"    \"weekday_2\"    \"weekday_3\"   \n",
       "[26] \"weekday_4\"    \"weekday_5\"    \"weekday_6\"    \"weathersit_1\" \"weathersit_2\"\n",
       "[31] \"weathersit_3\""
      ]
     },
     "metadata": {},
     "output_type": "display_data"
    }
   ],
   "source": [
    "cnames = names(train)\n",
    "cnames <- cnames[c(2:33)]\n",
    "best_comb <- cnames\n",
    "best_comb <- best_comb[ best_comb != 'cnt' ]\n",
    "best_comb\n",
    "\n"
   ]
  },
  {
   "cell_type": "code",
   "execution_count": 11,
   "metadata": {},
   "outputs": [
    {
     "name": "stderr",
     "output_type": "stream",
     "text": [
      "Loading required package: svMisc\n",
      "\n",
      "Warning message:\n",
      "\"package 'svMisc' was built under R version 4.0.3\"\n",
      "\n",
      "Attaching package: 'svMisc'\n",
      "\n",
      "\n",
      "The following object is masked from 'package:utils':\n",
      "\n",
      "    ?\n",
      "\n",
      "\n"
     ]
    }
   ],
   "source": [
    "# install.packages(\"svMisc\")\n",
    "require(svMisc)"
   ]
  },
  {
   "cell_type": "code",
   "execution_count": 13,
   "metadata": {},
   "outputs": [
    {
     "name": "stdout",
     "output_type": "stream",
     "text": [
      "[1]\ttrain-rmse:2641.310791 \n",
      "Will train until train_rmse hasn't improved in 10 rounds.\n",
      "\n",
      "[101]\ttrain-rmse:1.367954 \n",
      "[201]\ttrain-rmse:0.016174 \n",
      "Stopping. Best iteration:\n",
      "[270]\ttrain-rmse:0.001273\n",
      "\n"
     ]
    },
    {
     "data": {
      "text/html": [
       "606.810179092226"
      ],
      "text/latex": [
       "606.810179092226"
      ],
      "text/markdown": [
       "606.810179092226"
      ],
      "text/plain": [
       "[1] 606.8102"
      ]
     },
     "metadata": {},
     "output_type": "display_data"
    },
    {
     "data": {
      "text/html": [
       "0.285055198958031"
      ],
      "text/latex": [
       "0.285055198958031"
      ],
      "text/markdown": [
       "0.285055198958031"
      ],
      "text/plain": [
       "[1] 0.2850552"
      ]
     },
     "metadata": {},
     "output_type": "display_data"
    }
   ],
   "source": [
    "\n",
    "err_res <- NULL\n",
    "\n",
    "    \n",
    "outcome <- \"cnt\"\n",
    "variables <- best_comb\n",
    "f <- as.formula( paste(outcome,  paste(variables, collapse = \" + \"), sep = \" ~ \"))\n",
    "\n",
    "train1 <- Matrix::sparse.model.matrix(f, data = train)\n",
    "test1 <- Matrix::sparse.model.matrix(f, data = test)\n",
    "\n",
    "X_train <- train1\n",
    "y_train <- train$cnt\n",
    "mod7 <- xgboost(data=X_train,label=y_train, nrounds=1000,print_every_n = 100, early_stopping_rounds=10)\n",
    "#X_test <- xgb.DMatrix(test1)\n",
    "X_test <- test1\n",
    "y_test <- test$cnt\n",
    "\n",
    "pred7 <- predict(mod7,newdata=X_test)\n",
    "rmse(y_test,pred7)\n",
    "rmsle(y_test,pred7)\n",
    "err_res <- rbind(err_res, data.frame(Name=\"XGBoost\", Model=\"mod7\", \n",
    "                                     RMSE=rmse(test$cnt,pred7), \n",
    "                                     RMSLE=rmsle(test$cnt,pred7)))\n",
    "\n",
    "\n"
   ]
  },
  {
   "cell_type": "code",
   "execution_count": 14,
   "metadata": {},
   "outputs": [
    {
     "data": {
      "text/html": [
       "<table>\n",
       "<caption>A data.frame: 1 × 5</caption>\n",
       "<thead>\n",
       "\t<tr><th></th><th scope=col>id</th><th scope=col>Name</th><th scope=col>Model</th><th scope=col>RMSE</th><th scope=col>RMSLE</th></tr>\n",
       "\t<tr><th></th><th scope=col>&lt;chr&gt;</th><th scope=col>&lt;chr&gt;</th><th scope=col>&lt;chr&gt;</th><th scope=col>&lt;dbl&gt;</th><th scope=col>&lt;dbl&gt;</th></tr>\n",
       "</thead>\n",
       "<tbody>\n",
       "\t<tr><th scope=row>1</th><td>1</td><td>XGBoost</td><td>mod7</td><td>606.8102</td><td>0.2850552</td></tr>\n",
       "</tbody>\n",
       "</table>\n"
      ],
      "text/latex": [
       "A data.frame: 1 × 5\n",
       "\\begin{tabular}{r|lllll}\n",
       "  & id & Name & Model & RMSE & RMSLE\\\\\n",
       "  & <chr> & <chr> & <chr> & <dbl> & <dbl>\\\\\n",
       "\\hline\n",
       "\t1 & 1 & XGBoost & mod7 & 606.8102 & 0.2850552\\\\\n",
       "\\end{tabular}\n"
      ],
      "text/markdown": [
       "\n",
       "A data.frame: 1 × 5\n",
       "\n",
       "| <!--/--> | id &lt;chr&gt; | Name &lt;chr&gt; | Model &lt;chr&gt; | RMSE &lt;dbl&gt; | RMSLE &lt;dbl&gt; |\n",
       "|---|---|---|---|---|---|\n",
       "| 1 | 1 | XGBoost | mod7 | 606.8102 | 0.2850552 |\n",
       "\n"
      ],
      "text/plain": [
       "  id Name    Model RMSE     RMSLE    \n",
       "1 1  XGBoost mod7  606.8102 0.2850552"
      ]
     },
     "metadata": {},
     "output_type": "display_data"
    }
   ],
   "source": [
    "\n",
    "err_res_df <- bind_rows(err_res, .id = \"id\")\n",
    "err_res_df[order(err_res_df$RMSLE),]"
   ]
  },
  {
   "cell_type": "code",
   "execution_count": 15,
   "metadata": {},
   "outputs": [
    {
     "data": {
      "text/html": [
       "<style>\n",
       ".list-inline {list-style: none; margin:0; padding: 0}\n",
       ".list-inline>li {display: inline-block}\n",
       ".list-inline>li:not(:last-child)::after {content: \"\\00b7\"; padding: 0 .5ex}\n",
       "</style>\n",
       "<ol class=list-inline><li>'holiday'</li><li>'workingday'</li><li>'temp'</li><li>'hum'</li><li>'windspeed'</li><li>'season_1'</li><li>'season_2'</li><li>'season_3'</li><li>'season_4'</li><li>'mnth_1'</li><li>'mnth_2'</li><li>'mnth_3'</li><li>'mnth_4'</li><li>'mnth_5'</li><li>'mnth_6'</li><li>'mnth_7'</li><li>'mnth_8'</li><li>'mnth_9'</li><li>'mnth_10'</li><li>'mnth_11'</li><li>'mnth_12'</li><li>'weekday_0'</li><li>'weekday_1'</li><li>'weekday_2'</li><li>'weekday_3'</li><li>'weekday_4'</li><li>'weekday_5'</li><li>'weekday_6'</li><li>'weathersit_1'</li><li>'weathersit_2'</li><li>'weathersit_3'</li></ol>\n"
      ],
      "text/latex": [
       "\\begin{enumerate*}\n",
       "\\item 'holiday'\n",
       "\\item 'workingday'\n",
       "\\item 'temp'\n",
       "\\item 'hum'\n",
       "\\item 'windspeed'\n",
       "\\item 'season\\_1'\n",
       "\\item 'season\\_2'\n",
       "\\item 'season\\_3'\n",
       "\\item 'season\\_4'\n",
       "\\item 'mnth\\_1'\n",
       "\\item 'mnth\\_2'\n",
       "\\item 'mnth\\_3'\n",
       "\\item 'mnth\\_4'\n",
       "\\item 'mnth\\_5'\n",
       "\\item 'mnth\\_6'\n",
       "\\item 'mnth\\_7'\n",
       "\\item 'mnth\\_8'\n",
       "\\item 'mnth\\_9'\n",
       "\\item 'mnth\\_10'\n",
       "\\item 'mnth\\_11'\n",
       "\\item 'mnth\\_12'\n",
       "\\item 'weekday\\_0'\n",
       "\\item 'weekday\\_1'\n",
       "\\item 'weekday\\_2'\n",
       "\\item 'weekday\\_3'\n",
       "\\item 'weekday\\_4'\n",
       "\\item 'weekday\\_5'\n",
       "\\item 'weekday\\_6'\n",
       "\\item 'weathersit\\_1'\n",
       "\\item 'weathersit\\_2'\n",
       "\\item 'weathersit\\_3'\n",
       "\\end{enumerate*}\n"
      ],
      "text/markdown": [
       "1. 'holiday'\n",
       "2. 'workingday'\n",
       "3. 'temp'\n",
       "4. 'hum'\n",
       "5. 'windspeed'\n",
       "6. 'season_1'\n",
       "7. 'season_2'\n",
       "8. 'season_3'\n",
       "9. 'season_4'\n",
       "10. 'mnth_1'\n",
       "11. 'mnth_2'\n",
       "12. 'mnth_3'\n",
       "13. 'mnth_4'\n",
       "14. 'mnth_5'\n",
       "15. 'mnth_6'\n",
       "16. 'mnth_7'\n",
       "17. 'mnth_8'\n",
       "18. 'mnth_9'\n",
       "19. 'mnth_10'\n",
       "20. 'mnth_11'\n",
       "21. 'mnth_12'\n",
       "22. 'weekday_0'\n",
       "23. 'weekday_1'\n",
       "24. 'weekday_2'\n",
       "25. 'weekday_3'\n",
       "26. 'weekday_4'\n",
       "27. 'weekday_5'\n",
       "28. 'weekday_6'\n",
       "29. 'weathersit_1'\n",
       "30. 'weathersit_2'\n",
       "31. 'weathersit_3'\n",
       "\n",
       "\n"
      ],
      "text/plain": [
       " [1] \"holiday\"      \"workingday\"   \"temp\"         \"hum\"          \"windspeed\"   \n",
       " [6] \"season_1\"     \"season_2\"     \"season_3\"     \"season_4\"     \"mnth_1\"      \n",
       "[11] \"mnth_2\"       \"mnth_3\"       \"mnth_4\"       \"mnth_5\"       \"mnth_6\"      \n",
       "[16] \"mnth_7\"       \"mnth_8\"       \"mnth_9\"       \"mnth_10\"      \"mnth_11\"     \n",
       "[21] \"mnth_12\"      \"weekday_0\"    \"weekday_1\"    \"weekday_2\"    \"weekday_3\"   \n",
       "[26] \"weekday_4\"    \"weekday_5\"    \"weekday_6\"    \"weathersit_1\" \"weathersit_2\"\n",
       "[31] \"weathersit_3\""
      ]
     },
     "metadata": {},
     "output_type": "display_data"
    }
   ],
   "source": [
    "\n",
    "best_comb"
   ]
  },
  {
   "cell_type": "code",
   "execution_count": 16,
   "metadata": {},
   "outputs": [
    {
     "name": "stdout",
     "output_type": "stream",
     "text": [
      "cnt ~ holiday + workingday + temp + hum + windspeed + season_1 + \n",
      "    season_2 + season_3 + season_4 + mnth_1 + mnth_2 + mnth_3 + \n",
      "    mnth_4 + mnth_5 + mnth_6 + mnth_7 + mnth_8 + mnth_9 + mnth_10 + \n",
      "    mnth_11 + mnth_12 + weekday_0 + weekday_1 + weekday_2 + weekday_3 + \n",
      "    weekday_4 + weekday_5 + weekday_6 + weathersit_1 + weathersit_2 + \n",
      "    weathersit_3\n"
     ]
    }
   ],
   "source": [
    "# specifications of how to model,\n",
    "# coming from somewhere else\n",
    "outcome <- \"cnt\"\n",
    "\n",
    "best_comb <- unlist(best_comb)\n",
    "\n",
    "\n",
    "f <- as.formula(\n",
    "  paste(outcome, \n",
    "        paste(best_comb, collapse = \" + \"), \n",
    "        sep = \" ~ \"))\n",
    "print(f)\n"
   ]
  },
  {
   "cell_type": "code",
   "execution_count": 21,
   "metadata": {},
   "outputs": [
    {
     "data": {
      "text/html": [
       "<table>\n",
       "<caption>A data.frame: 6 × 11</caption>\n",
       "<thead>\n",
       "\t<tr><th></th><th scope=col>id</th><th scope=col>season</th><th scope=col>mnth</th><th scope=col>holiday</th><th scope=col>weekday</th><th scope=col>workingday</th><th scope=col>weathersit</th><th scope=col>temp</th><th scope=col>atemp</th><th scope=col>hum</th><th scope=col>windspeed</th></tr>\n",
       "\t<tr><th></th><th scope=col>&lt;int&gt;</th><th scope=col>&lt;int&gt;</th><th scope=col>&lt;int&gt;</th><th scope=col>&lt;int&gt;</th><th scope=col>&lt;int&gt;</th><th scope=col>&lt;int&gt;</th><th scope=col>&lt;int&gt;</th><th scope=col>&lt;dbl&gt;</th><th scope=col>&lt;dbl&gt;</th><th scope=col>&lt;dbl&gt;</th><th scope=col>&lt;dbl&gt;</th></tr>\n",
       "</thead>\n",
       "<tbody>\n",
       "\t<tr><th scope=row>1</th><td>366</td><td>1</td><td>1</td><td>0</td><td>0</td><td>0</td><td>1</td><td>0.370000</td><td>0.375621</td><td>0.692500</td><td>0.192167</td></tr>\n",
       "\t<tr><th scope=row>2</th><td>367</td><td>1</td><td>1</td><td>1</td><td>1</td><td>0</td><td>1</td><td>0.273043</td><td>0.252304</td><td>0.381304</td><td>0.329665</td></tr>\n",
       "\t<tr><th scope=row>3</th><td>368</td><td>1</td><td>1</td><td>0</td><td>2</td><td>1</td><td>1</td><td>0.150000</td><td>0.126275</td><td>0.441250</td><td>0.365671</td></tr>\n",
       "\t<tr><th scope=row>4</th><td>369</td><td>1</td><td>1</td><td>0</td><td>3</td><td>1</td><td>2</td><td>0.107500</td><td>0.119337</td><td>0.414583</td><td>0.184700</td></tr>\n",
       "\t<tr><th scope=row>5</th><td>370</td><td>1</td><td>1</td><td>0</td><td>4</td><td>1</td><td>1</td><td>0.265833</td><td>0.278412</td><td>0.524167</td><td>0.129987</td></tr>\n",
       "\t<tr><th scope=row>6</th><td>371</td><td>1</td><td>1</td><td>0</td><td>5</td><td>1</td><td>1</td><td>0.334167</td><td>0.340267</td><td>0.542083</td><td>0.167908</td></tr>\n",
       "</tbody>\n",
       "</table>\n"
      ],
      "text/latex": [
       "A data.frame: 6 × 11\n",
       "\\begin{tabular}{r|lllllllllll}\n",
       "  & id & season & mnth & holiday & weekday & workingday & weathersit & temp & atemp & hum & windspeed\\\\\n",
       "  & <int> & <int> & <int> & <int> & <int> & <int> & <int> & <dbl> & <dbl> & <dbl> & <dbl>\\\\\n",
       "\\hline\n",
       "\t1 & 366 & 1 & 1 & 0 & 0 & 0 & 1 & 0.370000 & 0.375621 & 0.692500 & 0.192167\\\\\n",
       "\t2 & 367 & 1 & 1 & 1 & 1 & 0 & 1 & 0.273043 & 0.252304 & 0.381304 & 0.329665\\\\\n",
       "\t3 & 368 & 1 & 1 & 0 & 2 & 1 & 1 & 0.150000 & 0.126275 & 0.441250 & 0.365671\\\\\n",
       "\t4 & 369 & 1 & 1 & 0 & 3 & 1 & 2 & 0.107500 & 0.119337 & 0.414583 & 0.184700\\\\\n",
       "\t5 & 370 & 1 & 1 & 0 & 4 & 1 & 1 & 0.265833 & 0.278412 & 0.524167 & 0.129987\\\\\n",
       "\t6 & 371 & 1 & 1 & 0 & 5 & 1 & 1 & 0.334167 & 0.340267 & 0.542083 & 0.167908\\\\\n",
       "\\end{tabular}\n"
      ],
      "text/markdown": [
       "\n",
       "A data.frame: 6 × 11\n",
       "\n",
       "| <!--/--> | id &lt;int&gt; | season &lt;int&gt; | mnth &lt;int&gt; | holiday &lt;int&gt; | weekday &lt;int&gt; | workingday &lt;int&gt; | weathersit &lt;int&gt; | temp &lt;dbl&gt; | atemp &lt;dbl&gt; | hum &lt;dbl&gt; | windspeed &lt;dbl&gt; |\n",
       "|---|---|---|---|---|---|---|---|---|---|---|---|\n",
       "| 1 | 366 | 1 | 1 | 0 | 0 | 0 | 1 | 0.370000 | 0.375621 | 0.692500 | 0.192167 |\n",
       "| 2 | 367 | 1 | 1 | 1 | 1 | 0 | 1 | 0.273043 | 0.252304 | 0.381304 | 0.329665 |\n",
       "| 3 | 368 | 1 | 1 | 0 | 2 | 1 | 1 | 0.150000 | 0.126275 | 0.441250 | 0.365671 |\n",
       "| 4 | 369 | 1 | 1 | 0 | 3 | 1 | 2 | 0.107500 | 0.119337 | 0.414583 | 0.184700 |\n",
       "| 5 | 370 | 1 | 1 | 0 | 4 | 1 | 1 | 0.265833 | 0.278412 | 0.524167 | 0.129987 |\n",
       "| 6 | 371 | 1 | 1 | 0 | 5 | 1 | 1 | 0.334167 | 0.340267 | 0.542083 | 0.167908 |\n",
       "\n"
      ],
      "text/plain": [
       "  id  season mnth holiday weekday workingday weathersit temp     atemp   \n",
       "1 366 1      1    0       0       0          1          0.370000 0.375621\n",
       "2 367 1      1    1       1       0          1          0.273043 0.252304\n",
       "3 368 1      1    0       2       1          1          0.150000 0.126275\n",
       "4 369 1      1    0       3       1          2          0.107500 0.119337\n",
       "5 370 1      1    0       4       1          1          0.265833 0.278412\n",
       "6 371 1      1    0       5       1          1          0.334167 0.340267\n",
       "  hum      windspeed\n",
       "1 0.692500 0.192167 \n",
       "2 0.381304 0.329665 \n",
       "3 0.441250 0.365671 \n",
       "4 0.414583 0.184700 \n",
       "5 0.524167 0.129987 \n",
       "6 0.542083 0.167908 "
      ]
     },
     "metadata": {},
     "output_type": "display_data"
    },
    {
     "data": {
      "text/html": [
       "<style>\n",
       ".list-inline {list-style: none; margin:0; padding: 0}\n",
       ".list-inline>li {display: inline-block}\n",
       ".list-inline>li:not(:last-child)::after {content: \"\\00b7\"; padding: 0 .5ex}\n",
       "</style>\n",
       "<ol class=list-inline><li>366</li><li>11</li></ol>\n"
      ],
      "text/latex": [
       "\\begin{enumerate*}\n",
       "\\item 366\n",
       "\\item 11\n",
       "\\end{enumerate*}\n"
      ],
      "text/markdown": [
       "1. 366\n",
       "2. 11\n",
       "\n",
       "\n"
      ],
      "text/plain": [
       "[1] 366  11"
      ]
     },
     "metadata": {},
     "output_type": "display_data"
    }
   ],
   "source": [
    "real_test <- read.csv(\"test.csv\")\n",
    "head(real_test)\n",
    "dim(real_test)"
   ]
  },
  {
   "cell_type": "code",
   "execution_count": 22,
   "metadata": {},
   "outputs": [],
   "source": [
    "real_test[\"season_1\"] = as.integer(real_test$season == 1)\n",
    "real_test[\"season_2\"] = as.integer(real_test$season == 2)\n",
    "real_test[\"season_3\"] = as.integer(real_test$season == 3)\n",
    "real_test[\"season_4\"] = as.integer(real_test$season == 4)\n",
    "\n",
    "real_test[\"mnth_1\"] = as.integer(real_test$mnth == 1)\n",
    "real_test[\"mnth_2\"] = as.integer(real_test$mnth == 2)\n",
    "real_test[\"mnth_3\"] = as.integer(real_test$mnth == 3)\n",
    "real_test[\"mnth_4\"] = as.integer(real_test$mnth == 4)\n",
    "real_test[\"mnth_5\"] = as.integer(real_test$mnth == 5)\n",
    "real_test[\"mnth_6\"] = as.integer(real_test$mnth == 6)\n",
    "real_test[\"mnth_7\"] = as.integer(real_test$mnth == 7)\n",
    "real_test[\"mnth_8\"] = as.integer(real_test$mnth == 8)\n",
    "real_test[\"mnth_9\"] = as.integer(real_test$mnth == 9)\n",
    "real_test[\"mnth_10\"] = as.integer(real_test$mnth == 10)\n",
    "real_test[\"mnth_11\"] = as.integer(real_test$mnth == 11)\n",
    "real_test[\"mnth_12\"] = as.integer(real_test$mnth == 12)\n",
    "\n",
    "real_test[\"weekday_0\"] = as.integer(real_test$weekday == 0)\n",
    "real_test[\"weekday_1\"] = as.integer(real_test$weekday == 1)\n",
    "real_test[\"weekday_2\"] = as.integer(real_test$weekday == 2)\n",
    "real_test[\"weekday_3\"] = as.integer(real_test$weekday == 3)\n",
    "real_test[\"weekday_4\"] = as.integer(real_test$weekday == 4)\n",
    "real_test[\"weekday_5\"] = as.integer(real_test$weekday == 5)\n",
    "real_test[\"weekday_6\"] = as.integer(real_test$weekday == 6)\n",
    "\n",
    "real_test[\"weathersit_1\"] = as.integer(real_test$weathersit == 1)\n",
    "real_test[\"weathersit_2\"] = as.integer(real_test$weathersit == 2)\n",
    "real_test[\"weathersit_3\"] = as.integer(real_test$weathersit == 3)\n",
    "\n",
    "real_test[\"mnth\"] <- NULL\n",
    "real_test[\"weathersit\"] <- NULL\n",
    "real_test[\"weekday\"] <- NULL\n",
    "real_test[\"season\"] <- NULL\n",
    "real_test[\"atemp\"] <- NULL"
   ]
  },
  {
   "cell_type": "code",
   "execution_count": 23,
   "metadata": {},
   "outputs": [],
   "source": [
    "real_test$holiday <- as.factor(real_test$holiday)\n",
    "real_test$workingday <- as.factor(real_test$workingday)\n",
    "\n",
    "real_test[\"season_1\"] = as.factor(real_test$season_1)\n",
    "real_test[\"season_2\"] = as.factor(real_test$season_2)\n",
    "real_test[\"season_3\"] = as.factor(real_test$season_3)\n",
    "real_test[\"season_4\"] = as.factor(real_test$season_4)\n",
    "\n",
    "real_test[\"mnth_1\"] = as.factor(real_test$mnth_1)\n",
    "real_test[\"mnth_2\"] = as.factor(real_test$mnth_2)\n",
    "real_test[\"mnth_3\"] = as.factor(real_test$mnth_3)\n",
    "real_test[\"mnth_4\"] = as.factor(real_test$mnth_4)\n",
    "real_test[\"mnth_5\"] = as.factor(real_test$mnth_5)\n",
    "real_test[\"mnth_6\"] = as.factor(real_test$mnth_6)\n",
    "real_test[\"mnth_7\"] = as.factor(real_test$mnth_7)\n",
    "real_test[\"mnth_8\"] = as.factor(real_test$mnth_8)\n",
    "real_test[\"mnth_9\"] = as.factor(real_test$mnth_9)\n",
    "real_test[\"mnth_10\"] = as.factor(real_test$mnth_10)\n",
    "real_test[\"mnth_11\"] = as.factor(real_test$mnth_11)\n",
    "real_test[\"mnth_12\"] = as.factor(real_test$mnth_12)\n",
    "\n",
    "real_test[\"weekday_0\"] = as.factor(real_test$weekday_0)\n",
    "real_test[\"weekday_1\"] = as.factor(real_test$weekday_1)\n",
    "real_test[\"weekday_2\"] = as.factor(real_test$weekday_2)\n",
    "real_test[\"weekday_3\"] = as.factor(real_test$weekday_3)\n",
    "real_test[\"weekday_4\"] = as.factor(real_test$weekday_4)\n",
    "real_test[\"weekday_5\"] = as.factor(real_test$weekday_5)\n",
    "real_test[\"weekday_6\"] = as.factor(real_test$weekday_6)\n",
    "\n",
    "real_test[\"weathersit_1\"] = as.factor(real_test$weathersit_1)\n",
    "real_test[\"weathersit_2\"] = as.factor(real_test$weathersit_2)\n",
    "real_test[\"weathersit_3\"] = as.factor(real_test$weathersit_3)"
   ]
  },
  {
   "cell_type": "code",
   "execution_count": 24,
   "metadata": {},
   "outputs": [],
   "source": [
    "train1 <- Matrix::sparse.model.matrix(f, data = train)"
   ]
  },
  {
   "cell_type": "code",
   "execution_count": 71,
   "metadata": {},
   "outputs": [
    {
     "name": "stdout",
     "output_type": "stream",
     "text": [
      "[1]\ttrain-rmse:2642.383057 \n",
      "Will train until train_rmse hasn't improved in 10 rounds.\n",
      "\n",
      "[11]\ttrain-rmse:168.453461 \n",
      "[21]\ttrain-rmse:24.049065 \n",
      "[31]\ttrain-rmse:4.249831 \n",
      "[41]\ttrain-rmse:0.801421 \n",
      "[51]\ttrain-rmse:0.152873 \n",
      "[61]\ttrain-rmse:0.029598 \n",
      "[71]\ttrain-rmse:0.005802 \n",
      "[81]\ttrain-rmse:0.001272 \n",
      "[91]\ttrain-rmse:0.000688 \n",
      "Stopping. Best iteration:\n",
      "[89]\ttrain-rmse:0.000688\n",
      "\n"
     ]
    },
    {
     "data": {
      "text/plain": [
       "##### xgb.Booster\n",
       "raw: 699.6 Kb \n",
       "call:\n",
       "  xgb.train(params = params, data = dtrain, nrounds = nrounds, \n",
       "    watchlist = watchlist, verbose = verbose, print_every_n = print_every_n, \n",
       "    early_stopping_rounds = early_stopping_rounds, maximize = maximize, \n",
       "    save_period = save_period, save_name = save_name, xgb_model = xgb_model, \n",
       "    callbacks = callbacks, max_depth = 15, colsample_bytree = 0.7)\n",
       "params (as set within xgb.train):\n",
       "  max_depth = \"15\", colsample_bytree = \"0.7\", validate_parameters = \"1\"\n",
       "xgb.attributes:\n",
       "  best_iteration, best_msg, best_ntreelimit, best_score, niter\n",
       "callbacks:\n",
       "  cb.print.evaluation(period = print_every_n)\n",
       "  cb.evaluation.log()\n",
       "  cb.early.stop(stopping_rounds = early_stopping_rounds, maximize = maximize, \n",
       "    verbose = verbose)\n",
       "# of features: 32 \n",
       "niter: 99\n",
       "best_iteration : 89 \n",
       "best_ntreelimit : 89 \n",
       "best_score : 0.000688 \n",
       "best_msg : [89]\ttrain-rmse:0.000688 \n",
       "nfeatures : 32 \n",
       "evaluation_log:\n",
       "    iter  train_rmse\n",
       "       1 2642.383057\n",
       "       2 1896.829346\n",
       "---                 \n",
       "      98    0.000688\n",
       "      99    0.000688"
      ]
     },
     "metadata": {},
     "output_type": "display_data"
    }
   ],
   "source": [
    "\n",
    "#X_train <- xgb.DMatrix(train1)\n",
    "X_train <- train1\n",
    "y_train <- train$cnt\n",
    "set.seed(1)\n",
    "mod7 <- xgboost(data=X_train,label=y_train, nrounds=1000,print_every_n = 10,max_depth = 15, early_stopping_rounds=10,\n",
    "               colsample_bytree = 0.6\n",
    ")\n",
    "\n",
    "# set.seed(2018)\n",
    "# mod7 <- xgboost(data=X_train,label=y_train, eta = 0.1,\n",
    "# max_depth = 15, \n",
    "# nrounds=1000, \n",
    "# subsample = 0.5,\n",
    "# colsample_bytree = 0.5,\n",
    "# seed = 1,\n",
    "# eval_metric = \"merror\",\n",
    "# objective = \"multi:softprob\",\n",
    "# num_class = 12,\n",
    "# print_every_n = 10,\n",
    "# nthread = 3,\n",
    "# seed = 2018)\n",
    "\n",
    "\n",
    "mod7"
   ]
  },
  {
   "cell_type": "code",
   "execution_count": 58,
   "metadata": {},
   "outputs": [],
   "source": [
    "real_test$cnt = 0\n",
    "real_test_m <-  Matrix::sparse.model.matrix(f, data = real_test)"
   ]
  },
  {
   "cell_type": "code",
   "execution_count": 59,
   "metadata": {},
   "outputs": [
    {
     "data": {
      "text/html": [
       "366"
      ],
      "text/latex": [
       "366"
      ],
      "text/markdown": [
       "366"
      ],
      "text/plain": [
       "[1] 366"
      ]
     },
     "metadata": {},
     "output_type": "display_data"
    }
   ],
   "source": [
    "pred7 <- predict(mod7,newdata=real_test_m)\n",
    "length(pred7)"
   ]
  },
  {
   "cell_type": "code",
   "execution_count": 60,
   "metadata": {},
   "outputs": [],
   "source": [
    "real_test_sub <- real_test %>% select(id)\n",
    "real_test_sub$cnt <- pred7"
   ]
  },
  {
   "cell_type": "code",
   "execution_count": 61,
   "metadata": {},
   "outputs": [
    {
     "data": {
      "image/png": "[encoded data removed]",
      "text/plain": [
       "plot without title"
      ]
     },
     "metadata": {
      "image/png": {
       "height": 420,
       "width": 420
      }
     },
     "output_type": "display_data"
    }
   ],
   "source": [
    "\n",
    "\n",
    "plot(real_test_sub)"
   ]
  },
  {
   "cell_type": "code",
   "execution_count": 62,
   "metadata": {},
   "outputs": [],
   "source": [
    "write.csv(real_test_sub,\"C:\\\\Users\\\\ytsat\\\\Documents\\\\DataScience\\\\ML\\\\Kaggle_Challenge\\\\XGBoost_v2.csv\", row.names = FALSE)"
   ]
  },
  {
   "cell_type": "code",
   "execution_count": null,
   "metadata": {},
   "outputs": [],
   "source": []
  }
 ],
 "metadata": {
  "kernelspec": {
   "display_name": "R",
   "language": "R",
   "name": "ir"
  },
  "language_info": {
   "codemirror_mode": "r",
   "file_extension": ".r",
   "mimetype": "text/x-r-source",
   "name": "R",
   "pygments_lexer": "r",
   "version": "4.0.1"
  }
 },
 "nbformat": 4,
 "nbformat_minor": 2
}
