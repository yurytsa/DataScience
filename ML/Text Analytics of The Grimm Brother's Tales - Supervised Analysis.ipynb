{
 "cells": [
  {
   "cell_type": "markdown",
   "metadata": {},
   "source": [
    "# Text Analytics of The Grimm Brother's Tales\n",
    " \n",
    "## Supervised Analysis"
   ]
  },
  {
   "cell_type": "code",
   "execution_count": 1,
   "metadata": {},
   "outputs": [],
   "source": [
    "import pandas as pd\n",
    "from scipy.cluster.hierarchy import dendrogram, linkage\n",
    "from matplotlib import pyplot as plt"
   ]
  },
  {
   "cell_type": "code",
   "execution_count": 2,
   "metadata": {},
   "outputs": [
    {
     "data": {
      "text/plain": [
       "(42, 3910)"
      ]
     },
     "execution_count": 2,
     "metadata": {},
     "output_type": "execute_result"
    }
   ],
   "source": [
    "text_ff = pd.read_pickle(\"grimm_tales_ff.pckl\")\n",
    "text_ff.shape"
   ]
  },
  {
   "cell_type": "code",
   "execution_count": 3,
   "metadata": {},
   "outputs": [],
   "source": [
    "from sklearn.model_selection import train_test_split"
   ]
  },
  {
   "cell_type": "code",
   "execution_count": 4,
   "metadata": {},
   "outputs": [],
   "source": [
    "train, test = train_test_split(text_ff, test_size=0.30, random_state=4, shuffle=False)"
   ]
  },
  {
   "cell_type": "code",
   "execution_count": 5,
   "metadata": {},
   "outputs": [
    {
     "name": "stdout",
     "output_type": "stream",
     "text": [
      "(29, 3910)\n",
      "(13, 3910)\n"
     ]
    }
   ],
   "source": [
    "print(train.shape)\n",
    "print(test.shape)"
   ]
  },
  {
   "cell_type": "code",
   "execution_count": 6,
   "metadata": {},
   "outputs": [
    {
     "data": {
      "text/plain": [
       "label\n",
       "Animal Tales      12\n",
       "Tales of Magic    17\n",
       "Name: A, dtype: int64"
      ]
     },
     "execution_count": 6,
     "metadata": {},
     "output_type": "execute_result"
    }
   ],
   "source": [
    "train.groupby(train['label']).count()['A']"
   ]
  },
  {
   "cell_type": "code",
   "execution_count": 7,
   "metadata": {},
   "outputs": [
    {
     "data": {
      "text/plain": [
       "label\n",
       "Animal Tales      6\n",
       "Tales of Magic    7\n",
       "Name: A, dtype: int64"
      ]
     },
     "execution_count": 7,
     "metadata": {},
     "output_type": "execute_result"
    }
   ],
   "source": [
    "test.groupby(test['label']).count()['A']"
   ]
  },
  {
   "cell_type": "code",
   "execution_count": 8,
   "metadata": {},
   "outputs": [],
   "source": [
    "X_train = train.iloc[:,0:(train.shape[1]-1)]\n",
    "X_test = test.iloc[:,0:(test.shape[1]-1)]"
   ]
  },
  {
   "cell_type": "code",
   "execution_count": 9,
   "metadata": {},
   "outputs": [
    {
     "name": "stderr",
     "output_type": "stream",
     "text": [
      "C:\\Users\\Thomas\\anaconda3\\lib\\site-packages\\ipykernel_launcher.py:1: SettingWithCopyWarning: \n",
      "A value is trying to be set on a copy of a slice from a DataFrame.\n",
      "Try using .loc[row_indexer,col_indexer] = value instead\n",
      "\n",
      "See the caveats in the documentation: https://pandas.pydata.org/pandas-docs/stable/user_guide/indexing.html#returning-a-view-versus-a-copy\n",
      "  \"\"\"Entry point for launching an IPython kernel.\n",
      "C:\\Users\\Thomas\\anaconda3\\lib\\site-packages\\ipykernel_launcher.py:4: SettingWithCopyWarning: \n",
      "A value is trying to be set on a copy of a slice from a DataFrame.\n",
      "Try using .loc[row_indexer,col_indexer] = value instead\n",
      "\n",
      "See the caveats in the documentation: https://pandas.pydata.org/pandas-docs/stable/user_guide/indexing.html#returning-a-view-versus-a-copy\n",
      "  after removing the cwd from sys.path.\n"
     ]
    }
   ],
   "source": [
    "train['label'] = pd.Categorical(train['label'])\n",
    "y_train = train['label'].cat.codes\n",
    "\n",
    "test['label'] = pd.Categorical(test['label'])\n",
    "y_test = test['label'].cat.codes"
   ]
  },
  {
   "cell_type": "markdown",
   "metadata": {},
   "source": [
    "## Logistic Regression"
   ]
  },
  {
   "cell_type": "code",
   "execution_count": 10,
   "metadata": {},
   "outputs": [],
   "source": [
    "from sklearn.linear_model import LogisticRegression\n",
    "from sklearn.metrics import roc_auc_score"
   ]
  },
  {
   "cell_type": "code",
   "execution_count": 11,
   "metadata": {},
   "outputs": [
    {
     "name": "stdout",
     "output_type": "stream",
     "text": [
      "Train\n",
      "col_0   0   1\n",
      "row_0        \n",
      "0      12   0\n",
      "1       0  17\n",
      "---------------------------------\n",
      "Test\n",
      "col_0  0  1\n",
      "row_0      \n",
      "0      5  1\n",
      "1      2  5\n",
      "\n",
      "\n",
      "Accuracy - train: 1.000000\n",
      "Accuracy - test: 0.769231\n",
      "AUC - train: 1.000000\n",
      "AUC - test: 0.773810\n"
     ]
    }
   ],
   "source": [
    "mod1 = LogisticRegression(max_iter=10000)\n",
    "mod1.fit(X_train,y_train)\n",
    "\n",
    "yhat1 = mod1.predict(X_train)\n",
    "#yprob1 = mod1.predict_proba(X_train)\n",
    "print(\"Train\")\n",
    "print(pd.crosstab(y_train,yhat1))\n",
    "print(\"---------------------------------\")\n",
    "yhat2 = mod1.predict(X_test)\n",
    "print(\"Test\")\n",
    "print(pd.crosstab(y_test,yhat2))\n",
    "\n",
    "print(\"\\n\")\n",
    "### Accuracy:\n",
    "print(\"Accuracy - train: %f\" % mod1.score(X_train,y_train))\n",
    "print(\"Accuracy - test: %f\" % mod1.score(X_test,y_test))\n",
    "\n",
    "### AUC\n",
    "print(\"AUC - train: %f\" % roc_auc_score(y_train, yhat1))\n",
    "print(\"AUC - test: %f\" % roc_auc_score(y_test, yhat2))"
   ]
  },
  {
   "cell_type": "code",
   "execution_count": 12,
   "metadata": {},
   "outputs": [],
   "source": [
    "res = {1:{'model':'Logistic Regression - base model',\n",
    "           'accuracy-Train':mod1.score(X_train,y_train),\n",
    "           'accuracy-Test':mod1.score(X_test,y_test),\n",
    "           'AUC-train':roc_auc_score(y_train, yhat1),\n",
    "           'AUC-test':roc_auc_score(y_test, yhat2)\n",
    "      }}"
   ]
  },
  {
   "cell_type": "code",
   "execution_count": 13,
   "metadata": {},
   "outputs": [
    {
     "name": "stdout",
     "output_type": "stream",
     "text": [
      "Train\n",
      "col_0   0   1\n",
      "row_0        \n",
      "0      12   0\n",
      "1       0  17\n",
      "---------------------------------\n",
      "Test\n",
      "col_0  0  1\n",
      "row_0      \n",
      "0      1  5\n",
      "1      1  6\n",
      "\n",
      "\n",
      "Accuracy - train: 1.000000\n",
      "Accuracy - test: 0.538462\n",
      "AUC - train: 1.000000\n",
      "AUC - test: 0.511905\n"
     ]
    }
   ],
   "source": [
    "from sklearn.tree import DecisionTreeClassifier\n",
    "\n",
    "mod1 = DecisionTreeClassifier()\n",
    "mod1.fit(X_train,y_train)\n",
    "\n",
    "yhat1 = mod1.predict(X_train)\n",
    "#yprob1 = mod1.predict_proba(X_train)\n",
    "print(\"Train\")\n",
    "print(pd.crosstab(y_train,yhat1))\n",
    "print(\"---------------------------------\")\n",
    "yhat2 = mod1.predict(X_test)\n",
    "print(\"Test\")\n",
    "print(pd.crosstab(y_test,yhat2))\n",
    "\n",
    "print(\"\\n\")\n",
    "### Accuracy:\n",
    "print(\"Accuracy - train: %f\" % mod1.score(X_train,y_train))\n",
    "print(\"Accuracy - test: %f\" % mod1.score(X_test,y_test))\n",
    "\n",
    "### AUC\n",
    "print(\"AUC - train: %f\" % roc_auc_score(y_train, yhat1))\n",
    "print(\"AUC - test: %f\" % roc_auc_score(y_test, yhat2))"
   ]
  },
  {
   "cell_type": "code",
   "execution_count": 14,
   "metadata": {},
   "outputs": [],
   "source": [
    "res[2] = {'model':'Logistic DecisionTreeClassifier - base model',\n",
    "           'accuracy-Train':mod1.score(X_train,y_train),\n",
    "           'accuracy-Test':mod1.score(X_test,y_test),\n",
    "           'AUC-train':roc_auc_score(y_train, yhat1),\n",
    "           'AUC-test':roc_auc_score(y_test, yhat2)\n",
    "      }"
   ]
  },
  {
   "cell_type": "code",
   "execution_count": 15,
   "metadata": {},
   "outputs": [
    {
     "name": "stdout",
     "output_type": "stream",
     "text": [
      "Train\n",
      "col_0   0   1\n",
      "row_0        \n",
      "0      12   0\n",
      "1       0  17\n",
      "---------------------------------\n",
      "Test\n",
      "col_0  0  1\n",
      "row_0      \n",
      "0      5  1\n",
      "1      2  5\n",
      "\n",
      "\n",
      "Accuracy - train: 1.000000\n",
      "Accuracy - test: 0.769231\n",
      "AUC - train: 1.000000\n",
      "AUC - test: 0.773810\n"
     ]
    }
   ],
   "source": [
    "from sklearn.ensemble import RandomForestClassifier\n",
    "\n",
    "mod1 = RandomForestClassifier()\n",
    "mod1.fit(X_train,y_train)\n",
    "\n",
    "yhat1 = mod1.predict(X_train)\n",
    "#yprob1 = mod1.predict_proba(X_train)\n",
    "print(\"Train\")\n",
    "print(pd.crosstab(y_train,yhat1))\n",
    "print(\"---------------------------------\")\n",
    "yhat2 = mod1.predict(X_test)\n",
    "print(\"Test\")\n",
    "print(pd.crosstab(y_test,yhat2))\n",
    "\n",
    "print(\"\\n\")\n",
    "### Accuracy:\n",
    "print(\"Accuracy - train: %f\" % mod1.score(X_train,y_train))\n",
    "print(\"Accuracy - test: %f\" % mod1.score(X_test,y_test))\n",
    "\n",
    "### AUC\n",
    "print(\"AUC - train: %f\" % roc_auc_score(y_train, yhat1))\n",
    "print(\"AUC - test: %f\" % roc_auc_score(y_test, yhat2))"
   ]
  },
  {
   "cell_type": "code",
   "execution_count": 16,
   "metadata": {},
   "outputs": [],
   "source": [
    "res[3] = {'model':'RandomForestClassifier - base model',\n",
    "           'accuracy-Train':mod1.score(X_train,y_train),\n",
    "           'accuracy-Test':mod1.score(X_test,y_test),\n",
    "           'AUC-train':roc_auc_score(y_train, yhat1),\n",
    "           'AUC-test':roc_auc_score(y_test, yhat2)\n",
    "      }"
   ]
  },
  {
   "cell_type": "code",
   "execution_count": 17,
   "metadata": {},
   "outputs": [
    {
     "name": "stdout",
     "output_type": "stream",
     "text": [
      "Train\n",
      "col_0   0   1\n",
      "row_0        \n",
      "0      12   0\n",
      "1       0  17\n",
      "---------------------------------\n",
      "Test\n",
      "col_0  0  1\n",
      "row_0      \n",
      "0      1  5\n",
      "1      1  6\n",
      "\n",
      "\n",
      "Accuracy - train: 1.000000\n",
      "Accuracy - test: 0.538462\n",
      "AUC - train: 1.000000\n",
      "AUC - test: 0.511905\n"
     ]
    }
   ],
   "source": [
    "from sklearn.ensemble import AdaBoostClassifier\n",
    "\n",
    "mod1 = AdaBoostClassifier()\n",
    "mod1.fit(X_train,y_train)\n",
    "\n",
    "yhat1 = mod1.predict(X_train)\n",
    "#yprob1 = mod1.predict_proba(X_train)\n",
    "print(\"Train\")\n",
    "print(pd.crosstab(y_train,yhat1))\n",
    "print(\"---------------------------------\")\n",
    "yhat2 = mod1.predict(X_test)\n",
    "print(\"Test\")\n",
    "print(pd.crosstab(y_test,yhat2))\n",
    "\n",
    "print(\"\\n\")\n",
    "### Accuracy:\n",
    "print(\"Accuracy - train: %f\" % mod1.score(X_train,y_train))\n",
    "print(\"Accuracy - test: %f\" % mod1.score(X_test,y_test))\n",
    "\n",
    "### AUC\n",
    "print(\"AUC - train: %f\" % roc_auc_score(y_train, yhat1))\n",
    "print(\"AUC - test: %f\" % roc_auc_score(y_test, yhat2))\n",
    "\n",
    "res[4] = {'model':'AdaBoostClassifier - base model',\n",
    "           'accuracy-Train':mod1.score(X_train,y_train),\n",
    "           'accuracy-Test':mod1.score(X_test,y_test),\n",
    "           'AUC-train':roc_auc_score(y_train, yhat1),\n",
    "           'AUC-test':roc_auc_score(y_test, yhat2)\n",
    "      }"
   ]
  },
  {
   "cell_type": "code",
   "execution_count": 18,
   "metadata": {},
   "outputs": [
    {
     "name": "stdout",
     "output_type": "stream",
     "text": [
      "Train\n",
      "col_0   0   1\n",
      "row_0        \n",
      "0      12   0\n",
      "1       0  17\n",
      "---------------------------------\n",
      "Test\n",
      "col_0  0  1\n",
      "row_0      \n",
      "0      1  5\n",
      "1      1  6\n",
      "\n",
      "\n",
      "Accuracy - train: 1.000000\n",
      "Accuracy - test: 0.538462\n",
      "AUC - train: 1.000000\n",
      "AUC - test: 0.511905\n"
     ]
    }
   ],
   "source": [
    "from sklearn.ensemble import GradientBoostingClassifier\n",
    "\n",
    "mod1 = GradientBoostingClassifier()\n",
    "mod1.fit(X_train,y_train)\n",
    "\n",
    "yhat1 = mod1.predict(X_train)\n",
    "#yprob1 = mod1.predict_proba(X_train)\n",
    "print(\"Train\")\n",
    "print(pd.crosstab(y_train,yhat1))\n",
    "print(\"---------------------------------\")\n",
    "yhat2 = mod1.predict(X_test)\n",
    "print(\"Test\")\n",
    "print(pd.crosstab(y_test,yhat2))\n",
    "\n",
    "print(\"\\n\")\n",
    "### Accuracy:\n",
    "print(\"Accuracy - train: %f\" % mod1.score(X_train,y_train))\n",
    "print(\"Accuracy - test: %f\" % mod1.score(X_test,y_test))\n",
    "\n",
    "### AUC\n",
    "print(\"AUC - train: %f\" % roc_auc_score(y_train, yhat1))\n",
    "print(\"AUC - test: %f\" % roc_auc_score(y_test, yhat2))\n",
    "\n",
    "res[5] = {'model':'GradientBoostingClassifier - base model',\n",
    "           'accuracy-Train':mod1.score(X_train,y_train),\n",
    "           'accuracy-Test':mod1.score(X_test,y_test),\n",
    "           'AUC-train':roc_auc_score(y_train, yhat1),\n",
    "           'AUC-test':roc_auc_score(y_test, yhat2)\n",
    "      }"
   ]
  },
  {
   "cell_type": "code",
   "execution_count": 19,
   "metadata": {},
   "outputs": [
    {
     "name": "stdout",
     "output_type": "stream",
     "text": [
      "Train\n",
      "col_0  0   1\n",
      "row_0       \n",
      "0      8   4\n",
      "1      1  16\n",
      "---------------------------------\n",
      "Test\n",
      "col_0  0  1\n",
      "row_0      \n",
      "0      5  1\n",
      "1      3  4\n",
      "\n",
      "\n",
      "Accuracy - train: 0.827586\n",
      "Accuracy - test: 0.692308\n",
      "AUC - train: 0.803922\n",
      "AUC - test: 0.702381\n"
     ]
    }
   ],
   "source": [
    "from sklearn.svm import SVC\n",
    "\n",
    "mod1 = SVC()\n",
    "mod1.fit(X_train,y_train)\n",
    "\n",
    "yhat1 = mod1.predict(X_train)\n",
    "#yprob1 = mod1.predict_proba(X_train)\n",
    "print(\"Train\")\n",
    "print(pd.crosstab(y_train,yhat1))\n",
    "print(\"---------------------------------\")\n",
    "yhat2 = mod1.predict(X_test)\n",
    "print(\"Test\")\n",
    "print(pd.crosstab(y_test,yhat2))\n",
    "\n",
    "print(\"\\n\")\n",
    "### Accuracy:\n",
    "print(\"Accuracy - train: %f\" % mod1.score(X_train,y_train))\n",
    "print(\"Accuracy - test: %f\" % mod1.score(X_test,y_test))\n",
    "\n",
    "### AUC\n",
    "print(\"AUC - train: %f\" % roc_auc_score(y_train, yhat1))\n",
    "print(\"AUC - test: %f\" % roc_auc_score(y_test, yhat2))\n",
    "\n",
    "res[6] = {'model':'SVM - base model',\n",
    "           'accuracy-Train':mod1.score(X_train,y_train),\n",
    "           'accuracy-Test':mod1.score(X_test,y_test),\n",
    "           'AUC-train':roc_auc_score(y_train, yhat1),\n",
    "           'AUC-test':roc_auc_score(y_test, yhat2)\n",
    "      }"
   ]
  },
  {
   "cell_type": "code",
   "execution_count": 25,
   "metadata": {},
   "outputs": [
    {
     "name": "stdout",
     "output_type": "stream",
     "text": [
      "Train\n",
      "col_0  0   1\n",
      "row_0       \n",
      "0      5   7\n",
      "1      0  17\n",
      "---------------------------------\n",
      "Test\n",
      "col_0  0  1\n",
      "row_0      \n",
      "0      1  5\n",
      "1      0  7\n",
      "\n",
      "\n",
      "Accuracy - train: 0.758621\n",
      "Accuracy - test: 0.615385\n",
      "AUC - train: 0.708333\n",
      "AUC - test: 0.583333\n"
     ]
    }
   ],
   "source": [
    "from sklearn.neighbors import KNeighborsClassifier\n",
    "\n",
    "mod1 = KNeighborsClassifier(metric='cosine')\n",
    "mod1.fit(X_train,y_train)\n",
    "\n",
    "yhat1 = mod1.predict(X_train)\n",
    "#yprob1 = mod1.predict_proba(X_train)\n",
    "print(\"Train\")\n",
    "print(pd.crosstab(y_train,yhat1))\n",
    "print(\"---------------------------------\")\n",
    "yhat2 = mod1.predict(X_test)\n",
    "print(\"Test\")\n",
    "print(pd.crosstab(y_test,yhat2))\n",
    "\n",
    "print(\"\\n\")\n",
    "### Accuracy:\n",
    "print(\"Accuracy - train: %f\" % mod1.score(X_train,y_train))\n",
    "print(\"Accuracy - test: %f\" % mod1.score(X_test,y_test))\n",
    "\n",
    "### AUC\n",
    "print(\"AUC - train: %f\" % roc_auc_score(y_train, yhat1))\n",
    "print(\"AUC - test: %f\" % roc_auc_score(y_test, yhat2))\n",
    "\n",
    "res[7] = {'model':'KNeighborsClassifier - base model',\n",
    "           'accuracy-Train':mod1.score(X_train,y_train),\n",
    "           'accuracy-Test':mod1.score(X_test,y_test),\n",
    "           'AUC-train':roc_auc_score(y_train, yhat1),\n",
    "           'AUC-test':roc_auc_score(y_test, yhat2)\n",
    "      }"
   ]
  },
  {
   "cell_type": "code",
   "execution_count": 26,
   "metadata": {},
   "outputs": [
    {
     "data": {
      "text/plain": [
       "{1: {'model': 'Logistic Regression - base model',\n",
       "  'accuracy-Train': 1.0,\n",
       "  'accuracy-Test': 0.7692307692307693,\n",
       "  'AUC-train': 1.0,\n",
       "  'AUC-test': 0.773809523809524},\n",
       " 2: {'model': 'Logistic DecisionTreeClassifier - base model',\n",
       "  'accuracy-Train': 1.0,\n",
       "  'accuracy-Test': 0.5384615384615384,\n",
       "  'AUC-train': 1.0,\n",
       "  'AUC-test': 0.5119047619047619},\n",
       " 3: {'model': 'RandomForestClassifier - base model',\n",
       "  'accuracy-Train': 1.0,\n",
       "  'accuracy-Test': 0.7692307692307693,\n",
       "  'AUC-train': 1.0,\n",
       "  'AUC-test': 0.773809523809524},\n",
       " 4: {'model': 'AdaBoostClassifier - base model',\n",
       "  'accuracy-Train': 1.0,\n",
       "  'accuracy-Test': 0.5384615384615384,\n",
       "  'AUC-train': 1.0,\n",
       "  'AUC-test': 0.5119047619047619},\n",
       " 5: {'model': 'GradientBoostingClassifier - base model',\n",
       "  'accuracy-Train': 1.0,\n",
       "  'accuracy-Test': 0.5384615384615384,\n",
       "  'AUC-train': 1.0,\n",
       "  'AUC-test': 0.5119047619047619},\n",
       " 6: {'model': 'SVM - base model',\n",
       "  'accuracy-Train': 0.8275862068965517,\n",
       "  'accuracy-Test': 0.6923076923076923,\n",
       "  'AUC-train': 0.803921568627451,\n",
       "  'AUC-test': 0.7023809523809523},\n",
       " 7: {'model': 'KNeighborsClassifier - base model',\n",
       "  'accuracy-Train': 0.7586206896551724,\n",
       "  'accuracy-Test': 0.6153846153846154,\n",
       "  'AUC-train': 0.7083333333333333,\n",
       "  'AUC-test': 0.5833333333333333}}"
      ]
     },
     "execution_count": 26,
     "metadata": {},
     "output_type": "execute_result"
    }
   ],
   "source": [
    "res"
   ]
  },
  {
   "cell_type": "code",
   "execution_count": 27,
   "metadata": {},
   "outputs": [
    {
     "data": {
      "text/html": [
       "<div>\n",
       "<style scoped>\n",
       "    .dataframe tbody tr th:only-of-type {\n",
       "        vertical-align: middle;\n",
       "    }\n",
       "\n",
       "    .dataframe tbody tr th {\n",
       "        vertical-align: top;\n",
       "    }\n",
       "\n",
       "    .dataframe thead th {\n",
       "        text-align: right;\n",
       "    }\n",
       "</style>\n",
       "<table border=\"1\" class=\"dataframe\">\n",
       "  <thead>\n",
       "    <tr style=\"text-align: right;\">\n",
       "      <th></th>\n",
       "      <th>1</th>\n",
       "      <th>2</th>\n",
       "      <th>3</th>\n",
       "      <th>4</th>\n",
       "      <th>5</th>\n",
       "      <th>6</th>\n",
       "      <th>7</th>\n",
       "    </tr>\n",
       "  </thead>\n",
       "  <tbody>\n",
       "    <tr>\n",
       "      <th>model</th>\n",
       "      <td>Logistic Regression - base model</td>\n",
       "      <td>Logistic DecisionTreeClassifier - base model</td>\n",
       "      <td>RandomForestClassifier - base model</td>\n",
       "      <td>AdaBoostClassifier - base model</td>\n",
       "      <td>GradientBoostingClassifier - base model</td>\n",
       "      <td>SVM - base model</td>\n",
       "      <td>KNeighborsClassifier - base model</td>\n",
       "    </tr>\n",
       "    <tr>\n",
       "      <th>accuracy-Train</th>\n",
       "      <td>1</td>\n",
       "      <td>1</td>\n",
       "      <td>1</td>\n",
       "      <td>1</td>\n",
       "      <td>1</td>\n",
       "      <td>0.827586</td>\n",
       "      <td>0.758621</td>\n",
       "    </tr>\n",
       "    <tr>\n",
       "      <th>accuracy-Test</th>\n",
       "      <td>0.769231</td>\n",
       "      <td>0.538462</td>\n",
       "      <td>0.769231</td>\n",
       "      <td>0.538462</td>\n",
       "      <td>0.538462</td>\n",
       "      <td>0.692308</td>\n",
       "      <td>0.615385</td>\n",
       "    </tr>\n",
       "    <tr>\n",
       "      <th>AUC-train</th>\n",
       "      <td>1</td>\n",
       "      <td>1</td>\n",
       "      <td>1</td>\n",
       "      <td>1</td>\n",
       "      <td>1</td>\n",
       "      <td>0.803922</td>\n",
       "      <td>0.708333</td>\n",
       "    </tr>\n",
       "    <tr>\n",
       "      <th>AUC-test</th>\n",
       "      <td>0.77381</td>\n",
       "      <td>0.511905</td>\n",
       "      <td>0.77381</td>\n",
       "      <td>0.511905</td>\n",
       "      <td>0.511905</td>\n",
       "      <td>0.702381</td>\n",
       "      <td>0.583333</td>\n",
       "    </tr>\n",
       "  </tbody>\n",
       "</table>\n",
       "</div>"
      ],
      "text/plain": [
       "                                               1  \\\n",
       "model           Logistic Regression - base model   \n",
       "accuracy-Train                                 1   \n",
       "accuracy-Test                           0.769231   \n",
       "AUC-train                                      1   \n",
       "AUC-test                                 0.77381   \n",
       "\n",
       "                                                           2  \\\n",
       "model           Logistic DecisionTreeClassifier - base model   \n",
       "accuracy-Train                                             1   \n",
       "accuracy-Test                                       0.538462   \n",
       "AUC-train                                                  1   \n",
       "AUC-test                                            0.511905   \n",
       "\n",
       "                                                  3  \\\n",
       "model           RandomForestClassifier - base model   \n",
       "accuracy-Train                                    1   \n",
       "accuracy-Test                              0.769231   \n",
       "AUC-train                                         1   \n",
       "AUC-test                                    0.77381   \n",
       "\n",
       "                                              4  \\\n",
       "model           AdaBoostClassifier - base model   \n",
       "accuracy-Train                                1   \n",
       "accuracy-Test                          0.538462   \n",
       "AUC-train                                     1   \n",
       "AUC-test                               0.511905   \n",
       "\n",
       "                                                      5                 6  \\\n",
       "model           GradientBoostingClassifier - base model  SVM - base model   \n",
       "accuracy-Train                                        1          0.827586   \n",
       "accuracy-Test                                  0.538462          0.692308   \n",
       "AUC-train                                             1          0.803922   \n",
       "AUC-test                                       0.511905          0.702381   \n",
       "\n",
       "                                                7  \n",
       "model           KNeighborsClassifier - base model  \n",
       "accuracy-Train                           0.758621  \n",
       "accuracy-Test                            0.615385  \n",
       "AUC-train                                0.708333  \n",
       "AUC-test                                 0.583333  "
      ]
     },
     "execution_count": 27,
     "metadata": {},
     "output_type": "execute_result"
    }
   ],
   "source": [
    "res2 = pd.DataFrame(res)\n",
    "res2"
   ]
  },
  {
   "cell_type": "code",
   "execution_count": 28,
   "metadata": {},
   "outputs": [
    {
     "data": {
      "text/html": [
       "<div>\n",
       "<style scoped>\n",
       "    .dataframe tbody tr th:only-of-type {\n",
       "        vertical-align: middle;\n",
       "    }\n",
       "\n",
       "    .dataframe tbody tr th {\n",
       "        vertical-align: top;\n",
       "    }\n",
       "\n",
       "    .dataframe thead th {\n",
       "        text-align: right;\n",
       "    }\n",
       "</style>\n",
       "<table border=\"1\" class=\"dataframe\">\n",
       "  <thead>\n",
       "    <tr style=\"text-align: right;\">\n",
       "      <th></th>\n",
       "      <th>model</th>\n",
       "      <th>accuracy-Train</th>\n",
       "      <th>accuracy-Test</th>\n",
       "      <th>AUC-train</th>\n",
       "      <th>AUC-test</th>\n",
       "    </tr>\n",
       "  </thead>\n",
       "  <tbody>\n",
       "    <tr>\n",
       "      <th>1</th>\n",
       "      <td>Logistic Regression - base model</td>\n",
       "      <td>1</td>\n",
       "      <td>0.769231</td>\n",
       "      <td>1</td>\n",
       "      <td>0.77381</td>\n",
       "    </tr>\n",
       "    <tr>\n",
       "      <th>2</th>\n",
       "      <td>Logistic DecisionTreeClassifier - base model</td>\n",
       "      <td>1</td>\n",
       "      <td>0.538462</td>\n",
       "      <td>1</td>\n",
       "      <td>0.511905</td>\n",
       "    </tr>\n",
       "    <tr>\n",
       "      <th>3</th>\n",
       "      <td>RandomForestClassifier - base model</td>\n",
       "      <td>1</td>\n",
       "      <td>0.769231</td>\n",
       "      <td>1</td>\n",
       "      <td>0.77381</td>\n",
       "    </tr>\n",
       "    <tr>\n",
       "      <th>4</th>\n",
       "      <td>AdaBoostClassifier - base model</td>\n",
       "      <td>1</td>\n",
       "      <td>0.538462</td>\n",
       "      <td>1</td>\n",
       "      <td>0.511905</td>\n",
       "    </tr>\n",
       "    <tr>\n",
       "      <th>5</th>\n",
       "      <td>GradientBoostingClassifier - base model</td>\n",
       "      <td>1</td>\n",
       "      <td>0.538462</td>\n",
       "      <td>1</td>\n",
       "      <td>0.511905</td>\n",
       "    </tr>\n",
       "    <tr>\n",
       "      <th>6</th>\n",
       "      <td>SVM - base model</td>\n",
       "      <td>0.827586</td>\n",
       "      <td>0.692308</td>\n",
       "      <td>0.803922</td>\n",
       "      <td>0.702381</td>\n",
       "    </tr>\n",
       "    <tr>\n",
       "      <th>7</th>\n",
       "      <td>KNeighborsClassifier - base model</td>\n",
       "      <td>0.758621</td>\n",
       "      <td>0.615385</td>\n",
       "      <td>0.708333</td>\n",
       "      <td>0.583333</td>\n",
       "    </tr>\n",
       "  </tbody>\n",
       "</table>\n",
       "</div>"
      ],
      "text/plain": [
       "                                          model accuracy-Train accuracy-Test  \\\n",
       "1              Logistic Regression - base model              1      0.769231   \n",
       "2  Logistic DecisionTreeClassifier - base model              1      0.538462   \n",
       "3           RandomForestClassifier - base model              1      0.769231   \n",
       "4               AdaBoostClassifier - base model              1      0.538462   \n",
       "5       GradientBoostingClassifier - base model              1      0.538462   \n",
       "6                              SVM - base model       0.827586      0.692308   \n",
       "7             KNeighborsClassifier - base model       0.758621      0.615385   \n",
       "\n",
       "  AUC-train  AUC-test  \n",
       "1         1   0.77381  \n",
       "2         1  0.511905  \n",
       "3         1   0.77381  \n",
       "4         1  0.511905  \n",
       "5         1  0.511905  \n",
       "6  0.803922  0.702381  \n",
       "7  0.708333  0.583333  "
      ]
     },
     "execution_count": 28,
     "metadata": {},
     "output_type": "execute_result"
    }
   ],
   "source": [
    "res2.transpose()"
   ]
  }
 ],
 "metadata": {
  "kernelspec": {
   "display_name": "Python 3",
   "language": "python",
   "name": "python3"
  },
  "language_info": {
   "codemirror_mode": {
    "name": "ipython",
    "version": 3
   },
   "file_extension": ".py",
   "mimetype": "text/x-python",
   "name": "python",
   "nbconvert_exporter": "python",
   "pygments_lexer": "ipython3",
   "version": "3.7.6"
  }
 },
 "nbformat": 4,
 "nbformat_minor": 4
}
