{
 "cells": [
  {
   "cell_type": "markdown",
   "metadata": {},
   "source": [
    "# Gradient Descent for Logistic Regression\n",
    "\n",
    "<img src=\"https://i2.wp.com/lh6.ggpht.com/-5RFMcz2bzWI/VA9NuUkB_vI/AAAAAAAAAdM/_DqqYO0nbX4/im2_thumb%25255B1%25255D.png\"></img>\n",
    "\n",
    "Gradient descent is the most important algorithm in machine learning (ML). It is used in almost all the ML models and is what differentiate traditional statistics from ML. By optimizing the parameters of the gradient descent we optimize the predictive model.\n",
    " \n",
    "To understand gradient descent, we need to define some important concepts.\n",
    " \n",
    "## Loss function\n",
    "\n",
    "The loss function, also known as the cost function, is the measure we will use to calibrate the model. There are many types of loss functions. The selection of the loss function depends on the algorithm we want to run, and the question we want to answer (how we want to model the Y).\n",
    " \n",
    "In logistic regression, the loss function difere from that of the linear regression. It is defined as follows:\n",
    " \n",
    "<b> \n",
    " Jϴ = - 𝞢(ylogŷ + (1-y)log(1-ŷ)) / n\n",
    "</b> \n",
    " \n",
    "This mean that for y=0, the first part of the formula (ylogŷ) will be zero and the loss will equal to the right part. For y=1, the right part will be zero and the loss will be equal to the left part of the formula.\n"
   ]
  },
  {
   "cell_type": "code",
   "execution_count": 1,
   "metadata": {},
   "outputs": [],
   "source": [
    "import numpy as np\n",
    "import pandas as pd"
   ]
  },
  {
   "cell_type": "code",
   "execution_count": 2,
   "metadata": {},
   "outputs": [
    {
     "data": {
      "text/html": [
       "<div>\n",
       "<style scoped>\n",
       "    .dataframe tbody tr th:only-of-type {\n",
       "        vertical-align: middle;\n",
       "    }\n",
       "\n",
       "    .dataframe tbody tr th {\n",
       "        vertical-align: top;\n",
       "    }\n",
       "\n",
       "    .dataframe thead th {\n",
       "        text-align: right;\n",
       "    }\n",
       "</style>\n",
       "<table border=\"1\" class=\"dataframe\">\n",
       "  <thead>\n",
       "    <tr style=\"text-align: right;\">\n",
       "      <th></th>\n",
       "      <th>Unnamed: 0</th>\n",
       "      <th>mpg</th>\n",
       "      <th>cyl</th>\n",
       "      <th>disp</th>\n",
       "      <th>hp</th>\n",
       "      <th>drat</th>\n",
       "      <th>wt</th>\n",
       "      <th>qsec</th>\n",
       "      <th>vs</th>\n",
       "      <th>am</th>\n",
       "      <th>gear</th>\n",
       "      <th>carb</th>\n",
       "    </tr>\n",
       "  </thead>\n",
       "  <tbody>\n",
       "    <tr>\n",
       "      <th>0</th>\n",
       "      <td>Mazda RX4</td>\n",
       "      <td>21.0</td>\n",
       "      <td>6</td>\n",
       "      <td>160.0</td>\n",
       "      <td>110</td>\n",
       "      <td>3.90</td>\n",
       "      <td>2.620</td>\n",
       "      <td>16.46</td>\n",
       "      <td>0</td>\n",
       "      <td>1</td>\n",
       "      <td>4</td>\n",
       "      <td>4</td>\n",
       "    </tr>\n",
       "    <tr>\n",
       "      <th>1</th>\n",
       "      <td>Mazda RX4 Wag</td>\n",
       "      <td>21.0</td>\n",
       "      <td>6</td>\n",
       "      <td>160.0</td>\n",
       "      <td>110</td>\n",
       "      <td>3.90</td>\n",
       "      <td>2.875</td>\n",
       "      <td>17.02</td>\n",
       "      <td>0</td>\n",
       "      <td>1</td>\n",
       "      <td>4</td>\n",
       "      <td>4</td>\n",
       "    </tr>\n",
       "    <tr>\n",
       "      <th>2</th>\n",
       "      <td>Datsun 710</td>\n",
       "      <td>22.8</td>\n",
       "      <td>4</td>\n",
       "      <td>108.0</td>\n",
       "      <td>93</td>\n",
       "      <td>3.85</td>\n",
       "      <td>2.320</td>\n",
       "      <td>18.61</td>\n",
       "      <td>1</td>\n",
       "      <td>1</td>\n",
       "      <td>4</td>\n",
       "      <td>1</td>\n",
       "    </tr>\n",
       "    <tr>\n",
       "      <th>3</th>\n",
       "      <td>Hornet 4 Drive</td>\n",
       "      <td>21.4</td>\n",
       "      <td>6</td>\n",
       "      <td>258.0</td>\n",
       "      <td>110</td>\n",
       "      <td>3.08</td>\n",
       "      <td>3.215</td>\n",
       "      <td>19.44</td>\n",
       "      <td>1</td>\n",
       "      <td>0</td>\n",
       "      <td>3</td>\n",
       "      <td>1</td>\n",
       "    </tr>\n",
       "    <tr>\n",
       "      <th>4</th>\n",
       "      <td>Hornet Sportabout</td>\n",
       "      <td>18.7</td>\n",
       "      <td>8</td>\n",
       "      <td>360.0</td>\n",
       "      <td>175</td>\n",
       "      <td>3.15</td>\n",
       "      <td>3.440</td>\n",
       "      <td>17.02</td>\n",
       "      <td>0</td>\n",
       "      <td>0</td>\n",
       "      <td>3</td>\n",
       "      <td>2</td>\n",
       "    </tr>\n",
       "  </tbody>\n",
       "</table>\n",
       "</div>"
      ],
      "text/plain": [
       "          Unnamed: 0   mpg  cyl   disp   hp  drat     wt   qsec  vs  am  gear  \\\n",
       "0          Mazda RX4  21.0    6  160.0  110  3.90  2.620  16.46   0   1     4   \n",
       "1      Mazda RX4 Wag  21.0    6  160.0  110  3.90  2.875  17.02   0   1     4   \n",
       "2         Datsun 710  22.8    4  108.0   93  3.85  2.320  18.61   1   1     4   \n",
       "3     Hornet 4 Drive  21.4    6  258.0  110  3.08  3.215  19.44   1   0     3   \n",
       "4  Hornet Sportabout  18.7    8  360.0  175  3.15  3.440  17.02   0   0     3   \n",
       "\n",
       "   carb  \n",
       "0     4  \n",
       "1     4  \n",
       "2     1  \n",
       "3     1  \n",
       "4     2  "
      ]
     },
     "execution_count": 2,
     "metadata": {},
     "output_type": "execute_result"
    }
   ],
   "source": [
    "mtcars = pd.read_csv(\"mtcars.csv\")\n",
    "mtcars.head()"
   ]
  },
  {
   "cell_type": "code",
   "execution_count": 3,
   "metadata": {},
   "outputs": [],
   "source": [
    "def loss_function(y, y_hat):\n",
    "    yminus = [i * -1 for i in y]\n",
    "    return( sum((yminus*np.log(y_hat)) - ((1-y)*np.log(1-y_hat)))/len(y))\n"
   ]
  },
  {
   "cell_type": "markdown",
   "metadata": {},
   "source": [
    "\n",
    "## Global Minima\n",
    "The global minima of the loss function is defined as the smallest value of the loss function. In other words, we find the global minima when we reduce the error at the lowest possible value.\n",
    "\n",
    "<img src=\"https://cdn-images-1.medium.com/max/602/0*gWBpMIJ7yRVAaAIA.\"></img>\n",
    "\n",
    "## Learning rate\n",
    " \n",
    "The learning rate can be defined as the number of 'jumps' we make when trying to reduce the global minima while calculating the optimal values for the weights. We have to be careful with this parameter because a high value may miss out the global minima, while a very low value will increase a lot the calculation time. The learning rate parameter in many functions is called as <b> alpha </b>.\n",
    "\n",
    "<table><tr>\n",
    "    <td cols=\"2\"> \n",
    "        <h2> Problems caused by too low or high learning rates </h2> \n",
    "    </td>\n",
    "    </tr><tr>\n",
    "    <td> \n",
    "        <img src=\"https://encrypted-tbn0.gstatic.com/images?q=tbn:ANd9GcSDZHOlr8UTVvLoA3adcxB7FQsVPusBU7lPSsVB-lunzaEPwahAQg\" width=\"400\" height=\"200\"></img> \n",
    "        <br> <h4> High Learning Rate </h4>\n",
    "    </td>\n",
    "    <td> \n",
    "        <img src=\"https://www.oreilly.com/library/view/hands-on-machine-learning/9781491962282/assets/mlst_0403.png\" width=\"400\" height=\"200\"></img> \n",
    "        <br> <h4> Low Learning Rate </h4>\n",
    "    </td>\n",
    "</tr></table>"
   ]
  },
  {
   "cell_type": "markdown",
   "metadata": {},
   "source": [
    "## Gradient Descent\n",
    " \n",
    "The formula for the calculation of the gradient descent is:\n",
    " \n",
    "<img src=\"https://i2.wp.com/2.bp.blogspot.com/-ZxJ87cWjPJ8/TtLtwqv0hCI/AAAAAAAAAV0/9FYqcxJ6dNY/s320/gradient+descent+algorithm+OLS.png?zoom=1.25&resize=320%2C181\"></img>\n",
    " \n",
    "This means that the values of the weights (called theta or ϴ) are calculated using the loss function (Jϴ).\n",
    " \n",
    "The initial theta values are generated randomly and the loss function is calculated using them. The calculation is made as follows:\n",
    " \n",
    " \n",
    "<center>\n",
    "    h<sub>ϴ</sub>(X) = Y-hat = ϴ<sub>0</sub> + x<sub>1</sub>ϴ<sub>1</sub> + … + x<sub>n</sub>ϴ<sub>n</sub>\n",
    "</center>\n",
    " \n",
    "Then the loss function is calculated. If the model did not converged (the global minima was not reached), we increase/decrease theta by the learning rate, and recalculate the newly predicted Y (Y-hat). This is repeated until the global minima is reached.\n",
    " \n",
    "<sub></sXb>(x)"
   ]
  },
  {
   "cell_type": "code",
   "execution_count": 7,
   "metadata": {},
   "outputs": [],
   "source": [
    "### sigmoid function\n",
    "def sigmoid(z):\n",
    "    return(1/(1+np.exp(-z)))\n"
   ]
  },
  {
   "cell_type": "code",
   "execution_count": 8,
   "metadata": {},
   "outputs": [],
   "source": [
    "def grad(x, y, yhat):\n",
    "    n = len(y)\n",
    "    grad = ((1 / n) * (sum((yhat - y) * x)))\n",
    "    return(grad)\n"
   ]
  },
  {
   "cell_type": "code",
   "execution_count": 9,
   "metadata": {},
   "outputs": [],
   "source": [
    "### The gradient descent requires two values: learning rate and number of iterations.\n",
    "def gradientDesc(x, y, learn_rate=1e-6, max_iter=1e3):\n",
    "  x = np.array(x)\n",
    "  y = np.array(y)\n",
    "  conv_threshold = 1e-4\n",
    "  n = len(y)\n",
    "  m = 1 # runif(1, 0, 1)\n",
    "  c = 1 #runif(1, 0, 1)\n",
    "  yhat = sigmoid(m * x + c)\n",
    "  cost = loss_function(y,yhat)\n",
    "  converged = False\n",
    "  iterations = 0\n",
    "  while(converged == False):\n",
    "    ## Implement the gradient descent algorithm\n",
    "    m_new = m - learn_rate * grad(x, y, yhat)\n",
    "    c_new = c - learn_rate * grad(1, y, yhat)\n",
    "    m = m_new\n",
    "    c = c_new\n",
    "    yhat = sigmoid(m * x + c)\n",
    "    cost_new = loss_function(y,yhat)\n",
    "    if(cost - cost_new <= conv_threshold):\n",
    "      converged = True\n",
    "      print(\"Optimal intercept: %f | Optimal slope: %f | loss: %f\" % (c,m,cost_new))\n",
    "      return(pd.DataFrame({'w':[m],'b':[c],'loss':[cost_new]},columns=['w','b','loss']))\n",
    "    \n",
    "    iterations = iterations + 1\n",
    "    if(iterations > max_iter):\n",
    "      converged = True\n",
    "      print(\"Optimal intercept: %f | Optimal slope: %f | loss: %f\" % (c,m,cost_new))\n",
    "      return(pd.DataFrame({'w':[m],'b':[c],'loss':[cost_new]},columns=['w','b','loss']))\n"
   ]
  },
  {
   "cell_type": "code",
   "execution_count": 10,
   "metadata": {},
   "outputs": [
    {
     "name": "stdout",
     "output_type": "stream",
     "text": [
      "Optimal intercept: 12.036189 | Optimal slope: -4.022647 | loss: 0.299626\n"
     ]
    },
    {
     "data": {
      "text/html": [
       "<div>\n",
       "<style scoped>\n",
       "    .dataframe tbody tr th:only-of-type {\n",
       "        vertical-align: middle;\n",
       "    }\n",
       "\n",
       "    .dataframe tbody tr th {\n",
       "        vertical-align: top;\n",
       "    }\n",
       "\n",
       "    .dataframe thead th {\n",
       "        text-align: right;\n",
       "    }\n",
       "</style>\n",
       "<table border=\"1\" class=\"dataframe\">\n",
       "  <thead>\n",
       "    <tr style=\"text-align: right;\">\n",
       "      <th></th>\n",
       "      <th>w</th>\n",
       "      <th>b</th>\n",
       "      <th>loss</th>\n",
       "    </tr>\n",
       "  </thead>\n",
       "  <tbody>\n",
       "    <tr>\n",
       "      <th>0</th>\n",
       "      <td>-4.022647</td>\n",
       "      <td>12.036189</td>\n",
       "      <td>0.299626</td>\n",
       "    </tr>\n",
       "  </tbody>\n",
       "</table>\n",
       "</div>"
      ],
      "text/plain": [
       "          w          b      loss\n",
       "0 -4.022647  12.036189  0.299626"
      ]
     },
     "execution_count": 10,
     "metadata": {},
     "output_type": "execute_result"
    }
   ],
   "source": [
    "# Run the function \n",
    "gradientDesc(mtcars.wt, mtcars.am, 1e-3, 5e6)\n"
   ]
  },
  {
   "cell_type": "code",
   "execution_count": 233,
   "metadata": {},
   "outputs": [
    {
     "name": "stdout",
     "output_type": "stream",
     "text": [
      "Optimal intercept: 12.040370 | Optimal slope: -4.023970 | loss: 0.299626\n",
      "Optimal intercept: 12.036189 | Optimal slope: -4.022648 | loss: 0.299626\n",
      "Optimal intercept: 9.130555 | Optimal slope: -3.101721 | loss: 0.307521\n",
      "Optimal intercept: 3.139999 | Optimal slope: -1.192544 | loss: 0.424757\n",
      "Optimal intercept: 0.999994 | Optimal slope: 0.999978 | loss: 2.853146\n",
      "Optimal intercept: 0.999999 | Optimal slope: 0.999998 | loss: 2.853192\n",
      "Optimal intercept: 1.000000 | Optimal slope: 1.000000 | loss: 2.853197\n"
     ]
    }
   ],
   "source": [
    "## iterating with the learning rate\n",
    "res = pd.DataFrame()\n",
    "#learning_rate = [5e-1,1e-1,5e-2,1e-2,5e-3,1e-3,5e-4,1e-4,5e-5,1e-5,5e-6,1e-6,5e-7,1e-7]\n",
    "learning_rate = [1e-1,1e-2,1e-3,1e-4,1e-5,1e-6,1e-7]\n",
    "for lr in learning_rate:\n",
    "    gd = gradientDesc(mtcars.wt, mtcars.am, lr, 500000)\n",
    "    gd['learning_rate'] = [lr]\n",
    "    res = res.append(gd)\n",
    "\n"
   ]
  },
  {
   "cell_type": "code",
   "execution_count": 234,
   "metadata": {},
   "outputs": [
    {
     "data": {
      "text/html": [
       "<div>\n",
       "<style>\n",
       "    .dataframe thead tr:only-child th {\n",
       "        text-align: right;\n",
       "    }\n",
       "\n",
       "    .dataframe thead th {\n",
       "        text-align: left;\n",
       "    }\n",
       "\n",
       "    .dataframe tbody tr th {\n",
       "        vertical-align: top;\n",
       "    }\n",
       "</style>\n",
       "<table border=\"1\" class=\"dataframe\">\n",
       "  <thead>\n",
       "    <tr style=\"text-align: right;\">\n",
       "      <th></th>\n",
       "      <th>w</th>\n",
       "      <th>b</th>\n",
       "      <th>loss</th>\n",
       "      <th>learning_rate</th>\n",
       "    </tr>\n",
       "  </thead>\n",
       "  <tbody>\n",
       "    <tr>\n",
       "      <th>0</th>\n",
       "      <td>1.000000</td>\n",
       "      <td>1.000000</td>\n",
       "      <td>2.853197</td>\n",
       "      <td>1.000000e-07</td>\n",
       "    </tr>\n",
       "    <tr>\n",
       "      <th>0</th>\n",
       "      <td>0.999998</td>\n",
       "      <td>0.999999</td>\n",
       "      <td>2.853192</td>\n",
       "      <td>1.000000e-06</td>\n",
       "    </tr>\n",
       "    <tr>\n",
       "      <th>0</th>\n",
       "      <td>0.999978</td>\n",
       "      <td>0.999994</td>\n",
       "      <td>2.853146</td>\n",
       "      <td>1.000000e-05</td>\n",
       "    </tr>\n",
       "    <tr>\n",
       "      <th>0</th>\n",
       "      <td>-1.192544</td>\n",
       "      <td>3.139999</td>\n",
       "      <td>0.424757</td>\n",
       "      <td>1.000000e-04</td>\n",
       "    </tr>\n",
       "    <tr>\n",
       "      <th>0</th>\n",
       "      <td>-3.101721</td>\n",
       "      <td>9.130555</td>\n",
       "      <td>0.307521</td>\n",
       "      <td>1.000000e-03</td>\n",
       "    </tr>\n",
       "    <tr>\n",
       "      <th>0</th>\n",
       "      <td>-4.022648</td>\n",
       "      <td>12.036189</td>\n",
       "      <td>0.299626</td>\n",
       "      <td>1.000000e-02</td>\n",
       "    </tr>\n",
       "    <tr>\n",
       "      <th>0</th>\n",
       "      <td>-4.023970</td>\n",
       "      <td>12.040370</td>\n",
       "      <td>0.299626</td>\n",
       "      <td>1.000000e-01</td>\n",
       "    </tr>\n",
       "  </tbody>\n",
       "</table>\n",
       "</div>"
      ],
      "text/plain": [
       "          w          b      loss  learning_rate\n",
       "0  1.000000   1.000000  2.853197   1.000000e-07\n",
       "0  0.999998   0.999999  2.853192   1.000000e-06\n",
       "0  0.999978   0.999994  2.853146   1.000000e-05\n",
       "0 -1.192544   3.139999  0.424757   1.000000e-04\n",
       "0 -3.101721   9.130555  0.307521   1.000000e-03\n",
       "0 -4.022648  12.036189  0.299626   1.000000e-02\n",
       "0 -4.023970  12.040370  0.299626   1.000000e-01"
      ]
     },
     "execution_count": 234,
     "metadata": {},
     "output_type": "execute_result"
    }
   ],
   "source": [
    "res = res.sort_values('learning_rate')\n",
    "res"
   ]
  },
  {
   "cell_type": "code",
   "execution_count": 235,
   "metadata": {},
   "outputs": [
    {
     "data": {
      "text/plain": [
       "[<matplotlib.lines.Line2D at 0x7f79a2ce33c8>]"
      ]
     },
     "execution_count": 235,
     "metadata": {},
     "output_type": "execute_result"
    },
    {
     "data": {
      "image/png": "[encoded data removed]",
      "text/plain": [
       "<Figure size 432x288 with 1 Axes>"
      ]
     },
     "metadata": {},
     "output_type": "display_data"
    }
   ],
   "source": [
    "import matplotlib.pyplot as plt\n",
    "plt.style.use('classic')\n",
    "%matplotlib inline\n",
    "\n",
    "plt.plot(np.log10(res.learning_rate), res.loss)\n"
   ]
  },
  {
   "cell_type": "code",
   "execution_count": 236,
   "metadata": {},
   "outputs": [],
   "source": [
    "#learning_rate = [1e-5,2e-5,3e-5,5e-5,6e-5,7e-5,8e-5,9e-5,1e-4,2e-4,3e-4,5e-4,6e-4,7e-4,8e-4,9e-4,1e-3]\n",
    "learning_rate = [1e-4,2e-4,3e-4,5e-4,6e-4,7e-4,8e-4,9e-4,\n",
    "                   1e-3,2e-3,3e-3,5e-3,6e-3,7e-3,8e-3,9e-3,\n",
    "                   1e-2,2e-2,3e-2,5e-2,6e-2,7e-2,8e-2,9e-2,\n",
    "                   0.9,0.8,0.7,0.6,0.5,0.4,0.2,0.1]"
   ]
  },
  {
   "cell_type": "code",
   "execution_count": 237,
   "metadata": {},
   "outputs": [
    {
     "name": "stdout",
     "output_type": "stream",
     "text": [
      "Optimal intercept: 3.139999 | Optimal slope: -1.192544 | loss: 0.424757\n",
      "Optimal intercept: 4.650516 | Optimal slope: -1.673185 | loss: 0.373780\n",
      "Optimal intercept: 5.706900 | Optimal slope: -2.010663 | loss: 0.348992\n",
      "Optimal intercept: 7.151887 | Optimal slope: -2.471961 | loss: 0.325592\n",
      "Optimal intercept: 7.680803 | Optimal slope: -2.640538 | loss: 0.319412\n",
      "Optimal intercept: 8.126636 | Optimal slope: -2.782501 | loss: 0.315024\n",
      "Optimal intercept: 8.508648 | Optimal slope: -2.904043 | loss: 0.311804\n",
      "Optimal intercept: 8.840105 | Optimal slope: -3.009428 | loss: 0.309381\n",
      "Optimal intercept: 9.130555 | Optimal slope: -3.101721 | loss: 0.307521\n",
      "Optimal intercept: 10.791026 | Optimal slope: -3.628471 | loss: 0.300924\n",
      "Optimal intercept: 11.455085 | Optimal slope: -3.838765 | loss: 0.299899\n",
      "Optimal intercept: 11.901331 | Optimal slope: -3.979984 | loss: 0.299641\n",
      "Optimal intercept: 11.971656 | Optimal slope: -4.002233 | loss: 0.299630\n",
      "Optimal intercept: 12.006301 | Optimal slope: -4.013193 | loss: 0.299627\n",
      "Optimal intercept: 12.023451 | Optimal slope: -4.018618 | loss: 0.299627\n",
      "Optimal intercept: 12.031961 | Optimal slope: -4.021310 | loss: 0.299626\n",
      "Optimal intercept: 12.036189 | Optimal slope: -4.022648 | loss: 0.299626\n",
      "Optimal intercept: 12.040366 | Optimal slope: -4.023969 | loss: 0.299626\n",
      "Optimal intercept: 12.040370 | Optimal slope: -4.023970 | loss: 0.299626\n",
      "Optimal intercept: 12.040370 | Optimal slope: -4.023970 | loss: 0.299626\n",
      "Optimal intercept: 12.040370 | Optimal slope: -4.023970 | loss: 0.299626\n",
      "Optimal intercept: 12.040370 | Optimal slope: -4.023970 | loss: 0.299626\n",
      "Optimal intercept: 12.040370 | Optimal slope: -4.023970 | loss: 0.299626\n",
      "Optimal intercept: 12.040370 | Optimal slope: -4.023970 | loss: 0.299626\n",
      "Optimal intercept: 12.040370 | Optimal slope: -4.023970 | loss: 0.299626\n",
      "Optimal intercept: 12.040370 | Optimal slope: -4.023970 | loss: 0.299626\n",
      "Optimal intercept: 12.040370 | Optimal slope: -4.023970 | loss: 0.299626\n",
      "Optimal intercept: 12.040370 | Optimal slope: -4.023970 | loss: 0.299626\n",
      "Optimal intercept: 12.040370 | Optimal slope: -4.023970 | loss: 0.299626\n",
      "Optimal intercept: 12.040370 | Optimal slope: -4.023970 | loss: 0.299626\n",
      "Optimal intercept: 12.040370 | Optimal slope: -4.023970 | loss: 0.299626\n",
      "Optimal intercept: 12.040370 | Optimal slope: -4.023970 | loss: 0.299626\n"
     ]
    }
   ],
   "source": [
    "res = pd.DataFrame()\n",
    "for lr in learning_rate:\n",
    "    gd = gradientDesc(mtcars.wt, mtcars.am, lr, 500000)\n",
    "    gd['learning_rate'] = [lr]\n",
    "    res = res.append(gd)\n",
    "\n"
   ]
  },
  {
   "cell_type": "code",
   "execution_count": 238,
   "metadata": {},
   "outputs": [
    {
     "name": "stdout",
     "output_type": "stream",
     "text": [
      "          w          b      loss  learning_rate\n",
      "0 -1.192544   3.139999  0.424757         0.0001\n",
      "0 -1.673185   4.650516  0.373780         0.0002\n",
      "0 -2.010663   5.706900  0.348992         0.0003\n",
      "0 -2.471961   7.151887  0.325592         0.0005\n",
      "0 -2.640538   7.680803  0.319412         0.0006\n",
      "0 -2.782501   8.126636  0.315024         0.0007\n",
      "0 -2.904043   8.508648  0.311804         0.0008\n",
      "0 -3.009428   8.840105  0.309381         0.0009\n",
      "0 -3.101721   9.130555  0.307521         0.0010\n",
      "0 -3.628471  10.791026  0.300924         0.0020\n",
      "0 -3.838765  11.455085  0.299899         0.0030\n",
      "0 -3.979984  11.901331  0.299641         0.0050\n",
      "0 -4.002233  11.971656  0.299630         0.0060\n",
      "0 -4.013193  12.006301  0.299627         0.0070\n",
      "0 -4.018618  12.023451  0.299627         0.0080\n",
      "0 -4.021310  12.031961  0.299626         0.0090\n",
      "0 -4.022648  12.036189  0.299626         0.0100\n",
      "0 -4.023969  12.040366  0.299626         0.0200\n",
      "0 -4.023970  12.040370  0.299626         0.0300\n",
      "0 -4.023970  12.040370  0.299626         0.0500\n",
      "0 -4.023970  12.040370  0.299626         0.0600\n",
      "0 -4.023970  12.040370  0.299626         0.0700\n",
      "0 -4.023970  12.040370  0.299626         0.0800\n",
      "0 -4.023970  12.040370  0.299626         0.0900\n",
      "0 -4.023970  12.040370  0.299626         0.1000\n",
      "0 -4.023970  12.040370  0.299626         0.2000\n",
      "0 -4.023970  12.040370  0.299626         0.4000\n",
      "0 -4.023970  12.040370  0.299626         0.5000\n",
      "0 -4.023970  12.040370  0.299626         0.6000\n",
      "0 -4.023970  12.040370  0.299626         0.7000\n",
      "0 -4.023970  12.040370  0.299626         0.8000\n",
      "0 -4.023970  12.040370  0.299626         0.9000\n"
     ]
    },
    {
     "data": {
      "text/plain": [
       "[<matplotlib.lines.Line2D at 0x7f79a2c9c550>]"
      ]
     },
     "execution_count": 238,
     "metadata": {},
     "output_type": "execute_result"
    },
    {
     "data": {
      "image/png": "[encoded data removed]",
      "text/plain": [
       "<Figure size 432x288 with 1 Axes>"
      ]
     },
     "metadata": {},
     "output_type": "display_data"
    }
   ],
   "source": [
    "res = res.sort_values('learning_rate')\n",
    "print(res)\n",
    "plt.plot(np.log10(res.learning_rate), res.loss)\n"
   ]
  },
  {
   "cell_type": "code",
   "execution_count": 239,
   "metadata": {},
   "outputs": [
    {
     "name": "stdout",
     "output_type": "stream",
     "text": [
      "Optimal intercept: 0.993709 | Optimal slope: 0.975983 | loss: 2.797165\n",
      "Optimal intercept: 0.759288 | Optimal slope: 0.048482 | loss: 0.896305\n",
      "Optimal intercept: 0.942947 | Optimal slope: 0.781438 | loss: 2.348038\n",
      "Optimal intercept: 0.928882 | Optimal slope: -0.505785 | loss: 0.547013\n",
      "Optimal intercept: 0.692838 | Optimal slope: -0.309695 | loss: 0.585409\n",
      "Optimal intercept: 3.140042 | Optimal slope: -1.192558 | loss: 0.424755\n",
      "Optimal intercept: 1.244321 | Optimal slope: -0.601690 | loss: 0.525263\n",
      "Optimal intercept: 9.130555 | Optimal slope: -3.101721 | loss: 0.307521\n",
      "Optimal intercept: 4.650545 | Optimal slope: -1.673194 | loss: 0.373780\n",
      "Optimal intercept: 12.036189 | Optimal slope: -4.022647 | loss: 0.299626\n",
      "Optimal intercept: 10.791021 | Optimal slope: -3.628469 | loss: 0.300924\n",
      "Optimal intercept: 12.040366 | Optimal slope: -4.023969 | loss: 0.299626\n"
     ]
    }
   ],
   "source": [
    "## iterating with the number of iterations\n",
    "res = pd.DataFrame()\n",
    "number_iterations = [1e1,5e2,1e2,5e3,1e3,5e4,1e4,5e5,1e5,5e6,1e6,1e7]\n",
    "\n",
    "for iter in number_iterations:\n",
    "    gd = gradientDesc(mtcars.wt, mtcars.am, 1e-3, iter)\n",
    "    gd['num_iter'] = [iter]\n",
    "    res = res.append(gd)\n"
   ]
  },
  {
   "cell_type": "code",
   "execution_count": 240,
   "metadata": {
    "scrolled": true
   },
   "outputs": [
    {
     "name": "stdout",
     "output_type": "stream",
     "text": [
      "          w          b      loss    num_iter\n",
      "0  0.975983   0.993709  2.797165        10.0\n",
      "0  0.781438   0.942947  2.348038       100.0\n",
      "0  0.048482   0.759288  0.896305       500.0\n",
      "0 -0.309695   0.692838  0.585409      1000.0\n",
      "0 -0.505785   0.928882  0.547013      5000.0\n",
      "0 -0.601690   1.244321  0.525263     10000.0\n",
      "0 -1.192558   3.140042  0.424755     50000.0\n",
      "0 -1.673194   4.650545  0.373780    100000.0\n",
      "0 -3.101721   9.130555  0.307521    500000.0\n",
      "0 -3.628469  10.791021  0.300924   1000000.0\n",
      "0 -4.022647  12.036189  0.299626   5000000.0\n",
      "0 -4.023969  12.040366  0.299626  10000000.0\n"
     ]
    },
    {
     "data": {
      "text/plain": [
       "[<matplotlib.lines.Line2D at 0x7f79a2c5d2b0>]"
      ]
     },
     "execution_count": 240,
     "metadata": {},
     "output_type": "execute_result"
    },
    {
     "data": {
      "image/png": "[encoded data removed]",
      "text/plain": [
       "<Figure size 432x288 with 1 Axes>"
      ]
     },
     "metadata": {},
     "output_type": "display_data"
    }
   ],
   "source": [
    "res = res.sort_values('num_iter')\n",
    "print(res)\n",
    "plt.plot(np.log10(res.num_iter), res.loss)\n"
   ]
  },
  {
   "cell_type": "code",
   "execution_count": null,
   "metadata": {},
   "outputs": [],
   "source": [
    "\n"
   ]
  }
 ],
 "metadata": {
  "kernelspec": {
   "display_name": "Python 3",
   "language": "python",
   "name": "python3"
  },
  "language_info": {
   "codemirror_mode": {
    "name": "ipython",
    "version": 3
   },
   "file_extension": ".py",
   "mimetype": "text/x-python",
   "name": "python",
   "nbconvert_exporter": "python",
   "pygments_lexer": "ipython3",
   "version": "3.6.6"
  }
 },
 "nbformat": 4,
 "nbformat_minor": 2
}
