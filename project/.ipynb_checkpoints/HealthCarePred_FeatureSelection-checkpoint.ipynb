{
 "cells": [
  {
   "cell_type": "markdown",
   "metadata": {},
   "source": [
    "# FeatureSelection"
   ]
  },
  {
   "cell_type": "code",
   "execution_count": null,
   "metadata": {},
   "outputs": [],
   "source": [
    "\n",
    "#importing libraries\n",
    "from sklearn.datasets import load_boston\n",
    "import pandas as pd\n",
    "import numpy as np\n",
    "import matplotlib\n",
    "import matplotlib.pyplot as plt\n",
    "import seaborn as sns\n",
    "import statsmodels.api as sm\n",
    "%matplotlib inline\n",
    "from sklearn.model_selection import train_test_split\n",
    "from sklearn.linear_model import LinearRegression\n",
    "from sklearn.feature_selection import RFE\n",
    "from sklearn.linear_model import RidgeCV, LassoCV, Ridge, Lasso"
   ]
  },
  {
   "cell_type": "code",
   "execution_count": null,
   "metadata": {},
   "outputs": [],
   "source": [
    "df = pd.read_csv(\"..\\..\\Project_DATA\\HealthCarePred_flat_1.csv\")\n",
    "df[\"Spending2012\"] = df.Spending2012.astype(int)  ### cast Spendings2012 to integer because some classifiers cannot work with continuous data\n"
   ]
  },
  {
   "cell_type": "code",
   "execution_count": null,
   "metadata": {},
   "outputs": [],
   "source": [
    "df.head()"
   ]
  },
  {
   "cell_type": "code",
   "execution_count": null,
   "metadata": {},
   "outputs": [],
   "source": [
    "### read presaved results if exists\n",
    "\n",
    "featuresVoting = pd.read_csv(\"..\\..\\Project_DATA\\FeatureSelection_results.csv\")"
   ]
  },
  {
   "cell_type": "markdown",
   "metadata": {},
   "source": [
    "### Univariate Analysis: Corellation of outcome variable with all other variables:"
   ]
  },
  {
   "cell_type": "code",
   "execution_count": null,
   "metadata": {},
   "outputs": [],
   "source": [
    "featuresVotingList = []\n",
    "\n",
    "rows, cols = df.shape\n",
    "features = list(df.columns)\n",
    "for i in range(cols - 1):\n",
    "    curr_corr = df[\"Spending2012\"].corr(df[features[i]])\n",
    "    currFeature = {'Feature': features[i], 'Univariable': 1 if curr_corr > 0.2 else 0 }\n",
    "    featuresVotingList.append(currFeature)    \n",
    "featuresVoting = pd.DataFrame(featuresVotingList)        "
   ]
  },
  {
   "cell_type": "code",
   "execution_count": null,
   "metadata": {},
   "outputs": [],
   "source": [
    "featuresVoting.head()\n",
    "\n",
    "#featuresVoting[featuresVoting.Univariable > 0.2].sort_values(by='Univariable', ascending=False)"
   ]
  },
  {
   "cell_type": "markdown",
   "metadata": {},
   "source": [
    "### Multivariate analysis: \n"
   ]
  },
  {
   "cell_type": "code",
   "execution_count": null,
   "metadata": {},
   "outputs": [],
   "source": [
    "X = df.drop(\"Spending2012\",1)   #Feature Matrix\n",
    "y = df[\"Spending2012\"]          #Target Variable"
   ]
  },
  {
   "cell_type": "markdown",
   "metadata": {},
   "source": [
    "#### Lasso"
   ]
  },
  {
   "cell_type": "code",
   "execution_count": null,
   "metadata": {},
   "outputs": [],
   "source": [
    "reg = LassoCV()\n",
    "reg.fit(X, y)\n",
    "print(\"Best alpha using built-in LassoCV: %f\" % reg.alpha_)\n",
    "print(\"Best score using built-in LassoCV: %f\" %reg.score(X,y))\n",
    "coef = pd.Series(reg.coef_, index = X.columns)"
   ]
  },
  {
   "cell_type": "code",
   "execution_count": null,
   "metadata": {},
   "outputs": [],
   "source": [
    "featuresVoting['Lasso1'] = coef.values\n",
    "featuresVoting.loc[featuresVoting['Lasso1'] != 0, 'Lasso'] = 1\n",
    "featuresVoting.loc[featuresVoting['Lasso1'] == 0, 'Lasso'] = 0\n",
    "featuresVoting.Lasso = pd.to_numeric(featuresVoting.Lasso, downcast='integer')\n",
    "featuresVoting = featuresVoting.drop(['Lasso1'], axis=1)\n",
    "featuresVoting.head()"
   ]
  },
  {
   "cell_type": "code",
   "execution_count": null,
   "metadata": {},
   "outputs": [],
   "source": [
    "print(\"Lasso picked \" + str(sum(coef != 0)) + \" variables and eliminated the other \" +  str(sum(coef == 0)) + \" variables\")"
   ]
  },
  {
   "cell_type": "markdown",
   "metadata": {},
   "source": [
    "#### Random Forest"
   ]
  },
  {
   "cell_type": "code",
   "execution_count": null,
   "metadata": {},
   "outputs": [],
   "source": [
    "### Cast Spending2012 to float because RandomForestClassifier cannot work with continuous features\n",
    "#df.Spending2012 = df.Spending2012.astype(int)"
   ]
  },
  {
   "cell_type": "code",
   "execution_count": null,
   "metadata": {},
   "outputs": [],
   "source": [
    "from sklearn.ensemble import RandomForestRegressor\n",
    "from sklearn.feature_selection import SelectFromModel\n",
    "\n",
    "sel = SelectFromModel(RandomForestRegressor(n_estimators = 100))\n",
    "sel.fit(X, y)\n"
   ]
  },
  {
   "cell_type": "code",
   "execution_count": null,
   "metadata": {},
   "outputs": [],
   "source": [
    "rf_sup = sel.get_support()"
   ]
  },
  {
   "cell_type": "code",
   "execution_count": null,
   "metadata": {},
   "outputs": [],
   "source": [
    "featuresVoting['RF'] = rf_sup.tolist()\n",
    "featuresVoting['RF'] = featuresVoting['RF'].astype(int)\n",
    "\n",
    "featuresVoting.head()"
   ]
  },
  {
   "cell_type": "code",
   "execution_count": null,
   "metadata": {},
   "outputs": [],
   "source": [
    "featuresVoting.to_csv(\"..\\..\\Project_DATA\\FeatureSelection_results.csv\", index=False)"
   ]
  },
  {
   "cell_type": "markdown",
   "metadata": {},
   "source": [
    "#### Gradient Boost"
   ]
  },
  {
   "cell_type": "code",
   "execution_count": null,
   "metadata": {},
   "outputs": [],
   "source": [
    "from sklearn.ensemble import GradientBoostingRegressor\n",
    "\n",
    "gbc = GradientBoostingRegressor(n_estimators=100, learning_rate=0.3, max_depth=3, random_state=0)\n",
    "gbc.fit(X, y)\n"
   ]
  },
  {
   "cell_type": "code",
   "execution_count": null,
   "metadata": {},
   "outputs": [],
   "source": [
    "# feature importance\n",
    "gb_imp = gbc.feature_importances_"
   ]
  },
  {
   "cell_type": "code",
   "execution_count": null,
   "metadata": {},
   "outputs": [],
   "source": [
    "featuresVoting['GradientBoost1'] = gb_imp.tolist()\n",
    "featuresVoting.loc[featuresVoting['GradientBoost1'] != 0, 'GradientBoost'] = 1\n",
    "featuresVoting.loc[featuresVoting['GradientBoost1'] == 0, 'GradientBoost'] = 0\n",
    "featuresVoting.GradientBoost = pd.to_numeric(featuresVoting.GradientBoost, downcast='integer')\n",
    "featuresVoting = featuresVoting.drop(['GradientBoost1'], axis=1)\n",
    "featuresVoting.head()"
   ]
  },
  {
   "cell_type": "markdown",
   "metadata": {},
   "source": [
    "#### SVM"
   ]
  },
  {
   "cell_type": "code",
   "execution_count": null,
   "metadata": {},
   "outputs": [],
   "source": [
    "from sklearn import svm\n",
    "\n",
    "svm = svm.SVC(kernel='linear')\n",
    "svm.fit(X, y)"
   ]
  },
  {
   "cell_type": "code",
   "execution_count": null,
   "metadata": {},
   "outputs": [],
   "source": [
    "\n",
    "svm.coef_"
   ]
  }
 ],
 "metadata": {
  "kernelspec": {
   "display_name": "Python 3",
   "language": "python",
   "name": "python3"
  },
  "language_info": {
   "codemirror_mode": {
    "name": "ipython",
    "version": 3
   },
   "file_extension": ".py",
   "mimetype": "text/x-python",
   "name": "python",
   "nbconvert_exporter": "python",
   "pygments_lexer": "ipython3",
   "version": "3.6.5"
  }
 },
 "nbformat": 4,
 "nbformat_minor": 4
}
