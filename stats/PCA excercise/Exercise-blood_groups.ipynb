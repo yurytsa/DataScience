{
 "cells": [
  {
   "cell_type": "markdown",
   "metadata": {},
   "source": [
    "# ABO Blood Groups\n",
    "\n",
    "\n",
    "<img src=\"https://www.tutorialspoint.com/biology_part2/images/blood_group.jpg\"></img>\n",
    " \n",
    "In this notebook we will analyze the world distribution of the different blood groups.\n",
    "\n",
    "On the surface of the red blood cells (also known as erythrocytes) are expressed molecules that are determined on the genetic code of individuals. Among those molecules are two important ones, that determinate the blood type. The implication of those types is that individuals needing a blood transfussion can not ever receive blood from any other individual. Many people have to receive only the same type they have. Also, pregnant women that their babies have an incompatible blood type with their mothers are at risk of abortion or can generate a dangerous reaction on the mother, that may even cause the risk of death on the mother. Thus, the importance of testing the blood type on all the population. \n",
    "\n",
    "There are four groups that are responsible of the blood compatibility: \n",
    "\n",
    "-Group O: Is the most common blood group. People with this blood group can recieve blood only from the same type.\n",
    "\n",
    "-Group A: Is the second most frequently found group. People with this group can recieve from A and O groups.\n",
    "\n",
    "-Group B: Is the third type in frequency. People with this group can recieve from B and O groups.\n",
    "\n",
    "-Group AB: Is the least type in frequency. People with this group can recieve blood from any type (A,B, and O).\n",
    "\n",
    "Another molecule present in the red blood cells and which determines the compatibility of the blood is known as the <i> Rhesus D factor </i>. This factor was discovered in monkies (from here the name). When this factor is present we say that the blood type is Rh-positive (Rh+). When it is absent is considered Rh-negative (Rh-).\n",
    " \n",
    "In summary, the combination of the ABO types and the Rhesus D factor results in Eight different possible blood types: O+, A+, B+, AB+, O-, A-, B-, AB-. \n",
    " \n",
    "In the present dataset we have the distribution of the eight blood types by country. We will analyze this data using the statistical knowledge we have learned. \n",
    "\n",
    "\n"
   ]
  },
  {
   "cell_type": "code",
   "execution_count": 7,
   "metadata": {},
   "outputs": [
    {
     "name": "stderr",
     "output_type": "stream",
     "text": [
      "Loading required package: ggfortify\n",
      "Warning message in library(package, lib.loc = lib.loc, character.only = TRUE, logical.return = TRUE, :\n",
      "“there is no package called ‘ggfortify’”Installing package into ‘/home/tomas/R/x86_64-pc-linux-gnu-library/3.4’\n",
      "(as ‘lib’ is unspecified)\n",
      "\n",
      "Attaching package: ‘dplyr’\n",
      "\n",
      "The following objects are masked from ‘package:stats’:\n",
      "\n",
      "    filter, lag\n",
      "\n",
      "The following objects are masked from ‘package:base’:\n",
      "\n",
      "    intersect, setdiff, setequal, union\n",
      "\n"
     ]
    }
   ],
   "source": [
    "if(!require(ggfortify)) install.packages(\"ggfortify\")\n",
    "library(dplyr)"
   ]
  },
  {
   "cell_type": "code",
   "execution_count": 5,
   "metadata": {},
   "outputs": [
    {
     "data": {
      "text/html": [
       "<table>\n",
       "<thead><tr><th scope=col>Country</th><th scope=col>Population</th><th scope=col>O+</th><th scope=col>A+</th><th scope=col>B+</th><th scope=col>AB+</th><th scope=col>O-</th><th scope=col>A-</th><th scope=col>B-</th><th scope=col>AB-</th></tr></thead>\n",
       "<tbody>\n",
       "\t<tr><td>Armenia    </td><td>  2931568  </td><td>0.2900     </td><td>0.4630     </td><td>0.1200     </td><td>0.0560     </td><td>0.0200     </td><td>0.0370     </td><td>0.0100     </td><td>4e-03      </td></tr>\n",
       "\t<tr><td>Norway     </td><td>  5330986  </td><td>0.3300     </td><td>0.4150     </td><td>0.0680     </td><td>0.0340     </td><td>0.0600     </td><td>0.0750     </td><td>0.0120     </td><td>6e-03      </td></tr>\n",
       "\t<tr><td>Cyprus     </td><td>  1189395  </td><td>0.3522     </td><td>0.4035     </td><td>0.1111     </td><td>0.0472     </td><td>0.0385     </td><td>0.0348     </td><td>0.0087     </td><td>4e-03      </td></tr>\n",
       "\t<tr><td>Portugal   </td><td> 10264672  </td><td>0.3630     </td><td>0.4000     </td><td>0.0660     </td><td>0.0290     </td><td>0.0600     </td><td>0.0660     </td><td>0.0110     </td><td>5e-03      </td></tr>\n",
       "\t<tr><td>Switzerland</td><td>  8454321  </td><td>0.3500     </td><td>0.4000     </td><td>0.0700     </td><td>0.0300     </td><td>0.0600     </td><td>0.0700     </td><td>0.0100     </td><td>1e-02      </td></tr>\n",
       "\t<tr><td>Japan      </td><td>126044340  </td><td>0.2990     </td><td>0.3980     </td><td>0.1990     </td><td>0.0990     </td><td>0.0015     </td><td>0.0020     </td><td>0.0010     </td><td>5e-04      </td></tr>\n",
       "</tbody>\n",
       "</table>\n"
      ],
      "text/latex": [
       "\\begin{tabular}{r|llllllllll}\n",
       " Country & Population & O+ & A+ & B+ & AB+ & O- & A- & B- & AB-\\\\\n",
       "\\hline\n",
       "\t Armenia     &   2931568   & 0.2900      & 0.4630      & 0.1200      & 0.0560      & 0.0200      & 0.0370      & 0.0100      & 4e-03      \\\\\n",
       "\t Norway      &   5330986   & 0.3300      & 0.4150      & 0.0680      & 0.0340      & 0.0600      & 0.0750      & 0.0120      & 6e-03      \\\\\n",
       "\t Cyprus      &   1189395   & 0.3522      & 0.4035      & 0.1111      & 0.0472      & 0.0385      & 0.0348      & 0.0087      & 4e-03      \\\\\n",
       "\t Portugal    &  10264672   & 0.3630      & 0.4000      & 0.0660      & 0.0290      & 0.0600      & 0.0660      & 0.0110      & 5e-03      \\\\\n",
       "\t Switzerland &   8454321   & 0.3500      & 0.4000      & 0.0700      & 0.0300      & 0.0600      & 0.0700      & 0.0100      & 1e-02      \\\\\n",
       "\t Japan       & 126044340   & 0.2990      & 0.3980      & 0.1990      & 0.0990      & 0.0015      & 0.0020      & 0.0010      & 5e-04      \\\\\n",
       "\\end{tabular}\n"
      ],
      "text/markdown": [
       "\n",
       "Country | Population | O+ | A+ | B+ | AB+ | O- | A- | B- | AB- | \n",
       "|---|---|---|---|---|---|\n",
       "| Armenia     |   2931568   | 0.2900      | 0.4630      | 0.1200      | 0.0560      | 0.0200      | 0.0370      | 0.0100      | 4e-03       | \n",
       "| Norway      |   5330986   | 0.3300      | 0.4150      | 0.0680      | 0.0340      | 0.0600      | 0.0750      | 0.0120      | 6e-03       | \n",
       "| Cyprus      |   1189395   | 0.3522      | 0.4035      | 0.1111      | 0.0472      | 0.0385      | 0.0348      | 0.0087      | 4e-03       | \n",
       "| Portugal    |  10264672   | 0.3630      | 0.4000      | 0.0660      | 0.0290      | 0.0600      | 0.0660      | 0.0110      | 5e-03       | \n",
       "| Switzerland |   8454321   | 0.3500      | 0.4000      | 0.0700      | 0.0300      | 0.0600      | 0.0700      | 0.0100      | 1e-02       | \n",
       "| Japan       | 126044340   | 0.2990      | 0.3980      | 0.1990      | 0.0990      | 0.0015      | 0.0020      | 0.0010      | 5e-04       | \n",
       "\n",
       "\n"
      ],
      "text/plain": [
       "  Country     Population O+     A+     B+     AB+    O-     A-     B-     AB-  \n",
       "1 Armenia       2931568  0.2900 0.4630 0.1200 0.0560 0.0200 0.0370 0.0100 4e-03\n",
       "2 Norway        5330986  0.3300 0.4150 0.0680 0.0340 0.0600 0.0750 0.0120 6e-03\n",
       "3 Cyprus        1189395  0.3522 0.4035 0.1111 0.0472 0.0385 0.0348 0.0087 4e-03\n",
       "4 Portugal     10264672  0.3630 0.4000 0.0660 0.0290 0.0600 0.0660 0.0110 5e-03\n",
       "5 Switzerland   8454321  0.3500 0.4000 0.0700 0.0300 0.0600 0.0700 0.0100 1e-02\n",
       "6 Japan       126044340  0.2990 0.3980 0.1990 0.0990 0.0015 0.0020 0.0010 5e-04"
      ]
     },
     "metadata": {},
     "output_type": "display_data"
    }
   ],
   "source": [
    "path <- \"../Data/\"  ### update this to reflect your local paht !!!!\n",
    "abo <- read.csv(paste(path,\"blood_groups_world_distribution.csv\",sep=\"\"))\n",
    "names(abo) <- c(\"Country\",\"Population\",\"O+\",\"A+\",\"B+\",\"AB+\",\"O-\",\"A-\",\"B-\",\"AB-\")\n",
    "\n",
    "head(abo)"
   ]
  },
  {
   "cell_type": "code",
   "execution_count": 6,
   "metadata": {},
   "outputs": [
    {
     "data": {
      "text/plain": [
       "       Country     Population              O+               A+        \n",
       " Argentina : 1   Min.   :3.814e+04   Min.   :0.2463   Min.   :0.0870  \n",
       " Armenia   : 1   1st Qu.:5.541e+06   1st Qu.:0.3200   1st Qu.:0.2600  \n",
       " Australia : 1   Median :1.664e+07   Median :0.3800   Median :0.3100  \n",
       " Austria   : 1   Mean   :6.571e+07   Mean   :0.4007   Mean   :0.3032  \n",
       " Bahrain   : 1   3rd Qu.:4.907e+07   3rd Qu.:0.4620   3rd Qu.:0.3570  \n",
       " Bangladesh: 1   Max.   :1.388e+09   Max.   :0.8550   Max.   :0.4630  \n",
       " (Other)   :95                                                        \n",
       "       B+              AB+                O-                A-         \n",
       " Min.   :0.0228   Min.   :0.00500   Min.   :0.00080   Min.   :0.00100  \n",
       " 1st Qu.:0.0900   1st Qu.:0.03000   1st Qu.:0.01430   1st Qu.:0.00800  \n",
       " Median :0.1400   Median :0.04300   Median :0.04000   Median :0.02800  \n",
       " Mean   :0.1564   Mean   :0.04712   Mean   :0.03951   Mean   :0.03473  \n",
       " 3rd Qu.:0.2070   3rd Qu.:0.06350   3rd Qu.:0.06000   3rd Qu.:0.06000  \n",
       " Max.   :0.3814   Max.   :0.11320   Max.   :0.09000   Max.   :0.08000  \n",
       "                                                                       \n",
       "       B-               AB-          \n",
       " Min.   :0.00010   Min.   :0.000100  \n",
       " 1st Qu.:0.00500   1st Qu.:0.001000  \n",
       " Median :0.01100   Median :0.004900  \n",
       " Mean   :0.01322   Mean   :0.005131  \n",
       " 3rd Qu.:0.02000   3rd Qu.:0.010000  \n",
       " Max.   :0.03570   Max.   :0.012000  \n",
       "                                     "
      ]
     },
     "metadata": {},
     "output_type": "display_data"
    }
   ],
   "source": [
    "summary(abo)"
   ]
  },
  {
   "cell_type": "markdown",
   "metadata": {},
   "source": [
    "# Please Answer to the following questions:\n",
    "\n",
    "## 1. Which is the most common blood type: O+ or O-?"
   ]
  },
  {
   "cell_type": "code",
   "execution_count": null,
   "metadata": {},
   "outputs": [],
   "source": []
  },
  {
   "cell_type": "markdown",
   "metadata": {},
   "source": [
    "## 2. On how many countries the most common blood type is A?"
   ]
  },
  {
   "cell_type": "code",
   "execution_count": null,
   "metadata": {},
   "outputs": [],
   "source": []
  },
  {
   "cell_type": "markdown",
   "metadata": {},
   "source": [
    "## 3. Show the five countries with the higher percentage of AB types."
   ]
  },
  {
   "cell_type": "code",
   "execution_count": null,
   "metadata": {},
   "outputs": [],
   "source": []
  },
  {
   "cell_type": "markdown",
   "metadata": {},
   "source": [
    "## 4. How many people (and which percent of the total world population) has a negative Rh?"
   ]
  },
  {
   "cell_type": "code",
   "execution_count": null,
   "metadata": {},
   "outputs": [],
   "source": []
  },
  {
   "cell_type": "markdown",
   "metadata": {},
   "source": [
    "## 5. Is there a correlation between the distribution of Israel and the US?"
   ]
  },
  {
   "cell_type": "code",
   "execution_count": null,
   "metadata": {},
   "outputs": [],
   "source": []
  },
  {
   "cell_type": "markdown",
   "metadata": {},
   "source": [
    "## 6. Is there a statistical significant difference between the distribution of Israel and Russia?"
   ]
  },
  {
   "cell_type": "code",
   "execution_count": null,
   "metadata": {},
   "outputs": [],
   "source": []
  },
  {
   "cell_type": "markdown",
   "metadata": {},
   "source": [
    "## 7. Use different clustering techniques to classify the distribution of the eight blood cell types. Which cluster give a more logical segmentation?\n",
    " \n",
    "Use the NbClust package to calculate the optimal number of clusters. Also use plots coloring the groups with the resulting clusters. You can use the autoplot function (ggfortify package) to see the cluster distribution. Pass the Country values as rownames so you can see each country on the graphs."
   ]
  },
  {
   "cell_type": "code",
   "execution_count": null,
   "metadata": {},
   "outputs": [],
   "source": []
  },
  {
   "cell_type": "markdown",
   "metadata": {},
   "source": [
    "## 8. Analyze the dataset using Principal Component Analysis (PCA)."
   ]
  },
  {
   "cell_type": "code",
   "execution_count": null,
   "metadata": {},
   "outputs": [],
   "source": []
  }
 ],
 "metadata": {
  "kernelspec": {
   "display_name": "R",
   "language": "R",
   "name": "ir"
  },
  "language_info": {
   "codemirror_mode": "r",
   "file_extension": ".r",
   "mimetype": "text/x-r-source",
   "name": "R",
   "pygments_lexer": "r",
   "version": "4.0.0"
  }
 },
 "nbformat": 4,
 "nbformat_minor": 2
}
