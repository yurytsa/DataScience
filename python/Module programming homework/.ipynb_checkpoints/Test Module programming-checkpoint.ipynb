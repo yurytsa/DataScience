{
 "cells": [
  {
   "cell_type": "code",
   "execution_count": 3,
   "metadata": {},
   "outputs": [],
   "source": [
    "import pandas as pd\n",
    "import numpy as np"
   ]
  },
  {
   "cell_type": "code",
   "execution_count": 20,
   "metadata": {},
   "outputs": [],
   "source": [
    "class DataframeNumSummarizer():\n",
    "    def summary (df):\n",
    "        for colname, coltype in df.dtypes.iteritems():\n",
    "            if (coltype==\"int64\"):\n",
    "                print(\"Column \" + colname + \":\")\n",
    "                print(\"the minimum value is \" + str(np.min(df[colname])))\n",
    "                print(\"the mean value is \" + str(np.mean(df[colname])))\n",
    "                print(\"the median value is \"  + str(np.median(df[colname])))\n",
    "                print(\"the maximum value is \" + str(np.max(df[colname])))\n",
    "                \n",
    "            "
   ]
  },
  {
   "cell_type": "code",
   "execution_count": 21,
   "metadata": {},
   "outputs": [
    {
     "name": "stdout",
     "output_type": "stream",
     "text": [
      "Column Doors:\n",
      "the minimum value is 3\n",
      "the mean value is 4.25\n",
      "the median value is 4.5\n",
      "the maximum value is 5\n",
      "Column Cylinders:\n",
      "the minimum value is 4\n",
      "the mean value is 5.0\n",
      "the median value is 4.0\n",
      "the maximum value is 8\n"
     ]
    }
   ],
   "source": [
    "df2 = pd.read_csv(\"mtcars.csv\")\n",
    "\n",
    "\n",
    "\n",
    "d = DataframeNumSummarizer.summary(df2)"
   ]
  },
  {
   "cell_type": "code",
   "execution_count": null,
   "metadata": {},
   "outputs": [],
   "source": []
  }
 ],
 "metadata": {
  "kernelspec": {
   "display_name": "Python 3",
   "language": "python",
   "name": "python3"
  },
  "language_info": {
   "codemirror_mode": {
    "name": "ipython",
    "version": 3
   },
   "file_extension": ".py",
   "mimetype": "text/x-python",
   "name": "python",
   "nbconvert_exporter": "python",
   "pygments_lexer": "ipython3",
   "version": "3.7.6"
  }
 },
 "nbformat": 4,
 "nbformat_minor": 4
}
