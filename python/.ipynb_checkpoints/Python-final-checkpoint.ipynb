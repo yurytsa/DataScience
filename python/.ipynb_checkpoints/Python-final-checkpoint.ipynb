{
 "cells": [
  {
   "cell_type": "markdown",
   "metadata": {},
   "source": [
    "# Python Intro - Final Exercise\n"
   ]
  },
  {
   "cell_type": "code",
   "execution_count": 2,
   "metadata": {},
   "outputs": [],
   "source": [
    "import pyodbc\n",
    "import pandas as pd\n",
    "import numpy as np"
   ]
  },
  {
   "cell_type": "code",
   "execution_count": 3,
   "metadata": {},
   "outputs": [],
   "source": [
    "### In windows, Using a ODBC DNS (predefined connection name)\n",
    "##conn = pyodbc.connect('DSN=COLLEGE;Trusted_Connection=yes;')\n"
   ]
  },
  {
   "cell_type": "code",
   "execution_count": 4,
   "metadata": {},
   "outputs": [],
   "source": [
    "### Get the students table\n",
    "##students = pd.read_sql(\"SELECT * FROM Students;\",conn)\n",
    "students = pd.read_csv(\"C:/Users/yuryt/Downloads/Students.csv\") \n",
    "\n",
    "classrooms = pd.read_csv(\"C:/Users/yuryt/Downloads/Classrooms.csv\") \n",
    "\n",
    "teachers = pd.read_csv(\"C:/Users/yuryt/Downloads/Teachers.csv\") \n",
    "\n",
    "courses = pd.read_csv(\"C:/Users/yuryt/Downloads/Courses.csv\") \n",
    "\n",
    "departments = pd.read_csv(\"C:/Users/yuryt/Downloads/Departments.csv\") \n"
   ]
  },
  {
   "cell_type": "markdown",
   "metadata": {},
   "source": [
    "# Questions\n",
    " \n",
    " \n",
    "## Q1. Count the number of students on each department"
   ]
  },
  {
   "cell_type": "code",
   "execution_count": 5,
   "metadata": {},
   "outputs": [],
   "source": [
    "#students\n",
    "students_classrooms = pd.merge(students, classrooms, how='inner', on='StudentId')"
   ]
  },
  {
   "cell_type": "code",
   "execution_count": 6,
   "metadata": {},
   "outputs": [],
   "source": [
    "students_classrooms_courses = pd.merge(students_classrooms, courses, how='inner', on='CourseId')"
   ]
  },
  {
   "cell_type": "code",
   "execution_count": 7,
   "metadata": {},
   "outputs": [],
   "source": [
    "students_classrooms_courses_departments = pd.merge(students_classrooms_courses, departments, how='inner', left_on='DepartmentID', right_on='DepartmentId')"
   ]
  },
  {
   "cell_type": "code",
   "execution_count": 19,
   "metadata": {},
   "outputs": [
    {
     "data": {
      "text/html": [
       "<div>\n",
       "<style scoped>\n",
       "    .dataframe tbody tr th:only-of-type {\n",
       "        vertical-align: middle;\n",
       "    }\n",
       "\n",
       "    .dataframe tbody tr th {\n",
       "        vertical-align: top;\n",
       "    }\n",
       "\n",
       "    .dataframe thead th {\n",
       "        text-align: right;\n",
       "    }\n",
       "</style>\n",
       "<table border=\"1\" class=\"dataframe\">\n",
       "  <thead>\n",
       "    <tr style=\"text-align: right;\">\n",
       "      <th></th>\n",
       "      <th>Students</th>\n",
       "    </tr>\n",
       "    <tr>\n",
       "      <th>DepartmentName</th>\n",
       "      <th></th>\n",
       "    </tr>\n",
       "  </thead>\n",
       "  <tbody>\n",
       "    <tr>\n",
       "      <th>Arts</th>\n",
       "      <td>137</td>\n",
       "    </tr>\n",
       "    <tr>\n",
       "      <th>English</th>\n",
       "      <td>84</td>\n",
       "    </tr>\n",
       "    <tr>\n",
       "      <th>Science</th>\n",
       "      <td>200</td>\n",
       "    </tr>\n",
       "    <tr>\n",
       "      <th>Sport</th>\n",
       "      <td>81</td>\n",
       "    </tr>\n",
       "  </tbody>\n",
       "</table>\n",
       "</div>"
      ],
      "text/plain": [
       "                Students\n",
       "DepartmentName          \n",
       "Arts                 137\n",
       "English               84\n",
       "Science              200\n",
       "Sport                 81"
      ]
     },
     "execution_count": 19,
     "metadata": {},
     "output_type": "execute_result"
    }
   ],
   "source": [
    "department_student_unique = students_classrooms_courses_departments[['DepartmentName','StudentId']].drop_duplicates()\n",
    "dsu = department_student_unique.groupby('DepartmentName').agg({'StudentId':['count']})\n",
    "dsu.columns = ['Students']\n",
    "dsu"
   ]
  },
  {
   "cell_type": "markdown",
   "metadata": {},
   "source": [
    "## Q2. How many students have each course of the English department and the total number of students in the department?"
   ]
  },
  {
   "cell_type": "code",
   "execution_count": 43,
   "metadata": {},
   "outputs": [
    {
     "data": {
      "text/html": [
       "<div>\n",
       "<style scoped>\n",
       "    .dataframe tbody tr th:only-of-type {\n",
       "        vertical-align: middle;\n",
       "    }\n",
       "\n",
       "    .dataframe tbody tr th {\n",
       "        vertical-align: top;\n",
       "    }\n",
       "\n",
       "    .dataframe thead th {\n",
       "        text-align: right;\n",
       "    }\n",
       "</style>\n",
       "<table border=\"1\" class=\"dataframe\">\n",
       "  <thead>\n",
       "    <tr style=\"text-align: right;\">\n",
       "      <th></th>\n",
       "      <th>Students</th>\n",
       "    </tr>\n",
       "    <tr>\n",
       "      <th>CourseName</th>\n",
       "      <th></th>\n",
       "    </tr>\n",
       "  </thead>\n",
       "  <tbody>\n",
       "    <tr>\n",
       "      <th>Advanced English</th>\n",
       "      <td>24</td>\n",
       "    </tr>\n",
       "    <tr>\n",
       "      <th>English Begginers</th>\n",
       "      <td>32</td>\n",
       "    </tr>\n",
       "    <tr>\n",
       "      <th>Proffesional English</th>\n",
       "      <td>38</td>\n",
       "    </tr>\n",
       "    <tr>\n",
       "      <th>Total Distinct</th>\n",
       "      <td>84</td>\n",
       "    </tr>\n",
       "  </tbody>\n",
       "</table>\n",
       "</div>"
      ],
      "text/plain": [
       "                      Students\n",
       "CourseName                    \n",
       "Advanced English            24\n",
       "English Begginers           32\n",
       "Proffesional English        38\n",
       "Total Distinct              84"
      ]
     },
     "execution_count": 43,
     "metadata": {},
     "output_type": "execute_result"
    }
   ],
   "source": [
    "### filter students by department==English\n",
    "eng_studs = students_classrooms_courses_departments.loc[students_classrooms_courses_departments['DepartmentName'] == 'English']\n",
    "### group by course and count inside the group\n",
    "stud_course = eng_studs.groupby('CourseName').agg({'StudentId':['count']})\n",
    "### Rename aggregated column\n",
    "stud_course.columns = ['Students']\n",
    "### count the distinct students in department\n",
    "distinct_studs = eng_studs.StudentId.drop_duplicates().count()\n",
    "### add total row\n",
    "stud_course.loc['Total Distinct']=distinct_studs\n",
    "stud_course\n"
   ]
  },
  {
   "cell_type": "markdown",
   "metadata": {},
   "source": [
    "## Q3. How many small (<22 students) and large (22+ students) classrooms are needed for the Science department?"
   ]
  },
  {
   "cell_type": "code",
   "execution_count": 40,
   "metadata": {},
   "outputs": [
    {
     "data": {
      "text/html": [
       "<div>\n",
       "<style scoped>\n",
       "    .dataframe tbody tr th:only-of-type {\n",
       "        vertical-align: middle;\n",
       "    }\n",
       "\n",
       "    .dataframe tbody tr th {\n",
       "        vertical-align: top;\n",
       "    }\n",
       "\n",
       "    .dataframe thead th {\n",
       "        text-align: right;\n",
       "    }\n",
       "</style>\n",
       "<table border=\"1\" class=\"dataframe\">\n",
       "  <thead>\n",
       "    <tr style=\"text-align: right;\">\n",
       "      <th></th>\n",
       "      <th>StudentId</th>\n",
       "      <th>FirstName</th>\n",
       "      <th>LastName</th>\n",
       "      <th>Gender</th>\n",
       "      <th>CourseId</th>\n",
       "      <th>degree</th>\n",
       "      <th>CourseName</th>\n",
       "      <th>DepartmentID</th>\n",
       "      <th>TeacherId</th>\n",
       "      <th>DepartmentId</th>\n",
       "      <th>DepartmentName</th>\n",
       "    </tr>\n",
       "  </thead>\n",
       "  <tbody>\n",
       "    <tr>\n",
       "      <th>0</th>\n",
       "      <td>162</td>\n",
       "      <td>Elmira</td>\n",
       "      <td>Holston</td>\n",
       "      <td>F</td>\n",
       "      <td>8</td>\n",
       "      <td>65.987050</td>\n",
       "      <td>Chemistry</td>\n",
       "      <td>2</td>\n",
       "      <td>14</td>\n",
       "      <td>2</td>\n",
       "      <td>Science</td>\n",
       "    </tr>\n",
       "    <tr>\n",
       "      <th>1</th>\n",
       "      <td>110</td>\n",
       "      <td>Ashleigh</td>\n",
       "      <td>Conder</td>\n",
       "      <td>F</td>\n",
       "      <td>8</td>\n",
       "      <td>81.606452</td>\n",
       "      <td>Chemistry</td>\n",
       "      <td>2</td>\n",
       "      <td>14</td>\n",
       "      <td>2</td>\n",
       "      <td>Science</td>\n",
       "    </tr>\n",
       "    <tr>\n",
       "      <th>2</th>\n",
       "      <td>36</td>\n",
       "      <td>Sarah</td>\n",
       "      <td>Sampson</td>\n",
       "      <td>F</td>\n",
       "      <td>8</td>\n",
       "      <td>80.304966</td>\n",
       "      <td>Chemistry</td>\n",
       "      <td>2</td>\n",
       "      <td>14</td>\n",
       "      <td>2</td>\n",
       "      <td>Science</td>\n",
       "    </tr>\n",
       "    <tr>\n",
       "      <th>3</th>\n",
       "      <td>234</td>\n",
       "      <td>Adrianna</td>\n",
       "      <td>Bean</td>\n",
       "      <td>F</td>\n",
       "      <td>8</td>\n",
       "      <td>66.921710</td>\n",
       "      <td>Chemistry</td>\n",
       "      <td>2</td>\n",
       "      <td>14</td>\n",
       "      <td>2</td>\n",
       "      <td>Science</td>\n",
       "    </tr>\n",
       "    <tr>\n",
       "      <th>4</th>\n",
       "      <td>187</td>\n",
       "      <td>Sabrina</td>\n",
       "      <td>Mcclure</td>\n",
       "      <td>F</td>\n",
       "      <td>8</td>\n",
       "      <td>78.930981</td>\n",
       "      <td>Chemistry</td>\n",
       "      <td>2</td>\n",
       "      <td>14</td>\n",
       "      <td>2</td>\n",
       "      <td>Science</td>\n",
       "    </tr>\n",
       "    <tr>\n",
       "      <th>...</th>\n",
       "      <td>...</td>\n",
       "      <td>...</td>\n",
       "      <td>...</td>\n",
       "      <td>...</td>\n",
       "      <td>...</td>\n",
       "      <td>...</td>\n",
       "      <td>...</td>\n",
       "      <td>...</td>\n",
       "      <td>...</td>\n",
       "      <td>...</td>\n",
       "      <td>...</td>\n",
       "    </tr>\n",
       "    <tr>\n",
       "      <th>373</th>\n",
       "      <td>53</td>\n",
       "      <td>Chase</td>\n",
       "      <td>Thorstensen</td>\n",
       "      <td>M</td>\n",
       "      <td>5</td>\n",
       "      <td>79.468232</td>\n",
       "      <td>Matematics Advanced</td>\n",
       "      <td>2</td>\n",
       "      <td>13</td>\n",
       "      <td>2</td>\n",
       "      <td>Science</td>\n",
       "    </tr>\n",
       "    <tr>\n",
       "      <th>374</th>\n",
       "      <td>83</td>\n",
       "      <td>Adam</td>\n",
       "      <td>Stubblefield</td>\n",
       "      <td>M</td>\n",
       "      <td>5</td>\n",
       "      <td>89.164631</td>\n",
       "      <td>Matematics Advanced</td>\n",
       "      <td>2</td>\n",
       "      <td>13</td>\n",
       "      <td>2</td>\n",
       "      <td>Science</td>\n",
       "    </tr>\n",
       "    <tr>\n",
       "      <th>375</th>\n",
       "      <td>222</td>\n",
       "      <td>Courtney</td>\n",
       "      <td>Shannahan</td>\n",
       "      <td>M</td>\n",
       "      <td>5</td>\n",
       "      <td>59.130109</td>\n",
       "      <td>Matematics Advanced</td>\n",
       "      <td>2</td>\n",
       "      <td>13</td>\n",
       "      <td>2</td>\n",
       "      <td>Science</td>\n",
       "    </tr>\n",
       "    <tr>\n",
       "      <th>376</th>\n",
       "      <td>237</td>\n",
       "      <td>Joshua</td>\n",
       "      <td>Noel</td>\n",
       "      <td>M</td>\n",
       "      <td>5</td>\n",
       "      <td>68.737008</td>\n",
       "      <td>Matematics Advanced</td>\n",
       "      <td>2</td>\n",
       "      <td>13</td>\n",
       "      <td>2</td>\n",
       "      <td>Science</td>\n",
       "    </tr>\n",
       "    <tr>\n",
       "      <th>377</th>\n",
       "      <td>38</td>\n",
       "      <td>Dustin</td>\n",
       "      <td>Mccarthy</td>\n",
       "      <td>M</td>\n",
       "      <td>5</td>\n",
       "      <td>64.103747</td>\n",
       "      <td>Matematics Advanced</td>\n",
       "      <td>2</td>\n",
       "      <td>13</td>\n",
       "      <td>2</td>\n",
       "      <td>Science</td>\n",
       "    </tr>\n",
       "  </tbody>\n",
       "</table>\n",
       "<p>378 rows × 11 columns</p>\n",
       "</div>"
      ],
      "text/plain": [
       "     StudentId  FirstName      LastName Gender  CourseId     degree  \\\n",
       "0          162     Elmira       Holston      F         8  65.987050   \n",
       "1          110   Ashleigh        Conder      F         8  81.606452   \n",
       "2           36      Sarah       Sampson      F         8  80.304966   \n",
       "3          234   Adrianna          Bean      F         8  66.921710   \n",
       "4          187    Sabrina       Mcclure      F         8  78.930981   \n",
       "..         ...        ...           ...    ...       ...        ...   \n",
       "373         53      Chase   Thorstensen      M         5  79.468232   \n",
       "374         83       Adam  Stubblefield      M         5  89.164631   \n",
       "375        222   Courtney     Shannahan      M         5  59.130109   \n",
       "376        237     Joshua          Noel      M         5  68.737008   \n",
       "377         38     Dustin      Mccarthy      M         5  64.103747   \n",
       "\n",
       "              CourseName  DepartmentID  TeacherId  DepartmentId DepartmentName  \n",
       "0              Chemistry             2         14             2        Science  \n",
       "1              Chemistry             2         14             2        Science  \n",
       "2              Chemistry             2         14             2        Science  \n",
       "3              Chemistry             2         14             2        Science  \n",
       "4              Chemistry             2         14             2        Science  \n",
       "..                   ...           ...        ...           ...            ...  \n",
       "373  Matematics Advanced             2         13             2        Science  \n",
       "374  Matematics Advanced             2         13             2        Science  \n",
       "375  Matematics Advanced             2         13             2        Science  \n",
       "376  Matematics Advanced             2         13             2        Science  \n",
       "377  Matematics Advanced             2         13             2        Science  \n",
       "\n",
       "[378 rows x 11 columns]"
      ]
     },
     "execution_count": 40,
     "metadata": {},
     "output_type": "execute_result"
    }
   ],
   "source": [
    "### filter students by department==English\n",
    "sc_studs = students_classrooms_courses_departments.loc[students_classrooms_courses_departments['DepartmentName'] == 'Science']\n",
    "\n",
    "sc_studs.groupby('CourseName').agg({'StudentId':['count']})"
   ]
  },
  {
   "cell_type": "markdown",
   "metadata": {},
   "source": [
    "## Q4. A feminist student claims that there are more male than female in the College. Justify if the argument is correct"
   ]
  },
  {
   "cell_type": "code",
   "execution_count": null,
   "metadata": {},
   "outputs": [],
   "source": []
  },
  {
   "cell_type": "markdown",
   "metadata": {},
   "source": [
    "## Q5. For which courses the percentage of male/female students is over 70%?"
   ]
  },
  {
   "cell_type": "code",
   "execution_count": null,
   "metadata": {},
   "outputs": [],
   "source": []
  },
  {
   "cell_type": "markdown",
   "metadata": {},
   "source": [
    "## Q6. For each department, how many students passed with a grades over 80?"
   ]
  },
  {
   "cell_type": "code",
   "execution_count": null,
   "metadata": {},
   "outputs": [],
   "source": []
  },
  {
   "cell_type": "markdown",
   "metadata": {},
   "source": [
    "## Q7. For each department, how many students passed with a grades under 60?"
   ]
  },
  {
   "cell_type": "code",
   "execution_count": null,
   "metadata": {},
   "outputs": [],
   "source": []
  },
  {
   "cell_type": "markdown",
   "metadata": {},
   "source": [
    "## Q8. Rate the teachers by their average student's grades (in descending order)."
   ]
  },
  {
   "cell_type": "code",
   "execution_count": null,
   "metadata": {},
   "outputs": [],
   "source": []
  },
  {
   "cell_type": "markdown",
   "metadata": {},
   "source": [
    "## Q9. Create a dataframe showing the courses, departments they are associated with, the teacher in each course, and the number of students enrolled in the course (for each course, department and teacher show the names)."
   ]
  },
  {
   "cell_type": "code",
   "execution_count": null,
   "metadata": {},
   "outputs": [],
   "source": []
  },
  {
   "cell_type": "markdown",
   "metadata": {},
   "source": [
    "## Q10. Create a dataframe showing the students, the number of courses they take, the average of the grades per class, and their overall average (for each student show the student name)."
   ]
  },
  {
   "cell_type": "code",
   "execution_count": null,
   "metadata": {},
   "outputs": [],
   "source": []
  }
 ],
 "metadata": {
  "kernelspec": {
   "display_name": "Python 3",
   "language": "python",
   "name": "python3"
  },
  "language_info": {
   "codemirror_mode": {
    "name": "ipython",
    "version": 3
   },
   "file_extension": ".py",
   "mimetype": "text/x-python",
   "name": "python",
   "nbconvert_exporter": "python",
   "pygments_lexer": "ipython3",
   "version": "3.8.3"
  }
 },
 "nbformat": 4,
 "nbformat_minor": 2
}
