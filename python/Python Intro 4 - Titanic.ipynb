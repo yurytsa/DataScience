{
 "cells": [
  {
   "cell_type": "markdown",
   "metadata": {},
   "source": [
    "# Understanding the Titanic Survival\n",
    "\n",
    "<img src=\"https://upload.wikimedia.org/wikipedia/commons/6/6e/St%C3%B6wer_Titanic.jpg\" />\n",
    " \n",
    "Wellcome to the Titanic, the largest British ship at the time,  that sank in the North \n",
    "Atlantic Ocean in the early hours of 15 April 1912. \n",
    " \n",
    "In this notebook we will try to undestand the characteristics of the individuals that were at the Titanic, how many survived and who survived.\n",
    "\n",
    "Please download the titanic.csv file from the Google Drive into your computer and load it\n",
    "using Pandas.\n",
    "\n",
    "This dataset is a partial dataset used as the training set on Kaggle's Titanic challenge.\n",
    "\n",
    "###  NOTE: Open this notebook in Jupiter and make a copy of it (File ->  Make a copy). Work on the copied notebook so you can use the original notebook as a reference for the expected results.\n",
    " \n",
    "I recommend you to try to repeat the same analysis we make here using R :-)\n",
    " "
   ]
  },
  {
   "cell_type": "code",
   "execution_count": 1,
   "metadata": {},
   "outputs": [],
   "source": [
    "import numpy as np\n",
    "import pandas as pd\n",
    "import matplotlib.pyplot as plt\n",
    "import seaborn as sns"
   ]
  },
  {
   "cell_type": "code",
   "execution_count": 2,
   "metadata": {},
   "outputs": [],
   "source": [
    "### change this to the path you downloded the file\n",
    "path = \"../data/titanic.csv\""
   ]
  },
  {
   "cell_type": "code",
   "execution_count": 3,
   "metadata": {},
   "outputs": [
    {
     "data": {
      "text/html": [
       "<div>\n",
       "<style scoped>\n",
       "    .dataframe tbody tr th:only-of-type {\n",
       "        vertical-align: middle;\n",
       "    }\n",
       "\n",
       "    .dataframe tbody tr th {\n",
       "        vertical-align: top;\n",
       "    }\n",
       "\n",
       "    .dataframe thead th {\n",
       "        text-align: right;\n",
       "    }\n",
       "</style>\n",
       "<table border=\"1\" class=\"dataframe\">\n",
       "  <thead>\n",
       "    <tr style=\"text-align: right;\">\n",
       "      <th></th>\n",
       "      <th>PassengerId</th>\n",
       "      <th>Survived</th>\n",
       "      <th>Pclass</th>\n",
       "      <th>Name</th>\n",
       "      <th>Sex</th>\n",
       "      <th>Age</th>\n",
       "      <th>SibSp</th>\n",
       "      <th>Parch</th>\n",
       "      <th>Ticket</th>\n",
       "      <th>Fare</th>\n",
       "      <th>Cabin</th>\n",
       "      <th>Embarked</th>\n",
       "    </tr>\n",
       "  </thead>\n",
       "  <tbody>\n",
       "    <tr>\n",
       "      <td>0</td>\n",
       "      <td>1</td>\n",
       "      <td>0</td>\n",
       "      <td>3</td>\n",
       "      <td>Braund, Mr. Owen Harris</td>\n",
       "      <td>male</td>\n",
       "      <td>22.0</td>\n",
       "      <td>1</td>\n",
       "      <td>0</td>\n",
       "      <td>A/5 21171</td>\n",
       "      <td>7.2500</td>\n",
       "      <td>NaN</td>\n",
       "      <td>S</td>\n",
       "    </tr>\n",
       "    <tr>\n",
       "      <td>1</td>\n",
       "      <td>2</td>\n",
       "      <td>1</td>\n",
       "      <td>1</td>\n",
       "      <td>Cumings, Mrs. John Bradley (Florence Briggs Th...</td>\n",
       "      <td>female</td>\n",
       "      <td>38.0</td>\n",
       "      <td>1</td>\n",
       "      <td>0</td>\n",
       "      <td>PC 17599</td>\n",
       "      <td>71.2833</td>\n",
       "      <td>C85</td>\n",
       "      <td>C</td>\n",
       "    </tr>\n",
       "    <tr>\n",
       "      <td>2</td>\n",
       "      <td>3</td>\n",
       "      <td>1</td>\n",
       "      <td>3</td>\n",
       "      <td>Heikkinen, Miss. Laina</td>\n",
       "      <td>female</td>\n",
       "      <td>26.0</td>\n",
       "      <td>0</td>\n",
       "      <td>0</td>\n",
       "      <td>STON/O2. 3101282</td>\n",
       "      <td>7.9250</td>\n",
       "      <td>NaN</td>\n",
       "      <td>S</td>\n",
       "    </tr>\n",
       "    <tr>\n",
       "      <td>3</td>\n",
       "      <td>4</td>\n",
       "      <td>1</td>\n",
       "      <td>1</td>\n",
       "      <td>Futrelle, Mrs. Jacques Heath (Lily May Peel)</td>\n",
       "      <td>female</td>\n",
       "      <td>35.0</td>\n",
       "      <td>1</td>\n",
       "      <td>0</td>\n",
       "      <td>113803</td>\n",
       "      <td>53.1000</td>\n",
       "      <td>C123</td>\n",
       "      <td>S</td>\n",
       "    </tr>\n",
       "    <tr>\n",
       "      <td>4</td>\n",
       "      <td>5</td>\n",
       "      <td>0</td>\n",
       "      <td>3</td>\n",
       "      <td>Allen, Mr. William Henry</td>\n",
       "      <td>male</td>\n",
       "      <td>35.0</td>\n",
       "      <td>0</td>\n",
       "      <td>0</td>\n",
       "      <td>373450</td>\n",
       "      <td>8.0500</td>\n",
       "      <td>NaN</td>\n",
       "      <td>S</td>\n",
       "    </tr>\n",
       "  </tbody>\n",
       "</table>\n",
       "</div>"
      ],
      "text/plain": [
       "   PassengerId  Survived  Pclass  \\\n",
       "0            1         0       3   \n",
       "1            2         1       1   \n",
       "2            3         1       3   \n",
       "3            4         1       1   \n",
       "4            5         0       3   \n",
       "\n",
       "                                                Name     Sex   Age  SibSp  \\\n",
       "0                            Braund, Mr. Owen Harris    male  22.0      1   \n",
       "1  Cumings, Mrs. John Bradley (Florence Briggs Th...  female  38.0      1   \n",
       "2                             Heikkinen, Miss. Laina  female  26.0      0   \n",
       "3       Futrelle, Mrs. Jacques Heath (Lily May Peel)  female  35.0      1   \n",
       "4                           Allen, Mr. William Henry    male  35.0      0   \n",
       "\n",
       "   Parch            Ticket     Fare Cabin Embarked  \n",
       "0      0         A/5 21171   7.2500   NaN        S  \n",
       "1      0          PC 17599  71.2833   C85        C  \n",
       "2      0  STON/O2. 3101282   7.9250   NaN        S  \n",
       "3      0            113803  53.1000  C123        S  \n",
       "4      0            373450   8.0500   NaN        S  "
      ]
     },
     "execution_count": 3,
     "metadata": {},
     "output_type": "execute_result"
    }
   ],
   "source": [
    "### user pandas to read the csv (read_csv())\n",
    "### show the top rows\n",
    "\n",
    "titanic = pd.read_csv(path)\n",
    "titanic.head()"
   ]
  },
  {
   "cell_type": "markdown",
   "metadata": {},
   "source": [
    "#### Columns\n",
    " \n",
    "Those the descriptions of the variables in this dataset:\n",
    "\n",
    "<table>\n",
    "    <tr><th> PassengerId </th><td> type should be integers </td></tr>\n",
    "    <tr><th> Survived </th><td> Survived or Not </td></tr>\n",
    "    <tr><th> Pclass </th><td> Class of Travel </td></tr>\n",
    "    <tr><th> Name </th><td> Name of Passenger </td></tr>\n",
    "    <tr><th> Sex </th><td> Gender </td></tr>\n",
    "    <tr><th> Age </th><td> </td></tr>\n",
    "    <tr><th> SibSp </th><td> Number of Sibling/Spouse abord </td></tr>\n",
    "    <tr><th> Parch </th><td> Number of Parent/Child abord </td></tr>\n",
    "    <tr><th> Ticket </th><td> </td></tr>\n",
    "    <tr><th> Fare </th><td> </td></tr>\n",
    "    <tr><th> Cabin </th><td> </td></tr>\n",
    "    <tr><th> Embarked </th><td> The port in which a passenger has embarked. <br> C - Cherbourg, S - Southampton, Q = Queenstown </td></tr>\n",
    "</table>\n"
   ]
  },
  {
   "cell_type": "markdown",
   "metadata": {},
   "source": [
    "#### Passangers and Survival\n",
    " \n",
    "First, lets check how many passangers are on the Titanic's dataset and how many of them survived?"
   ]
  },
  {
   "cell_type": "code",
   "execution_count": 4,
   "metadata": {},
   "outputs": [
    {
     "name": "stdout",
     "output_type": "stream",
     "text": [
      "We have 891 passangers but only 342 of them survived (38.383838%)\n"
     ]
    }
   ],
   "source": [
    "\n",
    "passangers = len(titanic)\n",
    "survived = len(titanic[titanic.Survived == 1])\n",
    "\n",
    "print(\"We have %d passangers but only %d of them survived (%f%%)\" % (passangers, survived, (survived/passangers*100)))\n",
    "\n"
   ]
  },
  {
   "cell_type": "markdown",
   "metadata": {},
   "source": [
    "Answer: We have 891 passangers but only 342 of them survived (38.383838%)"
   ]
  },
  {
   "cell_type": "markdown",
   "metadata": {},
   "source": [
    "#### Missing values\n",
    " \n",
    "How many missing values are in the dataset?"
   ]
  },
  {
   "cell_type": "code",
   "execution_count": 5,
   "metadata": {},
   "outputs": [
    {
     "data": {
      "text/plain": [
       "PassengerId      0\n",
       "Survived         0\n",
       "Pclass           0\n",
       "Name             0\n",
       "Sex              0\n",
       "Age            177\n",
       "SibSp            0\n",
       "Parch            0\n",
       "Ticket           0\n",
       "Fare             0\n",
       "Cabin          687\n",
       "Embarked         2\n",
       "dtype: int64"
      ]
     },
     "execution_count": 5,
     "metadata": {},
     "output_type": "execute_result"
    }
   ],
   "source": [
    "### use the function isnull() and the function sum()\n",
    "titanic.isnull().sum()"
   ]
  },
  {
   "cell_type": "markdown",
   "metadata": {},
   "source": [
    "Answer: The only variables having missing values are: Age (177), Cabin (687) and Emberked (2)"
   ]
  },
  {
   "cell_type": "markdown",
   "metadata": {},
   "source": [
    "#### Gender distribution and survival\n",
    "\n",
    "How distributed the survivors by gender?"
   ]
  },
  {
   "cell_type": "code",
   "execution_count": 6,
   "metadata": {},
   "outputs": [
    {
     "data": {
      "text/html": [
       "<div>\n",
       "<style scoped>\n",
       "    .dataframe tbody tr th:only-of-type {\n",
       "        vertical-align: middle;\n",
       "    }\n",
       "\n",
       "    .dataframe tbody tr th {\n",
       "        vertical-align: top;\n",
       "    }\n",
       "\n",
       "    .dataframe thead tr th {\n",
       "        text-align: left;\n",
       "    }\n",
       "\n",
       "    .dataframe thead tr:last-of-type th {\n",
       "        text-align: right;\n",
       "    }\n",
       "</style>\n",
       "<table border=\"1\" class=\"dataframe\">\n",
       "  <thead>\n",
       "    <tr>\n",
       "      <th></th>\n",
       "      <th colspan=\"3\" halign=\"left\">Survived</th>\n",
       "    </tr>\n",
       "    <tr>\n",
       "      <th></th>\n",
       "      <th>count</th>\n",
       "      <th>sum</th>\n",
       "      <th>mean</th>\n",
       "    </tr>\n",
       "    <tr>\n",
       "      <th>Sex</th>\n",
       "      <th></th>\n",
       "      <th></th>\n",
       "      <th></th>\n",
       "    </tr>\n",
       "  </thead>\n",
       "  <tbody>\n",
       "    <tr>\n",
       "      <td>female</td>\n",
       "      <td>314</td>\n",
       "      <td>233</td>\n",
       "      <td>0.742038</td>\n",
       "    </tr>\n",
       "    <tr>\n",
       "      <td>male</td>\n",
       "      <td>577</td>\n",
       "      <td>109</td>\n",
       "      <td>0.188908</td>\n",
       "    </tr>\n",
       "  </tbody>\n",
       "</table>\n",
       "</div>"
      ],
      "text/plain": [
       "       Survived               \n",
       "          count  sum      mean\n",
       "Sex                           \n",
       "female      314  233  0.742038\n",
       "male        577  109  0.188908"
      ]
     },
     "execution_count": 6,
     "metadata": {},
     "output_type": "execute_result"
    }
   ],
   "source": [
    "## use groupby() and agg() to get the table bellow\n",
    "titanic.groupby('Sex').agg({'Survived':['count',sum,'mean']})"
   ]
  },
  {
   "cell_type": "markdown",
   "metadata": {},
   "source": [
    "Survived\n",
    "\n",
    "Sex\t\tcount\tsum\tmean\n",
    "female\t  314\t233\t0.742038\n",
    "male\t  577\t109\t0.188908\n",
    "\n"
   ]
  },
  {
   "cell_type": "markdown",
   "metadata": {},
   "source": [
    "#### Age distribution and survival\n",
    "\n",
    "Plot the Age frequencies of the passangers. (use an histogram)\n"
   ]
  },
  {
   "cell_type": "code",
   "execution_count": 7,
   "metadata": {},
   "outputs": [
    {
     "data": {
      "text/plain": [
       "count    714.000000\n",
       "mean      29.699118\n",
       "std       14.526497\n",
       "min        0.420000\n",
       "25%       20.125000\n",
       "50%       28.000000\n",
       "75%       38.000000\n",
       "max       80.000000\n",
       "Name: Age, dtype: float64"
      ]
     },
     "execution_count": 7,
     "metadata": {},
     "output_type": "execute_result"
    }
   ],
   "source": [
    "titanic['Age'].describe()"
   ]
  },
  {
   "cell_type": "code",
   "execution_count": 8,
   "metadata": {},
   "outputs": [
    {
     "data": {
<<<<<<< HEAD
      "image/png": "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\n",
=======
      "image/png": "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\n",
>>>>>>> 42ecbe735c8a9aedef7fa256c57504b99517a953
      "text/plain": [
       "<Figure size 432x288 with 1 Axes>"
      ]
     },
     "metadata": {
      "needs_background": "light"
     },
     "output_type": "display_data"
    }
   ],
   "source": [
    "### As there are null values in Age, we have to drop those nulls adding the .dropna() function !\n",
    "fig, ax = plt.subplots()\n",
    "ax.hist(x=titanic['Age'].dropna())\n",
    "plt.show()"
   ]
  },
  {
   "cell_type": "code",
   "execution_count": 9,
   "metadata": {},
   "outputs": [
    {
     "data": {
      "text/plain": [
       "(0.0, 100.0)"
      ]
     },
     "execution_count": 9,
     "metadata": {},
     "output_type": "execute_result"
    },
    {
     "data": {
<<<<<<< HEAD
      "image/png": "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\n",
=======
      "image/png": "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\n",
>>>>>>> 42ecbe735c8a9aedef7fa256c57504b99517a953
      "text/plain": [
       "<Figure size 432x288 with 1 Axes>"
      ]
     },
     "metadata": {
      "needs_background": "light"
     },
     "output_type": "display_data"
    }
   ],
   "source": [
    "### A more sophisticated example...\n",
    "n, bins, patches = plt.hist(x=titanic['Age'].dropna(), bins='auto', color='#0504aa',alpha=0.7, rwidth=0.85)\n",
    "plt.grid(axis='y', alpha=0.75)\n",
    "plt.xlabel('Age')\n",
    "plt.ylabel('Frequency')\n",
    "plt.title('Age Distribution of the Titanic Passengers')\n",
    "maxfreq = n.max()\n",
    "# Set a clean upper y-axis limit.\n",
    "plt.ylim(ymax=np.ceil(maxfreq / 10) * 10 if maxfreq % 10 else maxfreq + 10)\n"
   ]
  },
  {
   "cell_type": "code",
   "execution_count": 22,
   "metadata": {},
   "outputs": [
    {
     "data": {
      "text/plain": [
<<<<<<< HEAD
       "<matplotlib.axes._subplots.AxesSubplot at 0x25f7d063848>"
=======
       "<matplotlib.axes._subplots.AxesSubplot at 0x7f79ed7ca668>"
>>>>>>> 42ecbe735c8a9aedef7fa256c57504b99517a953
      ]
     },
     "execution_count": 22,
     "metadata": {},
     "output_type": "execute_result"
    },
    {
     "data": {
<<<<<<< HEAD
      "image/png": "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\n",
=======
      "image/png": "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\n",
>>>>>>> 42ecbe735c8a9aedef7fa256c57504b99517a953
      "text/plain": [
       "<Figure size 432x288 with 1 Axes>"
      ]
     },
     "metadata": {
      "needs_background": "light"
     },
     "output_type": "display_data"
    }
   ],
   "source": [
    "### using seaborn... easier to create...\n",
    "sns.distplot(titanic['Age'].dropna())"
   ]
  },
  {
   "cell_type": "markdown",
   "metadata": {},
   "source": [
    "\n",
    "Create a new variable that will divide the passangers in four age categories:\n",
    "\n",
    "- Babies: 0-5\n",
    "- Children: 6-12 years old\n",
    "- Young: 13-17 years old\n",
    "- Adult: 18-59 years old\n",
    "- Older: 60+ years old\n",
    "\n",
    "How many (number and percent) survived on each age group? (We will use the mean function as the percentage)\n"
   ]
  },
  {
   "cell_type": "code",
   "execution_count": 11,
   "metadata": {},
   "outputs": [
    {
     "data": {
      "text/html": [
       "<div>\n",
       "<style scoped>\n",
       "    .dataframe tbody tr th:only-of-type {\n",
       "        vertical-align: middle;\n",
       "    }\n",
       "\n",
       "    .dataframe tbody tr th {\n",
       "        vertical-align: top;\n",
       "    }\n",
       "\n",
       "    .dataframe thead th {\n",
       "        text-align: right;\n",
       "    }\n",
       "</style>\n",
       "<table border=\"1\" class=\"dataframe\">\n",
       "  <thead>\n",
       "    <tr style=\"text-align: right;\">\n",
       "      <th></th>\n",
       "      <th>PassengerId</th>\n",
       "      <th>Survived</th>\n",
       "      <th>Pclass</th>\n",
       "      <th>Name</th>\n",
       "      <th>Sex</th>\n",
       "      <th>Age</th>\n",
       "      <th>SibSp</th>\n",
       "      <th>Parch</th>\n",
       "      <th>Ticket</th>\n",
       "      <th>Fare</th>\n",
       "      <th>Cabin</th>\n",
       "      <th>Embarked</th>\n",
       "      <th>AgeGroup</th>\n",
       "      <th>AgeGroupSort</th>\n",
       "    </tr>\n",
       "  </thead>\n",
       "  <tbody>\n",
       "    <tr>\n",
<<<<<<< HEAD
       "      <th>0</th>\n",
=======
       "      <td>0</td>\n",
>>>>>>> 42ecbe735c8a9aedef7fa256c57504b99517a953
       "      <td>1</td>\n",
       "      <td>0</td>\n",
       "      <td>3</td>\n",
       "      <td>Braund, Mr. Owen Harris</td>\n",
       "      <td>male</td>\n",
       "      <td>22.0</td>\n",
       "      <td>1</td>\n",
       "      <td>0</td>\n",
       "      <td>A/5 21171</td>\n",
       "      <td>7.2500</td>\n",
       "      <td>NaN</td>\n",
       "      <td>S</td>\n",
       "      <td>18-59</td>\n",
       "      <td>3</td>\n",
       "    </tr>\n",
       "    <tr>\n",
<<<<<<< HEAD
       "      <th>1</th>\n",
=======
       "      <td>1</td>\n",
>>>>>>> 42ecbe735c8a9aedef7fa256c57504b99517a953
       "      <td>2</td>\n",
       "      <td>1</td>\n",
       "      <td>1</td>\n",
       "      <td>Cumings, Mrs. John Bradley (Florence Briggs Th...</td>\n",
       "      <td>female</td>\n",
       "      <td>38.0</td>\n",
       "      <td>1</td>\n",
       "      <td>0</td>\n",
       "      <td>PC 17599</td>\n",
       "      <td>71.2833</td>\n",
       "      <td>C85</td>\n",
       "      <td>C</td>\n",
       "      <td>18-59</td>\n",
       "      <td>3</td>\n",
       "    </tr>\n",
       "    <tr>\n",
<<<<<<< HEAD
       "      <th>2</th>\n",
=======
       "      <td>2</td>\n",
>>>>>>> 42ecbe735c8a9aedef7fa256c57504b99517a953
       "      <td>3</td>\n",
       "      <td>1</td>\n",
       "      <td>3</td>\n",
       "      <td>Heikkinen, Miss. Laina</td>\n",
       "      <td>female</td>\n",
       "      <td>26.0</td>\n",
       "      <td>0</td>\n",
       "      <td>0</td>\n",
       "      <td>STON/O2. 3101282</td>\n",
       "      <td>7.9250</td>\n",
       "      <td>NaN</td>\n",
       "      <td>S</td>\n",
       "      <td>18-59</td>\n",
<<<<<<< HEAD
       "      <td>3</td>\n",
       "    </tr>\n",
       "    <tr>\n",
       "      <th>3</th>\n",
=======
       "      <td>3</td>\n",
       "    </tr>\n",
       "    <tr>\n",
       "      <td>3</td>\n",
>>>>>>> 42ecbe735c8a9aedef7fa256c57504b99517a953
       "      <td>4</td>\n",
       "      <td>1</td>\n",
       "      <td>1</td>\n",
       "      <td>Futrelle, Mrs. Jacques Heath (Lily May Peel)</td>\n",
       "      <td>female</td>\n",
       "      <td>35.0</td>\n",
       "      <td>1</td>\n",
<<<<<<< HEAD
       "      <td>0</td>\n",
       "      <td>113803</td>\n",
       "      <td>53.1000</td>\n",
       "      <td>C123</td>\n",
=======
       "      <td>0</td>\n",
       "      <td>113803</td>\n",
       "      <td>53.1000</td>\n",
       "      <td>C123</td>\n",
       "      <td>S</td>\n",
       "      <td>18-59</td>\n",
       "      <td>3</td>\n",
       "    </tr>\n",
       "    <tr>\n",
       "      <td>4</td>\n",
       "      <td>5</td>\n",
       "      <td>0</td>\n",
       "      <td>3</td>\n",
       "      <td>Allen, Mr. William Henry</td>\n",
       "      <td>male</td>\n",
       "      <td>35.0</td>\n",
       "      <td>0</td>\n",
       "      <td>0</td>\n",
       "      <td>373450</td>\n",
       "      <td>8.0500</td>\n",
       "      <td>NaN</td>\n",
>>>>>>> 42ecbe735c8a9aedef7fa256c57504b99517a953
       "      <td>S</td>\n",
       "      <td>18-59</td>\n",
       "      <td>3</td>\n",
       "    </tr>\n",
       "    <tr>\n",
<<<<<<< HEAD
       "      <th>4</th>\n",
       "      <td>5</td>\n",
       "      <td>0</td>\n",
       "      <td>3</td>\n",
       "      <td>Allen, Mr. William Henry</td>\n",
       "      <td>male</td>\n",
       "      <td>35.0</td>\n",
       "      <td>0</td>\n",
       "      <td>0</td>\n",
       "      <td>373450</td>\n",
       "      <td>8.0500</td>\n",
       "      <td>NaN</td>\n",
       "      <td>S</td>\n",
       "      <td>18-59</td>\n",
       "      <td>3</td>\n",
       "    </tr>\n",
       "    <tr>\n",
       "      <th>...</th>\n",
       "      <td>...</td>\n",
       "      <td>...</td>\n",
       "      <td>...</td>\n",
       "      <td>...</td>\n",
       "      <td>...</td>\n",
       "      <td>...</td>\n",
       "      <td>...</td>\n",
       "      <td>...</td>\n",
       "      <td>...</td>\n",
       "      <td>...</td>\n",
       "      <td>...</td>\n",
       "      <td>...</td>\n",
       "      <td>...</td>\n",
       "      <td>...</td>\n",
       "    </tr>\n",
       "    <tr>\n",
       "      <th>886</th>\n",
=======
       "      <td>...</td>\n",
       "      <td>...</td>\n",
       "      <td>...</td>\n",
       "      <td>...</td>\n",
       "      <td>...</td>\n",
       "      <td>...</td>\n",
       "      <td>...</td>\n",
       "      <td>...</td>\n",
       "      <td>...</td>\n",
       "      <td>...</td>\n",
       "      <td>...</td>\n",
       "      <td>...</td>\n",
       "      <td>...</td>\n",
       "      <td>...</td>\n",
       "      <td>...</td>\n",
       "    </tr>\n",
       "    <tr>\n",
       "      <td>886</td>\n",
>>>>>>> 42ecbe735c8a9aedef7fa256c57504b99517a953
       "      <td>887</td>\n",
       "      <td>0</td>\n",
       "      <td>2</td>\n",
       "      <td>Montvila, Rev. Juozas</td>\n",
       "      <td>male</td>\n",
       "      <td>27.0</td>\n",
       "      <td>0</td>\n",
       "      <td>0</td>\n",
       "      <td>211536</td>\n",
       "      <td>13.0000</td>\n",
       "      <td>NaN</td>\n",
       "      <td>S</td>\n",
       "      <td>18-59</td>\n",
       "      <td>3</td>\n",
       "    </tr>\n",
       "    <tr>\n",
       "      <td>887</td>\n",
       "      <td>888</td>\n",
       "      <td>1</td>\n",
       "      <td>1</td>\n",
       "      <td>Graham, Miss. Margaret Edith</td>\n",
       "      <td>female</td>\n",
       "      <td>19.0</td>\n",
       "      <td>0</td>\n",
       "      <td>0</td>\n",
       "      <td>112053</td>\n",
       "      <td>30.0000</td>\n",
       "      <td>B42</td>\n",
       "      <td>S</td>\n",
       "      <td>18-59</td>\n",
       "      <td>3</td>\n",
       "    </tr>\n",
       "    <tr>\n",
       "      <td>888</td>\n",
       "      <td>889</td>\n",
       "      <td>0</td>\n",
       "      <td>3</td>\n",
       "      <td>Johnston, Miss. Catherine Helen \"Carrie\"</td>\n",
       "      <td>female</td>\n",
       "      <td>NaN</td>\n",
       "      <td>1</td>\n",
       "      <td>2</td>\n",
       "      <td>W./C. 6607</td>\n",
       "      <td>23.4500</td>\n",
       "      <td>NaN</td>\n",
       "      <td>S</td>\n",
       "      <td>18-59</td>\n",
       "      <td>3</td>\n",
       "    </tr>\n",
       "    <tr>\n",
       "      <td>889</td>\n",
       "      <td>890</td>\n",
       "      <td>1</td>\n",
       "      <td>1</td>\n",
       "      <td>Behr, Mr. Karl Howell</td>\n",
       "      <td>male</td>\n",
       "      <td>26.0</td>\n",
       "      <td>0</td>\n",
       "      <td>0</td>\n",
       "      <td>111369</td>\n",
       "      <td>30.0000</td>\n",
       "      <td>C148</td>\n",
       "      <td>C</td>\n",
       "      <td>18-59</td>\n",
       "      <td>3</td>\n",
       "    </tr>\n",
       "    <tr>\n",
       "      <td>890</td>\n",
       "      <td>891</td>\n",
       "      <td>0</td>\n",
       "      <td>3</td>\n",
       "      <td>Dooley, Mr. Patrick</td>\n",
       "      <td>male</td>\n",
       "      <td>32.0</td>\n",
       "      <td>0</td>\n",
       "      <td>0</td>\n",
       "      <td>370376</td>\n",
       "      <td>7.7500</td>\n",
       "      <td>NaN</td>\n",
       "      <td>Q</td>\n",
       "      <td>18-59</td>\n",
       "      <td>3</td>\n",
       "    </tr>\n",
       "  </tbody>\n",
       "</table>\n",
       "<p>891 rows × 14 columns</p>\n",
       "</div>"
      ],
      "text/plain": [
       "     PassengerId  Survived  Pclass  \\\n",
       "0              1         0       3   \n",
       "1              2         1       1   \n",
       "2              3         1       3   \n",
       "3              4         1       1   \n",
       "4              5         0       3   \n",
       "..           ...       ...     ...   \n",
       "886          887         0       2   \n",
       "887          888         1       1   \n",
       "888          889         0       3   \n",
       "889          890         1       1   \n",
       "890          891         0       3   \n",
       "\n",
       "                                                  Name     Sex   Age  SibSp  \\\n",
       "0                              Braund, Mr. Owen Harris    male  22.0      1   \n",
       "1    Cumings, Mrs. John Bradley (Florence Briggs Th...  female  38.0      1   \n",
       "2                               Heikkinen, Miss. Laina  female  26.0      0   \n",
       "3         Futrelle, Mrs. Jacques Heath (Lily May Peel)  female  35.0      1   \n",
       "4                             Allen, Mr. William Henry    male  35.0      0   \n",
       "..                                                 ...     ...   ...    ...   \n",
       "886                              Montvila, Rev. Juozas    male  27.0      0   \n",
       "887                       Graham, Miss. Margaret Edith  female  19.0      0   \n",
       "888           Johnston, Miss. Catherine Helen \"Carrie\"  female   NaN      1   \n",
       "889                              Behr, Mr. Karl Howell    male  26.0      0   \n",
       "890                                Dooley, Mr. Patrick    male  32.0      0   \n",
       "\n",
       "     Parch            Ticket     Fare Cabin Embarked AgeGroup  AgeGroupSort  \n",
       "0        0         A/5 21171   7.2500   NaN        S    18-59             3  \n",
       "1        0          PC 17599  71.2833   C85        C    18-59             3  \n",
       "2        0  STON/O2. 3101282   7.9250   NaN        S    18-59             3  \n",
       "3        0            113803  53.1000  C123        S    18-59             3  \n",
       "4        0            373450   8.0500   NaN        S    18-59             3  \n",
       "..     ...               ...      ...   ...      ...      ...           ...  \n",
       "886      0            211536  13.0000   NaN        S    18-59             3  \n",
       "887      0            112053  30.0000   B42        S    18-59             3  \n",
       "888      2        W./C. 6607  23.4500   NaN        S    18-59             3  \n",
       "889      0            111369  30.0000  C148        C    18-59             3  \n",
       "890      0            370376   7.7500   NaN        Q    18-59             3  \n",
       "\n",
       "[891 rows x 14 columns]"
      ]
     },
     "execution_count": 11,
     "metadata": {},
     "output_type": "execute_result"
    }
   ],
   "source": [
    "### create the categorical variables\n",
    "#titanic = titanic.dropna(subset = [\"Age\"])\n",
    "titanic['AgeGroup'] = '0-5' \n",
    "titanic.loc[(titanic.Age > 5) & (titanic.Age < 13), 'AgeGroup'] = '6-12'\n",
    "titanic.loc[(titanic.Age > 12) & (titanic.Age < 18), 'AgeGroup'] = '13-17'\n",
    "titanic.loc[((titanic.Age > 17) & (titanic.Age < 60)) | pd.isnull(titanic.Age) , 'AgeGroup'] = '18-59'  # NuN ages enters this group\n",
    "titanic.loc[(titanic.Age > 59), 'AgeGroup'] = '60+'\n",
    "\n",
    "titanic['AgeGroupSort'] = 0\n",
    "titanic.loc[(titanic.Age > 5) & (titanic.Age < 13), 'AgeGroupSort'] = 1\n",
    "titanic.loc[(titanic.Age > 12) & (titanic.Age < 18), 'AgeGroupSort'] = 2\n",
    "titanic.loc[((titanic.Age > 17) & (titanic.Age < 60)) | pd.isnull(titanic.Age) , 'AgeGroupSort'] = 3  # NuN ages enters this group\n",
    "titanic.loc[(titanic.Age > 59), 'AgeGroupSort'] = 4\n",
    "\n",
    "\n",
    "titanic\n"
   ]
  },
  {
   "cell_type": "code",
   "execution_count": 12,
   "metadata": {},
   "outputs": [
    {
     "data": {
      "text/html": [
       "<div>\n",
       "<style scoped>\n",
       "    .dataframe tbody tr th:only-of-type {\n",
       "        vertical-align: middle;\n",
       "    }\n",
       "\n",
       "    .dataframe tbody tr th {\n",
       "        vertical-align: top;\n",
       "    }\n",
       "\n",
       "    .dataframe thead tr th {\n",
       "        text-align: left;\n",
       "    }\n",
       "\n",
       "    .dataframe thead tr:last-of-type th {\n",
       "        text-align: right;\n",
       "    }\n",
       "</style>\n",
       "<table border=\"1\" class=\"dataframe\">\n",
       "  <thead>\n",
       "    <tr>\n",
       "      <th></th>\n",
       "      <th></th>\n",
       "      <th colspan=\"3\" halign=\"left\">Survived</th>\n",
       "    </tr>\n",
       "    <tr>\n",
       "      <th></th>\n",
       "      <th></th>\n",
       "      <th>count</th>\n",
       "      <th>sum</th>\n",
       "      <th>mean</th>\n",
       "    </tr>\n",
       "    <tr>\n",
       "      <th>AgeGroup</th>\n",
       "      <th>AgeGroupSort</th>\n",
       "      <th></th>\n",
       "      <th></th>\n",
       "      <th></th>\n",
       "    </tr>\n",
       "  </thead>\n",
       "  <tbody>\n",
       "    <tr>\n",
       "      <td>0-5</td>\n",
       "      <td>0</td>\n",
       "      <td>44</td>\n",
       "      <td>31</td>\n",
       "      <td>0.704545</td>\n",
       "    </tr>\n",
       "    <tr>\n",
       "      <td>6-12</td>\n",
       "      <td>1</td>\n",
       "      <td>25</td>\n",
       "      <td>9</td>\n",
       "      <td>0.360000</td>\n",
       "    </tr>\n",
       "    <tr>\n",
       "      <td>13-17</td>\n",
       "      <td>2</td>\n",
       "      <td>44</td>\n",
       "      <td>21</td>\n",
       "      <td>0.477273</td>\n",
       "    </tr>\n",
       "    <tr>\n",
       "      <td>18-59</td>\n",
       "      <td>3</td>\n",
       "      <td>752</td>\n",
       "      <td>274</td>\n",
       "      <td>0.364362</td>\n",
       "    </tr>\n",
       "    <tr>\n",
       "      <td>60+</td>\n",
       "      <td>4</td>\n",
       "      <td>26</td>\n",
       "      <td>7</td>\n",
       "      <td>0.269231</td>\n",
       "    </tr>\n",
       "  </tbody>\n",
       "</table>\n",
       "</div>"
      ],
      "text/plain": [
       "                      Survived               \n",
       "                         count  sum      mean\n",
       "AgeGroup AgeGroupSort                        \n",
       "0-5      0                  44   31  0.704545\n",
       "6-12     1                  25    9  0.360000\n",
       "13-17    2                  44   21  0.477273\n",
       "18-59    3                 752  274  0.364362\n",
       "60+      4                  26    7  0.269231"
      ]
     },
     "execution_count": 12,
     "metadata": {},
     "output_type": "execute_result"
    }
   ],
   "source": [
    "## use groupby() and agg() to get the table bellow\n",
    "titanic_gr = titanic.groupby([\"AgeGroup\",\"AgeGroupSort\"]).agg({'Survived':['count','sum','mean']}).sort_values('AgeGroupSort', ascending=True)\n",
    "titanic_gr\n"
   ]
  },
  {
   "cell_type": "markdown",
   "metadata": {},
   "source": [
    "\tSurvived\n",
    "\n",
    "AgeGroup count\tsum\tmean\t\t\t\n",
    "0-5\t      44\t31\t0.704545\n",
    "6-12\t  25\t9\t0.360000\n",
    "13-17\t  44\t21\t0.477273\n",
    "18-59\t  752\t274\t0.364362\n",
    "60+\t      26\t7\t0.269231"
   ]
  },
  {
   "cell_type": "markdown",
   "metadata": {},
   "source": [
    "#### Age-Gender Survival\n",
    "\n",
    "Where there differences on survival by age group and gender?"
   ]
  },
  {
   "cell_type": "code",
   "execution_count": 13,
   "metadata": {},
   "outputs": [
    {
     "data": {
      "text/html": [
       "<div>\n",
       "<style scoped>\n",
       "    .dataframe tbody tr th:only-of-type {\n",
       "        vertical-align: middle;\n",
       "    }\n",
       "\n",
       "    .dataframe tbody tr th {\n",
       "        vertical-align: top;\n",
       "    }\n",
       "\n",
       "    .dataframe thead tr th {\n",
       "        text-align: left;\n",
       "    }\n",
       "\n",
       "    .dataframe thead tr:last-of-type th {\n",
       "        text-align: right;\n",
       "    }\n",
       "</style>\n",
       "<table border=\"1\" class=\"dataframe\">\n",
       "  <thead>\n",
       "    <tr>\n",
       "      <th></th>\n",
       "      <th></th>\n",
       "      <th></th>\n",
       "      <th colspan=\"3\" halign=\"left\">Survived</th>\n",
       "    </tr>\n",
       "    <tr>\n",
       "      <th></th>\n",
       "      <th></th>\n",
       "      <th></th>\n",
       "      <th>count</th>\n",
       "      <th>sum</th>\n",
       "      <th>mean</th>\n",
       "    </tr>\n",
       "    <tr>\n",
       "      <th>Sex</th>\n",
       "      <th>AgeGroup</th>\n",
       "      <th>AgeGroupSort</th>\n",
       "      <th></th>\n",
       "      <th></th>\n",
       "      <th></th>\n",
       "    </tr>\n",
       "  </thead>\n",
       "  <tbody>\n",
       "    <tr>\n",
       "      <td rowspan=\"5\" valign=\"top\">female</td>\n",
       "      <td>0-5</td>\n",
       "      <td>0</td>\n",
       "      <td>21</td>\n",
       "      <td>16</td>\n",
       "      <td>0.761905</td>\n",
       "    </tr>\n",
       "    <tr>\n",
       "      <td>6-12</td>\n",
       "      <td>1</td>\n",
       "      <td>11</td>\n",
       "      <td>3</td>\n",
       "      <td>0.272727</td>\n",
       "    </tr>\n",
       "    <tr>\n",
       "      <td>13-17</td>\n",
       "      <td>2</td>\n",
       "      <td>23</td>\n",
       "      <td>19</td>\n",
       "      <td>0.826087</td>\n",
       "    </tr>\n",
       "    <tr>\n",
       "      <td>18-59</td>\n",
       "      <td>3</td>\n",
       "      <td>255</td>\n",
       "      <td>191</td>\n",
       "      <td>0.749020</td>\n",
       "    </tr>\n",
       "    <tr>\n",
       "      <td>60+</td>\n",
       "      <td>4</td>\n",
       "      <td>4</td>\n",
       "      <td>4</td>\n",
       "      <td>1.000000</td>\n",
       "    </tr>\n",
       "    <tr>\n",
       "      <td rowspan=\"5\" valign=\"top\">male</td>\n",
       "      <td>0-5</td>\n",
       "      <td>0</td>\n",
       "      <td>23</td>\n",
       "      <td>15</td>\n",
       "      <td>0.652174</td>\n",
       "    </tr>\n",
       "    <tr>\n",
       "      <td>6-12</td>\n",
       "      <td>1</td>\n",
       "      <td>14</td>\n",
       "      <td>6</td>\n",
       "      <td>0.428571</td>\n",
       "    </tr>\n",
       "    <tr>\n",
       "      <td>13-17</td>\n",
       "      <td>2</td>\n",
       "      <td>21</td>\n",
       "      <td>2</td>\n",
       "      <td>0.095238</td>\n",
       "    </tr>\n",
       "    <tr>\n",
       "      <td>18-59</td>\n",
       "      <td>3</td>\n",
       "      <td>497</td>\n",
       "      <td>83</td>\n",
       "      <td>0.167002</td>\n",
       "    </tr>\n",
       "    <tr>\n",
       "      <td>60+</td>\n",
       "      <td>4</td>\n",
       "      <td>22</td>\n",
       "      <td>3</td>\n",
       "      <td>0.136364</td>\n",
       "    </tr>\n",
       "  </tbody>\n",
       "</table>\n",
       "</div>"
      ],
      "text/plain": [
       "                             Survived               \n",
       "                                count  sum      mean\n",
       "Sex    AgeGroup AgeGroupSort                        \n",
       "female 0-5      0                  21   16  0.761905\n",
       "       6-12     1                  11    3  0.272727\n",
       "       13-17    2                  23   19  0.826087\n",
       "       18-59    3                 255  191  0.749020\n",
       "       60+      4                   4    4  1.000000\n",
       "male   0-5      0                  23   15  0.652174\n",
       "       6-12     1                  14    6  0.428571\n",
       "       13-17    2                  21    2  0.095238\n",
       "       18-59    3                 497   83  0.167002\n",
       "       60+      4                  22    3  0.136364"
      ]
     },
     "execution_count": 13,
     "metadata": {},
     "output_type": "execute_result"
    }
   ],
   "source": [
    "## use groupby() and agg() to get the table bellow\n",
    "titanic.groupby([\"Sex\",\"AgeGroup\",\"AgeGroupSort\"]).agg({'Survived':['count','sum','mean']}).sort_values(['Sex','AgeGroupSort'], ascending=True)"
   ]
  },
  {
   "cell_type": "markdown",
   "metadata": {},
   "source": [
    "Survived\n",
    "\n",
    "Sex\t  AgeGroup count\tsum\tmean\t\t\n",
    "female\t0-5\t    21\t    16\t0.761905\n",
    "        6-12\t11\t    3\t0.272727\n",
    "        13-17\t23\t    19\t0.826087\n",
    "        18-59\t255\t    191\t0.749020\n",
    "        60+\t    4\t    4\t1.000000\n",
    "male\t0-5\t    23\t    15\t0.652174\n",
    "        6-12\t14\t    6\t0.428571\n",
    "        13-17\t21\t    2\t0.095238\n",
    "        18-59\t497\t    83\t0.167002\n",
    "        60+\t    22\t    3\t0.136364"
   ]
  },
  {
   "cell_type": "markdown",
   "metadata": {},
   "source": [
    "#### Passenger Class and Survival\n",
    "\n",
    "Was there any difference in the survival among passangers by their ticket class (Pclass) ?"
   ]
  },
  {
   "cell_type": "code",
   "execution_count": 14,
   "metadata": {},
   "outputs": [
    {
     "data": {
      "text/html": [
       "<div>\n",
       "<style scoped>\n",
       "    .dataframe tbody tr th:only-of-type {\n",
       "        vertical-align: middle;\n",
       "    }\n",
       "\n",
       "    .dataframe tbody tr th {\n",
       "        vertical-align: top;\n",
       "    }\n",
       "\n",
       "    .dataframe thead tr th {\n",
       "        text-align: left;\n",
       "    }\n",
       "\n",
       "    .dataframe thead tr:last-of-type th {\n",
       "        text-align: right;\n",
       "    }\n",
       "</style>\n",
       "<table border=\"1\" class=\"dataframe\">\n",
       "  <thead>\n",
       "    <tr>\n",
       "      <th></th>\n",
       "      <th colspan=\"3\" halign=\"left\">Survived</th>\n",
       "    </tr>\n",
       "    <tr>\n",
       "      <th></th>\n",
       "      <th>count</th>\n",
       "      <th>sum</th>\n",
       "      <th>mean</th>\n",
       "    </tr>\n",
       "    <tr>\n",
       "      <th>Pclass</th>\n",
       "      <th></th>\n",
       "      <th></th>\n",
       "      <th></th>\n",
       "    </tr>\n",
       "  </thead>\n",
       "  <tbody>\n",
       "    <tr>\n",
       "      <td>1</td>\n",
       "      <td>216</td>\n",
       "      <td>136</td>\n",
       "      <td>0.629630</td>\n",
       "    </tr>\n",
       "    <tr>\n",
       "      <td>2</td>\n",
       "      <td>184</td>\n",
       "      <td>87</td>\n",
       "      <td>0.472826</td>\n",
       "    </tr>\n",
       "    <tr>\n",
       "      <td>3</td>\n",
       "      <td>491</td>\n",
       "      <td>119</td>\n",
       "      <td>0.242363</td>\n",
       "    </tr>\n",
       "  </tbody>\n",
       "</table>\n",
       "</div>"
      ],
      "text/plain": [
       "       Survived               \n",
       "          count  sum      mean\n",
       "Pclass                        \n",
       "1           216  136  0.629630\n",
       "2           184   87  0.472826\n",
       "3           491  119  0.242363"
      ]
     },
     "execution_count": 14,
     "metadata": {},
     "output_type": "execute_result"
    }
   ],
   "source": [
    "## use groupby() and agg() to get the table bellow\n",
    "titanic.groupby([\"Pclass\"]).agg({'Survived':['count','sum','mean']})"
   ]
  },
  {
   "cell_type": "markdown",
   "metadata": {},
   "source": [
    "Survived\n",
    "\n",
    "Pclass\tcount\tsum\tmean\t\t\n",
    "    1\t216\t    136\t0.629630\n",
    "    2\t184\t    87\t0.472826\n",
    "    3\t491\t    119\t0.242363\n"
   ]
  },
  {
   "cell_type": "markdown",
   "metadata": {},
   "source": [
    "#### Traveling alone vs with family\n",
    "\n",
    "Who survived more, individuals that traveled alone or those who traveled with their families?"
   ]
  },
  {
   "cell_type": "code",
   "execution_count": 15,
   "metadata": {},
   "outputs": [
    {
     "data": {
      "text/html": [
       "<div>\n",
       "<style scoped>\n",
       "    .dataframe tbody tr th:only-of-type {\n",
       "        vertical-align: middle;\n",
       "    }\n",
       "\n",
       "    .dataframe tbody tr th {\n",
       "        vertical-align: top;\n",
       "    }\n",
       "\n",
       "    .dataframe thead tr th {\n",
       "        text-align: left;\n",
       "    }\n",
       "\n",
       "    .dataframe thead tr:last-of-type th {\n",
       "        text-align: right;\n",
       "    }\n",
       "</style>\n",
       "<table border=\"1\" class=\"dataframe\">\n",
       "  <thead>\n",
       "    <tr>\n",
       "      <th></th>\n",
       "      <th colspan=\"3\" halign=\"left\">Survived</th>\n",
       "    </tr>\n",
       "    <tr>\n",
       "      <th></th>\n",
       "      <th>count</th>\n",
       "      <th>sum</th>\n",
       "      <th>mean</th>\n",
       "    </tr>\n",
       "    <tr>\n",
       "      <th>TravelAlone</th>\n",
       "      <th></th>\n",
       "      <th></th>\n",
       "      <th></th>\n",
       "    </tr>\n",
       "  </thead>\n",
       "  <tbody>\n",
       "    <tr>\n",
       "      <td>0</td>\n",
       "      <td>354</td>\n",
       "      <td>179</td>\n",
       "      <td>0.505650</td>\n",
       "    </tr>\n",
       "    <tr>\n",
       "      <td>1</td>\n",
       "      <td>537</td>\n",
       "      <td>163</td>\n",
       "      <td>0.303538</td>\n",
       "    </tr>\n",
       "  </tbody>\n",
       "</table>\n",
       "</div>"
      ],
      "text/plain": [
       "            Survived               \n",
       "               count  sum      mean\n",
       "TravelAlone                        \n",
       "0                354  179  0.505650\n",
       "1                537  163  0.303538"
      ]
     },
     "execution_count": 15,
     "metadata": {},
     "output_type": "execute_result"
    }
   ],
   "source": [
    "# first we have to determine who was alone and who was in family. Use the variables SibSp and Parch\n",
    "titanic['TravelAlone'] = 1\n",
    "titanic.loc[(titanic.SibSp > 0) | (titanic.Parch > 0), 'TravelAlone'] = 0\n",
    "\n",
    "## then use groupby() and agg() to get the table bellow\n",
    "titanic.groupby('TravelAlone').agg({'Survived':['count','sum','mean']})"
   ]
  },
  {
   "cell_type": "markdown",
   "metadata": {},
   "source": [
    "Survived\n",
    "\n",
    "TravelAlone\tcount\tsum\tmean\t\t\n",
    "    0\t     354\t179\t0.505650\n",
    "    1\t     537\t163\t0.303538"
   ]
  },
  {
   "cell_type": "markdown",
   "metadata": {},
   "source": [
    "#### Embarking port and survival\n",
    "\n",
    "Was there any difference in survival related to the embarking port?"
   ]
  },
  {
   "cell_type": "code",
   "execution_count": 16,
   "metadata": {},
   "outputs": [
    {
     "data": {
      "text/html": [
       "<div>\n",
       "<style scoped>\n",
       "    .dataframe tbody tr th:only-of-type {\n",
       "        vertical-align: middle;\n",
       "    }\n",
       "\n",
       "    .dataframe tbody tr th {\n",
       "        vertical-align: top;\n",
       "    }\n",
       "\n",
       "    .dataframe thead tr th {\n",
       "        text-align: left;\n",
       "    }\n",
       "\n",
       "    .dataframe thead tr:last-of-type th {\n",
       "        text-align: right;\n",
       "    }\n",
       "</style>\n",
       "<table border=\"1\" class=\"dataframe\">\n",
       "  <thead>\n",
       "    <tr>\n",
       "      <th></th>\n",
       "      <th colspan=\"3\" halign=\"left\">Survived</th>\n",
       "    </tr>\n",
       "    <tr>\n",
       "      <th></th>\n",
       "      <th>count</th>\n",
       "      <th>sum</th>\n",
       "      <th>mean</th>\n",
       "    </tr>\n",
       "    <tr>\n",
       "      <th>Embarked</th>\n",
       "      <th></th>\n",
       "      <th></th>\n",
       "      <th></th>\n",
       "    </tr>\n",
       "  </thead>\n",
       "  <tbody>\n",
       "    <tr>\n",
       "      <td>C</td>\n",
       "      <td>168</td>\n",
       "      <td>93</td>\n",
       "      <td>0.553571</td>\n",
       "    </tr>\n",
       "    <tr>\n",
       "      <td>Q</td>\n",
       "      <td>77</td>\n",
       "      <td>30</td>\n",
       "      <td>0.389610</td>\n",
       "    </tr>\n",
       "    <tr>\n",
       "      <td>S</td>\n",
       "      <td>644</td>\n",
       "      <td>217</td>\n",
       "      <td>0.336957</td>\n",
       "    </tr>\n",
       "  </tbody>\n",
       "</table>\n",
       "</div>"
      ],
      "text/plain": [
       "         Survived               \n",
       "            count  sum      mean\n",
       "Embarked                        \n",
       "C             168   93  0.553571\n",
       "Q              77   30  0.389610\n",
       "S             644  217  0.336957"
      ]
     },
     "execution_count": 16,
     "metadata": {},
     "output_type": "execute_result"
    }
   ],
   "source": [
    "## use groupby() and agg() to get the table bellow\n",
    "titanic.groupby('Embarked').agg({'Survived':['count','sum','mean']})"
   ]
  },
  {
   "cell_type": "markdown",
   "metadata": {},
   "source": [
    "Survived\n",
    "\n",
    "Embarked  count\tsum\tmean\t\t\t\n",
    "    C\t   168\t93\t0.553571\n",
    "    Q\t    77\t30\t0.389610\n",
    "    S\t   644\t217\t0.336957"
   ]
  },
  {
   "cell_type": "markdown",
   "metadata": {},
   "source": [
    "#### Paid fair and survival\n",
    "\n",
    "What was the fare range paid by the passangers?\n"
   ]
  },
  {
   "cell_type": "code",
   "execution_count": 17,
   "metadata": {},
   "outputs": [
    {
     "data": {
      "text/html": [
       "<div>\n",
       "<style scoped>\n",
       "    .dataframe tbody tr th:only-of-type {\n",
       "        vertical-align: middle;\n",
       "    }\n",
       "\n",
       "    .dataframe tbody tr th {\n",
       "        vertical-align: top;\n",
       "    }\n",
       "\n",
       "    .dataframe thead th {\n",
       "        text-align: right;\n",
       "    }\n",
       "</style>\n",
       "<table border=\"1\" class=\"dataframe\">\n",
       "  <thead>\n",
       "    <tr style=\"text-align: right;\">\n",
       "      <th></th>\n",
       "      <th>PassengerId</th>\n",
       "      <th>Survived</th>\n",
       "      <th>Pclass</th>\n",
       "      <th>Age</th>\n",
       "      <th>SibSp</th>\n",
       "      <th>Parch</th>\n",
       "      <th>Fare</th>\n",
       "      <th>AgeGroupSort</th>\n",
       "      <th>TravelAlone</th>\n",
       "    </tr>\n",
       "  </thead>\n",
       "  <tbody>\n",
       "    <tr>\n",
       "      <td>count</td>\n",
       "      <td>891.000000</td>\n",
       "      <td>891.000000</td>\n",
       "      <td>891.000000</td>\n",
       "      <td>714.000000</td>\n",
       "      <td>891.000000</td>\n",
       "      <td>891.000000</td>\n",
       "      <td>891.000000</td>\n",
       "      <td>891.000000</td>\n",
       "      <td>891.000000</td>\n",
       "    </tr>\n",
       "    <tr>\n",
       "      <td>mean</td>\n",
       "      <td>446.000000</td>\n",
       "      <td>0.383838</td>\n",
       "      <td>2.308642</td>\n",
       "      <td>29.699118</td>\n",
       "      <td>0.523008</td>\n",
       "      <td>0.381594</td>\n",
       "      <td>32.204208</td>\n",
       "      <td>2.775533</td>\n",
       "      <td>0.602694</td>\n",
       "    </tr>\n",
       "    <tr>\n",
       "      <td>std</td>\n",
       "      <td>257.353842</td>\n",
       "      <td>0.486592</td>\n",
       "      <td>0.836071</td>\n",
       "      <td>14.526497</td>\n",
       "      <td>1.102743</td>\n",
       "      <td>0.806057</td>\n",
       "      <td>49.693429</td>\n",
       "      <td>0.765188</td>\n",
       "      <td>0.489615</td>\n",
       "    </tr>\n",
       "    <tr>\n",
       "      <td>min</td>\n",
       "      <td>1.000000</td>\n",
       "      <td>0.000000</td>\n",
       "      <td>1.000000</td>\n",
       "      <td>0.420000</td>\n",
       "      <td>0.000000</td>\n",
       "      <td>0.000000</td>\n",
       "      <td>0.000000</td>\n",
       "      <td>0.000000</td>\n",
       "      <td>0.000000</td>\n",
       "    </tr>\n",
       "    <tr>\n",
       "      <td>25%</td>\n",
       "      <td>223.500000</td>\n",
       "      <td>0.000000</td>\n",
       "      <td>2.000000</td>\n",
       "      <td>20.125000</td>\n",
       "      <td>0.000000</td>\n",
       "      <td>0.000000</td>\n",
       "      <td>7.910400</td>\n",
       "      <td>3.000000</td>\n",
       "      <td>0.000000</td>\n",
       "    </tr>\n",
       "    <tr>\n",
       "      <td>50%</td>\n",
       "      <td>446.000000</td>\n",
       "      <td>0.000000</td>\n",
       "      <td>3.000000</td>\n",
       "      <td>28.000000</td>\n",
       "      <td>0.000000</td>\n",
       "      <td>0.000000</td>\n",
       "      <td>14.454200</td>\n",
       "      <td>3.000000</td>\n",
       "      <td>1.000000</td>\n",
       "    </tr>\n",
       "    <tr>\n",
       "      <td>75%</td>\n",
       "      <td>668.500000</td>\n",
       "      <td>1.000000</td>\n",
       "      <td>3.000000</td>\n",
       "      <td>38.000000</td>\n",
       "      <td>1.000000</td>\n",
       "      <td>0.000000</td>\n",
       "      <td>31.000000</td>\n",
       "      <td>3.000000</td>\n",
       "      <td>1.000000</td>\n",
       "    </tr>\n",
       "    <tr>\n",
       "      <td>max</td>\n",
       "      <td>891.000000</td>\n",
       "      <td>1.000000</td>\n",
       "      <td>3.000000</td>\n",
       "      <td>80.000000</td>\n",
       "      <td>8.000000</td>\n",
       "      <td>6.000000</td>\n",
       "      <td>512.329200</td>\n",
       "      <td>4.000000</td>\n",
       "      <td>1.000000</td>\n",
       "    </tr>\n",
       "  </tbody>\n",
       "</table>\n",
       "</div>"
      ],
      "text/plain": [
       "       PassengerId    Survived      Pclass         Age       SibSp  \\\n",
       "count   891.000000  891.000000  891.000000  714.000000  891.000000   \n",
       "mean    446.000000    0.383838    2.308642   29.699118    0.523008   \n",
       "std     257.353842    0.486592    0.836071   14.526497    1.102743   \n",
       "min       1.000000    0.000000    1.000000    0.420000    0.000000   \n",
       "25%     223.500000    0.000000    2.000000   20.125000    0.000000   \n",
       "50%     446.000000    0.000000    3.000000   28.000000    0.000000   \n",
       "75%     668.500000    1.000000    3.000000   38.000000    1.000000   \n",
       "max     891.000000    1.000000    3.000000   80.000000    8.000000   \n",
       "\n",
       "            Parch        Fare  AgeGroupSort  TravelAlone  \n",
       "count  891.000000  891.000000    891.000000   891.000000  \n",
       "mean     0.381594   32.204208      2.775533     0.602694  \n",
       "std      0.806057   49.693429      0.765188     0.489615  \n",
       "min      0.000000    0.000000      0.000000     0.000000  \n",
       "25%      0.000000    7.910400      3.000000     0.000000  \n",
       "50%      0.000000   14.454200      3.000000     1.000000  \n",
       "75%      0.000000   31.000000      3.000000     1.000000  \n",
       "max      6.000000  512.329200      4.000000     1.000000  "
      ]
     },
     "execution_count": 17,
     "metadata": {},
     "output_type": "execute_result"
    }
   ],
   "source": [
    "#### use describe() to get the summary of the Fare variable\n",
    "titanic.describe()\n",
    "\n",
    "### draw an histogram for the Fare variable. \n",
    "\n"
   ]
  },
  {
   "cell_type": "markdown",
   "metadata": {},
   "source": [
    "How many individuals didn't paid for their ticket?\n",
    " \n",
    "Does this affected their survival?"
   ]
  },
  {
   "cell_type": "code",
   "execution_count": 18,
   "metadata": {},
   "outputs": [
    {
     "name": "stdout",
     "output_type": "stream",
     "text": [
      "     PassengerId                              Name   Age  Survived\n",
      "179          180               Leonard, Mr. Lionel  36.0         0\n",
      "263          264             Harrison, Mr. William  40.0         0\n",
      "271          272      Tornquist, Mr. William Henry  25.0         1\n",
      "277          278       Parkes, Mr. Francis \"Frank\"   NaN         0\n",
      "302          303   Johnson, Mr. William Cahoone Jr  19.0         0\n",
      "413          414    Cunningham, Mr. Alfred Fleming   NaN         0\n",
      "466          467             Campbell, Mr. William   NaN         0\n",
      "481          482  Frost, Mr. Anthony Wood \"Archie\"   NaN         0\n",
      "597          598               Johnson, Mr. Alfred  49.0         0\n",
      "633          634     Parr, Mr. William Henry Marsh   NaN         0\n",
      "674          675        Watson, Mr. Ennis Hastings   NaN         0\n",
      "732          733              Knight, Mr. Robert J   NaN         0\n",
      "806          807            Andrews, Mr. Thomas Jr  39.0         0\n",
      "815          816                  Fry, Mr. Richard   NaN         0\n",
      "822          823   Reuchlin, Jonkheer. John George  38.0         0\n",
      "15\n"
     ]
    }
   ],
   "source": [
    "### get the number of those with a Fare == 0\n",
    "zero_fare = titanic.loc[titanic['Fare'] == 0, ['PassengerId','Name','Age','Survived']]\n",
    "print(zero_fare)\n",
    "print(len(zero_fare))"
   ]
  },
  {
   "cell_type": "code",
   "execution_count": 19,
   "metadata": {},
   "outputs": [
    {
     "data": {
      "text/html": [
       "<div>\n",
       "<style scoped>\n",
       "    .dataframe tbody tr th:only-of-type {\n",
       "        vertical-align: middle;\n",
       "    }\n",
       "\n",
       "    .dataframe tbody tr th {\n",
       "        vertical-align: top;\n",
       "    }\n",
       "\n",
       "    .dataframe thead tr th {\n",
       "        text-align: left;\n",
       "    }\n",
       "\n",
       "    .dataframe thead tr:last-of-type th {\n",
       "        text-align: right;\n",
       "    }\n",
       "</style>\n",
       "<table border=\"1\" class=\"dataframe\">\n",
       "  <thead>\n",
       "    <tr>\n",
       "      <th></th>\n",
       "      <th colspan=\"3\" halign=\"left\">Survived</th>\n",
       "    </tr>\n",
       "    <tr>\n",
       "      <th></th>\n",
       "      <th>count</th>\n",
       "      <th>sum</th>\n",
       "      <th>mean</th>\n",
       "    </tr>\n",
       "    <tr>\n",
       "      <th>Gratis</th>\n",
       "      <th></th>\n",
       "      <th></th>\n",
       "      <th></th>\n",
       "    </tr>\n",
       "  </thead>\n",
       "  <tbody>\n",
       "    <tr>\n",
       "      <td>False</td>\n",
       "      <td>876</td>\n",
       "      <td>341</td>\n",
       "      <td>0.389269</td>\n",
       "    </tr>\n",
       "    <tr>\n",
       "      <td>True</td>\n",
       "      <td>15</td>\n",
       "      <td>1</td>\n",
       "      <td>0.066667</td>\n",
       "    </tr>\n",
       "  </tbody>\n",
       "</table>\n",
       "</div>"
      ],
      "text/plain": [
       "       Survived               \n",
       "          count  sum      mean\n",
       "Gratis                        \n",
       "False       876  341  0.389269\n",
       "True         15    1  0.066667"
      ]
     },
     "execution_count": 19,
     "metadata": {},
     "output_type": "execute_result"
    }
   ],
   "source": [
    "### Does this affected their survival?\n",
    "titanic['Gratis'] = False\n",
    "titanic.loc[(titanic.Fare == 0), 'Gratis'] = True\n",
    "titanic.groupby([\"Gratis\"]).agg({'Survived':['count','sum','mean']})\n",
    "### Yes, it is"
   ]
  },
  {
   "cell_type": "markdown",
   "metadata": {},
   "source": [
    "Where there differences in fare rates among the same ticket classes? \n",
    " \n",
    "If the answer was yes, does those differences affected the survival of individuals?"
   ]
  },
  {
   "cell_type": "code",
   "execution_count": 20,
   "metadata": {},
   "outputs": [
    {
     "data": {
      "text/html": [
       "<div>\n",
       "<style scoped>\n",
       "    .dataframe tbody tr th:only-of-type {\n",
       "        vertical-align: middle;\n",
       "    }\n",
       "\n",
       "    .dataframe tbody tr th {\n",
       "        vertical-align: top;\n",
       "    }\n",
       "\n",
       "    .dataframe thead th {\n",
       "        text-align: right;\n",
       "    }\n",
       "</style>\n",
       "<table border=\"1\" class=\"dataframe\">\n",
       "  <thead>\n",
       "    <tr style=\"text-align: right;\">\n",
       "      <th></th>\n",
       "      <th>count</th>\n",
       "      <th>mean</th>\n",
       "      <th>std</th>\n",
       "      <th>min</th>\n",
       "      <th>25%</th>\n",
       "      <th>50%</th>\n",
       "      <th>75%</th>\n",
       "      <th>max</th>\n",
       "    </tr>\n",
       "    <tr>\n",
       "      <th>Pclass</th>\n",
       "      <th></th>\n",
       "      <th></th>\n",
       "      <th></th>\n",
       "      <th></th>\n",
       "      <th></th>\n",
       "      <th></th>\n",
       "      <th></th>\n",
       "      <th></th>\n",
       "    </tr>\n",
       "  </thead>\n",
       "  <tbody>\n",
       "    <tr>\n",
       "      <td>1</td>\n",
       "      <td>216.0</td>\n",
       "      <td>84.154687</td>\n",
       "      <td>78.380373</td>\n",
       "      <td>0.0</td>\n",
       "      <td>30.92395</td>\n",
       "      <td>60.2875</td>\n",
       "      <td>93.5</td>\n",
       "      <td>512.3292</td>\n",
       "    </tr>\n",
       "    <tr>\n",
       "      <td>2</td>\n",
       "      <td>184.0</td>\n",
       "      <td>20.662183</td>\n",
       "      <td>13.417399</td>\n",
       "      <td>0.0</td>\n",
       "      <td>13.00000</td>\n",
       "      <td>14.2500</td>\n",
       "      <td>26.0</td>\n",
       "      <td>73.5000</td>\n",
       "    </tr>\n",
       "    <tr>\n",
       "      <td>3</td>\n",
       "      <td>491.0</td>\n",
       "      <td>13.675550</td>\n",
       "      <td>11.778142</td>\n",
       "      <td>0.0</td>\n",
       "      <td>7.75000</td>\n",
       "      <td>8.0500</td>\n",
       "      <td>15.5</td>\n",
       "      <td>69.5500</td>\n",
       "    </tr>\n",
       "  </tbody>\n",
       "</table>\n",
       "</div>"
      ],
      "text/plain": [
       "        count       mean        std  min       25%      50%   75%       max\n",
       "Pclass                                                                     \n",
       "1       216.0  84.154687  78.380373  0.0  30.92395  60.2875  93.5  512.3292\n",
       "2       184.0  20.662183  13.417399  0.0  13.00000  14.2500  26.0   73.5000\n",
       "3       491.0  13.675550  11.778142  0.0   7.75000   8.0500  15.5   69.5500"
      ]
     },
     "execution_count": 20,
     "metadata": {},
     "output_type": "execute_result"
    }
   ],
   "source": [
    "byPclass = titanic.groupby('Pclass')\n",
    "byPclass['Fare'].describe()\n"
   ]
  },
  {
   "cell_type": "code",
   "execution_count": 21,
   "metadata": {},
   "outputs": [
    {
     "ename": "SyntaxError",
<<<<<<< HEAD
     "evalue": "invalid syntax (<ipython-input-21-636e6e681d07>, line 6)",
     "output_type": "error",
     "traceback": [
      "\u001b[1;36m  File \u001b[1;32m\"<ipython-input-21-636e6e681d07>\"\u001b[1;36m, line \u001b[1;32m6\u001b[0m\n\u001b[1;33m    ....\u001b[0m\n\u001b[1;37m        ^\u001b[0m\n\u001b[1;31mSyntaxError\u001b[0m\u001b[1;31m:\u001b[0m invalid syntax\n"
=======
     "evalue": "invalid syntax (<ipython-input-21-66ea9f5d25a0>, line 6)",
     "output_type": "error",
     "traceback": [
      "\u001b[0;36m  File \u001b[0;32m\"<ipython-input-21-66ea9f5d25a0>\"\u001b[0;36m, line \u001b[0;32m6\u001b[0m\n\u001b[0;31m    ....\u001b[0m\n\u001b[0m        ^\u001b[0m\n\u001b[0;31mSyntaxError\u001b[0m\u001b[0;31m:\u001b[0m invalid syntax\n"
>>>>>>> 42ecbe735c8a9aedef7fa256c57504b99517a953
     ]
    }
   ],
   "source": [
    "### We will use the data on the desctiptive table to divide the paid fare:\n",
    "### Those who paid more than the 75% where considered 'Overpaid', \n",
    "### If paid less than the 25% where categorized as 'Underpaid', else 'Normal' fare\n",
    "titanic['FareGroup'] = 'Normal'\n",
    "titanic.loc[(titanic.Fare > 0), 'FareGroup'] = 0\n",
    "....\n",
    "\n"
   ]
  },
  {
   "cell_type": "markdown",
   "metadata": {},
   "source": [
    "Now we will check how many survived by Pclass and Fategroup:"
   ]
  },
  {
   "cell_type": "code",
   "execution_count": null,
   "metadata": {},
   "outputs": [],
   "source": [
    "## use groupby() and agg() to get the table bellow\n",
    "...\n"
   ]
  },
  {
   "cell_type": "markdown",
   "metadata": {},
   "source": [
    "Survived\n",
    "\n",
    "Pclass\tFareGroup count\tsum\tmean\n",
    "    1\tNormal\t   109\t72\t0.660550\n",
    "        Overpaid\t53\t39\t0.735849\n",
    "        Underpaid\t54\t25\t0.462963\n",
    "    2\tNormal\t   103\t51\t0.495146\n",
    "        Overpaid\t39\t23\t0.589744\n",
    "        Underpaid\t42\t13\t0.309524\n",
    "    3\tNormal\t   277\t68\t0.245487\n",
    "        Overpaid   120\t34\t0.283333\n",
    "        Underpaid\t94\t17\t0.180851"
   ]
  },
  {
   "cell_type": "markdown",
   "metadata": {},
   "source": [
    "#### The title passanger had and survival \n",
    "\n",
    "Which were the five most common titles passanger had? (Sir, Mr, Mrs, etc)?\n",
    " \n",
    "For this part we will take the 'Name' column and will split all the words in the name by the white space.\n",
    " \n",
    "Then we will join all the words and calculate the frequency of appearance of each world in descending order.\n",
    " \n",
    "We will take the five most common words (must be titles), and with them we will create a new column. Then we will procede as we did in the other analyses.\n"
   ]
  },
  {
   "cell_type": "code",
   "execution_count": 29,
   "metadata": {},
   "outputs": [],
   "source": [
    "import string"
   ]
  },
  {
   "cell_type": "code",
   "execution_count": 23,
   "metadata": {},
   "outputs": [
    {
     "name": "stdout",
     "output_type": "stream",
     "text": [
      "Braund, Mr. Owen Harris Cumings, Mrs. John Bradley (Florence Briggs Thayer) Heikkinen, Miss. Laina F\n"
     ]
    }
   ],
   "source": [
    "## Join all the words in the 'Name' column\n",
    "words = ' '.join(titanic['Name'])\n",
    "len(words)\n",
    "print(words[0:100])"
   ]
  },
  {
   "cell_type": "code",
   "execution_count": 31,
   "metadata": {},
   "outputs": [
    {
     "ename": "AttributeError",
     "evalue": "module 'string' has no attribute 'maketrans'",
     "output_type": "error",
     "traceback": [
      "\u001b[1;31m---------------------------------------------------------------------------\u001b[0m",
      "\u001b[1;31mAttributeError\u001b[0m                            Traceback (most recent call last)",
      "\u001b[1;32m<ipython-input-31-7e9c721ff995>\u001b[0m in \u001b[0;36m<module>\u001b[1;34m\u001b[0m\n\u001b[0;32m      1\u001b[0m \u001b[1;31m## the following code will delete the punctuation\u001b[0m\u001b[1;33m\u001b[0m\u001b[1;33m\u001b[0m\u001b[1;33m\u001b[0m\u001b[0m\n\u001b[0;32m      2\u001b[0m \u001b[1;33m\u001b[0m\u001b[0m\n\u001b[1;32m----> 3\u001b[1;33m \u001b[0mtable\u001b[0m \u001b[1;33m=\u001b[0m \u001b[0mstr\u001b[0m\u001b[1;33m.\u001b[0m\u001b[0mmaketrans\u001b[0m\u001b[1;33m(\u001b[0m\u001b[1;33m{\u001b[0m\u001b[0mkey\u001b[0m\u001b[1;33m:\u001b[0m \u001b[1;32mNone\u001b[0m \u001b[1;32mfor\u001b[0m \u001b[0mkey\u001b[0m \u001b[1;32min\u001b[0m \u001b[0mstring\u001b[0m\u001b[1;33m.\u001b[0m\u001b[0mpunctuation\u001b[0m\u001b[1;33m}\u001b[0m\u001b[1;33m)\u001b[0m\u001b[1;33m\u001b[0m\u001b[1;33m\u001b[0m\u001b[0m\n\u001b[0m\u001b[0;32m      4\u001b[0m \u001b[0mwords\u001b[0m \u001b[1;33m=\u001b[0m \u001b[0mwords\u001b[0m\u001b[1;33m.\u001b[0m\u001b[0mtranslate\u001b[0m\u001b[1;33m(\u001b[0m\u001b[0mtable\u001b[0m\u001b[1;33m)\u001b[0m\u001b[1;33m\u001b[0m\u001b[1;33m\u001b[0m\u001b[0m\n\u001b[0;32m      5\u001b[0m \u001b[0mprint\u001b[0m\u001b[1;33m(\u001b[0m\u001b[0mwords\u001b[0m\u001b[1;33m[\u001b[0m\u001b[1;36m0\u001b[0m\u001b[1;33m:\u001b[0m\u001b[1;36m100\u001b[0m\u001b[1;33m]\u001b[0m\u001b[1;33m)\u001b[0m\u001b[1;33m\u001b[0m\u001b[1;33m\u001b[0m\u001b[0m\n",
      "\u001b[1;31mAttributeError\u001b[0m: module 'string' has no attribute 'maketrans'"
     ]
    }
   ],
   "source": [
    "## the following code will delete the punctuation\n",
    "\n",
    "table = str.maketrans({key: None for key in string.punctuation})\n",
    "words = words.translate(table)\n",
    "print(words[0:100])"
   ]
  },
  {
   "cell_type": "code",
   "execution_count": 25,
   "metadata": {},
   "outputs": [
    {
     "name": "stdout",
     "output_type": "stream",
     "text": [
      "<class 'list'>\n",
      "['Mr', 'Owen', 'Harris', 'Cumings', 'Mrs', 'John', 'Bradley', 'Florence', 'Briggs']\n"
     ]
    }
   ],
   "source": [
    "## now we will split by the white spaces the words string into a list\n",
    "wordlist = words.split()\n",
    "print(type(wordlist))\n",
    "print(wordlist[1:10])"
   ]
  },
  {
   "cell_type": "code",
   "execution_count": 26,
   "metadata": {},
   "outputs": [
    {
     "name": "stdout",
     "output_type": "stream",
     "text": [
      "1526\n",
      "1526\n",
      "1526\n",
      "<class 'dict_keys'>\n",
      "<class 'dict_values'>\n"
     ]
    }
   ],
   "source": [
    "## We will count each unique word and show the top 20 in descending order\n",
    "## There are lots of ways to this. We will generate a dictionary to make the counts\n",
    "\n",
    "worddict = {x:wordlist.count(x) for x in wordlist}\n",
    "\n",
    "wordunq, wordcnt = worddict.keys(), worddict.values()\n",
    "\n",
    "print(len(worddict))\n",
    "print(len(wordunq))\n",
    "print(len(wordcnt))\n",
    "\n",
    "#wordunq.tolist()\n",
    "\n",
    "print(type(wordunq))\n",
    "print(type(wordcnt))\n"
   ]
  },
  {
   "cell_type": "code",
   "execution_count": null,
   "metadata": {},
   "outputs": [],
   "source": [
    "## now we tranform the keys and values into lists and create with them a DataFrame\n",
    "\n",
    "...\n",
    "\n",
    "...\n"
   ]
  },
  {
   "cell_type": "markdown",
   "metadata": {},
   "source": [
    "Answer:\n",
    "    quantity\tword\n",
    " \t521\t        Mr\n",
    "\t182\t        Miss\n",
    "\t129\t        Mrs\n",
    "\t64\t        William\n",
    "\t44\t        John\n",
    "\t40\t        Master"
   ]
  },
  {
   "cell_type": "markdown",
   "metadata": {},
   "source": [
    "We have shown here that the most common titles were Mr (521), Miss (182), Mrs (129) and Master (40). \n",
    " \n",
    "This totals 872 out of 891 passengers (97.9%).\n",
    " \n",
    "Now we will create a new variable with those titles and check for differences on survival among them.\n",
    " \n",
    "We can use the following function to decide if a title is present on a name:\n",
    "\n",
    "<code> \n",
    " titanic['Name'].str.contains('Mr')\n",
    "</code>"
   ]
  },
  {
   "cell_type": "code",
   "execution_count": null,
   "metadata": {},
   "outputs": [],
   "source": [
    "titanic['Title'] = 'Other'\n",
    "\n",
    "...\n",
    "\n",
    "## then use groupby() and agg() to get the table bellow\n",
    "...\n"
   ]
  },
  {
   "cell_type": "markdown",
   "metadata": {},
   "source": [
    "Survived\n",
    "\n",
    "Title\tcount\tsum\tmean\t\t\n",
    "Master\t  40\t23\t0.575000\n",
    "Miss\t 180\t126\t0.700000\n",
    "Mr\t     518\t82\t0.158301\n",
    "Mrs\t     130\t103\t0.792308\n",
    "Other\t  24\t9\t0.375000"
   ]
  }
 ],
 "metadata": {
  "kernelspec": {
   "display_name": "Python 3",
   "language": "python",
   "name": "python3"
  },
  "language_info": {
   "codemirror_mode": {
    "name": "ipython",
    "version": 3
   },
   "file_extension": ".py",
   "mimetype": "text/x-python",
   "name": "python",
   "nbconvert_exporter": "python",
   "pygments_lexer": "ipython3",
<<<<<<< HEAD
   "version": "3.7.6"
=======
<<<<<<< HEAD
   "version": "3.6.9"
=======
   "version": "3.8.3"
>>>>>>> e1b98252d4501178ba6cd5776557266aa8b87061
>>>>>>> 42ecbe735c8a9aedef7fa256c57504b99517a953
  }
 },
 "nbformat": 4,
 "nbformat_minor": 2
}
